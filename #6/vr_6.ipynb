{
 "cells": [
  {
   "cell_type": "markdown",
   "metadata": {},
   "source": [
    "<div style=\"border:solid Chocolate 2px; padding: 40px\">\n",
    "\n",
    "Привет, меня зовут Александр Куимов. Я буду ревьюером твоего проекта. Ты можешь обращаться ко мне на \"ты\"😏 Надеюсь, тебя также не смутит, если я буду обращаться к тебе на \"ты\", но если это неудобно, обязательно скажи об этом!\n",
    "\n",
    "**Пожалуйста, не перемещай, не изменяй и не удаляй мои комментарии**, они будут особенно полезны для нашей работы в случае повторной проверки проекта. \n",
    "\n",
    "Прошу реагировать на все мои комментарии, по которым ты вносишь правки в проект, своими комментариями по шаблону, показанному чуть ниже. На каждое мое замечание нужно отвечать комментарием студента в маркдаун ячейке **ниже моей. Это нужно, чтобы не создавалась путаница**.😉\n",
    "\n",
    "Ты можешь найти мои комментарии, обозначенные <font color='green'>зеленым</font>, <font color='gold'>желтым</font> и <font color='red'>красным</font> цветами, например:\n",
    "\n",
    "<br/>\n",
    " \n",
    "<div class=\"alert alert-success\">\n",
    "<h2> Комментарий ревьюера <a class=\"tocSkip\"> </h2>\n",
    "\n",
    "<b>Все отлично!👍:</b> В случае, если решение на отдельном шаге является полностью правильным.\n",
    "</div>\n",
    "\n",
    "<br/>\n",
    " \n",
    "<div class=\"alert alert-warning\">\n",
    "    <h2> Комментарий ревьюера <a class=\"tocSkip\"> </h2>\n",
    "    \n",
    "<b>Некоторые замечания и рекомендации💡:</b> В случае, когда решение на отдельном шаге станет еще лучше, если внести небольшие коррективы.\n",
    "</div>\n",
    "\n",
    "\n",
    "<br/>\n",
    "<div class=\"alert alert-block alert-danger\">\n",
    "<h2> Комментарий ревьюера <a class=\"tocSkip\"></h2>\n",
    "\n",
    "    \n",
    "<b>На доработку🤔:</b>\n",
    " В случае, когда решение на отдельном шаге требует существенной переработки и внесения правок. Напоминаю, что проект не может быть принят с первого раза, если ревью содержит комментарии, рекомендующие доработать шаги.\n",
    "</div>\n",
    "    \n",
    "    \n",
    "<br/>    \n",
    "<div class=\"alert alert-info\">\n",
    "<h2> Комментарий студента: <a class=\"tocSkip\"> </h2>\n",
    "\n",
    "<b>👋:</b> В такой цветовой ячейке - образце я прошу тебя оставлять твои комментарии. **Обязательно сохрани в нем заголовок \"Комментарий студента\" в каждой твоей ячейке**. Если исправляешь проект во второй раз и далее, не забывай пожалуйста указывать номер итерации, например, \"Комментарий студента 2\". У меня к этому моменту уже появится нумерация в моих комментариях.\n",
    "</div> \n",
    "\n",
    "<br/>    \n",
    "    \n",
    "Увидев у тебя неточность, в первый раз я лишь укажу на ее наличие и дам тебе возможность самому найти и исправить ее. На реальной работе твой руководитель будет поступать также, и я пытаюсь подготовить тебя именно к работе датасаентистом. Но если ты пока не справишься с такой задачей - при следующей проверке я дам более точную подсказку!🤓\n",
    "    \n",
    "   **Если у тебя будут возникают какие-то сложности, связанные с выполнением этого проекта**, то я смогу отвечать тебе на вопросы только в ходе ревью до 24 часов на основании соглашения об уровне услуг SLA (это может быть любое время суток, даже ночью), и к сожалению, каждые из таких ревью расходуют доступные иттерации (их всего 6). \n",
    "Лучшее решение в подобных случаях - обратиться за помощью к преподавателю по проектам в треде для получения оперативных консультаций. На всякий случай акцентирую, что преподаватель отвечает в тредах, а в личку не отвечает. В редких случаях может возникнуть ситуация, когда преподаватель не ответил вовремя, в таком случае рекомендую связаться с куратором для оперативного решения вопроса.\n",
    "    \n",
    "   **Если у тебя будут возникают вопросы, которые не касаются проекта и моих комментариев в нем**, а касаются теории и спринта, то я смогу кратко тебе ответить, а подробнее на вопрос тебе ответит преподаватель и по запросу сможет подобрать материал адекватный текущему прогрессу курса (только нужно написать ему в тред) 🤓   "
   ]
  },
  {
   "cell_type": "markdown",
   "metadata": {
    "toc": true
   },
   "source": [
    "<h1>Содержание<span class=\"tocSkip\"></span></h1>\n",
    "<div class=\"toc\"><ul class=\"toc-item\"><li><span><a href=\"#Подготовка\" data-toc-modified-id=\"Подготовка-1\"><span class=\"toc-item-num\">1&nbsp;&nbsp;</span>Подготовка</a></span><ul class=\"toc-item\"><li><span><a href=\"#Установка-модулей-и-импорт-библиотек\" data-toc-modified-id=\"Установка-модулей-и-импорт-библиотек-1.1\"><span class=\"toc-item-num\">1.1&nbsp;&nbsp;</span>Установка модулей и импорт библиотек</a></span></li><li><span><a href=\"#Загрузка-датасета\" data-toc-modified-id=\"Загрузка-датасета-1.2\"><span class=\"toc-item-num\">1.2&nbsp;&nbsp;</span>Загрузка датасета</a></span></li><li><span><a href=\"#Обзор-датасета\" data-toc-modified-id=\"Обзор-датасета-1.3\"><span class=\"toc-item-num\">1.3&nbsp;&nbsp;</span>Обзор датасета</a></span></li><li><span><a href=\"#Промежуточный-вывод\" data-toc-modified-id=\"Промежуточный-вывод-1.4\"><span class=\"toc-item-num\">1.4&nbsp;&nbsp;</span>Промежуточный вывод</a></span></li></ul></li><li><span><a href=\"#Анализ\" data-toc-modified-id=\"Анализ-2\"><span class=\"toc-item-num\">2&nbsp;&nbsp;</span>Анализ</a></span><ul class=\"toc-item\"><li><span><a href=\"#Общая-динамика-заказов\" data-toc-modified-id=\"Общая-динамика-заказов-2.1\"><span class=\"toc-item-num\">2.1&nbsp;&nbsp;</span>Общая динамика заказов</a></span></li><li><span><a href=\"#Скользящее-среднее\" data-toc-modified-id=\"Скользящее-среднее-2.2\"><span class=\"toc-item-num\">2.2&nbsp;&nbsp;</span>Скользящее среднее</a></span></li><li><span><a href=\"#Проверка-сезонности-и-тренда\" data-toc-modified-id=\"Проверка-сезонности-и-тренда-2.3\"><span class=\"toc-item-num\">2.3&nbsp;&nbsp;</span>Проверка сезонности и тренда</a></span></li><li><span><a href=\"#Промежуточный-вывод\" data-toc-modified-id=\"Промежуточный-вывод-2.4\"><span class=\"toc-item-num\">2.4&nbsp;&nbsp;</span>Промежуточный вывод</a></span></li></ul></li><li><span><a href=\"#Обучение\" data-toc-modified-id=\"Обучение-3\"><span class=\"toc-item-num\">3&nbsp;&nbsp;</span>Обучение</a></span><ul class=\"toc-item\"><li><span><a href=\"#Feature-Engineering\" data-toc-modified-id=\"Feature-Engineering-3.1\"><span class=\"toc-item-num\">3.1&nbsp;&nbsp;</span>Feature Engineering</a></span></li><li><span><a href=\"#Подготовка--к-обучению\" data-toc-modified-id=\"Подготовка--к-обучению-3.2\"><span class=\"toc-item-num\">3.2&nbsp;&nbsp;</span>Подготовка  к обучению</a></span></li><li><span><a href=\"#Модель-1:-Linear-Regression\" data-toc-modified-id=\"Модель-1:-Linear-Regression-3.3\"><span class=\"toc-item-num\">3.3&nbsp;&nbsp;</span>Модель 1: Linear Regression</a></span></li><li><span><a href=\"#Модель-2:-Decision-Tree-Regressor\" data-toc-modified-id=\"Модель-2:-Decision-Tree-Regressor-3.4\"><span class=\"toc-item-num\">3.4&nbsp;&nbsp;</span>Модель 2: Decision Tree Regressor</a></span></li><li><span><a href=\"#Модель-3:-CatBoost-Regressor\" data-toc-modified-id=\"Модель-3:-CatBoost-Regressor-3.5\"><span class=\"toc-item-num\">3.5&nbsp;&nbsp;</span>Модель 3: CatBoost Regressor</a></span></li><li><span><a href=\"#Анализ-моделей\" data-toc-modified-id=\"Анализ-моделей-3.6\"><span class=\"toc-item-num\">3.6&nbsp;&nbsp;</span>Анализ моделей</a></span></li></ul></li><li><span><a href=\"#Тестирование\" data-toc-modified-id=\"Тестирование-4\"><span class=\"toc-item-num\">4&nbsp;&nbsp;</span>Тестирование</a></span></li><li><span><a href=\"#Чек-лист-проверки\" data-toc-modified-id=\"Чек-лист-проверки-5\"><span class=\"toc-item-num\">5&nbsp;&nbsp;</span>Чек-лист проверки</a></span></li></ul></div>"
   ]
  },
  {
   "cell_type": "markdown",
   "metadata": {},
   "source": [
    "#  Прогнозирование заказов такси"
   ]
  },
  {
   "cell_type": "markdown",
   "metadata": {},
   "source": [
    "Компания «Чётенькое такси» собрала исторические данные о заказах такси в аэропортах. Чтобы привлекать больше водителей в период пиковой нагрузки, нужно спрогнозировать количество заказов такси на следующий час. Постройте модель для такого предсказания.\n",
    "\n",
    "Значение метрики *RMSE* на тестовой выборке должно быть не больше 48.\n",
    "\n",
    "Вам нужно:\n",
    "\n",
    "1. Загрузить данные и выполнить их ресемплирование по одному часу.\n",
    "2. Проанализировать данные.\n",
    "3. Обучить разные модели с различными гиперпараметрами. Сделать тестовую выборку размером 10% от исходных данных.\n",
    "4. Проверить данные на тестовой выборке и сделать выводы.\n",
    "\n",
    "\n",
    "Данные лежат в файле `taxi.csv`. Количество заказов находится в столбце `num_orders` (от англ. *number of orders*, «число заказов»)."
   ]
  },
  {
   "cell_type": "markdown",
   "metadata": {},
   "source": [
    "## Подготовка"
   ]
  },
  {
   "cell_type": "markdown",
   "metadata": {},
   "source": [
    "### Установка модулей и импорт библиотек"
   ]
  },
  {
   "cell_type": "code",
   "execution_count": 1,
   "metadata": {},
   "outputs": [],
   "source": [
    "!pip install catboost -q"
   ]
  },
  {
   "cell_type": "code",
   "execution_count": 2,
   "metadata": {},
   "outputs": [],
   "source": [
    "import pandas as pd\n",
    "import matplotlib.pyplot as plt\n",
    "import scipy.stats as stats\n",
    "import numpy as np\n",
    "import seaborn as sns\n",
    "%matplotlib inline\n",
    "\n",
    "\n",
    "from statsmodels.tsa.seasonal import seasonal_decompose\n",
    "from sklearn.model_selection import train_test_split\n",
    "from sklearn.pipeline import Pipeline\n",
    "from sklearn.preprocessing import StandardScaler\n",
    "from sklearn.metrics import mean_squared_error\n",
    "\n",
    "from sklearn.model_selection import (\n",
    "    RandomizedSearchCV, \n",
    "    cross_val_score,\n",
    "    TimeSeriesSplit\n",
    ")\n",
    "from sklearn.tree import DecisionTreeRegressor\n",
    "from sklearn.linear_model import LinearRegression\n",
    "from catboost import CatBoostRegressor\n",
    "\n",
    "RANDOM_STATE = 42\n",
    "TEST_SIZE = 0.1"
   ]
  },
  {
   "cell_type": "markdown",
   "metadata": {},
   "source": [
    "### Загрузка датасета"
   ]
  },
  {
   "cell_type": "code",
   "execution_count": 3,
   "metadata": {},
   "outputs": [
    {
     "name": "stdout",
     "output_type": "stream",
     "text": [
      "Датасет успешно загружен.\n",
      "Завершена попытка загрузки файлов.\n"
     ]
    }
   ],
   "source": [
    "try:\n",
    "    data = pd.read_csv('/datasets/taxi.csv')\n",
    "except Exception as e:\n",
    "    print(f'Ошибка при загрузке датасета: {e}')\n",
    "else:\n",
    "    print('Датасет успешно загружен.')\n",
    "finally:\n",
    "    print('Завершена попытка загрузки файлов.')"
   ]
  },
  {
   "cell_type": "markdown",
   "metadata": {},
   "source": [
    "### Обзор датасета"
   ]
  },
  {
   "cell_type": "code",
   "execution_count": 4,
   "metadata": {},
   "outputs": [
    {
     "data": {
      "text/html": [
       "<div>\n",
       "<style scoped>\n",
       "    .dataframe tbody tr th:only-of-type {\n",
       "        vertical-align: middle;\n",
       "    }\n",
       "\n",
       "    .dataframe tbody tr th {\n",
       "        vertical-align: top;\n",
       "    }\n",
       "\n",
       "    .dataframe thead th {\n",
       "        text-align: right;\n",
       "    }\n",
       "</style>\n",
       "<table border=\"1\" class=\"dataframe\">\n",
       "  <thead>\n",
       "    <tr style=\"text-align: right;\">\n",
       "      <th></th>\n",
       "      <th>datetime</th>\n",
       "      <th>num_orders</th>\n",
       "    </tr>\n",
       "  </thead>\n",
       "  <tbody>\n",
       "    <tr>\n",
       "      <th>0</th>\n",
       "      <td>2018-03-01 00:00:00</td>\n",
       "      <td>9</td>\n",
       "    </tr>\n",
       "    <tr>\n",
       "      <th>1</th>\n",
       "      <td>2018-03-01 00:10:00</td>\n",
       "      <td>14</td>\n",
       "    </tr>\n",
       "    <tr>\n",
       "      <th>2</th>\n",
       "      <td>2018-03-01 00:20:00</td>\n",
       "      <td>28</td>\n",
       "    </tr>\n",
       "    <tr>\n",
       "      <th>3</th>\n",
       "      <td>2018-03-01 00:30:00</td>\n",
       "      <td>20</td>\n",
       "    </tr>\n",
       "    <tr>\n",
       "      <th>4</th>\n",
       "      <td>2018-03-01 00:40:00</td>\n",
       "      <td>32</td>\n",
       "    </tr>\n",
       "    <tr>\n",
       "      <th>5</th>\n",
       "      <td>2018-03-01 00:50:00</td>\n",
       "      <td>21</td>\n",
       "    </tr>\n",
       "    <tr>\n",
       "      <th>6</th>\n",
       "      <td>2018-03-01 01:00:00</td>\n",
       "      <td>7</td>\n",
       "    </tr>\n",
       "    <tr>\n",
       "      <th>7</th>\n",
       "      <td>2018-03-01 01:10:00</td>\n",
       "      <td>5</td>\n",
       "    </tr>\n",
       "    <tr>\n",
       "      <th>8</th>\n",
       "      <td>2018-03-01 01:20:00</td>\n",
       "      <td>17</td>\n",
       "    </tr>\n",
       "    <tr>\n",
       "      <th>9</th>\n",
       "      <td>2018-03-01 01:30:00</td>\n",
       "      <td>12</td>\n",
       "    </tr>\n",
       "  </tbody>\n",
       "</table>\n",
       "</div>"
      ],
      "text/plain": [
       "              datetime  num_orders\n",
       "0  2018-03-01 00:00:00           9\n",
       "1  2018-03-01 00:10:00          14\n",
       "2  2018-03-01 00:20:00          28\n",
       "3  2018-03-01 00:30:00          20\n",
       "4  2018-03-01 00:40:00          32\n",
       "5  2018-03-01 00:50:00          21\n",
       "6  2018-03-01 01:00:00           7\n",
       "7  2018-03-01 01:10:00           5\n",
       "8  2018-03-01 01:20:00          17\n",
       "9  2018-03-01 01:30:00          12"
      ]
     },
     "execution_count": 4,
     "metadata": {},
     "output_type": "execute_result"
    }
   ],
   "source": [
    "data.head(10)"
   ]
  },
  {
   "cell_type": "code",
   "execution_count": 5,
   "metadata": {},
   "outputs": [
    {
     "name": "stdout",
     "output_type": "stream",
     "text": [
      "<class 'pandas.core.frame.DataFrame'>\n",
      "RangeIndex: 26496 entries, 0 to 26495\n",
      "Data columns (total 2 columns):\n",
      " #   Column      Non-Null Count  Dtype \n",
      "---  ------      --------------  ----- \n",
      " 0   datetime    26496 non-null  object\n",
      " 1   num_orders  26496 non-null  int64 \n",
      "dtypes: int64(1), object(1)\n",
      "memory usage: 414.1+ KB\n"
     ]
    }
   ],
   "source": [
    "data.info()"
   ]
  },
  {
   "cell_type": "code",
   "execution_count": 6,
   "metadata": {},
   "outputs": [
    {
     "data": {
      "text/html": [
       "<div>\n",
       "<style scoped>\n",
       "    .dataframe tbody tr th:only-of-type {\n",
       "        vertical-align: middle;\n",
       "    }\n",
       "\n",
       "    .dataframe tbody tr th {\n",
       "        vertical-align: top;\n",
       "    }\n",
       "\n",
       "    .dataframe thead th {\n",
       "        text-align: right;\n",
       "    }\n",
       "</style>\n",
       "<table border=\"1\" class=\"dataframe\">\n",
       "  <thead>\n",
       "    <tr style=\"text-align: right;\">\n",
       "      <th></th>\n",
       "      <th>num_orders</th>\n",
       "    </tr>\n",
       "  </thead>\n",
       "  <tbody>\n",
       "    <tr>\n",
       "      <th>count</th>\n",
       "      <td>26496.000000</td>\n",
       "    </tr>\n",
       "    <tr>\n",
       "      <th>mean</th>\n",
       "      <td>14.070463</td>\n",
       "    </tr>\n",
       "    <tr>\n",
       "      <th>std</th>\n",
       "      <td>9.211330</td>\n",
       "    </tr>\n",
       "    <tr>\n",
       "      <th>min</th>\n",
       "      <td>0.000000</td>\n",
       "    </tr>\n",
       "    <tr>\n",
       "      <th>25%</th>\n",
       "      <td>8.000000</td>\n",
       "    </tr>\n",
       "    <tr>\n",
       "      <th>50%</th>\n",
       "      <td>13.000000</td>\n",
       "    </tr>\n",
       "    <tr>\n",
       "      <th>75%</th>\n",
       "      <td>19.000000</td>\n",
       "    </tr>\n",
       "    <tr>\n",
       "      <th>max</th>\n",
       "      <td>119.000000</td>\n",
       "    </tr>\n",
       "  </tbody>\n",
       "</table>\n",
       "</div>"
      ],
      "text/plain": [
       "         num_orders\n",
       "count  26496.000000\n",
       "mean      14.070463\n",
       "std        9.211330\n",
       "min        0.000000\n",
       "25%        8.000000\n",
       "50%       13.000000\n",
       "75%       19.000000\n",
       "max      119.000000"
      ]
     },
     "execution_count": 6,
     "metadata": {},
     "output_type": "execute_result"
    }
   ],
   "source": [
    "data.describe()"
   ]
  },
  {
   "cell_type": "markdown",
   "metadata": {},
   "source": [
    "На данные посмотрели. Пропусков нет - это радует. Далее изменим тип данных в признаке `datetime`, проверим идет ли дата по порядку, установим его как индекс и выполним ресемплирование по часам, так как стоит задача сделать предсказания на следующий час"
   ]
  },
  {
   "cell_type": "code",
   "execution_count": 7,
   "metadata": {},
   "outputs": [],
   "source": [
    "data['datetime'] = pd.to_datetime(data['datetime'])"
   ]
  },
  {
   "cell_type": "code",
   "execution_count": 8,
   "metadata": {},
   "outputs": [],
   "source": [
    "data.set_index('datetime', inplace=True)"
   ]
  },
  {
   "cell_type": "code",
   "execution_count": 9,
   "metadata": {},
   "outputs": [
    {
     "name": "stdout",
     "output_type": "stream",
     "text": [
      "True\n"
     ]
    }
   ],
   "source": [
    "print(data.index.is_monotonic)"
   ]
  },
  {
   "cell_type": "markdown",
   "metadata": {},
   "source": [
    "Даты идут по порядку"
   ]
  },
  {
   "cell_type": "code",
   "execution_count": 10,
   "metadata": {},
   "outputs": [],
   "source": [
    "data = data.resample('1H').sum()"
   ]
  },
  {
   "cell_type": "code",
   "execution_count": 11,
   "metadata": {},
   "outputs": [
    {
     "data": {
      "text/html": [
       "<div>\n",
       "<style scoped>\n",
       "    .dataframe tbody tr th:only-of-type {\n",
       "        vertical-align: middle;\n",
       "    }\n",
       "\n",
       "    .dataframe tbody tr th {\n",
       "        vertical-align: top;\n",
       "    }\n",
       "\n",
       "    .dataframe thead th {\n",
       "        text-align: right;\n",
       "    }\n",
       "</style>\n",
       "<table border=\"1\" class=\"dataframe\">\n",
       "  <thead>\n",
       "    <tr style=\"text-align: right;\">\n",
       "      <th></th>\n",
       "      <th>num_orders</th>\n",
       "    </tr>\n",
       "    <tr>\n",
       "      <th>datetime</th>\n",
       "      <th></th>\n",
       "    </tr>\n",
       "  </thead>\n",
       "  <tbody>\n",
       "    <tr>\n",
       "      <th>2018-03-01 00:00:00</th>\n",
       "      <td>124</td>\n",
       "    </tr>\n",
       "    <tr>\n",
       "      <th>2018-03-01 01:00:00</th>\n",
       "      <td>85</td>\n",
       "    </tr>\n",
       "    <tr>\n",
       "      <th>2018-03-01 02:00:00</th>\n",
       "      <td>71</td>\n",
       "    </tr>\n",
       "    <tr>\n",
       "      <th>2018-03-01 03:00:00</th>\n",
       "      <td>66</td>\n",
       "    </tr>\n",
       "    <tr>\n",
       "      <th>2018-03-01 04:00:00</th>\n",
       "      <td>43</td>\n",
       "    </tr>\n",
       "    <tr>\n",
       "      <th>...</th>\n",
       "      <td>...</td>\n",
       "    </tr>\n",
       "    <tr>\n",
       "      <th>2018-08-31 19:00:00</th>\n",
       "      <td>136</td>\n",
       "    </tr>\n",
       "    <tr>\n",
       "      <th>2018-08-31 20:00:00</th>\n",
       "      <td>154</td>\n",
       "    </tr>\n",
       "    <tr>\n",
       "      <th>2018-08-31 21:00:00</th>\n",
       "      <td>159</td>\n",
       "    </tr>\n",
       "    <tr>\n",
       "      <th>2018-08-31 22:00:00</th>\n",
       "      <td>223</td>\n",
       "    </tr>\n",
       "    <tr>\n",
       "      <th>2018-08-31 23:00:00</th>\n",
       "      <td>205</td>\n",
       "    </tr>\n",
       "  </tbody>\n",
       "</table>\n",
       "<p>4416 rows × 1 columns</p>\n",
       "</div>"
      ],
      "text/plain": [
       "                     num_orders\n",
       "datetime                       \n",
       "2018-03-01 00:00:00         124\n",
       "2018-03-01 01:00:00          85\n",
       "2018-03-01 02:00:00          71\n",
       "2018-03-01 03:00:00          66\n",
       "2018-03-01 04:00:00          43\n",
       "...                         ...\n",
       "2018-08-31 19:00:00         136\n",
       "2018-08-31 20:00:00         154\n",
       "2018-08-31 21:00:00         159\n",
       "2018-08-31 22:00:00         223\n",
       "2018-08-31 23:00:00         205\n",
       "\n",
       "[4416 rows x 1 columns]"
      ]
     },
     "execution_count": 11,
     "metadata": {},
     "output_type": "execute_result"
    }
   ],
   "source": [
    "data"
   ]
  },
  {
   "cell_type": "markdown",
   "metadata": {},
   "source": [
    "### Промежуточный вывод"
   ]
  },
  {
   "cell_type": "markdown",
   "metadata": {},
   "source": [
    " - Установлены и импортированы все необходимые библиотеки, включая CatBoost и инструменты из sklearn.\n",
    "\n",
    " - Данные успешно загружены — 26 496 строк, 2 столбца: datetime и num_orders.\n",
    "\n",
    " - Пропущенных значений нет, что упрощает дальнейшую обработку.\n",
    "\n",
    " - Признак datetime приведён к формату даты и времени, отсортирован по времени и установлен как индекс.\n",
    "\n",
    " - Выполнено ресемплирование по 1 часу с агрегацией суммы заказов — получено 4416 строк.\n",
    "\n",
    "Теперь данные готовы к анализу и извлечению признаков для обучения моделей."
   ]
  },
  {
   "cell_type": "markdown",
   "metadata": {},
   "source": [
    " <div class=\"alert alert-success\">\n",
    "<h2> Комментарий ревьюера <a class=\"tocSkip\"> </h2>\n",
    "\n",
    "<b>Все отлично!👍:  </b> \n",
    "    \n",
    "С данными познакомились, проведен первичный аналитический осмотр!) Отлично, что проведено ресемплирование с использованием суммы. Полученная информация поможет нам в дальнейшем с предобработкой данных"
   ]
  },
  {
   "cell_type": "markdown",
   "metadata": {},
   "source": [
    "## Анализ"
   ]
  },
  {
   "cell_type": "markdown",
   "metadata": {},
   "source": [
    "### Общая динамика заказов"
   ]
  },
  {
   "cell_type": "code",
   "execution_count": 12,
   "metadata": {},
   "outputs": [
    {
     "data": {
      "image/png": "[encoded data removed]",
      "text/plain": [
       "<Figure size 1440x360 with 1 Axes>"
      ]
     },
     "metadata": {
      "needs_background": "light"
     },
     "output_type": "display_data"
    }
   ],
   "source": [
    "plt.figure(figsize=(20, 5))\n",
    "data['num_orders'].plot()\n",
    "plt.title('Динамика заказов по часам')\n",
    "plt.xlabel('Дата')\n",
    "plt.ylabel('Число заказов')\n",
    "plt.grid()\n",
    "plt.show();"
   ]
  },
  {
   "cell_type": "code",
   "execution_count": 13,
   "metadata": {},
   "outputs": [
    {
     "data": {
      "image/png": "[encoded data removed]",
      "text/plain": [
       "<Figure size 1440x360 with 1 Axes>"
      ]
     },
     "metadata": {
      "needs_background": "light"
     },
     "output_type": "display_data"
    }
   ],
   "source": [
    "plt.figure(figsize=(20, 5))\n",
    "data['2018-03':'2018-04']['num_orders'].plot()\n",
    "plt.title('Динамика заказов по часам - Март')\n",
    "plt.xlabel('Дата')\n",
    "plt.ylabel('Число заказов')\n",
    "plt.grid()\n",
    "plt.show();"
   ]
  },
  {
   "cell_type": "code",
   "execution_count": 14,
   "metadata": {},
   "outputs": [
    {
     "data": {
      "image/png": "[encoded data removed]",
      "text/plain": [
       "<Figure size 1440x360 with 1 Axes>"
      ]
     },
     "metadata": {
      "needs_background": "light"
     },
     "output_type": "display_data"
    }
   ],
   "source": [
    "plt.figure(figsize=(20, 5))\n",
    "data['2018-03-01':'2018-03-14']['num_orders'].plot()\n",
    "plt.title('Динамика заказов по часам - Март')\n",
    "plt.xlabel('Дата')\n",
    "plt.ylabel('Число заказов')\n",
    "plt.grid()\n",
    "plt.show();"
   ]
  },
  {
   "cell_type": "markdown",
   "metadata": {},
   "source": [
    "### Скользящее среднее"
   ]
  },
  {
   "cell_type": "code",
   "execution_count": 15,
   "metadata": {},
   "outputs": [
    {
     "data": {
      "image/png": "[encoded data removed]",
      "text/plain": [
       "<Figure size 1080x360 with 1 Axes>"
      ]
     },
     "metadata": {
      "needs_background": "light"
     },
     "output_type": "display_data"
    }
   ],
   "source": [
    "plt.figure(figsize=(15, 5))\n",
    "data['num_orders'].plot(label='Фактические данные')\n",
    "data['num_orders'].rolling(24).mean().plot(label='Скользящее среднее (24ч)', linewidth=2)\n",
    "plt.title('Число заказов и скользящее среднее')\n",
    "plt.xlabel('Дата')\n",
    "plt.ylabel('Число заказов')\n",
    "plt.legend()\n",
    "plt.grid()\n",
    "plt.show()"
   ]
  },
  {
   "cell_type": "markdown",
   "metadata": {},
   "source": [
    "### Проверка сезонности и тренда"
   ]
  },
  {
   "cell_type": "code",
   "execution_count": 16,
   "metadata": {},
   "outputs": [
    {
     "data": {
      "image/png": "[encoded data removed]",
      "text/plain": [
       "<Figure size 1080x576 with 3 Axes>"
      ]
     },
     "metadata": {
      "needs_background": "light"
     },
     "output_type": "display_data"
    }
   ],
   "source": [
    "decomposed = seasonal_decompose(data['num_orders'], model='additive', period=24)\n",
    "\n",
    "plt.figure(figsize=(15, 8))\n",
    "plt.subplot(311)\n",
    "ax = plt.gca()\n",
    "decomposed.trend.plot(ax=plt.gca())\n",
    "plt.title('Trend')\n",
    "plt.subplot(312)\n",
    "decomposed.seasonal.plot(ax=plt.gca()) \n",
    "plt.title('Seasonality')\n",
    "plt.subplot(313)\n",
    "decomposed.resid.plot(ax=plt.gca())\n",
    "plt.title('Residuals')\n",
    "plt.tight_layout()"
   ]
  },
  {
   "cell_type": "markdown",
   "metadata": {},
   "source": [
    "### Промежуточный вывод"
   ]
  },
  {
   "cell_type": "markdown",
   "metadata": {},
   "source": [
    "**Общая динамика**\n",
    "\n",
    "График временного ряда показывает выраженные пики спроса на такси. Особенно заметны всплески в понедельник и субботу, что указывает на наличие недельной сезонности — поездки в начале и конце недели.\n",
    "\n",
    "**Скользящее среднее**\n",
    "\n",
    "Применение скользящего среднего позволило сгладить краткосрочные колебания и выявить общий рост количества заказов. Это помогает лучше понять долгосрочные изменения.\n",
    "\n",
    "**Тренд и сезонность**\n",
    "\n",
    "- Тренд: наблюдается постепенное увеличение числа заказов, отчётливо видно повышение спроса в летний период — вероятно, из-за отпусков и увеличения числа поездок.\n",
    "\n",
    "- Сезонность: повторяющаяся недельная сезонность"
   ]
  },
  {
   "cell_type": "markdown",
   "metadata": {},
   "source": [
    "<div class=\"alert alert-warning\">\n",
    "    <h2> Комментарий ревьюера <a class=\"tocSkip\"> </h2>\n",
    "    \n",
    "<b>Некоторые замечания и рекомендации💡:</b>  \n",
    "    \n",
    "Декомпозиция сделана верно. Можно еще  визуализировать сезонность на более коротком интервале\n",
    "        \n",
    "Небольшой совет: обычно стоит проверять три вида сезонности (периодичности): \n",
    "внутрисуточную (по часам или утро-день-вечер-ночь), недельную (зависимость от дня недели) и месячную сезонность (месяцы или кварталы или зима-весна-лето-осень).   \n",
    "Без учета такой сезонности можно взять данные за небольшой период и увидеть явный рост бизнеса. А окажется, что это сезонный рост продаж :)    \n",
    "В случае заказов такси самое очевидная сезонность - внутри суток и день недели, логично предположить например, что каждую пятницу число заказов увеличивается\n",
    "        "
   ]
  },
  {
   "cell_type": "markdown",
   "metadata": {},
   "source": [
    "## Обучение"
   ]
  },
  {
   "cell_type": "markdown",
   "metadata": {},
   "source": [
    "### Feature Engineering"
   ]
  },
  {
   "cell_type": "markdown",
   "metadata": {},
   "source": [
    "Создадим признаки для горизонта прогнозирования в один шаг."
   ]
  },
  {
   "cell_type": "code",
   "execution_count": 17,
   "metadata": {},
   "outputs": [],
   "source": [
    "def make_features(data, max_lag, rolling_mean_size):\n",
    "    data['hour'] = data.index.hour\n",
    "    data['dayofweek'] = data.index.dayofweek\n",
    "    data['month'] = data.index.month\n",
    "\n",
    "    for lag in range(1, max_lag + 1):\n",
    "        data[f'lag_{lag}'] = data['num_orders'].shift(lag)\n",
    "\n",
    "    data['rolling_mean'] = data['num_orders'].shift().rolling(rolling_mean_size).mean()"
   ]
  },
  {
   "cell_type": "markdown",
   "metadata": {},
   "source": [
    "<div class=\"alert alert-warning\">\n",
    "    <h2> Комментарий ревьюера <a class=\"tocSkip\"> </h2>\n",
    "    \n",
    "<b>Некоторые замечания и рекомендации💡:</b>\n",
    "        \n",
    "При генерации новых признаков желательно написать функцию, чтобы она возвращала новый датафрейм, а не изменяла глобальную переменную. \n",
    "        \n",
    "1. Это хорошая практика (не изменять глобальные переменные внутри функции), которая улучшает читаемость кода.\n",
    "2. В какой-то момент может появиться необходимость подбирать некоторые параметры используемые внутри функции. В этот момент копирование датасета станет обязательным.\n",
    "\n",
    "        \n",
    "        \n",
    "        \n",
    "Для этого внутри, в начале функции нужно задать новое имя датафрейму с `df.copy()`, в нем создать новые признаки, а в конце функции возвращать через `return` этот датафрейм\n",
    "</div>"
   ]
  },
  {
   "cell_type": "code",
   "execution_count": 18,
   "metadata": {},
   "outputs": [],
   "source": [
    "make_features(data, max_lag=24, rolling_mean_size=3)"
   ]
  },
  {
   "cell_type": "code",
   "execution_count": 19,
   "metadata": {},
   "outputs": [
    {
     "data": {
      "text/html": [
       "<div>\n",
       "<style scoped>\n",
       "    .dataframe tbody tr th:only-of-type {\n",
       "        vertical-align: middle;\n",
       "    }\n",
       "\n",
       "    .dataframe tbody tr th {\n",
       "        vertical-align: top;\n",
       "    }\n",
       "\n",
       "    .dataframe thead th {\n",
       "        text-align: right;\n",
       "    }\n",
       "</style>\n",
       "<table border=\"1\" class=\"dataframe\">\n",
       "  <thead>\n",
       "    <tr style=\"text-align: right;\">\n",
       "      <th></th>\n",
       "      <th>num_orders</th>\n",
       "      <th>hour</th>\n",
       "      <th>dayofweek</th>\n",
       "      <th>month</th>\n",
       "      <th>lag_1</th>\n",
       "      <th>lag_2</th>\n",
       "      <th>lag_3</th>\n",
       "      <th>lag_4</th>\n",
       "      <th>lag_5</th>\n",
       "      <th>lag_6</th>\n",
       "      <th>...</th>\n",
       "      <th>lag_16</th>\n",
       "      <th>lag_17</th>\n",
       "      <th>lag_18</th>\n",
       "      <th>lag_19</th>\n",
       "      <th>lag_20</th>\n",
       "      <th>lag_21</th>\n",
       "      <th>lag_22</th>\n",
       "      <th>lag_23</th>\n",
       "      <th>lag_24</th>\n",
       "      <th>rolling_mean</th>\n",
       "    </tr>\n",
       "    <tr>\n",
       "      <th>datetime</th>\n",
       "      <th></th>\n",
       "      <th></th>\n",
       "      <th></th>\n",
       "      <th></th>\n",
       "      <th></th>\n",
       "      <th></th>\n",
       "      <th></th>\n",
       "      <th></th>\n",
       "      <th></th>\n",
       "      <th></th>\n",
       "      <th></th>\n",
       "      <th></th>\n",
       "      <th></th>\n",
       "      <th></th>\n",
       "      <th></th>\n",
       "      <th></th>\n",
       "      <th></th>\n",
       "      <th></th>\n",
       "      <th></th>\n",
       "      <th></th>\n",
       "      <th></th>\n",
       "    </tr>\n",
       "  </thead>\n",
       "  <tbody>\n",
       "    <tr>\n",
       "      <th>2018-03-01 00:00:00</th>\n",
       "      <td>124</td>\n",
       "      <td>0</td>\n",
       "      <td>3</td>\n",
       "      <td>3</td>\n",
       "      <td>NaN</td>\n",
       "      <td>NaN</td>\n",
       "      <td>NaN</td>\n",
       "      <td>NaN</td>\n",
       "      <td>NaN</td>\n",
       "      <td>NaN</td>\n",
       "      <td>...</td>\n",
       "      <td>NaN</td>\n",
       "      <td>NaN</td>\n",
       "      <td>NaN</td>\n",
       "      <td>NaN</td>\n",
       "      <td>NaN</td>\n",
       "      <td>NaN</td>\n",
       "      <td>NaN</td>\n",
       "      <td>NaN</td>\n",
       "      <td>NaN</td>\n",
       "      <td>NaN</td>\n",
       "    </tr>\n",
       "    <tr>\n",
       "      <th>2018-03-01 01:00:00</th>\n",
       "      <td>85</td>\n",
       "      <td>1</td>\n",
       "      <td>3</td>\n",
       "      <td>3</td>\n",
       "      <td>124.0</td>\n",
       "      <td>NaN</td>\n",
       "      <td>NaN</td>\n",
       "      <td>NaN</td>\n",
       "      <td>NaN</td>\n",
       "      <td>NaN</td>\n",
       "      <td>...</td>\n",
       "      <td>NaN</td>\n",
       "      <td>NaN</td>\n",
       "      <td>NaN</td>\n",
       "      <td>NaN</td>\n",
       "      <td>NaN</td>\n",
       "      <td>NaN</td>\n",
       "      <td>NaN</td>\n",
       "      <td>NaN</td>\n",
       "      <td>NaN</td>\n",
       "      <td>NaN</td>\n",
       "    </tr>\n",
       "    <tr>\n",
       "      <th>2018-03-01 02:00:00</th>\n",
       "      <td>71</td>\n",
       "      <td>2</td>\n",
       "      <td>3</td>\n",
       "      <td>3</td>\n",
       "      <td>85.0</td>\n",
       "      <td>124.0</td>\n",
       "      <td>NaN</td>\n",
       "      <td>NaN</td>\n",
       "      <td>NaN</td>\n",
       "      <td>NaN</td>\n",
       "      <td>...</td>\n",
       "      <td>NaN</td>\n",
       "      <td>NaN</td>\n",
       "      <td>NaN</td>\n",
       "      <td>NaN</td>\n",
       "      <td>NaN</td>\n",
       "      <td>NaN</td>\n",
       "      <td>NaN</td>\n",
       "      <td>NaN</td>\n",
       "      <td>NaN</td>\n",
       "      <td>NaN</td>\n",
       "    </tr>\n",
       "    <tr>\n",
       "      <th>2018-03-01 03:00:00</th>\n",
       "      <td>66</td>\n",
       "      <td>3</td>\n",
       "      <td>3</td>\n",
       "      <td>3</td>\n",
       "      <td>71.0</td>\n",
       "      <td>85.0</td>\n",
       "      <td>124.0</td>\n",
       "      <td>NaN</td>\n",
       "      <td>NaN</td>\n",
       "      <td>NaN</td>\n",
       "      <td>...</td>\n",
       "      <td>NaN</td>\n",
       "      <td>NaN</td>\n",
       "      <td>NaN</td>\n",
       "      <td>NaN</td>\n",
       "      <td>NaN</td>\n",
       "      <td>NaN</td>\n",
       "      <td>NaN</td>\n",
       "      <td>NaN</td>\n",
       "      <td>NaN</td>\n",
       "      <td>93.333333</td>\n",
       "    </tr>\n",
       "    <tr>\n",
       "      <th>2018-03-01 04:00:00</th>\n",
       "      <td>43</td>\n",
       "      <td>4</td>\n",
       "      <td>3</td>\n",
       "      <td>3</td>\n",
       "      <td>66.0</td>\n",
       "      <td>71.0</td>\n",
       "      <td>85.0</td>\n",
       "      <td>124.0</td>\n",
       "      <td>NaN</td>\n",
       "      <td>NaN</td>\n",
       "      <td>...</td>\n",
       "      <td>NaN</td>\n",
       "      <td>NaN</td>\n",
       "      <td>NaN</td>\n",
       "      <td>NaN</td>\n",
       "      <td>NaN</td>\n",
       "      <td>NaN</td>\n",
       "      <td>NaN</td>\n",
       "      <td>NaN</td>\n",
       "      <td>NaN</td>\n",
       "      <td>74.000000</td>\n",
       "    </tr>\n",
       "    <tr>\n",
       "      <th>2018-03-01 05:00:00</th>\n",
       "      <td>6</td>\n",
       "      <td>5</td>\n",
       "      <td>3</td>\n",
       "      <td>3</td>\n",
       "      <td>43.0</td>\n",
       "      <td>66.0</td>\n",
       "      <td>71.0</td>\n",
       "      <td>85.0</td>\n",
       "      <td>124.0</td>\n",
       "      <td>NaN</td>\n",
       "      <td>...</td>\n",
       "      <td>NaN</td>\n",
       "      <td>NaN</td>\n",
       "      <td>NaN</td>\n",
       "      <td>NaN</td>\n",
       "      <td>NaN</td>\n",
       "      <td>NaN</td>\n",
       "      <td>NaN</td>\n",
       "      <td>NaN</td>\n",
       "      <td>NaN</td>\n",
       "      <td>60.000000</td>\n",
       "    </tr>\n",
       "    <tr>\n",
       "      <th>2018-03-01 06:00:00</th>\n",
       "      <td>12</td>\n",
       "      <td>6</td>\n",
       "      <td>3</td>\n",
       "      <td>3</td>\n",
       "      <td>6.0</td>\n",
       "      <td>43.0</td>\n",
       "      <td>66.0</td>\n",
       "      <td>71.0</td>\n",
       "      <td>85.0</td>\n",
       "      <td>124.0</td>\n",
       "      <td>...</td>\n",
       "      <td>NaN</td>\n",
       "      <td>NaN</td>\n",
       "      <td>NaN</td>\n",
       "      <td>NaN</td>\n",
       "      <td>NaN</td>\n",
       "      <td>NaN</td>\n",
       "      <td>NaN</td>\n",
       "      <td>NaN</td>\n",
       "      <td>NaN</td>\n",
       "      <td>38.333333</td>\n",
       "    </tr>\n",
       "    <tr>\n",
       "      <th>2018-03-01 07:00:00</th>\n",
       "      <td>15</td>\n",
       "      <td>7</td>\n",
       "      <td>3</td>\n",
       "      <td>3</td>\n",
       "      <td>12.0</td>\n",
       "      <td>6.0</td>\n",
       "      <td>43.0</td>\n",
       "      <td>66.0</td>\n",
       "      <td>71.0</td>\n",
       "      <td>85.0</td>\n",
       "      <td>...</td>\n",
       "      <td>NaN</td>\n",
       "      <td>NaN</td>\n",
       "      <td>NaN</td>\n",
       "      <td>NaN</td>\n",
       "      <td>NaN</td>\n",
       "      <td>NaN</td>\n",
       "      <td>NaN</td>\n",
       "      <td>NaN</td>\n",
       "      <td>NaN</td>\n",
       "      <td>20.333333</td>\n",
       "    </tr>\n",
       "    <tr>\n",
       "      <th>2018-03-01 08:00:00</th>\n",
       "      <td>34</td>\n",
       "      <td>8</td>\n",
       "      <td>3</td>\n",
       "      <td>3</td>\n",
       "      <td>15.0</td>\n",
       "      <td>12.0</td>\n",
       "      <td>6.0</td>\n",
       "      <td>43.0</td>\n",
       "      <td>66.0</td>\n",
       "      <td>71.0</td>\n",
       "      <td>...</td>\n",
       "      <td>NaN</td>\n",
       "      <td>NaN</td>\n",
       "      <td>NaN</td>\n",
       "      <td>NaN</td>\n",
       "      <td>NaN</td>\n",
       "      <td>NaN</td>\n",
       "      <td>NaN</td>\n",
       "      <td>NaN</td>\n",
       "      <td>NaN</td>\n",
       "      <td>11.000000</td>\n",
       "    </tr>\n",
       "    <tr>\n",
       "      <th>2018-03-01 09:00:00</th>\n",
       "      <td>69</td>\n",
       "      <td>9</td>\n",
       "      <td>3</td>\n",
       "      <td>3</td>\n",
       "      <td>34.0</td>\n",
       "      <td>15.0</td>\n",
       "      <td>12.0</td>\n",
       "      <td>6.0</td>\n",
       "      <td>43.0</td>\n",
       "      <td>66.0</td>\n",
       "      <td>...</td>\n",
       "      <td>NaN</td>\n",
       "      <td>NaN</td>\n",
       "      <td>NaN</td>\n",
       "      <td>NaN</td>\n",
       "      <td>NaN</td>\n",
       "      <td>NaN</td>\n",
       "      <td>NaN</td>\n",
       "      <td>NaN</td>\n",
       "      <td>NaN</td>\n",
       "      <td>20.333333</td>\n",
       "    </tr>\n",
       "  </tbody>\n",
       "</table>\n",
       "<p>10 rows × 29 columns</p>\n",
       "</div>"
      ],
      "text/plain": [
       "                     num_orders  hour  dayofweek  month  lag_1  lag_2  lag_3  \\\n",
       "datetime                                                                       \n",
       "2018-03-01 00:00:00         124     0          3      3    NaN    NaN    NaN   \n",
       "2018-03-01 01:00:00          85     1          3      3  124.0    NaN    NaN   \n",
       "2018-03-01 02:00:00          71     2          3      3   85.0  124.0    NaN   \n",
       "2018-03-01 03:00:00          66     3          3      3   71.0   85.0  124.0   \n",
       "2018-03-01 04:00:00          43     4          3      3   66.0   71.0   85.0   \n",
       "2018-03-01 05:00:00           6     5          3      3   43.0   66.0   71.0   \n",
       "2018-03-01 06:00:00          12     6          3      3    6.0   43.0   66.0   \n",
       "2018-03-01 07:00:00          15     7          3      3   12.0    6.0   43.0   \n",
       "2018-03-01 08:00:00          34     8          3      3   15.0   12.0    6.0   \n",
       "2018-03-01 09:00:00          69     9          3      3   34.0   15.0   12.0   \n",
       "\n",
       "                     lag_4  lag_5  lag_6  ...  lag_16  lag_17  lag_18  lag_19  \\\n",
       "datetime                                  ...                                   \n",
       "2018-03-01 00:00:00    NaN    NaN    NaN  ...     NaN     NaN     NaN     NaN   \n",
       "2018-03-01 01:00:00    NaN    NaN    NaN  ...     NaN     NaN     NaN     NaN   \n",
       "2018-03-01 02:00:00    NaN    NaN    NaN  ...     NaN     NaN     NaN     NaN   \n",
       "2018-03-01 03:00:00    NaN    NaN    NaN  ...     NaN     NaN     NaN     NaN   \n",
       "2018-03-01 04:00:00  124.0    NaN    NaN  ...     NaN     NaN     NaN     NaN   \n",
       "2018-03-01 05:00:00   85.0  124.0    NaN  ...     NaN     NaN     NaN     NaN   \n",
       "2018-03-01 06:00:00   71.0   85.0  124.0  ...     NaN     NaN     NaN     NaN   \n",
       "2018-03-01 07:00:00   66.0   71.0   85.0  ...     NaN     NaN     NaN     NaN   \n",
       "2018-03-01 08:00:00   43.0   66.0   71.0  ...     NaN     NaN     NaN     NaN   \n",
       "2018-03-01 09:00:00    6.0   43.0   66.0  ...     NaN     NaN     NaN     NaN   \n",
       "\n",
       "                     lag_20  lag_21  lag_22  lag_23  lag_24  rolling_mean  \n",
       "datetime                                                                   \n",
       "2018-03-01 00:00:00     NaN     NaN     NaN     NaN     NaN           NaN  \n",
       "2018-03-01 01:00:00     NaN     NaN     NaN     NaN     NaN           NaN  \n",
       "2018-03-01 02:00:00     NaN     NaN     NaN     NaN     NaN           NaN  \n",
       "2018-03-01 03:00:00     NaN     NaN     NaN     NaN     NaN     93.333333  \n",
       "2018-03-01 04:00:00     NaN     NaN     NaN     NaN     NaN     74.000000  \n",
       "2018-03-01 05:00:00     NaN     NaN     NaN     NaN     NaN     60.000000  \n",
       "2018-03-01 06:00:00     NaN     NaN     NaN     NaN     NaN     38.333333  \n",
       "2018-03-01 07:00:00     NaN     NaN     NaN     NaN     NaN     20.333333  \n",
       "2018-03-01 08:00:00     NaN     NaN     NaN     NaN     NaN     11.000000  \n",
       "2018-03-01 09:00:00     NaN     NaN     NaN     NaN     NaN     20.333333  \n",
       "\n",
       "[10 rows x 29 columns]"
      ]
     },
     "execution_count": 19,
     "metadata": {},
     "output_type": "execute_result"
    }
   ],
   "source": [
    "data.head(10)"
   ]
  },
  {
   "cell_type": "markdown",
   "metadata": {},
   "source": [
    "### Подготовка  к обучению"
   ]
  },
  {
   "cell_type": "markdown",
   "metadata": {},
   "source": [
    "**Разделение данных**"
   ]
  },
  {
   "cell_type": "markdown",
   "metadata": {},
   "source": [
    "При работе с временными рядами перемешивать данные **нельзя!**"
   ]
  },
  {
   "cell_type": "code",
   "execution_count": 20,
   "metadata": {},
   "outputs": [],
   "source": [
    "data = data.dropna()\n",
    "\n",
    "target = 'num_orders'\n",
    "\n",
    "X = data.drop(columns=[target])\n",
    "y = data[target]\n",
    "\n",
    "X_train, X_test, y_train, y_test = train_test_split(X, y, test_size=TEST_SIZE, shuffle=False)"
   ]
  },
  {
   "cell_type": "markdown",
   "metadata": {},
   "source": [
    " <div class=\"alert alert-success\">\n",
    "<h2> Комментарий ревьюера <a class=\"tocSkip\"> </h2>\n",
    " \n",
    "<b>Все отлично!👍:  </b>\n",
    "    \n",
    "Хорошо, что деление происходит последовательно по времени"
   ]
  },
  {
   "cell_type": "code",
   "execution_count": 21,
   "metadata": {},
   "outputs": [
    {
     "name": "stdout",
     "output_type": "stream",
     "text": [
      "(3952, 28)\n",
      "(440, 28)\n"
     ]
    }
   ],
   "source": [
    "print(X_train.shape)\n",
    "print(X_test.shape)"
   ]
  },
  {
   "cell_type": "markdown",
   "metadata": {},
   "source": [
    "**Инициализация TimeSeriesSplit**"
   ]
  },
  {
   "cell_type": "code",
   "execution_count": 22,
   "metadata": {},
   "outputs": [],
   "source": [
    "tscv = TimeSeriesSplit(n_splits=5)"
   ]
  },
  {
   "cell_type": "markdown",
   "metadata": {},
   "source": [
    "### Модель 1: Linear Regression"
   ]
  },
  {
   "cell_type": "code",
   "execution_count": 23,
   "metadata": {},
   "outputs": [
    {
     "name": "stdout",
     "output_type": "stream",
     "text": [
      "Linear Regression RMSE: 25.75\n"
     ]
    }
   ],
   "source": [
    "model = LinearRegression()\n",
    "\n",
    "model.fit(X_train, y_train)\n",
    "\n",
    "y_pred = model.predict(X_train)\n",
    "\n",
    "rmse = mean_squared_error(y_pred, y_train, squared=False)\n",
    "\n",
    "print(f'Linear Regression RMSE: {rmse:.2f}')"
   ]
  },
  {
   "cell_type": "markdown",
   "metadata": {},
   "source": [
    "### Модель 2: Decision Tree Regressor"
   ]
  },
  {
   "cell_type": "code",
   "execution_count": 24,
   "metadata": {},
   "outputs": [
    {
     "name": "stdout",
     "output_type": "stream",
     "text": [
      "Лучшие параметры Decision Tree Regressor: {'model__min_samples_split': 2, 'model__min_samples_leaf': 2, 'model__max_depth': 5}\n",
      "Decision Tree Regressor RMSE: 30.05\n"
     ]
    }
   ],
   "source": [
    "dtr_pipeline = Pipeline([\n",
    "    ('scaler', StandardScaler()),\n",
    "    ('model', DecisionTreeRegressor(random_state=RANDOM_STATE))\n",
    "])\n",
    "\n",
    "dtr_param_grid = {\n",
    "    'model__max_depth': [3, 5, 7, 10, None],\n",
    "    'model__min_samples_split': [2, 5, 10],\n",
    "    'model__min_samples_leaf': [1, 2, 4]\n",
    "}\n",
    "\n",
    "dtr_search = RandomizedSearchCV(\n",
    "    dtr_pipeline,\n",
    "    dtr_param_grid,\n",
    "    n_iter=10,\n",
    "    cv=tscv,\n",
    "    scoring='neg_root_mean_squared_error',\n",
    "    random_state=RANDOM_STATE,\n",
    "    n_jobs=-1\n",
    ")\n",
    "\n",
    "dtr_search.fit(X_train, y_train)\n",
    "\n",
    "print(f'Лучшие параметры Decision Tree Regressor: {dtr_search.best_params_}')\n",
    "print(f'Decision Tree Regressor RMSE: {-dtr_search.best_score_ :.2f}')"
   ]
  },
  {
   "cell_type": "markdown",
   "metadata": {},
   "source": [
    " <div class=\"alert alert-success\">\n",
    "<h2> Комментарий ревьюера <a class=\"tocSkip\"> </h2>\n",
    "\n",
    "<b>Все отлично!👍:  </b>\n",
    "    \n",
    "Отлично, что применяется TimeSeriesSplit, а не простой сплиттер"
   ]
  },
  {
   "cell_type": "markdown",
   "metadata": {},
   "source": [
    "### Модель 3: CatBoost Regressor"
   ]
  },
  {
   "cell_type": "code",
   "execution_count": 25,
   "metadata": {},
   "outputs": [
    {
     "name": "stdout",
     "output_type": "stream",
     "text": [
      "Лучшие параметры CatBoost Regressor: {'model__learning_rate': 0.1, 'model__iterations': 300, 'model__depth': 6}\n",
      "CatBoost Regressor RMSE: 24.13\n"
     ]
    }
   ],
   "source": [
    "catboost_pipeline = Pipeline([\n",
    "    ('scaler', StandardScaler()),\n",
    "    ('model', CatBoostRegressor(random_state=RANDOM_STATE, verbose=0))\n",
    "])\n",
    "\n",
    "catboost_param_grid = {\n",
    "    'model__depth': [4, 6, 8, 10],\n",
    "    'model__learning_rate': [0.01, 0.05, 0.1],\n",
    "    'model__iterations': [100, 200, 300]\n",
    "}\n",
    "\n",
    "catboost_search = RandomizedSearchCV(\n",
    "    catboost_pipeline,\n",
    "    catboost_param_grid,\n",
    "    n_iter=10,\n",
    "    cv=tscv,\n",
    "    scoring='neg_root_mean_squared_error',\n",
    "    random_state=RANDOM_STATE,\n",
    "    n_jobs=-1\n",
    ")\n",
    "\n",
    "catboost_search.fit(X_train, y_train)\n",
    "\n",
    "print(f'Лучшие параметры CatBoost Regressor: {catboost_search.best_params_}')\n",
    "print(f'CatBoost Regressor RMSE: {-catboost_search.best_score_ :.2f}')"
   ]
  },
  {
   "cell_type": "markdown",
   "metadata": {},
   "source": [
    "### Анализ моделей"
   ]
  },
  {
   "cell_type": "markdown",
   "metadata": {},
   "source": [
    "**Модель 1: Linear Regression**\n",
    " - Линейная регрессия обучена без масштабирования признаков.\n",
    "\n",
    " - Ошибка RMSE на обучении: 25.75\n",
    "\n",
    "**Модель 2: Decision Tree Regressor**\n",
    "- Модель включена в pipeline с StandardScaler.\n",
    "\n",
    " - Подбор гиперпараметров через RandomizedSearchCV с кросс-валидацией TimeSeriesSplit.\n",
    "\n",
    " - Лучшие параметры: max_depth=5, min_samples_split=2, min_samples_leaf=2\n",
    "\n",
    " - RMSE на кросс-валидации: 30.05\n",
    "\n",
    " - Точность хуже, чем у линейной регрессии.\n",
    "\n",
    "**Модель 3: CatBoost Regressor**\n",
    "\n",
    " - CatBoost также использован в pipeline, хотя сам по себе не требует масштабирования.\n",
    "\n",
    " - Подбор параметров: depth, learning_rate, iterations\n",
    "\n",
    " - Лучшие параметры: depth=6, learning_rate=0.1, iterations=300\n",
    "\n",
    " - RMSE на кросс-валидации: 24.13\n",
    "\n",
    "Так как в задаче мы опираемся только на качество, `CatBoost Regressor` лучшая модель на данный момент — точнее остальных."
   ]
  },
  {
   "cell_type": "markdown",
   "metadata": {},
   "source": [
    " <div class=\"alert alert-success\">\n",
    "<h2> Комментарий ревьюера <a class=\"tocSkip\"> </h2>\n",
    "\n",
    "<b>Все отлично!👍:  </b>\n",
    "    \n",
    "Молодец, что пробуешь разные модели в этом шаге)\n",
    "</div>"
   ]
  },
  {
   "cell_type": "code",
   "execution_count": 26,
   "metadata": {},
   "outputs": [],
   "source": [
    "best_model = catboost_search.best_estimator_"
   ]
  },
  {
   "cell_type": "markdown",
   "metadata": {},
   "source": [
    "## Тестирование"
   ]
  },
  {
   "cell_type": "code",
   "execution_count": 27,
   "metadata": {},
   "outputs": [
    {
     "name": "stdout",
     "output_type": "stream",
     "text": [
      "CatBoost RMSE на тестовой выборке: 40.43\n"
     ]
    }
   ],
   "source": [
    "y_pred_cbr = best_model.predict(X_test)\n",
    "rmse_cbr = mean_squared_error(y_test, y_pred_cbr, squared=False)\n",
    "\n",
    "print(f'CatBoost RMSE на тестовой выборке: {rmse_cbr:.2f}')"
   ]
  },
  {
   "cell_type": "markdown",
   "metadata": {},
   "source": [
    "<div class=\"alert alert-warning\">\n",
    "    <h2> Комментарий ревьюера <a class=\"tocSkip\"> </h2>\n",
    "    \n",
    "<b>Некоторые замечания и рекомендации💡:</b>\n",
    "    \n",
    "В конце проекта желательно визуализировать результаты (построить 2 временных ряда на одном графике), показать предсказанные значения лучшей модели и реальные тестовые\n",
    "        \n"
   ]
  },
  {
   "cell_type": "markdown",
   "metadata": {},
   "source": [
    "**Вывод по тестированию**\n",
    "\n",
    "Для оценки финального качества модели была использована тестовая выборка, которую модель ранее не видела. Лучшая модель — `CatBoost Regressor`, выбранная по результатам кросс-валидации, показала на тесте RMSE = 40.43.\n",
    "\n",
    "RMSE увеличился, что говорит об переобучении модели, но ошибка находится в пределах допустимого уровня (не выше 48), заданного в условиях задачи. Это подтверждает, что модель хорошо обобщает данные и может быть использована для предсказания количества заказов такси в аэропорту на следующий час."
   ]
  },
  {
   "cell_type": "markdown",
   "metadata": {},
   "source": [
    "<div style=\"border:solid Chocolate 2px; padding: 40px\">\n",
    "\n",
    "\n",
    "<h2> Итоговый комментарий ревьюера <a class=\"tocSkip\"> </h2>    \n",
    "    \n",
    "У меня сложилось отличное общее впечатление о проекте, тебе удалось неплохо справиться с этим проектом. Молодец! Подготовлены данные для анализа, изучен каждый параметр. Все красиво визуализировано, построено несколько моделей регрессии и оценено их качество. Осмысленная аналитика и дельная модельная работа - многое удалось как надо)\n",
    "    \n",
    "Отмечу отдельные положительные моменты проекта🙂:\n",
    "    \n",
    "- в ходе проекта встречались функции, помогающие избавиться от дублирования кода;\n",
    "- много красивых визуализаций в проекте и хорошая интерпретация;\n",
    "- при обучении моделей использована валидация и поиск гиперпараметров.     \n",
    "  \n",
    "Принимаю работу)\n",
    "    \n",
    "Если хочешь лучше разобраться в теме, то могу посоветовать тебе: \n",
    "    \n",
    "Полезная лекция про временные ряды: https://www.youtube.com/watch?v=u433nrxdf5k    \n",
    "    \n",
    "Б.Б. Демешев - временные ряды https://disk.yandex.ru/i/LiDHB-B3A6Lz5A\n",
    "    \n",
    "Базовое применение ARIMA - https://colab.research.google.com/drive/17RnG91Eq8JBKyxToNzvCvjibfxum-oPj?usp=sharing\n",
    "    \n",
    "Канторович - Анализ временных рядов https://yadi.sk/i/IOkUOS3hTXf3gg\n",
    "https://facebook.github.io/prophet/\n",
    "    \n",
    "https://facebook.github.io/prophet/docs/quick_start.html#python-api\n",
    "    \n",
    "https://nbviewer.jupyter.org/github/miptgirl/habra_materials/blob/master/prophet/habra_data.ipynb  \n",
    "    \n",
    "    \n",
    "    \n",
    "В этом проекте были отработаны все моменты. Если у тебя остались вопросы, то можно обратиться ко мне через куратора или напрямую адресовать вопросы преподавателю в тред.\n",
    "    \n",
    "Успехов тебе в следующем спринте!\n",
    "    \n",
    "Рад был помочь тебе)\n",
    "    \n",
    "**Буду очень благодарен, если ты поставишь мне положительную оценку за проект в форме на странице курса, это важно для меня. Достаточно поставить оценку, а комментарий можешь написать по желанию:)**     \n",
    "    \n",
    "</div>    \n",
    "    \n"
   ]
  },
  {
   "cell_type": "markdown",
   "metadata": {},
   "source": [
    "## Чек-лист проверки"
   ]
  },
  {
   "cell_type": "markdown",
   "metadata": {},
   "source": [
    "- [x]  Jupyter Notebook открыт\n",
    "- [x]  Весь код выполняется без ошибок\n",
    "- [x]  Ячейки с кодом расположены в порядке исполнения\n",
    "- [x]  Данные загружены и подготовлены\n",
    "- [x]  Данные проанализированы\n",
    "- [x]  Модель обучена, гиперпараметры подобраны\n",
    "- [x]  Качество моделей проверено, выводы сделаны\n",
    "- [x]  Значение *RMSE* на тестовой выборке не больше 48"
   ]
  }
 ],
 "metadata": {
  "ExecuteTimeLog": [
   {
    "duration": 2812,
    "start_time": "2025-04-20T19:00:06.663Z"
   },
   {
    "duration": 1724,
    "start_time": "2025-04-20T19:01:08.502Z"
   },
   {
    "duration": 8,
    "start_time": "2025-04-20T19:01:41.482Z"
   },
   {
    "duration": 87,
    "start_time": "2025-04-20T19:02:17.564Z"
   },
   {
    "duration": 12,
    "start_time": "2025-04-20T19:02:38.189Z"
   },
   {
    "duration": 13,
    "start_time": "2025-04-20T19:04:04.061Z"
   },
   {
    "duration": 15,
    "start_time": "2025-04-20T19:04:15.612Z"
   },
   {
    "duration": 1449,
    "start_time": "2025-04-20T19:19:46.783Z"
   },
   {
    "duration": 8,
    "start_time": "2025-04-20T19:20:01.220Z"
   },
   {
    "duration": 4,
    "start_time": "2025-04-20T19:20:09.802Z"
   },
   {
    "duration": 13,
    "start_time": "2025-04-20T19:20:18.541Z"
   },
   {
    "duration": 2619,
    "start_time": "2025-04-20T19:20:37.459Z"
   },
   {
    "duration": 1588,
    "start_time": "2025-04-20T19:20:40.081Z"
   },
   {
    "duration": 50,
    "start_time": "2025-04-20T19:20:41.670Z"
   },
   {
    "duration": 13,
    "start_time": "2025-04-20T19:20:41.722Z"
   },
   {
    "duration": 16,
    "start_time": "2025-04-20T19:20:41.738Z"
   },
   {
    "duration": 14,
    "start_time": "2025-04-20T19:20:41.756Z"
   },
   {
    "duration": 127,
    "start_time": "2025-04-20T19:20:41.776Z"
   },
   {
    "duration": 8,
    "start_time": "2025-04-20T19:20:56.842Z"
   },
   {
    "duration": 3,
    "start_time": "2025-04-20T19:22:40.865Z"
   },
   {
    "duration": 3,
    "start_time": "2025-04-20T19:22:58.755Z"
   },
   {
    "duration": 7,
    "start_time": "2025-04-20T19:24:15.343Z"
   },
   {
    "duration": 2716,
    "start_time": "2025-04-20T19:25:00.610Z"
   },
   {
    "duration": 1521,
    "start_time": "2025-04-20T19:25:03.329Z"
   },
   {
    "duration": 38,
    "start_time": "2025-04-20T19:25:04.852Z"
   },
   {
    "duration": 13,
    "start_time": "2025-04-20T19:25:04.891Z"
   },
   {
    "duration": 30,
    "start_time": "2025-04-20T19:25:04.906Z"
   },
   {
    "duration": 16,
    "start_time": "2025-04-20T19:25:04.938Z"
   },
   {
    "duration": 10,
    "start_time": "2025-04-20T19:25:04.956Z"
   },
   {
    "duration": 4,
    "start_time": "2025-04-20T19:25:04.976Z"
   },
   {
    "duration": 12,
    "start_time": "2025-04-20T19:25:04.982Z"
   },
   {
    "duration": 17,
    "start_time": "2025-04-20T19:25:04.996Z"
   },
   {
    "duration": 830,
    "start_time": "2025-04-20T19:33:58.132Z"
   },
   {
    "duration": 1126,
    "start_time": "2025-04-20T19:35:47.663Z"
   },
   {
    "duration": 950,
    "start_time": "2025-04-20T19:35:55.487Z"
   },
   {
    "duration": 762,
    "start_time": "2025-04-20T19:36:04.074Z"
   },
   {
    "duration": 277,
    "start_time": "2025-04-20T19:36:14.272Z"
   },
   {
    "duration": 2594,
    "start_time": "2025-04-20T19:37:10.900Z"
   },
   {
    "duration": 1512,
    "start_time": "2025-04-20T19:37:13.497Z"
   },
   {
    "duration": 38,
    "start_time": "2025-04-20T19:37:15.011Z"
   },
   {
    "duration": 60,
    "start_time": "2025-04-20T19:37:15.051Z"
   },
   {
    "duration": 17,
    "start_time": "2025-04-20T19:37:15.114Z"
   },
   {
    "duration": 130,
    "start_time": "2025-04-20T19:37:15.132Z"
   },
   {
    "duration": 46,
    "start_time": "2025-04-20T19:37:15.264Z"
   },
   {
    "duration": 28,
    "start_time": "2025-04-20T19:37:15.312Z"
   },
   {
    "duration": 24,
    "start_time": "2025-04-20T19:37:15.342Z"
   },
   {
    "duration": 40,
    "start_time": "2025-04-20T19:37:15.368Z"
   },
   {
    "duration": 403,
    "start_time": "2025-04-20T19:37:15.410Z"
   },
   {
    "duration": 7,
    "start_time": "2025-04-20T19:38:34.488Z"
   },
   {
    "duration": 7,
    "start_time": "2025-04-20T19:38:39.932Z"
   },
   {
    "duration": 10,
    "start_time": "2025-04-20T19:38:45.111Z"
   },
   {
    "duration": 410,
    "start_time": "2025-04-20T19:39:19.225Z"
   },
   {
    "duration": 348,
    "start_time": "2025-04-20T19:40:36.252Z"
   },
   {
    "duration": 387,
    "start_time": "2025-04-20T19:40:41.732Z"
   },
   {
    "duration": 275,
    "start_time": "2025-04-20T19:42:36.801Z"
   },
   {
    "duration": 238,
    "start_time": "2025-04-20T19:43:38.428Z"
   },
   {
    "duration": 10,
    "start_time": "2025-04-20T19:45:20.016Z"
   },
   {
    "duration": 3,
    "start_time": "2025-04-20T19:45:37.691Z"
   },
   {
    "duration": 324,
    "start_time": "2025-04-20T19:45:52.862Z"
   },
   {
    "duration": 418,
    "start_time": "2025-04-20T19:47:20.589Z"
   },
   {
    "duration": 133,
    "start_time": "2025-04-20T19:48:02.211Z"
   },
   {
    "duration": 29,
    "start_time": "2025-04-20T19:48:19.345Z"
   },
   {
    "duration": 695,
    "start_time": "2025-04-20T19:48:22.584Z"
   },
   {
    "duration": 650,
    "start_time": "2025-04-20T19:48:52.800Z"
   },
   {
    "duration": 618,
    "start_time": "2025-04-20T19:49:00.634Z"
   },
   {
    "duration": 838,
    "start_time": "2025-04-20T19:50:03.428Z"
   },
   {
    "duration": 294,
    "start_time": "2025-04-20T19:51:12.783Z"
   },
   {
    "duration": 757,
    "start_time": "2025-04-20T19:53:21.825Z"
   },
   {
    "duration": 911,
    "start_time": "2025-04-20T19:53:38.337Z"
   },
   {
    "duration": 4,
    "start_time": "2025-04-20T20:10:59.238Z"
   },
   {
    "duration": 10,
    "start_time": "2025-04-20T20:11:09.538Z"
   },
   {
    "duration": 12,
    "start_time": "2025-04-20T20:11:16.746Z"
   },
   {
    "duration": 19,
    "start_time": "2025-04-20T20:13:09.782Z"
   },
   {
    "duration": 16,
    "start_time": "2025-04-20T20:13:10.353Z"
   },
   {
    "duration": 13,
    "start_time": "2025-04-20T20:19:54.110Z"
   },
   {
    "duration": 16,
    "start_time": "2025-04-20T20:21:07.450Z"
   },
   {
    "duration": 4,
    "start_time": "2025-04-20T20:22:20.808Z"
   },
   {
    "duration": 26,
    "start_time": "2025-04-20T20:28:08.086Z"
   },
   {
    "duration": 4,
    "start_time": "2025-04-20T20:35:14.214Z"
   },
   {
    "duration": 5,
    "start_time": "2025-04-20T20:37:06.321Z"
   },
   {
    "duration": 50,
    "start_time": "2025-04-20T20:38:27.731Z"
   },
   {
    "duration": 2549,
    "start_time": "2025-04-20T20:39:52.630Z"
   },
   {
    "duration": 1557,
    "start_time": "2025-04-20T20:39:55.182Z"
   },
   {
    "duration": 40,
    "start_time": "2025-04-20T20:39:56.741Z"
   },
   {
    "duration": 12,
    "start_time": "2025-04-20T20:39:56.783Z"
   },
   {
    "duration": 15,
    "start_time": "2025-04-20T20:39:56.797Z"
   },
   {
    "duration": 26,
    "start_time": "2025-04-20T20:39:56.814Z"
   },
   {
    "duration": 41,
    "start_time": "2025-04-20T20:39:56.842Z"
   },
   {
    "duration": 7,
    "start_time": "2025-04-20T20:39:56.885Z"
   },
   {
    "duration": 47,
    "start_time": "2025-04-20T20:39:56.893Z"
   },
   {
    "duration": 32,
    "start_time": "2025-04-20T20:39:56.942Z"
   },
   {
    "duration": 12,
    "start_time": "2025-04-20T20:39:56.976Z"
   },
   {
    "duration": 331,
    "start_time": "2025-04-20T20:39:56.990Z"
   },
   {
    "duration": 445,
    "start_time": "2025-04-20T20:39:57.323Z"
   },
   {
    "duration": 245,
    "start_time": "2025-04-20T20:39:57.777Z"
   },
   {
    "duration": 344,
    "start_time": "2025-04-20T20:39:58.024Z"
   },
   {
    "duration": 828,
    "start_time": "2025-04-20T20:39:58.369Z"
   },
   {
    "duration": 4,
    "start_time": "2025-04-20T20:39:59.198Z"
   },
   {
    "duration": 23,
    "start_time": "2025-04-20T20:39:59.204Z"
   },
   {
    "duration": 16,
    "start_time": "2025-04-20T20:39:59.229Z"
   },
   {
    "duration": 45,
    "start_time": "2025-04-20T20:39:59.247Z"
   },
   {
    "duration": 3,
    "start_time": "2025-04-20T20:39:59.294Z"
   },
   {
    "duration": 5,
    "start_time": "2025-04-20T20:39:59.299Z"
   },
   {
    "duration": 8,
    "start_time": "2025-04-20T20:39:59.305Z"
   },
   {
    "duration": 1463,
    "start_time": "2025-04-20T20:39:59.315Z"
   },
   {
    "duration": 2561,
    "start_time": "2025-04-20T20:40:48.797Z"
   },
   {
    "duration": 1618,
    "start_time": "2025-04-20T20:40:51.361Z"
   },
   {
    "duration": 38,
    "start_time": "2025-04-20T20:40:52.981Z"
   },
   {
    "duration": 37,
    "start_time": "2025-04-20T20:40:53.021Z"
   },
   {
    "duration": 46,
    "start_time": "2025-04-20T20:40:53.061Z"
   },
   {
    "duration": 26,
    "start_time": "2025-04-20T20:40:53.109Z"
   },
   {
    "duration": 40,
    "start_time": "2025-04-20T20:40:53.137Z"
   },
   {
    "duration": 38,
    "start_time": "2025-04-20T20:40:53.179Z"
   },
   {
    "duration": 15,
    "start_time": "2025-04-20T20:40:53.219Z"
   },
   {
    "duration": 18,
    "start_time": "2025-04-20T20:40:53.236Z"
   },
   {
    "duration": 10,
    "start_time": "2025-04-20T20:40:53.256Z"
   },
   {
    "duration": 357,
    "start_time": "2025-04-20T20:40:53.268Z"
   },
   {
    "duration": 450,
    "start_time": "2025-04-20T20:40:53.627Z"
   },
   {
    "duration": 248,
    "start_time": "2025-04-20T20:40:54.080Z"
   },
   {
    "duration": 350,
    "start_time": "2025-04-20T20:40:54.330Z"
   },
   {
    "duration": 771,
    "start_time": "2025-04-20T20:40:54.682Z"
   },
   {
    "duration": 4,
    "start_time": "2025-04-20T20:40:55.455Z"
   },
   {
    "duration": 32,
    "start_time": "2025-04-20T20:40:55.461Z"
   },
   {
    "duration": 14,
    "start_time": "2025-04-20T20:40:55.495Z"
   },
   {
    "duration": 13,
    "start_time": "2025-04-20T20:40:55.511Z"
   },
   {
    "duration": 3,
    "start_time": "2025-04-20T20:40:55.526Z"
   },
   {
    "duration": 5,
    "start_time": "2025-04-20T20:40:55.531Z"
   },
   {
    "duration": 5,
    "start_time": "2025-04-20T20:40:55.538Z"
   },
   {
    "duration": 49,
    "start_time": "2025-04-20T20:40:55.576Z"
   },
   {
    "duration": 2561,
    "start_time": "2025-04-20T20:42:27.560Z"
   },
   {
    "duration": 1563,
    "start_time": "2025-04-20T20:42:30.124Z"
   },
   {
    "duration": 39,
    "start_time": "2025-04-20T20:42:31.688Z"
   },
   {
    "duration": 36,
    "start_time": "2025-04-20T20:42:31.729Z"
   },
   {
    "duration": 17,
    "start_time": "2025-04-20T20:42:31.768Z"
   },
   {
    "duration": 17,
    "start_time": "2025-04-20T20:42:31.787Z"
   },
   {
    "duration": 17,
    "start_time": "2025-04-20T20:42:31.806Z"
   },
   {
    "duration": 40,
    "start_time": "2025-04-20T20:42:31.825Z"
   },
   {
    "duration": 15,
    "start_time": "2025-04-20T20:42:31.866Z"
   },
   {
    "duration": 16,
    "start_time": "2025-04-20T20:42:31.883Z"
   },
   {
    "duration": 12,
    "start_time": "2025-04-20T20:42:31.901Z"
   },
   {
    "duration": 342,
    "start_time": "2025-04-20T20:42:31.915Z"
   },
   {
    "duration": 442,
    "start_time": "2025-04-20T20:42:32.259Z"
   },
   {
    "duration": 255,
    "start_time": "2025-04-20T20:42:32.705Z"
   },
   {
    "duration": 340,
    "start_time": "2025-04-20T20:42:32.961Z"
   },
   {
    "duration": 770,
    "start_time": "2025-04-20T20:42:33.302Z"
   },
   {
    "duration": 4,
    "start_time": "2025-04-20T20:42:34.073Z"
   },
   {
    "duration": 27,
    "start_time": "2025-04-20T20:42:34.078Z"
   },
   {
    "duration": 15,
    "start_time": "2025-04-20T20:42:34.107Z"
   },
   {
    "duration": 28,
    "start_time": "2025-04-20T20:42:34.123Z"
   },
   {
    "duration": 14,
    "start_time": "2025-04-20T20:42:34.153Z"
   },
   {
    "duration": 12,
    "start_time": "2025-04-20T20:42:34.177Z"
   },
   {
    "duration": 73,
    "start_time": "2025-04-20T20:42:34.191Z"
   },
   {
    "duration": 1232,
    "start_time": "2025-04-20T20:42:34.266Z"
   },
   {
    "duration": 2690,
    "start_time": "2025-04-20T20:45:11.080Z"
   },
   {
    "duration": 1559,
    "start_time": "2025-04-20T20:45:13.773Z"
   },
   {
    "duration": 38,
    "start_time": "2025-04-20T20:45:15.333Z"
   },
   {
    "duration": 26,
    "start_time": "2025-04-20T20:45:15.373Z"
   },
   {
    "duration": 87,
    "start_time": "2025-04-20T20:45:15.401Z"
   },
   {
    "duration": 15,
    "start_time": "2025-04-20T20:45:15.490Z"
   },
   {
    "duration": 10,
    "start_time": "2025-04-20T20:45:15.506Z"
   },
   {
    "duration": 28,
    "start_time": "2025-04-20T20:45:15.517Z"
   },
   {
    "duration": 18,
    "start_time": "2025-04-20T20:45:15.546Z"
   },
   {
    "duration": 24,
    "start_time": "2025-04-20T20:45:15.566Z"
   },
   {
    "duration": 10,
    "start_time": "2025-04-20T20:45:15.591Z"
   },
   {
    "duration": 366,
    "start_time": "2025-04-20T20:45:15.603Z"
   },
   {
    "duration": 449,
    "start_time": "2025-04-20T20:45:15.971Z"
   },
   {
    "duration": 273,
    "start_time": "2025-04-20T20:45:16.423Z"
   },
   {
    "duration": 353,
    "start_time": "2025-04-20T20:45:16.698Z"
   },
   {
    "duration": 813,
    "start_time": "2025-04-20T20:45:17.052Z"
   },
   {
    "duration": 10,
    "start_time": "2025-04-20T20:45:17.867Z"
   },
   {
    "duration": 25,
    "start_time": "2025-04-20T20:45:17.878Z"
   },
   {
    "duration": 14,
    "start_time": "2025-04-20T20:45:17.905Z"
   },
   {
    "duration": 14,
    "start_time": "2025-04-20T20:45:17.920Z"
   },
   {
    "duration": 3,
    "start_time": "2025-04-20T20:45:17.936Z"
   },
   {
    "duration": 101,
    "start_time": "2025-04-20T20:45:17.941Z"
   },
   {
    "duration": 50,
    "start_time": "2025-04-20T20:45:18.044Z"
   },
   {
    "duration": 882,
    "start_time": "2025-04-20T20:45:18.096Z"
   },
   {
    "duration": 2497,
    "start_time": "2025-04-20T20:46:28.052Z"
   },
   {
    "duration": 1607,
    "start_time": "2025-04-20T20:46:30.552Z"
   },
   {
    "duration": 37,
    "start_time": "2025-04-20T20:46:32.161Z"
   },
   {
    "duration": 11,
    "start_time": "2025-04-20T20:46:32.200Z"
   },
   {
    "duration": 17,
    "start_time": "2025-04-20T20:46:32.213Z"
   },
   {
    "duration": 35,
    "start_time": "2025-04-20T20:46:32.232Z"
   },
   {
    "duration": 10,
    "start_time": "2025-04-20T20:46:32.268Z"
   },
   {
    "duration": 94,
    "start_time": "2025-04-20T20:46:32.279Z"
   },
   {
    "duration": 25,
    "start_time": "2025-04-20T20:46:32.375Z"
   },
   {
    "duration": 23,
    "start_time": "2025-04-20T20:46:32.402Z"
   },
   {
    "duration": 18,
    "start_time": "2025-04-20T20:46:32.427Z"
   },
   {
    "duration": 346,
    "start_time": "2025-04-20T20:46:32.447Z"
   },
   {
    "duration": 439,
    "start_time": "2025-04-20T20:46:32.795Z"
   },
   {
    "duration": 254,
    "start_time": "2025-04-20T20:46:33.238Z"
   },
   {
    "duration": 335,
    "start_time": "2025-04-20T20:46:33.493Z"
   },
   {
    "duration": 818,
    "start_time": "2025-04-20T20:46:33.830Z"
   },
   {
    "duration": 4,
    "start_time": "2025-04-20T20:46:34.651Z"
   },
   {
    "duration": 37,
    "start_time": "2025-04-20T20:46:34.657Z"
   },
   {
    "duration": 15,
    "start_time": "2025-04-20T20:46:34.696Z"
   },
   {
    "duration": 31,
    "start_time": "2025-04-20T20:46:34.713Z"
   },
   {
    "duration": 5,
    "start_time": "2025-04-20T20:46:34.746Z"
   },
   {
    "duration": 14,
    "start_time": "2025-04-20T20:46:34.753Z"
   },
   {
    "duration": 21,
    "start_time": "2025-04-20T20:46:34.776Z"
   },
   {
    "duration": 1283,
    "start_time": "2025-04-20T20:46:34.799Z"
   },
   {
    "duration": 2530,
    "start_time": "2025-04-20T20:53:02.796Z"
   },
   {
    "duration": 1509,
    "start_time": "2025-04-20T20:53:05.329Z"
   },
   {
    "duration": 38,
    "start_time": "2025-04-20T20:53:06.840Z"
   },
   {
    "duration": 12,
    "start_time": "2025-04-20T20:53:06.880Z"
   },
   {
    "duration": 24,
    "start_time": "2025-04-20T20:53:06.894Z"
   },
   {
    "duration": 33,
    "start_time": "2025-04-20T20:53:06.920Z"
   },
   {
    "duration": 29,
    "start_time": "2025-04-20T20:53:06.955Z"
   },
   {
    "duration": 23,
    "start_time": "2025-04-20T20:53:06.986Z"
   },
   {
    "duration": 22,
    "start_time": "2025-04-20T20:53:07.010Z"
   },
   {
    "duration": 41,
    "start_time": "2025-04-20T20:53:07.033Z"
   },
   {
    "duration": 24,
    "start_time": "2025-04-20T20:53:07.076Z"
   },
   {
    "duration": 339,
    "start_time": "2025-04-20T20:53:07.102Z"
   },
   {
    "duration": 438,
    "start_time": "2025-04-20T20:53:07.443Z"
   },
   {
    "duration": 253,
    "start_time": "2025-04-20T20:53:07.884Z"
   },
   {
    "duration": 342,
    "start_time": "2025-04-20T20:53:08.138Z"
   },
   {
    "duration": 770,
    "start_time": "2025-04-20T20:53:08.482Z"
   },
   {
    "duration": 5,
    "start_time": "2025-04-20T20:53:09.253Z"
   },
   {
    "duration": 45,
    "start_time": "2025-04-20T20:53:09.260Z"
   },
   {
    "duration": 18,
    "start_time": "2025-04-20T20:53:09.308Z"
   },
   {
    "duration": 18,
    "start_time": "2025-04-20T20:53:09.328Z"
   },
   {
    "duration": 5,
    "start_time": "2025-04-20T20:53:09.348Z"
   },
   {
    "duration": 23,
    "start_time": "2025-04-20T20:53:09.354Z"
   },
   {
    "duration": 10,
    "start_time": "2025-04-20T20:53:09.379Z"
   },
   {
    "duration": 187,
    "start_time": "2025-04-20T20:53:09.390Z"
   },
   {
    "duration": 1553,
    "start_time": "2025-04-20T20:53:41.863Z"
   },
   {
    "duration": 2622,
    "start_time": "2025-04-20T20:57:03.668Z"
   },
   {
    "duration": 1543,
    "start_time": "2025-04-20T20:57:06.293Z"
   },
   {
    "duration": 38,
    "start_time": "2025-04-20T20:57:07.838Z"
   },
   {
    "duration": 12,
    "start_time": "2025-04-20T20:57:07.877Z"
   },
   {
    "duration": 12,
    "start_time": "2025-04-20T20:57:07.892Z"
   },
   {
    "duration": 15,
    "start_time": "2025-04-20T20:57:07.905Z"
   },
   {
    "duration": 9,
    "start_time": "2025-04-20T20:57:07.921Z"
   },
   {
    "duration": 6,
    "start_time": "2025-04-20T20:57:07.932Z"
   },
   {
    "duration": 36,
    "start_time": "2025-04-20T20:57:07.939Z"
   },
   {
    "duration": 10,
    "start_time": "2025-04-20T20:57:07.977Z"
   },
   {
    "duration": 82,
    "start_time": "2025-04-20T20:57:07.989Z"
   },
   {
    "duration": 329,
    "start_time": "2025-04-20T20:57:08.072Z"
   },
   {
    "duration": 493,
    "start_time": "2025-04-20T20:57:08.403Z"
   },
   {
    "duration": 259,
    "start_time": "2025-04-20T20:57:08.899Z"
   },
   {
    "duration": 343,
    "start_time": "2025-04-20T20:57:09.159Z"
   },
   {
    "duration": 778,
    "start_time": "2025-04-20T20:57:09.504Z"
   },
   {
    "duration": 4,
    "start_time": "2025-04-20T20:57:10.284Z"
   },
   {
    "duration": 213,
    "start_time": "2025-04-20T20:57:10.290Z"
   },
   {
    "duration": 15,
    "start_time": "2025-04-20T20:57:10.505Z"
   },
   {
    "duration": 14,
    "start_time": "2025-04-20T20:57:10.522Z"
   },
   {
    "duration": 3,
    "start_time": "2025-04-20T20:57:10.538Z"
   },
   {
    "duration": 10,
    "start_time": "2025-04-20T20:57:10.543Z"
   },
   {
    "duration": 1029,
    "start_time": "2025-04-20T20:57:10.555Z"
   },
   {
    "duration": 1721,
    "start_time": "2025-04-20T20:57:11.588Z"
   },
   {
    "duration": 254631,
    "start_time": "2025-04-20T20:57:13.311Z"
   },
   {
    "duration": 275,
    "start_time": "2025-04-20T21:02:02.521Z"
   },
   {
    "duration": 903,
    "start_time": "2025-04-20T21:02:22.482Z"
   },
   {
    "duration": 1317,
    "start_time": "2025-04-20T21:04:02.862Z"
   },
   {
    "duration": 1284,
    "start_time": "2025-04-20T21:05:07.391Z"
   },
   {
    "duration": 1000,
    "start_time": "2025-04-20T21:07:46.184Z"
   },
   {
    "duration": 12,
    "start_time": "2025-04-20T21:16:17.080Z"
   },
   {
    "duration": 177,
    "start_time": "2025-04-20T21:16:31.202Z"
   },
   {
    "duration": 3,
    "start_time": "2025-04-20T21:36:54.399Z"
   },
   {
    "duration": 9,
    "start_time": "2025-04-20T21:38:03.185Z"
   },
   {
    "duration": 10,
    "start_time": "2025-04-20T21:38:45.863Z"
   },
   {
    "duration": 2542,
    "start_time": "2025-04-20T21:46:21.651Z"
   },
   {
    "duration": 1556,
    "start_time": "2025-04-20T21:46:24.196Z"
   },
   {
    "duration": 49,
    "start_time": "2025-04-20T21:46:25.753Z"
   },
   {
    "duration": 13,
    "start_time": "2025-04-20T21:46:25.803Z"
   },
   {
    "duration": 27,
    "start_time": "2025-04-20T21:46:25.818Z"
   },
   {
    "duration": 117,
    "start_time": "2025-04-20T21:46:25.847Z"
   },
   {
    "duration": 12,
    "start_time": "2025-04-20T21:46:25.967Z"
   },
   {
    "duration": 28,
    "start_time": "2025-04-20T21:46:25.981Z"
   },
   {
    "duration": 27,
    "start_time": "2025-04-20T21:46:26.011Z"
   },
   {
    "duration": 14,
    "start_time": "2025-04-20T21:46:26.040Z"
   },
   {
    "duration": 10,
    "start_time": "2025-04-20T21:46:26.055Z"
   },
   {
    "duration": 330,
    "start_time": "2025-04-20T21:46:26.067Z"
   },
   {
    "duration": 460,
    "start_time": "2025-04-20T21:46:26.399Z"
   },
   {
    "duration": 269,
    "start_time": "2025-04-20T21:46:26.863Z"
   },
   {
    "duration": 334,
    "start_time": "2025-04-20T21:46:27.134Z"
   },
   {
    "duration": 785,
    "start_time": "2025-04-20T21:46:27.470Z"
   },
   {
    "duration": 4,
    "start_time": "2025-04-20T21:46:28.257Z"
   },
   {
    "duration": 24,
    "start_time": "2025-04-20T21:46:28.277Z"
   },
   {
    "duration": 16,
    "start_time": "2025-04-20T21:46:28.302Z"
   },
   {
    "duration": 14,
    "start_time": "2025-04-20T21:46:28.320Z"
   },
   {
    "duration": 3,
    "start_time": "2025-04-20T21:46:28.336Z"
   },
   {
    "duration": 202,
    "start_time": "2025-04-20T21:46:28.377Z"
   },
   {
    "duration": 224,
    "start_time": "2025-04-20T21:46:28.581Z"
   },
   {
    "duration": 0,
    "start_time": "2025-04-20T21:46:28.806Z"
   },
   {
    "duration": 0,
    "start_time": "2025-04-20T21:46:28.808Z"
   },
   {
    "duration": 0,
    "start_time": "2025-04-20T21:46:28.809Z"
   },
   {
    "duration": 2506,
    "start_time": "2025-04-20T21:49:22.143Z"
   },
   {
    "duration": 1608,
    "start_time": "2025-04-20T21:49:24.652Z"
   },
   {
    "duration": 48,
    "start_time": "2025-04-20T21:49:26.262Z"
   },
   {
    "duration": 11,
    "start_time": "2025-04-20T21:49:26.311Z"
   },
   {
    "duration": 49,
    "start_time": "2025-04-20T21:49:26.324Z"
   },
   {
    "duration": 82,
    "start_time": "2025-04-20T21:49:26.375Z"
   },
   {
    "duration": 26,
    "start_time": "2025-04-20T21:49:26.458Z"
   },
   {
    "duration": 6,
    "start_time": "2025-04-20T21:49:26.486Z"
   },
   {
    "duration": 5,
    "start_time": "2025-04-20T21:49:26.494Z"
   },
   {
    "duration": 11,
    "start_time": "2025-04-20T21:49:26.501Z"
   },
   {
    "duration": 12,
    "start_time": "2025-04-20T21:49:26.513Z"
   },
   {
    "duration": 366,
    "start_time": "2025-04-20T21:49:26.527Z"
   },
   {
    "duration": 437,
    "start_time": "2025-04-20T21:49:26.896Z"
   },
   {
    "duration": 247,
    "start_time": "2025-04-20T21:49:27.336Z"
   },
   {
    "duration": 343,
    "start_time": "2025-04-20T21:49:27.585Z"
   },
   {
    "duration": 833,
    "start_time": "2025-04-20T21:49:27.930Z"
   },
   {
    "duration": 13,
    "start_time": "2025-04-20T21:49:28.764Z"
   },
   {
    "duration": 24,
    "start_time": "2025-04-20T21:49:28.778Z"
   },
   {
    "duration": 16,
    "start_time": "2025-04-20T21:49:28.803Z"
   },
   {
    "duration": 33,
    "start_time": "2025-04-20T21:49:28.820Z"
   },
   {
    "duration": 22,
    "start_time": "2025-04-20T21:49:28.855Z"
   },
   {
    "duration": 198,
    "start_time": "2025-04-20T21:49:28.879Z"
   },
   {
    "duration": 185,
    "start_time": "2025-04-20T21:49:29.079Z"
   },
   {
    "duration": 0,
    "start_time": "2025-04-20T21:49:29.266Z"
   },
   {
    "duration": 0,
    "start_time": "2025-04-20T21:49:29.267Z"
   },
   {
    "duration": 0,
    "start_time": "2025-04-20T21:49:29.276Z"
   },
   {
    "duration": 3,
    "start_time": "2025-04-20T21:50:28.139Z"
   },
   {
    "duration": 197,
    "start_time": "2025-04-20T21:50:29.993Z"
   },
   {
    "duration": 1641,
    "start_time": "2025-04-20T21:50:31.284Z"
   },
   {
    "duration": 2563,
    "start_time": "2025-04-20T21:50:44.817Z"
   },
   {
    "duration": 1550,
    "start_time": "2025-04-20T21:50:47.383Z"
   },
   {
    "duration": 38,
    "start_time": "2025-04-20T21:50:48.934Z"
   },
   {
    "duration": 11,
    "start_time": "2025-04-20T21:50:48.974Z"
   },
   {
    "duration": 12,
    "start_time": "2025-04-20T21:50:48.987Z"
   },
   {
    "duration": 13,
    "start_time": "2025-04-20T21:50:49.001Z"
   },
   {
    "duration": 10,
    "start_time": "2025-04-20T21:50:49.016Z"
   },
   {
    "duration": 10,
    "start_time": "2025-04-20T21:50:49.028Z"
   },
   {
    "duration": 5,
    "start_time": "2025-04-20T21:50:49.040Z"
   },
   {
    "duration": 37,
    "start_time": "2025-04-20T21:50:49.047Z"
   },
   {
    "duration": 19,
    "start_time": "2025-04-20T21:50:49.086Z"
   },
   {
    "duration": 314,
    "start_time": "2025-04-20T21:50:49.107Z"
   },
   {
    "duration": 439,
    "start_time": "2025-04-20T21:50:49.423Z"
   },
   {
    "duration": 257,
    "start_time": "2025-04-20T21:50:49.865Z"
   },
   {
    "duration": 340,
    "start_time": "2025-04-20T21:50:50.124Z"
   },
   {
    "duration": 809,
    "start_time": "2025-04-20T21:50:50.467Z"
   },
   {
    "duration": 4,
    "start_time": "2025-04-20T21:50:51.278Z"
   },
   {
    "duration": 23,
    "start_time": "2025-04-20T21:50:51.284Z"
   },
   {
    "duration": 15,
    "start_time": "2025-04-20T21:50:51.309Z"
   },
   {
    "duration": 15,
    "start_time": "2025-04-20T21:50:51.326Z"
   },
   {
    "duration": 35,
    "start_time": "2025-04-20T21:50:51.343Z"
   },
   {
    "duration": 8,
    "start_time": "2025-04-20T21:50:51.380Z"
   },
   {
    "duration": 187,
    "start_time": "2025-04-20T21:50:51.390Z"
   },
   {
    "duration": 1703,
    "start_time": "2025-04-20T21:50:51.579Z"
   },
   {
    "duration": 243349,
    "start_time": "2025-04-20T21:50:53.284Z"
   },
   {
    "duration": 3,
    "start_time": "2025-04-20T21:54:56.634Z"
   },
   {
    "duration": 54,
    "start_time": "2025-04-20T21:54:56.639Z"
   },
   {
    "duration": 2585,
    "start_time": "2025-04-20T21:55:39.481Z"
   },
   {
    "duration": 2008,
    "start_time": "2025-04-20T21:55:42.069Z"
   },
   {
    "duration": 37,
    "start_time": "2025-04-20T21:55:44.078Z"
   },
   {
    "duration": 11,
    "start_time": "2025-04-20T21:55:44.117Z"
   },
   {
    "duration": 14,
    "start_time": "2025-04-20T21:55:44.129Z"
   },
   {
    "duration": 14,
    "start_time": "2025-04-20T21:55:44.145Z"
   },
   {
    "duration": 24,
    "start_time": "2025-04-20T21:55:44.161Z"
   },
   {
    "duration": 77,
    "start_time": "2025-04-20T21:55:44.186Z"
   },
   {
    "duration": 32,
    "start_time": "2025-04-20T21:55:44.265Z"
   },
   {
    "duration": 13,
    "start_time": "2025-04-20T21:55:44.299Z"
   },
   {
    "duration": 9,
    "start_time": "2025-04-20T21:55:44.314Z"
   },
   {
    "duration": 320,
    "start_time": "2025-04-20T21:55:44.325Z"
   },
   {
    "duration": 551,
    "start_time": "2025-04-20T21:55:44.647Z"
   },
   {
    "duration": 0,
    "start_time": "2025-04-20T21:55:45.201Z"
   },
   {
    "duration": 0,
    "start_time": "2025-04-20T21:55:45.202Z"
   },
   {
    "duration": 0,
    "start_time": "2025-04-20T21:55:45.203Z"
   },
   {
    "duration": 0,
    "start_time": "2025-04-20T21:55:45.205Z"
   },
   {
    "duration": 0,
    "start_time": "2025-04-20T21:55:45.206Z"
   },
   {
    "duration": 0,
    "start_time": "2025-04-20T21:55:45.207Z"
   },
   {
    "duration": 0,
    "start_time": "2025-04-20T21:55:45.209Z"
   },
   {
    "duration": 0,
    "start_time": "2025-04-20T21:55:45.210Z"
   },
   {
    "duration": 0,
    "start_time": "2025-04-20T21:55:45.211Z"
   },
   {
    "duration": 0,
    "start_time": "2025-04-20T21:55:45.212Z"
   },
   {
    "duration": 0,
    "start_time": "2025-04-20T21:55:45.213Z"
   },
   {
    "duration": 0,
    "start_time": "2025-04-20T21:55:45.215Z"
   },
   {
    "duration": 0,
    "start_time": "2025-04-20T21:55:45.215Z"
   },
   {
    "duration": 0,
    "start_time": "2025-04-20T21:55:45.217Z"
   },
   {
    "duration": 2552,
    "start_time": "2025-04-20T21:56:22.363Z"
   },
   {
    "duration": 1567,
    "start_time": "2025-04-20T21:56:24.918Z"
   },
   {
    "duration": 37,
    "start_time": "2025-04-20T21:56:26.486Z"
   },
   {
    "duration": 14,
    "start_time": "2025-04-20T21:56:26.526Z"
   },
   {
    "duration": 17,
    "start_time": "2025-04-20T21:56:26.546Z"
   },
   {
    "duration": 14,
    "start_time": "2025-04-20T21:56:26.576Z"
   },
   {
    "duration": 18,
    "start_time": "2025-04-20T21:56:26.591Z"
   },
   {
    "duration": 83,
    "start_time": "2025-04-20T21:56:26.611Z"
   },
   {
    "duration": 7,
    "start_time": "2025-04-20T21:56:26.696Z"
   },
   {
    "duration": 136,
    "start_time": "2025-04-20T21:56:26.705Z"
   },
   {
    "duration": 9,
    "start_time": "2025-04-20T21:56:26.843Z"
   },
   {
    "duration": 335,
    "start_time": "2025-04-20T21:56:26.854Z"
   },
   {
    "duration": 442,
    "start_time": "2025-04-20T21:56:27.191Z"
   },
   {
    "duration": 251,
    "start_time": "2025-04-20T21:56:27.636Z"
   },
   {
    "duration": 359,
    "start_time": "2025-04-20T21:56:27.889Z"
   },
   {
    "duration": 854,
    "start_time": "2025-04-20T21:56:28.250Z"
   },
   {
    "duration": 4,
    "start_time": "2025-04-20T21:56:29.106Z"
   },
   {
    "duration": 24,
    "start_time": "2025-04-20T21:56:29.112Z"
   },
   {
    "duration": 45,
    "start_time": "2025-04-20T21:56:29.137Z"
   },
   {
    "duration": 16,
    "start_time": "2025-04-20T21:56:29.184Z"
   },
   {
    "duration": 9,
    "start_time": "2025-04-20T21:56:29.202Z"
   },
   {
    "duration": 6,
    "start_time": "2025-04-20T21:56:29.213Z"
   },
   {
    "duration": 270,
    "start_time": "2025-04-20T21:56:29.221Z"
   },
   {
    "duration": 1648,
    "start_time": "2025-04-20T21:56:29.578Z"
   },
   {
    "duration": 4519,
    "start_time": "2025-04-20T21:56:31.228Z"
   },
   {
    "duration": 0,
    "start_time": "2025-04-20T21:56:35.749Z"
   },
   {
    "duration": 0,
    "start_time": "2025-04-20T21:56:35.751Z"
   },
   {
    "duration": 2611,
    "start_time": "2025-04-20T21:56:54.690Z"
   },
   {
    "duration": 1542,
    "start_time": "2025-04-20T21:56:57.304Z"
   },
   {
    "duration": 38,
    "start_time": "2025-04-20T21:56:58.848Z"
   },
   {
    "duration": 12,
    "start_time": "2025-04-20T21:56:58.888Z"
   },
   {
    "duration": 60,
    "start_time": "2025-04-20T21:56:58.902Z"
   },
   {
    "duration": 17,
    "start_time": "2025-04-20T21:56:58.964Z"
   },
   {
    "duration": 15,
    "start_time": "2025-04-20T21:56:58.983Z"
   },
   {
    "duration": 5,
    "start_time": "2025-04-20T21:56:59.000Z"
   },
   {
    "duration": 5,
    "start_time": "2025-04-20T21:56:59.007Z"
   },
   {
    "duration": 12,
    "start_time": "2025-04-20T21:56:59.014Z"
   },
   {
    "duration": 9,
    "start_time": "2025-04-20T21:56:59.027Z"
   },
   {
    "duration": 375,
    "start_time": "2025-04-20T21:56:59.038Z"
   },
   {
    "duration": 476,
    "start_time": "2025-04-20T21:56:59.416Z"
   },
   {
    "duration": 259,
    "start_time": "2025-04-20T21:56:59.895Z"
   },
   {
    "duration": 348,
    "start_time": "2025-04-20T21:57:00.156Z"
   },
   {
    "duration": 799,
    "start_time": "2025-04-20T21:57:00.506Z"
   },
   {
    "duration": 3,
    "start_time": "2025-04-20T21:57:01.307Z"
   },
   {
    "duration": 44,
    "start_time": "2025-04-20T21:57:01.312Z"
   },
   {
    "duration": 22,
    "start_time": "2025-04-20T21:57:01.358Z"
   },
   {
    "duration": 28,
    "start_time": "2025-04-20T21:57:01.382Z"
   },
   {
    "duration": 4,
    "start_time": "2025-04-20T21:57:01.412Z"
   },
   {
    "duration": 43,
    "start_time": "2025-04-20T21:57:01.419Z"
   },
   {
    "duration": 119,
    "start_time": "2025-04-20T21:57:01.464Z"
   },
   {
    "duration": 1767,
    "start_time": "2025-04-20T21:57:01.586Z"
   },
   {
    "duration": 238281,
    "start_time": "2025-04-20T21:57:03.355Z"
   },
   {
    "duration": 3,
    "start_time": "2025-04-20T22:01:01.640Z"
   },
   {
    "duration": 19,
    "start_time": "2025-04-20T22:01:01.645Z"
   },
   {
    "duration": 2575,
    "start_time": "2025-04-20T22:01:39.071Z"
   },
   {
    "duration": 1616,
    "start_time": "2025-04-20T22:01:41.649Z"
   },
   {
    "duration": 37,
    "start_time": "2025-04-20T22:01:43.266Z"
   },
   {
    "duration": 10,
    "start_time": "2025-04-20T22:01:43.305Z"
   },
   {
    "duration": 15,
    "start_time": "2025-04-20T22:01:43.317Z"
   },
   {
    "duration": 31,
    "start_time": "2025-04-20T22:01:43.333Z"
   },
   {
    "duration": 15,
    "start_time": "2025-04-20T22:01:43.366Z"
   },
   {
    "duration": 22,
    "start_time": "2025-04-20T22:01:43.383Z"
   },
   {
    "duration": 20,
    "start_time": "2025-04-20T22:01:43.406Z"
   },
   {
    "duration": 11,
    "start_time": "2025-04-20T22:01:43.427Z"
   },
   {
    "duration": 9,
    "start_time": "2025-04-20T22:01:43.440Z"
   },
   {
    "duration": 326,
    "start_time": "2025-04-20T22:01:43.451Z"
   },
   {
    "duration": 459,
    "start_time": "2025-04-20T22:01:43.779Z"
   },
   {
    "duration": 256,
    "start_time": "2025-04-20T22:01:44.243Z"
   },
   {
    "duration": 337,
    "start_time": "2025-04-20T22:01:44.501Z"
   },
   {
    "duration": 811,
    "start_time": "2025-04-20T22:01:44.840Z"
   },
   {
    "duration": 5,
    "start_time": "2025-04-20T22:01:45.653Z"
   },
   {
    "duration": 48,
    "start_time": "2025-04-20T22:01:45.660Z"
   },
   {
    "duration": 16,
    "start_time": "2025-04-20T22:01:45.710Z"
   },
   {
    "duration": 16,
    "start_time": "2025-04-20T22:01:45.728Z"
   },
   {
    "duration": 4,
    "start_time": "2025-04-20T22:01:45.746Z"
   },
   {
    "duration": 25,
    "start_time": "2025-04-20T22:01:45.752Z"
   },
   {
    "duration": 104,
    "start_time": "2025-04-20T22:01:45.779Z"
   },
   {
    "duration": 1708,
    "start_time": "2025-04-20T22:01:45.886Z"
   },
   {
    "duration": 147931,
    "start_time": "2025-04-20T22:01:47.596Z"
   },
   {
    "duration": 0,
    "start_time": "2025-04-20T22:04:15.529Z"
   },
   {
    "duration": 0,
    "start_time": "2025-04-20T22:04:15.531Z"
   },
   {
    "duration": 2549,
    "start_time": "2025-04-20T22:04:24.511Z"
   },
   {
    "duration": 1572,
    "start_time": "2025-04-20T22:04:27.064Z"
   },
   {
    "duration": 47,
    "start_time": "2025-04-20T22:04:28.639Z"
   },
   {
    "duration": 57,
    "start_time": "2025-04-20T22:04:28.688Z"
   },
   {
    "duration": 18,
    "start_time": "2025-04-20T22:04:28.748Z"
   },
   {
    "duration": 13,
    "start_time": "2025-04-20T22:04:28.768Z"
   },
   {
    "duration": 94,
    "start_time": "2025-04-20T22:04:28.783Z"
   },
   {
    "duration": 5,
    "start_time": "2025-04-20T22:04:28.878Z"
   },
   {
    "duration": 22,
    "start_time": "2025-04-20T22:04:28.885Z"
   },
   {
    "duration": 22,
    "start_time": "2025-04-20T22:04:28.909Z"
   },
   {
    "duration": 34,
    "start_time": "2025-04-20T22:04:28.932Z"
   },
   {
    "duration": 325,
    "start_time": "2025-04-20T22:04:28.968Z"
   },
   {
    "duration": 444,
    "start_time": "2025-04-20T22:04:29.295Z"
   },
   {
    "duration": 250,
    "start_time": "2025-04-20T22:04:29.742Z"
   },
   {
    "duration": 336,
    "start_time": "2025-04-20T22:04:29.994Z"
   },
   {
    "duration": 850,
    "start_time": "2025-04-20T22:04:30.332Z"
   },
   {
    "duration": 5,
    "start_time": "2025-04-20T22:04:31.184Z"
   },
   {
    "duration": 33,
    "start_time": "2025-04-20T22:04:31.191Z"
   },
   {
    "duration": 16,
    "start_time": "2025-04-20T22:04:31.225Z"
   },
   {
    "duration": 44,
    "start_time": "2025-04-20T22:04:31.243Z"
   },
   {
    "duration": 3,
    "start_time": "2025-04-20T22:04:31.289Z"
   },
   {
    "duration": 9,
    "start_time": "2025-04-20T22:04:31.294Z"
   },
   {
    "duration": 83,
    "start_time": "2025-04-20T22:04:31.304Z"
   },
   {
    "duration": 1770,
    "start_time": "2025-04-20T22:04:31.390Z"
   },
   {
    "duration": 250638,
    "start_time": "2025-04-20T22:04:33.162Z"
   },
   {
    "duration": 3,
    "start_time": "2025-04-20T22:08:43.802Z"
   },
   {
    "duration": 10,
    "start_time": "2025-04-20T22:08:43.807Z"
   },
   {
    "duration": 2617,
    "start_time": "2025-04-20T22:11:13.921Z"
   },
   {
    "duration": 1595,
    "start_time": "2025-04-20T22:11:16.541Z"
   },
   {
    "duration": 40,
    "start_time": "2025-04-20T22:11:18.138Z"
   },
   {
    "duration": 11,
    "start_time": "2025-04-20T22:11:18.180Z"
   },
   {
    "duration": 18,
    "start_time": "2025-04-20T22:11:18.193Z"
   },
   {
    "duration": 26,
    "start_time": "2025-04-20T22:11:18.212Z"
   },
   {
    "duration": 36,
    "start_time": "2025-04-20T22:11:18.240Z"
   },
   {
    "duration": 62,
    "start_time": "2025-04-20T22:11:18.278Z"
   },
   {
    "duration": 5,
    "start_time": "2025-04-20T22:11:18.342Z"
   },
   {
    "duration": 15,
    "start_time": "2025-04-20T22:11:18.348Z"
   },
   {
    "duration": 10,
    "start_time": "2025-04-20T22:11:18.365Z"
   },
   {
    "duration": 328,
    "start_time": "2025-04-20T22:11:18.377Z"
   },
   {
    "duration": 448,
    "start_time": "2025-04-20T22:11:18.708Z"
   },
   {
    "duration": 245,
    "start_time": "2025-04-20T22:11:19.159Z"
   },
   {
    "duration": 337,
    "start_time": "2025-04-20T22:11:19.406Z"
   },
   {
    "duration": 833,
    "start_time": "2025-04-20T22:11:19.744Z"
   },
   {
    "duration": 4,
    "start_time": "2025-04-20T22:11:20.578Z"
   },
   {
    "duration": 50,
    "start_time": "2025-04-20T22:11:20.584Z"
   },
   {
    "duration": 15,
    "start_time": "2025-04-20T22:11:20.636Z"
   },
   {
    "duration": 119,
    "start_time": "2025-04-20T22:11:20.653Z"
   },
   {
    "duration": 7,
    "start_time": "2025-04-20T22:11:20.774Z"
   },
   {
    "duration": 16,
    "start_time": "2025-04-20T22:11:20.782Z"
   },
   {
    "duration": 187,
    "start_time": "2025-04-20T22:11:20.800Z"
   },
   {
    "duration": 1677,
    "start_time": "2025-04-20T22:11:20.989Z"
   },
   {
    "duration": 251672,
    "start_time": "2025-04-20T22:11:22.667Z"
   },
   {
    "duration": 2,
    "start_time": "2025-04-20T22:15:34.341Z"
   },
   {
    "duration": 26,
    "start_time": "2025-04-20T22:15:34.345Z"
   },
   {
    "duration": 31,
    "start_time": "2025-04-20T22:16:47.308Z"
   },
   {
    "duration": 2554,
    "start_time": "2025-04-20T22:17:27.125Z"
   },
   {
    "duration": 1570,
    "start_time": "2025-04-20T22:17:29.682Z"
   },
   {
    "duration": 51,
    "start_time": "2025-04-20T22:17:31.253Z"
   },
   {
    "duration": 11,
    "start_time": "2025-04-20T22:17:31.306Z"
   },
   {
    "duration": 51,
    "start_time": "2025-04-20T22:17:31.319Z"
   },
   {
    "duration": 25,
    "start_time": "2025-04-20T22:17:31.371Z"
   },
   {
    "duration": 9,
    "start_time": "2025-04-20T22:17:31.397Z"
   },
   {
    "duration": 44,
    "start_time": "2025-04-20T22:17:31.408Z"
   },
   {
    "duration": 22,
    "start_time": "2025-04-20T22:17:31.454Z"
   },
   {
    "duration": 18,
    "start_time": "2025-04-20T22:17:31.478Z"
   },
   {
    "duration": 13,
    "start_time": "2025-04-20T22:17:31.497Z"
   },
   {
    "duration": 361,
    "start_time": "2025-04-20T22:17:31.512Z"
   },
   {
    "duration": 484,
    "start_time": "2025-04-20T22:17:31.875Z"
   },
   {
    "duration": 259,
    "start_time": "2025-04-20T22:17:32.363Z"
   },
   {
    "duration": 337,
    "start_time": "2025-04-20T22:17:32.623Z"
   },
   {
    "duration": 799,
    "start_time": "2025-04-20T22:17:32.962Z"
   },
   {
    "duration": 4,
    "start_time": "2025-04-20T22:17:33.763Z"
   },
   {
    "duration": 84,
    "start_time": "2025-04-20T22:17:33.777Z"
   },
   {
    "duration": 28,
    "start_time": "2025-04-20T22:17:33.863Z"
   },
   {
    "duration": 15,
    "start_time": "2025-04-20T22:17:33.893Z"
   },
   {
    "duration": 106,
    "start_time": "2025-04-20T22:17:33.910Z"
   },
   {
    "duration": 58,
    "start_time": "2025-04-20T22:17:34.018Z"
   },
   {
    "duration": 104,
    "start_time": "2025-04-20T22:17:34.078Z"
   },
   {
    "duration": 1676,
    "start_time": "2025-04-20T22:17:34.184Z"
   },
   {
    "duration": 248586,
    "start_time": "2025-04-20T22:17:35.862Z"
   },
   {
    "duration": 3,
    "start_time": "2025-04-20T22:21:44.450Z"
   },
   {
    "duration": 8,
    "start_time": "2025-04-20T22:21:44.455Z"
   }
  ],
  "kernelspec": {
   "display_name": "Python 3 (ipykernel)",
   "language": "python",
   "name": "python3"
  },
  "language_info": {
   "codemirror_mode": {
    "name": "ipython",
    "version": 3
   },
   "file_extension": ".py",
   "mimetype": "text/x-python",
   "name": "python",
   "nbconvert_exporter": "python",
   "pygments_lexer": "ipython3",
   "version": "3.9.5"
  },
  "toc": {
   "base_numbering": 1,
   "nav_menu": {},
   "number_sections": true,
   "sideBar": true,
   "skip_h1_title": true,
   "title_cell": "Содержание",
   "title_sidebar": "Contents",
   "toc_cell": true,
   "toc_position": {},
   "toc_section_display": true,
   "toc_window_display": true
  }
 },
 "nbformat": 4,
 "nbformat_minor": 2
}
