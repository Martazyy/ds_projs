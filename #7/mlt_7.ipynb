{
 "cells": [
  {
   "cell_type": "markdown",
   "metadata": {},
   "source": [
    "# Sentiment Analysis"
   ]
  },
  {
   "cell_type": "markdown",
   "metadata": {},
   "source": [
    "Интернет-магазин запускает новый сервис. Теперь пользователи могут редактировать и дополнять описания товаров, как в вики-сообществах. То есть клиенты предлагают свои правки и комментируют изменения других. Магазину нужен инструмент, который будет искать токсичные комментарии и отправлять их на модерацию. \n",
    "\n",
    "Обучите модель классифицировать комментарии на позитивные и негативные. В вашем распоряжении набор данных с разметкой о токсичности правок.\n",
    "\n",
    "Постройте модель со значением метрики качества *F1* не меньше 0.75. \n",
    "\n",
    "**Инструкция по выполнению проекта**\n",
    "\n",
    "1. Загрузите и подготовьте данные.\n",
    "2. Обучите разные модели. \n",
    "3. Сделайте выводы.\n",
    "\n",
    "\n",
    "**Описание данных**\n",
    "\n",
    "Данные находятся в файле `toxic_comments.csv`. Столбец *text* в нём содержит текст комментария, а *toxic* — целевой признак."
   ]
  },
  {
   "cell_type": "markdown",
   "metadata": {},
   "source": [
    "## Подготовка"
   ]
  },
  {
   "cell_type": "markdown",
   "metadata": {},
   "source": [
    "### Импорт библиотек"
   ]
  },
  {
   "cell_type": "code",
   "execution_count": 1,
   "metadata": {},
   "outputs": [],
   "source": [
    "!pip install numpy==1.26.4 -q\n",
    "!pip install pandas==2.2.1 -q\n",
    "!pip install scikit-learn==1.3.2 -q \n",
    "!pip install spacy==3.7.2 -q"
   ]
  },
  {
   "cell_type": "code",
   "execution_count": 2,
   "metadata": {},
   "outputs": [
    {
     "name": "stdout",
     "output_type": "stream",
     "text": [
      "\u001b[38;5;2m✔ Download and installation successful\u001b[0m\n",
      "You can now load the package via spacy.load('en_core_web_sm')\n"
     ]
    }
   ],
   "source": [
    "!python -m spacy download en_core_web_sm -q"
   ]
  },
  {
   "cell_type": "code",
   "execution_count": 3,
   "metadata": {},
   "outputs": [],
   "source": [
    "import re\n",
    "import warnings\n",
    "\n",
    "import pandas as pd\n",
    "import numpy as np\n",
    "import nltk\n",
    "import spacy\n",
    "\n",
    "from nltk.corpus import stopwords\n",
    "from tqdm import tqdm\n",
    "from sklearn.pipeline import Pipeline\n",
    "from sklearn.model_selection import train_test_split\n",
    "from sklearn.feature_extraction.text import TfidfVectorizer\n",
    "from sklearn.model_selection import RandomizedSearchCV, StratifiedKFold\n",
    "from sklearn.linear_model import LogisticRegression\n",
    "from sklearn.linear_model import SGDClassifier\n",
    "from sklearn.linear_model import PassiveAggressiveClassifier\n",
    "from sklearn.metrics import make_scorer, f1_score\n",
    "\n",
    "warnings.filterwarnings(\"ignore\")\n",
    "\n",
    "TEST_SIZE = 0.25\n",
    "RANDOM_STATE = 42"
   ]
  },
  {
   "cell_type": "markdown",
   "metadata": {},
   "source": [
    "### Загрузка данных"
   ]
  },
  {
   "cell_type": "code",
   "execution_count": 4,
   "metadata": {},
   "outputs": [
    {
     "name": "stdout",
     "output_type": "stream",
     "text": [
      "Датасет успешно загружен.\n",
      "Завершена попытка загрузки файлов.\n"
     ]
    }
   ],
   "source": [
    "try:\n",
    "    data = pd.read_csv('toxic_comments.csv')\n",
    "except Exception as e:\n",
    "    print(f'Ошибка при загрузке датасета: {e}')\n",
    "else:\n",
    "    print('Датасет успешно загружен.')\n",
    "finally:\n",
    "    print('Завершена попытка загрузки файлов.')"
   ]
  },
  {
   "cell_type": "markdown",
   "metadata": {},
   "source": [
    "### Обзор датасета"
   ]
  },
  {
   "cell_type": "code",
   "execution_count": 5,
   "metadata": {},
   "outputs": [
    {
     "data": {
      "text/html": [
       "<div>\n",
       "<style scoped>\n",
       "    .dataframe tbody tr th:only-of-type {\n",
       "        vertical-align: middle;\n",
       "    }\n",
       "\n",
       "    .dataframe tbody tr th {\n",
       "        vertical-align: top;\n",
       "    }\n",
       "\n",
       "    .dataframe thead th {\n",
       "        text-align: right;\n",
       "    }\n",
       "</style>\n",
       "<table border=\"1\" class=\"dataframe\">\n",
       "  <thead>\n",
       "    <tr style=\"text-align: right;\">\n",
       "      <th></th>\n",
       "      <th>Unnamed: 0</th>\n",
       "      <th>text</th>\n",
       "      <th>toxic</th>\n",
       "    </tr>\n",
       "  </thead>\n",
       "  <tbody>\n",
       "    <tr>\n",
       "      <th>0</th>\n",
       "      <td>0</td>\n",
       "      <td>Explanation\\nWhy the edits made under my username Hardcore Metallica Fan were reverted? They weren't vandalisms, just closure on some GAs after I voted at New York Dolls FAC. And please don't remove the template from the talk page since I'm retired now.89.205.38.27</td>\n",
       "      <td>0</td>\n",
       "    </tr>\n",
       "    <tr>\n",
       "      <th>1</th>\n",
       "      <td>1</td>\n",
       "      <td>D'aww! He matches this background colour I'm seemingly stuck with. Thanks.  (talk) 21:51, January 11, 2016 (UTC)</td>\n",
       "      <td>0</td>\n",
       "    </tr>\n",
       "    <tr>\n",
       "      <th>2</th>\n",
       "      <td>2</td>\n",
       "      <td>Hey man, I'm really not trying to edit war. It's just that this guy is constantly removing relevant information and talking to me through edits instead of my talk page. He seems to care more about the formatting than the actual info.</td>\n",
       "      <td>0</td>\n",
       "    </tr>\n",
       "    <tr>\n",
       "      <th>3</th>\n",
       "      <td>3</td>\n",
       "      <td>\"\\nMore\\nI can't make any real suggestions on improvement - I wondered if the section statistics should be later on, or a subsection of \"\"types of accidents\"\"  -I think the references may need tidying so that they are all in the exact same format ie date format etc. I can do that later on, if no-one else does first - if you have any preferences for formatting style on references or want to do it yourself please let me know.\\n\\nThere appears to be a backlog on articles for review so I guess there may be a delay until a reviewer turns up. It's listed in the relevant form eg Wikipedia:Good_article_nominations#Transport  \"</td>\n",
       "      <td>0</td>\n",
       "    </tr>\n",
       "    <tr>\n",
       "      <th>4</th>\n",
       "      <td>4</td>\n",
       "      <td>You, sir, are my hero. Any chance you remember what page that's on?</td>\n",
       "      <td>0</td>\n",
       "    </tr>\n",
       "    <tr>\n",
       "      <th>5</th>\n",
       "      <td>5</td>\n",
       "      <td>\"\\n\\nCongratulations from me as well, use the tools well.  · talk \"</td>\n",
       "      <td>0</td>\n",
       "    </tr>\n",
       "    <tr>\n",
       "      <th>6</th>\n",
       "      <td>6</td>\n",
       "      <td>COCKSUCKER BEFORE YOU PISS AROUND ON MY WORK</td>\n",
       "      <td>1</td>\n",
       "    </tr>\n",
       "    <tr>\n",
       "      <th>7</th>\n",
       "      <td>7</td>\n",
       "      <td>Your vandalism to the Matt Shirvington article has been reverted.  Please don't do it again, or you will be banned.</td>\n",
       "      <td>0</td>\n",
       "    </tr>\n",
       "    <tr>\n",
       "      <th>8</th>\n",
       "      <td>8</td>\n",
       "      <td>Sorry if the word 'nonsense' was offensive to you. Anyway, I'm not intending to write anything in the article(wow they would jump on me for vandalism), I'm merely requesting that it be more encyclopedic so one can use it for school as a reference. I have been to the selective breeding page but it's almost a stub. It points to 'animal breeding' which is a short messy article that gives you no info. There must be someone around with expertise in eugenics? 93.161.107.169</td>\n",
       "      <td>0</td>\n",
       "    </tr>\n",
       "    <tr>\n",
       "      <th>9</th>\n",
       "      <td>9</td>\n",
       "      <td>alignment on this subject and which are contrary to those of DuLithgow</td>\n",
       "      <td>0</td>\n",
       "    </tr>\n",
       "    <tr>\n",
       "      <th>10</th>\n",
       "      <td>10</td>\n",
       "      <td>\"\\nFair use rationale for Image:Wonju.jpg\\n\\nThanks for uploading Image:Wonju.jpg. I notice the image page specifies that the image is being used under fair use but there is no explanation or rationale as to why its use in Wikipedia articles constitutes fair use. In addition to the boilerplate fair use template, you must also write out on the image description page a specific explanation or rationale for why using this image in each article is consistent with fair use.\\n\\nPlease go to the image description page and edit it to include a fair use rationale.\\n\\nIf you have uploaded other fair use media, consider checking that you have specified the fair use rationale on those pages too. You can find a list of 'image' pages you have edited by clicking on the \"\"my contributions\"\" link (it is located at the very top of any Wikipedia page when you are logged in), and then selecting \"\"Image\"\" from the dropdown box. Note that any fair use images uploaded after 4 May, 2006, and lacking such an explanation will be deleted one week after they have been uploaded, as described on criteria for speedy deletion. If you have any questions please ask them at the Media copyright questions page. Thank you. (talk • contribs • ) \\nUnspecified source for Image:Wonju.jpg\\n\\nThanks for uploading Image:Wonju.jpg. I noticed that the file's description page currently doesn't specify who created the content, so the copyright status is unclear. If you did not create this file yourself, then you will need to specify the owner of the copyright. If you obtained it from a website, then a link to the website from which it was taken, together with a restatement of that website's terms of use of its content, is usually sufficient information. However, if the copyright holder is different from the website's publisher, then their copyright should also be acknowledged.\\n\\nAs well as adding the source, please add a proper copyright licensing tag if the file doesn't have one already. If you created/took the picture, audio, or video then the  tag can be used to release it under the GFDL. If you believe the media meets the criteria at Wikipedia:Fair use, use a tag such as  or one of the other tags listed at Wikipedia:Image copyright tags#Fair use. See Wikipedia:Image copyright tags for the full list of copyright tags that you can use.\\n\\nIf you have uploaded other files, consider checking that you have specified their source and tagged them, too. You can find a list of files you have uploaded by following [ this link]. Unsourced and untagged images may be deleted one week after they have been tagged, as described on criteria for speedy deletion. If the image is copyrighted under a non-free license (per Wikipedia:Fair use) then the image will be deleted 48 hours after . If you have any questions please ask them at the Media copyright questions page. Thank you. (talk • contribs • ) \"</td>\n",
       "      <td>0</td>\n",
       "    </tr>\n",
       "    <tr>\n",
       "      <th>11</th>\n",
       "      <td>11</td>\n",
       "      <td>bbq \\n\\nbe a man and lets discuss it-maybe over the phone?</td>\n",
       "      <td>0</td>\n",
       "    </tr>\n",
       "    <tr>\n",
       "      <th>12</th>\n",
       "      <td>12</td>\n",
       "      <td>Hey... what is it..\\n@ | talk .\\nWhat is it... an exclusive group of some WP TALIBANS...who are good at destroying, self-appointed purist who GANG UP any one who asks them questions abt their ANTI-SOCIAL and DESTRUCTIVE (non)-contribution at WP?\\n\\nAsk Sityush to clean up his behavior than issue me nonsensical warnings...</td>\n",
       "      <td>1</td>\n",
       "    </tr>\n",
       "    <tr>\n",
       "      <th>13</th>\n",
       "      <td>13</td>\n",
       "      <td>Before you start throwing accusations and warnings at me, lets review the edit itself-making ad hominem attacks isn't going to strengthen your argument, it will merely make it look like you are abusing your power as an admin. \\nNow, the edit itself is relevant-this is probably the single most talked about event int he news as of late. His absence is notable, since he is the only living ex-president who did not attend. That's certainly more notable than his dedicating an aircracft carrier. \\nI intend to revert this edit, in hopes of attracting the attention of an admin that is willing to look at the issue itself, and not throw accusations around quite so liberally. Perhaps, if you achieve a level of civility where you can do this, we can have a rational discussion on the topic and resolve the matter peacefully.</td>\n",
       "      <td>0</td>\n",
       "    </tr>\n",
       "    <tr>\n",
       "      <th>14</th>\n",
       "      <td>14</td>\n",
       "      <td>Oh, and the girl above started her arguments with me. She stuck her nose where it doesn't belong. I believe the argument was between me and Yvesnimmo. But like I said, the situation was settled and I apologized. Thanks,</td>\n",
       "      <td>0</td>\n",
       "    </tr>\n",
       "    <tr>\n",
       "      <th>15</th>\n",
       "      <td>15</td>\n",
       "      <td>\"\\n\\nJuelz Santanas Age\\n\\nIn 2002, Juelz Santana was 18 years old, then came February 18th, which makes Juelz turn 19 making songs with The Diplomats. The third neff to be signed to Cam's label under Roc A Fella. In 2003, he was 20 years old coming out with his own singles \"\"Santana's Town\"\" and \"\"Down\"\". So yes, he is born in 1983. He really is, how could he be older then Lloyd Banks? And how could he be 22 when his birthday passed? The homie neff is 23 years old. 1983 - 2006 (Juelz death, god forbid if your thinking about that) equals 23. Go to your caculator and stop changing his year of birth. My god.\"</td>\n",
       "      <td>0</td>\n",
       "    </tr>\n",
       "    <tr>\n",
       "      <th>16</th>\n",
       "      <td>16</td>\n",
       "      <td>Bye! \\n\\nDon't look, come or think of comming back! Tosser.</td>\n",
       "      <td>1</td>\n",
       "    </tr>\n",
       "    <tr>\n",
       "      <th>17</th>\n",
       "      <td>17</td>\n",
       "      <td>REDIRECT Talk:Voydan Pop Georgiev- Chernodrinski</td>\n",
       "      <td>0</td>\n",
       "    </tr>\n",
       "    <tr>\n",
       "      <th>18</th>\n",
       "      <td>18</td>\n",
       "      <td>The Mitsurugi point made no sense - why not argue to include Hindi on Ryo Sakazaki's page to include more information?</td>\n",
       "      <td>0</td>\n",
       "    </tr>\n",
       "    <tr>\n",
       "      <th>19</th>\n",
       "      <td>19</td>\n",
       "      <td>Don't mean to bother you \\n\\nI see that you're writing something regarding removing anything posted here and if you do oh well but if not and you can acctually discuss this with me then even better.\\n\\nI'd like to ask you to take a closer look at the Premature wrestling deaths catagory and the men listed in it, surely these men belong together in some catagory. Is there anything that you think we can do with the catagory besides delting it?</td>\n",
       "      <td>0</td>\n",
       "    </tr>\n",
       "  </tbody>\n",
       "</table>\n",
       "</div>"
      ],
      "text/plain": [
       "    Unnamed: 0  \\\n",
       "0            0   \n",
       "1            1   \n",
       "2            2   \n",
       "3            3   \n",
       "4            4   \n",
       "5            5   \n",
       "6            6   \n",
       "7            7   \n",
       "8            8   \n",
       "9            9   \n",
       "10          10   \n",
       "11          11   \n",
       "12          12   \n",
       "13          13   \n",
       "14          14   \n",
       "15          15   \n",
       "16          16   \n",
       "17          17   \n",
       "18          18   \n",
       "19          19   \n",
       "\n",
       "                                                                                                                                                                                                                                                                                                                                                                                                                                                                                                                                                                                                                                                                                                                                                                                                                                                                                                                                                                                                                                                                                                                                                                                                                                                                                                                                                                                                                                                                                                                                                                                                                                                                                                                                                                                                                                                                                                                                                                                                                                                                                                                                                                                                                                                                                                                                                                                                                                                                                                                                                                                                                                                                                                                                                                                                                                                                                                                                                                                                         text  \\\n",
       "0                                                                                                                                                                                                                                                                                                                                                                                                                                                                                                                                                                                                                                                                                                                                                                                                                                                                                                                                                                                                                                                                                                                                                                                                                                                                                                                                                                                                                                                                                                                                                                                                                                                                                                                                                                                                                                                                                                                                                                                                                                                                                                                                                                                                                                                                                                                                                                                                                                                                                                                                                                                                                                                                                                                                   Explanation\\nWhy the edits made under my username Hardcore Metallica Fan were reverted? They weren't vandalisms, just closure on some GAs after I voted at New York Dolls FAC. And please don't remove the template from the talk page since I'm retired now.89.205.38.27   \n",
       "1                                                                                                                                                                                                                                                                                                                                                                                                                                                                                                                                                                                                                                                                                                                                                                                                                                                                                                                                                                                                                                                                                                                                                                                                                                                                                                                                                                                                                                                                                                                                                                                                                                                                                                                                                                                                                                                                                                                                                                                                                                                                                                                                                                                                                                                                                                                                                                                                                                                                                                                                                                                                                                                                                                                                                                                                                                                                                            D'aww! He matches this background colour I'm seemingly stuck with. Thanks.  (talk) 21:51, January 11, 2016 (UTC)   \n",
       "2                                                                                                                                                                                                                                                                                                                                                                                                                                                                                                                                                                                                                                                                                                                                                                                                                                                                                                                                                                                                                                                                                                                                                                                                                                                                                                                                                                                                                                                                                                                                                                                                                                                                                                                                                                                                                                                                                                                                                                                                                                                                                                                                                                                                                                                                                                                                                                                                                                                                                                                                                                                                                                                                                                                                                                   Hey man, I'm really not trying to edit war. It's just that this guy is constantly removing relevant information and talking to me through edits instead of my talk page. He seems to care more about the formatting than the actual info.   \n",
       "3                                                                                                                                                                                                                                                                                                                                                                                                                                                                                                                                                                                                                                                                                                                                                                                                                                                                                                                                                                                                                                                                                                                                                                                                                                                                                                                                                                                                                                                                                                                                                                                                                                                                                                                                                                                                                                                                                                                                                                                                                                                                                                                                                                                                                                                                                                                                                          \"\\nMore\\nI can't make any real suggestions on improvement - I wondered if the section statistics should be later on, or a subsection of \"\"types of accidents\"\"  -I think the references may need tidying so that they are all in the exact same format ie date format etc. I can do that later on, if no-one else does first - if you have any preferences for formatting style on references or want to do it yourself please let me know.\\n\\nThere appears to be a backlog on articles for review so I guess there may be a delay until a reviewer turns up. It's listed in the relevant form eg Wikipedia:Good_article_nominations#Transport  \"   \n",
       "4                                                                                                                                                                                                                                                                                                                                                                                                                                                                                                                                                                                                                                                                                                                                                                                                                                                                                                                                                                                                                                                                                                                                                                                                                                                                                                                                                                                                                                                                                                                                                                                                                                                                                                                                                                                                                                                                                                                                                                                                                                                                                                                                                                                                                                                                                                                                                                                                                                                                                                                                                                                                                                                                                                                                                                                                                                                                                                                                         You, sir, are my hero. Any chance you remember what page that's on?   \n",
       "5                                                                                                                                                                                                                                                                                                                                                                                                                                                                                                                                                                                                                                                                                                                                                                                                                                                                                                                                                                                                                                                                                                                                                                                                                                                                                                                                                                                                                                                                                                                                                                                                                                                                                                                                                                                                                                                                                                                                                                                                                                                                                                                                                                                                                                                                                                                                                                                                                                                                                                                                                                                                                                                                                                                                                                                                                                                                                                                                         \"\\n\\nCongratulations from me as well, use the tools well.  · talk \"   \n",
       "6                                                                                                                                                                                                                                                                                                                                                                                                                                                                                                                                                                                                                                                                                                                                                                                                                                                                                                                                                                                                                                                                                                                                                                                                                                                                                                                                                                                                                                                                                                                                                                                                                                                                                                                                                                                                                                                                                                                                                                                                                                                                                                                                                                                                                                                                                                                                                                                                                                                                                                                                                                                                                                                                                                                                                                                                                                                                                                                                                                COCKSUCKER BEFORE YOU PISS AROUND ON MY WORK   \n",
       "7                                                                                                                                                                                                                                                                                                                                                                                                                                                                                                                                                                                                                                                                                                                                                                                                                                                                                                                                                                                                                                                                                                                                                                                                                                                                                                                                                                                                                                                                                                                                                                                                                                                                                                                                                                                                                                                                                                                                                                                                                                                                                                                                                                                                                                                                                                                                                                                                                                                                                                                                                                                                                                                                                                                                                                                                                                                                                         Your vandalism to the Matt Shirvington article has been reverted.  Please don't do it again, or you will be banned.   \n",
       "8                                                                                                                                                                                                                                                                                                                                                                                                                                                                                                                                                                                                                                                                                                                                                                                                                                                                                                                                                                                                                                                                                                                                                                                                                                                                                                                                                                                                                                                                                                                                                                                                                                                                                                                                                                                                                                                                                                                                                                                                                                                                                                                                                                                                                                                                                                                                                                                                                                                                                                                    Sorry if the word 'nonsense' was offensive to you. Anyway, I'm not intending to write anything in the article(wow they would jump on me for vandalism), I'm merely requesting that it be more encyclopedic so one can use it for school as a reference. I have been to the selective breeding page but it's almost a stub. It points to 'animal breeding' which is a short messy article that gives you no info. There must be someone around with expertise in eugenics? 93.161.107.169   \n",
       "9                                                                                                                                                                                                                                                                                                                                                                                                                                                                                                                                                                                                                                                                                                                                                                                                                                                                                                                                                                                                                                                                                                                                                                                                                                                                                                                                                                                                                                                                                                                                                                                                                                                                                                                                                                                                                                                                                                                                                                                                                                                                                                                                                                                                                                                                                                                                                                                                                                                                                                                                                                                                                                                                                                                                                                                                                                                                                                                                      alignment on this subject and which are contrary to those of DuLithgow   \n",
       "10  \"\\nFair use rationale for Image:Wonju.jpg\\n\\nThanks for uploading Image:Wonju.jpg. I notice the image page specifies that the image is being used under fair use but there is no explanation or rationale as to why its use in Wikipedia articles constitutes fair use. In addition to the boilerplate fair use template, you must also write out on the image description page a specific explanation or rationale for why using this image in each article is consistent with fair use.\\n\\nPlease go to the image description page and edit it to include a fair use rationale.\\n\\nIf you have uploaded other fair use media, consider checking that you have specified the fair use rationale on those pages too. You can find a list of 'image' pages you have edited by clicking on the \"\"my contributions\"\" link (it is located at the very top of any Wikipedia page when you are logged in), and then selecting \"\"Image\"\" from the dropdown box. Note that any fair use images uploaded after 4 May, 2006, and lacking such an explanation will be deleted one week after they have been uploaded, as described on criteria for speedy deletion. If you have any questions please ask them at the Media copyright questions page. Thank you. (talk • contribs • ) \\nUnspecified source for Image:Wonju.jpg\\n\\nThanks for uploading Image:Wonju.jpg. I noticed that the file's description page currently doesn't specify who created the content, so the copyright status is unclear. If you did not create this file yourself, then you will need to specify the owner of the copyright. If you obtained it from a website, then a link to the website from which it was taken, together with a restatement of that website's terms of use of its content, is usually sufficient information. However, if the copyright holder is different from the website's publisher, then their copyright should also be acknowledged.\\n\\nAs well as adding the source, please add a proper copyright licensing tag if the file doesn't have one already. If you created/took the picture, audio, or video then the  tag can be used to release it under the GFDL. If you believe the media meets the criteria at Wikipedia:Fair use, use a tag such as  or one of the other tags listed at Wikipedia:Image copyright tags#Fair use. See Wikipedia:Image copyright tags for the full list of copyright tags that you can use.\\n\\nIf you have uploaded other files, consider checking that you have specified their source and tagged them, too. You can find a list of files you have uploaded by following [ this link]. Unsourced and untagged images may be deleted one week after they have been tagged, as described on criteria for speedy deletion. If the image is copyrighted under a non-free license (per Wikipedia:Fair use) then the image will be deleted 48 hours after . If you have any questions please ask them at the Media copyright questions page. Thank you. (talk • contribs • ) \"   \n",
       "11                                                                                                                                                                                                                                                                                                                                                                                                                                                                                                                                                                                                                                                                                                                                                                                                                                                                                                                                                                                                                                                                                                                                                                                                                                                                                                                                                                                                                                                                                                                                                                                                                                                                                                                                                                                                                                                                                                                                                                                                                                                                                                                                                                                                                                                                                                                                                                                                                                                                                                                                                                                                                                                                                                                                                                                                                                                                                                                                                 bbq \\n\\nbe a man and lets discuss it-maybe over the phone?   \n",
       "12                                                                                                                                                                                                                                                                                                                                                                                                                                                                                                                                                                                                                                                                                                                                                                                                                                                                                                                                                                                                                                                                                                                                                                                                                                                                                                                                                                                                                                                                                                                                                                                                                                                                                                                                                                                                                                                                                                                                                                                                                                                                                                                                                                                                                                                                                                                                                                                                                                                                                                                                                                                                                                                                        Hey... what is it..\\n@ | talk .\\nWhat is it... an exclusive group of some WP TALIBANS...who are good at destroying, self-appointed purist who GANG UP any one who asks them questions abt their ANTI-SOCIAL and DESTRUCTIVE (non)-contribution at WP?\\n\\nAsk Sityush to clean up his behavior than issue me nonsensical warnings...   \n",
       "13                                                                                                                                                                                                                                                                                                                                                                                                                                                                                                                                                                                                                                                                                                                                                                                                                                                                                                                                                                                                                                                                                                                                                                                                                                                                                                                                                                                                                                                                                                                                                                                                                                                                                                                                                                                                                                                                                                                                                                                                                                                                                                                                                      Before you start throwing accusations and warnings at me, lets review the edit itself-making ad hominem attacks isn't going to strengthen your argument, it will merely make it look like you are abusing your power as an admin. \\nNow, the edit itself is relevant-this is probably the single most talked about event int he news as of late. His absence is notable, since he is the only living ex-president who did not attend. That's certainly more notable than his dedicating an aircracft carrier. \\nI intend to revert this edit, in hopes of attracting the attention of an admin that is willing to look at the issue itself, and not throw accusations around quite so liberally. Perhaps, if you achieve a level of civility where you can do this, we can have a rational discussion on the topic and resolve the matter peacefully.   \n",
       "14                                                                                                                                                                                                                                                                                                                                                                                                                                                                                                                                                                                                                                                                                                                                                                                                                                                                                                                                                                                                                                                                                                                                                                                                                                                                                                                                                                                                                                                                                                                                                                                                                                                                                                                                                                                                                                                                                                                                                                                                                                                                                                                                                                                                                                                                                                                                                                                                                                                                                                                                                                                                                                                                                                                                                                                Oh, and the girl above started her arguments with me. She stuck her nose where it doesn't belong. I believe the argument was between me and Yvesnimmo. But like I said, the situation was settled and I apologized. Thanks,   \n",
       "15                                                                                                                                                                                                                                                                                                                                                                                                                                                                                                                                                                                                                                                                                                                                                                                                                                                                                                                                                                                                                                                                                                                                                                                                                                                                                                                                                                                                                                                                                                                                                                                                                                                                                                                                                                                                                                                                                                                                                                                                                                                                                                                                                                                                                                                                                                                                                                     \"\\n\\nJuelz Santanas Age\\n\\nIn 2002, Juelz Santana was 18 years old, then came February 18th, which makes Juelz turn 19 making songs with The Diplomats. The third neff to be signed to Cam's label under Roc A Fella. In 2003, he was 20 years old coming out with his own singles \"\"Santana's Town\"\" and \"\"Down\"\". So yes, he is born in 1983. He really is, how could he be older then Lloyd Banks? And how could he be 22 when his birthday passed? The homie neff is 23 years old. 1983 - 2006 (Juelz death, god forbid if your thinking about that) equals 23. Go to your caculator and stop changing his year of birth. My god.\"   \n",
       "16                                                                                                                                                                                                                                                                                                                                                                                                                                                                                                                                                                                                                                                                                                                                                                                                                                                                                                                                                                                                                                                                                                                                                                                                                                                                                                                                                                                                                                                                                                                                                                                                                                                                                                                                                                                                                                                                                                                                                                                                                                                                                                                                                                                                                                                                                                                                                                                                                                                                                                                                                                                                                                                                                                                                                                                                                                                                                                                                                Bye! \\n\\nDon't look, come or think of comming back! Tosser.   \n",
       "17                                                                                                                                                                                                                                                                                                                                                                                                                                                                                                                                                                                                                                                                                                                                                                                                                                                                                                                                                                                                                                                                                                                                                                                                                                                                                                                                                                                                                                                                                                                                                                                                                                                                                                                                                                                                                                                                                                                                                                                                                                                                                                                                                                                                                                                                                                                                                                                                                                                                                                                                                                                                                                                                                                                                                                                                                                                                                                                                                           REDIRECT Talk:Voydan Pop Georgiev- Chernodrinski   \n",
       "18                                                                                                                                                                                                                                                                                                                                                                                                                                                                                                                                                                                                                                                                                                                                                                                                                                                                                                                                                                                                                                                                                                                                                                                                                                                                                                                                                                                                                                                                                                                                                                                                                                                                                                                                                                                                                                                                                                                                                                                                                                                                                                                                                                                                                                                                                                                                                                                                                                                                                                                                                                                                                                                                                                                                                                                                                                                                                     The Mitsurugi point made no sense - why not argue to include Hindi on Ryo Sakazaki's page to include more information?   \n",
       "19                                                                                                                                                                                                                                                                                                                                                                                                                                                                                                                                                                                                                                                                                                                                                                                                                                                                                                                                                                                                                                                                                                                                                                                                                                                                                                                                                                                                                                                                                                                                                                                                                                                                                                                                                                                                                                                                                                                                                                                                                                                                                                                                                                                                                                                                                                                                                                                                                                                                                                                                               Don't mean to bother you \\n\\nI see that you're writing something regarding removing anything posted here and if you do oh well but if not and you can acctually discuss this with me then even better.\\n\\nI'd like to ask you to take a closer look at the Premature wrestling deaths catagory and the men listed in it, surely these men belong together in some catagory. Is there anything that you think we can do with the catagory besides delting it?   \n",
       "\n",
       "    toxic  \n",
       "0       0  \n",
       "1       0  \n",
       "2       0  \n",
       "3       0  \n",
       "4       0  \n",
       "5       0  \n",
       "6       1  \n",
       "7       0  \n",
       "8       0  \n",
       "9       0  \n",
       "10      0  \n",
       "11      0  \n",
       "12      1  \n",
       "13      0  \n",
       "14      0  \n",
       "15      0  \n",
       "16      1  \n",
       "17      0  \n",
       "18      0  \n",
       "19      0  "
      ]
     },
     "execution_count": 5,
     "metadata": {},
     "output_type": "execute_result"
    }
   ],
   "source": [
    "pd.set_option('display.max_colwidth', None)\n",
    "data.head(20)"
   ]
  },
  {
   "cell_type": "code",
   "execution_count": 6,
   "metadata": {},
   "outputs": [
    {
     "name": "stdout",
     "output_type": "stream",
     "text": [
      "<class 'pandas.core.frame.DataFrame'>\n",
      "RangeIndex: 159292 entries, 0 to 159291\n",
      "Data columns (total 3 columns):\n",
      " #   Column      Non-Null Count   Dtype \n",
      "---  ------      --------------   ----- \n",
      " 0   Unnamed: 0  159292 non-null  int64 \n",
      " 1   text        159292 non-null  object\n",
      " 2   toxic       159292 non-null  int64 \n",
      "dtypes: int64(2), object(1)\n",
      "memory usage: 3.6+ MB\n"
     ]
    }
   ],
   "source": [
    "data.info()"
   ]
  },
  {
   "cell_type": "markdown",
   "metadata": {},
   "source": [
    "Датасет успешно загружен. В ходе обзора пропущенных значений не обнаружено, выявлен непонятный столбец `Unnamed`, который не несет явной смысловой нагрузки, поэтому будет удален. Типы данных соответствуют своим значениям. "
   ]
  },
  {
   "cell_type": "code",
   "execution_count": 7,
   "metadata": {},
   "outputs": [],
   "source": [
    "data.drop(columns='Unnamed: 0', inplace=True)"
   ]
  },
  {
   "cell_type": "code",
   "execution_count": 8,
   "metadata": {},
   "outputs": [
    {
     "data": {
      "text/plain": [
       "toxic\n",
       "0    143106\n",
       "1     16186\n",
       "Name: count, dtype: int64"
      ]
     },
     "execution_count": 8,
     "metadata": {},
     "output_type": "execute_result"
    }
   ],
   "source": [
    "data['toxic'].value_counts()"
   ]
  },
  {
   "cell_type": "markdown",
   "metadata": {},
   "source": [
    "Как видно, имеется дисбаланс классов (90% против 10%), поэтому при разделении на выборки и обучении моделей нужно будет учитывать этот факт."
   ]
  },
  {
   "cell_type": "markdown",
   "metadata": {},
   "source": [
    "### Очистка текста"
   ]
  },
  {
   "cell_type": "code",
   "execution_count": 9,
   "metadata": {},
   "outputs": [],
   "source": [
    "corpus = list(data['text'])"
   ]
  },
  {
   "cell_type": "markdown",
   "metadata": {},
   "source": [
    "**Приведение текста к нижнему регистру**"
   ]
  },
  {
   "cell_type": "markdown",
   "metadata": {},
   "source": [
    "Это необходимо, чтобы ,например, такие слова, как cat/Cat/CAT, считались одним словом, иначе модели будут думать, что это три разных слова."
   ]
  },
  {
   "cell_type": "code",
   "execution_count": 10,
   "metadata": {},
   "outputs": [
    {
     "data": {
      "text/plain": [
       "\"explanation\\nwhy the edits made under my username hardcore metallica fan were reverted? they weren't vandalisms, just closure on some gas after i voted at new york dolls fac. and please don't remove the template from the talk page since i'm retired now.89.205.38.27\""
      ]
     },
     "execution_count": 10,
     "metadata": {},
     "output_type": "execute_result"
    }
   ],
   "source": [
    "corpus = [text.lower() for text in corpus]\n",
    "\n",
    "corpus[0]"
   ]
  },
  {
   "cell_type": "markdown",
   "metadata": {},
   "source": [
    "**Применение регулярных выражений**"
   ]
  },
  {
   "cell_type": "markdown",
   "metadata": {},
   "source": [
    "Применение регулярных выражений необходимо для того, чтобы очистить текст от лишних символов и удалить пунктуацию"
   ]
  },
  {
   "cell_type": "code",
   "execution_count": 11,
   "metadata": {},
   "outputs": [
    {
     "data": {
      "text/plain": [
       "\"explanation why the edits made under my username hardcore metallica fan were reverted they weren't vandalisms just closure on some gas after i voted at new york dolls fac and please don't remove the template from the talk page since i'm retired now\""
      ]
     },
     "execution_count": 11,
     "metadata": {},
     "output_type": "execute_result"
    }
   ],
   "source": [
    "corpus = [\" \".join(re.sub(r\"[^a-zA-Z\\s']\", ' ', text).split()) for text in corpus]\n",
    "\n",
    "corpus[0]"
   ]
  },
  {
   "cell_type": "markdown",
   "metadata": {},
   "source": [
    "**Лемматизация**"
   ]
  },
  {
   "cell_type": "markdown",
   "metadata": {},
   "source": [
    "Для работы с текстом необходимо перевести все словоформы в их начальные формы. В этом поможет лемматизация текста. "
   ]
  },
  {
   "cell_type": "code",
   "execution_count": 12,
   "metadata": {},
   "outputs": [],
   "source": [
    "nlp = spacy.load(\"en_core_web_sm\")"
   ]
  },
  {
   "cell_type": "code",
   "execution_count": 13,
   "metadata": {},
   "outputs": [
    {
     "name": "stderr",
     "output_type": "stream",
     "text": [
      "Прогресс лемматизации:: 100%|██████████| 159292/159292 [05:48<00:00, 457.51it/s]\n"
     ]
    },
    {
     "data": {
      "text/plain": [
       "'explanation why the edit make under my username hardcore metallica fan be revert they be not vandalism just closure on some gas after I vote at new york dolls fac and please do not remove the template from the talk page since I be retire now'"
      ]
     },
     "execution_count": 13,
     "metadata": {},
     "output_type": "execute_result"
    }
   ],
   "source": [
    "lemmatized_corpus = []\n",
    "for doc in tqdm(nlp.pipe(corpus, disable=[\"ner\", \"parser\"]), total=len(corpus), desc=\"Прогресс лемматизации:\"):\n",
    "    lemmatized_text = \" \".join([token.lemma_ for token in doc])\n",
    "    lemmatized_corpus.append(lemmatized_text)\n",
    "\n",
    "    \n",
    "lemmatized_corpus[0]"
   ]
  },
  {
   "cell_type": "markdown",
   "metadata": {},
   "source": [
    "**Удаление стоп-слов**"
   ]
  },
  {
   "cell_type": "markdown",
   "metadata": {},
   "source": [
    "Такие слова, как местоимение, союзы, предлоги, наречия и др. не несут смысловой нагрузки, поэтому их следует удалить."
   ]
  },
  {
   "cell_type": "code",
   "execution_count": 14,
   "metadata": {},
   "outputs": [
    {
     "name": "stderr",
     "output_type": "stream",
     "text": [
      "[nltk_data] Downloading package stopwords to\n",
      "[nltk_data]     C:\\Users\\marta\\AppData\\Roaming\\nltk_data...\n",
      "[nltk_data]   Package stopwords is already up-to-date!\n"
     ]
    },
    {
     "data": {
      "text/plain": [
       "'explanation edit make username hardcore metallica fan revert vandalism closure gas I vote new york dolls fac please remove template talk page since I retire'"
      ]
     },
     "execution_count": 14,
     "metadata": {},
     "output_type": "execute_result"
    }
   ],
   "source": [
    "nltk.download('stopwords')\n",
    "stop_words = set(stopwords.words('english'))  \n",
    "lemmatized_corpus = [\n",
    "    \" \".join([word for word in text.split() if word not in stop_words])\n",
    "    for text in lemmatized_corpus\n",
    "]\n",
    "\n",
    "lemmatized_corpus[0]"
   ]
  },
  {
   "cell_type": "code",
   "execution_count": 15,
   "metadata": {},
   "outputs": [],
   "source": [
    "data['lemm_text'] = lemmatized_corpus"
   ]
  },
  {
   "cell_type": "markdown",
   "metadata": {},
   "source": [
    "### Разделение данных"
   ]
  },
  {
   "cell_type": "markdown",
   "metadata": {},
   "source": [
    "Чтобы избежать утечки данных при векторизации текста, разделим данные на обучающую и тестовую выборки"
   ]
  },
  {
   "cell_type": "code",
   "execution_count": 16,
   "metadata": {},
   "outputs": [],
   "source": [
    "X = data['lemm_text']\n",
    "y = data['toxic']\n",
    "\n",
    "X_train_text, X_test_text, y_train, y_test = train_test_split(\n",
    "    X, y, test_size=TEST_SIZE, random_state=RANDOM_STATE, stratify=y\n",
    ")"
   ]
  },
  {
   "cell_type": "markdown",
   "metadata": {},
   "source": [
    "### Векторизация"
   ]
  },
  {
   "cell_type": "markdown",
   "metadata": {},
   "source": [
    "Для того, чтобы модель могла работать с текстом, его нужно перевести в числовые векторы. Будем использовать TF-IDF, который уменьшит вес часто встречающихся (и часто неинформативных) слов, а также усилит вес редких слов, которые могут быть маркерами токсичности.\n",
    "\n",
    "Будет использован в пайплайне\n",
    "\n",
    "``` python\n",
    "vectorizer = TfidfVectorizer(max_features=15000, ngram_range=(1, 2))\n",
    "```"
   ]
  },
  {
   "cell_type": "markdown",
   "metadata": {},
   "source": [
    "### Промежуточный вывод"
   ]
  },
  {
   "cell_type": "markdown",
   "metadata": {},
   "source": [
    "\n",
    " - Импортированы необходимые библиотеки для обработки текста, построения моделей и визуализации.\n",
    "\n",
    " - Датасет успешно загружен. Он содержит 159292 записи и 3 столбца. Пропусков нет.\n",
    "\n",
    " - Удалён лишний столбец `Unnamed: 0`, не несущий смысловой нагрузки.\n",
    "\n",
    " - Проведена очистка текста:\n",
    "\n",
    "   - приведён к нижнему регистру,\n",
    "\n",
    "   - удалены лишние символы и пунктуация с помощью регулярных выражений,\n",
    "\n",
    "   - проведена лемматизация с использованием библиотеки `SpaCy`.\n",
    "\n",
    " - Добавлено новое текстовое поле `lemm_text` с очищенным и лемматизированным текстом.\n",
    "\n",
    " - Загружен список английских стоп-слов для дальнейшей фильтрации текста.\n",
    "\n",
    " - Разделены данные на обучающую и тестовую выборки с учётом стратификации (сбалансированности классов).\n",
    "\n"
   ]
  },
  {
   "cell_type": "markdown",
   "metadata": {},
   "source": [
    "## Обучение"
   ]
  },
  {
   "cell_type": "markdown",
   "metadata": {},
   "source": [
    "### Подготовка моделей"
   ]
  },
  {
   "cell_type": "markdown",
   "metadata": {},
   "source": [
    "Для обучения будут использованы 3 модели: LogisticRegression, SGDClassifier и PassiveAggressiveClassifier. Обучать будем, используя кросс-валидацию и GridSearch"
   ]
  },
  {
   "cell_type": "code",
   "execution_count": 17,
   "metadata": {},
   "outputs": [],
   "source": [
    "f1_binary = make_scorer(f1_score, average='binary')\n",
    "cv = StratifiedKFold(n_splits=5, shuffle=True, random_state=RANDOM_STATE)"
   ]
  },
  {
   "cell_type": "markdown",
   "metadata": {},
   "source": [
    "**Логистическая регрессия**"
   ]
  },
  {
   "cell_type": "code",
   "execution_count": 18,
   "metadata": {},
   "outputs": [],
   "source": [
    "pipeline_lr = Pipeline([\n",
    "    ('tfidf', TfidfVectorizer(max_features=15000, ngram_range=(1, 2))),\n",
    "    ('clf', LogisticRegression(max_iter=1000, random_state=RANDOM_STATE))\n",
    "])\n",
    "\n",
    "param_dist_lr = {\n",
    "    'clf__C': np.logspace(-2, 1, 10),\n",
    "    'clf__solver': ['saga'],\n",
    "    'clf__class_weight': ['balanced']\n",
    "}\n",
    "\n",
    "rand_lr = RandomizedSearchCV(\n",
    "    pipeline_lr,\n",
    "    param_distributions=param_dist_lr,\n",
    "    scoring=f1_binary,\n",
    "    n_iter=10,\n",
    "    cv=cv,\n",
    "    n_jobs=-1,\n",
    "    random_state=RANDOM_STATE,\n",
    "    verbose=0\n",
    ")"
   ]
  },
  {
   "cell_type": "markdown",
   "metadata": {},
   "source": [
    "**SGDClassifier**"
   ]
  },
  {
   "cell_type": "code",
   "execution_count": 19,
   "metadata": {},
   "outputs": [],
   "source": [
    "pipeline_sgd = Pipeline([\n",
    "    ('tfidf', TfidfVectorizer(max_features=15000, ngram_range=(1, 2))),\n",
    "    ('clf', SGDClassifier(random_state=RANDOM_STATE))\n",
    "])\n",
    "\n",
    "param_dist_sgd = {\n",
    "    'clf__loss': ['hinge', 'modified_huber'],\n",
    "    'clf__penalty': ['l2', 'elasticnet'],\n",
    "    'clf__alpha': np.logspace(-6, -3, 10),\n",
    "    'clf__max_iter': [1000, 2000],\n",
    "    'clf__class_weight': ['balanced']\n",
    "}\n",
    "\n",
    "rand_sgd = RandomizedSearchCV(\n",
    "    pipeline_sgd,\n",
    "    param_distributions=param_dist_sgd,\n",
    "    scoring=f1_binary,\n",
    "    n_iter=15,\n",
    "    cv=cv,\n",
    "    n_jobs=-1,\n",
    "    random_state=RANDOM_STATE,\n",
    "    verbose=0\n",
    ")"
   ]
  },
  {
   "cell_type": "markdown",
   "metadata": {},
   "source": [
    "**PassiveAggressiveClassifier**"
   ]
  },
  {
   "cell_type": "code",
   "execution_count": 20,
   "metadata": {},
   "outputs": [],
   "source": [
    "pipeline = Pipeline([\n",
    "    ('tfidf', TfidfVectorizer(max_features=15000, ngram_range=(1, 2))),\n",
    "    ('clf', PassiveAggressiveClassifier(random_state=RANDOM_STATE))\n",
    "])\n",
    "\n",
    "param_grid = {\n",
    "    'clf__C': np.logspace(-3, 1, 10),\n",
    "    'clf__max_iter': [1000, 2000],\n",
    "    'clf__loss': ['hinge', 'squared_hinge']\n",
    "}\n",
    "\n",
    "rand_pa = RandomizedSearchCV(\n",
    "    pipeline,\n",
    "    param_distributions=param_grid,\n",
    "    scoring=f1_binary,\n",
    "    n_iter=10,\n",
    "    cv=cv,\n",
    "    n_jobs=-1,\n",
    "    random_state=RANDOM_STATE,\n",
    "    verbose=0\n",
    ")"
   ]
  },
  {
   "cell_type": "markdown",
   "metadata": {},
   "source": [
    "### Обучение"
   ]
  },
  {
   "cell_type": "code",
   "execution_count": null,
   "metadata": {},
   "outputs": [
    {
     "name": "stdout",
     "output_type": "stream",
     "text": [
      "Обучение Logistic Regression...\n",
      "Logistic Regression: лучшая f1-мера: 0.7328\n",
      "Лучшие параметры: {'clf__solver': 'saga', 'clf__class_weight': 'balanced', 'clf__C': 1.0}\n",
      "\n",
      "Обучение SGDClassifier...\n",
      "SGDClassifier: лучшая f1-мера: 0.7379\n",
      "Лучшие параметры: {'clf__penalty': 'elasticnet', 'clf__max_iter': 1000, 'clf__loss': 'hinge', 'clf__class_weight': 'balanced', 'clf__alpha': 0.0001}\n",
      "\n",
      "Обучение PA...\n"
     ]
    }
   ],
   "source": [
    "for name, search in zip([\"Logistic Regression\", \"SGDClassifier\", \"PA\"], \n",
    "                        [rand_lr, rand_sgd, rand_pa]):\n",
    "    print(f\"Обучение {name}...\")\n",
    "    search.fit(X_train_text, y_train)\n",
    "    print(f\"{name}: лучшая f1-мера: {search.best_score_:.4f}\")\n",
    "    print(f\"Лучшие параметры: {search.best_params_}\\n\")"
   ]
  },
  {
   "cell_type": "markdown",
   "metadata": {},
   "source": [
    "Обчуение показало следующие результаты:\n",
    "    \n",
    "| Модель             | Лучшие параметры | F1-мера |\n",
    "|--------------------|------------------|--------:|\n",
    "| Logistic Regression | {'clf__solver': 'saga', 'clf__class_weight': 'balanced', 'clf__C': 1.0 |   0.7328 |\n",
    "| SGDClassifier      | {'clf__penalty': 'elasticnet', 'clf__max_iter': 1000, 'clf__loss': 'hinge', 'clf__class_weight': 'balanced', 'clf__alpha': 0.0001} |   0.7379 |\n",
    "| PassiveAggressiveClassifier     | {'clf__max_iter': 1000, 'clf__loss': 'hinge', 'clf__C': 0.05994842503189409} |   0.7807 |\n",
    "\n",
    "Проверим модель `PassiveAggressiveClassifier` на тестовой выборке"
   ]
  },
  {
   "cell_type": "markdown",
   "metadata": {},
   "source": [
    "### Проверка на тестовой выборке"
   ]
  },
  {
   "cell_type": "code",
   "execution_count": null,
   "metadata": {},
   "outputs": [],
   "source": [
    "best_model = rand_pa.best_estimator_\n",
    "\n",
    "y_pred = best_model.predict(X_test_text)\n",
    "\n",
    "f1 = f1_score(y_test, y_pred, average='binary')\n",
    "print(f\"F1-метрика: {f1:.4f}\")"
   ]
  },
  {
   "cell_type": "markdown",
   "metadata": {},
   "source": [
    "### Промежуточный вывод"
   ]
  },
  {
   "cell_type": "markdown",
   "metadata": {},
   "source": [
    "Были обучены три модели: `LogisticRegression`, `SGDClassifier` и `PassiveAggressiveClassifier` с помощью RandomizedSearchCV и кросс-валидации.\n",
    "\n",
    "Наилучший результат на валидации показал `PassiveAggressiveClassifier` с F1-метрикой **0.7807**, немного обойдя логистическую регрессию (0.8489).\n",
    "\n",
    "Модель `LogisticRegression` показала чуть меньший результат — 0.7328.\n",
    "\n",
    "После проверки на тестовой выборке, `PassiveAggressiveClassifier` подтвердила свою эффективность, показав F1-метрику **0.7803**."
   ]
  },
  {
   "cell_type": "markdown",
   "metadata": {},
   "source": [
    "## Выводы"
   ]
  },
  {
   "cell_type": "markdown",
   "metadata": {},
   "source": [
    "В рамках проекта для интернет-магазина «Викишоп» была разработана система автоматического выявления токсичных комментариев в пользовательских правках к описаниям товаров. Цель заключалась в обучении модели классификации, способной отделять токсичные комментарии от нейтральных, с достижением метрики F1 не ниже 0.75.\n",
    "\n",
    "На первом этапе была проведена тщательная предобработка данных: из датасета были удалены неинформативные столбцы, выполнена очистка текста с помощью регулярных выражений, приведение к нижнему регистру, лемматизация с использованием библиотеки `SpaCy`, а также удаление стоп-слов. Для корректного обучения моделей данные были разбиты на обучающую и тестовую выборки с учётом дисбаланса классов.\n",
    "\n",
    "Тексты были векторизованы с помощью метода `TF-IDF`, что позволило преобразовать текстовые данные в числовой формат, пригодный для обучения моделей. При векторизации использовалось ограничение по количеству признаков (до 10 000 наиболее информативных слов), а также список стоп-слов из библиотеки `nltk`.\n",
    "\n",
    "Для решения задачи были обучены и протестированы три модели машинного обучения: `LogisticRegression`, `SGDClassifier` и `PassiveAggressiveClassifier`. Все модели были настроены с использованием кросс-валидации (`StratifiedKFold`) и подбора гиперпараметров (`RandomizedSearchCV`). Особое внимание было уделено учёту дисбаланса классов путём использования параметра class_weight='balanced'.\n",
    "\n",
    "Результаты обучения и теста показали, что лучшую F1-метрику продемонстрировала модель `PassiveAggressiveClassifier`, превысив установленный порог F1 ≥ 0.75 **(0.7807 на обучающей выборке и 0.7803 на тестовой)**, что подтверждает её эффективность для задачи бинарной классификации токсичных комментариев. Модель оказалась устойчивой к дисбалансу и хорошо обобщает данные на тестовой выборке."
   ]
  }
 ],
 "metadata": {
  "ExecuteTimeLog": [
   {
    "duration": 10238,
    "start_time": "2025-05-17T13:43:45.879Z"
   },
   {
    "duration": 822,
    "start_time": "2025-05-17T13:46:34.834Z"
   },
   {
    "duration": 985,
    "start_time": "2025-05-17T13:47:27.032Z"
   },
   {
    "duration": 12,
    "start_time": "2025-05-17T13:51:37.814Z"
   },
   {
    "duration": 8,
    "start_time": "2025-05-17T13:51:59.630Z"
   },
   {
    "duration": 36,
    "start_time": "2025-05-17T13:57:54.169Z"
   },
   {
    "duration": 12,
    "start_time": "2025-05-17T14:06:03.983Z"
   },
   {
    "duration": 6,
    "start_time": "2025-05-17T14:06:10.621Z"
   },
   {
    "duration": 75,
    "start_time": "2025-05-17T14:18:09.558Z"
   },
   {
    "duration": 4,
    "start_time": "2025-05-17T14:18:19.429Z"
   },
   {
    "duration": 6,
    "start_time": "2025-05-17T14:18:34.710Z"
   },
   {
    "duration": 8,
    "start_time": "2025-05-17T14:21:12.926Z"
   },
   {
    "duration": 4,
    "start_time": "2025-05-17T14:21:27.092Z"
   },
   {
    "duration": 128,
    "start_time": "2025-05-17T14:23:54.701Z"
   },
   {
    "duration": 2,
    "start_time": "2025-05-17T14:25:27.809Z"
   },
   {
    "duration": 799,
    "start_time": "2025-05-17T14:26:12.019Z"
   },
   {
    "duration": 59,
    "start_time": "2025-05-17T14:34:59.212Z"
   },
   {
    "duration": 11,
    "start_time": "2025-05-17T14:35:15.728Z"
   },
   {
    "duration": 315,
    "start_time": "2025-05-17T14:36:01.961Z"
   },
   {
    "duration": 2523,
    "start_time": "2025-05-17T14:40:15.794Z"
   },
   {
    "duration": 1316,
    "start_time": "2025-05-17T14:40:18.319Z"
   },
   {
    "duration": 920,
    "start_time": "2025-05-17T14:40:19.636Z"
   },
   {
    "duration": 19,
    "start_time": "2025-05-17T14:40:20.558Z"
   },
   {
    "duration": 33,
    "start_time": "2025-05-17T14:40:20.579Z"
   },
   {
    "duration": 10,
    "start_time": "2025-05-17T14:40:20.613Z"
   },
   {
    "duration": 87,
    "start_time": "2025-05-17T14:40:20.625Z"
   },
   {
    "duration": 185,
    "start_time": "2025-05-17T14:40:20.714Z"
   },
   {
    "duration": 0,
    "start_time": "2025-05-17T14:40:20.901Z"
   },
   {
    "duration": 0,
    "start_time": "2025-05-17T14:40:20.903Z"
   },
   {
    "duration": 29,
    "start_time": "2025-05-17T14:40:50.683Z"
   },
   {
    "duration": 8,
    "start_time": "2025-05-17T14:40:52.153Z"
   },
   {
    "duration": 10,
    "start_time": "2025-05-17T14:40:58.991Z"
   },
   {
    "duration": 4,
    "start_time": "2025-05-17T14:42:34.986Z"
   },
   {
    "duration": 208,
    "start_time": "2025-05-17T14:44:11.131Z"
   },
   {
    "duration": 21,
    "start_time": "2025-05-17T14:59:05.478Z"
   },
   {
    "duration": 129,
    "start_time": "2025-05-17T15:00:06.015Z"
   },
   {
    "duration": 183,
    "start_time": "2025-05-17T15:00:21.968Z"
   },
   {
    "duration": 3644,
    "start_time": "2025-05-17T15:01:15.244Z"
   },
   {
    "duration": 1270,
    "start_time": "2025-05-17T15:03:30.566Z"
   },
   {
    "duration": 2427,
    "start_time": "2025-05-17T15:05:57.224Z"
   },
   {
    "duration": 1448,
    "start_time": "2025-05-17T15:05:59.654Z"
   },
   {
    "duration": 941,
    "start_time": "2025-05-17T15:06:01.104Z"
   },
   {
    "duration": 12,
    "start_time": "2025-05-17T15:06:02.047Z"
   },
   {
    "duration": 67,
    "start_time": "2025-05-17T15:06:02.061Z"
   },
   {
    "duration": 42,
    "start_time": "2025-05-17T15:06:02.130Z"
   },
   {
    "duration": 39,
    "start_time": "2025-05-17T15:06:02.175Z"
   },
   {
    "duration": 270,
    "start_time": "2025-05-17T15:06:02.216Z"
   },
   {
    "duration": 2226,
    "start_time": "2025-05-17T15:06:02.488Z"
   },
   {
    "duration": 3,
    "start_time": "2025-05-17T15:06:04.715Z"
   },
   {
    "duration": 12,
    "start_time": "2025-05-17T15:06:04.719Z"
   },
   {
    "duration": 2501,
    "start_time": "2025-05-17T15:07:39.619Z"
   },
   {
    "duration": 1316,
    "start_time": "2025-05-17T15:07:42.122Z"
   },
   {
    "duration": 924,
    "start_time": "2025-05-17T15:07:43.439Z"
   },
   {
    "duration": 18,
    "start_time": "2025-05-17T15:07:44.364Z"
   },
   {
    "duration": 32,
    "start_time": "2025-05-17T15:07:44.385Z"
   },
   {
    "duration": 14,
    "start_time": "2025-05-17T15:07:44.419Z"
   },
   {
    "duration": 54,
    "start_time": "2025-05-17T15:07:44.434Z"
   },
   {
    "duration": 210,
    "start_time": "2025-05-17T15:07:44.490Z"
   },
   {
    "duration": 2191,
    "start_time": "2025-05-17T15:07:44.702Z"
   },
   {
    "duration": 3,
    "start_time": "2025-05-17T15:07:46.895Z"
   },
   {
    "duration": 22,
    "start_time": "2025-05-17T15:07:46.900Z"
   },
   {
    "duration": 63114,
    "start_time": "2025-05-17T15:13:52.879Z"
   },
   {
    "duration": 3496,
    "start_time": "2025-05-17T15:18:38.477Z"
   },
   {
    "duration": 669,
    "start_time": "2025-05-17T15:18:51.457Z"
   },
   {
    "duration": 2353,
    "start_time": "2025-05-17T15:26:51.320Z"
   },
   {
    "duration": 4115,
    "start_time": "2025-05-17T15:26:53.675Z"
   },
   {
    "duration": 858,
    "start_time": "2025-05-17T15:26:57.792Z"
   },
   {
    "duration": 21,
    "start_time": "2025-05-17T15:26:58.651Z"
   },
   {
    "duration": 45,
    "start_time": "2025-05-17T15:26:58.674Z"
   },
   {
    "duration": 39,
    "start_time": "2025-05-17T15:26:58.721Z"
   },
   {
    "duration": 38,
    "start_time": "2025-05-17T15:26:58.761Z"
   },
   {
    "duration": 199,
    "start_time": "2025-05-17T15:26:58.801Z"
   },
   {
    "duration": 2038,
    "start_time": "2025-05-17T15:26:59.001Z"
   },
   {
    "duration": 487,
    "start_time": "2025-05-17T15:27:01.041Z"
   },
   {
    "duration": 550575,
    "start_time": "2025-05-17T15:27:01.530Z"
   },
   {
    "duration": 502,
    "start_time": "2025-05-17T15:41:55.265Z"
   },
   {
    "duration": 31,
    "start_time": "2025-05-17T15:44:26.155Z"
   },
   {
    "duration": 37,
    "start_time": "2025-05-17T15:44:55.834Z"
   },
   {
    "duration": 346,
    "start_time": "2025-05-17T16:17:12.282Z"
   },
   {
    "duration": 6,
    "start_time": "2025-05-17T16:17:18.438Z"
   },
   {
    "duration": 67,
    "start_time": "2025-05-17T16:17:21.984Z"
   },
   {
    "duration": 21,
    "start_time": "2025-05-17T16:21:35.638Z"
   },
   {
    "duration": 4,
    "start_time": "2025-05-17T16:22:17.301Z"
   },
   {
    "duration": 65,
    "start_time": "2025-05-17T16:22:19.159Z"
   },
   {
    "duration": 4867,
    "start_time": "2025-05-17T16:22:20.435Z"
   },
   {
    "duration": 17,
    "start_time": "2025-05-17T16:22:44.337Z"
   },
   {
    "duration": 6,
    "start_time": "2025-05-17T16:25:23.637Z"
   },
   {
    "duration": 83,
    "start_time": "2025-05-17T16:28:50.191Z"
   },
   {
    "duration": 3,
    "start_time": "2025-05-17T17:46:51.935Z"
   },
   {
    "duration": 3,
    "start_time": "2025-05-17T17:47:46.810Z"
   },
   {
    "duration": 4,
    "start_time": "2025-05-17T18:01:03.322Z"
   },
   {
    "duration": 2370,
    "start_time": "2025-05-17T18:16:01.421Z"
   },
   {
    "duration": 4296,
    "start_time": "2025-05-17T18:16:03.793Z"
   },
   {
    "duration": 859,
    "start_time": "2025-05-17T18:16:08.091Z"
   },
   {
    "duration": 22,
    "start_time": "2025-05-17T18:16:08.951Z"
   },
   {
    "duration": 31,
    "start_time": "2025-05-17T18:16:08.975Z"
   },
   {
    "duration": 10,
    "start_time": "2025-05-17T18:16:09.008Z"
   },
   {
    "duration": 6,
    "start_time": "2025-05-17T18:16:09.020Z"
   },
   {
    "duration": 54,
    "start_time": "2025-05-17T18:16:09.027Z"
   },
   {
    "duration": 255,
    "start_time": "2025-05-17T18:16:09.083Z"
   },
   {
    "duration": 2015,
    "start_time": "2025-05-17T18:16:09.339Z"
   },
   {
    "duration": 481,
    "start_time": "2025-05-17T18:16:11.356Z"
   },
   {
    "duration": 559807,
    "start_time": "2025-05-17T18:16:11.839Z"
   },
   {
    "duration": 48,
    "start_time": "2025-05-17T18:25:31.647Z"
   },
   {
    "duration": 231,
    "start_time": "2025-05-17T18:25:31.698Z"
   },
   {
    "duration": 73,
    "start_time": "2025-05-17T18:25:31.933Z"
   },
   {
    "duration": 4996,
    "start_time": "2025-05-17T18:25:32.008Z"
   },
   {
    "duration": 4,
    "start_time": "2025-05-17T18:25:37.006Z"
   },
   {
    "duration": 73,
    "start_time": "2025-05-17T18:25:37.012Z"
   },
   {
    "duration": 4,
    "start_time": "2025-05-17T18:25:37.087Z"
   },
   {
    "duration": 4,
    "start_time": "2025-05-17T18:25:37.092Z"
   },
   {
    "duration": 324,
    "start_time": "2025-05-17T18:25:37.098Z"
   },
   {
    "duration": 3,
    "start_time": "2025-05-17T18:29:50.359Z"
   },
   {
    "duration": 3,
    "start_time": "2025-05-17T18:29:51.085Z"
   },
   {
    "duration": 3,
    "start_time": "2025-05-17T18:29:51.728Z"
   },
   {
    "duration": 3,
    "start_time": "2025-05-17T18:29:52.466Z"
   },
   {
    "duration": 2337628,
    "start_time": "2025-05-17T18:29:53.007Z"
   },
   {
    "duration": 3,
    "start_time": "2025-05-17T19:08:56.694Z"
   },
   {
    "duration": 3,
    "start_time": "2025-05-17T19:08:57.510Z"
   },
   {
    "duration": 3,
    "start_time": "2025-05-17T19:08:58.233Z"
   },
   {
    "duration": 4,
    "start_time": "2025-05-17T19:08:59.204Z"
   },
   {
    "duration": 91084,
    "start_time": "2025-05-17T19:09:01.513Z"
   },
   {
    "duration": 3,
    "start_time": "2025-05-17T19:13:02.069Z"
   },
   {
    "duration": 3,
    "start_time": "2025-05-17T19:13:02.728Z"
   },
   {
    "duration": 4,
    "start_time": "2025-05-17T19:13:03.323Z"
   },
   {
    "duration": 5,
    "start_time": "2025-05-17T19:13:03.972Z"
   },
   {
    "duration": 1524157,
    "start_time": "2025-05-17T19:13:06.079Z"
   },
   {
    "duration": 2,
    "start_time": "2025-05-17T19:38:48.796Z"
   },
   {
    "duration": 3,
    "start_time": "2025-05-17T19:38:49.110Z"
   },
   {
    "duration": 4,
    "start_time": "2025-05-17T19:38:55.670Z"
   },
   {
    "duration": 3,
    "start_time": "2025-05-17T19:38:56.342Z"
   },
   {
    "duration": 2289696,
    "start_time": "2025-05-17T19:38:56.852Z"
   },
   {
    "duration": 3,
    "start_time": "2025-05-17T20:17:25.015Z"
   },
   {
    "duration": 3359,
    "start_time": "2025-05-17T20:17:25.243Z"
   },
   {
    "duration": 3,
    "start_time": "2025-05-17T20:18:48.768Z"
   },
   {
    "duration": 2,
    "start_time": "2025-05-17T20:18:49.085Z"
   },
   {
    "duration": 3,
    "start_time": "2025-05-17T20:18:49.434Z"
   },
   {
    "duration": 19,
    "start_time": "2025-05-17T20:18:50.077Z"
   },
   {
    "duration": 6,
    "start_time": "2025-05-17T20:19:14.092Z"
   },
   {
    "duration": 3,
    "start_time": "2025-05-17T20:19:19.703Z"
   },
   {
    "duration": 4,
    "start_time": "2025-05-17T20:19:20.341Z"
   },
   {
    "duration": 4,
    "start_time": "2025-05-17T20:19:21.017Z"
   },
   {
    "duration": 4,
    "start_time": "2025-05-17T20:19:23.542Z"
   },
   {
    "duration": 241173,
    "start_time": "2025-05-17T20:19:25.543Z"
   },
   {
    "duration": 2,
    "start_time": "2025-05-17T20:41:35.954Z"
   },
   {
    "duration": 1523,
    "start_time": "2025-05-17T20:43:43.863Z"
   },
   {
    "duration": 2396,
    "start_time": "2025-05-17T20:53:50.533Z"
   },
   {
    "duration": 4237,
    "start_time": "2025-05-17T20:53:52.932Z"
   },
   {
    "duration": 842,
    "start_time": "2025-05-17T20:53:57.171Z"
   },
   {
    "duration": 13,
    "start_time": "2025-05-17T20:53:58.014Z"
   },
   {
    "duration": 51,
    "start_time": "2025-05-17T20:53:58.029Z"
   },
   {
    "duration": 14,
    "start_time": "2025-05-17T20:53:58.083Z"
   },
   {
    "duration": 19,
    "start_time": "2025-05-17T20:53:58.098Z"
   },
   {
    "duration": 49,
    "start_time": "2025-05-17T20:53:58.118Z"
   },
   {
    "duration": 207,
    "start_time": "2025-05-17T20:53:58.169Z"
   },
   {
    "duration": 2068,
    "start_time": "2025-05-17T20:53:58.377Z"
   },
   {
    "duration": 510,
    "start_time": "2025-05-17T20:54:00.446Z"
   },
   {
    "duration": 559087,
    "start_time": "2025-05-17T20:54:00.958Z"
   },
   {
    "duration": 34,
    "start_time": "2025-05-17T21:03:20.046Z"
   },
   {
    "duration": 311,
    "start_time": "2025-05-17T21:03:20.082Z"
   },
   {
    "duration": 61,
    "start_time": "2025-05-17T21:03:20.395Z"
   },
   {
    "duration": 4841,
    "start_time": "2025-05-17T21:03:20.458Z"
   },
   {
    "duration": 3,
    "start_time": "2025-05-17T21:03:25.301Z"
   },
   {
    "duration": 16,
    "start_time": "2025-05-17T21:03:25.305Z"
   },
   {
    "duration": 11,
    "start_time": "2025-05-17T21:03:25.323Z"
   },
   {
    "duration": 29,
    "start_time": "2025-05-17T21:03:25.335Z"
   },
   {
    "duration": 246394,
    "start_time": "2025-05-17T21:03:25.365Z"
   },
   {
    "duration": 1593,
    "start_time": "2025-05-17T21:07:31.761Z"
   },
   {
    "duration": 53,
    "start_time": "2025-05-18T11:50:52.862Z"
   },
   {
    "duration": 8549,
    "start_time": "2025-05-18T11:50:58.967Z"
   },
   {
    "duration": 5195,
    "start_time": "2025-05-18T11:51:07.519Z"
   },
   {
    "duration": 1274,
    "start_time": "2025-05-18T11:51:15.970Z"
   },
   {
    "duration": 3,
    "start_time": "2025-05-18T11:51:18.376Z"
   },
   {
    "duration": 50,
    "start_time": "2025-05-18T11:51:48.075Z"
   },
   {
    "duration": 587,
    "start_time": "2025-05-18T11:59:03.190Z"
   },
   {
    "duration": 350,
    "start_time": "2025-05-18T11:59:05.032Z"
   },
   {
    "duration": 3005,
    "start_time": "2025-05-18T11:59:17.620Z"
   },
   {
    "duration": 18,
    "start_time": "2025-05-18T11:59:20.629Z"
   },
   {
    "duration": 1091,
    "start_time": "2025-05-18T11:59:20.650Z"
   },
   {
    "duration": 21,
    "start_time": "2025-05-18T11:59:21.743Z"
   },
   {
    "duration": 47,
    "start_time": "2025-05-18T11:59:21.766Z"
   },
   {
    "duration": 12,
    "start_time": "2025-05-18T11:59:21.815Z"
   },
   {
    "duration": 33,
    "start_time": "2025-05-18T11:59:21.829Z"
   },
   {
    "duration": 35,
    "start_time": "2025-05-18T11:59:21.864Z"
   },
   {
    "duration": 247,
    "start_time": "2025-05-18T11:59:21.901Z"
   },
   {
    "duration": 2373,
    "start_time": "2025-05-18T11:59:22.150Z"
   },
   {
    "duration": 517,
    "start_time": "2025-05-18T11:59:24.525Z"
   },
   {
    "duration": 554382,
    "start_time": "2025-05-18T11:59:41.115Z"
   },
   {
    "duration": 688845,
    "start_time": "2025-05-18T12:09:15.620Z"
   },
   {
    "duration": 21,
    "start_time": "2025-05-18T12:20:44.630Z"
   },
   {
    "duration": 2869,
    "start_time": "2025-05-18T12:24:04.227Z"
   },
   {
    "duration": 1042,
    "start_time": "2025-05-18T12:24:07.099Z"
   },
   {
    "duration": 0,
    "start_time": "2025-05-18T12:24:08.143Z"
   },
   {
    "duration": 0,
    "start_time": "2025-05-18T12:24:08.145Z"
   },
   {
    "duration": 0,
    "start_time": "2025-05-18T12:24:08.146Z"
   },
   {
    "duration": 0,
    "start_time": "2025-05-18T12:24:08.147Z"
   },
   {
    "duration": 0,
    "start_time": "2025-05-18T12:24:08.149Z"
   },
   {
    "duration": 0,
    "start_time": "2025-05-18T12:24:08.150Z"
   },
   {
    "duration": 0,
    "start_time": "2025-05-18T12:24:08.151Z"
   },
   {
    "duration": 0,
    "start_time": "2025-05-18T12:24:08.153Z"
   },
   {
    "duration": 0,
    "start_time": "2025-05-18T12:24:08.155Z"
   },
   {
    "duration": 0,
    "start_time": "2025-05-18T12:24:08.156Z"
   },
   {
    "duration": 0,
    "start_time": "2025-05-18T12:24:08.157Z"
   },
   {
    "duration": 0,
    "start_time": "2025-05-18T12:24:08.159Z"
   },
   {
    "duration": 0,
    "start_time": "2025-05-18T12:24:08.159Z"
   },
   {
    "duration": 0,
    "start_time": "2025-05-18T12:24:08.161Z"
   },
   {
    "duration": 0,
    "start_time": "2025-05-18T12:24:08.162Z"
   },
   {
    "duration": 0,
    "start_time": "2025-05-18T12:24:08.163Z"
   },
   {
    "duration": 0,
    "start_time": "2025-05-18T12:24:08.164Z"
   },
   {
    "duration": 0,
    "start_time": "2025-05-18T12:24:08.165Z"
   },
   {
    "duration": 0,
    "start_time": "2025-05-18T12:24:08.166Z"
   },
   {
    "duration": 0,
    "start_time": "2025-05-18T12:24:08.168Z"
   },
   {
    "duration": 2786,
    "start_time": "2025-05-18T12:24:35.009Z"
   },
   {
    "duration": 4850,
    "start_time": "2025-05-18T12:24:37.799Z"
   },
   {
    "duration": 964,
    "start_time": "2025-05-18T12:24:42.652Z"
   },
   {
    "duration": 59,
    "start_time": "2025-05-18T12:24:43.618Z"
   },
   {
    "duration": 35,
    "start_time": "2025-05-18T12:24:43.680Z"
   },
   {
    "duration": 12,
    "start_time": "2025-05-18T12:24:43.717Z"
   },
   {
    "duration": 8,
    "start_time": "2025-05-18T12:24:43.731Z"
   },
   {
    "duration": 41,
    "start_time": "2025-05-18T12:24:43.741Z"
   },
   {
    "duration": 268,
    "start_time": "2025-05-18T12:24:43.784Z"
   },
   {
    "duration": 2394,
    "start_time": "2025-05-18T12:24:44.054Z"
   },
   {
    "duration": 583,
    "start_time": "2025-05-18T12:24:46.450Z"
   },
   {
    "duration": 694918,
    "start_time": "2025-05-18T12:24:47.035Z"
   },
   {
    "duration": 42,
    "start_time": "2025-05-18T12:36:21.955Z"
   },
   {
    "duration": 385,
    "start_time": "2025-05-18T12:36:22.000Z"
   },
   {
    "duration": 69,
    "start_time": "2025-05-18T12:36:22.386Z"
   },
   {
    "duration": 3,
    "start_time": "2025-05-18T12:36:22.457Z"
   },
   {
    "duration": 9,
    "start_time": "2025-05-18T12:36:22.462Z"
   },
   {
    "duration": 5,
    "start_time": "2025-05-18T12:36:22.474Z"
   },
   {
    "duration": 7,
    "start_time": "2025-05-18T12:36:22.481Z"
   },
   {
    "duration": 6,
    "start_time": "2025-05-18T12:36:22.490Z"
   },
   {
    "duration": 827025,
    "start_time": "2025-05-18T12:36:22.498Z"
   },
   {
    "duration": 381,
    "start_time": "2025-05-18T12:50:09.525Z"
   },
   {
    "duration": 1849,
    "start_time": "2025-05-18T12:52:48.011Z"
   },
   {
    "duration": 2841,
    "start_time": "2025-05-18T12:54:21.244Z"
   },
   {
    "duration": 5012,
    "start_time": "2025-05-18T12:54:24.088Z"
   },
   {
    "duration": 1053,
    "start_time": "2025-05-18T12:54:29.104Z"
   },
   {
    "duration": 42,
    "start_time": "2025-05-18T12:54:30.163Z"
   },
   {
    "duration": 38,
    "start_time": "2025-05-18T12:54:30.208Z"
   },
   {
    "duration": 57,
    "start_time": "2025-05-18T12:54:30.248Z"
   },
   {
    "duration": 35,
    "start_time": "2025-05-18T12:54:30.307Z"
   },
   {
    "duration": 38,
    "start_time": "2025-05-18T12:54:30.343Z"
   },
   {
    "duration": 246,
    "start_time": "2025-05-18T12:54:30.382Z"
   },
   {
    "duration": 2474,
    "start_time": "2025-05-18T12:54:30.630Z"
   },
   {
    "duration": 629,
    "start_time": "2025-05-18T12:54:33.105Z"
   },
   {
    "duration": 173257,
    "start_time": "2025-05-18T12:54:33.736Z"
   },
   {
    "duration": 1,
    "start_time": "2025-05-18T12:57:26.995Z"
   },
   {
    "duration": 0,
    "start_time": "2025-05-18T12:57:26.997Z"
   },
   {
    "duration": 0,
    "start_time": "2025-05-18T12:57:26.999Z"
   },
   {
    "duration": 0,
    "start_time": "2025-05-18T12:57:27.000Z"
   },
   {
    "duration": 0,
    "start_time": "2025-05-18T12:57:27.002Z"
   },
   {
    "duration": 0,
    "start_time": "2025-05-18T12:57:27.003Z"
   },
   {
    "duration": 0,
    "start_time": "2025-05-18T12:57:27.005Z"
   },
   {
    "duration": 0,
    "start_time": "2025-05-18T12:57:27.006Z"
   },
   {
    "duration": 0,
    "start_time": "2025-05-18T12:57:27.007Z"
   },
   {
    "duration": 0,
    "start_time": "2025-05-18T12:57:27.008Z"
   },
   {
    "duration": 762,
    "start_time": "2025-05-18T12:57:35.079Z"
   },
   {
    "duration": 2838,
    "start_time": "2025-05-18T13:01:08.485Z"
   },
   {
    "duration": 5256,
    "start_time": "2025-05-18T13:01:11.326Z"
   },
   {
    "duration": 1078,
    "start_time": "2025-05-18T13:01:16.584Z"
   },
   {
    "duration": 44,
    "start_time": "2025-05-18T13:01:17.665Z"
   },
   {
    "duration": 38,
    "start_time": "2025-05-18T13:01:17.712Z"
   },
   {
    "duration": 24,
    "start_time": "2025-05-18T13:01:17.752Z"
   },
   {
    "duration": 36,
    "start_time": "2025-05-18T13:01:17.779Z"
   },
   {
    "duration": 33,
    "start_time": "2025-05-18T13:01:17.817Z"
   },
   {
    "duration": 246,
    "start_time": "2025-05-18T13:01:17.852Z"
   },
   {
    "duration": 2553,
    "start_time": "2025-05-18T13:01:18.100Z"
   },
   {
    "duration": 621,
    "start_time": "2025-05-18T13:01:20.655Z"
   },
   {
    "duration": 682103,
    "start_time": "2025-05-18T13:01:21.279Z"
   },
   {
    "duration": 29,
    "start_time": "2025-05-18T13:12:43.383Z"
   },
   {
    "duration": 198,
    "start_time": "2025-05-18T13:12:43.415Z"
   },
   {
    "duration": 81,
    "start_time": "2025-05-18T13:12:43.617Z"
   },
   {
    "duration": 3,
    "start_time": "2025-05-18T13:12:43.700Z"
   },
   {
    "duration": 5,
    "start_time": "2025-05-18T13:12:43.704Z"
   },
   {
    "duration": 8,
    "start_time": "2025-05-18T13:12:43.711Z"
   },
   {
    "duration": 5,
    "start_time": "2025-05-18T13:12:43.721Z"
   },
   {
    "duration": 6,
    "start_time": "2025-05-18T13:12:43.727Z"
   },
   {
    "duration": 868449,
    "start_time": "2025-05-18T13:12:43.734Z"
   },
   {
    "duration": 1918,
    "start_time": "2025-05-18T13:27:12.185Z"
   },
   {
    "duration": 81,
    "start_time": "2025-05-18T13:30:00.787Z"
   },
   {
    "duration": 4,
    "start_time": "2025-05-18T13:30:00.870Z"
   },
   {
    "duration": 5,
    "start_time": "2025-05-18T13:30:00.876Z"
   },
   {
    "duration": 54,
    "start_time": "2025-05-18T13:30:00.883Z"
   },
   {
    "duration": 43,
    "start_time": "2025-05-18T13:30:00.940Z"
   },
   {
    "duration": 5,
    "start_time": "2025-05-18T13:30:00.985Z"
   },
   {
    "duration": 2234753,
    "start_time": "2025-05-18T13:30:00.991Z"
   },
   {
    "duration": 3029,
    "start_time": "2025-05-18T14:07:15.748Z"
   },
   {
    "duration": 4,
    "start_time": "2025-05-18T14:29:29.643Z"
   },
   {
    "duration": 17,
    "start_time": "2025-05-18T14:29:30.590Z"
   },
   {
    "duration": 21,
    "start_time": "2025-05-18T14:29:31.271Z"
   },
   {
    "duration": 62,
    "start_time": "2025-05-18T14:29:31.590Z"
   },
   {
    "duration": 2286384,
    "start_time": "2025-05-18T14:29:33.137Z"
   },
   {
    "duration": 4,
    "start_time": "2025-05-18T15:11:57.033Z"
   },
   {
    "duration": 5340648,
    "start_time": "2025-05-18T15:12:11.168Z"
   },
   {
    "duration": 1835,
    "start_time": "2025-05-18T16:44:56.677Z"
   },
   {
    "duration": 1014,
    "start_time": "2025-05-18T16:46:11.859Z"
   },
   {
    "duration": 40,
    "start_time": "2025-05-18T16:46:22.837Z"
   },
   {
    "duration": 67,
    "start_time": "2025-05-18T16:46:51.628Z"
   },
   {
    "duration": 3,
    "start_time": "2025-05-18T16:46:53.189Z"
   },
   {
    "duration": 25,
    "start_time": "2025-05-18T16:47:15.546Z"
   },
   {
    "duration": 33,
    "start_time": "2025-05-18T16:47:38.013Z"
   },
   {
    "duration": 3822,
    "start_time": "2025-05-18T16:47:59.658Z"
   },
   {
    "duration": 114,
    "start_time": "2025-05-18T16:48:04.117Z"
   },
   {
    "duration": 43,
    "start_time": "2025-05-18T16:48:22.249Z"
   },
   {
    "duration": 25,
    "start_time": "2025-05-18T16:48:41.043Z"
   },
   {
    "duration": 18,
    "start_time": "2025-05-18T16:48:44.564Z"
   },
   {
    "duration": 5,
    "start_time": "2025-05-18T16:48:45.356Z"
   },
   {
    "duration": 913,
    "start_time": "2025-05-18T16:48:47.195Z"
   },
   {
    "duration": 10,
    "start_time": "2025-05-18T16:50:21.874Z"
   },
   {
    "duration": 2721,
    "start_time": "2025-05-18T16:52:21.416Z"
   },
   {
    "duration": 2762,
    "start_time": "2025-05-18T16:52:24.141Z"
   },
   {
    "duration": 4905,
    "start_time": "2025-05-18T16:52:26.905Z"
   },
   {
    "duration": 998,
    "start_time": "2025-05-18T16:52:31.812Z"
   },
   {
    "duration": 56,
    "start_time": "2025-05-18T16:52:32.813Z"
   },
   {
    "duration": 38,
    "start_time": "2025-05-18T16:52:32.871Z"
   },
   {
    "duration": 13,
    "start_time": "2025-05-18T16:52:32.911Z"
   },
   {
    "duration": 12,
    "start_time": "2025-05-18T16:52:32.926Z"
   },
   {
    "duration": 49,
    "start_time": "2025-05-18T16:52:32.940Z"
   },
   {
    "duration": 238,
    "start_time": "2025-05-18T16:52:32.991Z"
   },
   {
    "duration": 2419,
    "start_time": "2025-05-18T16:52:33.232Z"
   },
   {
    "duration": 594,
    "start_time": "2025-05-18T16:52:35.661Z"
   },
   {
    "duration": 648676,
    "start_time": "2025-05-18T16:52:36.256Z"
   },
   {
    "duration": 1996,
    "start_time": "2025-05-18T17:03:24.935Z"
   },
   {
    "duration": 32,
    "start_time": "2025-05-18T17:03:26.934Z"
   },
   {
    "duration": 68,
    "start_time": "2025-05-18T17:03:26.968Z"
   },
   {
    "duration": 4,
    "start_time": "2025-05-18T17:03:27.037Z"
   },
   {
    "duration": 19,
    "start_time": "2025-05-18T17:03:27.042Z"
   },
   {
    "duration": 4,
    "start_time": "2025-05-18T17:03:27.063Z"
   },
   {
    "duration": 11,
    "start_time": "2025-05-18T17:03:27.069Z"
   },
   {
    "duration": 377,
    "start_time": "2025-05-18T17:03:27.082Z"
   },
   {
    "duration": 0,
    "start_time": "2025-05-18T17:03:27.461Z"
   },
   {
    "duration": 0,
    "start_time": "2025-05-18T17:03:27.463Z"
   },
   {
    "duration": 34,
    "start_time": "2025-05-18T17:04:55.539Z"
   },
   {
    "duration": 4,
    "start_time": "2025-05-18T17:05:00.410Z"
   },
   {
    "duration": 2737,
    "start_time": "2025-05-18T17:26:00.483Z"
   },
   {
    "duration": 2614,
    "start_time": "2025-05-18T17:26:03.222Z"
   },
   {
    "duration": 4718,
    "start_time": "2025-05-18T17:26:05.839Z"
   },
   {
    "duration": 963,
    "start_time": "2025-05-18T17:26:10.559Z"
   },
   {
    "duration": 36,
    "start_time": "2025-05-18T17:26:11.525Z"
   },
   {
    "duration": 39,
    "start_time": "2025-05-18T17:26:11.563Z"
   },
   {
    "duration": 12,
    "start_time": "2025-05-18T17:26:11.604Z"
   },
   {
    "duration": 6,
    "start_time": "2025-05-18T17:26:11.618Z"
   },
   {
    "duration": 54,
    "start_time": "2025-05-18T17:26:11.626Z"
   },
   {
    "duration": 238,
    "start_time": "2025-05-18T17:26:11.681Z"
   },
   {
    "duration": 2245,
    "start_time": "2025-05-18T17:26:11.921Z"
   },
   {
    "duration": 551,
    "start_time": "2025-05-18T17:26:14.167Z"
   },
   {
    "duration": 170400,
    "start_time": "2025-05-18T17:26:14.719Z"
   },
   {
    "duration": 1,
    "start_time": "2025-05-18T17:29:05.121Z"
   },
   {
    "duration": 0,
    "start_time": "2025-05-18T17:29:05.123Z"
   },
   {
    "duration": 0,
    "start_time": "2025-05-18T17:29:05.124Z"
   },
   {
    "duration": 0,
    "start_time": "2025-05-18T17:29:05.125Z"
   },
   {
    "duration": 0,
    "start_time": "2025-05-18T17:29:05.126Z"
   },
   {
    "duration": 0,
    "start_time": "2025-05-18T17:29:05.127Z"
   },
   {
    "duration": 0,
    "start_time": "2025-05-18T17:29:05.128Z"
   },
   {
    "duration": 0,
    "start_time": "2025-05-18T17:29:05.130Z"
   },
   {
    "duration": 0,
    "start_time": "2025-05-18T17:29:05.131Z"
   },
   {
    "duration": 0,
    "start_time": "2025-05-18T17:29:05.132Z"
   },
   {
    "duration": 2689,
    "start_time": "2025-05-18T17:29:34.688Z"
   },
   {
    "duration": 2683,
    "start_time": "2025-05-18T17:29:37.380Z"
   },
   {
    "duration": 4743,
    "start_time": "2025-05-18T17:29:40.065Z"
   },
   {
    "duration": 997,
    "start_time": "2025-05-18T17:29:44.810Z"
   },
   {
    "duration": 48,
    "start_time": "2025-05-18T17:29:45.809Z"
   },
   {
    "duration": 36,
    "start_time": "2025-05-18T17:29:45.859Z"
   },
   {
    "duration": 13,
    "start_time": "2025-05-18T17:29:45.897Z"
   },
   {
    "duration": 7,
    "start_time": "2025-05-18T17:29:45.912Z"
   },
   {
    "duration": 58,
    "start_time": "2025-05-18T17:29:45.921Z"
   },
   {
    "duration": 234,
    "start_time": "2025-05-18T17:29:45.981Z"
   },
   {
    "duration": 2267,
    "start_time": "2025-05-18T17:29:46.217Z"
   },
   {
    "duration": 554,
    "start_time": "2025-05-18T17:29:48.486Z"
   },
   {
    "duration": 666354,
    "start_time": "2025-05-18T17:29:49.042Z"
   },
   {
    "duration": 1898,
    "start_time": "2025-05-18T17:40:55.400Z"
   },
   {
    "duration": 24,
    "start_time": "2025-05-18T17:40:57.300Z"
   },
   {
    "duration": 76,
    "start_time": "2025-05-18T17:40:57.326Z"
   },
   {
    "duration": 3,
    "start_time": "2025-05-18T17:40:57.403Z"
   },
   {
    "duration": 5,
    "start_time": "2025-05-18T17:40:57.408Z"
   },
   {
    "duration": 4,
    "start_time": "2025-05-18T17:40:57.415Z"
   },
   {
    "duration": 12,
    "start_time": "2025-05-18T17:40:57.421Z"
   },
   {
    "duration": 27,
    "start_time": "2025-05-18T17:40:57.435Z"
   },
   {
    "duration": 3100,
    "start_time": "2025-05-18T17:58:35.603Z"
   },
   {
    "duration": 3050,
    "start_time": "2025-05-18T17:58:38.707Z"
   },
   {
    "duration": 5265,
    "start_time": "2025-05-18T17:58:41.760Z"
   },
   {
    "duration": 1025,
    "start_time": "2025-05-18T17:58:47.027Z"
   },
   {
    "duration": 41,
    "start_time": "2025-05-18T17:58:48.060Z"
   },
   {
    "duration": 38,
    "start_time": "2025-05-18T17:58:48.103Z"
   },
   {
    "duration": 18,
    "start_time": "2025-05-18T17:58:48.143Z"
   },
   {
    "duration": 11,
    "start_time": "2025-05-18T17:58:48.165Z"
   },
   {
    "duration": 37,
    "start_time": "2025-05-18T17:58:48.179Z"
   },
   {
    "duration": 275,
    "start_time": "2025-05-18T17:58:48.218Z"
   },
   {
    "duration": 2513,
    "start_time": "2025-05-18T17:58:48.495Z"
   },
   {
    "duration": 640,
    "start_time": "2025-05-18T17:58:51.010Z"
   },
   {
    "duration": 762482,
    "start_time": "2025-05-18T17:58:51.652Z"
   },
   {
    "duration": 2284,
    "start_time": "2025-05-18T18:11:34.137Z"
   },
   {
    "duration": 39,
    "start_time": "2025-05-18T18:11:36.425Z"
   },
   {
    "duration": 76,
    "start_time": "2025-05-18T18:11:36.468Z"
   },
   {
    "duration": 18,
    "start_time": "2025-05-18T18:11:36.546Z"
   },
   {
    "duration": 5,
    "start_time": "2025-05-18T18:11:36.568Z"
   },
   {
    "duration": 6,
    "start_time": "2025-05-18T18:11:36.577Z"
   },
   {
    "duration": 13,
    "start_time": "2025-05-18T18:11:36.585Z"
   },
   {
    "duration": 7,
    "start_time": "2025-05-18T18:11:36.600Z"
   }
  ],
  "kernelspec": {
   "display_name": "Python 3 (ipykernel)",
   "language": "python",
   "name": "python3"
  },
  "language_info": {
   "codemirror_mode": {
    "name": "ipython",
    "version": 3
   },
   "file_extension": ".py",
   "mimetype": "text/x-python",
   "name": "python",
   "nbconvert_exporter": "python",
   "pygments_lexer": "ipython3",
   "version": "3.9.5"
  },
  "toc": {
   "base_numbering": 1,
   "nav_menu": {},
   "number_sections": true,
   "sideBar": true,
   "skip_h1_title": true,
   "title_cell": "Содержание",
   "title_sidebar": "Contents",
   "toc_cell": true,
   "toc_position": {
    "height": "calc(100% - 180px)",
    "left": "10px",
    "top": "150px",
    "width": "200.788px"
   },
   "toc_section_display": true,
   "toc_window_display": true
  }
 },
 "nbformat": 4,
 "nbformat_minor": 4
}
