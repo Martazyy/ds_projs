{
 "cells": [
  {
   "cell_type": "markdown",
   "metadata": {
    "id": "H6cQIZr3ElW1"
   },
   "source": [
    "# Проект: Обучение с учителем: качество модели"
   ]
  },
  {
   "cell_type": "markdown",
   "metadata": {},
   "source": [
    "**Описание проекта**\n",
    "\n",
    "Интернет-магазин «В один клик» продаёт разные товары: для детей, для дома, мелкую бытовую технику, косметику и даже продукты. Отчёт магазина за прошлый период показал, что активность покупателей начала снижаться. Привлекать новых клиентов уже не так эффективно: о магазине и так знает большая часть целевой аудитории. Возможный выход — удерживать активность постоянных клиентов. Сделать это можно с помощью персонализированных предложений.\n",
    "\n",
    "«В один клик» — современная компания, поэтому её руководство не хочет принимать решения просто так — только на основе анализа данных и бизнес-моделирования. У компании есть небольшой отдел цифровых технологий, и вам предстоит побыть в роли стажёра в этом отделе. \n",
    "\n",
    "Итак, вашему отделу поручили разработать решение, которое позволит персонализировать предложения постоянным клиентам, чтобы увеличить их покупательскую активность.\n",
    "\n",
    " **Цель исследования:**\n",
    "\n",
    "Разработка модели классификации, помогающая персонализировать предложения постоянным клиентам для увеличения покупательной способности\n",
    "\n",
    "\n",
    "\n",
    "**Ход исследования**\n",
    "\n",
    "Необходимые для исследования данные я получу из файла `market_file.csv`, `market_money.csv`, `market_time.csv`, `money.csv`. О качестве данных ничего не известно. Поэтому перед тем, как приступать к целям исследования, понадобится обзор данных.\n",
    "\n",
    "Я проверю данные на ошибки и оценю их влияние на исследование. Затем, на этапе предобработки я поищу возможность исправить все ошибки данных, которые не приведут к искажению конечного результата. Далее, создам необходимые столбцы, и приступлю к проведению исследовательского и статического анализа. Заключительным этапом послужит разработка линейный моделей МО\n",
    "\n",
    "\n",
    "Исследование пройдёт в девять этапов:\n",
    "\n",
    " - [Загрузка данных](#section1)\n",
    " - [Предобработка данных](#section2)\n",
    " - [Исследовательский анализ данных](#section3)\n",
    " - [Объединение таблиц](#section4)\n",
    " - [Корреляционный анализ](#section5)\n",
    " - [Использование пайплайнов](#section6)\n",
    " - [Анализ важности признаков](#section7)\n",
    " - [Сегментация покупателей](#section8)\n",
    " - [Общий вывод](#section9)"
   ]
  },
  {
   "cell_type": "markdown",
   "metadata": {},
   "source": [
    "<a id=\"section1\"></a> \n",
    "## Загрузка данных"
   ]
  },
  {
   "cell_type": "code",
   "execution_count": 1,
   "metadata": {},
   "outputs": [
    {
     "name": "stdout",
     "output_type": "stream",
     "text": [
      "Requirement already satisfied: shap in /opt/conda/lib/python3.9/site-packages (0.46.0)\n",
      "Requirement already satisfied: slicer==0.0.8 in /opt/conda/lib/python3.9/site-packages (from shap) (0.0.8)\n",
      "Requirement already satisfied: pandas in /opt/conda/lib/python3.9/site-packages (from shap) (1.2.4)\n",
      "Requirement already satisfied: numba in /opt/conda/lib/python3.9/site-packages (from shap) (0.56.0)\n",
      "Requirement already satisfied: tqdm>=4.27.0 in /opt/conda/lib/python3.9/site-packages (from shap) (4.61.2)\n",
      "Requirement already satisfied: numpy in /opt/conda/lib/python3.9/site-packages (from shap) (1.21.1)\n",
      "Requirement already satisfied: scikit-learn in /opt/conda/lib/python3.9/site-packages (from shap) (0.24.1)\n",
      "Requirement already satisfied: scipy in /opt/conda/lib/python3.9/site-packages (from shap) (1.9.1)\n",
      "Requirement already satisfied: packaging>20.9 in /opt/conda/lib/python3.9/site-packages (from shap) (21.3)\n",
      "Requirement already satisfied: cloudpickle in /opt/conda/lib/python3.9/site-packages (from shap) (3.1.1)\n",
      "Requirement already satisfied: pyparsing!=3.0.5,>=2.0.2 in /opt/conda/lib/python3.9/site-packages (from packaging>20.9->shap) (2.4.7)\n",
      "Requirement already satisfied: setuptools in /opt/conda/lib/python3.9/site-packages (from numba->shap) (49.6.0.post20210108)\n",
      "Requirement already satisfied: llvmlite<0.40,>=0.39.0dev0 in /opt/conda/lib/python3.9/site-packages (from numba->shap) (0.39.0)\n",
      "Requirement already satisfied: python-dateutil>=2.7.3 in /opt/conda/lib/python3.9/site-packages (from pandas->shap) (2.8.1)\n",
      "Requirement already satisfied: pytz>=2017.3 in /opt/conda/lib/python3.9/site-packages (from pandas->shap) (2021.1)\n",
      "Requirement already satisfied: six>=1.5 in /opt/conda/lib/python3.9/site-packages (from python-dateutil>=2.7.3->pandas->shap) (1.16.0)\n",
      "Requirement already satisfied: threadpoolctl>=2.0.0 in /opt/conda/lib/python3.9/site-packages (from scikit-learn->shap) (3.1.0)\n",
      "Requirement already satisfied: joblib>=0.11 in /opt/conda/lib/python3.9/site-packages (from scikit-learn->shap) (1.1.0)\n",
      "Note: you may need to restart the kernel to use updated packages.\n"
     ]
    }
   ],
   "source": [
    "pip install shap"
   ]
  },
  {
   "cell_type": "code",
   "execution_count": 2,
   "metadata": {},
   "outputs": [
    {
     "name": "stdout",
     "output_type": "stream",
     "text": [
      "Requirement already satisfied: phik in /opt/conda/lib/python3.9/site-packages (0.12.4)\n",
      "Requirement already satisfied: numpy>=1.18.0 in /opt/conda/lib/python3.9/site-packages (from phik) (1.21.1)\n",
      "Requirement already satisfied: scipy>=1.5.2 in /opt/conda/lib/python3.9/site-packages (from phik) (1.9.1)\n",
      "Requirement already satisfied: pandas>=0.25.1 in /opt/conda/lib/python3.9/site-packages (from phik) (1.2.4)\n",
      "Requirement already satisfied: matplotlib>=2.2.3 in /opt/conda/lib/python3.9/site-packages (from phik) (3.3.4)\n",
      "Requirement already satisfied: joblib>=0.14.1 in /opt/conda/lib/python3.9/site-packages (from phik) (1.1.0)\n",
      "Requirement already satisfied: pyparsing!=2.0.4,!=2.1.2,!=2.1.6,>=2.0.3 in /opt/conda/lib/python3.9/site-packages (from matplotlib>=2.2.3->phik) (2.4.7)\n",
      "Requirement already satisfied: pillow>=6.2.0 in /opt/conda/lib/python3.9/site-packages (from matplotlib>=2.2.3->phik) (8.4.0)\n",
      "Requirement already satisfied: python-dateutil>=2.1 in /opt/conda/lib/python3.9/site-packages (from matplotlib>=2.2.3->phik) (2.8.1)\n",
      "Requirement already satisfied: cycler>=0.10 in /opt/conda/lib/python3.9/site-packages (from matplotlib>=2.2.3->phik) (0.11.0)\n",
      "Requirement already satisfied: kiwisolver>=1.0.1 in /opt/conda/lib/python3.9/site-packages (from matplotlib>=2.2.3->phik) (1.4.4)\n",
      "Requirement already satisfied: pytz>=2017.3 in /opt/conda/lib/python3.9/site-packages (from pandas>=0.25.1->phik) (2021.1)\n",
      "Requirement already satisfied: six>=1.5 in /opt/conda/lib/python3.9/site-packages (from python-dateutil>=2.1->matplotlib>=2.2.3->phik) (1.16.0)\n",
      "Note: you may need to restart the kernel to use updated packages.\n"
     ]
    }
   ],
   "source": [
    "pip install phik"
   ]
  },
  {
   "cell_type": "markdown",
   "metadata": {},
   "source": [
    "### Импорт библиотек"
   ]
  },
  {
   "cell_type": "code",
   "execution_count": 3,
   "metadata": {},
   "outputs": [
    {
     "data": {
      "text/html": [
       "<style>.output_wrapper, .output {height:auto !important;}</style>"
      ],
      "text/plain": [
       "<IPython.core.display.HTML object>"
      ]
     },
     "metadata": {},
     "output_type": "display_data"
    }
   ],
   "source": [
    "import pandas as pd\n",
    "import matplotlib.pyplot as plt\n",
    "import scipy.stats as stats\n",
    "import numpy as np\n",
    "import seaborn as sns\n",
    "import math\n",
    "%matplotlib inline\n",
    "\n",
    "from sklearn.model_selection import train_test_split\n",
    "from sklearn.pipeline import Pipeline\n",
    "from sklearn.preprocessing import OneHotEncoder, OrdinalEncoder, StandardScaler, MinMaxScaler, RobustScaler\n",
    "from sklearn.compose import ColumnTransformer\n",
    "from sklearn.impute import SimpleImputer\n",
    "\n",
    "from sklearn.metrics import roc_auc_score\n",
    "from sklearn.model_selection import RandomizedSearchCV\n",
    "\n",
    "\n",
    "from sklearn.linear_model import LogisticRegression\n",
    "from sklearn.neighbors import KNeighborsClassifier\n",
    "from sklearn.tree import DecisionTreeClassifier\n",
    "from sklearn.svm import SVC\n",
    "\n",
    "from phik import phik_matrix \n",
    "import shap\n",
    "\n",
    "\n",
    "\n",
    "#отключение ограничений вывода графиков по высоте\n",
    "from IPython.display import display, HTML\n",
    "display(HTML(\"<style>.output_wrapper, .output {height:auto !important;}</style>\"))"
   ]
  },
  {
   "cell_type": "markdown",
   "metadata": {},
   "source": [
    "### Загрузка датасета"
   ]
  },
  {
   "cell_type": "code",
   "execution_count": 4,
   "metadata": {},
   "outputs": [],
   "source": [
    "data_market_file = pd.read_csv('/datasets/market_file.csv', sep=',')\n",
    "data_market_money = pd.read_csv('/datasets/market_money.csv', sep=',')\n",
    "data_market_time = pd.read_csv('/datasets/market_time.csv', sep=',')\n",
    "data_money = pd.read_csv('/datasets/money.csv', sep=';', decimal=',')"
   ]
  },
  {
   "cell_type": "markdown",
   "metadata": {},
   "source": [
    "### Обзор датасета"
   ]
  },
  {
   "cell_type": "markdown",
   "metadata": {},
   "source": [
    "**Датасет market_file.csv**"
   ]
  },
  {
   "cell_type": "code",
   "execution_count": 5,
   "metadata": {
    "scrolled": true
   },
   "outputs": [
    {
     "data": {
      "text/html": [
       "<div>\n",
       "<style scoped>\n",
       "    .dataframe tbody tr th:only-of-type {\n",
       "        vertical-align: middle;\n",
       "    }\n",
       "\n",
       "    .dataframe tbody tr th {\n",
       "        vertical-align: top;\n",
       "    }\n",
       "\n",
       "    .dataframe thead th {\n",
       "        text-align: right;\n",
       "    }\n",
       "</style>\n",
       "<table border=\"1\" class=\"dataframe\">\n",
       "  <thead>\n",
       "    <tr style=\"text-align: right;\">\n",
       "      <th></th>\n",
       "      <th>id</th>\n",
       "      <th>Покупательская активность</th>\n",
       "      <th>Тип сервиса</th>\n",
       "      <th>Разрешить сообщать</th>\n",
       "      <th>Маркет_актив_6_мес</th>\n",
       "      <th>Маркет_актив_тек_мес</th>\n",
       "      <th>Длительность</th>\n",
       "      <th>Акционные_покупки</th>\n",
       "      <th>Популярная_категория</th>\n",
       "      <th>Средний_просмотр_категорий_за_визит</th>\n",
       "      <th>Неоплаченные_продукты_штук_квартал</th>\n",
       "      <th>Ошибка_сервиса</th>\n",
       "      <th>Страниц_за_визит</th>\n",
       "    </tr>\n",
       "  </thead>\n",
       "  <tbody>\n",
       "    <tr>\n",
       "      <th>0</th>\n",
       "      <td>215348</td>\n",
       "      <td>Снизилась</td>\n",
       "      <td>премиум</td>\n",
       "      <td>да</td>\n",
       "      <td>3.4</td>\n",
       "      <td>5</td>\n",
       "      <td>121</td>\n",
       "      <td>0.00</td>\n",
       "      <td>Товары для детей</td>\n",
       "      <td>6</td>\n",
       "      <td>2</td>\n",
       "      <td>1</td>\n",
       "      <td>5</td>\n",
       "    </tr>\n",
       "    <tr>\n",
       "      <th>1</th>\n",
       "      <td>215349</td>\n",
       "      <td>Снизилась</td>\n",
       "      <td>премиум</td>\n",
       "      <td>да</td>\n",
       "      <td>4.4</td>\n",
       "      <td>4</td>\n",
       "      <td>819</td>\n",
       "      <td>0.75</td>\n",
       "      <td>Товары для детей</td>\n",
       "      <td>4</td>\n",
       "      <td>4</td>\n",
       "      <td>2</td>\n",
       "      <td>5</td>\n",
       "    </tr>\n",
       "    <tr>\n",
       "      <th>2</th>\n",
       "      <td>215350</td>\n",
       "      <td>Снизилась</td>\n",
       "      <td>стандартт</td>\n",
       "      <td>нет</td>\n",
       "      <td>4.9</td>\n",
       "      <td>3</td>\n",
       "      <td>539</td>\n",
       "      <td>0.14</td>\n",
       "      <td>Домашний текстиль</td>\n",
       "      <td>5</td>\n",
       "      <td>2</td>\n",
       "      <td>1</td>\n",
       "      <td>5</td>\n",
       "    </tr>\n",
       "    <tr>\n",
       "      <th>3</th>\n",
       "      <td>215351</td>\n",
       "      <td>Снизилась</td>\n",
       "      <td>стандартт</td>\n",
       "      <td>да</td>\n",
       "      <td>3.2</td>\n",
       "      <td>5</td>\n",
       "      <td>896</td>\n",
       "      <td>0.99</td>\n",
       "      <td>Товары для детей</td>\n",
       "      <td>5</td>\n",
       "      <td>0</td>\n",
       "      <td>6</td>\n",
       "      <td>4</td>\n",
       "    </tr>\n",
       "    <tr>\n",
       "      <th>4</th>\n",
       "      <td>215352</td>\n",
       "      <td>Снизилась</td>\n",
       "      <td>стандартт</td>\n",
       "      <td>нет</td>\n",
       "      <td>5.1</td>\n",
       "      <td>3</td>\n",
       "      <td>1064</td>\n",
       "      <td>0.94</td>\n",
       "      <td>Товары для детей</td>\n",
       "      <td>3</td>\n",
       "      <td>2</td>\n",
       "      <td>3</td>\n",
       "      <td>2</td>\n",
       "    </tr>\n",
       "    <tr>\n",
       "      <th>5</th>\n",
       "      <td>215353</td>\n",
       "      <td>Снизилась</td>\n",
       "      <td>стандартт</td>\n",
       "      <td>да</td>\n",
       "      <td>3.3</td>\n",
       "      <td>4</td>\n",
       "      <td>762</td>\n",
       "      <td>0.26</td>\n",
       "      <td>Домашний текстиль</td>\n",
       "      <td>4</td>\n",
       "      <td>1</td>\n",
       "      <td>1</td>\n",
       "      <td>4</td>\n",
       "    </tr>\n",
       "    <tr>\n",
       "      <th>6</th>\n",
       "      <td>215354</td>\n",
       "      <td>Снизилась</td>\n",
       "      <td>стандартт</td>\n",
       "      <td>да</td>\n",
       "      <td>5.1</td>\n",
       "      <td>3</td>\n",
       "      <td>431</td>\n",
       "      <td>0.23</td>\n",
       "      <td>Косметика и аксесуары</td>\n",
       "      <td>2</td>\n",
       "      <td>3</td>\n",
       "      <td>7</td>\n",
       "      <td>2</td>\n",
       "    </tr>\n",
       "    <tr>\n",
       "      <th>7</th>\n",
       "      <td>215355</td>\n",
       "      <td>Снизилась</td>\n",
       "      <td>стандартт</td>\n",
       "      <td>нет</td>\n",
       "      <td>4.7</td>\n",
       "      <td>4</td>\n",
       "      <td>284</td>\n",
       "      <td>0.17</td>\n",
       "      <td>Товары для детей</td>\n",
       "      <td>5</td>\n",
       "      <td>1</td>\n",
       "      <td>6</td>\n",
       "      <td>4</td>\n",
       "    </tr>\n",
       "    <tr>\n",
       "      <th>8</th>\n",
       "      <td>215356</td>\n",
       "      <td>Снизилась</td>\n",
       "      <td>стандартт</td>\n",
       "      <td>да</td>\n",
       "      <td>4.2</td>\n",
       "      <td>4</td>\n",
       "      <td>192</td>\n",
       "      <td>0.14</td>\n",
       "      <td>Косметика и аксесуары</td>\n",
       "      <td>2</td>\n",
       "      <td>2</td>\n",
       "      <td>1</td>\n",
       "      <td>3</td>\n",
       "    </tr>\n",
       "    <tr>\n",
       "      <th>9</th>\n",
       "      <td>215357</td>\n",
       "      <td>Снизилась</td>\n",
       "      <td>стандартт</td>\n",
       "      <td>да</td>\n",
       "      <td>3.9</td>\n",
       "      <td>5</td>\n",
       "      <td>154</td>\n",
       "      <td>0.00</td>\n",
       "      <td>Техника для красоты и здоровья</td>\n",
       "      <td>3</td>\n",
       "      <td>3</td>\n",
       "      <td>9</td>\n",
       "      <td>5</td>\n",
       "    </tr>\n",
       "  </tbody>\n",
       "</table>\n",
       "</div>"
      ],
      "text/plain": [
       "       id Покупательская активность Тип сервиса Разрешить сообщать  \\\n",
       "0  215348                 Снизилась     премиум                 да   \n",
       "1  215349                 Снизилась     премиум                 да   \n",
       "2  215350                 Снизилась   стандартт                нет   \n",
       "3  215351                 Снизилась   стандартт                 да   \n",
       "4  215352                 Снизилась   стандартт                нет   \n",
       "5  215353                 Снизилась   стандартт                 да   \n",
       "6  215354                 Снизилась   стандартт                 да   \n",
       "7  215355                 Снизилась   стандартт                нет   \n",
       "8  215356                 Снизилась   стандартт                 да   \n",
       "9  215357                 Снизилась   стандартт                 да   \n",
       "\n",
       "   Маркет_актив_6_мес  Маркет_актив_тек_мес  Длительность  Акционные_покупки  \\\n",
       "0                 3.4                     5           121               0.00   \n",
       "1                 4.4                     4           819               0.75   \n",
       "2                 4.9                     3           539               0.14   \n",
       "3                 3.2                     5           896               0.99   \n",
       "4                 5.1                     3          1064               0.94   \n",
       "5                 3.3                     4           762               0.26   \n",
       "6                 5.1                     3           431               0.23   \n",
       "7                 4.7                     4           284               0.17   \n",
       "8                 4.2                     4           192               0.14   \n",
       "9                 3.9                     5           154               0.00   \n",
       "\n",
       "             Популярная_категория  Средний_просмотр_категорий_за_визит  \\\n",
       "0                Товары для детей                                    6   \n",
       "1                Товары для детей                                    4   \n",
       "2               Домашний текстиль                                    5   \n",
       "3                Товары для детей                                    5   \n",
       "4                Товары для детей                                    3   \n",
       "5               Домашний текстиль                                    4   \n",
       "6           Косметика и аксесуары                                    2   \n",
       "7                Товары для детей                                    5   \n",
       "8           Косметика и аксесуары                                    2   \n",
       "9  Техника для красоты и здоровья                                    3   \n",
       "\n",
       "   Неоплаченные_продукты_штук_квартал  Ошибка_сервиса  Страниц_за_визит  \n",
       "0                                   2               1                 5  \n",
       "1                                   4               2                 5  \n",
       "2                                   2               1                 5  \n",
       "3                                   0               6                 4  \n",
       "4                                   2               3                 2  \n",
       "5                                   1               1                 4  \n",
       "6                                   3               7                 2  \n",
       "7                                   1               6                 4  \n",
       "8                                   2               1                 3  \n",
       "9                                   3               9                 5  "
      ]
     },
     "execution_count": 5,
     "metadata": {},
     "output_type": "execute_result"
    }
   ],
   "source": [
    "data_market_file.head(10)"
   ]
  },
  {
   "cell_type": "code",
   "execution_count": 6,
   "metadata": {},
   "outputs": [
    {
     "name": "stdout",
     "output_type": "stream",
     "text": [
      "<class 'pandas.core.frame.DataFrame'>\n",
      "RangeIndex: 1300 entries, 0 to 1299\n",
      "Data columns (total 13 columns):\n",
      " #   Column                               Non-Null Count  Dtype  \n",
      "---  ------                               --------------  -----  \n",
      " 0   id                                   1300 non-null   int64  \n",
      " 1   Покупательская активность            1300 non-null   object \n",
      " 2   Тип сервиса                          1300 non-null   object \n",
      " 3   Разрешить сообщать                   1300 non-null   object \n",
      " 4   Маркет_актив_6_мес                   1300 non-null   float64\n",
      " 5   Маркет_актив_тек_мес                 1300 non-null   int64  \n",
      " 6   Длительность                         1300 non-null   int64  \n",
      " 7   Акционные_покупки                    1300 non-null   float64\n",
      " 8   Популярная_категория                 1300 non-null   object \n",
      " 9   Средний_просмотр_категорий_за_визит  1300 non-null   int64  \n",
      " 10  Неоплаченные_продукты_штук_квартал   1300 non-null   int64  \n",
      " 11  Ошибка_сервиса                       1300 non-null   int64  \n",
      " 12  Страниц_за_визит                     1300 non-null   int64  \n",
      "dtypes: float64(2), int64(7), object(4)\n",
      "memory usage: 132.2+ KB\n"
     ]
    }
   ],
   "source": [
    "data_market_file.info()"
   ]
  },
  {
   "cell_type": "markdown",
   "metadata": {},
   "source": [
    "**Датасет market_money.csv**"
   ]
  },
  {
   "cell_type": "code",
   "execution_count": 7,
   "metadata": {},
   "outputs": [
    {
     "data": {
      "text/html": [
       "<div>\n",
       "<style scoped>\n",
       "    .dataframe tbody tr th:only-of-type {\n",
       "        vertical-align: middle;\n",
       "    }\n",
       "\n",
       "    .dataframe tbody tr th {\n",
       "        vertical-align: top;\n",
       "    }\n",
       "\n",
       "    .dataframe thead th {\n",
       "        text-align: right;\n",
       "    }\n",
       "</style>\n",
       "<table border=\"1\" class=\"dataframe\">\n",
       "  <thead>\n",
       "    <tr style=\"text-align: right;\">\n",
       "      <th></th>\n",
       "      <th>id</th>\n",
       "      <th>Период</th>\n",
       "      <th>Выручка</th>\n",
       "    </tr>\n",
       "  </thead>\n",
       "  <tbody>\n",
       "    <tr>\n",
       "      <th>0</th>\n",
       "      <td>215348</td>\n",
       "      <td>препредыдущий_месяц</td>\n",
       "      <td>0.0</td>\n",
       "    </tr>\n",
       "    <tr>\n",
       "      <th>1</th>\n",
       "      <td>215348</td>\n",
       "      <td>текущий_месяц</td>\n",
       "      <td>3293.1</td>\n",
       "    </tr>\n",
       "    <tr>\n",
       "      <th>2</th>\n",
       "      <td>215348</td>\n",
       "      <td>предыдущий_месяц</td>\n",
       "      <td>0.0</td>\n",
       "    </tr>\n",
       "    <tr>\n",
       "      <th>3</th>\n",
       "      <td>215349</td>\n",
       "      <td>препредыдущий_месяц</td>\n",
       "      <td>4472.0</td>\n",
       "    </tr>\n",
       "    <tr>\n",
       "      <th>4</th>\n",
       "      <td>215349</td>\n",
       "      <td>текущий_месяц</td>\n",
       "      <td>4971.6</td>\n",
       "    </tr>\n",
       "    <tr>\n",
       "      <th>5</th>\n",
       "      <td>215349</td>\n",
       "      <td>предыдущий_месяц</td>\n",
       "      <td>5216.0</td>\n",
       "    </tr>\n",
       "    <tr>\n",
       "      <th>6</th>\n",
       "      <td>215350</td>\n",
       "      <td>препредыдущий_месяц</td>\n",
       "      <td>4826.0</td>\n",
       "    </tr>\n",
       "    <tr>\n",
       "      <th>7</th>\n",
       "      <td>215350</td>\n",
       "      <td>текущий_месяц</td>\n",
       "      <td>5058.4</td>\n",
       "    </tr>\n",
       "    <tr>\n",
       "      <th>8</th>\n",
       "      <td>215350</td>\n",
       "      <td>предыдущий_месяц</td>\n",
       "      <td>5457.5</td>\n",
       "    </tr>\n",
       "    <tr>\n",
       "      <th>9</th>\n",
       "      <td>215351</td>\n",
       "      <td>текущий_месяц</td>\n",
       "      <td>6610.4</td>\n",
       "    </tr>\n",
       "  </tbody>\n",
       "</table>\n",
       "</div>"
      ],
      "text/plain": [
       "       id               Период  Выручка\n",
       "0  215348  препредыдущий_месяц      0.0\n",
       "1  215348        текущий_месяц   3293.1\n",
       "2  215348     предыдущий_месяц      0.0\n",
       "3  215349  препредыдущий_месяц   4472.0\n",
       "4  215349        текущий_месяц   4971.6\n",
       "5  215349     предыдущий_месяц   5216.0\n",
       "6  215350  препредыдущий_месяц   4826.0\n",
       "7  215350        текущий_месяц   5058.4\n",
       "8  215350     предыдущий_месяц   5457.5\n",
       "9  215351        текущий_месяц   6610.4"
      ]
     },
     "execution_count": 7,
     "metadata": {},
     "output_type": "execute_result"
    }
   ],
   "source": [
    "data_market_money.head(10)"
   ]
  },
  {
   "cell_type": "code",
   "execution_count": 8,
   "metadata": {},
   "outputs": [
    {
     "name": "stdout",
     "output_type": "stream",
     "text": [
      "<class 'pandas.core.frame.DataFrame'>\n",
      "RangeIndex: 3900 entries, 0 to 3899\n",
      "Data columns (total 3 columns):\n",
      " #   Column   Non-Null Count  Dtype  \n",
      "---  ------   --------------  -----  \n",
      " 0   id       3900 non-null   int64  \n",
      " 1   Период   3900 non-null   object \n",
      " 2   Выручка  3900 non-null   float64\n",
      "dtypes: float64(1), int64(1), object(1)\n",
      "memory usage: 91.5+ KB\n"
     ]
    }
   ],
   "source": [
    "data_market_money.info()"
   ]
  },
  {
   "cell_type": "markdown",
   "metadata": {},
   "source": [
    "**Датасет market_time.csv**"
   ]
  },
  {
   "cell_type": "code",
   "execution_count": 9,
   "metadata": {},
   "outputs": [
    {
     "data": {
      "text/html": [
       "<div>\n",
       "<style scoped>\n",
       "    .dataframe tbody tr th:only-of-type {\n",
       "        vertical-align: middle;\n",
       "    }\n",
       "\n",
       "    .dataframe tbody tr th {\n",
       "        vertical-align: top;\n",
       "    }\n",
       "\n",
       "    .dataframe thead th {\n",
       "        text-align: right;\n",
       "    }\n",
       "</style>\n",
       "<table border=\"1\" class=\"dataframe\">\n",
       "  <thead>\n",
       "    <tr style=\"text-align: right;\">\n",
       "      <th></th>\n",
       "      <th>id</th>\n",
       "      <th>Период</th>\n",
       "      <th>минут</th>\n",
       "    </tr>\n",
       "  </thead>\n",
       "  <tbody>\n",
       "    <tr>\n",
       "      <th>0</th>\n",
       "      <td>215348</td>\n",
       "      <td>текущий_месяц</td>\n",
       "      <td>14</td>\n",
       "    </tr>\n",
       "    <tr>\n",
       "      <th>1</th>\n",
       "      <td>215348</td>\n",
       "      <td>предыдцщий_месяц</td>\n",
       "      <td>13</td>\n",
       "    </tr>\n",
       "    <tr>\n",
       "      <th>2</th>\n",
       "      <td>215349</td>\n",
       "      <td>текущий_месяц</td>\n",
       "      <td>10</td>\n",
       "    </tr>\n",
       "    <tr>\n",
       "      <th>3</th>\n",
       "      <td>215349</td>\n",
       "      <td>предыдцщий_месяц</td>\n",
       "      <td>12</td>\n",
       "    </tr>\n",
       "    <tr>\n",
       "      <th>4</th>\n",
       "      <td>215350</td>\n",
       "      <td>текущий_месяц</td>\n",
       "      <td>13</td>\n",
       "    </tr>\n",
       "    <tr>\n",
       "      <th>5</th>\n",
       "      <td>215350</td>\n",
       "      <td>предыдцщий_месяц</td>\n",
       "      <td>8</td>\n",
       "    </tr>\n",
       "    <tr>\n",
       "      <th>6</th>\n",
       "      <td>215351</td>\n",
       "      <td>текущий_месяц</td>\n",
       "      <td>13</td>\n",
       "    </tr>\n",
       "    <tr>\n",
       "      <th>7</th>\n",
       "      <td>215351</td>\n",
       "      <td>предыдцщий_месяц</td>\n",
       "      <td>11</td>\n",
       "    </tr>\n",
       "    <tr>\n",
       "      <th>8</th>\n",
       "      <td>215352</td>\n",
       "      <td>текущий_месяц</td>\n",
       "      <td>11</td>\n",
       "    </tr>\n",
       "    <tr>\n",
       "      <th>9</th>\n",
       "      <td>215352</td>\n",
       "      <td>предыдцщий_месяц</td>\n",
       "      <td>8</td>\n",
       "    </tr>\n",
       "  </tbody>\n",
       "</table>\n",
       "</div>"
      ],
      "text/plain": [
       "       id            Период  минут\n",
       "0  215348     текущий_месяц     14\n",
       "1  215348  предыдцщий_месяц     13\n",
       "2  215349     текущий_месяц     10\n",
       "3  215349  предыдцщий_месяц     12\n",
       "4  215350     текущий_месяц     13\n",
       "5  215350  предыдцщий_месяц      8\n",
       "6  215351     текущий_месяц     13\n",
       "7  215351  предыдцщий_месяц     11\n",
       "8  215352     текущий_месяц     11\n",
       "9  215352  предыдцщий_месяц      8"
      ]
     },
     "execution_count": 9,
     "metadata": {},
     "output_type": "execute_result"
    }
   ],
   "source": [
    "data_market_time.head(10)"
   ]
  },
  {
   "cell_type": "code",
   "execution_count": 10,
   "metadata": {},
   "outputs": [
    {
     "name": "stdout",
     "output_type": "stream",
     "text": [
      "<class 'pandas.core.frame.DataFrame'>\n",
      "RangeIndex: 2600 entries, 0 to 2599\n",
      "Data columns (total 3 columns):\n",
      " #   Column  Non-Null Count  Dtype \n",
      "---  ------  --------------  ----- \n",
      " 0   id      2600 non-null   int64 \n",
      " 1   Период  2600 non-null   object\n",
      " 2   минут   2600 non-null   int64 \n",
      "dtypes: int64(2), object(1)\n",
      "memory usage: 61.1+ KB\n"
     ]
    }
   ],
   "source": [
    "data_market_time.info()"
   ]
  },
  {
   "cell_type": "markdown",
   "metadata": {},
   "source": [
    "**Датасет money.csv**"
   ]
  },
  {
   "cell_type": "code",
   "execution_count": 11,
   "metadata": {},
   "outputs": [
    {
     "data": {
      "text/html": [
       "<div>\n",
       "<style scoped>\n",
       "    .dataframe tbody tr th:only-of-type {\n",
       "        vertical-align: middle;\n",
       "    }\n",
       "\n",
       "    .dataframe tbody tr th {\n",
       "        vertical-align: top;\n",
       "    }\n",
       "\n",
       "    .dataframe thead th {\n",
       "        text-align: right;\n",
       "    }\n",
       "</style>\n",
       "<table border=\"1\" class=\"dataframe\">\n",
       "  <thead>\n",
       "    <tr style=\"text-align: right;\">\n",
       "      <th></th>\n",
       "      <th>id</th>\n",
       "      <th>Прибыль</th>\n",
       "    </tr>\n",
       "  </thead>\n",
       "  <tbody>\n",
       "    <tr>\n",
       "      <th>0</th>\n",
       "      <td>215348</td>\n",
       "      <td>0.98</td>\n",
       "    </tr>\n",
       "    <tr>\n",
       "      <th>1</th>\n",
       "      <td>215349</td>\n",
       "      <td>4.16</td>\n",
       "    </tr>\n",
       "    <tr>\n",
       "      <th>2</th>\n",
       "      <td>215350</td>\n",
       "      <td>3.13</td>\n",
       "    </tr>\n",
       "    <tr>\n",
       "      <th>3</th>\n",
       "      <td>215351</td>\n",
       "      <td>4.87</td>\n",
       "    </tr>\n",
       "    <tr>\n",
       "      <th>4</th>\n",
       "      <td>215352</td>\n",
       "      <td>4.21</td>\n",
       "    </tr>\n",
       "    <tr>\n",
       "      <th>5</th>\n",
       "      <td>215353</td>\n",
       "      <td>3.95</td>\n",
       "    </tr>\n",
       "    <tr>\n",
       "      <th>6</th>\n",
       "      <td>215354</td>\n",
       "      <td>3.62</td>\n",
       "    </tr>\n",
       "    <tr>\n",
       "      <th>7</th>\n",
       "      <td>215355</td>\n",
       "      <td>5.26</td>\n",
       "    </tr>\n",
       "    <tr>\n",
       "      <th>8</th>\n",
       "      <td>215356</td>\n",
       "      <td>4.93</td>\n",
       "    </tr>\n",
       "    <tr>\n",
       "      <th>9</th>\n",
       "      <td>215357</td>\n",
       "      <td>4.66</td>\n",
       "    </tr>\n",
       "  </tbody>\n",
       "</table>\n",
       "</div>"
      ],
      "text/plain": [
       "       id  Прибыль\n",
       "0  215348     0.98\n",
       "1  215349     4.16\n",
       "2  215350     3.13\n",
       "3  215351     4.87\n",
       "4  215352     4.21\n",
       "5  215353     3.95\n",
       "6  215354     3.62\n",
       "7  215355     5.26\n",
       "8  215356     4.93\n",
       "9  215357     4.66"
      ]
     },
     "execution_count": 11,
     "metadata": {},
     "output_type": "execute_result"
    }
   ],
   "source": [
    "data_money.head(10)"
   ]
  },
  {
   "cell_type": "code",
   "execution_count": 12,
   "metadata": {},
   "outputs": [
    {
     "name": "stdout",
     "output_type": "stream",
     "text": [
      "<class 'pandas.core.frame.DataFrame'>\n",
      "RangeIndex: 1300 entries, 0 to 1299\n",
      "Data columns (total 2 columns):\n",
      " #   Column   Non-Null Count  Dtype  \n",
      "---  ------   --------------  -----  \n",
      " 0   id       1300 non-null   int64  \n",
      " 1   Прибыль  1300 non-null   float64\n",
      "dtypes: float64(1), int64(1)\n",
      "memory usage: 20.4 KB\n"
     ]
    }
   ],
   "source": [
    "data_money.info()"
   ]
  },
  {
   "cell_type": "markdown",
   "metadata": {},
   "source": [
    "### Промежуточный вывод"
   ]
  },
  {
   "cell_type": "markdown",
   "metadata": {},
   "source": [
    "На стандии загрузки и обзора данных, можно сделать следующие заключения:\n",
    " - названия столбцов следует привести к нижнему регистру и к типу *snake_case* \n",
    " - пропуски в данных отсутствуют"
   ]
  },
  {
   "cell_type": "markdown",
   "metadata": {},
   "source": [
    "<a id=\"section2\"></a> \n",
    "##  Предобработка данных"
   ]
  },
  {
   "cell_type": "markdown",
   "metadata": {},
   "source": [
    "### Приведение названий столбцов к нижнему регистру и к типу *snake_case*"
   ]
  },
  {
   "cell_type": "code",
   "execution_count": 13,
   "metadata": {},
   "outputs": [],
   "source": [
    "data_market_file.columns = data_market_file.columns.str.lower().str.replace(' ', '_')\n",
    "data_market_time.columns = data_market_time.columns.str.lower().str.replace(' ', '_')\n",
    "data_market_money.columns = data_market_money.columns.str.lower()\n",
    "data_money.columns = data_money.columns.str.lower()"
   ]
  },
  {
   "cell_type": "markdown",
   "metadata": {},
   "source": [
    "Проверка"
   ]
  },
  {
   "cell_type": "code",
   "execution_count": 14,
   "metadata": {},
   "outputs": [
    {
     "name": "stdout",
     "output_type": "stream",
     "text": [
      "Index(['id', 'покупательская_активность', 'тип_сервиса', 'разрешить_сообщать',\n",
      "       'маркет_актив_6_мес', 'маркет_актив_тек_мес', 'длительность',\n",
      "       'акционные_покупки', 'популярная_категория',\n",
      "       'средний_просмотр_категорий_за_визит',\n",
      "       'неоплаченные_продукты_штук_квартал', 'ошибка_сервиса',\n",
      "       'страниц_за_визит'],\n",
      "      dtype='object')\n",
      "Index(['id', 'период', 'минут'], dtype='object')\n",
      "Index(['id', 'период', 'выручка'], dtype='object')\n",
      "Index(['id', 'прибыль'], dtype='object')\n"
     ]
    }
   ],
   "source": [
    "print(data_market_file.columns)\n",
    "print(data_market_time.columns)\n",
    "print(data_market_money.columns)\n",
    "print(data_money.columns)"
   ]
  },
  {
   "cell_type": "markdown",
   "metadata": {},
   "source": [
    "### Обработка дубликатов"
   ]
  },
  {
   "cell_type": "markdown",
   "metadata": {},
   "source": [
    "Явные дубликаты"
   ]
  },
  {
   "cell_type": "code",
   "execution_count": 15,
   "metadata": {},
   "outputs": [
    {
     "name": "stdout",
     "output_type": "stream",
     "text": [
      "0\n",
      "0\n",
      "0\n",
      "0\n"
     ]
    }
   ],
   "source": [
    "print(data_market_file.duplicated().sum())\n",
    "print(data_market_time.duplicated().sum())\n",
    "print(data_market_money.duplicated().sum())\n",
    "print(data_money.duplicated().sum())"
   ]
  },
  {
   "cell_type": "markdown",
   "metadata": {},
   "source": [
    "Неявные дубликаты"
   ]
  },
  {
   "cell_type": "code",
   "execution_count": 16,
   "metadata": {},
   "outputs": [
    {
     "name": "stdout",
     "output_type": "stream",
     "text": [
      "['Снизилась' 'Прежний уровень']\n",
      "['премиум' 'стандартт' 'стандарт']\n",
      "['да' 'нет']\n",
      "['Товары для детей' 'Домашний текстиль' 'Косметика и аксесуары'\n",
      " 'Техника для красоты и здоровья' 'Кухонная посуда'\n",
      " 'Мелкая бытовая техника и электроника']\n",
      "####################################\n",
      "['текущий_месяц' 'предыдцщий_месяц']\n",
      "####################################\n",
      "['препредыдущий_месяц' 'текущий_месяц' 'предыдущий_месяц']\n",
      "####################################\n",
      "####################################\n"
     ]
    }
   ],
   "source": [
    "market_file_cols = data_market_file.select_dtypes(include=['object'])\n",
    "market_time_cols = data_market_time.select_dtypes(include=['object'])\n",
    "market_money_cols = data_market_money.select_dtypes(include=['object'])\n",
    "money_cols = data_money.select_dtypes(include=['object'])\n",
    "\n",
    "all_datas = [data_market_file, data_market_time, data_market_money, data_money]\n",
    "\n",
    "all_cols = [market_file_cols, market_time_cols, market_money_cols, money_cols]\n",
    "\n",
    "i=0\n",
    "\n",
    "for cols in all_cols:\n",
    "    for col in cols:\n",
    "        print(all_datas[i][col].unique())\n",
    "    i+=1   \n",
    "    print('####################################')"
   ]
  },
  {
   "cell_type": "markdown",
   "metadata": {},
   "source": [
    "Имеются дубликаты в колонках **тип_сервиса** датасетов `market_file`, `market_time`"
   ]
  },
  {
   "cell_type": "code",
   "execution_count": 17,
   "metadata": {},
   "outputs": [],
   "source": [
    "data_market_file['тип_сервиса'].replace('стандартт', 'стандарт', inplace=True)"
   ]
  },
  {
   "cell_type": "markdown",
   "metadata": {},
   "source": [
    "Исправление опечатки"
   ]
  },
  {
   "cell_type": "code",
   "execution_count": 18,
   "metadata": {},
   "outputs": [
    {
     "data": {
      "text/plain": [
       "0       текущий_месяц\n",
       "1    предыдущий_месяц\n",
       "2       текущий_месяц\n",
       "3    предыдущий_месяц\n",
       "4       текущий_месяц\n",
       "Name: период, dtype: object"
      ]
     },
     "execution_count": 18,
     "metadata": {},
     "output_type": "execute_result"
    }
   ],
   "source": [
    "data_market_time['период'].replace('предыдцщий_месяц','предыдущий_месяц', inplace=True)\n",
    "\n",
    "data_market_time['период'].head()"
   ]
  },
  {
   "cell_type": "markdown",
   "metadata": {},
   "source": [
    "### Промежуточный вывод"
   ]
  },
  {
   "cell_type": "markdown",
   "metadata": {},
   "source": [
    " - все названия столбцов в датасетах  приведены к **нижнему регистру** и типу **snake_case**\n",
    " - в датасетax `data_market_file`,  `data_market_time` обнаружен неявный дубликат"
   ]
  },
  {
   "cell_type": "markdown",
   "metadata": {},
   "source": [
    "<a id=\"section3\"></a> \n",
    "## Исследовательский анализ данных"
   ]
  },
  {
   "cell_type": "markdown",
   "metadata": {},
   "source": [
    "### Описание функций"
   ]
  },
  {
   "cell_type": "markdown",
   "metadata": {},
   "source": [
    "**Проверка пропущенных значений**"
   ]
  },
  {
   "cell_type": "code",
   "execution_count": 19,
   "metadata": {},
   "outputs": [],
   "source": [
    "def check_missing_values(df):\n",
    "    missing_values = df.isnull().sum()\n",
    "    missing_values = missing_values[missing_values > 0]\n",
    "    if missing_values.empty:\n",
    "        print(\"Нет пропущенных значений.\")\n",
    "    else:\n",
    "        print(\"Пропущенные значения:\")\n",
    "        print(missing_values)"
   ]
  },
  {
   "cell_type": "markdown",
   "metadata": {},
   "source": [
    "**Основные метрики**"
   ]
  },
  {
   "cell_type": "code",
   "execution_count": 20,
   "metadata": {},
   "outputs": [],
   "source": [
    "def describe_data(df):\n",
    "    display(df.describe())"
   ]
  },
  {
   "cell_type": "markdown",
   "metadata": {},
   "source": [
    "**Графики для количественных признаков**"
   ]
  },
  {
   "cell_type": "code",
   "execution_count": 21,
   "metadata": {},
   "outputs": [],
   "source": [
    "def plot_distributions(df, numeric_columns):\n",
    "    for col in numeric_columns:\n",
    "        fig, axes = plt.subplots(1, 2, figsize=(12, 4))\n",
    "        sns.histplot(df[col], kde=True, ax=axes[0])\n",
    "        axes[0].set_title(f'Распределение {col}')\n",
    "        sns.boxplot(x=df[col], ax=axes[1])\n",
    "        axes[1].set_title(f'Боксплот {col}')\n",
    "        plt.show()"
   ]
  },
  {
   "cell_type": "markdown",
   "metadata": {},
   "source": [
    "**Графики качественных признаков**"
   ]
  },
  {
   "cell_type": "code",
   "execution_count": 22,
   "metadata": {},
   "outputs": [],
   "source": [
    "def plot_categorical_distribution(df, categorical_columns):\n",
    "    for col in categorical_columns:\n",
    "        plt.figure(figsize=(8, 4))\n",
    "        sns.countplot(y=df[col], order=df[col].value_counts().index)\n",
    "        plt.title(f'Распределение {col}')\n",
    "        plt.show()"
   ]
  },
  {
   "cell_type": "markdown",
   "metadata": {},
   "source": [
    "**Проверка на выбросы**"
   ]
  },
  {
   "cell_type": "code",
   "execution_count": 23,
   "metadata": {},
   "outputs": [],
   "source": [
    "def check_outliers_iqr(df, numeric_columns):\n",
    "    outliers = {}\n",
    "    for col in numeric_columns:\n",
    "        Q1 = df[col].quantile(0.25)\n",
    "        Q3 = df[col].quantile(0.75)\n",
    "        IQR = Q3 - Q1\n",
    "        lower_bound = Q1 - 1.5 * IQR\n",
    "        upper_bound = Q3 + 1.5 * IQR\n",
    "        outliers_count = ((df[col] < lower_bound) | (df[col] > upper_bound)).sum()\n",
    "        outliers[col] = outliers_count\n",
    "    print(\"Количество выбросов по признакам:\")\n",
    "    print(outliers)"
   ]
  },
  {
   "cell_type": "markdown",
   "metadata": {},
   "source": [
    "### Анализ market_file"
   ]
  },
  {
   "cell_type": "code",
   "execution_count": 24,
   "metadata": {},
   "outputs": [
    {
     "name": "stdout",
     "output_type": "stream",
     "text": [
      "Нет пропущенных значений.\n"
     ]
    },
    {
     "data": {
      "text/html": [
       "<div>\n",
       "<style scoped>\n",
       "    .dataframe tbody tr th:only-of-type {\n",
       "        vertical-align: middle;\n",
       "    }\n",
       "\n",
       "    .dataframe tbody tr th {\n",
       "        vertical-align: top;\n",
       "    }\n",
       "\n",
       "    .dataframe thead th {\n",
       "        text-align: right;\n",
       "    }\n",
       "</style>\n",
       "<table border=\"1\" class=\"dataframe\">\n",
       "  <thead>\n",
       "    <tr style=\"text-align: right;\">\n",
       "      <th></th>\n",
       "      <th>маркет_актив_6_мес</th>\n",
       "      <th>маркет_актив_тек_мес</th>\n",
       "      <th>длительность</th>\n",
       "      <th>акционные_покупки</th>\n",
       "      <th>средний_просмотр_категорий_за_визит</th>\n",
       "      <th>неоплаченные_продукты_штук_квартал</th>\n",
       "      <th>ошибка_сервиса</th>\n",
       "      <th>страниц_за_визит</th>\n",
       "    </tr>\n",
       "  </thead>\n",
       "  <tbody>\n",
       "    <tr>\n",
       "      <th>count</th>\n",
       "      <td>1300.000000</td>\n",
       "      <td>1300.000000</td>\n",
       "      <td>1300.000000</td>\n",
       "      <td>1300.000000</td>\n",
       "      <td>1300.00000</td>\n",
       "      <td>1300.000000</td>\n",
       "      <td>1300.000000</td>\n",
       "      <td>1300.000000</td>\n",
       "    </tr>\n",
       "    <tr>\n",
       "      <th>mean</th>\n",
       "      <td>4.253769</td>\n",
       "      <td>4.011538</td>\n",
       "      <td>601.898462</td>\n",
       "      <td>0.319808</td>\n",
       "      <td>3.27000</td>\n",
       "      <td>2.840000</td>\n",
       "      <td>4.185385</td>\n",
       "      <td>8.176923</td>\n",
       "    </tr>\n",
       "    <tr>\n",
       "      <th>std</th>\n",
       "      <td>1.014814</td>\n",
       "      <td>0.696868</td>\n",
       "      <td>249.856289</td>\n",
       "      <td>0.249843</td>\n",
       "      <td>1.35535</td>\n",
       "      <td>1.971451</td>\n",
       "      <td>1.955298</td>\n",
       "      <td>3.978126</td>\n",
       "    </tr>\n",
       "    <tr>\n",
       "      <th>min</th>\n",
       "      <td>0.900000</td>\n",
       "      <td>3.000000</td>\n",
       "      <td>110.000000</td>\n",
       "      <td>0.000000</td>\n",
       "      <td>1.00000</td>\n",
       "      <td>0.000000</td>\n",
       "      <td>0.000000</td>\n",
       "      <td>1.000000</td>\n",
       "    </tr>\n",
       "    <tr>\n",
       "      <th>25%</th>\n",
       "      <td>3.700000</td>\n",
       "      <td>4.000000</td>\n",
       "      <td>405.500000</td>\n",
       "      <td>0.170000</td>\n",
       "      <td>2.00000</td>\n",
       "      <td>1.000000</td>\n",
       "      <td>3.000000</td>\n",
       "      <td>5.000000</td>\n",
       "    </tr>\n",
       "    <tr>\n",
       "      <th>50%</th>\n",
       "      <td>4.200000</td>\n",
       "      <td>4.000000</td>\n",
       "      <td>606.000000</td>\n",
       "      <td>0.240000</td>\n",
       "      <td>3.00000</td>\n",
       "      <td>3.000000</td>\n",
       "      <td>4.000000</td>\n",
       "      <td>8.000000</td>\n",
       "    </tr>\n",
       "    <tr>\n",
       "      <th>75%</th>\n",
       "      <td>4.900000</td>\n",
       "      <td>4.000000</td>\n",
       "      <td>806.000000</td>\n",
       "      <td>0.300000</td>\n",
       "      <td>4.00000</td>\n",
       "      <td>4.000000</td>\n",
       "      <td>6.000000</td>\n",
       "      <td>11.000000</td>\n",
       "    </tr>\n",
       "    <tr>\n",
       "      <th>max</th>\n",
       "      <td>6.600000</td>\n",
       "      <td>5.000000</td>\n",
       "      <td>1079.000000</td>\n",
       "      <td>0.990000</td>\n",
       "      <td>6.00000</td>\n",
       "      <td>10.000000</td>\n",
       "      <td>9.000000</td>\n",
       "      <td>20.000000</td>\n",
       "    </tr>\n",
       "  </tbody>\n",
       "</table>\n",
       "</div>"
      ],
      "text/plain": [
       "       маркет_актив_6_мес  маркет_актив_тек_мес  длительность  \\\n",
       "count         1300.000000           1300.000000   1300.000000   \n",
       "mean             4.253769              4.011538    601.898462   \n",
       "std              1.014814              0.696868    249.856289   \n",
       "min              0.900000              3.000000    110.000000   \n",
       "25%              3.700000              4.000000    405.500000   \n",
       "50%              4.200000              4.000000    606.000000   \n",
       "75%              4.900000              4.000000    806.000000   \n",
       "max              6.600000              5.000000   1079.000000   \n",
       "\n",
       "       акционные_покупки  средний_просмотр_категорий_за_визит  \\\n",
       "count        1300.000000                           1300.00000   \n",
       "mean            0.319808                              3.27000   \n",
       "std             0.249843                              1.35535   \n",
       "min             0.000000                              1.00000   \n",
       "25%             0.170000                              2.00000   \n",
       "50%             0.240000                              3.00000   \n",
       "75%             0.300000                              4.00000   \n",
       "max             0.990000                              6.00000   \n",
       "\n",
       "       неоплаченные_продукты_штук_квартал  ошибка_сервиса  страниц_за_визит  \n",
       "count                         1300.000000     1300.000000       1300.000000  \n",
       "mean                             2.840000        4.185385          8.176923  \n",
       "std                              1.971451        1.955298          3.978126  \n",
       "min                              0.000000        0.000000          1.000000  \n",
       "25%                              1.000000        3.000000          5.000000  \n",
       "50%                              3.000000        4.000000          8.000000  \n",
       "75%                              4.000000        6.000000         11.000000  \n",
       "max                             10.000000        9.000000         20.000000  "
      ]
     },
     "metadata": {},
     "output_type": "display_data"
    },
    {
     "data": {
      "image/png": "[encoded data removed]",
      "text/plain": [
       "<Figure size 864x288 with 2 Axes>"
      ]
     },
     "metadata": {
      "needs_background": "light"
     },
     "output_type": "display_data"
    },
    {
     "data": {
      "image/png": "[encoded data removed]",
      "text/plain": [
       "<Figure size 864x288 with 2 Axes>"
      ]
     },
     "metadata": {
      "needs_background": "light"
     },
     "output_type": "display_data"
    },
    {
     "data": {
      "image/png": "[encoded data removed]",
      "text/plain": [
       "<Figure size 864x288 with 2 Axes>"
      ]
     },
     "metadata": {
      "needs_background": "light"
     },
     "output_type": "display_data"
    },
    {
     "data": {
      "image/png": "[encoded data removed]",
      "text/plain": [
       "<Figure size 864x288 with 2 Axes>"
      ]
     },
     "metadata": {
      "needs_background": "light"
     },
     "output_type": "display_data"
    },
    {
     "data": {
      "image/png": "[encoded data removed]",
      "text/plain": [
       "<Figure size 864x288 with 2 Axes>"
      ]
     },
     "metadata": {
      "needs_background": "light"
     },
     "output_type": "display_data"
    },
    {
     "data": {
      "image/png": "[encoded data removed]",
      "text/plain": [
       "<Figure size 864x288 with 2 Axes>"
      ]
     },
     "metadata": {
      "needs_background": "light"
     },
     "output_type": "display_data"
    },
    {
     "data": {
      "image/png": "[encoded data removed]",
      "text/plain": [
       "<Figure size 864x288 with 2 Axes>"
      ]
     },
     "metadata": {
      "needs_background": "light"
     },
     "output_type": "display_data"
    },
    {
     "data": {
      "image/png": "[encoded data removed]",
      "text/plain": [
       "<Figure size 864x288 with 2 Axes>"
      ]
     },
     "metadata": {
      "needs_background": "light"
     },
     "output_type": "display_data"
    },
    {
     "data": {
      "image/png": "[encoded data removed]",
      "text/plain": [
       "<Figure size 576x288 with 1 Axes>"
      ]
     },
     "metadata": {
      "needs_background": "light"
     },
     "output_type": "display_data"
    },
    {
     "data": {
      "image/png": "[encoded data removed]",
      "text/plain": [
       "<Figure size 576x288 with 1 Axes>"
      ]
     },
     "metadata": {
      "needs_background": "light"
     },
     "output_type": "display_data"
    },
    {
     "data": {
      "image/png": "[encoded data removed]",
      "text/plain": [
       "<Figure size 576x288 with 1 Axes>"
      ]
     },
     "metadata": {
      "needs_background": "light"
     },
     "output_type": "display_data"
    },
    {
     "data": {
      "image/png": "[encoded data removed]",
      "text/plain": [
       "<Figure size 576x288 with 1 Axes>"
      ]
     },
     "metadata": {
      "needs_background": "light"
     },
     "output_type": "display_data"
    },
    {
     "name": "stdout",
     "output_type": "stream",
     "text": [
      "Количество выбросов по признакам:\n",
      "{'маркет_актив_6_мес': 36, 'маркет_актив_тек_мес': 631, 'длительность': 0, 'акционные_покупки': 168, 'средний_просмотр_категорий_за_визит': 0, 'неоплаченные_продукты_штук_квартал': 14, 'ошибка_сервиса': 0, 'страниц_за_визит': 0}\n"
     ]
    }
   ],
   "source": [
    "market_file_cat_cols = data_market_file.select_dtypes(include=['object']).columns.to_list()\n",
    "market_file_num_cols = data_market_file.drop(columns='id').select_dtypes(exclude=['object']).columns.to_list()\n",
    "\n",
    "check_missing_values(data_market_file)\n",
    "describe_data(data_market_file.drop(columns='id'))\n",
    "plot_distributions(data_market_file, market_file_num_cols)\n",
    "plot_categorical_distribution(data_market_file, market_file_cat_cols)\n",
    "check_outliers_iqr(data_market_file, market_file_num_cols)"
   ]
  },
  {
   "cell_type": "markdown",
   "metadata": {},
   "source": [
    "### Анализ market_time"
   ]
  },
  {
   "cell_type": "code",
   "execution_count": 25,
   "metadata": {},
   "outputs": [
    {
     "name": "stdout",
     "output_type": "stream",
     "text": [
      "Нет пропущенных значений.\n"
     ]
    },
    {
     "data": {
      "text/html": [
       "<div>\n",
       "<style scoped>\n",
       "    .dataframe tbody tr th:only-of-type {\n",
       "        vertical-align: middle;\n",
       "    }\n",
       "\n",
       "    .dataframe tbody tr th {\n",
       "        vertical-align: top;\n",
       "    }\n",
       "\n",
       "    .dataframe thead th {\n",
       "        text-align: right;\n",
       "    }\n",
       "</style>\n",
       "<table border=\"1\" class=\"dataframe\">\n",
       "  <thead>\n",
       "    <tr style=\"text-align: right;\">\n",
       "      <th></th>\n",
       "      <th>минут</th>\n",
       "    </tr>\n",
       "  </thead>\n",
       "  <tbody>\n",
       "    <tr>\n",
       "      <th>count</th>\n",
       "      <td>2600.000000</td>\n",
       "    </tr>\n",
       "    <tr>\n",
       "      <th>mean</th>\n",
       "      <td>13.336154</td>\n",
       "    </tr>\n",
       "    <tr>\n",
       "      <th>std</th>\n",
       "      <td>4.080198</td>\n",
       "    </tr>\n",
       "    <tr>\n",
       "      <th>min</th>\n",
       "      <td>4.000000</td>\n",
       "    </tr>\n",
       "    <tr>\n",
       "      <th>25%</th>\n",
       "      <td>10.000000</td>\n",
       "    </tr>\n",
       "    <tr>\n",
       "      <th>50%</th>\n",
       "      <td>13.000000</td>\n",
       "    </tr>\n",
       "    <tr>\n",
       "      <th>75%</th>\n",
       "      <td>16.000000</td>\n",
       "    </tr>\n",
       "    <tr>\n",
       "      <th>max</th>\n",
       "      <td>23.000000</td>\n",
       "    </tr>\n",
       "  </tbody>\n",
       "</table>\n",
       "</div>"
      ],
      "text/plain": [
       "             минут\n",
       "count  2600.000000\n",
       "mean     13.336154\n",
       "std       4.080198\n",
       "min       4.000000\n",
       "25%      10.000000\n",
       "50%      13.000000\n",
       "75%      16.000000\n",
       "max      23.000000"
      ]
     },
     "metadata": {},
     "output_type": "display_data"
    },
    {
     "data": {
      "image/png": "[encoded data removed]",
      "text/plain": [
       "<Figure size 864x288 with 2 Axes>"
      ]
     },
     "metadata": {
      "needs_background": "light"
     },
     "output_type": "display_data"
    },
    {
     "data": {
      "image/png": "[encoded data removed]",
      "text/plain": [
       "<Figure size 576x288 with 1 Axes>"
      ]
     },
     "metadata": {
      "needs_background": "light"
     },
     "output_type": "display_data"
    },
    {
     "name": "stdout",
     "output_type": "stream",
     "text": [
      "Количество выбросов по признакам:\n",
      "{'минут': 0}\n"
     ]
    }
   ],
   "source": [
    "market_time_cat_cols = data_market_time.select_dtypes(include=['object']).columns.to_list()\n",
    "market_time_num_cols = data_market_time.drop(columns='id').select_dtypes(exclude=['object']).columns.to_list()\n",
    "\n",
    "check_missing_values(data_market_time)\n",
    "describe_data(data_market_time.drop(columns='id'))\n",
    "plot_distributions(data_market_time, market_time_num_cols)\n",
    "plot_categorical_distribution(data_market_time, market_time_cat_cols)\n",
    "check_outliers_iqr(data_market_time, market_time_num_cols)"
   ]
  },
  {
   "cell_type": "markdown",
   "metadata": {},
   "source": [
    "### Анализ market_money"
   ]
  },
  {
   "cell_type": "code",
   "execution_count": 26,
   "metadata": {},
   "outputs": [
    {
     "name": "stdout",
     "output_type": "stream",
     "text": [
      "Нет пропущенных значений.\n"
     ]
    },
    {
     "data": {
      "text/html": [
       "<div>\n",
       "<style scoped>\n",
       "    .dataframe tbody tr th:only-of-type {\n",
       "        vertical-align: middle;\n",
       "    }\n",
       "\n",
       "    .dataframe tbody tr th {\n",
       "        vertical-align: top;\n",
       "    }\n",
       "\n",
       "    .dataframe thead th {\n",
       "        text-align: right;\n",
       "    }\n",
       "</style>\n",
       "<table border=\"1\" class=\"dataframe\">\n",
       "  <thead>\n",
       "    <tr style=\"text-align: right;\">\n",
       "      <th></th>\n",
       "      <th>выручка</th>\n",
       "    </tr>\n",
       "  </thead>\n",
       "  <tbody>\n",
       "    <tr>\n",
       "      <th>count</th>\n",
       "      <td>3900.000000</td>\n",
       "    </tr>\n",
       "    <tr>\n",
       "      <th>mean</th>\n",
       "      <td>5025.696051</td>\n",
       "    </tr>\n",
       "    <tr>\n",
       "      <th>std</th>\n",
       "      <td>1777.704104</td>\n",
       "    </tr>\n",
       "    <tr>\n",
       "      <th>min</th>\n",
       "      <td>0.000000</td>\n",
       "    </tr>\n",
       "    <tr>\n",
       "      <th>25%</th>\n",
       "      <td>4590.150000</td>\n",
       "    </tr>\n",
       "    <tr>\n",
       "      <th>50%</th>\n",
       "      <td>4957.500000</td>\n",
       "    </tr>\n",
       "    <tr>\n",
       "      <th>75%</th>\n",
       "      <td>5363.000000</td>\n",
       "    </tr>\n",
       "    <tr>\n",
       "      <th>max</th>\n",
       "      <td>106862.200000</td>\n",
       "    </tr>\n",
       "  </tbody>\n",
       "</table>\n",
       "</div>"
      ],
      "text/plain": [
       "             выручка\n",
       "count    3900.000000\n",
       "mean     5025.696051\n",
       "std      1777.704104\n",
       "min         0.000000\n",
       "25%      4590.150000\n",
       "50%      4957.500000\n",
       "75%      5363.000000\n",
       "max    106862.200000"
      ]
     },
     "metadata": {},
     "output_type": "display_data"
    },
    {
     "data": {
      "image/png": "[encoded data removed]",
      "text/plain": [
       "<Figure size 864x288 with 2 Axes>"
      ]
     },
     "metadata": {
      "needs_background": "light"
     },
     "output_type": "display_data"
    },
    {
     "data": {
      "image/png": "[encoded data removed]",
      "text/plain": [
       "<Figure size 576x288 with 1 Axes>"
      ]
     },
     "metadata": {
      "needs_background": "light"
     },
     "output_type": "display_data"
    },
    {
     "name": "stdout",
     "output_type": "stream",
     "text": [
      "Количество выбросов по признакам:\n",
      "{'выручка': 175}\n"
     ]
    }
   ],
   "source": [
    "market_money_cat_cols = data_market_money.select_dtypes(include=['object']).columns.to_list()\n",
    "market_money_num_cols = data_market_money.drop(columns='id').select_dtypes(exclude=['object']).columns.to_list()\n",
    "\n",
    "check_missing_values(data_market_money)\n",
    "describe_data(data_market_money.drop(columns='id'))\n",
    "plot_distributions(data_market_money, market_money_num_cols)\n",
    "plot_categorical_distribution(data_market_money, market_money_cat_cols)\n",
    "check_outliers_iqr(data_market_money, market_money_num_cols)"
   ]
  },
  {
   "cell_type": "markdown",
   "metadata": {},
   "source": [
    "### Анализ выброса у покупателя с ID 215380"
   ]
  },
  {
   "cell_type": "code",
   "execution_count": 27,
   "metadata": {},
   "outputs": [
    {
     "data": {
      "text/html": [
       "<div>\n",
       "<style scoped>\n",
       "    .dataframe tbody tr th:only-of-type {\n",
       "        vertical-align: middle;\n",
       "    }\n",
       "\n",
       "    .dataframe tbody tr th {\n",
       "        vertical-align: top;\n",
       "    }\n",
       "\n",
       "    .dataframe thead th {\n",
       "        text-align: right;\n",
       "    }\n",
       "</style>\n",
       "<table border=\"1\" class=\"dataframe\">\n",
       "  <thead>\n",
       "    <tr style=\"text-align: right;\">\n",
       "      <th></th>\n",
       "      <th>id</th>\n",
       "      <th>период</th>\n",
       "      <th>выручка</th>\n",
       "    </tr>\n",
       "  </thead>\n",
       "  <tbody>\n",
       "    <tr>\n",
       "      <th>96</th>\n",
       "      <td>215380</td>\n",
       "      <td>препредыдущий_месяц</td>\n",
       "      <td>5051.0</td>\n",
       "    </tr>\n",
       "    <tr>\n",
       "      <th>97</th>\n",
       "      <td>215380</td>\n",
       "      <td>предыдущий_месяц</td>\n",
       "      <td>6077.0</td>\n",
       "    </tr>\n",
       "    <tr>\n",
       "      <th>98</th>\n",
       "      <td>215380</td>\n",
       "      <td>текущий_месяц</td>\n",
       "      <td>106862.2</td>\n",
       "    </tr>\n",
       "  </tbody>\n",
       "</table>\n",
       "</div>"
      ],
      "text/plain": [
       "        id               период   выручка\n",
       "96  215380  препредыдущий_месяц    5051.0\n",
       "97  215380     предыдущий_месяц    6077.0\n",
       "98  215380        текущий_месяц  106862.2"
      ]
     },
     "execution_count": 27,
     "metadata": {},
     "output_type": "execute_result"
    }
   ],
   "source": [
    "data_market_money[data_market_money['id'] == 215380]"
   ]
  },
  {
   "cell_type": "code",
   "execution_count": 28,
   "metadata": {},
   "outputs": [
    {
     "data": {
      "text/html": [
       "<div>\n",
       "<style scoped>\n",
       "    .dataframe tbody tr th:only-of-type {\n",
       "        vertical-align: middle;\n",
       "    }\n",
       "\n",
       "    .dataframe tbody tr th {\n",
       "        vertical-align: top;\n",
       "    }\n",
       "\n",
       "    .dataframe thead th {\n",
       "        text-align: right;\n",
       "    }\n",
       "</style>\n",
       "<table border=\"1\" class=\"dataframe\">\n",
       "  <thead>\n",
       "    <tr style=\"text-align: right;\">\n",
       "      <th></th>\n",
       "      <th>id</th>\n",
       "      <th>покупательская_активность</th>\n",
       "      <th>тип_сервиса</th>\n",
       "      <th>разрешить_сообщать</th>\n",
       "      <th>маркет_актив_6_мес</th>\n",
       "      <th>маркет_актив_тек_мес</th>\n",
       "      <th>длительность</th>\n",
       "      <th>акционные_покупки</th>\n",
       "      <th>популярная_категория</th>\n",
       "      <th>средний_просмотр_категорий_за_визит</th>\n",
       "      <th>неоплаченные_продукты_штук_квартал</th>\n",
       "      <th>ошибка_сервиса</th>\n",
       "      <th>страниц_за_визит</th>\n",
       "    </tr>\n",
       "  </thead>\n",
       "  <tbody>\n",
       "    <tr>\n",
       "      <th>32</th>\n",
       "      <td>215380</td>\n",
       "      <td>Снизилась</td>\n",
       "      <td>премиум</td>\n",
       "      <td>нет</td>\n",
       "      <td>1.7</td>\n",
       "      <td>4</td>\n",
       "      <td>637</td>\n",
       "      <td>0.94</td>\n",
       "      <td>Техника для красоты и здоровья</td>\n",
       "      <td>3</td>\n",
       "      <td>2</td>\n",
       "      <td>4</td>\n",
       "      <td>7</td>\n",
       "    </tr>\n",
       "  </tbody>\n",
       "</table>\n",
       "</div>"
      ],
      "text/plain": [
       "        id покупательская_активность тип_сервиса разрешить_сообщать  \\\n",
       "32  215380                 Снизилась     премиум                нет   \n",
       "\n",
       "    маркет_актив_6_мес  маркет_актив_тек_мес  длительность  акционные_покупки  \\\n",
       "32                 1.7                     4           637               0.94   \n",
       "\n",
       "              популярная_категория  средний_просмотр_категорий_за_визит  \\\n",
       "32  Техника для красоты и здоровья                                    3   \n",
       "\n",
       "    неоплаченные_продукты_штук_квартал  ошибка_сервиса  страниц_за_визит  \n",
       "32                                   2               4                 7  "
      ]
     },
     "execution_count": 28,
     "metadata": {},
     "output_type": "execute_result"
    }
   ],
   "source": [
    "data_market_file[data_market_file['id'] == 215380]"
   ]
  },
  {
   "cell_type": "code",
   "execution_count": 29,
   "metadata": {},
   "outputs": [
    {
     "data": {
      "text/html": [
       "<div>\n",
       "<style scoped>\n",
       "    .dataframe tbody tr th:only-of-type {\n",
       "        vertical-align: middle;\n",
       "    }\n",
       "\n",
       "    .dataframe tbody tr th {\n",
       "        vertical-align: top;\n",
       "    }\n",
       "\n",
       "    .dataframe thead th {\n",
       "        text-align: right;\n",
       "    }\n",
       "</style>\n",
       "<table border=\"1\" class=\"dataframe\">\n",
       "  <thead>\n",
       "    <tr style=\"text-align: right;\">\n",
       "      <th></th>\n",
       "      <th>id</th>\n",
       "      <th>прибыль</th>\n",
       "    </tr>\n",
       "  </thead>\n",
       "  <tbody>\n",
       "    <tr>\n",
       "      <th>32</th>\n",
       "      <td>215380</td>\n",
       "      <td>3.88</td>\n",
       "    </tr>\n",
       "  </tbody>\n",
       "</table>\n",
       "</div>"
      ],
      "text/plain": [
       "        id  прибыль\n",
       "32  215380     3.88"
      ]
     },
     "execution_count": 29,
     "metadata": {},
     "output_type": "execute_result"
    }
   ],
   "source": [
    "data_money[data_money['id'] == 215380]"
   ]
  },
  {
   "cell_type": "markdown",
   "metadata": {},
   "source": [
    "Высокое занчение выручки в текущем месяце, но адекватная прибыль - ошибка в данных"
   ]
  },
  {
   "cell_type": "markdown",
   "metadata": {},
   "source": [
    "### Анализ покупателей с нулевой выручкой"
   ]
  },
  {
   "cell_type": "code",
   "execution_count": 30,
   "metadata": {},
   "outputs": [
    {
     "name": "stdout",
     "output_type": "stream",
     "text": [
      "        id               период  выручка\n",
      "0   215348  препредыдущий_месяц      0.0\n",
      "2   215348     предыдущий_месяц      0.0\n",
      "28  215357  препредыдущий_месяц      0.0\n",
      "29  215357     предыдущий_месяц      0.0\n",
      "34  215359     предыдущий_месяц      0.0\n",
      "35  215359  препредыдущий_месяц      0.0\n"
     ]
    }
   ],
   "source": [
    "print(data_market_money[data_market_money['выручка'] == 0])"
   ]
  },
  {
   "cell_type": "markdown",
   "metadata": {},
   "source": [
    "### Анализ money"
   ]
  },
  {
   "cell_type": "code",
   "execution_count": 31,
   "metadata": {},
   "outputs": [
    {
     "data": {
      "text/html": [
       "<div>\n",
       "<style scoped>\n",
       "    .dataframe tbody tr th:only-of-type {\n",
       "        vertical-align: middle;\n",
       "    }\n",
       "\n",
       "    .dataframe tbody tr th {\n",
       "        vertical-align: top;\n",
       "    }\n",
       "\n",
       "    .dataframe thead th {\n",
       "        text-align: right;\n",
       "    }\n",
       "</style>\n",
       "<table border=\"1\" class=\"dataframe\">\n",
       "  <thead>\n",
       "    <tr style=\"text-align: right;\">\n",
       "      <th></th>\n",
       "      <th>прибыль</th>\n",
       "    </tr>\n",
       "  </thead>\n",
       "  <tbody>\n",
       "    <tr>\n",
       "      <th>count</th>\n",
       "      <td>1300.000000</td>\n",
       "    </tr>\n",
       "    <tr>\n",
       "      <th>mean</th>\n",
       "      <td>3.996631</td>\n",
       "    </tr>\n",
       "    <tr>\n",
       "      <th>std</th>\n",
       "      <td>1.013722</td>\n",
       "    </tr>\n",
       "    <tr>\n",
       "      <th>min</th>\n",
       "      <td>0.860000</td>\n",
       "    </tr>\n",
       "    <tr>\n",
       "      <th>25%</th>\n",
       "      <td>3.300000</td>\n",
       "    </tr>\n",
       "    <tr>\n",
       "      <th>50%</th>\n",
       "      <td>4.045000</td>\n",
       "    </tr>\n",
       "    <tr>\n",
       "      <th>75%</th>\n",
       "      <td>4.670000</td>\n",
       "    </tr>\n",
       "    <tr>\n",
       "      <th>max</th>\n",
       "      <td>7.430000</td>\n",
       "    </tr>\n",
       "  </tbody>\n",
       "</table>\n",
       "</div>"
      ],
      "text/plain": [
       "           прибыль\n",
       "count  1300.000000\n",
       "mean      3.996631\n",
       "std       1.013722\n",
       "min       0.860000\n",
       "25%       3.300000\n",
       "50%       4.045000\n",
       "75%       4.670000\n",
       "max       7.430000"
      ]
     },
     "execution_count": 31,
     "metadata": {},
     "output_type": "execute_result"
    }
   ],
   "source": [
    "data_money.drop(columns='id').describe()"
   ]
  },
  {
   "cell_type": "markdown",
   "metadata": {},
   "source": [
    "### Промежуточный вывод"
   ]
  },
  {
   "cell_type": "markdown",
   "metadata": {},
   "source": [
    "В ходе анализа данных были рассмотрены три набора данных: market_file, market_time и market_money, а также отдельный анализ money. Основные выводы:\n",
    "\n",
    "1. Пропущенные значения\n",
    "\n",
    "Во всех наборах данных отсутствуют пропущенные значения, что упрощает дальнейшую обработку данных.\n",
    "\n",
    "2. Анализ количественных признаков\n",
    "\n",
    "- market_file:\n",
    "  - Наблюдаются выбросы по нескольким признакам, особенно в \"маркет_актив_тек_мес\" (631 выбросов) и \"акционные_покупки\" (168 выбросов).\n",
    "- market_time:\n",
    "  - Распределение значений \"минут\" выглядит относительно нормальным, выбросы отсутствуют.\n",
    "- market_money:\n",
    "  - Существенный выброс по показателю \"выручка\" (175 выбросов).\n",
    "  - Один из клиентов в текущем месяце показал аномально высокий уровень выручки (106862.2)\n",
    "\n",
    "3. Выбросы\n",
    "\n",
    "Наибольшее количество выбросов зафиксировано в \"маркет_актив_тек_мес\" и \"выручка\". Это может свидетельствовать о сезонных изменениях в поведении клиентов.\n",
    "\n",
    "\n",
    "**При объединении таблиц следует удалить пользователей с ID 215348/215357/215359/215380**"
   ]
  },
  {
   "cell_type": "markdown",
   "metadata": {},
   "source": [
    "<a id=\"section4\"></a> \n",
    "## Объединение таблиц"
   ]
  },
  {
   "cell_type": "markdown",
   "metadata": {},
   "source": [
    "### Преобразование данных"
   ]
  },
  {
   "cell_type": "code",
   "execution_count": 32,
   "metadata": {},
   "outputs": [],
   "source": [
    "money_periods = ['препредыдущий_месяц', 'предыдущий_месяц', 'текущий_месяц']\n",
    "time_periods = ['предыдущий_месяц', 'текущий_месяц']\n",
    "\n",
    "data_market_money = data_market_money.pivot(index='id', columns='период', values='выручка').reset_index()\n",
    "data_market_money = data_market_money[['id'] + money_periods] \n",
    "data_market_money.columns = ['id', 'выручка_препредыдущий', 'выручка_предыдущий', 'выручка_текущий']\n",
    "\n",
    "data_market_time = data_market_time.pivot(index='id', columns='период', values='минут').reset_index()\n",
    "\n",
    "if 'препредыдущий_месяц' not in data_market_time.columns:\n",
    "    data_market_time['препредыдущий_месяц'] = None\n",
    "\n",
    "data_market_time = data_market_time[['id', 'препредыдущий_месяц', 'предыдущий_месяц', 'текущий_месяц']]\n",
    "data_market_time.columns = ['id', 'минут_препредыдущий', 'минут_предыдущий', 'минут_текущий']"
   ]
  },
  {
   "cell_type": "markdown",
   "metadata": {},
   "source": [
    "### Объединение"
   ]
  },
  {
   "cell_type": "code",
   "execution_count": 33,
   "metadata": {},
   "outputs": [
    {
     "name": "stdout",
     "output_type": "stream",
     "text": [
      "<class 'pandas.core.frame.DataFrame'>\n",
      "Int64Index: 1300 entries, 0 to 1299\n",
      "Data columns (total 18 columns):\n",
      " #   Column                               Non-Null Count  Dtype  \n",
      "---  ------                               --------------  -----  \n",
      " 0   id                                   1300 non-null   int64  \n",
      " 1   покупательская_активность            1300 non-null   object \n",
      " 2   тип_сервиса                          1300 non-null   object \n",
      " 3   разрешить_сообщать                   1300 non-null   object \n",
      " 4   маркет_актив_6_мес                   1300 non-null   float64\n",
      " 5   маркет_актив_тек_мес                 1300 non-null   int64  \n",
      " 6   длительность                         1300 non-null   int64  \n",
      " 7   акционные_покупки                    1300 non-null   float64\n",
      " 8   популярная_категория                 1300 non-null   object \n",
      " 9   средний_просмотр_категорий_за_визит  1300 non-null   int64  \n",
      " 10  неоплаченные_продукты_штук_квартал   1300 non-null   int64  \n",
      " 11  ошибка_сервиса                       1300 non-null   int64  \n",
      " 12  страниц_за_визит                     1300 non-null   int64  \n",
      " 13  выручка_препредыдущий                1300 non-null   float64\n",
      " 14  выручка_предыдущий                   1300 non-null   float64\n",
      " 15  выручка_текущий                      1300 non-null   float64\n",
      " 16  минут_предыдущий                     1300 non-null   int64  \n",
      " 17  минут_текущий                        1300 non-null   int64  \n",
      "dtypes: float64(5), int64(9), object(4)\n",
      "memory usage: 193.0+ KB\n",
      "None\n"
     ]
    },
    {
     "data": {
      "text/html": [
       "<div>\n",
       "<style scoped>\n",
       "    .dataframe tbody tr th:only-of-type {\n",
       "        vertical-align: middle;\n",
       "    }\n",
       "\n",
       "    .dataframe tbody tr th {\n",
       "        vertical-align: top;\n",
       "    }\n",
       "\n",
       "    .dataframe thead th {\n",
       "        text-align: right;\n",
       "    }\n",
       "</style>\n",
       "<table border=\"1\" class=\"dataframe\">\n",
       "  <thead>\n",
       "    <tr style=\"text-align: right;\">\n",
       "      <th></th>\n",
       "      <th>id</th>\n",
       "      <th>покупательская_активность</th>\n",
       "      <th>тип_сервиса</th>\n",
       "      <th>разрешить_сообщать</th>\n",
       "      <th>маркет_актив_6_мес</th>\n",
       "      <th>маркет_актив_тек_мес</th>\n",
       "      <th>длительность</th>\n",
       "      <th>акционные_покупки</th>\n",
       "      <th>популярная_категория</th>\n",
       "      <th>средний_просмотр_категорий_за_визит</th>\n",
       "      <th>неоплаченные_продукты_штук_квартал</th>\n",
       "      <th>ошибка_сервиса</th>\n",
       "      <th>страниц_за_визит</th>\n",
       "      <th>выручка_препредыдущий</th>\n",
       "      <th>выручка_предыдущий</th>\n",
       "      <th>выручка_текущий</th>\n",
       "      <th>минут_предыдущий</th>\n",
       "      <th>минут_текущий</th>\n",
       "    </tr>\n",
       "  </thead>\n",
       "  <tbody>\n",
       "    <tr>\n",
       "      <th>0</th>\n",
       "      <td>215348</td>\n",
       "      <td>Снизилась</td>\n",
       "      <td>премиум</td>\n",
       "      <td>да</td>\n",
       "      <td>3.4</td>\n",
       "      <td>5</td>\n",
       "      <td>121</td>\n",
       "      <td>0.00</td>\n",
       "      <td>Товары для детей</td>\n",
       "      <td>6</td>\n",
       "      <td>2</td>\n",
       "      <td>1</td>\n",
       "      <td>5</td>\n",
       "      <td>0.0</td>\n",
       "      <td>0.0</td>\n",
       "      <td>3293.1</td>\n",
       "      <td>13</td>\n",
       "      <td>14</td>\n",
       "    </tr>\n",
       "    <tr>\n",
       "      <th>1</th>\n",
       "      <td>215349</td>\n",
       "      <td>Снизилась</td>\n",
       "      <td>премиум</td>\n",
       "      <td>да</td>\n",
       "      <td>4.4</td>\n",
       "      <td>4</td>\n",
       "      <td>819</td>\n",
       "      <td>0.75</td>\n",
       "      <td>Товары для детей</td>\n",
       "      <td>4</td>\n",
       "      <td>4</td>\n",
       "      <td>2</td>\n",
       "      <td>5</td>\n",
       "      <td>4472.0</td>\n",
       "      <td>5216.0</td>\n",
       "      <td>4971.6</td>\n",
       "      <td>12</td>\n",
       "      <td>10</td>\n",
       "    </tr>\n",
       "    <tr>\n",
       "      <th>2</th>\n",
       "      <td>215350</td>\n",
       "      <td>Снизилась</td>\n",
       "      <td>стандарт</td>\n",
       "      <td>нет</td>\n",
       "      <td>4.9</td>\n",
       "      <td>3</td>\n",
       "      <td>539</td>\n",
       "      <td>0.14</td>\n",
       "      <td>Домашний текстиль</td>\n",
       "      <td>5</td>\n",
       "      <td>2</td>\n",
       "      <td>1</td>\n",
       "      <td>5</td>\n",
       "      <td>4826.0</td>\n",
       "      <td>5457.5</td>\n",
       "      <td>5058.4</td>\n",
       "      <td>8</td>\n",
       "      <td>13</td>\n",
       "    </tr>\n",
       "    <tr>\n",
       "      <th>3</th>\n",
       "      <td>215351</td>\n",
       "      <td>Снизилась</td>\n",
       "      <td>стандарт</td>\n",
       "      <td>да</td>\n",
       "      <td>3.2</td>\n",
       "      <td>5</td>\n",
       "      <td>896</td>\n",
       "      <td>0.99</td>\n",
       "      <td>Товары для детей</td>\n",
       "      <td>5</td>\n",
       "      <td>0</td>\n",
       "      <td>6</td>\n",
       "      <td>4</td>\n",
       "      <td>4793.0</td>\n",
       "      <td>6158.0</td>\n",
       "      <td>6610.4</td>\n",
       "      <td>11</td>\n",
       "      <td>13</td>\n",
       "    </tr>\n",
       "    <tr>\n",
       "      <th>4</th>\n",
       "      <td>215352</td>\n",
       "      <td>Снизилась</td>\n",
       "      <td>стандарт</td>\n",
       "      <td>нет</td>\n",
       "      <td>5.1</td>\n",
       "      <td>3</td>\n",
       "      <td>1064</td>\n",
       "      <td>0.94</td>\n",
       "      <td>Товары для детей</td>\n",
       "      <td>3</td>\n",
       "      <td>2</td>\n",
       "      <td>3</td>\n",
       "      <td>2</td>\n",
       "      <td>4594.0</td>\n",
       "      <td>5807.5</td>\n",
       "      <td>5872.5</td>\n",
       "      <td>8</td>\n",
       "      <td>11</td>\n",
       "    </tr>\n",
       "  </tbody>\n",
       "</table>\n",
       "</div>"
      ],
      "text/plain": [
       "       id покупательская_активность тип_сервиса разрешить_сообщать  \\\n",
       "0  215348                 Снизилась     премиум                 да   \n",
       "1  215349                 Снизилась     премиум                 да   \n",
       "2  215350                 Снизилась    стандарт                нет   \n",
       "3  215351                 Снизилась    стандарт                 да   \n",
       "4  215352                 Снизилась    стандарт                нет   \n",
       "\n",
       "   маркет_актив_6_мес  маркет_актив_тек_мес  длительность  акционные_покупки  \\\n",
       "0                 3.4                     5           121               0.00   \n",
       "1                 4.4                     4           819               0.75   \n",
       "2                 4.9                     3           539               0.14   \n",
       "3                 3.2                     5           896               0.99   \n",
       "4                 5.1                     3          1064               0.94   \n",
       "\n",
       "  популярная_категория  средний_просмотр_категорий_за_визит  \\\n",
       "0     Товары для детей                                    6   \n",
       "1     Товары для детей                                    4   \n",
       "2    Домашний текстиль                                    5   \n",
       "3     Товары для детей                                    5   \n",
       "4     Товары для детей                                    3   \n",
       "\n",
       "   неоплаченные_продукты_штук_квартал  ошибка_сервиса  страниц_за_визит  \\\n",
       "0                                   2               1                 5   \n",
       "1                                   4               2                 5   \n",
       "2                                   2               1                 5   \n",
       "3                                   0               6                 4   \n",
       "4                                   2               3                 2   \n",
       "\n",
       "   выручка_препредыдущий  выручка_предыдущий  выручка_текущий  \\\n",
       "0                    0.0                 0.0           3293.1   \n",
       "1                 4472.0              5216.0           4971.6   \n",
       "2                 4826.0              5457.5           5058.4   \n",
       "3                 4793.0              6158.0           6610.4   \n",
       "4                 4594.0              5807.5           5872.5   \n",
       "\n",
       "   минут_предыдущий  минут_текущий  \n",
       "0                13             14  \n",
       "1                12             10  \n",
       "2                 8             13  \n",
       "3                11             13  \n",
       "4                 8             11  "
      ]
     },
     "execution_count": 33,
     "metadata": {},
     "output_type": "execute_result"
    }
   ],
   "source": [
    "final_data = data_market_file.merge(data_market_money, on='id', how='left')\n",
    "final_data = final_data.merge(data_market_time, on='id', how='left')\n",
    "final_data.drop('минут_препредыдущий', inplace=True, axis=1)\n",
    "\n",
    "print(final_data.info())\n",
    "final_data.head()"
   ]
  },
  {
   "cell_type": "markdown",
   "metadata": {},
   "source": [
    "**Удаление пользователей с ID 215348/215357/215359/215380**"
   ]
  },
  {
   "cell_type": "code",
   "execution_count": 34,
   "metadata": {},
   "outputs": [],
   "source": [
    "ids_to_remove = [215348, 215357, 215359, 215380]\n",
    "final_data = final_data[~final_data['id'].isin(ids_to_remove)].reset_index(drop=True)"
   ]
  },
  {
   "cell_type": "markdown",
   "metadata": {},
   "source": [
    "### Промежуточный вывод"
   ]
  },
  {
   "cell_type": "markdown",
   "metadata": {},
   "source": [
    "После объединения таблиц market_file, market_money и market_time получена финальная таблица, содержащая:\n",
    "\n",
    "- Данные о маркетинговой активности (из market_file).\n",
    "- Выручку за три периода (из market_money).\n",
    "- Время, проведенное на сайте, за два периода (из market_time, при этом для \"препредыдущего месяца\" добавлен столбец с NaN)."
   ]
  },
  {
   "cell_type": "markdown",
   "metadata": {},
   "source": [
    "<a id=\"section5\"></a> \n",
    "## Корреляционный анализ"
   ]
  },
  {
   "cell_type": "markdown",
   "metadata": {},
   "source": [
    "### Матрица корреляций"
   ]
  },
  {
   "cell_type": "code",
   "execution_count": 35,
   "metadata": {},
   "outputs": [
    {
     "name": "stdout",
     "output_type": "stream",
     "text": [
      "interval columns not set, guessing: ['маркет_актив_6_мес', 'маркет_актив_тек_мес', 'длительность', 'акционные_покупки', 'средний_просмотр_категорий_за_визит', 'неоплаченные_продукты_штук_квартал', 'ошибка_сервиса', 'страниц_за_визит', 'выручка_препредыдущий', 'выручка_предыдущий', 'выручка_текущий', 'минут_предыдущий', 'минут_текущий']\n"
     ]
    },
    {
     "data": {
      "image/png": "[encoded data removed]",
      "text/plain": [
       "<Figure size 1440x1080 with 2 Axes>"
      ]
     },
     "metadata": {
      "needs_background": "light"
     },
     "output_type": "display_data"
    }
   ],
   "source": [
    "phik_overview = phik_matrix(final_data.drop(columns=['id'])) \n",
    "\n",
    "\n",
    "from phik.report import plot_correlation_matrix\n",
    "\n",
    "plot_correlation_matrix(\n",
    "    phik_overview.values,\n",
    "    x_labels=phik_overview.columns,\n",
    "    y_labels=phik_overview.index,\n",
    "    vmin=0, vmax=1, color_map='Greens',\n",
    "    title=r'correlation $\\phi_K$',\n",
    "    fontsize_factor=1.5,\n",
    "    figsize=(20, 15)\n",
    ") "
   ]
  },
  {
   "cell_type": "markdown",
   "metadata": {},
   "source": [
    "### Промежуточный вывод "
   ]
  },
  {
   "cell_type": "markdown",
   "metadata": {},
   "source": [
    "- Высокая корреляция (более 0.6):\n",
    "\n",
    "  - покупательская_активность и минут_предыдущий (-0.69) → Обратная зависимость, чем больше времени проводит пользователь, тем ниже его активность.\n",
    "\n",
    "  - выручка_препредыдущий и выручка_предыдущий (0.84) → Ожидаемо, выручка в разные периоды связана между собой.\n",
    "  - покупательская_активность и страниц_за_визит (0.75) → Чем больше страниц посещает пользователь, тем выше его активность.\n",
    "\n",
    "- Средняя корреляция (0.4 - 0.6):\n",
    "\n",
    "  - минут_текущий и минут_предыдущий (0.41) → Логично, что количество минут, проведенных в разные периоды, связано.\n",
    "  - минут_предыдущий и покупательская_активность (0.68)\n",
    "\n",
    "- Отсутствие мультиколлинеарности:\n",
    "\n",
    "  - Корреляция между большинством признаков ниже 0.8, что говорит об отсутствии сильной мультиколлинеарности. Это означает, что признаки в целом независимы и могут быть использованы в моделировании без исключения."
   ]
  },
  {
   "cell_type": "markdown",
   "metadata": {},
   "source": [
    "<a id=\"section6\"></a> \n",
    "## Использование пайплайнов"
   ]
  },
  {
   "cell_type": "markdown",
   "metadata": {},
   "source": [
    "### Подготовка данных"
   ]
  },
  {
   "cell_type": "code",
   "execution_count": 36,
   "metadata": {},
   "outputs": [],
   "source": [
    "RANDOM_STATE = 42\n",
    "TEST_SIZE = 0.25\n",
    "\n",
    "X_train, X_test, y_train, y_test = train_test_split(\n",
    "    final_data.drop(['id', 'покупательская_активность'], axis=1), \n",
    "    final_data['покупательская_активность'], \n",
    "    test_size=TEST_SIZE, \n",
    "    random_state=RANDOM_STATE, \n",
    "    stratify=final_data['покупательская_активность']\n",
    ")\n",
    "\n",
    "cat_features_ohe = ['разрешить_сообщать', 'популярная_категория']\n",
    "cat_features_ord = ['тип_сервиса']\n",
    "num_features = ['маркет_актив_6_мес', 'маркет_актив_тек_мес', 'длительность', 'акционные_покупки',\n",
    "                'средний_просмотр_категорий_за_визит', 'неоплаченные_продукты_штук_квартал', 'ошибка_сервиса',\n",
    "                'страниц_за_визит', 'выручка_препредыдущий', 'выручка_предыдущий', 'выручка_текущий',\n",
    "                'минут_предыдущий', 'минут_текущий']\n",
    "\n",
    "ohe_pipeline = Pipeline([\n",
    "    ('imputer', SimpleImputer(strategy='most_frequent')),\n",
    "    ('encoder', OneHotEncoder(drop='first', handle_unknown='error'))\n",
    "])\n",
    "\n",
    "ord_pipeline = Pipeline([\n",
    "    ('imputer', SimpleImputer(strategy='most_frequent')),\n",
    "    ('encoder', OrdinalEncoder(handle_unknown='use_encoded_value', unknown_value=-1))\n",
    "])\n",
    "\n",
    "\n",
    "num_pipeline = Pipeline([\n",
    "    ('scaler', StandardScaler()) \n",
    "])\n",
    "\n",
    "data_preprocessor = ColumnTransformer(\n",
    "    [('ohe', ohe_pipeline, cat_features_ohe),\n",
    "     ('ord', ord_pipeline, cat_features_ord),\n",
    "     ('num', num_pipeline, num_features)],\n",
    "    remainder='drop'  \n",
    ")\n",
    "\n",
    "\n",
    "pipe_final = Pipeline([\n",
    "    ('preprocessor', data_preprocessor),\n",
    "    ('models', DecisionTreeClassifier(random_state=RANDOM_STATE))\n",
    "])\n",
    "\n",
    "param_grid = [\n",
    "    {'models': [DecisionTreeClassifier(random_state=RANDOM_STATE)],\n",
    "     'models__max_depth': range(2, 5),\n",
    "     'models__max_features': [2, 3, 'sqrt', 'log2'],\n",
    "     'preprocessor__num__scaler': [StandardScaler(), MinMaxScaler(), 'passthrough']},\n",
    "\n",
    "    {'models': [KNeighborsClassifier()],\n",
    "     'models__n_neighbors': range(2, 5),\n",
    "     'preprocessor__num__scaler': [StandardScaler(), MinMaxScaler(), 'passthrough']},\n",
    "\n",
    "    {'models': [LogisticRegression(random_state=RANDOM_STATE, solver='liblinear', penalty='l1')],\n",
    "     'models__C': np.arange(0.1, 2, 0.2),\n",
    "     'preprocessor__num__scaler': [StandardScaler(), MinMaxScaler(), 'passthrough']},\n",
    "\n",
    "    {'models': [SVC(random_state=RANDOM_STATE, probability=True, kernel='linear')],\n",
    "     'models__C': np.arange(0.1, 2, 0.2),\n",
    "     'preprocessor__num__scaler': [StandardScaler(), MinMaxScaler(), 'passthrough']}\n",
    "]"
   ]
  },
  {
   "cell_type": "markdown",
   "metadata": {},
   "source": [
    "### Обучение моделей"
   ]
  },
  {
   "cell_type": "code",
   "execution_count": null,
   "metadata": {},
   "outputs": [],
   "source": [
    "randomized_search = RandomizedSearchCV(\n",
    "    pipe_final,\n",
    "    param_grid,\n",
    "    scoring='roc_auc',\n",
    "    random_state=RANDOM_STATE,\n",
    "    n_jobs=-1,\n",
    "    cv=5\n",
    ")\n",
    "\n",
    "randomized_search.fit(X_train, y_train)\n",
    "\n",
    "\n",
    "print('Лучшая модель и её параметры:\\n\\n', randomized_search.best_estimator_)\n",
    "print('Метрика лучшей модели на тренировочной выборке:', randomized_search.best_score_)\n",
    "\n",
    "y_pred = randomized_search.predict_proba(X_test)[:, 1]\n",
    "print(f'Метрика ROC-AUC на тестовой выборке: {roc_auc_score(y_test, y_pred)}')"
   ]
  },
  {
   "cell_type": "markdown",
   "metadata": {},
   "source": [
    "Mетрика `ROC_AUC` выбрана по следующим причинам:\n",
    " - она отлично подходит для задач бинарной классификации (а у нас именно такая задача)\n",
    " - данная метрика отражает насколько обученная модель имеет высокую чувствительность и низкую частоту ложных срабатываний\n",
    " - устойчива к дисбалансу классов\n",
    " - позволяет сравнивать разные модели между собой, даже если они используют разные алгоритмы или гиперпараметры."
   ]
  },
  {
   "cell_type": "markdown",
   "metadata": {},
   "source": [
    "### Промежуточнчый вывод"
   ]
  },
  {
   "cell_type": "markdown",
   "metadata": {},
   "source": [
    "В рамках данного этапа работы были применены четыре модели классификации: `KNeighborsClassifier`, `DecisionTreeClassifier`, `LogisticRegression` и `SVC`. Для подготовки данных использовался `ColumnTransformer`, который позволил раздельно обработать числовые и категориальные признаки.\n",
    "\n",
    "Категориальные признаки кодировались с помощью `OneHotEncoder` и `OrdinalEncoder`, а числовые — масштабировались тремя различными методами `MinMaxScaler, StandardScaler`. Такой подход обеспечил гибкость в выборе наилучшего варианта предобработки для каждой модели.\n",
    "\n",
    "Для поиска оптимальных гиперпараметров был использован `RandomizedSearchCV` с метрикой `ROC-AUC`, что позволило эффективно оценить качество моделей. В результате ***наилучшая метрика ROC-AUC была достигнута с моделью LogisticRegression, которая показала на тестовой выборке значение 0.917***.\n"
   ]
  },
  {
   "cell_type": "markdown",
   "metadata": {},
   "source": [
    "<a id=\"section7\"></a> \n",
    "## Анализ важности признаков"
   ]
  },
  {
   "cell_type": "markdown",
   "metadata": {},
   "source": [
    "### Оценка важности признаков для лучшей модели с помощью метода SHAP. "
   ]
  },
  {
   "cell_type": "code",
   "execution_count": null,
   "metadata": {},
   "outputs": [],
   "source": [
    "best_model = randomized_search.best_estimator_\n",
    "\n",
    "best_preprocessor = best_model.named_steps['preprocessor']\n",
    "best_preprocessor.fit(X_train)\n",
    "\n",
    "ohe_features = best_preprocessor.transformers_[0][1].named_steps['encoder'].get_feature_names(cat_features_ohe)\n",
    "ord_features = best_preprocessor.transformers_[1][1].named_steps['encoder'].categories_[0]\n",
    "num_features = num_features\n",
    "\n",
    "columns = list(ohe_features) + list(ord_features) + list(num_features)\n",
    "\n",
    "x_Train = best_preprocessor.transform(X_train)\n",
    "x_Test = best_preprocessor.transform(X_test)\n",
    "\n",
    "explainer = shap.Explainer(best_model.named_steps['models'], x_Train)\n",
    "shap_values = explainer(x_Test)\n",
    "shap_values.feature_names = columns\n",
    "\n",
    "shap.plots.beeswarm(shap_values)"
   ]
  },
  {
   "cell_type": "markdown",
   "metadata": {},
   "source": [
    "### Промежуточный вывод"
   ]
  },
  {
   "cell_type": "markdown",
   "metadata": {},
   "source": [
    "На основании SHAP-диаграммы можно сделать следующие выводы о значимости признаков:\n",
    " 1. Мало значимые признаки\n",
    "    - Признаки, расположенные в нижней части графика и имеющие меньший разброс SHAP-значений, оказывают слабое влияние на предсказания модели.\n",
    "    - Например, признак “популярная_категория_Мелкая бытовая техника и электроника” оказывает минимальное влияние на модель, поскольку его SHAP-значения сосредоточены около нуля.\n",
    "    - Аналогично, “Sum of 11 other features” свидетельствует о том, что другие признаки, включенные в анализ, также не играют значительной роли.\n",
    " 2. Наиболее значимые признаки\n",
    "    - Наибольшее влияние оказывают признаки, расположенные в верхней части графика и имеющие широкий разброс SHAP-значений.\n",
    "    - “ошибка_сервиса”, “выручка_текущий”, “акционные_покупки” и “минут_предыдущий” – это признаки с высоким влиянием на модель. Их значения существенно изменяют предсказания модели в положительную или отрицательную сторону.\n",
    " 3. Использование в моделировании и бизнес-решениях\n",
    "    - Можно исключить малозначимые признаки, чтобы упростить модель без потери качества предсказаний.\n",
    "    - Высокозначимые признаки важно учитывать при прогнозировании покупательской активности. Например:\n",
    "    - Если “ошибка_сервиса” сильно снижает покупательскую активность, следует улучшать качество обслуживания.\n",
    "    - “выручка_текущий” является сильным индикатором активности – можно внедрять стратегии по увеличению среднего чека.\n"
   ]
  },
  {
   "cell_type": "markdown",
   "metadata": {},
   "source": [
    "<a id=\"section8\"></a> \n",
    "## Сегментация покупателей"
   ]
  },
  {
   "cell_type": "markdown",
   "metadata": {},
   "source": [
    "### Выполнение сегментацию покупателей"
   ]
  },
  {
   "cell_type": "code",
   "execution_count": null,
   "metadata": {},
   "outputs": [],
   "source": [
    "final_data = final_data.merge(data_money, on='id', how='left')\n",
    "\n",
    "final_data.head()"
   ]
  },
  {
   "cell_type": "markdown",
   "metadata": {},
   "source": [
    "Сегментация на основе следующих критериев:\n",
    "\n",
    "1. Покупательская активность: Снизилась или осталась на прежнем уровне.\n",
    "\n",
    "2. Прибыльность: Высокая, средняя или низкая.\n",
    "\n",
    "3. Категория товаров: Товары для детей, домашний текстиль, косметика и аксессуары, техника для красоты и здоровья, кухонная посуда, мелкая бытовая техника и электроника."
   ]
  },
  {
   "cell_type": "code",
   "execution_count": null,
   "metadata": {},
   "outputs": [],
   "source": [
    "final_data['вероятность_снижения'] = randomized_search.predict_proba(\n",
    "    final_data.drop(['id', 'покупательская_активность', 'прибыль'], axis=1)\n",
    ")[:, 1]\n",
    "\n",
    "print(final_data[['id', 'вероятность_снижения']].head(15))"
   ]
  },
  {
   "cell_type": "code",
   "execution_count": null,
   "metadata": {},
   "outputs": [],
   "source": [
    "seg_1 = final_data[\n",
    "    (final_data['вероятность_снижения'] >= 0.7) & \n",
    "    (final_data['прибыль'] >= 3)\n",
    "]\n",
    "merged = final_data[~final_data.index.isin(seg_1.index)]"
   ]
  },
  {
   "cell_type": "code",
   "execution_count": null,
   "metadata": {},
   "outputs": [],
   "source": [
    "plt.figure(figsize=(12,6))\n",
    "sns.scatterplot(data=seg_1, x='вероятность_снижения', y='прибыль', label='Исследуемый сегмент', color='blue')\n",
    "sns.scatterplot(data=merged, x='вероятность_снижения', y='прибыль', label='Другие сегменты', color='purple')\n",
    "plt.axvline(x=0.7, color='green', linestyle='--', label='Порог вероятности снижения')\n",
    "plt.axhline(y=3, color='red', linestyle='--', label='Порог прибыльности')\n",
    "plt.legend()\n",
    "plt.xlabel('Вероятность снижения активности')\n",
    "plt.ylabel('Прибыль')\n",
    "plt.title('Сегментация клиентов по риску и прибыльности')\n",
    "plt.show()"
   ]
  },
  {
   "cell_type": "markdown",
   "metadata": {},
   "source": [
    "### Анализ выбранного сегмента"
   ]
  },
  {
   "cell_type": "markdown",
   "metadata": {},
   "source": [
    "**Выбранный сегмент:** Группа клиентов с высокой вероятностью снижения покупательской активности и наиболее высокой прибыльностью.\n",
    "\n",
    "**Причины выбора:** Эта группа представляет наибольший интерес для бизнеса, так как эти клиенты уже приносят высокую прибыль, но их активность снижается. Удержание таких клиентов может значительно повысить общую прибыль.\n",
    "\n"
   ]
  },
  {
   "cell_type": "markdown",
   "metadata": {},
   "source": [
    "**Графическое исследование:**\n",
    "\n",
    " - Распределение прибыльности в выбранном сегменте.\n",
    "\n",
    " - Распределение времени, проведенного на сайте.\n",
    "\n",
    " - Распределение количества просмотренных страниц за визит."
   ]
  },
  {
   "cell_type": "markdown",
   "metadata": {},
   "source": [
    "**Сравнение по признаку `акционные_покупки`**"
   ]
  },
  {
   "cell_type": "code",
   "execution_count": null,
   "metadata": {},
   "outputs": [],
   "source": [
    "plt.figure(figsize=(10, 6))\n",
    "sns.histplot(data=seg_1, x='акционные_покупки', color='blue', label='Целевой сегмент', kde=True)\n",
    "sns.histplot(data=merged, x='акционные_покупки', color='purple', label='Остальные', kde=True, alpha=0.5)\n",
    "plt.title('Распределение акционных покупок')\n",
    "plt.legend()\n",
    "plt.show()"
   ]
  },
  {
   "cell_type": "markdown",
   "metadata": {},
   "source": [
    "**Сравнение по признаку `ошибка_сервиса`**"
   ]
  },
  {
   "cell_type": "code",
   "execution_count": null,
   "metadata": {},
   "outputs": [],
   "source": [
    "plt.figure(figsize=(10, 6))\n",
    "sns.boxplot(x='сегмент', y='ошибка_сервиса', data=pd.concat([\n",
    "    seg_1.assign(сегмент='Целевой'), \n",
    "    merged.assign(сегмент='Остальные')\n",
    "]))\n",
    "plt.title('Распределение ошибок сервиса')\n",
    "plt.show()"
   ]
  },
  {
   "cell_type": "markdown",
   "metadata": {},
   "source": [
    "**Сравнение по признаку `минут_предудыщий`**"
   ]
  },
  {
   "cell_type": "code",
   "execution_count": null,
   "metadata": {},
   "outputs": [],
   "source": [
    "plt.figure(figsize=(10, 6))\n",
    "sns.histplot(data=seg_1, x='минут_предыдущий', color='blue', label='Целевой', kde=True)\n",
    "sns.histplot(data=merged, x='минут_предыдущий', color='purple', label='Остальные', kde=True, alpha=0.3)\n",
    "plt.title('Распределение времени на сайте')\n",
    "plt.legend()\n",
    "plt.show()"
   ]
  },
  {
   "cell_type": "markdown",
   "metadata": {},
   "source": [
    "**Сравнение по признаку `выручка_текущий`**"
   ]
  },
  {
   "cell_type": "code",
   "execution_count": null,
   "metadata": {},
   "outputs": [],
   "source": [
    "plt.figure(figsize=(10, 6))\n",
    "sns.scatterplot(data=seg_1, x='вероятность_снижения', y='выручка_текущий', color='blue', label='Целевой')\n",
    "sns.scatterplot(data=merged, x='вероятность_снижения', y='выручка_текущий', color='purple', label='Остальные', alpha=0.3)\n",
    "plt.axvline(x=0.7, color='green', linestyle='--')\n",
    "plt.title('Зависимость выручки от вероятности снижения')\n",
    "plt.legend()\n",
    "plt.show()"
   ]
  },
  {
   "cell_type": "markdown",
   "metadata": {},
   "source": [
    "### Предложения по увеличение покупательской способности"
   ]
  },
  {
   "cell_type": "markdown",
   "metadata": {},
   "source": [
    "1. Распределение акционных покупок\n",
    "\n",
    "    **Наблюдение:** Клиенты из целевого сегмента (seg_1) имеют более высокую долю акционных покупок по сравнению с остальными.\n",
    "\n",
    "    **Рекомендация:** Предложите им эксклюзивные акции или ранний доступ к распродажам для удержания.\n",
    "\n",
    "2. Распределение ошибок сервиса\n",
    "\n",
    "    **Наблюдение:** В целевом сегменте чаще встречаются ошибки сервиса.\n",
    "\n",
    "    **Рекомендация:**\n",
    "\n",
    "       - Улучшите стабильность платформы.\n",
    "\n",
    "       - Внедрите систему быстрого реагирования на жалобы (например, чат-бот с приоритетной поддержкой).\n",
    "\n",
    "3. Распределение времени на сайте\n",
    "\n",
    "    **Наблюдение:** Клиенты из seg_1 проводят на сайте меньше времени.\n",
    "\n",
    "    **Рекомендация:**\n",
    "\n",
    "       - Добавьте персонализированные рекомендации на основе их поведения.\n",
    "\n",
    "       - Введите бонусы за активность (например, за время, проведенное на сайте).\n",
    "\n",
    "4. Зависимость выручки от вероятности снижения\n",
    "\n",
    "    **Наблюдение:** Клиенты с высокой выручкой часто попадают в группу риска (вероятность снижения ≥ 0.7).\n",
    "\n",
    "    **Рекомендация:**\n",
    "\n",
    "       - Назначьте персональных менеджеров для VIP-клиентов.\n",
    "\n",
    "       - Проводите регулярные опросы для выявления их потребностей."
   ]
  },
  {
   "cell_type": "markdown",
   "metadata": {},
   "source": [
    "<a id=\"section9\"></a> \n",
    "## Общий вывод"
   ]
  },
  {
   "cell_type": "markdown",
   "metadata": {},
   "source": [
    "### Описание задачи"
   ]
  },
  {
   "cell_type": "markdown",
   "metadata": {},
   "source": [
    "**Целью проекта** было разработать модель классификации, которая поможет персонализировать предложения для постоянных клиентов интернет-магазина «В один клик» с целью увеличения их покупательской активности. Задача заключалась в анализе данных о поведении клиентов, их покупательской активности, выручке и других метриках, чтобы выявить ключевые факторы, влияющие на активность клиентов, и предложить меры для её повышения."
   ]
  },
  {
   "cell_type": "markdown",
   "metadata": {},
   "source": [
    "### Исходные данные и предобработка"
   ]
  },
  {
   "cell_type": "markdown",
   "metadata": {},
   "source": [
    "**Исходные данные были представлены в четырёх таблицах:**\n",
    "\n",
    " - `market_file.csv` — данные о покупательской активности, типе сервиса, маркетинговой активности, популярных категориях товаров и других метриках.\n",
    "\n",
    " - `market_money.cs` — данные о выручке за три периода (препредыдущий, предыдущий и текущий месяцы).\n",
    "\n",
    " - `market_time.csv` — данные о времени, проведённом на сайте за два периода (предыдущий и текущий месяцы).\n",
    "\n",
    " - `money.csv` — данные о прибыли клиентов.\n",
    "\n",
    "**На этапе предобработки данных были выполнены следующие шаги:**\n",
    "\n",
    " - Приведение названий столбцов к нижнему регистру и формату `snake_case`.\n",
    "\n",
    " - Исправление опечаток в категориальных данных (например, \"стандартт\" на \"стандарт\").\n",
    "\n",
    " - Преобразование типа данных для столбца \"прибыль\" в таблице money.csv.\n",
    "\n",
    " - Объединение таблиц по идентификатору клиента (id).\n",
    "\n",
    " - Проверка на дубликаты и пропущенные значения (дубликаты отсутствовали, пропуски также не были обнаружены)."
   ]
  },
  {
   "cell_type": "markdown",
   "metadata": {},
   "source": [
    "### Поиск лучшей модели"
   ]
  },
  {
   "cell_type": "markdown",
   "metadata": {},
   "source": [
    "**Разделение данных:** Данные были разделены на обучающую и тестовую выборки с использованием стратификации по целевой переменной (покупательская активность).\n",
    "\n",
    "**Предобработка данных:** Для обработки категориальных и числовых признаков был создан пайплайн, включающий:\n",
    "\n",
    " - OneHotEncoder для категориальных признаков.\n",
    "\n",
    " - OrdinalEncoder для порядковых признаков.\n",
    "\n",
    " - StandardScaler для масштабирования числовых признаков.\n",
    "\n",
    "**Обучение моделей:** Были протестированы четыре модели:\n",
    "\n",
    " - DecisionTreeClassifier\n",
    "\n",
    " - KNeighborsClassifier\n",
    "\n",
    " - LogisticRegression\n",
    "\n",
    " - SVC\n",
    "\n",
    "**Оптимизация гиперпараметров:** Для поиска оптимальных параметров моделей использовался `RandomizedSearchCV` с метрикой `ROC-AUC`.\n",
    "\n",
    "**Оценка качества моделей:** Лучшая модель была выбрана на основе метрики `ROC-AUC` на тестовой выборке."
   ]
  },
  {
   "cell_type": "markdown",
   "metadata": {},
   "source": [
    "### Лучшая модель"
   ]
  },
  {
   "cell_type": "markdown",
   "metadata": {},
   "source": [
    "Лучшей моделью оказалась `LogisticRegression` с параметрами:\n",
    "\n",
    " - C = 0.1\n",
    "\n",
    " - penalty = 'l1'\n",
    "\n",
    " - solver = 'liblinear'\n",
    "\n",
    "Метрика `ROC-AUС` на тестовой выборке составила **0.917**, что свидетельствует о высоком качестве модели."
   ]
  },
  {
   "cell_type": "markdown",
   "metadata": {},
   "source": [
    "### Выводы и предложения для выбранного сегмента покупателей"
   ]
  },
  {
   "cell_type": "markdown",
   "metadata": {},
   "source": [
    "**Наиболее значимые признаки:**\n",
    "\n",
    " - \"ошибка_сервиса\" — негативно влияет на покупательскую активность.\n",
    "\n",
    " - \"выручка_текущий\" — сильный индикатор активности клиентов.\n",
    "\n",
    " - \"средний_просмотр_категорий_за_визит\" — указывает на заинтересованность клиентов.\n",
    "\n",
    " - \"минут_предыдущий\" — время, проведённое на сайте, коррелирует с активностью.\n",
    "\n",
    "**Сегментация покупателей:**\n",
    "\n",
    "*Выбранный сегмент* — клиенты с высокой прибыльностью, но снижающейся активностью. Это ключевая группа для удержания, так как они уже приносят значительную прибыль, но их активность снижается.\n",
    "\n",
    "**Предложения для увеличения покупательской активности:**\n",
    "\n",
    " - Персонализированные предложения: Предлагать скидки и акции на популярные категории товаров (например, товары для детей, косметика и аксессуары).\n",
    "\n",
    " - Улучшение пользовательского опыта: Упростить навигацию по сайту и процесс оформления заказа.\n",
    "\n",
    " - Программы лояльности: Внедрить бонусные программы для постоянных клиентов.\n",
    "\n",
    " - Улучшение качества обслуживания: Уменьшить количество ошибок сервиса и улучшить поддержку клиентов."
   ]
  }
 ],
 "metadata": {
  "ExecuteTimeLog": [
   {
    "duration": 1668,
    "start_time": "2025-02-11T14:07:41.903Z"
   },
   {
    "duration": 70,
    "start_time": "2025-02-11T14:07:43.573Z"
   },
   {
    "duration": 12,
    "start_time": "2025-02-11T14:08:19.796Z"
   },
   {
    "duration": 76,
    "start_time": "2025-02-11T14:08:29.845Z"
   },
   {
    "duration": 24,
    "start_time": "2025-02-11T14:08:30.592Z"
   },
   {
    "duration": 10,
    "start_time": "2025-02-11T14:08:52.807Z"
   },
   {
    "duration": 68,
    "start_time": "2025-02-11T14:09:00.983Z"
   },
   {
    "duration": 21,
    "start_time": "2025-02-11T14:09:01.441Z"
   },
   {
    "duration": 10,
    "start_time": "2025-02-11T14:09:02.006Z"
   },
   {
    "duration": 9,
    "start_time": "2025-02-11T14:09:16.492Z"
   },
   {
    "duration": 69,
    "start_time": "2025-02-11T14:09:24.554Z"
   },
   {
    "duration": 20,
    "start_time": "2025-02-11T14:09:24.867Z"
   },
   {
    "duration": 11,
    "start_time": "2025-02-11T14:09:25.038Z"
   },
   {
    "duration": 22,
    "start_time": "2025-02-11T14:09:25.685Z"
   },
   {
    "duration": 10,
    "start_time": "2025-02-11T14:09:39.146Z"
   },
   {
    "duration": 66,
    "start_time": "2025-02-11T14:09:52.218Z"
   },
   {
    "duration": 20,
    "start_time": "2025-02-11T14:09:54.739Z"
   },
   {
    "duration": 11,
    "start_time": "2025-02-11T14:09:54.886Z"
   },
   {
    "duration": 18,
    "start_time": "2025-02-11T14:09:55.045Z"
   },
   {
    "duration": 9,
    "start_time": "2025-02-11T14:09:56.850Z"
   },
   {
    "duration": 12,
    "start_time": "2025-02-11T14:12:01.202Z"
   },
   {
    "duration": 11,
    "start_time": "2025-02-11T14:19:10.201Z"
   },
   {
    "duration": 20,
    "start_time": "2025-02-11T14:19:10.854Z"
   },
   {
    "duration": 11,
    "start_time": "2025-02-11T14:19:55.977Z"
   },
   {
    "duration": 12,
    "start_time": "2025-02-11T14:51:48.866Z"
   },
   {
    "duration": 10,
    "start_time": "2025-02-11T14:52:18.521Z"
   },
   {
    "duration": 1495,
    "start_time": "2025-02-11T14:53:45.809Z"
   },
   {
    "duration": 68,
    "start_time": "2025-02-11T14:53:47.307Z"
   },
   {
    "duration": 18,
    "start_time": "2025-02-11T14:53:47.377Z"
   },
   {
    "duration": 12,
    "start_time": "2025-02-11T14:53:47.396Z"
   },
   {
    "duration": 9,
    "start_time": "2025-02-11T14:53:47.411Z"
   },
   {
    "duration": 12,
    "start_time": "2025-02-11T14:53:47.422Z"
   },
   {
    "duration": 16,
    "start_time": "2025-02-11T14:53:47.436Z"
   },
   {
    "duration": 12,
    "start_time": "2025-02-11T14:53:47.454Z"
   },
   {
    "duration": 7,
    "start_time": "2025-02-11T14:53:47.469Z"
   },
   {
    "duration": 10,
    "start_time": "2025-02-11T14:53:47.514Z"
   },
   {
    "duration": 5,
    "start_time": "2025-02-11T16:07:46.174Z"
   },
   {
    "duration": 9,
    "start_time": "2025-02-11T16:08:40.702Z"
   },
   {
    "duration": 4,
    "start_time": "2025-02-11T16:08:50.477Z"
   },
   {
    "duration": 16,
    "start_time": "2025-02-11T18:19:42.424Z"
   },
   {
    "duration": 10,
    "start_time": "2025-02-11T18:20:55.323Z"
   },
   {
    "duration": 11,
    "start_time": "2025-02-11T18:25:25.941Z"
   },
   {
    "duration": 6,
    "start_time": "2025-02-11T18:25:26.914Z"
   },
   {
    "duration": 114,
    "start_time": "2025-02-11T18:27:04.630Z"
   },
   {
    "duration": 5,
    "start_time": "2025-02-11T18:27:55.368Z"
   },
   {
    "duration": 1081,
    "start_time": "2025-02-11T18:29:57.762Z"
   },
   {
    "duration": 15,
    "start_time": "2025-02-11T18:32:08.062Z"
   },
   {
    "duration": 77,
    "start_time": "2025-02-11T18:33:36.951Z"
   },
   {
    "duration": 15,
    "start_time": "2025-02-11T18:33:56.867Z"
   },
   {
    "duration": 14,
    "start_time": "2025-02-11T18:34:06.342Z"
   },
   {
    "duration": 1053,
    "start_time": "2025-02-11T18:37:55.690Z"
   },
   {
    "duration": 3,
    "start_time": "2025-02-11T18:38:29.886Z"
   },
   {
    "duration": 9,
    "start_time": "2025-02-11T18:38:36.087Z"
   },
   {
    "duration": 5,
    "start_time": "2025-02-11T18:38:54.997Z"
   },
   {
    "duration": 10,
    "start_time": "2025-02-11T18:39:18.198Z"
   },
   {
    "duration": 6,
    "start_time": "2025-02-11T18:39:28.927Z"
   },
   {
    "duration": 9,
    "start_time": "2025-02-11T19:01:18.082Z"
   },
   {
    "duration": 3,
    "start_time": "2025-02-11T19:01:36.415Z"
   },
   {
    "duration": 4,
    "start_time": "2025-02-11T19:01:49.224Z"
   },
   {
    "duration": 3,
    "start_time": "2025-02-11T19:35:34.511Z"
   },
   {
    "duration": 3,
    "start_time": "2025-02-11T19:36:02.206Z"
   },
   {
    "duration": 4,
    "start_time": "2025-02-11T19:36:46.633Z"
   },
   {
    "duration": 3,
    "start_time": "2025-02-11T19:38:17.045Z"
   },
   {
    "duration": 4,
    "start_time": "2025-02-11T19:38:48.361Z"
   },
   {
    "duration": 2247,
    "start_time": "2025-02-11T19:43:54.160Z"
   },
   {
    "duration": 2943,
    "start_time": "2025-02-11T19:44:17.957Z"
   },
   {
    "duration": 2962,
    "start_time": "2025-02-11T20:00:02.192Z"
   },
   {
    "duration": 55,
    "start_time": "2025-02-12T07:55:29.786Z"
   },
   {
    "duration": 1757,
    "start_time": "2025-02-12T07:56:14.683Z"
   },
   {
    "duration": 70,
    "start_time": "2025-02-12T07:56:16.442Z"
   },
   {
    "duration": 17,
    "start_time": "2025-02-12T07:56:16.514Z"
   },
   {
    "duration": 12,
    "start_time": "2025-02-12T07:56:16.533Z"
   },
   {
    "duration": 10,
    "start_time": "2025-02-12T07:56:16.547Z"
   },
   {
    "duration": 11,
    "start_time": "2025-02-12T07:56:16.559Z"
   },
   {
    "duration": 16,
    "start_time": "2025-02-12T07:56:16.571Z"
   },
   {
    "duration": 60,
    "start_time": "2025-02-12T07:56:16.589Z"
   },
   {
    "duration": 8,
    "start_time": "2025-02-12T07:56:16.651Z"
   },
   {
    "duration": 25,
    "start_time": "2025-02-12T07:56:16.661Z"
   },
   {
    "duration": 7,
    "start_time": "2025-02-12T07:56:16.688Z"
   },
   {
    "duration": 14,
    "start_time": "2025-02-12T07:56:16.697Z"
   },
   {
    "duration": 7,
    "start_time": "2025-02-12T07:56:16.713Z"
   },
   {
    "duration": 14,
    "start_time": "2025-02-12T07:56:16.724Z"
   },
   {
    "duration": 33,
    "start_time": "2025-02-12T07:56:16.740Z"
   },
   {
    "duration": 58,
    "start_time": "2025-02-12T07:56:16.774Z"
   },
   {
    "duration": 6,
    "start_time": "2025-02-12T07:56:16.834Z"
   },
   {
    "duration": 9,
    "start_time": "2025-02-12T07:56:16.842Z"
   },
   {
    "duration": 20,
    "start_time": "2025-02-12T07:56:16.852Z"
   },
   {
    "duration": 7,
    "start_time": "2025-02-12T07:56:16.874Z"
   },
   {
    "duration": 7,
    "start_time": "2025-02-12T07:56:16.883Z"
   },
   {
    "duration": 3110,
    "start_time": "2025-02-12T07:56:16.892Z"
   },
   {
    "duration": 2986,
    "start_time": "2025-02-12T07:56:20.004Z"
   },
   {
    "duration": 2249,
    "start_time": "2025-02-12T07:56:22.992Z"
   },
   {
    "duration": 8,
    "start_time": "2025-02-12T07:58:50.538Z"
   },
   {
    "duration": 9,
    "start_time": "2025-02-12T07:59:43.140Z"
   },
   {
    "duration": 1581,
    "start_time": "2025-02-12T08:01:05.221Z"
   },
   {
    "duration": 1335,
    "start_time": "2025-02-12T08:01:17.703Z"
   },
   {
    "duration": 11,
    "start_time": "2025-02-12T08:02:01.891Z"
   },
   {
    "duration": 8,
    "start_time": "2025-02-12T08:02:27.301Z"
   },
   {
    "duration": 12,
    "start_time": "2025-02-12T08:03:00.194Z"
   },
   {
    "duration": 12,
    "start_time": "2025-02-12T08:03:02.822Z"
   },
   {
    "duration": 88,
    "start_time": "2025-02-12T08:04:06.191Z"
   },
   {
    "duration": 14,
    "start_time": "2025-02-12T08:04:10.420Z"
   },
   {
    "duration": 13,
    "start_time": "2025-02-12T08:04:13.390Z"
   },
   {
    "duration": 9,
    "start_time": "2025-02-12T08:04:15.847Z"
   },
   {
    "duration": 12,
    "start_time": "2025-02-12T08:04:19.613Z"
   },
   {
    "duration": 8,
    "start_time": "2025-02-12T08:04:22.249Z"
   },
   {
    "duration": 12,
    "start_time": "2025-02-12T08:04:31.119Z"
   },
   {
    "duration": 8,
    "start_time": "2025-02-12T08:04:45.283Z"
   },
   {
    "duration": 10,
    "start_time": "2025-02-12T08:04:47.827Z"
   },
   {
    "duration": 6,
    "start_time": "2025-02-12T08:05:09.989Z"
   },
   {
    "duration": 4,
    "start_time": "2025-02-12T08:05:11.115Z"
   },
   {
    "duration": 6,
    "start_time": "2025-02-12T08:05:19.840Z"
   },
   {
    "duration": 13,
    "start_time": "2025-02-12T08:05:29.376Z"
   },
   {
    "duration": 13,
    "start_time": "2025-02-12T08:05:33.141Z"
   },
   {
    "duration": 49,
    "start_time": "2025-02-13T06:34:28.278Z"
   },
   {
    "duration": 1784,
    "start_time": "2025-02-13T06:34:35.304Z"
   },
   {
    "duration": 79,
    "start_time": "2025-02-13T06:34:37.091Z"
   },
   {
    "duration": 19,
    "start_time": "2025-02-13T06:34:37.172Z"
   },
   {
    "duration": 12,
    "start_time": "2025-02-13T06:34:37.194Z"
   },
   {
    "duration": 15,
    "start_time": "2025-02-13T06:34:37.208Z"
   },
   {
    "duration": 39,
    "start_time": "2025-02-13T06:34:37.224Z"
   },
   {
    "duration": 8,
    "start_time": "2025-02-13T06:34:37.265Z"
   },
   {
    "duration": 13,
    "start_time": "2025-02-13T06:34:37.275Z"
   },
   {
    "duration": 10,
    "start_time": "2025-02-13T06:34:37.290Z"
   },
   {
    "duration": 24,
    "start_time": "2025-02-13T06:34:37.304Z"
   },
   {
    "duration": 9,
    "start_time": "2025-02-13T06:34:37.331Z"
   },
   {
    "duration": 18,
    "start_time": "2025-02-13T06:34:37.342Z"
   },
   {
    "duration": 9,
    "start_time": "2025-02-13T06:34:37.362Z"
   },
   {
    "duration": 16,
    "start_time": "2025-02-13T06:34:37.373Z"
   },
   {
    "duration": 31,
    "start_time": "2025-02-13T06:34:37.391Z"
   },
   {
    "duration": 1254,
    "start_time": "2025-02-13T06:34:37.425Z"
   },
   {
    "duration": 0,
    "start_time": "2025-02-13T06:34:38.681Z"
   },
   {
    "duration": 0,
    "start_time": "2025-02-13T06:34:38.682Z"
   },
   {
    "duration": 0,
    "start_time": "2025-02-13T06:34:38.683Z"
   },
   {
    "duration": 0,
    "start_time": "2025-02-13T06:34:38.684Z"
   },
   {
    "duration": 0,
    "start_time": "2025-02-13T06:34:38.686Z"
   },
   {
    "duration": 0,
    "start_time": "2025-02-13T06:34:38.687Z"
   },
   {
    "duration": 0,
    "start_time": "2025-02-13T06:34:38.689Z"
   },
   {
    "duration": 0,
    "start_time": "2025-02-13T06:34:38.690Z"
   },
   {
    "duration": 0,
    "start_time": "2025-02-13T06:34:38.691Z"
   },
   {
    "duration": 0,
    "start_time": "2025-02-13T06:34:38.692Z"
   },
   {
    "duration": 0,
    "start_time": "2025-02-13T06:34:38.693Z"
   },
   {
    "duration": 0,
    "start_time": "2025-02-13T06:34:38.694Z"
   },
   {
    "duration": 0,
    "start_time": "2025-02-13T06:34:38.695Z"
   },
   {
    "duration": 3,
    "start_time": "2025-02-13T06:35:13.736Z"
   },
   {
    "duration": 6,
    "start_time": "2025-02-13T06:35:16.474Z"
   },
   {
    "duration": 6,
    "start_time": "2025-02-13T06:35:46.053Z"
   },
   {
    "duration": 6,
    "start_time": "2025-02-13T06:36:05.325Z"
   },
   {
    "duration": 1478,
    "start_time": "2025-02-13T07:12:52.951Z"
   },
   {
    "duration": 81,
    "start_time": "2025-02-13T07:12:54.431Z"
   },
   {
    "duration": 17,
    "start_time": "2025-02-13T07:12:54.513Z"
   },
   {
    "duration": 11,
    "start_time": "2025-02-13T07:12:54.532Z"
   },
   {
    "duration": 8,
    "start_time": "2025-02-13T07:12:54.544Z"
   },
   {
    "duration": 11,
    "start_time": "2025-02-13T07:12:54.554Z"
   },
   {
    "duration": 7,
    "start_time": "2025-02-13T07:12:54.566Z"
   },
   {
    "duration": 41,
    "start_time": "2025-02-13T07:12:54.575Z"
   },
   {
    "duration": 8,
    "start_time": "2025-02-13T07:12:54.618Z"
   },
   {
    "duration": 10,
    "start_time": "2025-02-13T07:12:54.628Z"
   },
   {
    "duration": 5,
    "start_time": "2025-02-13T07:12:54.640Z"
   },
   {
    "duration": 10,
    "start_time": "2025-02-13T07:12:54.646Z"
   },
   {
    "duration": 6,
    "start_time": "2025-02-13T07:12:54.657Z"
   },
   {
    "duration": 52,
    "start_time": "2025-02-13T07:12:54.665Z"
   },
   {
    "duration": 12,
    "start_time": "2025-02-13T07:12:54.719Z"
   },
   {
    "duration": 3,
    "start_time": "2025-02-13T07:12:54.733Z"
   },
   {
    "duration": 10,
    "start_time": "2025-02-13T07:12:54.738Z"
   },
   {
    "duration": 3,
    "start_time": "2025-02-13T07:12:54.750Z"
   },
   {
    "duration": 3,
    "start_time": "2025-02-13T07:12:54.754Z"
   },
   {
    "duration": 4,
    "start_time": "2025-02-13T07:12:54.759Z"
   },
   {
    "duration": 4,
    "start_time": "2025-02-13T07:12:54.764Z"
   },
   {
    "duration": 4,
    "start_time": "2025-02-13T07:12:54.769Z"
   },
   {
    "duration": 2998,
    "start_time": "2025-02-13T07:12:54.774Z"
   },
   {
    "duration": 631,
    "start_time": "2025-02-13T07:12:57.774Z"
   },
   {
    "duration": 2147,
    "start_time": "2025-02-13T07:12:58.413Z"
   },
   {
    "duration": 8,
    "start_time": "2025-02-13T07:13:00.561Z"
   },
   {
    "duration": 26,
    "start_time": "2025-02-13T07:13:00.571Z"
   },
   {
    "duration": 21,
    "start_time": "2025-02-13T07:13:00.600Z"
   },
   {
    "duration": 15,
    "start_time": "2025-02-13T07:13:00.623Z"
   },
   {
    "duration": 8,
    "start_time": "2025-02-13T07:26:28.339Z"
   },
   {
    "duration": 1701,
    "start_time": "2025-02-15T12:01:33.564Z"
   },
   {
    "duration": 80,
    "start_time": "2025-02-15T12:01:35.267Z"
   },
   {
    "duration": 19,
    "start_time": "2025-02-15T12:01:35.349Z"
   },
   {
    "duration": 12,
    "start_time": "2025-02-15T12:01:35.370Z"
   },
   {
    "duration": 25,
    "start_time": "2025-02-15T12:01:35.385Z"
   },
   {
    "duration": 35,
    "start_time": "2025-02-15T12:01:35.412Z"
   },
   {
    "duration": 13,
    "start_time": "2025-02-15T12:01:35.448Z"
   },
   {
    "duration": 18,
    "start_time": "2025-02-15T12:01:35.463Z"
   },
   {
    "duration": 35,
    "start_time": "2025-02-15T12:01:35.483Z"
   },
   {
    "duration": 23,
    "start_time": "2025-02-15T12:01:35.520Z"
   },
   {
    "duration": 45,
    "start_time": "2025-02-15T12:01:35.545Z"
   },
   {
    "duration": 20,
    "start_time": "2025-02-15T12:01:35.592Z"
   },
   {
    "duration": 34,
    "start_time": "2025-02-15T12:01:35.614Z"
   },
   {
    "duration": 19,
    "start_time": "2025-02-15T12:01:35.651Z"
   },
   {
    "duration": 21,
    "start_time": "2025-02-15T12:01:35.672Z"
   },
   {
    "duration": 26,
    "start_time": "2025-02-15T12:01:35.694Z"
   },
   {
    "duration": 11,
    "start_time": "2025-02-15T12:01:35.722Z"
   },
   {
    "duration": 19,
    "start_time": "2025-02-15T12:01:35.734Z"
   },
   {
    "duration": 17,
    "start_time": "2025-02-15T12:01:35.755Z"
   },
   {
    "duration": 20,
    "start_time": "2025-02-15T12:01:35.773Z"
   },
   {
    "duration": 73,
    "start_time": "2025-02-15T12:01:35.795Z"
   },
   {
    "duration": 15,
    "start_time": "2025-02-15T12:01:35.870Z"
   },
   {
    "duration": 2667,
    "start_time": "2025-02-15T12:01:35.887Z"
   },
   {
    "duration": 607,
    "start_time": "2025-02-15T12:01:38.555Z"
   },
   {
    "duration": 2024,
    "start_time": "2025-02-15T12:01:39.163Z"
   },
   {
    "duration": 8,
    "start_time": "2025-02-15T12:01:41.188Z"
   },
   {
    "duration": 8,
    "start_time": "2025-02-15T12:01:41.198Z"
   },
   {
    "duration": 11,
    "start_time": "2025-02-15T12:01:41.208Z"
   },
   {
    "duration": 21,
    "start_time": "2025-02-15T12:01:41.221Z"
   },
   {
    "duration": 7,
    "start_time": "2025-02-15T12:01:41.262Z"
   },
   {
    "duration": 2,
    "start_time": "2025-02-15T12:04:44.529Z"
   },
   {
    "duration": 15,
    "start_time": "2025-02-15T12:12:15.428Z"
   },
   {
    "duration": 7,
    "start_time": "2025-02-15T12:31:09.334Z"
   },
   {
    "duration": 388,
    "start_time": "2025-02-15T12:31:42.061Z"
   },
   {
    "duration": 1420,
    "start_time": "2025-02-15T13:00:00.445Z"
   },
   {
    "duration": 79,
    "start_time": "2025-02-15T13:00:01.867Z"
   },
   {
    "duration": 16,
    "start_time": "2025-02-15T13:00:01.948Z"
   },
   {
    "duration": 23,
    "start_time": "2025-02-15T13:00:01.967Z"
   },
   {
    "duration": 39,
    "start_time": "2025-02-15T13:00:01.992Z"
   },
   {
    "duration": 58,
    "start_time": "2025-02-15T13:00:02.033Z"
   },
   {
    "duration": 42,
    "start_time": "2025-02-15T13:00:02.093Z"
   },
   {
    "duration": 52,
    "start_time": "2025-02-15T13:00:02.137Z"
   },
   {
    "duration": 44,
    "start_time": "2025-02-15T13:00:02.191Z"
   },
   {
    "duration": 100,
    "start_time": "2025-02-15T13:00:02.239Z"
   },
   {
    "duration": 18,
    "start_time": "2025-02-15T13:00:02.341Z"
   },
   {
    "duration": 32,
    "start_time": "2025-02-15T13:00:02.361Z"
   },
   {
    "duration": 87,
    "start_time": "2025-02-15T13:00:02.395Z"
   },
   {
    "duration": 91,
    "start_time": "2025-02-15T13:00:02.484Z"
   },
   {
    "duration": 62,
    "start_time": "2025-02-15T13:00:02.577Z"
   },
   {
    "duration": 87,
    "start_time": "2025-02-15T13:00:02.641Z"
   },
   {
    "duration": 51,
    "start_time": "2025-02-15T13:00:02.729Z"
   },
   {
    "duration": 145,
    "start_time": "2025-02-15T13:00:02.781Z"
   },
   {
    "duration": 44,
    "start_time": "2025-02-15T13:00:02.928Z"
   },
   {
    "duration": 60,
    "start_time": "2025-02-15T13:00:02.973Z"
   },
   {
    "duration": 56,
    "start_time": "2025-02-15T13:00:03.035Z"
   },
   {
    "duration": 50,
    "start_time": "2025-02-15T13:00:03.093Z"
   },
   {
    "duration": 2793,
    "start_time": "2025-02-15T13:00:03.145Z"
   },
   {
    "duration": 602,
    "start_time": "2025-02-15T13:00:05.940Z"
   },
   {
    "duration": 1956,
    "start_time": "2025-02-15T13:00:06.543Z"
   },
   {
    "duration": 8,
    "start_time": "2025-02-15T13:00:08.500Z"
   },
   {
    "duration": 85,
    "start_time": "2025-02-15T13:00:08.509Z"
   },
   {
    "duration": 35,
    "start_time": "2025-02-15T13:00:08.598Z"
   },
   {
    "duration": 16,
    "start_time": "2025-02-15T13:00:40.712Z"
   },
   {
    "duration": 1438,
    "start_time": "2025-02-15T13:11:51.201Z"
   },
   {
    "duration": 78,
    "start_time": "2025-02-15T13:11:52.641Z"
   },
   {
    "duration": 16,
    "start_time": "2025-02-15T13:11:52.720Z"
   },
   {
    "duration": 31,
    "start_time": "2025-02-15T13:11:52.737Z"
   },
   {
    "duration": 14,
    "start_time": "2025-02-15T13:11:52.770Z"
   },
   {
    "duration": 29,
    "start_time": "2025-02-15T13:11:52.785Z"
   },
   {
    "duration": 60,
    "start_time": "2025-02-15T13:11:52.815Z"
   },
   {
    "duration": 31,
    "start_time": "2025-02-15T13:11:52.877Z"
   },
   {
    "duration": 16,
    "start_time": "2025-02-15T13:11:52.910Z"
   },
   {
    "duration": 25,
    "start_time": "2025-02-15T13:11:52.927Z"
   },
   {
    "duration": 40,
    "start_time": "2025-02-15T13:11:52.954Z"
   },
   {
    "duration": 22,
    "start_time": "2025-02-15T13:11:52.995Z"
   },
   {
    "duration": 23,
    "start_time": "2025-02-15T13:11:53.019Z"
   },
   {
    "duration": 34,
    "start_time": "2025-02-15T13:11:53.045Z"
   },
   {
    "duration": 16,
    "start_time": "2025-02-15T13:11:53.082Z"
   },
   {
    "duration": 9,
    "start_time": "2025-02-15T13:11:53.100Z"
   },
   {
    "duration": 24,
    "start_time": "2025-02-15T13:11:53.111Z"
   },
   {
    "duration": 29,
    "start_time": "2025-02-15T13:11:53.136Z"
   },
   {
    "duration": 14,
    "start_time": "2025-02-15T13:11:53.166Z"
   },
   {
    "duration": 18,
    "start_time": "2025-02-15T13:11:53.181Z"
   },
   {
    "duration": 20,
    "start_time": "2025-02-15T13:11:53.201Z"
   },
   {
    "duration": 25,
    "start_time": "2025-02-15T13:11:53.223Z"
   },
   {
    "duration": 2902,
    "start_time": "2025-02-15T13:11:53.250Z"
   },
   {
    "duration": 608,
    "start_time": "2025-02-15T13:11:56.153Z"
   },
   {
    "duration": 2172,
    "start_time": "2025-02-15T13:11:56.764Z"
   },
   {
    "duration": 9,
    "start_time": "2025-02-15T13:11:58.937Z"
   },
   {
    "duration": 27,
    "start_time": "2025-02-15T13:11:58.948Z"
   },
   {
    "duration": 15,
    "start_time": "2025-02-15T13:11:58.977Z"
   },
   {
    "duration": 64,
    "start_time": "2025-02-15T13:11:58.993Z"
   },
   {
    "duration": 1742,
    "start_time": "2025-02-15T13:54:38.140Z"
   },
   {
    "duration": 1861,
    "start_time": "2025-02-15T13:55:13.157Z"
   },
   {
    "duration": 1835,
    "start_time": "2025-02-15T13:58:02.344Z"
   },
   {
    "duration": 1757,
    "start_time": "2025-02-15T13:59:04.440Z"
   },
   {
    "duration": 125,
    "start_time": "2025-02-15T14:44:51.687Z"
   },
   {
    "duration": 1515,
    "start_time": "2025-02-15T14:45:30.516Z"
   },
   {
    "duration": 0,
    "start_time": "2025-02-15T14:45:32.034Z"
   },
   {
    "duration": 0,
    "start_time": "2025-02-15T14:45:32.036Z"
   },
   {
    "duration": 0,
    "start_time": "2025-02-15T14:45:32.037Z"
   },
   {
    "duration": 0,
    "start_time": "2025-02-15T14:45:32.039Z"
   },
   {
    "duration": 0,
    "start_time": "2025-02-15T14:45:32.041Z"
   },
   {
    "duration": 0,
    "start_time": "2025-02-15T14:45:32.042Z"
   },
   {
    "duration": 0,
    "start_time": "2025-02-15T14:45:32.043Z"
   },
   {
    "duration": 0,
    "start_time": "2025-02-15T14:45:32.045Z"
   },
   {
    "duration": 0,
    "start_time": "2025-02-15T14:45:32.061Z"
   },
   {
    "duration": 0,
    "start_time": "2025-02-15T14:45:32.062Z"
   },
   {
    "duration": 0,
    "start_time": "2025-02-15T14:45:32.064Z"
   },
   {
    "duration": 0,
    "start_time": "2025-02-15T14:45:32.065Z"
   },
   {
    "duration": 0,
    "start_time": "2025-02-15T14:45:32.067Z"
   },
   {
    "duration": 0,
    "start_time": "2025-02-15T14:45:32.068Z"
   },
   {
    "duration": 0,
    "start_time": "2025-02-15T14:45:32.069Z"
   },
   {
    "duration": 0,
    "start_time": "2025-02-15T14:45:32.071Z"
   },
   {
    "duration": 0,
    "start_time": "2025-02-15T14:45:32.072Z"
   },
   {
    "duration": 0,
    "start_time": "2025-02-15T14:45:32.073Z"
   },
   {
    "duration": 0,
    "start_time": "2025-02-15T14:45:32.075Z"
   },
   {
    "duration": 0,
    "start_time": "2025-02-15T14:45:32.076Z"
   },
   {
    "duration": 0,
    "start_time": "2025-02-15T14:45:32.077Z"
   },
   {
    "duration": 0,
    "start_time": "2025-02-15T14:45:32.079Z"
   },
   {
    "duration": 0,
    "start_time": "2025-02-15T14:45:32.080Z"
   },
   {
    "duration": 0,
    "start_time": "2025-02-15T14:45:32.080Z"
   },
   {
    "duration": 0,
    "start_time": "2025-02-15T14:45:32.081Z"
   },
   {
    "duration": 0,
    "start_time": "2025-02-15T14:45:32.082Z"
   },
   {
    "duration": 0,
    "start_time": "2025-02-15T14:45:32.084Z"
   },
   {
    "duration": 0,
    "start_time": "2025-02-15T14:45:32.085Z"
   },
   {
    "duration": 0,
    "start_time": "2025-02-15T14:45:32.086Z"
   },
   {
    "duration": 1528,
    "start_time": "2025-02-15T14:45:50.784Z"
   },
   {
    "duration": 0,
    "start_time": "2025-02-15T14:45:52.314Z"
   },
   {
    "duration": 0,
    "start_time": "2025-02-15T14:45:52.315Z"
   },
   {
    "duration": 1,
    "start_time": "2025-02-15T14:45:52.316Z"
   },
   {
    "duration": 0,
    "start_time": "2025-02-15T14:45:52.317Z"
   },
   {
    "duration": 0,
    "start_time": "2025-02-15T14:45:52.318Z"
   },
   {
    "duration": 0,
    "start_time": "2025-02-15T14:45:52.319Z"
   },
   {
    "duration": 0,
    "start_time": "2025-02-15T14:45:52.320Z"
   },
   {
    "duration": 0,
    "start_time": "2025-02-15T14:45:52.321Z"
   },
   {
    "duration": 0,
    "start_time": "2025-02-15T14:45:52.322Z"
   },
   {
    "duration": 0,
    "start_time": "2025-02-15T14:45:52.323Z"
   },
   {
    "duration": 0,
    "start_time": "2025-02-15T14:45:52.323Z"
   },
   {
    "duration": 0,
    "start_time": "2025-02-15T14:45:52.324Z"
   },
   {
    "duration": 0,
    "start_time": "2025-02-15T14:45:52.325Z"
   },
   {
    "duration": 0,
    "start_time": "2025-02-15T14:45:52.326Z"
   },
   {
    "duration": 0,
    "start_time": "2025-02-15T14:45:52.327Z"
   },
   {
    "duration": 0,
    "start_time": "2025-02-15T14:45:52.328Z"
   },
   {
    "duration": 0,
    "start_time": "2025-02-15T14:45:52.329Z"
   },
   {
    "duration": 0,
    "start_time": "2025-02-15T14:45:52.330Z"
   },
   {
    "duration": 0,
    "start_time": "2025-02-15T14:45:52.361Z"
   },
   {
    "duration": 0,
    "start_time": "2025-02-15T14:45:52.362Z"
   },
   {
    "duration": 0,
    "start_time": "2025-02-15T14:45:52.364Z"
   },
   {
    "duration": 0,
    "start_time": "2025-02-15T14:45:52.365Z"
   },
   {
    "duration": 0,
    "start_time": "2025-02-15T14:45:52.366Z"
   },
   {
    "duration": 0,
    "start_time": "2025-02-15T14:45:52.367Z"
   },
   {
    "duration": 0,
    "start_time": "2025-02-15T14:45:52.368Z"
   },
   {
    "duration": 0,
    "start_time": "2025-02-15T14:45:52.369Z"
   },
   {
    "duration": 0,
    "start_time": "2025-02-15T14:45:52.370Z"
   },
   {
    "duration": 0,
    "start_time": "2025-02-15T14:45:52.371Z"
   },
   {
    "duration": 0,
    "start_time": "2025-02-15T14:45:52.372Z"
   },
   {
    "duration": 3509,
    "start_time": "2025-02-15T14:46:19.336Z"
   },
   {
    "duration": 1433,
    "start_time": "2025-02-15T14:46:32.472Z"
   },
   {
    "duration": 84,
    "start_time": "2025-02-15T14:46:33.908Z"
   },
   {
    "duration": 19,
    "start_time": "2025-02-15T14:46:33.993Z"
   },
   {
    "duration": 11,
    "start_time": "2025-02-15T14:46:34.014Z"
   },
   {
    "duration": 30,
    "start_time": "2025-02-15T14:46:34.027Z"
   },
   {
    "duration": 28,
    "start_time": "2025-02-15T14:46:34.059Z"
   },
   {
    "duration": 7,
    "start_time": "2025-02-15T14:46:34.088Z"
   },
   {
    "duration": 19,
    "start_time": "2025-02-15T14:46:34.096Z"
   },
   {
    "duration": 18,
    "start_time": "2025-02-15T14:46:34.117Z"
   },
   {
    "duration": 16,
    "start_time": "2025-02-15T14:46:34.137Z"
   },
   {
    "duration": 5,
    "start_time": "2025-02-15T14:46:34.154Z"
   },
   {
    "duration": 33,
    "start_time": "2025-02-15T14:46:34.160Z"
   },
   {
    "duration": 18,
    "start_time": "2025-02-15T14:46:34.194Z"
   },
   {
    "duration": 14,
    "start_time": "2025-02-15T14:46:34.214Z"
   },
   {
    "duration": 11,
    "start_time": "2025-02-15T14:46:34.230Z"
   },
   {
    "duration": 15,
    "start_time": "2025-02-15T14:46:34.242Z"
   },
   {
    "duration": 6,
    "start_time": "2025-02-15T14:46:34.258Z"
   },
   {
    "duration": 16,
    "start_time": "2025-02-15T14:46:34.266Z"
   },
   {
    "duration": 4,
    "start_time": "2025-02-15T14:46:34.283Z"
   },
   {
    "duration": 5,
    "start_time": "2025-02-15T14:46:34.288Z"
   },
   {
    "duration": 10,
    "start_time": "2025-02-15T14:46:34.294Z"
   },
   {
    "duration": 4,
    "start_time": "2025-02-15T14:46:34.306Z"
   },
   {
    "duration": 2676,
    "start_time": "2025-02-15T14:46:34.311Z"
   },
   {
    "duration": 599,
    "start_time": "2025-02-15T14:46:36.989Z"
   },
   {
    "duration": 2031,
    "start_time": "2025-02-15T14:46:37.589Z"
   },
   {
    "duration": 8,
    "start_time": "2025-02-15T14:46:39.621Z"
   },
   {
    "duration": 36,
    "start_time": "2025-02-15T14:46:39.630Z"
   },
   {
    "duration": 27,
    "start_time": "2025-02-15T14:46:39.668Z"
   },
   {
    "duration": 31,
    "start_time": "2025-02-15T14:46:39.696Z"
   },
   {
    "duration": 2848,
    "start_time": "2025-02-15T14:46:39.729Z"
   },
   {
    "duration": 111,
    "start_time": "2025-02-15T14:47:12.209Z"
   },
   {
    "duration": 9,
    "start_time": "2025-02-15T14:47:43.102Z"
   },
   {
    "duration": 26,
    "start_time": "2025-02-15T14:50:37.324Z"
   },
   {
    "duration": 10,
    "start_time": "2025-02-15T14:50:53.270Z"
   },
   {
    "duration": 1342,
    "start_time": "2025-02-15T14:51:26.821Z"
   },
   {
    "duration": 79,
    "start_time": "2025-02-15T14:51:28.165Z"
   },
   {
    "duration": 16,
    "start_time": "2025-02-15T14:51:28.246Z"
   },
   {
    "duration": 11,
    "start_time": "2025-02-15T14:51:28.264Z"
   },
   {
    "duration": 21,
    "start_time": "2025-02-15T14:51:28.277Z"
   },
   {
    "duration": 12,
    "start_time": "2025-02-15T14:51:28.300Z"
   },
   {
    "duration": 6,
    "start_time": "2025-02-15T14:51:28.314Z"
   },
   {
    "duration": 12,
    "start_time": "2025-02-15T14:51:28.322Z"
   },
   {
    "duration": 27,
    "start_time": "2025-02-15T14:51:28.335Z"
   },
   {
    "duration": 10,
    "start_time": "2025-02-15T14:51:28.364Z"
   },
   {
    "duration": 5,
    "start_time": "2025-02-15T14:51:28.375Z"
   },
   {
    "duration": 4,
    "start_time": "2025-02-15T14:51:28.382Z"
   },
   {
    "duration": 10,
    "start_time": "2025-02-15T14:51:28.387Z"
   },
   {
    "duration": 10,
    "start_time": "2025-02-15T14:51:28.398Z"
   },
   {
    "duration": 11,
    "start_time": "2025-02-15T14:51:28.410Z"
   },
   {
    "duration": 13,
    "start_time": "2025-02-15T14:51:28.422Z"
   },
   {
    "duration": 29,
    "start_time": "2025-02-15T14:51:28.436Z"
   },
   {
    "duration": 9,
    "start_time": "2025-02-15T14:51:28.466Z"
   },
   {
    "duration": 3,
    "start_time": "2025-02-15T14:51:28.477Z"
   },
   {
    "duration": 20,
    "start_time": "2025-02-15T14:51:28.481Z"
   },
   {
    "duration": 15,
    "start_time": "2025-02-15T14:51:28.503Z"
   },
   {
    "duration": 7,
    "start_time": "2025-02-15T14:51:28.519Z"
   },
   {
    "duration": 2784,
    "start_time": "2025-02-15T14:51:28.527Z"
   },
   {
    "duration": 604,
    "start_time": "2025-02-15T14:51:31.313Z"
   },
   {
    "duration": 2000,
    "start_time": "2025-02-15T14:51:31.918Z"
   },
   {
    "duration": 11,
    "start_time": "2025-02-15T14:51:33.921Z"
   },
   {
    "duration": 31,
    "start_time": "2025-02-15T14:51:33.933Z"
   },
   {
    "duration": 25,
    "start_time": "2025-02-15T14:51:33.966Z"
   },
   {
    "duration": 32,
    "start_time": "2025-02-15T14:51:33.993Z"
   },
   {
    "duration": 115,
    "start_time": "2025-02-15T14:51:34.027Z"
   },
   {
    "duration": 2612,
    "start_time": "2025-02-15T14:52:42.466Z"
   },
   {
    "duration": 55,
    "start_time": "2025-02-15T19:15:20.401Z"
   },
   {
    "duration": 1758,
    "start_time": "2025-02-15T19:15:36.100Z"
   },
   {
    "duration": 0,
    "start_time": "2025-02-15T19:15:37.860Z"
   },
   {
    "duration": 0,
    "start_time": "2025-02-15T19:15:37.861Z"
   },
   {
    "duration": 0,
    "start_time": "2025-02-15T19:15:37.862Z"
   },
   {
    "duration": 0,
    "start_time": "2025-02-15T19:15:37.863Z"
   },
   {
    "duration": 0,
    "start_time": "2025-02-15T19:15:37.864Z"
   },
   {
    "duration": 0,
    "start_time": "2025-02-15T19:15:37.865Z"
   },
   {
    "duration": 0,
    "start_time": "2025-02-15T19:15:37.866Z"
   },
   {
    "duration": 0,
    "start_time": "2025-02-15T19:15:37.867Z"
   },
   {
    "duration": 0,
    "start_time": "2025-02-15T19:15:37.869Z"
   },
   {
    "duration": 0,
    "start_time": "2025-02-15T19:15:37.870Z"
   },
   {
    "duration": 0,
    "start_time": "2025-02-15T19:15:37.871Z"
   },
   {
    "duration": 0,
    "start_time": "2025-02-15T19:15:37.872Z"
   },
   {
    "duration": 0,
    "start_time": "2025-02-15T19:15:37.873Z"
   },
   {
    "duration": 0,
    "start_time": "2025-02-15T19:15:37.874Z"
   },
   {
    "duration": 0,
    "start_time": "2025-02-15T19:15:37.875Z"
   },
   {
    "duration": 0,
    "start_time": "2025-02-15T19:15:37.876Z"
   },
   {
    "duration": 0,
    "start_time": "2025-02-15T19:15:37.877Z"
   },
   {
    "duration": 0,
    "start_time": "2025-02-15T19:15:37.878Z"
   },
   {
    "duration": 0,
    "start_time": "2025-02-15T19:15:37.879Z"
   },
   {
    "duration": 0,
    "start_time": "2025-02-15T19:15:37.880Z"
   },
   {
    "duration": 0,
    "start_time": "2025-02-15T19:15:37.881Z"
   },
   {
    "duration": 0,
    "start_time": "2025-02-15T19:15:37.882Z"
   },
   {
    "duration": 0,
    "start_time": "2025-02-15T19:15:37.883Z"
   },
   {
    "duration": 0,
    "start_time": "2025-02-15T19:15:37.884Z"
   },
   {
    "duration": 0,
    "start_time": "2025-02-15T19:15:37.885Z"
   },
   {
    "duration": 0,
    "start_time": "2025-02-15T19:15:37.886Z"
   },
   {
    "duration": 0,
    "start_time": "2025-02-15T19:15:37.887Z"
   },
   {
    "duration": 0,
    "start_time": "2025-02-15T19:15:37.888Z"
   },
   {
    "duration": 0,
    "start_time": "2025-02-15T19:15:37.889Z"
   },
   {
    "duration": 5673,
    "start_time": "2025-02-15T19:16:02.436Z"
   },
   {
    "duration": 72,
    "start_time": "2025-02-15T19:16:19.278Z"
   },
   {
    "duration": 77,
    "start_time": "2025-02-15T19:16:19.388Z"
   },
   {
    "duration": 36,
    "start_time": "2025-02-15T19:16:19.467Z"
   },
   {
    "duration": 108,
    "start_time": "2025-02-15T19:16:19.505Z"
   },
   {
    "duration": 8,
    "start_time": "2025-02-15T19:16:19.614Z"
   },
   {
    "duration": 19,
    "start_time": "2025-02-15T19:16:19.624Z"
   },
   {
    "duration": 14,
    "start_time": "2025-02-15T19:16:19.645Z"
   },
   {
    "duration": 12,
    "start_time": "2025-02-15T19:16:19.661Z"
   },
   {
    "duration": 10,
    "start_time": "2025-02-15T19:16:19.674Z"
   },
   {
    "duration": 10,
    "start_time": "2025-02-15T19:16:19.685Z"
   },
   {
    "duration": 15,
    "start_time": "2025-02-15T19:16:19.697Z"
   },
   {
    "duration": 11,
    "start_time": "2025-02-15T19:16:19.714Z"
   },
   {
    "duration": 7,
    "start_time": "2025-02-15T19:16:19.726Z"
   },
   {
    "duration": 16,
    "start_time": "2025-02-15T19:16:19.734Z"
   },
   {
    "duration": 10,
    "start_time": "2025-02-15T19:16:19.753Z"
   },
   {
    "duration": 15,
    "start_time": "2025-02-15T19:16:19.765Z"
   },
   {
    "duration": 21,
    "start_time": "2025-02-15T19:16:19.781Z"
   },
   {
    "duration": 51,
    "start_time": "2025-02-15T19:16:19.803Z"
   },
   {
    "duration": 18,
    "start_time": "2025-02-15T19:16:19.855Z"
   },
   {
    "duration": 14,
    "start_time": "2025-02-15T19:16:19.876Z"
   },
   {
    "duration": 7,
    "start_time": "2025-02-15T19:16:19.892Z"
   },
   {
    "duration": 8,
    "start_time": "2025-02-15T19:16:19.900Z"
   },
   {
    "duration": 2707,
    "start_time": "2025-02-15T19:16:19.932Z"
   },
   {
    "duration": 590,
    "start_time": "2025-02-15T19:16:22.647Z"
   },
   {
    "duration": 2144,
    "start_time": "2025-02-15T19:16:23.238Z"
   },
   {
    "duration": 8,
    "start_time": "2025-02-15T19:16:25.383Z"
   },
   {
    "duration": 123,
    "start_time": "2025-02-15T19:16:25.392Z"
   },
   {
    "duration": 383,
    "start_time": "2025-02-15T19:16:25.516Z"
   },
   {
    "duration": 0,
    "start_time": "2025-02-15T19:16:25.901Z"
   },
   {
    "duration": 0,
    "start_time": "2025-02-15T19:16:25.902Z"
   },
   {
    "duration": 1090,
    "start_time": "2025-02-15T19:17:03.463Z"
   },
   {
    "duration": 62,
    "start_time": "2025-02-15T19:17:18.044Z"
   },
   {
    "duration": 82,
    "start_time": "2025-02-15T19:17:18.201Z"
   },
   {
    "duration": 15,
    "start_time": "2025-02-15T19:17:18.285Z"
   },
   {
    "duration": 19,
    "start_time": "2025-02-15T19:17:18.301Z"
   },
   {
    "duration": 11,
    "start_time": "2025-02-15T19:17:18.321Z"
   },
   {
    "duration": 19,
    "start_time": "2025-02-15T19:17:18.334Z"
   },
   {
    "duration": 7,
    "start_time": "2025-02-15T19:17:18.355Z"
   },
   {
    "duration": 12,
    "start_time": "2025-02-15T19:17:18.364Z"
   },
   {
    "duration": 29,
    "start_time": "2025-02-15T19:17:18.378Z"
   },
   {
    "duration": 18,
    "start_time": "2025-02-15T19:17:18.409Z"
   },
   {
    "duration": 11,
    "start_time": "2025-02-15T19:17:18.428Z"
   },
   {
    "duration": 39,
    "start_time": "2025-02-15T19:17:18.466Z"
   },
   {
    "duration": 89,
    "start_time": "2025-02-15T19:17:18.507Z"
   },
   {
    "duration": 18,
    "start_time": "2025-02-15T19:17:18.598Z"
   },
   {
    "duration": 12,
    "start_time": "2025-02-15T19:17:18.618Z"
   },
   {
    "duration": 9,
    "start_time": "2025-02-15T19:17:18.632Z"
   },
   {
    "duration": 14,
    "start_time": "2025-02-15T19:17:18.642Z"
   },
   {
    "duration": 5,
    "start_time": "2025-02-15T19:17:18.658Z"
   },
   {
    "duration": 4,
    "start_time": "2025-02-15T19:17:18.665Z"
   },
   {
    "duration": 4,
    "start_time": "2025-02-15T19:17:18.741Z"
   },
   {
    "duration": 8,
    "start_time": "2025-02-15T19:17:18.747Z"
   },
   {
    "duration": 7,
    "start_time": "2025-02-15T19:17:18.757Z"
   },
   {
    "duration": 2800,
    "start_time": "2025-02-15T19:17:18.880Z"
   },
   {
    "duration": 629,
    "start_time": "2025-02-15T19:17:21.682Z"
   },
   {
    "duration": 2005,
    "start_time": "2025-02-15T19:17:22.313Z"
   },
   {
    "duration": 8,
    "start_time": "2025-02-15T19:17:24.320Z"
   },
   {
    "duration": 27,
    "start_time": "2025-02-15T19:17:24.329Z"
   },
   {
    "duration": 13,
    "start_time": "2025-02-15T19:17:24.358Z"
   },
   {
    "duration": 207,
    "start_time": "2025-02-15T19:17:24.372Z"
   },
   {
    "duration": 2715,
    "start_time": "2025-02-15T19:17:24.581Z"
   },
   {
    "duration": 22,
    "start_time": "2025-02-15T19:18:12.700Z"
   },
   {
    "duration": 21,
    "start_time": "2025-02-15T19:18:29.065Z"
   },
   {
    "duration": 33,
    "start_time": "2025-02-15T19:19:33.963Z"
   },
   {
    "duration": 2642,
    "start_time": "2025-02-15T19:19:40.890Z"
   },
   {
    "duration": 1477,
    "start_time": "2025-02-15T21:39:55.012Z"
   },
   {
    "duration": 80,
    "start_time": "2025-02-15T21:39:56.490Z"
   },
   {
    "duration": 15,
    "start_time": "2025-02-15T21:39:56.572Z"
   },
   {
    "duration": 13,
    "start_time": "2025-02-15T21:39:56.589Z"
   },
   {
    "duration": 15,
    "start_time": "2025-02-15T21:39:56.603Z"
   },
   {
    "duration": 41,
    "start_time": "2025-02-15T21:39:56.619Z"
   },
   {
    "duration": 24,
    "start_time": "2025-02-15T21:39:56.662Z"
   },
   {
    "duration": 10,
    "start_time": "2025-02-15T21:39:56.688Z"
   },
   {
    "duration": 21,
    "start_time": "2025-02-15T21:39:56.699Z"
   },
   {
    "duration": 12,
    "start_time": "2025-02-15T21:39:56.722Z"
   },
   {
    "duration": 5,
    "start_time": "2025-02-15T21:39:56.736Z"
   },
   {
    "duration": 26,
    "start_time": "2025-02-15T21:39:56.742Z"
   },
   {
    "duration": 9,
    "start_time": "2025-02-15T21:39:56.769Z"
   },
   {
    "duration": 26,
    "start_time": "2025-02-15T21:39:56.779Z"
   },
   {
    "duration": 18,
    "start_time": "2025-02-15T21:39:56.806Z"
   },
   {
    "duration": 18,
    "start_time": "2025-02-15T21:39:56.825Z"
   },
   {
    "duration": 37,
    "start_time": "2025-02-15T21:39:56.844Z"
   },
   {
    "duration": 13,
    "start_time": "2025-02-15T21:39:56.883Z"
   },
   {
    "duration": 5,
    "start_time": "2025-02-15T21:39:56.898Z"
   },
   {
    "duration": 6,
    "start_time": "2025-02-15T21:39:56.905Z"
   },
   {
    "duration": 19,
    "start_time": "2025-02-15T21:39:56.912Z"
   },
   {
    "duration": 4,
    "start_time": "2025-02-15T21:39:56.933Z"
   },
   {
    "duration": 2838,
    "start_time": "2025-02-15T21:39:56.939Z"
   },
   {
    "duration": 634,
    "start_time": "2025-02-15T21:39:59.779Z"
   },
   {
    "duration": 2069,
    "start_time": "2025-02-15T21:40:00.415Z"
   },
   {
    "duration": 10,
    "start_time": "2025-02-15T21:40:02.485Z"
   },
   {
    "duration": 39,
    "start_time": "2025-02-15T21:40:02.497Z"
   },
   {
    "duration": 96,
    "start_time": "2025-02-15T21:40:02.539Z"
   },
   {
    "duration": 52,
    "start_time": "2025-02-15T21:40:02.637Z"
   },
   {
    "duration": 2746,
    "start_time": "2025-02-15T21:40:02.691Z"
   },
   {
    "duration": 122,
    "start_time": "2025-02-15T21:40:05.438Z"
   },
   {
    "duration": 0,
    "start_time": "2025-02-15T21:40:05.562Z"
   },
   {
    "duration": 23,
    "start_time": "2025-02-15T21:41:15.634Z"
   },
   {
    "duration": 20,
    "start_time": "2025-02-15T21:41:35.547Z"
   },
   {
    "duration": 21,
    "start_time": "2025-02-15T21:41:53.702Z"
   },
   {
    "duration": 13,
    "start_time": "2025-02-15T21:42:17.977Z"
   },
   {
    "duration": 8106,
    "start_time": "2025-02-15T21:42:20.812Z"
   },
   {
    "duration": 13,
    "start_time": "2025-02-15T21:44:08.293Z"
   },
   {
    "duration": 387,
    "start_time": "2025-02-15T21:44:10.405Z"
   },
   {
    "duration": 14,
    "start_time": "2025-02-15T21:45:29.068Z"
   },
   {
    "duration": 1535,
    "start_time": "2025-02-15T21:48:22.797Z"
   },
   {
    "duration": 93,
    "start_time": "2025-02-15T21:48:24.334Z"
   },
   {
    "duration": 17,
    "start_time": "2025-02-15T21:48:24.428Z"
   },
   {
    "duration": 13,
    "start_time": "2025-02-15T21:48:24.448Z"
   },
   {
    "duration": 9,
    "start_time": "2025-02-15T21:48:24.464Z"
   },
   {
    "duration": 15,
    "start_time": "2025-02-15T21:48:24.475Z"
   },
   {
    "duration": 9,
    "start_time": "2025-02-15T21:48:24.492Z"
   },
   {
    "duration": 14,
    "start_time": "2025-02-15T21:48:24.503Z"
   },
   {
    "duration": 44,
    "start_time": "2025-02-15T21:48:24.518Z"
   },
   {
    "duration": 14,
    "start_time": "2025-02-15T21:48:24.564Z"
   },
   {
    "duration": 5,
    "start_time": "2025-02-15T21:48:24.580Z"
   },
   {
    "duration": 6,
    "start_time": "2025-02-15T21:48:24.587Z"
   },
   {
    "duration": 10,
    "start_time": "2025-02-15T21:48:24.595Z"
   },
   {
    "duration": 12,
    "start_time": "2025-02-15T21:48:24.608Z"
   },
   {
    "duration": 44,
    "start_time": "2025-02-15T21:48:24.621Z"
   },
   {
    "duration": 7,
    "start_time": "2025-02-15T21:48:24.667Z"
   },
   {
    "duration": 12,
    "start_time": "2025-02-15T21:48:24.676Z"
   },
   {
    "duration": 10,
    "start_time": "2025-02-15T21:48:24.690Z"
   },
   {
    "duration": 5,
    "start_time": "2025-02-15T21:48:24.702Z"
   },
   {
    "duration": 5,
    "start_time": "2025-02-15T21:48:24.708Z"
   },
   {
    "duration": 5,
    "start_time": "2025-02-15T21:48:24.715Z"
   },
   {
    "duration": 36,
    "start_time": "2025-02-15T21:48:24.721Z"
   },
   {
    "duration": 3023,
    "start_time": "2025-02-15T21:48:24.760Z"
   },
   {
    "duration": 687,
    "start_time": "2025-02-15T21:48:27.785Z"
   },
   {
    "duration": 2197,
    "start_time": "2025-02-15T21:48:28.473Z"
   },
   {
    "duration": 9,
    "start_time": "2025-02-15T21:48:30.671Z"
   },
   {
    "duration": 27,
    "start_time": "2025-02-15T21:48:30.681Z"
   },
   {
    "duration": 14,
    "start_time": "2025-02-15T21:48:30.710Z"
   },
   {
    "duration": 48,
    "start_time": "2025-02-15T21:48:30.725Z"
   },
   {
    "duration": 2870,
    "start_time": "2025-02-15T21:48:30.774Z"
   },
   {
    "duration": 19,
    "start_time": "2025-02-15T21:48:33.649Z"
   },
   {
    "duration": 1468,
    "start_time": "2025-02-15T21:58:15.622Z"
   },
   {
    "duration": 79,
    "start_time": "2025-02-15T21:58:17.091Z"
   },
   {
    "duration": 17,
    "start_time": "2025-02-15T21:58:17.171Z"
   },
   {
    "duration": 72,
    "start_time": "2025-02-15T21:58:17.190Z"
   },
   {
    "duration": 72,
    "start_time": "2025-02-15T21:58:17.265Z"
   },
   {
    "duration": 14,
    "start_time": "2025-02-15T21:58:17.338Z"
   },
   {
    "duration": 16,
    "start_time": "2025-02-15T21:58:17.354Z"
   },
   {
    "duration": 15,
    "start_time": "2025-02-15T21:58:17.372Z"
   },
   {
    "duration": 11,
    "start_time": "2025-02-15T21:58:17.389Z"
   },
   {
    "duration": 15,
    "start_time": "2025-02-15T21:58:17.402Z"
   },
   {
    "duration": 37,
    "start_time": "2025-02-15T21:58:17.419Z"
   },
   {
    "duration": 7,
    "start_time": "2025-02-15T21:58:17.457Z"
   },
   {
    "duration": 7,
    "start_time": "2025-02-15T21:58:17.465Z"
   },
   {
    "duration": 100,
    "start_time": "2025-02-15T21:58:17.474Z"
   },
   {
    "duration": 16,
    "start_time": "2025-02-15T21:58:17.575Z"
   },
   {
    "duration": 8,
    "start_time": "2025-02-15T21:58:17.592Z"
   },
   {
    "duration": 17,
    "start_time": "2025-02-15T21:58:17.601Z"
   },
   {
    "duration": 4,
    "start_time": "2025-02-15T21:58:17.619Z"
   },
   {
    "duration": 11,
    "start_time": "2025-02-15T21:58:17.625Z"
   },
   {
    "duration": 6,
    "start_time": "2025-02-15T21:58:17.638Z"
   },
   {
    "duration": 5,
    "start_time": "2025-02-15T21:58:17.645Z"
   },
   {
    "duration": 14,
    "start_time": "2025-02-15T21:58:17.651Z"
   },
   {
    "duration": 2796,
    "start_time": "2025-02-15T21:58:17.666Z"
   },
   {
    "duration": 603,
    "start_time": "2025-02-15T21:58:20.464Z"
   },
   {
    "duration": 2061,
    "start_time": "2025-02-15T21:58:21.069Z"
   },
   {
    "duration": 17,
    "start_time": "2025-02-15T21:58:23.132Z"
   },
   {
    "duration": 16,
    "start_time": "2025-02-15T21:58:23.150Z"
   },
   {
    "duration": 39,
    "start_time": "2025-02-15T21:58:23.168Z"
   },
   {
    "duration": 85,
    "start_time": "2025-02-15T21:58:23.209Z"
   },
   {
    "duration": 2661,
    "start_time": "2025-02-15T21:58:23.295Z"
   },
   {
    "duration": 14,
    "start_time": "2025-02-15T21:58:25.958Z"
   },
   {
    "duration": 663537,
    "start_time": "2025-02-15T21:58:25.974Z"
   },
   {
    "duration": 24,
    "start_time": "2025-02-15T22:14:03.784Z"
   },
   {
    "duration": 32,
    "start_time": "2025-02-15T22:20:05.688Z"
   },
   {
    "duration": 1453,
    "start_time": "2025-02-15T23:07:20.823Z"
   },
   {
    "duration": 79,
    "start_time": "2025-02-15T23:07:22.278Z"
   },
   {
    "duration": 15,
    "start_time": "2025-02-15T23:07:22.359Z"
   },
   {
    "duration": 42,
    "start_time": "2025-02-15T23:07:22.376Z"
   },
   {
    "duration": 47,
    "start_time": "2025-02-15T23:07:22.420Z"
   },
   {
    "duration": 23,
    "start_time": "2025-02-15T23:07:22.469Z"
   },
   {
    "duration": 17,
    "start_time": "2025-02-15T23:07:22.494Z"
   },
   {
    "duration": 21,
    "start_time": "2025-02-15T23:07:22.513Z"
   },
   {
    "duration": 16,
    "start_time": "2025-02-15T23:07:22.536Z"
   },
   {
    "duration": 126,
    "start_time": "2025-02-15T23:07:22.554Z"
   },
   {
    "duration": 88,
    "start_time": "2025-02-15T23:07:22.682Z"
   },
   {
    "duration": 20,
    "start_time": "2025-02-15T23:07:22.772Z"
   },
   {
    "duration": 13,
    "start_time": "2025-02-15T23:07:22.794Z"
   },
   {
    "duration": 33,
    "start_time": "2025-02-15T23:07:22.808Z"
   },
   {
    "duration": 20,
    "start_time": "2025-02-15T23:07:22.843Z"
   },
   {
    "duration": 25,
    "start_time": "2025-02-15T23:07:22.865Z"
   },
   {
    "duration": 39,
    "start_time": "2025-02-15T23:07:22.892Z"
   },
   {
    "duration": 15,
    "start_time": "2025-02-15T23:07:22.933Z"
   },
   {
    "duration": 24,
    "start_time": "2025-02-15T23:07:22.950Z"
   },
   {
    "duration": 19,
    "start_time": "2025-02-15T23:07:22.976Z"
   },
   {
    "duration": 36,
    "start_time": "2025-02-15T23:07:22.996Z"
   },
   {
    "duration": 29,
    "start_time": "2025-02-15T23:07:23.033Z"
   },
   {
    "duration": 2870,
    "start_time": "2025-02-15T23:07:23.063Z"
   },
   {
    "duration": 587,
    "start_time": "2025-02-15T23:07:25.935Z"
   },
   {
    "duration": 2067,
    "start_time": "2025-02-15T23:07:26.524Z"
   },
   {
    "duration": 8,
    "start_time": "2025-02-15T23:07:28.592Z"
   },
   {
    "duration": 13,
    "start_time": "2025-02-15T23:07:28.602Z"
   },
   {
    "duration": 35,
    "start_time": "2025-02-15T23:07:28.618Z"
   },
   {
    "duration": 32,
    "start_time": "2025-02-15T23:07:28.654Z"
   },
   {
    "duration": 2653,
    "start_time": "2025-02-15T23:07:28.688Z"
   },
   {
    "duration": 17,
    "start_time": "2025-02-15T23:07:31.343Z"
   },
   {
    "duration": 160,
    "start_time": "2025-02-15T23:07:31.362Z"
   },
   {
    "duration": 2777,
    "start_time": "2025-02-15T23:07:31.523Z"
   },
   {
    "duration": 13,
    "start_time": "2025-02-15T23:19:12.584Z"
   },
   {
    "duration": 1547,
    "start_time": "2025-02-15T23:19:23.348Z"
   },
   {
    "duration": 81,
    "start_time": "2025-02-15T23:19:24.897Z"
   },
   {
    "duration": 15,
    "start_time": "2025-02-15T23:19:24.979Z"
   },
   {
    "duration": 11,
    "start_time": "2025-02-15T23:19:24.996Z"
   },
   {
    "duration": 13,
    "start_time": "2025-02-15T23:19:25.009Z"
   },
   {
    "duration": 17,
    "start_time": "2025-02-15T23:19:25.024Z"
   },
   {
    "duration": 43,
    "start_time": "2025-02-15T23:19:25.043Z"
   },
   {
    "duration": 20,
    "start_time": "2025-02-15T23:19:25.088Z"
   },
   {
    "duration": 26,
    "start_time": "2025-02-15T23:19:25.110Z"
   },
   {
    "duration": 50,
    "start_time": "2025-02-15T23:19:25.138Z"
   },
   {
    "duration": 21,
    "start_time": "2025-02-15T23:19:25.190Z"
   },
   {
    "duration": 16,
    "start_time": "2025-02-15T23:19:25.213Z"
   },
   {
    "duration": 17,
    "start_time": "2025-02-15T23:19:25.230Z"
   },
   {
    "duration": 30,
    "start_time": "2025-02-15T23:19:25.251Z"
   },
   {
    "duration": 28,
    "start_time": "2025-02-15T23:19:25.283Z"
   },
   {
    "duration": 33,
    "start_time": "2025-02-15T23:19:25.312Z"
   },
   {
    "duration": 102,
    "start_time": "2025-02-15T23:19:25.347Z"
   },
   {
    "duration": 4,
    "start_time": "2025-02-15T23:19:25.450Z"
   },
   {
    "duration": 15,
    "start_time": "2025-02-15T23:19:25.456Z"
   },
   {
    "duration": 5,
    "start_time": "2025-02-15T23:19:25.472Z"
   },
   {
    "duration": 11,
    "start_time": "2025-02-15T23:19:25.478Z"
   },
   {
    "duration": 19,
    "start_time": "2025-02-15T23:19:25.491Z"
   },
   {
    "duration": 2770,
    "start_time": "2025-02-15T23:19:25.512Z"
   },
   {
    "duration": 592,
    "start_time": "2025-02-15T23:19:28.284Z"
   },
   {
    "duration": 2005,
    "start_time": "2025-02-15T23:19:28.878Z"
   },
   {
    "duration": 8,
    "start_time": "2025-02-15T23:19:30.885Z"
   },
   {
    "duration": 31,
    "start_time": "2025-02-15T23:19:30.894Z"
   },
   {
    "duration": 21,
    "start_time": "2025-02-15T23:19:30.927Z"
   },
   {
    "duration": 34,
    "start_time": "2025-02-15T23:19:30.949Z"
   },
   {
    "duration": 2567,
    "start_time": "2025-02-15T23:19:30.985Z"
   },
   {
    "duration": 13,
    "start_time": "2025-02-15T23:19:33.554Z"
   },
   {
    "duration": 162,
    "start_time": "2025-02-15T23:19:33.569Z"
   },
   {
    "duration": 1587,
    "start_time": "2025-02-15T23:19:33.733Z"
   },
   {
    "duration": 1471,
    "start_time": "2025-02-15T23:36:20.705Z"
   },
   {
    "duration": 1497,
    "start_time": "2025-02-15T23:39:22.945Z"
   },
   {
    "duration": 1463,
    "start_time": "2025-02-15T23:42:41.830Z"
   },
   {
    "duration": 1456,
    "start_time": "2025-02-15T23:43:58.604Z"
   },
   {
    "duration": 13,
    "start_time": "2025-02-15T23:46:17.833Z"
   },
   {
    "duration": 30,
    "start_time": "2025-02-15T23:46:20.572Z"
   },
   {
    "duration": 2141,
    "start_time": "2025-02-15T23:46:22.808Z"
   },
   {
    "duration": 13,
    "start_time": "2025-02-15T23:47:50.193Z"
   },
   {
    "duration": 31,
    "start_time": "2025-02-15T23:47:50.533Z"
   },
   {
    "duration": 11036,
    "start_time": "2025-02-15T23:47:53.903Z"
   },
   {
    "duration": 16,
    "start_time": "2025-02-15T23:50:08.199Z"
   },
   {
    "duration": 33,
    "start_time": "2025-02-15T23:50:08.625Z"
   },
   {
    "duration": 2766,
    "start_time": "2025-02-15T23:50:11.915Z"
   },
   {
    "duration": 13,
    "start_time": "2025-02-15T23:50:38.195Z"
   },
   {
    "duration": 29,
    "start_time": "2025-02-15T23:50:40.855Z"
   },
   {
    "duration": 1944,
    "start_time": "2025-02-15T23:50:42.390Z"
   },
   {
    "duration": 15,
    "start_time": "2025-02-15T23:53:07.234Z"
   },
   {
    "duration": 31,
    "start_time": "2025-02-15T23:53:07.485Z"
   },
   {
    "duration": 1852,
    "start_time": "2025-02-15T23:53:08.455Z"
   },
   {
    "duration": 13,
    "start_time": "2025-02-15T23:53:21.090Z"
   },
   {
    "duration": 44,
    "start_time": "2025-02-15T23:53:30.110Z"
   },
   {
    "duration": 2545,
    "start_time": "2025-02-15T23:53:34.335Z"
   },
   {
    "duration": 1597,
    "start_time": "2025-02-16T15:14:01.625Z"
   },
   {
    "duration": 80,
    "start_time": "2025-02-16T15:14:03.224Z"
   },
   {
    "duration": 17,
    "start_time": "2025-02-16T15:14:03.305Z"
   },
   {
    "duration": 19,
    "start_time": "2025-02-16T15:14:03.324Z"
   },
   {
    "duration": 10,
    "start_time": "2025-02-16T15:14:03.345Z"
   },
   {
    "duration": 21,
    "start_time": "2025-02-16T15:14:03.356Z"
   },
   {
    "duration": 20,
    "start_time": "2025-02-16T15:14:03.379Z"
   },
   {
    "duration": 11,
    "start_time": "2025-02-16T15:14:03.400Z"
   },
   {
    "duration": 32,
    "start_time": "2025-02-16T15:14:03.412Z"
   },
   {
    "duration": 21,
    "start_time": "2025-02-16T15:14:03.446Z"
   },
   {
    "duration": 7,
    "start_time": "2025-02-16T15:14:03.469Z"
   },
   {
    "duration": 22,
    "start_time": "2025-02-16T15:14:03.477Z"
   },
   {
    "duration": 14,
    "start_time": "2025-02-16T15:14:03.501Z"
   },
   {
    "duration": 17,
    "start_time": "2025-02-16T15:14:03.518Z"
   },
   {
    "duration": 17,
    "start_time": "2025-02-16T15:14:03.537Z"
   },
   {
    "duration": 15,
    "start_time": "2025-02-16T15:14:03.556Z"
   },
   {
    "duration": 22,
    "start_time": "2025-02-16T15:14:03.573Z"
   },
   {
    "duration": 22,
    "start_time": "2025-02-16T15:14:03.597Z"
   },
   {
    "duration": 17,
    "start_time": "2025-02-16T15:14:03.621Z"
   },
   {
    "duration": 8,
    "start_time": "2025-02-16T15:14:03.640Z"
   },
   {
    "duration": 22,
    "start_time": "2025-02-16T15:14:03.650Z"
   },
   {
    "duration": 8,
    "start_time": "2025-02-16T15:14:03.673Z"
   },
   {
    "duration": 4265,
    "start_time": "2025-02-16T15:14:03.682Z"
   },
   {
    "duration": 1296,
    "start_time": "2025-02-16T15:14:07.949Z"
   },
   {
    "duration": 2321,
    "start_time": "2025-02-16T15:14:09.246Z"
   },
   {
    "duration": 9,
    "start_time": "2025-02-16T15:14:11.569Z"
   },
   {
    "duration": 33,
    "start_time": "2025-02-16T15:14:11.580Z"
   },
   {
    "duration": 23,
    "start_time": "2025-02-16T15:14:11.615Z"
   },
   {
    "duration": 37,
    "start_time": "2025-02-16T15:14:11.639Z"
   },
   {
    "duration": 2959,
    "start_time": "2025-02-16T15:14:11.678Z"
   },
   {
    "duration": 16,
    "start_time": "2025-02-16T15:14:14.639Z"
   },
   {
    "duration": 37,
    "start_time": "2025-02-16T15:14:14.657Z"
   },
   {
    "duration": 2962,
    "start_time": "2025-02-16T15:14:14.696Z"
   },
   {
    "duration": 178,
    "start_time": "2025-02-16T15:14:17.660Z"
   },
   {
    "duration": 12289,
    "start_time": "2025-02-16T15:14:52.427Z"
   },
   {
    "duration": 19,
    "start_time": "2025-02-16T15:15:18.901Z"
   },
   {
    "duration": 11,
    "start_time": "2025-02-16T15:15:22.393Z"
   },
   {
    "duration": 1644,
    "start_time": "2025-02-16T15:15:27.475Z"
   },
   {
    "duration": 83,
    "start_time": "2025-02-16T15:15:29.122Z"
   },
   {
    "duration": 19,
    "start_time": "2025-02-16T15:15:29.207Z"
   },
   {
    "duration": 14,
    "start_time": "2025-02-16T15:15:29.228Z"
   },
   {
    "duration": 12,
    "start_time": "2025-02-16T15:15:29.245Z"
   },
   {
    "duration": 12,
    "start_time": "2025-02-16T15:15:29.259Z"
   },
   {
    "duration": 8,
    "start_time": "2025-02-16T15:15:29.273Z"
   },
   {
    "duration": 13,
    "start_time": "2025-02-16T15:15:29.283Z"
   },
   {
    "duration": 44,
    "start_time": "2025-02-16T15:15:29.298Z"
   },
   {
    "duration": 31,
    "start_time": "2025-02-16T15:15:29.344Z"
   },
   {
    "duration": 11,
    "start_time": "2025-02-16T15:15:29.377Z"
   },
   {
    "duration": 9,
    "start_time": "2025-02-16T15:15:29.391Z"
   },
   {
    "duration": 7,
    "start_time": "2025-02-16T15:15:29.401Z"
   },
   {
    "duration": 28,
    "start_time": "2025-02-16T15:15:29.411Z"
   },
   {
    "duration": 14,
    "start_time": "2025-02-16T15:15:29.441Z"
   },
   {
    "duration": 12,
    "start_time": "2025-02-16T15:15:29.457Z"
   },
   {
    "duration": 8,
    "start_time": "2025-02-16T15:15:29.471Z"
   },
   {
    "duration": 14,
    "start_time": "2025-02-16T15:15:29.481Z"
   },
   {
    "duration": 4,
    "start_time": "2025-02-16T15:15:29.497Z"
   },
   {
    "duration": 29,
    "start_time": "2025-02-16T15:15:29.503Z"
   },
   {
    "duration": 12,
    "start_time": "2025-02-16T15:15:29.535Z"
   },
   {
    "duration": 14,
    "start_time": "2025-02-16T15:15:29.549Z"
   },
   {
    "duration": 3180,
    "start_time": "2025-02-16T15:15:29.565Z"
   },
   {
    "duration": 695,
    "start_time": "2025-02-16T15:15:32.747Z"
   },
   {
    "duration": 2326,
    "start_time": "2025-02-16T15:15:33.444Z"
   },
   {
    "duration": 10,
    "start_time": "2025-02-16T15:15:35.772Z"
   },
   {
    "duration": 77,
    "start_time": "2025-02-16T15:15:35.784Z"
   },
   {
    "duration": 35,
    "start_time": "2025-02-16T15:15:35.864Z"
   },
   {
    "duration": 65,
    "start_time": "2025-02-16T15:15:35.902Z"
   },
   {
    "duration": 3056,
    "start_time": "2025-02-16T15:15:35.969Z"
   },
   {
    "duration": 15,
    "start_time": "2025-02-16T15:15:39.027Z"
   },
   {
    "duration": 72,
    "start_time": "2025-02-16T15:15:39.043Z"
   },
   {
    "duration": 2859,
    "start_time": "2025-02-16T15:15:39.116Z"
   },
   {
    "duration": 127,
    "start_time": "2025-02-16T15:15:41.977Z"
   },
   {
    "duration": 2212,
    "start_time": "2025-02-16T15:16:37.499Z"
   },
   {
    "duration": 78,
    "start_time": "2025-02-16T15:16:39.713Z"
   },
   {
    "duration": 19,
    "start_time": "2025-02-16T15:16:39.793Z"
   },
   {
    "duration": 18,
    "start_time": "2025-02-16T15:16:39.813Z"
   },
   {
    "duration": 10,
    "start_time": "2025-02-16T15:16:39.833Z"
   },
   {
    "duration": 21,
    "start_time": "2025-02-16T15:16:39.845Z"
   },
   {
    "duration": 18,
    "start_time": "2025-02-16T15:16:39.867Z"
   },
   {
    "duration": 14,
    "start_time": "2025-02-16T15:16:39.887Z"
   },
   {
    "duration": 30,
    "start_time": "2025-02-16T15:16:39.903Z"
   },
   {
    "duration": 53,
    "start_time": "2025-02-16T15:16:39.935Z"
   },
   {
    "duration": 7,
    "start_time": "2025-02-16T15:16:39.990Z"
   },
   {
    "duration": 12,
    "start_time": "2025-02-16T15:16:39.998Z"
   },
   {
    "duration": 28,
    "start_time": "2025-02-16T15:16:40.012Z"
   },
   {
    "duration": 21,
    "start_time": "2025-02-16T15:16:40.045Z"
   },
   {
    "duration": 37,
    "start_time": "2025-02-16T15:16:40.068Z"
   },
   {
    "duration": 25,
    "start_time": "2025-02-16T15:16:40.106Z"
   },
   {
    "duration": 9,
    "start_time": "2025-02-16T15:16:40.133Z"
   },
   {
    "duration": 17,
    "start_time": "2025-02-16T15:16:40.144Z"
   },
   {
    "duration": 6,
    "start_time": "2025-02-16T15:16:40.163Z"
   },
   {
    "duration": 11,
    "start_time": "2025-02-16T15:16:40.171Z"
   },
   {
    "duration": 13,
    "start_time": "2025-02-16T15:16:40.184Z"
   },
   {
    "duration": 20,
    "start_time": "2025-02-16T15:16:40.198Z"
   },
   {
    "duration": 3127,
    "start_time": "2025-02-16T15:16:40.220Z"
   },
   {
    "duration": 832,
    "start_time": "2025-02-16T15:16:43.349Z"
   },
   {
    "duration": 2170,
    "start_time": "2025-02-16T15:16:44.183Z"
   },
   {
    "duration": 9,
    "start_time": "2025-02-16T15:16:46.355Z"
   },
   {
    "duration": 18,
    "start_time": "2025-02-16T15:16:46.366Z"
   },
   {
    "duration": 15,
    "start_time": "2025-02-16T15:16:46.386Z"
   },
   {
    "duration": 67,
    "start_time": "2025-02-16T15:16:46.402Z"
   },
   {
    "duration": 3234,
    "start_time": "2025-02-16T15:16:46.471Z"
   },
   {
    "duration": 16,
    "start_time": "2025-02-16T15:16:49.707Z"
   },
   {
    "duration": 40,
    "start_time": "2025-02-16T15:16:49.724Z"
   },
   {
    "duration": 2953,
    "start_time": "2025-02-16T15:16:49.766Z"
   },
   {
    "duration": 172,
    "start_time": "2025-02-16T15:16:52.721Z"
   },
   {
    "duration": 21,
    "start_time": "2025-02-16T15:18:38.133Z"
   },
   {
    "duration": 13,
    "start_time": "2025-02-16T15:20:23.917Z"
   },
   {
    "duration": 15,
    "start_time": "2025-02-16T15:20:30.606Z"
   },
   {
    "duration": 15,
    "start_time": "2025-02-16T15:21:31.017Z"
   },
   {
    "duration": 12,
    "start_time": "2025-02-16T15:22:07.381Z"
   },
   {
    "duration": 16,
    "start_time": "2025-02-16T15:22:23.613Z"
   },
   {
    "duration": 48,
    "start_time": "2025-02-16T15:24:01.042Z"
   },
   {
    "duration": 24,
    "start_time": "2025-02-16T15:25:11.854Z"
   },
   {
    "duration": 150378,
    "start_time": "2025-02-16T15:26:10.066Z"
   },
   {
    "duration": 152246,
    "start_time": "2025-02-16T15:31:01.323Z"
   },
   {
    "duration": 150053,
    "start_time": "2025-02-16T15:34:37.864Z"
   },
   {
    "duration": 154208,
    "start_time": "2025-02-16T15:38:34.880Z"
   },
   {
    "duration": 40,
    "start_time": "2025-02-16T15:43:52.856Z"
   },
   {
    "duration": 2161,
    "start_time": "2025-02-16T15:45:08.820Z"
   },
   {
    "duration": 80,
    "start_time": "2025-02-16T15:45:10.984Z"
   },
   {
    "duration": 21,
    "start_time": "2025-02-16T15:45:11.065Z"
   },
   {
    "duration": 16,
    "start_time": "2025-02-16T15:45:11.087Z"
   },
   {
    "duration": 8,
    "start_time": "2025-02-16T15:45:11.105Z"
   },
   {
    "duration": 13,
    "start_time": "2025-02-16T15:45:11.115Z"
   },
   {
    "duration": 10,
    "start_time": "2025-02-16T15:45:11.130Z"
   },
   {
    "duration": 13,
    "start_time": "2025-02-16T15:45:11.147Z"
   },
   {
    "duration": 9,
    "start_time": "2025-02-16T15:45:11.161Z"
   },
   {
    "duration": 12,
    "start_time": "2025-02-16T15:45:11.172Z"
   },
   {
    "duration": 6,
    "start_time": "2025-02-16T15:45:11.185Z"
   },
   {
    "duration": 41,
    "start_time": "2025-02-16T15:45:11.192Z"
   },
   {
    "duration": 10,
    "start_time": "2025-02-16T15:45:11.235Z"
   },
   {
    "duration": 13,
    "start_time": "2025-02-16T15:45:11.250Z"
   },
   {
    "duration": 13,
    "start_time": "2025-02-16T15:45:11.264Z"
   },
   {
    "duration": 4,
    "start_time": "2025-02-16T15:45:11.279Z"
   },
   {
    "duration": 6,
    "start_time": "2025-02-16T15:45:11.285Z"
   },
   {
    "duration": 41,
    "start_time": "2025-02-16T15:45:11.293Z"
   },
   {
    "duration": 11,
    "start_time": "2025-02-16T15:45:11.336Z"
   },
   {
    "duration": 7,
    "start_time": "2025-02-16T15:45:11.349Z"
   },
   {
    "duration": 11,
    "start_time": "2025-02-16T15:45:11.358Z"
   },
   {
    "duration": 12,
    "start_time": "2025-02-16T15:45:11.370Z"
   },
   {
    "duration": 3323,
    "start_time": "2025-02-16T15:45:11.384Z"
   },
   {
    "duration": 878,
    "start_time": "2025-02-16T15:45:14.709Z"
   },
   {
    "duration": 2417,
    "start_time": "2025-02-16T15:45:15.588Z"
   },
   {
    "duration": 10,
    "start_time": "2025-02-16T15:45:18.007Z"
   },
   {
    "duration": 21,
    "start_time": "2025-02-16T15:45:18.033Z"
   },
   {
    "duration": 17,
    "start_time": "2025-02-16T15:45:18.057Z"
   },
   {
    "duration": 75,
    "start_time": "2025-02-16T15:45:18.076Z"
   },
   {
    "duration": 3351,
    "start_time": "2025-02-16T15:45:18.154Z"
   },
   {
    "duration": 26,
    "start_time": "2025-02-16T15:45:21.508Z"
   },
   {
    "duration": 67,
    "start_time": "2025-02-16T15:45:21.537Z"
   },
   {
    "duration": 3157,
    "start_time": "2025-02-16T15:45:21.605Z"
   },
   {
    "duration": 2115,
    "start_time": "2025-02-16T15:49:06.622Z"
   },
   {
    "duration": 78,
    "start_time": "2025-02-16T15:49:08.739Z"
   },
   {
    "duration": 18,
    "start_time": "2025-02-16T15:49:08.819Z"
   },
   {
    "duration": 26,
    "start_time": "2025-02-16T15:49:08.839Z"
   },
   {
    "duration": 24,
    "start_time": "2025-02-16T15:49:08.868Z"
   },
   {
    "duration": 17,
    "start_time": "2025-02-16T15:49:08.893Z"
   },
   {
    "duration": 11,
    "start_time": "2025-02-16T15:49:08.912Z"
   },
   {
    "duration": 12,
    "start_time": "2025-02-16T15:49:08.925Z"
   },
   {
    "duration": 33,
    "start_time": "2025-02-16T15:49:08.938Z"
   },
   {
    "duration": 28,
    "start_time": "2025-02-16T15:49:08.973Z"
   },
   {
    "duration": 6,
    "start_time": "2025-02-16T15:49:09.003Z"
   },
   {
    "duration": 12,
    "start_time": "2025-02-16T15:49:09.010Z"
   },
   {
    "duration": 6,
    "start_time": "2025-02-16T15:49:09.024Z"
   },
   {
    "duration": 13,
    "start_time": "2025-02-16T15:49:09.033Z"
   },
   {
    "duration": 15,
    "start_time": "2025-02-16T15:49:09.048Z"
   },
   {
    "duration": 11,
    "start_time": "2025-02-16T15:49:09.065Z"
   },
   {
    "duration": 9,
    "start_time": "2025-02-16T15:49:09.078Z"
   },
   {
    "duration": 23,
    "start_time": "2025-02-16T15:49:09.089Z"
   },
   {
    "duration": 5,
    "start_time": "2025-02-16T15:49:09.114Z"
   },
   {
    "duration": 13,
    "start_time": "2025-02-16T15:49:09.121Z"
   },
   {
    "duration": 17,
    "start_time": "2025-02-16T15:49:09.136Z"
   },
   {
    "duration": 7,
    "start_time": "2025-02-16T15:49:09.155Z"
   },
   {
    "duration": 3056,
    "start_time": "2025-02-16T15:49:09.163Z"
   },
   {
    "duration": 828,
    "start_time": "2025-02-16T15:49:12.221Z"
   },
   {
    "duration": 2203,
    "start_time": "2025-02-16T15:49:13.052Z"
   },
   {
    "duration": 9,
    "start_time": "2025-02-16T15:49:15.257Z"
   },
   {
    "duration": 38,
    "start_time": "2025-02-16T15:49:15.268Z"
   },
   {
    "duration": 19,
    "start_time": "2025-02-16T15:49:15.308Z"
   },
   {
    "duration": 34,
    "start_time": "2025-02-16T15:49:15.329Z"
   },
   {
    "duration": 3137,
    "start_time": "2025-02-16T15:49:15.364Z"
   },
   {
    "duration": 16,
    "start_time": "2025-02-16T15:49:18.503Z"
   },
   {
    "duration": 44,
    "start_time": "2025-02-16T15:49:18.521Z"
   },
   {
    "duration": 2854,
    "start_time": "2025-02-16T15:49:18.566Z"
   },
   {
    "duration": 895081,
    "start_time": "2025-02-16T15:49:21.422Z"
   },
   {
    "duration": 889135,
    "start_time": "2025-02-16T16:05:33.817Z"
   },
   {
    "duration": 891143,
    "start_time": "2025-02-16T16:21:18.900Z"
   },
   {
    "duration": 19,
    "start_time": "2025-02-16T16:42:12.471Z"
   },
   {
    "duration": 2029,
    "start_time": "2025-02-16T16:43:29.149Z"
   },
   {
    "duration": 89,
    "start_time": "2025-02-16T16:43:31.180Z"
   },
   {
    "duration": 19,
    "start_time": "2025-02-16T16:43:31.270Z"
   },
   {
    "duration": 20,
    "start_time": "2025-02-16T16:43:31.291Z"
   },
   {
    "duration": 14,
    "start_time": "2025-02-16T16:43:31.313Z"
   },
   {
    "duration": 26,
    "start_time": "2025-02-16T16:43:31.329Z"
   },
   {
    "duration": 13,
    "start_time": "2025-02-16T16:43:31.356Z"
   },
   {
    "duration": 29,
    "start_time": "2025-02-16T16:43:31.370Z"
   },
   {
    "duration": 17,
    "start_time": "2025-02-16T16:43:31.401Z"
   },
   {
    "duration": 22,
    "start_time": "2025-02-16T16:43:31.420Z"
   },
   {
    "duration": 12,
    "start_time": "2025-02-16T16:43:31.444Z"
   },
   {
    "duration": 22,
    "start_time": "2025-02-16T16:43:31.458Z"
   },
   {
    "duration": 15,
    "start_time": "2025-02-16T16:43:31.482Z"
   },
   {
    "duration": 25,
    "start_time": "2025-02-16T16:43:31.500Z"
   },
   {
    "duration": 21,
    "start_time": "2025-02-16T16:43:31.526Z"
   },
   {
    "duration": 15,
    "start_time": "2025-02-16T16:43:31.550Z"
   },
   {
    "duration": 49,
    "start_time": "2025-02-16T16:43:31.566Z"
   },
   {
    "duration": 67,
    "start_time": "2025-02-16T16:43:31.617Z"
   },
   {
    "duration": 45,
    "start_time": "2025-02-16T16:43:31.686Z"
   },
   {
    "duration": 43,
    "start_time": "2025-02-16T16:43:31.733Z"
   },
   {
    "duration": 40,
    "start_time": "2025-02-16T16:43:31.778Z"
   },
   {
    "duration": 22,
    "start_time": "2025-02-16T16:43:31.819Z"
   },
   {
    "duration": 2984,
    "start_time": "2025-02-16T16:43:31.843Z"
   },
   {
    "duration": 800,
    "start_time": "2025-02-16T16:43:34.833Z"
   },
   {
    "duration": 2111,
    "start_time": "2025-02-16T16:43:35.635Z"
   },
   {
    "duration": 10,
    "start_time": "2025-02-16T16:43:37.748Z"
   },
   {
    "duration": 50,
    "start_time": "2025-02-16T16:43:37.759Z"
   },
   {
    "duration": 50,
    "start_time": "2025-02-16T16:43:37.811Z"
   },
   {
    "duration": 59,
    "start_time": "2025-02-16T16:43:37.863Z"
   },
   {
    "duration": 3057,
    "start_time": "2025-02-16T16:43:37.924Z"
   },
   {
    "duration": 15,
    "start_time": "2025-02-16T16:43:40.983Z"
   },
   {
    "duration": 41,
    "start_time": "2025-02-16T16:43:41.000Z"
   },
   {
    "duration": 2803,
    "start_time": "2025-02-16T16:43:41.043Z"
   },
   {
    "duration": 891849,
    "start_time": "2025-02-16T16:43:43.848Z"
   },
   {
    "duration": 537493,
    "start_time": "2025-02-16T17:03:28.541Z"
   },
   {
    "duration": 534489,
    "start_time": "2025-02-16T17:13:58.145Z"
   },
   {
    "duration": 3253,
    "start_time": "2025-02-16T17:23:34.275Z"
   },
   {
    "duration": 1923,
    "start_time": "2025-02-16T17:23:44.461Z"
   },
   {
    "duration": 152506,
    "start_time": "2025-02-16T17:24:31.503Z"
   },
   {
    "duration": 23,
    "start_time": "2025-02-16T17:27:05.920Z"
   },
   {
    "duration": 11,
    "start_time": "2025-02-16T17:27:14.572Z"
   },
   {
    "duration": 13,
    "start_time": "2025-02-16T17:27:20.298Z"
   },
   {
    "duration": 15,
    "start_time": "2025-02-16T17:31:05.679Z"
   },
   {
    "duration": 1749830,
    "start_time": "2025-02-16T17:31:35.004Z"
   },
   {
    "duration": 1988,
    "start_time": "2025-02-16T18:02:43.698Z"
   },
   {
    "duration": 77,
    "start_time": "2025-02-16T18:02:45.688Z"
   },
   {
    "duration": 18,
    "start_time": "2025-02-16T18:02:45.766Z"
   },
   {
    "duration": 14,
    "start_time": "2025-02-16T18:02:45.786Z"
   },
   {
    "duration": 8,
    "start_time": "2025-02-16T18:02:45.803Z"
   },
   {
    "duration": 10,
    "start_time": "2025-02-16T18:02:45.813Z"
   },
   {
    "duration": 11,
    "start_time": "2025-02-16T18:02:45.825Z"
   },
   {
    "duration": 39,
    "start_time": "2025-02-16T18:02:45.838Z"
   },
   {
    "duration": 39,
    "start_time": "2025-02-16T18:02:45.879Z"
   },
   {
    "duration": 14,
    "start_time": "2025-02-16T18:02:45.919Z"
   },
   {
    "duration": 6,
    "start_time": "2025-02-16T18:02:45.935Z"
   },
   {
    "duration": 10,
    "start_time": "2025-02-16T18:02:45.942Z"
   },
   {
    "duration": 32,
    "start_time": "2025-02-16T18:02:45.953Z"
   },
   {
    "duration": 31,
    "start_time": "2025-02-16T18:02:45.988Z"
   },
   {
    "duration": 19,
    "start_time": "2025-02-16T18:02:46.021Z"
   },
   {
    "duration": 12,
    "start_time": "2025-02-16T18:02:46.043Z"
   },
   {
    "duration": 22,
    "start_time": "2025-02-16T18:02:46.057Z"
   },
   {
    "duration": 5,
    "start_time": "2025-02-16T18:02:46.081Z"
   },
   {
    "duration": 4,
    "start_time": "2025-02-16T18:02:46.088Z"
   },
   {
    "duration": 21,
    "start_time": "2025-02-16T18:02:46.093Z"
   },
   {
    "duration": 23,
    "start_time": "2025-02-16T18:02:46.116Z"
   },
   {
    "duration": 7,
    "start_time": "2025-02-16T18:02:46.141Z"
   },
   {
    "duration": 3059,
    "start_time": "2025-02-16T18:02:46.149Z"
   },
   {
    "duration": 817,
    "start_time": "2025-02-16T18:02:49.210Z"
   },
   {
    "duration": 2154,
    "start_time": "2025-02-16T18:02:50.033Z"
   },
   {
    "duration": 8,
    "start_time": "2025-02-16T18:02:52.189Z"
   },
   {
    "duration": 35,
    "start_time": "2025-02-16T18:02:52.199Z"
   },
   {
    "duration": 15,
    "start_time": "2025-02-16T18:02:52.236Z"
   },
   {
    "duration": 40,
    "start_time": "2025-02-16T18:02:52.252Z"
   },
   {
    "duration": 3108,
    "start_time": "2025-02-16T18:02:52.293Z"
   },
   {
    "duration": 16,
    "start_time": "2025-02-16T18:02:55.403Z"
   },
   {
    "duration": 42,
    "start_time": "2025-02-16T18:02:55.421Z"
   },
   {
    "duration": 3309,
    "start_time": "2025-02-16T18:02:55.465Z"
   },
   {
    "duration": 3377,
    "start_time": "2025-02-16T18:02:58.776Z"
   },
   {
    "duration": 1915659,
    "start_time": "2025-02-16T18:03:02.155Z"
   },
   {
    "duration": 5,
    "start_time": "2025-02-16T18:37:30.275Z"
   },
   {
    "duration": 1882428,
    "start_time": "2025-02-16T18:39:06.328Z"
   },
   {
    "duration": 1931263,
    "start_time": "2025-02-16T19:16:16.875Z"
   },
   {
    "duration": 0,
    "start_time": "2025-02-16T19:48:28.139Z"
   },
   {
    "duration": 14,
    "start_time": "2025-02-16T19:59:13.474Z"
   },
   {
    "duration": 1848,
    "start_time": "2025-02-17T21:54:06.706Z"
   },
   {
    "duration": 73,
    "start_time": "2025-02-17T21:54:08.556Z"
   },
   {
    "duration": 18,
    "start_time": "2025-02-17T21:54:08.630Z"
   },
   {
    "duration": 11,
    "start_time": "2025-02-17T21:54:08.650Z"
   },
   {
    "duration": 8,
    "start_time": "2025-02-17T21:54:08.663Z"
   },
   {
    "duration": 24,
    "start_time": "2025-02-17T21:54:08.673Z"
   },
   {
    "duration": 9,
    "start_time": "2025-02-17T21:54:08.699Z"
   },
   {
    "duration": 9,
    "start_time": "2025-02-17T21:54:08.710Z"
   },
   {
    "duration": 7,
    "start_time": "2025-02-17T21:54:08.721Z"
   },
   {
    "duration": 11,
    "start_time": "2025-02-17T21:54:08.730Z"
   },
   {
    "duration": 6,
    "start_time": "2025-02-17T21:54:08.743Z"
   },
   {
    "duration": 6,
    "start_time": "2025-02-17T21:54:08.751Z"
   },
   {
    "duration": 7,
    "start_time": "2025-02-17T21:54:08.759Z"
   },
   {
    "duration": 49,
    "start_time": "2025-02-17T21:54:08.769Z"
   },
   {
    "duration": 17,
    "start_time": "2025-02-17T21:54:08.821Z"
   },
   {
    "duration": 5,
    "start_time": "2025-02-17T21:54:08.840Z"
   },
   {
    "duration": 7,
    "start_time": "2025-02-17T21:54:08.847Z"
   },
   {
    "duration": 4,
    "start_time": "2025-02-17T21:54:08.855Z"
   },
   {
    "duration": 5,
    "start_time": "2025-02-17T21:54:08.860Z"
   },
   {
    "duration": 5,
    "start_time": "2025-02-17T21:54:08.867Z"
   },
   {
    "duration": 38,
    "start_time": "2025-02-17T21:54:08.873Z"
   },
   {
    "duration": 5,
    "start_time": "2025-02-17T21:54:08.913Z"
   },
   {
    "duration": 2698,
    "start_time": "2025-02-17T21:54:08.919Z"
   },
   {
    "duration": 739,
    "start_time": "2025-02-17T21:54:11.618Z"
   },
   {
    "duration": 1912,
    "start_time": "2025-02-17T21:54:12.359Z"
   },
   {
    "duration": 8,
    "start_time": "2025-02-17T21:54:14.273Z"
   },
   {
    "duration": 31,
    "start_time": "2025-02-17T21:54:14.282Z"
   },
   {
    "duration": 13,
    "start_time": "2025-02-17T21:54:14.314Z"
   },
   {
    "duration": 31,
    "start_time": "2025-02-17T21:54:14.329Z"
   },
   {
    "duration": 2829,
    "start_time": "2025-02-17T21:54:14.361Z"
   },
   {
    "duration": 16,
    "start_time": "2025-02-17T21:54:17.192Z"
   },
   {
    "duration": 35,
    "start_time": "2025-02-17T21:54:17.210Z"
   },
   {
    "duration": 2556,
    "start_time": "2025-02-17T21:54:17.247Z"
   },
   {
    "duration": 1606507,
    "start_time": "2025-02-17T21:54:19.810Z"
   },
   {
    "duration": 148,
    "start_time": "2025-02-17T22:21:06.319Z"
   },
   {
    "duration": 0,
    "start_time": "2025-02-17T22:21:06.470Z"
   },
   {
    "duration": 18,
    "start_time": "2025-02-17T22:22:01.219Z"
   },
   {
    "duration": 24,
    "start_time": "2025-02-17T22:22:16.066Z"
   },
   {
    "duration": 21,
    "start_time": "2025-02-17T22:23:01.899Z"
   },
   {
    "duration": 25,
    "start_time": "2025-02-17T22:23:11.383Z"
   },
   {
    "duration": 22,
    "start_time": "2025-02-17T22:24:35.577Z"
   },
   {
    "duration": 27,
    "start_time": "2025-02-17T22:25:03.752Z"
   },
   {
    "duration": 11,
    "start_time": "2025-02-17T22:33:34.532Z"
   },
   {
    "duration": 14,
    "start_time": "2025-02-17T22:33:40.444Z"
   },
   {
    "duration": 13,
    "start_time": "2025-02-17T22:34:26.425Z"
   },
   {
    "duration": 18,
    "start_time": "2025-02-17T22:34:32.258Z"
   },
   {
    "duration": 14,
    "start_time": "2025-02-17T22:35:01.254Z"
   },
   {
    "duration": 34,
    "start_time": "2025-02-17T22:35:30.012Z"
   },
   {
    "duration": 13,
    "start_time": "2025-02-17T22:36:02.967Z"
   },
   {
    "duration": 1842,
    "start_time": "2025-02-17T22:38:26.758Z"
   },
   {
    "duration": 73,
    "start_time": "2025-02-17T22:38:28.602Z"
   },
   {
    "duration": 16,
    "start_time": "2025-02-17T22:38:28.677Z"
   },
   {
    "duration": 12,
    "start_time": "2025-02-17T22:38:28.695Z"
   },
   {
    "duration": 18,
    "start_time": "2025-02-17T22:38:28.709Z"
   },
   {
    "duration": 12,
    "start_time": "2025-02-17T22:38:28.728Z"
   },
   {
    "duration": 8,
    "start_time": "2025-02-17T22:38:28.741Z"
   },
   {
    "duration": 10,
    "start_time": "2025-02-17T22:38:28.751Z"
   },
   {
    "duration": 9,
    "start_time": "2025-02-17T22:38:28.762Z"
   },
   {
    "duration": 10,
    "start_time": "2025-02-17T22:38:28.772Z"
   },
   {
    "duration": 11,
    "start_time": "2025-02-17T22:38:28.783Z"
   },
   {
    "duration": 6,
    "start_time": "2025-02-17T22:38:28.811Z"
   },
   {
    "duration": 56,
    "start_time": "2025-02-17T22:38:28.819Z"
   },
   {
    "duration": 18,
    "start_time": "2025-02-17T22:38:28.879Z"
   },
   {
    "duration": 15,
    "start_time": "2025-02-17T22:38:28.899Z"
   },
   {
    "duration": 11,
    "start_time": "2025-02-17T22:38:28.915Z"
   },
   {
    "duration": 6,
    "start_time": "2025-02-17T22:38:28.928Z"
   },
   {
    "duration": 5,
    "start_time": "2025-02-17T22:38:28.935Z"
   },
   {
    "duration": 13,
    "start_time": "2025-02-17T22:38:28.942Z"
   },
   {
    "duration": 9,
    "start_time": "2025-02-17T22:38:28.957Z"
   },
   {
    "duration": 6,
    "start_time": "2025-02-17T22:38:28.968Z"
   },
   {
    "duration": 5,
    "start_time": "2025-02-17T22:38:28.976Z"
   },
   {
    "duration": 2785,
    "start_time": "2025-02-17T22:38:28.983Z"
   },
   {
    "duration": 765,
    "start_time": "2025-02-17T22:38:31.770Z"
   },
   {
    "duration": 1998,
    "start_time": "2025-02-17T22:38:32.537Z"
   },
   {
    "duration": 8,
    "start_time": "2025-02-17T22:38:34.537Z"
   },
   {
    "duration": 16,
    "start_time": "2025-02-17T22:38:34.547Z"
   },
   {
    "duration": 14,
    "start_time": "2025-02-17T22:38:34.565Z"
   },
   {
    "duration": 59,
    "start_time": "2025-02-17T22:38:34.580Z"
   },
   {
    "duration": 2909,
    "start_time": "2025-02-17T22:38:34.641Z"
   },
   {
    "duration": 14,
    "start_time": "2025-02-17T22:38:37.552Z"
   },
   {
    "duration": 38,
    "start_time": "2025-02-17T22:38:37.568Z"
   },
   {
    "duration": 2585,
    "start_time": "2025-02-17T22:38:37.608Z"
   },
   {
    "duration": 3,
    "start_time": "2025-02-17T22:38:40.195Z"
   },
   {
    "duration": 182,
    "start_time": "2025-02-17T22:38:40.200Z"
   },
   {
    "duration": 0,
    "start_time": "2025-02-17T22:38:40.384Z"
   },
   {
    "duration": 0,
    "start_time": "2025-02-17T22:38:40.385Z"
   },
   {
    "duration": 37,
    "start_time": "2025-02-17T22:38:49.352Z"
   },
   {
    "duration": 1629934,
    "start_time": "2025-02-17T22:39:40.985Z"
   },
   {
    "duration": 14,
    "start_time": "2025-02-17T23:08:06.602Z"
   },
   {
    "duration": 884809,
    "start_time": "2025-02-17T23:08:12.744Z"
   },
   {
    "duration": 14,
    "start_time": "2025-02-17T23:24:28.763Z"
   },
   {
    "duration": 428494,
    "start_time": "2025-02-17T23:24:34.150Z"
   },
   {
    "duration": 13,
    "start_time": "2025-02-17T23:34:42.117Z"
   },
   {
    "duration": 424637,
    "start_time": "2025-02-17T23:35:07.773Z"
   },
   {
    "duration": 425034,
    "start_time": "2025-02-17T23:45:09.077Z"
   },
   {
    "duration": 421112,
    "start_time": "2025-02-17T23:52:28.100Z"
   },
   {
    "duration": 427032,
    "start_time": "2025-02-18T00:01:03.379Z"
   },
   {
    "duration": 271963,
    "start_time": "2025-02-18T00:09:03.547Z"
   },
   {
    "duration": 48,
    "start_time": "2025-02-18T09:08:54.652Z"
   },
   {
    "duration": 1880,
    "start_time": "2025-02-18T09:09:34.659Z"
   },
   {
    "duration": 1,
    "start_time": "2025-02-18T09:09:36.541Z"
   },
   {
    "duration": 0,
    "start_time": "2025-02-18T09:09:36.543Z"
   },
   {
    "duration": 0,
    "start_time": "2025-02-18T09:09:36.544Z"
   },
   {
    "duration": 0,
    "start_time": "2025-02-18T09:09:36.546Z"
   },
   {
    "duration": 0,
    "start_time": "2025-02-18T09:09:36.547Z"
   },
   {
    "duration": 0,
    "start_time": "2025-02-18T09:09:36.557Z"
   },
   {
    "duration": 0,
    "start_time": "2025-02-18T09:09:36.559Z"
   },
   {
    "duration": 0,
    "start_time": "2025-02-18T09:09:36.560Z"
   },
   {
    "duration": 0,
    "start_time": "2025-02-18T09:09:36.563Z"
   },
   {
    "duration": 0,
    "start_time": "2025-02-18T09:09:36.564Z"
   },
   {
    "duration": 0,
    "start_time": "2025-02-18T09:09:36.566Z"
   },
   {
    "duration": 0,
    "start_time": "2025-02-18T09:09:36.567Z"
   },
   {
    "duration": 0,
    "start_time": "2025-02-18T09:09:36.569Z"
   },
   {
    "duration": 0,
    "start_time": "2025-02-18T09:09:36.570Z"
   },
   {
    "duration": 0,
    "start_time": "2025-02-18T09:09:36.572Z"
   },
   {
    "duration": 0,
    "start_time": "2025-02-18T09:09:36.573Z"
   },
   {
    "duration": 0,
    "start_time": "2025-02-18T09:09:36.575Z"
   },
   {
    "duration": 0,
    "start_time": "2025-02-18T09:09:36.576Z"
   },
   {
    "duration": 0,
    "start_time": "2025-02-18T09:09:36.578Z"
   },
   {
    "duration": 0,
    "start_time": "2025-02-18T09:09:36.579Z"
   },
   {
    "duration": 0,
    "start_time": "2025-02-18T09:09:36.580Z"
   },
   {
    "duration": 0,
    "start_time": "2025-02-18T09:09:36.582Z"
   },
   {
    "duration": 0,
    "start_time": "2025-02-18T09:09:36.584Z"
   },
   {
    "duration": 0,
    "start_time": "2025-02-18T09:09:36.585Z"
   },
   {
    "duration": 0,
    "start_time": "2025-02-18T09:09:36.586Z"
   },
   {
    "duration": 0,
    "start_time": "2025-02-18T09:09:36.588Z"
   },
   {
    "duration": 0,
    "start_time": "2025-02-18T09:09:36.590Z"
   },
   {
    "duration": 0,
    "start_time": "2025-02-18T09:09:36.591Z"
   },
   {
    "duration": 0,
    "start_time": "2025-02-18T09:09:36.592Z"
   },
   {
    "duration": 0,
    "start_time": "2025-02-18T09:09:36.594Z"
   },
   {
    "duration": 0,
    "start_time": "2025-02-18T09:09:36.595Z"
   },
   {
    "duration": 1,
    "start_time": "2025-02-18T09:09:36.597Z"
   },
   {
    "duration": 0,
    "start_time": "2025-02-18T09:09:36.658Z"
   },
   {
    "duration": 0,
    "start_time": "2025-02-18T09:09:36.659Z"
   },
   {
    "duration": 0,
    "start_time": "2025-02-18T09:09:36.661Z"
   },
   {
    "duration": 0,
    "start_time": "2025-02-18T09:09:36.662Z"
   },
   {
    "duration": 0,
    "start_time": "2025-02-18T09:09:36.663Z"
   },
   {
    "duration": 1092,
    "start_time": "2025-02-18T09:10:41.843Z"
   },
   {
    "duration": 1665,
    "start_time": "2025-02-18T09:10:42.938Z"
   },
   {
    "duration": 0,
    "start_time": "2025-02-18T09:10:44.605Z"
   },
   {
    "duration": 0,
    "start_time": "2025-02-18T09:10:44.606Z"
   },
   {
    "duration": 0,
    "start_time": "2025-02-18T09:10:44.608Z"
   },
   {
    "duration": 0,
    "start_time": "2025-02-18T09:10:44.609Z"
   },
   {
    "duration": 0,
    "start_time": "2025-02-18T09:10:44.610Z"
   },
   {
    "duration": 0,
    "start_time": "2025-02-18T09:10:44.611Z"
   },
   {
    "duration": 0,
    "start_time": "2025-02-18T09:10:44.612Z"
   },
   {
    "duration": 0,
    "start_time": "2025-02-18T09:10:44.613Z"
   },
   {
    "duration": 0,
    "start_time": "2025-02-18T09:10:44.614Z"
   },
   {
    "duration": 0,
    "start_time": "2025-02-18T09:10:44.615Z"
   },
   {
    "duration": 0,
    "start_time": "2025-02-18T09:10:44.616Z"
   },
   {
    "duration": 0,
    "start_time": "2025-02-18T09:10:44.618Z"
   },
   {
    "duration": 0,
    "start_time": "2025-02-18T09:10:44.619Z"
   },
   {
    "duration": 0,
    "start_time": "2025-02-18T09:10:44.620Z"
   },
   {
    "duration": 0,
    "start_time": "2025-02-18T09:10:44.621Z"
   },
   {
    "duration": 0,
    "start_time": "2025-02-18T09:10:44.622Z"
   },
   {
    "duration": 0,
    "start_time": "2025-02-18T09:10:44.623Z"
   },
   {
    "duration": 0,
    "start_time": "2025-02-18T09:10:44.624Z"
   },
   {
    "duration": 0,
    "start_time": "2025-02-18T09:10:44.626Z"
   },
   {
    "duration": 0,
    "start_time": "2025-02-18T09:10:44.659Z"
   },
   {
    "duration": 0,
    "start_time": "2025-02-18T09:10:44.660Z"
   },
   {
    "duration": 0,
    "start_time": "2025-02-18T09:10:44.661Z"
   },
   {
    "duration": 0,
    "start_time": "2025-02-18T09:10:44.662Z"
   },
   {
    "duration": 0,
    "start_time": "2025-02-18T09:10:44.663Z"
   },
   {
    "duration": 0,
    "start_time": "2025-02-18T09:10:44.664Z"
   },
   {
    "duration": 0,
    "start_time": "2025-02-18T09:10:44.665Z"
   },
   {
    "duration": 0,
    "start_time": "2025-02-18T09:10:44.666Z"
   },
   {
    "duration": 0,
    "start_time": "2025-02-18T09:10:44.667Z"
   },
   {
    "duration": 0,
    "start_time": "2025-02-18T09:10:44.668Z"
   },
   {
    "duration": 0,
    "start_time": "2025-02-18T09:10:44.669Z"
   },
   {
    "duration": 0,
    "start_time": "2025-02-18T09:10:44.670Z"
   },
   {
    "duration": 0,
    "start_time": "2025-02-18T09:10:44.671Z"
   },
   {
    "duration": 0,
    "start_time": "2025-02-18T09:10:44.672Z"
   },
   {
    "duration": 0,
    "start_time": "2025-02-18T09:10:44.672Z"
   },
   {
    "duration": 0,
    "start_time": "2025-02-18T09:10:44.674Z"
   },
   {
    "duration": 0,
    "start_time": "2025-02-18T09:10:44.675Z"
   },
   {
    "duration": 0,
    "start_time": "2025-02-18T09:10:44.676Z"
   },
   {
    "duration": 4476,
    "start_time": "2025-02-18T09:10:55.459Z"
   },
   {
    "duration": 554,
    "start_time": "2025-02-18T09:11:02.663Z"
   },
   {
    "duration": 76,
    "start_time": "2025-02-18T09:11:03.218Z"
   },
   {
    "duration": 17,
    "start_time": "2025-02-18T09:11:03.622Z"
   },
   {
    "duration": 13,
    "start_time": "2025-02-18T09:11:03.787Z"
   },
   {
    "duration": 9,
    "start_time": "2025-02-18T09:11:04.138Z"
   },
   {
    "duration": 11,
    "start_time": "2025-02-18T09:11:04.302Z"
   },
   {
    "duration": 7,
    "start_time": "2025-02-18T09:11:04.823Z"
   },
   {
    "duration": 11,
    "start_time": "2025-02-18T09:11:04.987Z"
   },
   {
    "duration": 7,
    "start_time": "2025-02-18T09:11:05.313Z"
   },
   {
    "duration": 10,
    "start_time": "2025-02-18T09:11:05.645Z"
   },
   {
    "duration": 6,
    "start_time": "2025-02-18T09:11:06.500Z"
   },
   {
    "duration": 5,
    "start_time": "2025-02-18T09:11:06.843Z"
   },
   {
    "duration": 6,
    "start_time": "2025-02-18T09:11:07.193Z"
   },
   {
    "duration": 12,
    "start_time": "2025-02-18T09:11:07.716Z"
   },
   {
    "duration": 15,
    "start_time": "2025-02-18T09:11:08.051Z"
   },
   {
    "duration": 3,
    "start_time": "2025-02-18T09:11:08.388Z"
   },
   {
    "duration": 8,
    "start_time": "2025-02-18T09:11:08.727Z"
   },
   {
    "duration": 4,
    "start_time": "2025-02-18T09:11:10.676Z"
   },
   {
    "duration": 2,
    "start_time": "2025-02-18T09:11:11.008Z"
   },
   {
    "duration": 4,
    "start_time": "2025-02-18T09:11:11.327Z"
   },
   {
    "duration": 4,
    "start_time": "2025-02-18T09:11:11.663Z"
   },
   {
    "duration": 4,
    "start_time": "2025-02-18T09:11:12.001Z"
   },
   {
    "duration": 2922,
    "start_time": "2025-02-18T09:11:12.341Z"
   },
   {
    "duration": 625,
    "start_time": "2025-02-18T09:11:15.265Z"
   },
   {
    "duration": 1989,
    "start_time": "2025-02-18T09:11:15.892Z"
   },
   {
    "duration": 8,
    "start_time": "2025-02-18T09:11:17.882Z"
   },
   {
    "duration": 14,
    "start_time": "2025-02-18T09:11:18.644Z"
   },
   {
    "duration": 13,
    "start_time": "2025-02-18T09:11:20.967Z"
   },
   {
    "duration": 189,
    "start_time": "2025-02-18T09:11:21.488Z"
   },
   {
    "duration": 2492,
    "start_time": "2025-02-18T09:11:23.408Z"
   },
   {
    "duration": 44,
    "start_time": "2025-02-18T09:11:25.927Z"
   },
   {
    "duration": 12,
    "start_time": "2025-02-18T09:11:43.763Z"
   },
   {
    "duration": 3720,
    "start_time": "2025-02-18T09:11:50.681Z"
   },
   {
    "duration": 12,
    "start_time": "2025-02-18T09:13:45.583Z"
   },
   {
    "duration": 4483,
    "start_time": "2025-02-18T09:17:32.380Z"
   },
   {
    "duration": 24,
    "start_time": "2025-02-18T09:18:26.187Z"
   },
   {
    "duration": 15,
    "start_time": "2025-02-18T09:18:44.475Z"
   },
   {
    "duration": 15,
    "start_time": "2025-02-18T09:19:01.346Z"
   },
   {
    "duration": 5,
    "start_time": "2025-02-18T09:20:41.177Z"
   },
   {
    "duration": 16,
    "start_time": "2025-02-18T09:21:51.240Z"
   },
   {
    "duration": 3295,
    "start_time": "2025-02-18T09:23:24.748Z"
   },
   {
    "duration": 13,
    "start_time": "2025-02-18T09:27:25.885Z"
   },
   {
    "duration": 33,
    "start_time": "2025-02-18T09:27:30.189Z"
   },
   {
    "duration": 2689,
    "start_time": "2025-02-18T09:27:33.770Z"
   },
   {
    "duration": 14,
    "start_time": "2025-02-18T09:56:29.236Z"
   },
   {
    "duration": 33,
    "start_time": "2025-02-18T09:56:30.259Z"
   },
   {
    "duration": 1818,
    "start_time": "2025-02-18T09:56:32.779Z"
   },
   {
    "duration": 1635,
    "start_time": "2025-02-18T10:00:05.206Z"
   },
   {
    "duration": 14,
    "start_time": "2025-02-18T15:50:51.466Z"
   },
   {
    "duration": 34,
    "start_time": "2025-02-18T15:50:53.124Z"
   },
   {
    "duration": 4247,
    "start_time": "2025-02-18T15:50:56.157Z"
   },
   {
    "duration": 14,
    "start_time": "2025-02-18T15:55:23.449Z"
   },
   {
    "duration": 34,
    "start_time": "2025-02-18T15:55:23.810Z"
   },
   {
    "duration": 2784,
    "start_time": "2025-02-18T15:55:47.727Z"
   },
   {
    "duration": 2118,
    "start_time": "2025-02-18T15:55:50.514Z"
   },
   {
    "duration": 75,
    "start_time": "2025-02-18T15:55:52.634Z"
   },
   {
    "duration": 17,
    "start_time": "2025-02-18T15:55:52.711Z"
   },
   {
    "duration": 12,
    "start_time": "2025-02-18T15:55:52.730Z"
   },
   {
    "duration": 7,
    "start_time": "2025-02-18T15:55:52.744Z"
   },
   {
    "duration": 10,
    "start_time": "2025-02-18T15:55:52.753Z"
   },
   {
    "duration": 7,
    "start_time": "2025-02-18T15:55:52.765Z"
   },
   {
    "duration": 10,
    "start_time": "2025-02-18T15:55:52.774Z"
   },
   {
    "duration": 8,
    "start_time": "2025-02-18T15:55:52.785Z"
   },
   {
    "duration": 10,
    "start_time": "2025-02-18T15:55:52.795Z"
   },
   {
    "duration": 5,
    "start_time": "2025-02-18T15:55:52.806Z"
   },
   {
    "duration": 6,
    "start_time": "2025-02-18T15:55:52.812Z"
   },
   {
    "duration": 10,
    "start_time": "2025-02-18T15:55:52.857Z"
   },
   {
    "duration": 12,
    "start_time": "2025-02-18T15:55:52.868Z"
   },
   {
    "duration": 13,
    "start_time": "2025-02-18T15:55:52.882Z"
   },
   {
    "duration": 3,
    "start_time": "2025-02-18T15:55:52.897Z"
   },
   {
    "duration": 6,
    "start_time": "2025-02-18T15:55:52.902Z"
   },
   {
    "duration": 5,
    "start_time": "2025-02-18T15:55:52.909Z"
   },
   {
    "duration": 5,
    "start_time": "2025-02-18T15:55:52.916Z"
   },
   {
    "duration": 12,
    "start_time": "2025-02-18T15:55:52.958Z"
   },
   {
    "duration": 6,
    "start_time": "2025-02-18T15:55:52.971Z"
   },
   {
    "duration": 4,
    "start_time": "2025-02-18T15:55:52.979Z"
   },
   {
    "duration": 2846,
    "start_time": "2025-02-18T15:55:52.984Z"
   },
   {
    "duration": 764,
    "start_time": "2025-02-18T15:55:55.831Z"
   },
   {
    "duration": 1993,
    "start_time": "2025-02-18T15:55:56.597Z"
   },
   {
    "duration": 8,
    "start_time": "2025-02-18T15:55:58.591Z"
   },
   {
    "duration": 13,
    "start_time": "2025-02-18T15:55:58.601Z"
   },
   {
    "duration": 13,
    "start_time": "2025-02-18T15:55:58.615Z"
   },
   {
    "duration": 36,
    "start_time": "2025-02-18T15:55:58.630Z"
   },
   {
    "duration": 32,
    "start_time": "2025-02-18T15:55:58.667Z"
   },
   {
    "duration": 3513,
    "start_time": "2025-02-18T15:55:58.701Z"
   },
   {
    "duration": 15,
    "start_time": "2025-02-18T15:56:02.216Z"
   },
   {
    "duration": 184,
    "start_time": "2025-02-18T15:56:02.232Z"
   },
   {
    "duration": 2541,
    "start_time": "2025-02-18T15:59:02.525Z"
   },
   {
    "duration": 2061,
    "start_time": "2025-02-18T15:59:05.068Z"
   },
   {
    "duration": 76,
    "start_time": "2025-02-18T15:59:07.130Z"
   },
   {
    "duration": 17,
    "start_time": "2025-02-18T15:59:07.208Z"
   },
   {
    "duration": 11,
    "start_time": "2025-02-18T15:59:07.227Z"
   },
   {
    "duration": 8,
    "start_time": "2025-02-18T15:59:07.239Z"
   },
   {
    "duration": 11,
    "start_time": "2025-02-18T15:59:07.248Z"
   },
   {
    "duration": 9,
    "start_time": "2025-02-18T15:59:07.260Z"
   },
   {
    "duration": 24,
    "start_time": "2025-02-18T15:59:07.271Z"
   },
   {
    "duration": 12,
    "start_time": "2025-02-18T15:59:07.298Z"
   },
   {
    "duration": 11,
    "start_time": "2025-02-18T15:59:07.311Z"
   },
   {
    "duration": 5,
    "start_time": "2025-02-18T15:59:07.324Z"
   },
   {
    "duration": 7,
    "start_time": "2025-02-18T15:59:07.330Z"
   },
   {
    "duration": 21,
    "start_time": "2025-02-18T15:59:07.338Z"
   },
   {
    "duration": 14,
    "start_time": "2025-02-18T15:59:07.360Z"
   },
   {
    "duration": 14,
    "start_time": "2025-02-18T15:59:07.376Z"
   },
   {
    "duration": 8,
    "start_time": "2025-02-18T15:59:07.391Z"
   },
   {
    "duration": 10,
    "start_time": "2025-02-18T15:59:07.400Z"
   },
   {
    "duration": 5,
    "start_time": "2025-02-18T15:59:07.412Z"
   },
   {
    "duration": 4,
    "start_time": "2025-02-18T15:59:07.418Z"
   },
   {
    "duration": 3,
    "start_time": "2025-02-18T15:59:07.424Z"
   },
   {
    "duration": 31,
    "start_time": "2025-02-18T15:59:07.429Z"
   },
   {
    "duration": 27,
    "start_time": "2025-02-18T15:59:07.462Z"
   },
   {
    "duration": 2813,
    "start_time": "2025-02-18T15:59:07.490Z"
   },
   {
    "duration": 759,
    "start_time": "2025-02-18T15:59:10.305Z"
   },
   {
    "duration": 2080,
    "start_time": "2025-02-18T15:59:11.066Z"
   },
   {
    "duration": 13,
    "start_time": "2025-02-18T15:59:13.147Z"
   },
   {
    "duration": 17,
    "start_time": "2025-02-18T15:59:13.162Z"
   },
   {
    "duration": 13,
    "start_time": "2025-02-18T15:59:13.181Z"
   },
   {
    "duration": 13,
    "start_time": "2025-02-18T15:59:13.196Z"
   },
   {
    "duration": 54,
    "start_time": "2025-02-18T15:59:13.211Z"
   },
   {
    "duration": 3544,
    "start_time": "2025-02-18T15:59:13.266Z"
   },
   {
    "duration": 14,
    "start_time": "2025-02-18T15:59:16.812Z"
   },
   {
    "duration": 169,
    "start_time": "2025-02-18T15:59:16.828Z"
   },
   {
    "duration": 0,
    "start_time": "2025-02-18T15:59:16.999Z"
   },
   {
    "duration": 0,
    "start_time": "2025-02-18T15:59:17.000Z"
   },
   {
    "duration": 0,
    "start_time": "2025-02-18T15:59:17.001Z"
   },
   {
    "duration": 13,
    "start_time": "2025-02-18T15:59:31.268Z"
   },
   {
    "duration": 28,
    "start_time": "2025-02-18T15:59:35.325Z"
   },
   {
    "duration": 14,
    "start_time": "2025-02-18T15:59:39.100Z"
   },
   {
    "duration": 30,
    "start_time": "2025-02-18T15:59:39.557Z"
   },
   {
    "duration": 2600,
    "start_time": "2025-02-18T16:00:29.633Z"
   },
   {
    "duration": 2183,
    "start_time": "2025-02-18T16:00:32.236Z"
   },
   {
    "duration": 78,
    "start_time": "2025-02-18T16:00:34.422Z"
   },
   {
    "duration": 19,
    "start_time": "2025-02-18T16:00:34.501Z"
   },
   {
    "duration": 12,
    "start_time": "2025-02-18T16:00:34.523Z"
   },
   {
    "duration": 34,
    "start_time": "2025-02-18T16:00:34.537Z"
   },
   {
    "duration": 12,
    "start_time": "2025-02-18T16:00:34.573Z"
   },
   {
    "duration": 8,
    "start_time": "2025-02-18T16:00:34.586Z"
   },
   {
    "duration": 17,
    "start_time": "2025-02-18T16:00:34.595Z"
   },
   {
    "duration": 8,
    "start_time": "2025-02-18T16:00:34.613Z"
   },
   {
    "duration": 35,
    "start_time": "2025-02-18T16:00:34.622Z"
   },
   {
    "duration": 7,
    "start_time": "2025-02-18T16:00:34.659Z"
   },
   {
    "duration": 9,
    "start_time": "2025-02-18T16:00:34.667Z"
   },
   {
    "duration": 7,
    "start_time": "2025-02-18T16:00:34.678Z"
   },
   {
    "duration": 29,
    "start_time": "2025-02-18T16:00:34.686Z"
   },
   {
    "duration": 11,
    "start_time": "2025-02-18T16:00:34.717Z"
   },
   {
    "duration": 16,
    "start_time": "2025-02-18T16:00:34.729Z"
   },
   {
    "duration": 7,
    "start_time": "2025-02-18T16:00:34.747Z"
   },
   {
    "duration": 4,
    "start_time": "2025-02-18T16:00:34.755Z"
   },
   {
    "duration": 6,
    "start_time": "2025-02-18T16:00:34.760Z"
   },
   {
    "duration": 13,
    "start_time": "2025-02-18T16:00:34.768Z"
   },
   {
    "duration": 21,
    "start_time": "2025-02-18T16:00:34.783Z"
   },
   {
    "duration": 5,
    "start_time": "2025-02-18T16:00:34.805Z"
   },
   {
    "duration": 2795,
    "start_time": "2025-02-18T16:00:34.811Z"
   },
   {
    "duration": 741,
    "start_time": "2025-02-18T16:00:37.608Z"
   },
   {
    "duration": 2043,
    "start_time": "2025-02-18T16:00:38.357Z"
   },
   {
    "duration": 8,
    "start_time": "2025-02-18T16:00:40.402Z"
   },
   {
    "duration": 17,
    "start_time": "2025-02-18T16:00:40.411Z"
   },
   {
    "duration": 30,
    "start_time": "2025-02-18T16:00:40.430Z"
   },
   {
    "duration": 14,
    "start_time": "2025-02-18T16:00:40.461Z"
   },
   {
    "duration": 31,
    "start_time": "2025-02-18T16:00:40.477Z"
   },
   {
    "duration": 3521,
    "start_time": "2025-02-18T16:00:40.510Z"
   },
   {
    "duration": 14,
    "start_time": "2025-02-18T16:00:44.032Z"
   },
   {
    "duration": 94,
    "start_time": "2025-02-18T16:00:44.048Z"
   },
   {
    "duration": 2572,
    "start_time": "2025-02-18T16:08:23.510Z"
   },
   {
    "duration": 2049,
    "start_time": "2025-02-18T16:08:26.085Z"
   },
   {
    "duration": 75,
    "start_time": "2025-02-18T16:08:28.135Z"
   },
   {
    "duration": 17,
    "start_time": "2025-02-18T16:08:28.211Z"
   },
   {
    "duration": 11,
    "start_time": "2025-02-18T16:08:28.230Z"
   },
   {
    "duration": 8,
    "start_time": "2025-02-18T16:08:28.243Z"
   },
   {
    "duration": 11,
    "start_time": "2025-02-18T16:08:28.253Z"
   },
   {
    "duration": 7,
    "start_time": "2025-02-18T16:08:28.265Z"
   },
   {
    "duration": 25,
    "start_time": "2025-02-18T16:08:28.273Z"
   },
   {
    "duration": 97,
    "start_time": "2025-02-18T16:08:28.299Z"
   },
   {
    "duration": 10,
    "start_time": "2025-02-18T16:08:28.398Z"
   },
   {
    "duration": 6,
    "start_time": "2025-02-18T16:08:28.409Z"
   },
   {
    "duration": 6,
    "start_time": "2025-02-18T16:08:28.417Z"
   },
   {
    "duration": 5,
    "start_time": "2025-02-18T16:08:28.426Z"
   },
   {
    "duration": 15,
    "start_time": "2025-02-18T16:08:28.433Z"
   },
   {
    "duration": 11,
    "start_time": "2025-02-18T16:08:28.450Z"
   },
   {
    "duration": 4,
    "start_time": "2025-02-18T16:08:28.463Z"
   },
   {
    "duration": 6,
    "start_time": "2025-02-18T16:08:28.468Z"
   },
   {
    "duration": 4,
    "start_time": "2025-02-18T16:08:28.475Z"
   },
   {
    "duration": 3,
    "start_time": "2025-02-18T16:08:28.480Z"
   },
   {
    "duration": 4,
    "start_time": "2025-02-18T16:08:28.484Z"
   },
   {
    "duration": 4,
    "start_time": "2025-02-18T16:08:28.490Z"
   },
   {
    "duration": 5,
    "start_time": "2025-02-18T16:08:28.496Z"
   },
   {
    "duration": 2807,
    "start_time": "2025-02-18T16:08:28.502Z"
   },
   {
    "duration": 763,
    "start_time": "2025-02-18T16:08:31.311Z"
   },
   {
    "duration": 2025,
    "start_time": "2025-02-18T16:08:32.075Z"
   },
   {
    "duration": 7,
    "start_time": "2025-02-18T16:08:34.102Z"
   },
   {
    "duration": 58,
    "start_time": "2025-02-18T16:08:34.111Z"
   },
   {
    "duration": 21,
    "start_time": "2025-02-18T16:08:34.170Z"
   },
   {
    "duration": 14,
    "start_time": "2025-02-18T16:08:34.192Z"
   },
   {
    "duration": 31,
    "start_time": "2025-02-18T16:08:34.207Z"
   },
   {
    "duration": 3524,
    "start_time": "2025-02-18T16:08:34.239Z"
   },
   {
    "duration": 15,
    "start_time": "2025-02-18T16:08:37.765Z"
   },
   {
    "duration": 46,
    "start_time": "2025-02-18T16:08:37.782Z"
   },
   {
    "duration": 15,
    "start_time": "2025-02-18T16:14:57.233Z"
   },
   {
    "duration": 2549,
    "start_time": "2025-02-18T16:15:07.636Z"
   },
   {
    "duration": 2041,
    "start_time": "2025-02-18T16:15:10.187Z"
   },
   {
    "duration": 77,
    "start_time": "2025-02-18T16:15:12.230Z"
   },
   {
    "duration": 18,
    "start_time": "2025-02-18T16:15:12.309Z"
   },
   {
    "duration": 132,
    "start_time": "2025-02-18T16:15:12.330Z"
   },
   {
    "duration": 18,
    "start_time": "2025-02-18T16:15:12.463Z"
   },
   {
    "duration": 11,
    "start_time": "2025-02-18T16:15:12.483Z"
   },
   {
    "duration": 14,
    "start_time": "2025-02-18T16:15:12.495Z"
   },
   {
    "duration": 10,
    "start_time": "2025-02-18T16:15:12.511Z"
   },
   {
    "duration": 18,
    "start_time": "2025-02-18T16:15:12.522Z"
   },
   {
    "duration": 22,
    "start_time": "2025-02-18T16:15:12.542Z"
   },
   {
    "duration": 5,
    "start_time": "2025-02-18T16:15:12.566Z"
   },
   {
    "duration": 8,
    "start_time": "2025-02-18T16:15:12.572Z"
   },
   {
    "duration": 7,
    "start_time": "2025-02-18T16:15:12.583Z"
   },
   {
    "duration": 14,
    "start_time": "2025-02-18T16:15:12.591Z"
   },
   {
    "duration": 12,
    "start_time": "2025-02-18T16:15:12.606Z"
   },
   {
    "duration": 14,
    "start_time": "2025-02-18T16:15:12.619Z"
   },
   {
    "duration": 28,
    "start_time": "2025-02-18T16:15:12.635Z"
   },
   {
    "duration": 4,
    "start_time": "2025-02-18T16:15:12.664Z"
   },
   {
    "duration": 4,
    "start_time": "2025-02-18T16:15:12.670Z"
   },
   {
    "duration": 4,
    "start_time": "2025-02-18T16:15:12.675Z"
   },
   {
    "duration": 4,
    "start_time": "2025-02-18T16:15:12.681Z"
   },
   {
    "duration": 5,
    "start_time": "2025-02-18T16:15:12.686Z"
   },
   {
    "duration": 2832,
    "start_time": "2025-02-18T16:15:12.692Z"
   },
   {
    "duration": 723,
    "start_time": "2025-02-18T16:15:15.526Z"
   },
   {
    "duration": 1996,
    "start_time": "2025-02-18T16:15:16.250Z"
   },
   {
    "duration": 16,
    "start_time": "2025-02-18T16:15:18.248Z"
   },
   {
    "duration": 18,
    "start_time": "2025-02-18T16:15:18.266Z"
   },
   {
    "duration": 109,
    "start_time": "2025-02-18T16:15:18.285Z"
   },
   {
    "duration": 37,
    "start_time": "2025-02-18T16:15:18.396Z"
   },
   {
    "duration": 34,
    "start_time": "2025-02-18T16:15:18.434Z"
   },
   {
    "duration": 3549,
    "start_time": "2025-02-18T16:15:18.469Z"
   },
   {
    "duration": 14,
    "start_time": "2025-02-18T16:15:22.020Z"
   },
   {
    "duration": 663,
    "start_time": "2025-02-18T16:15:22.035Z"
   },
   {
    "duration": 0,
    "start_time": "2025-02-18T16:15:22.699Z"
   },
   {
    "duration": 0,
    "start_time": "2025-02-18T16:15:22.700Z"
   },
   {
    "duration": 14,
    "start_time": "2025-02-18T16:16:19.706Z"
   },
   {
    "duration": 2515,
    "start_time": "2025-02-18T16:17:56.056Z"
   },
   {
    "duration": 2205,
    "start_time": "2025-02-18T16:17:58.574Z"
   },
   {
    "duration": 76,
    "start_time": "2025-02-18T16:18:00.780Z"
   },
   {
    "duration": 17,
    "start_time": "2025-02-18T16:18:00.858Z"
   },
   {
    "duration": 14,
    "start_time": "2025-02-18T16:18:00.878Z"
   },
   {
    "duration": 17,
    "start_time": "2025-02-18T16:18:00.894Z"
   },
   {
    "duration": 11,
    "start_time": "2025-02-18T16:18:00.913Z"
   },
   {
    "duration": 8,
    "start_time": "2025-02-18T16:18:00.925Z"
   },
   {
    "duration": 32,
    "start_time": "2025-02-18T16:18:00.934Z"
   },
   {
    "duration": 9,
    "start_time": "2025-02-18T16:18:00.968Z"
   },
   {
    "duration": 21,
    "start_time": "2025-02-18T16:18:00.979Z"
   },
   {
    "duration": 28,
    "start_time": "2025-02-18T16:18:01.002Z"
   },
   {
    "duration": 141,
    "start_time": "2025-02-18T16:18:01.031Z"
   },
   {
    "duration": 25,
    "start_time": "2025-02-18T16:18:01.175Z"
   },
   {
    "duration": 19,
    "start_time": "2025-02-18T16:18:01.202Z"
   },
   {
    "duration": 11,
    "start_time": "2025-02-18T16:18:01.222Z"
   },
   {
    "duration": 15,
    "start_time": "2025-02-18T16:18:01.235Z"
   },
   {
    "duration": 7,
    "start_time": "2025-02-18T16:18:01.251Z"
   },
   {
    "duration": 5,
    "start_time": "2025-02-18T16:18:01.260Z"
   },
   {
    "duration": 3,
    "start_time": "2025-02-18T16:18:01.267Z"
   },
   {
    "duration": 29,
    "start_time": "2025-02-18T16:18:01.272Z"
   },
   {
    "duration": 13,
    "start_time": "2025-02-18T16:18:01.303Z"
   },
   {
    "duration": 4,
    "start_time": "2025-02-18T16:18:01.317Z"
   },
   {
    "duration": 2813,
    "start_time": "2025-02-18T16:18:01.322Z"
   },
   {
    "duration": 737,
    "start_time": "2025-02-18T16:18:04.137Z"
   },
   {
    "duration": 2019,
    "start_time": "2025-02-18T16:18:04.876Z"
   },
   {
    "duration": 8,
    "start_time": "2025-02-18T16:18:06.897Z"
   },
   {
    "duration": 15,
    "start_time": "2025-02-18T16:18:06.906Z"
   },
   {
    "duration": 13,
    "start_time": "2025-02-18T16:18:06.922Z"
   },
   {
    "duration": 32,
    "start_time": "2025-02-18T16:18:06.936Z"
   },
   {
    "duration": 32,
    "start_time": "2025-02-18T16:18:06.969Z"
   },
   {
    "duration": 3636,
    "start_time": "2025-02-18T16:18:07.002Z"
   },
   {
    "duration": 15,
    "start_time": "2025-02-18T16:18:10.640Z"
   },
   {
    "duration": 308563,
    "start_time": "2025-02-18T16:18:10.656Z"
   },
   {
    "duration": 3,
    "start_time": "2025-02-18T16:23:19.221Z"
   },
   {
    "duration": 146,
    "start_time": "2025-02-18T16:23:19.225Z"
   },
   {
    "duration": 10,
    "start_time": "2025-02-18T16:34:10.593Z"
   },
   {
    "duration": 14,
    "start_time": "2025-02-18T16:34:16.603Z"
   },
   {
    "duration": 29,
    "start_time": "2025-02-18T16:35:10.264Z"
   },
   {
    "duration": 28,
    "start_time": "2025-02-18T16:35:16.422Z"
   },
   {
    "duration": 29,
    "start_time": "2025-02-18T16:35:43.764Z"
   },
   {
    "duration": 57,
    "start_time": "2025-02-18T16:36:47.035Z"
   },
   {
    "duration": 60,
    "start_time": "2025-02-18T16:37:20.949Z"
   },
   {
    "duration": 61,
    "start_time": "2025-02-18T16:38:08.379Z"
   },
   {
    "duration": 61,
    "start_time": "2025-02-18T16:39:02.569Z"
   },
   {
    "duration": 58,
    "start_time": "2025-02-18T16:39:45.906Z"
   },
   {
    "duration": 58,
    "start_time": "2025-02-18T16:40:55.679Z"
   },
   {
    "duration": 61,
    "start_time": "2025-02-18T16:41:13.781Z"
   },
   {
    "duration": 60,
    "start_time": "2025-02-18T16:41:34.436Z"
   },
   {
    "duration": 60,
    "start_time": "2025-02-18T16:41:49.240Z"
   },
   {
    "duration": 37,
    "start_time": "2025-02-18T16:44:27.357Z"
   },
   {
    "duration": 4,
    "start_time": "2025-02-18T16:44:28.284Z"
   },
   {
    "duration": 3313,
    "start_time": "2025-02-18T16:44:32.313Z"
   },
   {
    "duration": 14,
    "start_time": "2025-02-18T16:44:47.060Z"
   },
   {
    "duration": 2541,
    "start_time": "2025-02-18T16:48:53.059Z"
   },
   {
    "duration": 2029,
    "start_time": "2025-02-18T16:48:55.604Z"
   },
   {
    "duration": 78,
    "start_time": "2025-02-18T16:48:57.635Z"
   },
   {
    "duration": 18,
    "start_time": "2025-02-18T16:48:57.715Z"
   },
   {
    "duration": 12,
    "start_time": "2025-02-18T16:48:57.737Z"
   },
   {
    "duration": 9,
    "start_time": "2025-02-18T16:48:57.750Z"
   },
   {
    "duration": 12,
    "start_time": "2025-02-18T16:48:57.760Z"
   },
   {
    "duration": 8,
    "start_time": "2025-02-18T16:48:57.773Z"
   },
   {
    "duration": 14,
    "start_time": "2025-02-18T16:48:57.782Z"
   },
   {
    "duration": 15,
    "start_time": "2025-02-18T16:48:57.798Z"
   },
   {
    "duration": 10,
    "start_time": "2025-02-18T16:48:57.815Z"
   },
   {
    "duration": 32,
    "start_time": "2025-02-18T16:48:57.826Z"
   },
   {
    "duration": 4,
    "start_time": "2025-02-18T16:48:57.860Z"
   },
   {
    "duration": 6,
    "start_time": "2025-02-18T16:48:57.867Z"
   },
   {
    "duration": 13,
    "start_time": "2025-02-18T16:48:57.875Z"
   },
   {
    "duration": 11,
    "start_time": "2025-02-18T16:48:57.890Z"
   },
   {
    "duration": 3,
    "start_time": "2025-02-18T16:48:57.903Z"
   },
   {
    "duration": 8,
    "start_time": "2025-02-18T16:48:57.908Z"
   },
   {
    "duration": 42,
    "start_time": "2025-02-18T16:48:57.918Z"
   },
   {
    "duration": 3,
    "start_time": "2025-02-18T16:48:57.962Z"
   },
   {
    "duration": 9,
    "start_time": "2025-02-18T16:48:57.967Z"
   },
   {
    "duration": 7,
    "start_time": "2025-02-18T16:48:57.978Z"
   },
   {
    "duration": 5,
    "start_time": "2025-02-18T16:48:57.987Z"
   },
   {
    "duration": 2879,
    "start_time": "2025-02-18T16:48:57.993Z"
   },
   {
    "duration": 792,
    "start_time": "2025-02-18T16:49:00.873Z"
   },
   {
    "duration": 2067,
    "start_time": "2025-02-18T16:49:01.666Z"
   },
   {
    "duration": 10,
    "start_time": "2025-02-18T16:49:03.735Z"
   },
   {
    "duration": 14,
    "start_time": "2025-02-18T16:49:03.759Z"
   },
   {
    "duration": 16,
    "start_time": "2025-02-18T16:49:03.775Z"
   },
   {
    "duration": 14,
    "start_time": "2025-02-18T16:49:03.793Z"
   },
   {
    "duration": 67,
    "start_time": "2025-02-18T16:49:03.808Z"
   },
   {
    "duration": 3567,
    "start_time": "2025-02-18T16:49:03.876Z"
   },
   {
    "duration": 14,
    "start_time": "2025-02-18T16:49:07.445Z"
   },
   {
    "duration": 307603,
    "start_time": "2025-02-18T16:49:07.461Z"
   },
   {
    "duration": 3,
    "start_time": "2025-02-18T16:54:15.065Z"
   },
   {
    "duration": 186,
    "start_time": "2025-02-18T16:54:15.069Z"
   },
   {
    "duration": 0,
    "start_time": "2025-02-18T16:54:15.257Z"
   },
   {
    "duration": 0,
    "start_time": "2025-02-18T16:54:15.258Z"
   },
   {
    "duration": 15,
    "start_time": "2025-02-18T17:02:11.695Z"
   },
   {
    "duration": 28,
    "start_time": "2025-02-18T17:02:58.292Z"
   },
   {
    "duration": 31,
    "start_time": "2025-02-18T17:03:03.395Z"
   },
   {
    "duration": 27,
    "start_time": "2025-02-18T17:03:13.255Z"
   },
   {
    "duration": 29,
    "start_time": "2025-02-18T17:03:57.661Z"
   },
   {
    "duration": 39,
    "start_time": "2025-02-18T17:04:26.006Z"
   },
   {
    "duration": 29,
    "start_time": "2025-02-18T17:04:36.355Z"
   },
   {
    "duration": 29,
    "start_time": "2025-02-18T17:13:24.234Z"
   },
   {
    "duration": 44,
    "start_time": "2025-02-18T17:13:29.971Z"
   },
   {
    "duration": 30,
    "start_time": "2025-02-18T17:14:37.611Z"
   },
   {
    "duration": 588,
    "start_time": "2025-02-18T17:14:41.997Z"
   },
   {
    "duration": 591,
    "start_time": "2025-02-18T17:14:52.419Z"
   },
   {
    "duration": 8,
    "start_time": "2025-02-18T18:37:09.294Z"
   },
   {
    "duration": 547,
    "start_time": "2025-02-18T18:40:01.261Z"
   },
   {
    "duration": 10,
    "start_time": "2025-02-18T18:42:55.532Z"
   },
   {
    "duration": 2,
    "start_time": "2025-02-18T19:05:20.971Z"
   },
   {
    "duration": 4,
    "start_time": "2025-02-18T19:41:45.073Z"
   },
   {
    "duration": 64,
    "start_time": "2025-02-18T19:41:45.079Z"
   },
   {
    "duration": 1866,
    "start_time": "2025-02-18T19:41:45.145Z"
   },
   {
    "duration": 75,
    "start_time": "2025-02-18T19:41:47.013Z"
   },
   {
    "duration": 17,
    "start_time": "2025-02-18T19:41:47.090Z"
   },
   {
    "duration": 11,
    "start_time": "2025-02-18T19:41:47.109Z"
   },
   {
    "duration": 8,
    "start_time": "2025-02-18T19:41:47.122Z"
   },
   {
    "duration": 11,
    "start_time": "2025-02-18T19:41:47.131Z"
   },
   {
    "duration": 8,
    "start_time": "2025-02-18T19:41:47.143Z"
   },
   {
    "duration": 15,
    "start_time": "2025-02-18T19:41:47.152Z"
   },
   {
    "duration": 10,
    "start_time": "2025-02-18T19:41:47.169Z"
   },
   {
    "duration": 11,
    "start_time": "2025-02-18T19:41:47.181Z"
   },
   {
    "duration": 5,
    "start_time": "2025-02-18T19:41:47.194Z"
   },
   {
    "duration": 9,
    "start_time": "2025-02-18T19:41:47.201Z"
   },
   {
    "duration": 5,
    "start_time": "2025-02-18T19:41:47.212Z"
   },
   {
    "duration": 41,
    "start_time": "2025-02-18T19:41:47.219Z"
   },
   {
    "duration": 13,
    "start_time": "2025-02-18T19:41:47.261Z"
   },
   {
    "duration": 3,
    "start_time": "2025-02-18T19:41:47.276Z"
   },
   {
    "duration": 7,
    "start_time": "2025-02-18T19:41:47.280Z"
   },
   {
    "duration": 3,
    "start_time": "2025-02-18T19:41:47.289Z"
   },
   {
    "duration": 4,
    "start_time": "2025-02-18T19:41:47.293Z"
   },
   {
    "duration": 6,
    "start_time": "2025-02-18T19:41:47.298Z"
   },
   {
    "duration": 3,
    "start_time": "2025-02-18T19:41:47.305Z"
   },
   {
    "duration": 5,
    "start_time": "2025-02-18T19:41:47.310Z"
   },
   {
    "duration": 2818,
    "start_time": "2025-02-18T19:41:47.316Z"
   },
   {
    "duration": 732,
    "start_time": "2025-02-18T19:41:50.136Z"
   },
   {
    "duration": 2062,
    "start_time": "2025-02-18T19:41:50.870Z"
   },
   {
    "duration": 9,
    "start_time": "2025-02-18T19:41:52.933Z"
   },
   {
    "duration": 75,
    "start_time": "2025-02-18T19:41:52.943Z"
   },
   {
    "duration": 86,
    "start_time": "2025-02-18T19:41:53.020Z"
   },
   {
    "duration": 15,
    "start_time": "2025-02-18T19:41:53.107Z"
   },
   {
    "duration": 33,
    "start_time": "2025-02-18T19:41:53.123Z"
   },
   {
    "duration": 3588,
    "start_time": "2025-02-18T19:41:53.158Z"
   },
   {
    "duration": 13,
    "start_time": "2025-02-18T19:41:56.749Z"
   },
   {
    "duration": 304501,
    "start_time": "2025-02-18T19:41:56.764Z"
   },
   {
    "duration": 637,
    "start_time": "2025-02-18T19:47:01.267Z"
   },
   {
    "duration": 8,
    "start_time": "2025-02-18T19:47:01.905Z"
   },
   {
    "duration": 519,
    "start_time": "2025-02-18T19:47:01.914Z"
   },
   {
    "duration": 8,
    "start_time": "2025-02-18T19:47:02.435Z"
   },
   {
    "duration": 5,
    "start_time": "2025-02-19T08:29:52.659Z"
   },
   {
    "duration": 22,
    "start_time": "2025-02-19T08:29:52.667Z"
   },
   {
    "duration": 3624,
    "start_time": "2025-02-19T08:29:52.691Z"
   },
   {
    "duration": 8464,
    "start_time": "2025-02-19T15:04:35.172Z"
   },
   {
    "duration": 3361,
    "start_time": "2025-02-19T15:06:38.289Z"
   },
   {
    "duration": 2548,
    "start_time": "2025-02-19T15:07:00.225Z"
   },
   {
    "duration": 73,
    "start_time": "2025-02-19T15:08:19.393Z"
   },
   {
    "duration": 82,
    "start_time": "2025-02-19T15:08:28.766Z"
   },
   {
    "duration": 27,
    "start_time": "2025-02-19T15:08:32.462Z"
   },
   {
    "duration": 14,
    "start_time": "2025-02-19T15:10:38.486Z"
   },
   {
    "duration": 11,
    "start_time": "2025-02-19T15:10:39.903Z"
   },
   {
    "duration": 9,
    "start_time": "2025-02-19T15:10:42.519Z"
   },
   {
    "duration": 10,
    "start_time": "2025-02-19T15:10:45.217Z"
   },
   {
    "duration": 8,
    "start_time": "2025-02-19T15:10:47.892Z"
   },
   {
    "duration": 11,
    "start_time": "2025-02-19T15:10:49.836Z"
   },
   {
    "duration": 7,
    "start_time": "2025-02-19T15:10:51.779Z"
   },
   {
    "duration": 10,
    "start_time": "2025-02-19T15:10:54.308Z"
   },
   {
    "duration": 5,
    "start_time": "2025-02-19T15:11:05.831Z"
   },
   {
    "duration": 4,
    "start_time": "2025-02-19T15:11:08.274Z"
   },
   {
    "duration": 154,
    "start_time": "2025-02-19T15:11:11.440Z"
   },
   {
    "duration": 14,
    "start_time": "2025-02-19T15:11:29.869Z"
   },
   {
    "duration": 15,
    "start_time": "2025-02-19T15:11:31.616Z"
   },
   {
    "duration": 4,
    "start_time": "2025-02-19T15:11:36.693Z"
   },
   {
    "duration": 6,
    "start_time": "2025-02-19T15:11:39.002Z"
   },
   {
    "duration": 4,
    "start_time": "2025-02-19T15:19:21.832Z"
   },
   {
    "duration": 16,
    "start_time": "2025-02-19T15:26:14.324Z"
   },
   {
    "duration": 15,
    "start_time": "2025-02-19T15:26:20.173Z"
   },
   {
    "duration": 22,
    "start_time": "2025-02-19T15:26:59.209Z"
   },
   {
    "duration": 23,
    "start_time": "2025-02-19T15:27:11.665Z"
   },
   {
    "duration": 21,
    "start_time": "2025-02-19T15:27:24.515Z"
   },
   {
    "duration": 4,
    "start_time": "2025-02-19T15:27:32.565Z"
   },
   {
    "duration": 3,
    "start_time": "2025-02-19T15:27:33.498Z"
   },
   {
    "duration": 4,
    "start_time": "2025-02-19T15:27:34.117Z"
   },
   {
    "duration": 4,
    "start_time": "2025-02-19T15:27:34.696Z"
   },
   {
    "duration": 4,
    "start_time": "2025-02-19T15:27:36.700Z"
   },
   {
    "duration": 3063,
    "start_time": "2025-02-19T15:27:39.573Z"
   },
   {
    "duration": 3004,
    "start_time": "2025-02-19T15:28:14.885Z"
   },
   {
    "duration": 438,
    "start_time": "2025-02-19T15:28:31.123Z"
   },
   {
    "duration": 1890,
    "start_time": "2025-02-19T15:28:49.136Z"
   },
   {
    "duration": 14,
    "start_time": "2025-02-19T15:29:13.253Z"
   },
   {
    "duration": 8,
    "start_time": "2025-02-19T15:37:55.399Z"
   },
   {
    "duration": 7,
    "start_time": "2025-02-19T15:42:45.633Z"
   },
   {
    "duration": 7,
    "start_time": "2025-02-19T15:44:00.231Z"
   },
   {
    "duration": 15,
    "start_time": "2025-02-19T15:44:02.336Z"
   },
   {
    "duration": 612,
    "start_time": "2025-02-19T15:44:15.083Z"
   },
   {
    "duration": 1905,
    "start_time": "2025-02-19T15:44:15.697Z"
   },
   {
    "duration": 10,
    "start_time": "2025-02-19T15:44:17.604Z"
   },
   {
    "duration": 13,
    "start_time": "2025-02-19T15:44:20.250Z"
   },
   {
    "duration": 8,
    "start_time": "2025-02-19T15:44:23.045Z"
   },
   {
    "duration": 6,
    "start_time": "2025-02-19T15:44:24.221Z"
   },
   {
    "duration": 9,
    "start_time": "2025-02-19T15:52:07.922Z"
   },
   {
    "duration": 13,
    "start_time": "2025-02-19T15:52:09.167Z"
   },
   {
    "duration": 9,
    "start_time": "2025-02-19T15:52:12.500Z"
   },
   {
    "duration": 15,
    "start_time": "2025-02-19T15:58:30.517Z"
   },
   {
    "duration": 14,
    "start_time": "2025-02-19T15:58:42.181Z"
   },
   {
    "duration": 15,
    "start_time": "2025-02-19T15:58:46.159Z"
   },
   {
    "duration": 38,
    "start_time": "2025-02-19T15:58:48.629Z"
   },
   {
    "duration": 5,
    "start_time": "2025-02-19T15:58:51.254Z"
   },
   {
    "duration": 10,
    "start_time": "2025-02-19T15:59:08.952Z"
   },
   {
    "duration": 10,
    "start_time": "2025-02-19T15:59:55.026Z"
   },
   {
    "duration": 3690,
    "start_time": "2025-02-19T16:00:01.984Z"
   },
   {
    "duration": 15,
    "start_time": "2025-02-19T16:00:27.584Z"
   },
   {
    "duration": 312300,
    "start_time": "2025-02-19T16:00:29.755Z"
   },
   {
    "duration": 704,
    "start_time": "2025-02-19T16:21:43.331Z"
   },
   {
    "duration": 65,
    "start_time": "2025-02-19T16:30:56.967Z"
   },
   {
    "duration": 1070,
    "start_time": "2025-02-19T16:47:12.080Z"
   },
   {
    "duration": 22,
    "start_time": "2025-02-19T16:47:46.308Z"
   },
   {
    "duration": 29,
    "start_time": "2025-02-19T16:50:22.050Z"
   },
   {
    "duration": 14,
    "start_time": "2025-02-19T16:52:31.815Z"
   },
   {
    "duration": 16,
    "start_time": "2025-02-19T16:52:48.362Z"
   },
   {
    "duration": 19,
    "start_time": "2025-02-19T16:52:57.500Z"
   },
   {
    "duration": 25,
    "start_time": "2025-02-19T17:12:13.374Z"
   },
   {
    "duration": 22,
    "start_time": "2025-02-19T17:13:56.498Z"
   },
   {
    "duration": 12,
    "start_time": "2025-02-19T17:15:37.154Z"
   },
   {
    "duration": 28,
    "start_time": "2025-02-19T17:20:22.011Z"
   },
   {
    "duration": 797,
    "start_time": "2025-02-19T17:20:49.583Z"
   },
   {
    "duration": 29,
    "start_time": "2025-02-19T17:20:54.082Z"
   },
   {
    "duration": 2478,
    "start_time": "2025-02-19T17:21:11.149Z"
   },
   {
    "duration": 2559,
    "start_time": "2025-02-19T17:21:13.630Z"
   },
   {
    "duration": 1984,
    "start_time": "2025-02-19T17:21:16.191Z"
   },
   {
    "duration": 79,
    "start_time": "2025-02-19T17:21:18.177Z"
   },
   {
    "duration": 17,
    "start_time": "2025-02-19T17:21:18.259Z"
   },
   {
    "duration": 16,
    "start_time": "2025-02-19T17:21:18.278Z"
   },
   {
    "duration": 8,
    "start_time": "2025-02-19T17:21:18.296Z"
   },
   {
    "duration": 12,
    "start_time": "2025-02-19T17:21:18.306Z"
   },
   {
    "duration": 7,
    "start_time": "2025-02-19T17:21:18.320Z"
   },
   {
    "duration": 38,
    "start_time": "2025-02-19T17:21:18.329Z"
   },
   {
    "duration": 7,
    "start_time": "2025-02-19T17:21:18.369Z"
   },
   {
    "duration": 10,
    "start_time": "2025-02-19T17:21:18.378Z"
   },
   {
    "duration": 5,
    "start_time": "2025-02-19T17:21:18.390Z"
   },
   {
    "duration": 5,
    "start_time": "2025-02-19T17:21:18.399Z"
   },
   {
    "duration": 12,
    "start_time": "2025-02-19T17:21:18.406Z"
   },
   {
    "duration": 50,
    "start_time": "2025-02-19T17:21:18.421Z"
   },
   {
    "duration": 4,
    "start_time": "2025-02-19T17:21:18.473Z"
   },
   {
    "duration": 12,
    "start_time": "2025-02-19T17:21:18.479Z"
   },
   {
    "duration": 5,
    "start_time": "2025-02-19T17:21:18.492Z"
   },
   {
    "duration": 13,
    "start_time": "2025-02-19T17:21:18.498Z"
   },
   {
    "duration": 6,
    "start_time": "2025-02-19T17:21:18.512Z"
   },
   {
    "duration": 4,
    "start_time": "2025-02-19T17:21:18.519Z"
   },
   {
    "duration": 36,
    "start_time": "2025-02-19T17:21:18.525Z"
   },
   {
    "duration": 4616,
    "start_time": "2025-02-19T17:21:18.563Z"
   },
   {
    "duration": 857,
    "start_time": "2025-02-19T17:21:23.180Z"
   },
   {
    "duration": 1831,
    "start_time": "2025-02-19T17:21:24.038Z"
   },
   {
    "duration": 13,
    "start_time": "2025-02-19T17:21:25.871Z"
   },
   {
    "duration": 26,
    "start_time": "2025-02-19T17:21:25.886Z"
   },
   {
    "duration": 8,
    "start_time": "2025-02-19T17:21:25.914Z"
   },
   {
    "duration": 10,
    "start_time": "2025-02-19T17:21:25.924Z"
   },
   {
    "duration": 40,
    "start_time": "2025-02-19T17:21:25.935Z"
   },
   {
    "duration": 21,
    "start_time": "2025-02-19T17:21:25.977Z"
   },
   {
    "duration": 35,
    "start_time": "2025-02-19T17:21:26.000Z"
   },
   {
    "duration": 11,
    "start_time": "2025-02-19T17:21:26.060Z"
   },
   {
    "duration": 3592,
    "start_time": "2025-02-19T17:21:26.074Z"
   },
   {
    "duration": 13,
    "start_time": "2025-02-19T17:21:29.668Z"
   },
   {
    "duration": 313895,
    "start_time": "2025-02-19T17:21:29.683Z"
   },
   {
    "duration": 643,
    "start_time": "2025-02-19T17:26:43.580Z"
   },
   {
    "duration": 21,
    "start_time": "2025-02-19T17:26:44.224Z"
   },
   {
    "duration": 716,
    "start_time": "2025-02-19T17:26:44.247Z"
   },
   {
    "duration": 7,
    "start_time": "2025-02-19T17:26:44.967Z"
   },
   {
    "duration": 154,
    "start_time": "2025-02-19T17:32:17.666Z"
   },
   {
    "duration": 88,
    "start_time": "2025-02-19T17:32:39.778Z"
   },
   {
    "duration": 18,
    "start_time": "2025-02-19T17:46:35.563Z"
   },
   {
    "duration": 6,
    "start_time": "2025-02-19T17:46:49.436Z"
   },
   {
    "duration": 6,
    "start_time": "2025-02-19T17:48:12.041Z"
   },
   {
    "duration": 362,
    "start_time": "2025-02-19T17:49:57.475Z"
   },
   {
    "duration": 301,
    "start_time": "2025-02-19T18:11:28.743Z"
   },
   {
    "duration": 134,
    "start_time": "2025-02-19T18:16:11.009Z"
   },
   {
    "duration": 275,
    "start_time": "2025-02-19T18:16:23.693Z"
   },
   {
    "duration": 328,
    "start_time": "2025-02-19T18:16:33.168Z"
   },
   {
    "duration": 69,
    "start_time": "2025-02-19T18:54:41.713Z"
   },
   {
    "duration": 2672,
    "start_time": "2025-02-19T19:27:41.249Z"
   },
   {
    "duration": 2636,
    "start_time": "2025-02-19T19:27:43.924Z"
   },
   {
    "duration": 2033,
    "start_time": "2025-02-19T19:27:46.562Z"
   },
   {
    "duration": 78,
    "start_time": "2025-02-19T19:27:48.597Z"
   },
   {
    "duration": 19,
    "start_time": "2025-02-19T19:27:48.677Z"
   },
   {
    "duration": 13,
    "start_time": "2025-02-19T19:27:48.697Z"
   },
   {
    "duration": 10,
    "start_time": "2025-02-19T19:27:48.712Z"
   },
   {
    "duration": 17,
    "start_time": "2025-02-19T19:27:48.723Z"
   },
   {
    "duration": 23,
    "start_time": "2025-02-19T19:27:48.742Z"
   },
   {
    "duration": 11,
    "start_time": "2025-02-19T19:27:48.767Z"
   },
   {
    "duration": 10,
    "start_time": "2025-02-19T19:27:48.780Z"
   },
   {
    "duration": 19,
    "start_time": "2025-02-19T19:27:48.792Z"
   },
   {
    "duration": 12,
    "start_time": "2025-02-19T19:27:48.812Z"
   },
   {
    "duration": 12,
    "start_time": "2025-02-19T19:27:48.825Z"
   },
   {
    "duration": 29,
    "start_time": "2025-02-19T19:27:48.839Z"
   },
   {
    "duration": 14,
    "start_time": "2025-02-19T19:27:48.869Z"
   },
   {
    "duration": 4,
    "start_time": "2025-02-19T19:27:48.885Z"
   },
   {
    "duration": 9,
    "start_time": "2025-02-19T19:27:48.890Z"
   },
   {
    "duration": 4,
    "start_time": "2025-02-19T19:27:48.901Z"
   },
   {
    "duration": 3,
    "start_time": "2025-02-19T19:27:48.907Z"
   },
   {
    "duration": 5,
    "start_time": "2025-02-19T19:27:48.912Z"
   },
   {
    "duration": 19,
    "start_time": "2025-02-19T19:27:48.919Z"
   },
   {
    "duration": 4,
    "start_time": "2025-02-19T19:27:48.961Z"
   },
   {
    "duration": 2748,
    "start_time": "2025-02-19T19:27:48.967Z"
   },
   {
    "duration": 539,
    "start_time": "2025-02-19T19:27:51.717Z"
   },
   {
    "duration": 1883,
    "start_time": "2025-02-19T19:27:52.262Z"
   },
   {
    "duration": 15,
    "start_time": "2025-02-19T19:27:54.147Z"
   },
   {
    "duration": 12,
    "start_time": "2025-02-19T19:27:54.166Z"
   },
   {
    "duration": 10,
    "start_time": "2025-02-19T19:27:54.180Z"
   },
   {
    "duration": 10,
    "start_time": "2025-02-19T19:27:54.192Z"
   },
   {
    "duration": 15,
    "start_time": "2025-02-19T19:27:54.203Z"
   },
   {
    "duration": 53,
    "start_time": "2025-02-19T19:27:54.220Z"
   },
   {
    "duration": 36,
    "start_time": "2025-02-19T19:27:54.275Z"
   },
   {
    "duration": 11,
    "start_time": "2025-02-19T19:27:54.313Z"
   },
   {
    "duration": 3693,
    "start_time": "2025-02-19T19:27:54.325Z"
   },
   {
    "duration": 16,
    "start_time": "2025-02-19T19:27:58.020Z"
   },
   {
    "duration": 325344,
    "start_time": "2025-02-19T19:27:58.038Z"
   },
   {
    "duration": 680,
    "start_time": "2025-02-19T19:33:23.384Z"
   },
   {
    "duration": 22,
    "start_time": "2025-02-19T19:33:24.066Z"
   },
   {
    "duration": 71,
    "start_time": "2025-02-19T19:33:24.090Z"
   },
   {
    "duration": 97,
    "start_time": "2025-02-19T19:33:24.164Z"
   },
   {
    "duration": 415,
    "start_time": "2025-02-19T19:33:24.263Z"
   },
   {
    "duration": 491,
    "start_time": "2025-02-19T19:33:24.680Z"
   },
   {
    "duration": 142,
    "start_time": "2025-02-19T19:33:25.172Z"
   },
   {
    "duration": 280,
    "start_time": "2025-02-19T19:33:25.315Z"
   },
   {
    "duration": 383,
    "start_time": "2025-02-19T19:33:25.597Z"
   },
   {
    "duration": 2598,
    "start_time": "2025-02-19T19:43:43.081Z"
   },
   {
    "duration": 2536,
    "start_time": "2025-02-19T19:43:45.681Z"
   },
   {
    "duration": 2028,
    "start_time": "2025-02-19T19:43:48.219Z"
   },
   {
    "duration": 81,
    "start_time": "2025-02-19T19:43:50.249Z"
   },
   {
    "duration": 18,
    "start_time": "2025-02-19T19:43:50.332Z"
   },
   {
    "duration": 12,
    "start_time": "2025-02-19T19:43:50.353Z"
   },
   {
    "duration": 11,
    "start_time": "2025-02-19T19:43:50.367Z"
   },
   {
    "duration": 12,
    "start_time": "2025-02-19T19:43:50.380Z"
   },
   {
    "duration": 13,
    "start_time": "2025-02-19T19:43:50.394Z"
   },
   {
    "duration": 13,
    "start_time": "2025-02-19T19:43:50.411Z"
   },
   {
    "duration": 38,
    "start_time": "2025-02-19T19:43:50.426Z"
   },
   {
    "duration": 12,
    "start_time": "2025-02-19T19:43:50.465Z"
   },
   {
    "duration": 13,
    "start_time": "2025-02-19T19:43:50.478Z"
   },
   {
    "duration": 5,
    "start_time": "2025-02-19T19:43:50.492Z"
   },
   {
    "duration": 11,
    "start_time": "2025-02-19T19:43:50.499Z"
   },
   {
    "duration": 53,
    "start_time": "2025-02-19T19:43:50.512Z"
   },
   {
    "duration": 5,
    "start_time": "2025-02-19T19:43:50.567Z"
   },
   {
    "duration": 9,
    "start_time": "2025-02-19T19:43:50.574Z"
   },
   {
    "duration": 4,
    "start_time": "2025-02-19T19:43:50.585Z"
   },
   {
    "duration": 7,
    "start_time": "2025-02-19T19:43:50.590Z"
   },
   {
    "duration": 16,
    "start_time": "2025-02-19T19:43:50.599Z"
   },
   {
    "duration": 8,
    "start_time": "2025-02-19T19:43:50.616Z"
   },
   {
    "duration": 6,
    "start_time": "2025-02-19T19:43:50.626Z"
   },
   {
    "duration": 2835,
    "start_time": "2025-02-19T19:43:50.634Z"
   },
   {
    "duration": 574,
    "start_time": "2025-02-19T19:43:53.471Z"
   },
   {
    "duration": 1884,
    "start_time": "2025-02-19T19:43:54.046Z"
   },
   {
    "duration": 8,
    "start_time": "2025-02-19T19:43:55.932Z"
   },
   {
    "duration": 31,
    "start_time": "2025-02-19T19:43:55.945Z"
   },
   {
    "duration": 11,
    "start_time": "2025-02-19T19:43:55.978Z"
   },
   {
    "duration": 7,
    "start_time": "2025-02-19T19:43:55.991Z"
   },
   {
    "duration": 21,
    "start_time": "2025-02-19T19:43:55.999Z"
   },
   {
    "duration": 15,
    "start_time": "2025-02-19T19:43:56.022Z"
   },
   {
    "duration": 55,
    "start_time": "2025-02-19T19:43:56.039Z"
   },
   {
    "duration": 9,
    "start_time": "2025-02-19T19:43:56.096Z"
   },
   {
    "duration": 3451,
    "start_time": "2025-02-19T19:43:56.107Z"
   },
   {
    "duration": 13,
    "start_time": "2025-02-19T19:43:59.560Z"
   },
   {
    "duration": 325938,
    "start_time": "2025-02-19T19:43:59.574Z"
   },
   {
    "duration": 751,
    "start_time": "2025-02-19T19:49:25.514Z"
   },
   {
    "duration": 24,
    "start_time": "2025-02-19T19:49:26.267Z"
   },
   {
    "duration": 71,
    "start_time": "2025-02-19T19:49:26.293Z"
   },
   {
    "duration": 95,
    "start_time": "2025-02-19T19:49:26.373Z"
   },
   {
    "duration": 416,
    "start_time": "2025-02-19T19:49:26.473Z"
   },
   {
    "duration": 523,
    "start_time": "2025-02-19T19:49:26.891Z"
   },
   {
    "duration": 136,
    "start_time": "2025-02-19T19:49:27.415Z"
   },
   {
    "duration": 270,
    "start_time": "2025-02-19T19:49:27.553Z"
   },
   {
    "duration": 381,
    "start_time": "2025-02-19T19:49:27.825Z"
   },
   {
    "duration": 15,
    "start_time": "2025-02-19T19:53:41.528Z"
   },
   {
    "duration": 160,
    "start_time": "2025-02-19T19:54:43.195Z"
   },
   {
    "duration": 5,
    "start_time": "2025-02-19T19:54:58.199Z"
   },
   {
    "duration": 9,
    "start_time": "2025-02-19T19:54:59.809Z"
   },
   {
    "duration": 4385,
    "start_time": "2025-02-19T19:55:15.549Z"
   },
   {
    "duration": 2721,
    "start_time": "2025-02-19T19:55:52.857Z"
   },
   {
    "duration": 2567,
    "start_time": "2025-02-19T19:55:55.581Z"
   },
   {
    "duration": 2074,
    "start_time": "2025-02-19T19:55:58.150Z"
   },
   {
    "duration": 80,
    "start_time": "2025-02-19T19:56:00.226Z"
   },
   {
    "duration": 22,
    "start_time": "2025-02-19T19:56:00.308Z"
   },
   {
    "duration": 33,
    "start_time": "2025-02-19T19:56:00.331Z"
   },
   {
    "duration": 45,
    "start_time": "2025-02-19T19:56:00.368Z"
   },
   {
    "duration": 69,
    "start_time": "2025-02-19T19:56:00.414Z"
   },
   {
    "duration": 13,
    "start_time": "2025-02-19T19:56:00.484Z"
   },
   {
    "duration": 21,
    "start_time": "2025-02-19T19:56:00.498Z"
   },
   {
    "duration": 43,
    "start_time": "2025-02-19T19:56:00.521Z"
   },
   {
    "duration": 17,
    "start_time": "2025-02-19T19:56:00.568Z"
   },
   {
    "duration": 22,
    "start_time": "2025-02-19T19:56:00.586Z"
   },
   {
    "duration": 34,
    "start_time": "2025-02-19T19:56:00.612Z"
   },
   {
    "duration": 35,
    "start_time": "2025-02-19T19:56:00.648Z"
   },
   {
    "duration": 24,
    "start_time": "2025-02-19T19:56:00.685Z"
   },
   {
    "duration": 3,
    "start_time": "2025-02-19T19:56:00.711Z"
   },
   {
    "duration": 16,
    "start_time": "2025-02-19T19:56:00.716Z"
   },
   {
    "duration": 41,
    "start_time": "2025-02-19T19:56:00.734Z"
   },
   {
    "duration": 5,
    "start_time": "2025-02-19T19:56:00.777Z"
   },
   {
    "duration": 15,
    "start_time": "2025-02-19T19:56:00.783Z"
   },
   {
    "duration": 10,
    "start_time": "2025-02-19T19:56:00.800Z"
   },
   {
    "duration": 25,
    "start_time": "2025-02-19T19:56:00.812Z"
   },
   {
    "duration": 2852,
    "start_time": "2025-02-19T19:56:00.839Z"
   },
   {
    "duration": 601,
    "start_time": "2025-02-19T19:56:03.693Z"
   },
   {
    "duration": 1900,
    "start_time": "2025-02-19T19:56:04.296Z"
   },
   {
    "duration": 8,
    "start_time": "2025-02-19T19:56:06.197Z"
   },
   {
    "duration": 47,
    "start_time": "2025-02-19T19:56:06.207Z"
   },
   {
    "duration": 38,
    "start_time": "2025-02-19T19:56:06.256Z"
   },
   {
    "duration": 17,
    "start_time": "2025-02-19T19:56:06.296Z"
   },
   {
    "duration": 44,
    "start_time": "2025-02-19T19:56:06.314Z"
   },
   {
    "duration": 47,
    "start_time": "2025-02-19T19:56:06.359Z"
   },
   {
    "duration": 49,
    "start_time": "2025-02-19T19:56:06.408Z"
   },
   {
    "duration": 8,
    "start_time": "2025-02-19T19:56:06.458Z"
   },
   {
    "duration": 3603,
    "start_time": "2025-02-19T19:56:06.469Z"
   },
   {
    "duration": 15,
    "start_time": "2025-02-19T19:56:10.074Z"
   },
   {
    "duration": 269009,
    "start_time": "2025-02-19T19:56:10.090Z"
   },
   {
    "duration": 719,
    "start_time": "2025-02-19T20:00:39.101Z"
   },
   {
    "duration": 21,
    "start_time": "2025-02-19T20:00:39.822Z"
   },
   {
    "duration": 37,
    "start_time": "2025-02-19T20:00:39.844Z"
   },
   {
    "duration": 85,
    "start_time": "2025-02-19T20:00:39.885Z"
   },
   {
    "duration": 524,
    "start_time": "2025-02-19T20:00:39.975Z"
   },
   {
    "duration": 476,
    "start_time": "2025-02-19T20:00:40.501Z"
   },
   {
    "duration": 139,
    "start_time": "2025-02-19T20:00:40.978Z"
   },
   {
    "duration": 291,
    "start_time": "2025-02-19T20:00:41.118Z"
   },
   {
    "duration": 428,
    "start_time": "2025-02-19T20:00:41.410Z"
   },
   {
    "duration": 3445,
    "start_time": "2025-02-19T20:24:04.664Z"
   },
   {
    "duration": 2412,
    "start_time": "2025-02-19T20:24:08.111Z"
   },
   {
    "duration": 1952,
    "start_time": "2025-02-19T20:24:10.525Z"
   },
   {
    "duration": 76,
    "start_time": "2025-02-19T20:24:12.479Z"
   },
   {
    "duration": 17,
    "start_time": "2025-02-19T20:24:12.558Z"
   },
   {
    "duration": 13,
    "start_time": "2025-02-19T20:24:12.577Z"
   },
   {
    "duration": 10,
    "start_time": "2025-02-19T20:24:12.591Z"
   },
   {
    "duration": 10,
    "start_time": "2025-02-19T20:24:12.603Z"
   },
   {
    "duration": 8,
    "start_time": "2025-02-19T20:24:12.615Z"
   },
   {
    "duration": 42,
    "start_time": "2025-02-19T20:24:12.624Z"
   },
   {
    "duration": 10,
    "start_time": "2025-02-19T20:24:12.668Z"
   },
   {
    "duration": 11,
    "start_time": "2025-02-19T20:24:12.679Z"
   },
   {
    "duration": 5,
    "start_time": "2025-02-19T20:24:12.692Z"
   },
   {
    "duration": 4,
    "start_time": "2025-02-19T20:24:12.701Z"
   },
   {
    "duration": 13,
    "start_time": "2025-02-19T20:24:12.707Z"
   },
   {
    "duration": 47,
    "start_time": "2025-02-19T20:24:12.722Z"
   },
   {
    "duration": 9,
    "start_time": "2025-02-19T20:24:12.770Z"
   },
   {
    "duration": 7,
    "start_time": "2025-02-19T20:24:12.780Z"
   },
   {
    "duration": 4,
    "start_time": "2025-02-19T20:24:12.788Z"
   },
   {
    "duration": 4,
    "start_time": "2025-02-19T20:24:12.794Z"
   },
   {
    "duration": 5,
    "start_time": "2025-02-19T20:24:12.799Z"
   },
   {
    "duration": 6,
    "start_time": "2025-02-19T20:24:12.806Z"
   },
   {
    "duration": 4,
    "start_time": "2025-02-19T20:24:12.814Z"
   },
   {
    "duration": 2707,
    "start_time": "2025-02-19T20:24:12.820Z"
   },
   {
    "duration": 517,
    "start_time": "2025-02-19T20:24:15.529Z"
   },
   {
    "duration": 1774,
    "start_time": "2025-02-19T20:24:16.048Z"
   },
   {
    "duration": 8,
    "start_time": "2025-02-19T20:24:17.823Z"
   },
   {
    "duration": 14,
    "start_time": "2025-02-19T20:24:17.833Z"
   },
   {
    "duration": 7,
    "start_time": "2025-02-19T20:24:17.862Z"
   },
   {
    "duration": 8,
    "start_time": "2025-02-19T20:24:17.871Z"
   },
   {
    "duration": 19,
    "start_time": "2025-02-19T20:24:17.881Z"
   },
   {
    "duration": 14,
    "start_time": "2025-02-19T20:24:17.901Z"
   },
   {
    "duration": 55,
    "start_time": "2025-02-19T20:24:17.916Z"
   },
   {
    "duration": 5,
    "start_time": "2025-02-19T20:24:17.973Z"
   },
   {
    "duration": 3503,
    "start_time": "2025-02-19T20:24:17.979Z"
   },
   {
    "duration": 13,
    "start_time": "2025-02-19T20:24:21.484Z"
   },
   {
    "duration": 257699,
    "start_time": "2025-02-19T20:24:21.499Z"
   },
   {
    "duration": 686,
    "start_time": "2025-02-19T20:28:39.200Z"
   },
   {
    "duration": 22,
    "start_time": "2025-02-19T20:28:39.887Z"
   },
   {
    "duration": 60,
    "start_time": "2025-02-19T20:28:39.910Z"
   },
   {
    "duration": 95,
    "start_time": "2025-02-19T20:28:39.978Z"
   },
   {
    "duration": 509,
    "start_time": "2025-02-19T20:28:40.076Z"
   },
   {
    "duration": 540,
    "start_time": "2025-02-19T20:28:40.586Z"
   },
   {
    "duration": 165,
    "start_time": "2025-02-19T20:28:41.128Z"
   },
   {
    "duration": 306,
    "start_time": "2025-02-19T20:28:41.295Z"
   },
   {
    "duration": 440,
    "start_time": "2025-02-19T20:28:41.603Z"
   },
   {
    "duration": 2470,
    "start_time": "2025-02-19T20:35:05.642Z"
   },
   {
    "duration": 2466,
    "start_time": "2025-02-19T20:35:08.114Z"
   },
   {
    "duration": 1899,
    "start_time": "2025-02-19T20:35:10.583Z"
   },
   {
    "duration": 86,
    "start_time": "2025-02-19T20:35:12.483Z"
   },
   {
    "duration": 18,
    "start_time": "2025-02-19T20:35:12.571Z"
   },
   {
    "duration": 13,
    "start_time": "2025-02-19T20:35:12.590Z"
   },
   {
    "duration": 17,
    "start_time": "2025-02-19T20:35:12.605Z"
   },
   {
    "duration": 20,
    "start_time": "2025-02-19T20:35:12.623Z"
   },
   {
    "duration": 8,
    "start_time": "2025-02-19T20:35:12.645Z"
   },
   {
    "duration": 15,
    "start_time": "2025-02-19T20:35:12.655Z"
   },
   {
    "duration": 8,
    "start_time": "2025-02-19T20:35:12.672Z"
   },
   {
    "duration": 9,
    "start_time": "2025-02-19T20:35:12.681Z"
   },
   {
    "duration": 6,
    "start_time": "2025-02-19T20:35:12.692Z"
   },
   {
    "duration": 14,
    "start_time": "2025-02-19T20:35:12.700Z"
   },
   {
    "duration": 14,
    "start_time": "2025-02-19T20:35:12.715Z"
   },
   {
    "duration": 37,
    "start_time": "2025-02-19T20:35:12.731Z"
   },
   {
    "duration": 12,
    "start_time": "2025-02-19T20:35:12.769Z"
   },
   {
    "duration": 6,
    "start_time": "2025-02-19T20:35:12.782Z"
   },
   {
    "duration": 4,
    "start_time": "2025-02-19T20:35:12.790Z"
   },
   {
    "duration": 8,
    "start_time": "2025-02-19T20:35:12.795Z"
   },
   {
    "duration": 5,
    "start_time": "2025-02-19T20:35:12.804Z"
   },
   {
    "duration": 4,
    "start_time": "2025-02-19T20:35:12.810Z"
   },
   {
    "duration": 7,
    "start_time": "2025-02-19T20:35:12.815Z"
   },
   {
    "duration": 2622,
    "start_time": "2025-02-19T20:35:12.823Z"
   },
   {
    "duration": 498,
    "start_time": "2025-02-19T20:35:15.447Z"
   },
   {
    "duration": 1724,
    "start_time": "2025-02-19T20:35:15.946Z"
   },
   {
    "duration": 8,
    "start_time": "2025-02-19T20:35:17.671Z"
   },
   {
    "duration": 16,
    "start_time": "2025-02-19T20:35:17.680Z"
   },
   {
    "duration": 7,
    "start_time": "2025-02-19T20:35:17.698Z"
   },
   {
    "duration": 42,
    "start_time": "2025-02-19T20:35:17.706Z"
   },
   {
    "duration": 28,
    "start_time": "2025-02-19T20:35:17.750Z"
   },
   {
    "duration": 19,
    "start_time": "2025-02-19T20:35:17.780Z"
   },
   {
    "duration": 48,
    "start_time": "2025-02-19T20:35:17.801Z"
   },
   {
    "duration": 5,
    "start_time": "2025-02-19T20:35:17.851Z"
   },
   {
    "duration": 3321,
    "start_time": "2025-02-19T20:35:17.857Z"
   },
   {
    "duration": 18,
    "start_time": "2025-02-19T20:35:21.180Z"
   },
   {
    "duration": 250220,
    "start_time": "2025-02-19T20:35:21.200Z"
   },
   {
    "duration": 695,
    "start_time": "2025-02-19T20:39:31.422Z"
   },
   {
    "duration": 23,
    "start_time": "2025-02-19T20:39:32.119Z"
   },
   {
    "duration": 119,
    "start_time": "2025-02-19T20:39:32.144Z"
   },
   {
    "duration": 92,
    "start_time": "2025-02-19T20:39:32.269Z"
   },
   {
    "duration": 436,
    "start_time": "2025-02-19T20:39:32.364Z"
   },
   {
    "duration": 481,
    "start_time": "2025-02-19T20:39:32.802Z"
   },
   {
    "duration": 147,
    "start_time": "2025-02-19T20:39:33.285Z"
   },
   {
    "duration": 300,
    "start_time": "2025-02-19T20:39:33.434Z"
   },
   {
    "duration": 422,
    "start_time": "2025-02-19T20:39:33.736Z"
   },
   {
    "duration": 5466,
    "start_time": "2025-02-20T10:26:42.057Z"
   },
   {
    "duration": 3618,
    "start_time": "2025-02-20T10:26:47.525Z"
   },
   {
    "duration": 3984,
    "start_time": "2025-02-20T10:26:51.145Z"
   },
   {
    "duration": 85,
    "start_time": "2025-02-20T10:26:55.130Z"
   },
   {
    "duration": 37,
    "start_time": "2025-02-20T10:26:55.218Z"
   },
   {
    "duration": 24,
    "start_time": "2025-02-20T10:26:55.257Z"
   },
   {
    "duration": 17,
    "start_time": "2025-02-20T10:26:55.283Z"
   },
   {
    "duration": 13,
    "start_time": "2025-02-20T10:26:55.302Z"
   },
   {
    "duration": 13,
    "start_time": "2025-02-20T10:26:55.317Z"
   },
   {
    "duration": 26,
    "start_time": "2025-02-20T10:26:55.332Z"
   },
   {
    "duration": 34,
    "start_time": "2025-02-20T10:26:55.360Z"
   },
   {
    "duration": 37,
    "start_time": "2025-02-20T10:26:55.396Z"
   },
   {
    "duration": 6,
    "start_time": "2025-02-20T10:26:55.434Z"
   },
   {
    "duration": 7,
    "start_time": "2025-02-20T10:26:55.442Z"
   },
   {
    "duration": 16,
    "start_time": "2025-02-20T10:26:55.450Z"
   },
   {
    "duration": 12,
    "start_time": "2025-02-20T10:26:55.468Z"
   },
   {
    "duration": 13,
    "start_time": "2025-02-20T10:26:55.482Z"
   },
   {
    "duration": 7,
    "start_time": "2025-02-20T10:26:55.497Z"
   },
   {
    "duration": 13,
    "start_time": "2025-02-20T10:26:55.506Z"
   },
   {
    "duration": 5,
    "start_time": "2025-02-20T10:26:55.521Z"
   },
   {
    "duration": 21,
    "start_time": "2025-02-20T10:26:55.528Z"
   },
   {
    "duration": 36,
    "start_time": "2025-02-20T10:26:55.551Z"
   },
   {
    "duration": 5,
    "start_time": "2025-02-20T10:26:55.589Z"
   },
   {
    "duration": 2586,
    "start_time": "2025-02-20T10:26:55.596Z"
   },
   {
    "duration": 518,
    "start_time": "2025-02-20T10:26:58.184Z"
   },
   {
    "duration": 1788,
    "start_time": "2025-02-20T10:26:58.703Z"
   },
   {
    "duration": 13,
    "start_time": "2025-02-20T10:27:00.493Z"
   },
   {
    "duration": 55,
    "start_time": "2025-02-20T10:27:00.507Z"
   },
   {
    "duration": 35,
    "start_time": "2025-02-20T10:27:00.564Z"
   },
   {
    "duration": 33,
    "start_time": "2025-02-20T10:27:00.600Z"
   },
   {
    "duration": 22,
    "start_time": "2025-02-20T10:27:00.635Z"
   },
   {
    "duration": 23,
    "start_time": "2025-02-20T10:27:00.658Z"
   },
   {
    "duration": 138,
    "start_time": "2025-02-20T10:27:00.683Z"
   },
   {
    "duration": 83,
    "start_time": "2025-02-20T10:27:00.823Z"
   },
   {
    "duration": 3723,
    "start_time": "2025-02-20T10:27:00.908Z"
   },
   {
    "duration": 15,
    "start_time": "2025-02-20T10:27:04.633Z"
   },
   {
    "duration": 248152,
    "start_time": "2025-02-20T10:27:04.650Z"
   },
   {
    "duration": 149,
    "start_time": "2025-02-20T10:31:12.803Z"
   },
   {
    "duration": 15,
    "start_time": "2025-02-20T10:41:16.028Z"
   },
   {
    "duration": 89,
    "start_time": "2025-02-21T20:08:58.692Z"
   },
   {
    "duration": 13,
    "start_time": "2025-02-21T20:09:03.641Z"
   },
   {
    "duration": 2695,
    "start_time": "2025-02-21T20:09:18.329Z"
   },
   {
    "duration": 2699,
    "start_time": "2025-02-21T20:09:21.026Z"
   },
   {
    "duration": 2149,
    "start_time": "2025-02-21T20:09:23.727Z"
   },
   {
    "duration": 85,
    "start_time": "2025-02-21T20:09:25.878Z"
   },
   {
    "duration": 18,
    "start_time": "2025-02-21T20:09:25.965Z"
   },
   {
    "duration": 16,
    "start_time": "2025-02-21T20:09:25.987Z"
   },
   {
    "duration": 73,
    "start_time": "2025-02-21T20:09:26.005Z"
   },
   {
    "duration": 13,
    "start_time": "2025-02-21T20:09:26.079Z"
   },
   {
    "duration": 11,
    "start_time": "2025-02-21T20:09:26.095Z"
   },
   {
    "duration": 23,
    "start_time": "2025-02-21T20:09:26.110Z"
   },
   {
    "duration": 9,
    "start_time": "2025-02-21T20:09:26.135Z"
   },
   {
    "duration": 19,
    "start_time": "2025-02-21T20:09:26.146Z"
   },
   {
    "duration": 21,
    "start_time": "2025-02-21T20:09:26.167Z"
   },
   {
    "duration": 5,
    "start_time": "2025-02-21T20:09:26.190Z"
   },
   {
    "duration": 24,
    "start_time": "2025-02-21T20:09:26.196Z"
   },
   {
    "duration": 14,
    "start_time": "2025-02-21T20:09:26.222Z"
   },
   {
    "duration": 13,
    "start_time": "2025-02-21T20:09:26.238Z"
   },
   {
    "duration": 13,
    "start_time": "2025-02-21T20:09:26.252Z"
   },
   {
    "duration": 4,
    "start_time": "2025-02-21T20:09:26.266Z"
   },
   {
    "duration": 6,
    "start_time": "2025-02-21T20:09:26.271Z"
   },
   {
    "duration": 13,
    "start_time": "2025-02-21T20:09:26.279Z"
   },
   {
    "duration": 3,
    "start_time": "2025-02-21T20:09:26.294Z"
   },
   {
    "duration": 27,
    "start_time": "2025-02-21T20:09:26.299Z"
   },
   {
    "duration": 2881,
    "start_time": "2025-02-21T20:09:26.327Z"
   },
   {
    "duration": 558,
    "start_time": "2025-02-21T20:09:29.222Z"
   },
   {
    "duration": 1974,
    "start_time": "2025-02-21T20:09:29.782Z"
   },
   {
    "duration": 9,
    "start_time": "2025-02-21T20:09:31.757Z"
   },
   {
    "duration": 19,
    "start_time": "2025-02-21T20:09:31.771Z"
   },
   {
    "duration": 17,
    "start_time": "2025-02-21T20:09:31.813Z"
   },
   {
    "duration": 11,
    "start_time": "2025-02-21T20:09:31.832Z"
   },
   {
    "duration": 17,
    "start_time": "2025-02-21T20:09:31.845Z"
   },
   {
    "duration": 15,
    "start_time": "2025-02-21T20:09:31.863Z"
   },
   {
    "duration": 70,
    "start_time": "2025-02-21T20:09:31.879Z"
   },
   {
    "duration": 4,
    "start_time": "2025-02-21T20:09:31.951Z"
   },
   {
    "duration": 4137,
    "start_time": "2025-02-21T20:09:31.957Z"
   },
   {
    "duration": 28,
    "start_time": "2025-02-21T20:09:36.096Z"
   }
  ],
  "colab": {
   "provenance": []
  },
  "kernelspec": {
   "display_name": "Python 3 (ipykernel)",
   "language": "python",
   "name": "python3"
  },
  "language_info": {
   "codemirror_mode": {
    "name": "ipython",
    "version": 3
   },
   "file_extension": ".py",
   "mimetype": "text/x-python",
   "name": "python",
   "nbconvert_exporter": "python",
   "pygments_lexer": "ipython3",
   "version": "3.9.5"
  },
  "toc": {
   "base_numbering": 1,
   "nav_menu": {},
   "number_sections": true,
   "sideBar": true,
   "skip_h1_title": true,
   "title_cell": "Table of Contents",
   "title_sidebar": "Contents",
   "toc_cell": false,
   "toc_position": {
    "height": "calc(100% - 180px)",
    "left": "10px",
    "top": "150px",
    "width": "258.906px"
   },
   "toc_section_display": true,
   "toc_window_display": true
  }
 },
 "nbformat": 4,
 "nbformat_minor": 1
}
