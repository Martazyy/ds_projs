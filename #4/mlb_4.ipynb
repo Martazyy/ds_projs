{
 "cells": [
  {
   "cell_type": "markdown",
   "metadata": {},
   "source": [
    "# Выбор локации для скважины"
   ]
  },
  {
   "cell_type": "markdown",
   "metadata": {},
   "source": [
    "**Описание проекта**\n",
    "\n",
    "\n",
    "Вам предоставлены пробы нефти в трёх регионах: в каждом 10 000 месторождений, где измерили качество нефти и объём её запасов. Постройте модель машинного обучения, которая поможет определить регион, где добыча принесёт наибольшую прибыль. Проанализируйте возможную прибыль и риски техникой *Bootstrap.*\n",
    "\n",
    "Шаги для выбора локации:\n",
    "\n",
    "- В избранном регионе ищут месторождения, для каждого определяют значения признаков;\n",
    "- Строят модель и оценивают объём запасов;\n",
    "- Выбирают месторождения с самым высокими оценками значений. Количество месторождений зависит от бюджета компании и стоимости разработки одной скважины;\n",
    "- Прибыль равна суммарной прибыли отобранных месторождений.\n",
    "\n",
    "\n",
    " **Цель исследования:**\n",
    "\n",
    "Построить линейную модель, которая поможет определить регион, где добыча принесёт наибольшую прибыль.\n",
    "\n",
    "**Ход исследования**\n",
    "\n",
    "Для задачи данные будут получены из:\n",
    " - Первый регион:\n",
    "    `/datasets/geo_data_0.csv`\n",
    " - Второй регион:\n",
    "    `/datasets/geo_data_1.csv`\n",
    " - Третий регион:\n",
    "    `/datasets/geo_data_2.csv`\n",
    "    \n",
    "\n",
    "Я проверю данные на ошибки и оценю их влияние на исследование. Затем, на этапе предобработки я поищу возможность исправить все ошибки данных, которые не приведут к искажению конечного результата. Далее, создам необходимые столбцы, и приступлю к проведению исследовательского и статического анализа. Основным этапом послужит разработка ML-модели, оценка результатов обучения. Заключительным этапом послужит расчет прибыли и подведение итогов.\n",
    "\n",
    "\n",
    "***Содержание***\n",
    "\n",
    " - [Загрузка и подготовка данных](#section1)\n",
    " - [Обучение и проверка модели](#section2)\n",
    " - [Подготовка к расчету прибыли](#section3)\n",
    " - [Расчет прибыли и рисков](#section4)\n",
    " - [Общий вывод](#section5)\n",
    " "
   ]
  },
  {
   "cell_type": "markdown",
   "metadata": {},
   "source": [
    "<a id=\"section1\"></a>\n",
    "## Загрузка и подготовка данных"
   ]
  },
  {
   "cell_type": "markdown",
   "metadata": {},
   "source": [
    "### Установка модулей и импорт библиотек"
   ]
  },
  {
   "cell_type": "code",
   "execution_count": 1,
   "metadata": {},
   "outputs": [],
   "source": [
    "!pip install phik -q"
   ]
  },
  {
   "cell_type": "code",
   "execution_count": 2,
   "metadata": {},
   "outputs": [],
   "source": [
    "!pip install scikit-learn==1.1.3 -q"
   ]
  },
  {
   "cell_type": "code",
   "execution_count": 3,
   "metadata": {},
   "outputs": [
    {
     "data": {
      "text/html": [
       "<style>.output_wrapper, .output {height:auto !important;}</style>"
      ],
      "text/plain": [
       "<IPython.core.display.HTML object>"
      ]
     },
     "metadata": {},
     "output_type": "display_data"
    }
   ],
   "source": [
    "import pandas as pd\n",
    "import matplotlib.pyplot as plt\n",
    "from scipy import stats as st\n",
    "import numpy as np\n",
    "import seaborn as sns\n",
    "import math\n",
    "%matplotlib inline\n",
    "\n",
    "from sklearn.model_selection import train_test_split\n",
    "from sklearn.linear_model import LinearRegression\n",
    "from sklearn.metrics import mean_squared_error\n",
    "\n",
    "from phik import phik_matrix \n",
    "from phik.report import plot_correlation_matrix\n",
    "\n",
    "#отключение ограничений вывода графиков по высоте\n",
    "from IPython.display import display, HTML\n",
    "display(HTML(\"<style>.output_wrapper, .output {height:auto !important;}</style>\"))\n"
   ]
  },
  {
   "cell_type": "markdown",
   "metadata": {},
   "source": [
    "### Загрузка датасетов"
   ]
  },
  {
   "cell_type": "code",
   "execution_count": 4,
   "metadata": {},
   "outputs": [],
   "source": [
    "try:\n",
    "    data_0 = pd.read_csv('/datasets/geo_data_0.csv')\n",
    "    data_1 = pd.read_csv('/datasets/geo_data_1.csv')\n",
    "    data_2 = pd.read_csv('/datasets/geo_data_2.csv')\n",
    "except Exception:\n",
    "    print(f'Ошибка при загрузке датасета(-ов)')"
   ]
  },
  {
   "cell_type": "markdown",
   "metadata": {},
   "source": [
    "### Обзор датасетов"
   ]
  },
  {
   "cell_type": "markdown",
   "metadata": {},
   "source": [
    "**Датасет geo_data_0**"
   ]
  },
  {
   "cell_type": "code",
   "execution_count": 5,
   "metadata": {},
   "outputs": [
    {
     "data": {
      "text/html": [
       "<div>\n",
       "<style scoped>\n",
       "    .dataframe tbody tr th:only-of-type {\n",
       "        vertical-align: middle;\n",
       "    }\n",
       "\n",
       "    .dataframe tbody tr th {\n",
       "        vertical-align: top;\n",
       "    }\n",
       "\n",
       "    .dataframe thead th {\n",
       "        text-align: right;\n",
       "    }\n",
       "</style>\n",
       "<table border=\"1\" class=\"dataframe\">\n",
       "  <thead>\n",
       "    <tr style=\"text-align: right;\">\n",
       "      <th></th>\n",
       "      <th>id</th>\n",
       "      <th>f0</th>\n",
       "      <th>f1</th>\n",
       "      <th>f2</th>\n",
       "      <th>product</th>\n",
       "    </tr>\n",
       "  </thead>\n",
       "  <tbody>\n",
       "    <tr>\n",
       "      <th>0</th>\n",
       "      <td>txEyH</td>\n",
       "      <td>0.705745</td>\n",
       "      <td>-0.497823</td>\n",
       "      <td>1.221170</td>\n",
       "      <td>105.280062</td>\n",
       "    </tr>\n",
       "    <tr>\n",
       "      <th>1</th>\n",
       "      <td>2acmU</td>\n",
       "      <td>1.334711</td>\n",
       "      <td>-0.340164</td>\n",
       "      <td>4.365080</td>\n",
       "      <td>73.037750</td>\n",
       "    </tr>\n",
       "    <tr>\n",
       "      <th>2</th>\n",
       "      <td>409Wp</td>\n",
       "      <td>1.022732</td>\n",
       "      <td>0.151990</td>\n",
       "      <td>1.419926</td>\n",
       "      <td>85.265647</td>\n",
       "    </tr>\n",
       "    <tr>\n",
       "      <th>3</th>\n",
       "      <td>iJLyR</td>\n",
       "      <td>-0.032172</td>\n",
       "      <td>0.139033</td>\n",
       "      <td>2.978566</td>\n",
       "      <td>168.620776</td>\n",
       "    </tr>\n",
       "    <tr>\n",
       "      <th>4</th>\n",
       "      <td>Xdl7t</td>\n",
       "      <td>1.988431</td>\n",
       "      <td>0.155413</td>\n",
       "      <td>4.751769</td>\n",
       "      <td>154.036647</td>\n",
       "    </tr>\n",
       "    <tr>\n",
       "      <th>5</th>\n",
       "      <td>wX4Hy</td>\n",
       "      <td>0.969570</td>\n",
       "      <td>0.489775</td>\n",
       "      <td>-0.735383</td>\n",
       "      <td>64.741541</td>\n",
       "    </tr>\n",
       "    <tr>\n",
       "      <th>6</th>\n",
       "      <td>tL6pL</td>\n",
       "      <td>0.645075</td>\n",
       "      <td>0.530656</td>\n",
       "      <td>1.780266</td>\n",
       "      <td>49.055285</td>\n",
       "    </tr>\n",
       "    <tr>\n",
       "      <th>7</th>\n",
       "      <td>BYPU6</td>\n",
       "      <td>-0.400648</td>\n",
       "      <td>0.808337</td>\n",
       "      <td>-5.624670</td>\n",
       "      <td>72.943292</td>\n",
       "    </tr>\n",
       "    <tr>\n",
       "      <th>8</th>\n",
       "      <td>j9Oui</td>\n",
       "      <td>0.643105</td>\n",
       "      <td>-0.551583</td>\n",
       "      <td>2.372141</td>\n",
       "      <td>113.356160</td>\n",
       "    </tr>\n",
       "    <tr>\n",
       "      <th>9</th>\n",
       "      <td>OLuZU</td>\n",
       "      <td>2.173381</td>\n",
       "      <td>0.563698</td>\n",
       "      <td>9.441852</td>\n",
       "      <td>127.910945</td>\n",
       "    </tr>\n",
       "  </tbody>\n",
       "</table>\n",
       "</div>"
      ],
      "text/plain": [
       "      id        f0        f1        f2     product\n",
       "0  txEyH  0.705745 -0.497823  1.221170  105.280062\n",
       "1  2acmU  1.334711 -0.340164  4.365080   73.037750\n",
       "2  409Wp  1.022732  0.151990  1.419926   85.265647\n",
       "3  iJLyR -0.032172  0.139033  2.978566  168.620776\n",
       "4  Xdl7t  1.988431  0.155413  4.751769  154.036647\n",
       "5  wX4Hy  0.969570  0.489775 -0.735383   64.741541\n",
       "6  tL6pL  0.645075  0.530656  1.780266   49.055285\n",
       "7  BYPU6 -0.400648  0.808337 -5.624670   72.943292\n",
       "8  j9Oui  0.643105 -0.551583  2.372141  113.356160\n",
       "9  OLuZU  2.173381  0.563698  9.441852  127.910945"
      ]
     },
     "execution_count": 5,
     "metadata": {},
     "output_type": "execute_result"
    }
   ],
   "source": [
    "data_0.head(10)"
   ]
  },
  {
   "cell_type": "code",
   "execution_count": 6,
   "metadata": {},
   "outputs": [
    {
     "name": "stdout",
     "output_type": "stream",
     "text": [
      "<class 'pandas.core.frame.DataFrame'>\n",
      "RangeIndex: 100000 entries, 0 to 99999\n",
      "Data columns (total 5 columns):\n",
      " #   Column   Non-Null Count   Dtype  \n",
      "---  ------   --------------   -----  \n",
      " 0   id       100000 non-null  object \n",
      " 1   f0       100000 non-null  float64\n",
      " 2   f1       100000 non-null  float64\n",
      " 3   f2       100000 non-null  float64\n",
      " 4   product  100000 non-null  float64\n",
      "dtypes: float64(4), object(1)\n",
      "memory usage: 3.8+ MB\n"
     ]
    }
   ],
   "source": [
    "data_0.info()"
   ]
  },
  {
   "cell_type": "markdown",
   "metadata": {},
   "source": [
    "**Датасет geo_data_1**"
   ]
  },
  {
   "cell_type": "code",
   "execution_count": 7,
   "metadata": {},
   "outputs": [
    {
     "data": {
      "text/html": [
       "<div>\n",
       "<style scoped>\n",
       "    .dataframe tbody tr th:only-of-type {\n",
       "        vertical-align: middle;\n",
       "    }\n",
       "\n",
       "    .dataframe tbody tr th {\n",
       "        vertical-align: top;\n",
       "    }\n",
       "\n",
       "    .dataframe thead th {\n",
       "        text-align: right;\n",
       "    }\n",
       "</style>\n",
       "<table border=\"1\" class=\"dataframe\">\n",
       "  <thead>\n",
       "    <tr style=\"text-align: right;\">\n",
       "      <th></th>\n",
       "      <th>id</th>\n",
       "      <th>f0</th>\n",
       "      <th>f1</th>\n",
       "      <th>f2</th>\n",
       "      <th>product</th>\n",
       "    </tr>\n",
       "  </thead>\n",
       "  <tbody>\n",
       "    <tr>\n",
       "      <th>0</th>\n",
       "      <td>kBEdx</td>\n",
       "      <td>-15.001348</td>\n",
       "      <td>-8.276000</td>\n",
       "      <td>-0.005876</td>\n",
       "      <td>3.179103</td>\n",
       "    </tr>\n",
       "    <tr>\n",
       "      <th>1</th>\n",
       "      <td>62mP7</td>\n",
       "      <td>14.272088</td>\n",
       "      <td>-3.475083</td>\n",
       "      <td>0.999183</td>\n",
       "      <td>26.953261</td>\n",
       "    </tr>\n",
       "    <tr>\n",
       "      <th>2</th>\n",
       "      <td>vyE1P</td>\n",
       "      <td>6.263187</td>\n",
       "      <td>-5.948386</td>\n",
       "      <td>5.001160</td>\n",
       "      <td>134.766305</td>\n",
       "    </tr>\n",
       "    <tr>\n",
       "      <th>3</th>\n",
       "      <td>KcrkZ</td>\n",
       "      <td>-13.081196</td>\n",
       "      <td>-11.506057</td>\n",
       "      <td>4.999415</td>\n",
       "      <td>137.945408</td>\n",
       "    </tr>\n",
       "    <tr>\n",
       "      <th>4</th>\n",
       "      <td>AHL4O</td>\n",
       "      <td>12.702195</td>\n",
       "      <td>-8.147433</td>\n",
       "      <td>5.004363</td>\n",
       "      <td>134.766305</td>\n",
       "    </tr>\n",
       "    <tr>\n",
       "      <th>5</th>\n",
       "      <td>HHckp</td>\n",
       "      <td>-3.327590</td>\n",
       "      <td>-2.205276</td>\n",
       "      <td>3.003647</td>\n",
       "      <td>84.038886</td>\n",
       "    </tr>\n",
       "    <tr>\n",
       "      <th>6</th>\n",
       "      <td>h5Ujo</td>\n",
       "      <td>-11.142655</td>\n",
       "      <td>-10.133399</td>\n",
       "      <td>4.002382</td>\n",
       "      <td>110.992147</td>\n",
       "    </tr>\n",
       "    <tr>\n",
       "      <th>7</th>\n",
       "      <td>muH9x</td>\n",
       "      <td>4.234715</td>\n",
       "      <td>-0.001354</td>\n",
       "      <td>2.004588</td>\n",
       "      <td>53.906522</td>\n",
       "    </tr>\n",
       "    <tr>\n",
       "      <th>8</th>\n",
       "      <td>YiRkx</td>\n",
       "      <td>13.355129</td>\n",
       "      <td>-0.332068</td>\n",
       "      <td>4.998647</td>\n",
       "      <td>134.766305</td>\n",
       "    </tr>\n",
       "    <tr>\n",
       "      <th>9</th>\n",
       "      <td>jG6Gi</td>\n",
       "      <td>1.069227</td>\n",
       "      <td>-11.025667</td>\n",
       "      <td>4.997844</td>\n",
       "      <td>137.945408</td>\n",
       "    </tr>\n",
       "  </tbody>\n",
       "</table>\n",
       "</div>"
      ],
      "text/plain": [
       "      id         f0         f1        f2     product\n",
       "0  kBEdx -15.001348  -8.276000 -0.005876    3.179103\n",
       "1  62mP7  14.272088  -3.475083  0.999183   26.953261\n",
       "2  vyE1P   6.263187  -5.948386  5.001160  134.766305\n",
       "3  KcrkZ -13.081196 -11.506057  4.999415  137.945408\n",
       "4  AHL4O  12.702195  -8.147433  5.004363  134.766305\n",
       "5  HHckp  -3.327590  -2.205276  3.003647   84.038886\n",
       "6  h5Ujo -11.142655 -10.133399  4.002382  110.992147\n",
       "7  muH9x   4.234715  -0.001354  2.004588   53.906522\n",
       "8  YiRkx  13.355129  -0.332068  4.998647  134.766305\n",
       "9  jG6Gi   1.069227 -11.025667  4.997844  137.945408"
      ]
     },
     "execution_count": 7,
     "metadata": {},
     "output_type": "execute_result"
    }
   ],
   "source": [
    "data_1.head(10)"
   ]
  },
  {
   "cell_type": "code",
   "execution_count": 8,
   "metadata": {},
   "outputs": [
    {
     "name": "stdout",
     "output_type": "stream",
     "text": [
      "<class 'pandas.core.frame.DataFrame'>\n",
      "RangeIndex: 100000 entries, 0 to 99999\n",
      "Data columns (total 5 columns):\n",
      " #   Column   Non-Null Count   Dtype  \n",
      "---  ------   --------------   -----  \n",
      " 0   id       100000 non-null  object \n",
      " 1   f0       100000 non-null  float64\n",
      " 2   f1       100000 non-null  float64\n",
      " 3   f2       100000 non-null  float64\n",
      " 4   product  100000 non-null  float64\n",
      "dtypes: float64(4), object(1)\n",
      "memory usage: 3.8+ MB\n"
     ]
    }
   ],
   "source": [
    "data_1.info()"
   ]
  },
  {
   "cell_type": "markdown",
   "metadata": {},
   "source": [
    "**Датасет geo_data_2**"
   ]
  },
  {
   "cell_type": "code",
   "execution_count": 9,
   "metadata": {},
   "outputs": [
    {
     "data": {
      "text/html": [
       "<div>\n",
       "<style scoped>\n",
       "    .dataframe tbody tr th:only-of-type {\n",
       "        vertical-align: middle;\n",
       "    }\n",
       "\n",
       "    .dataframe tbody tr th {\n",
       "        vertical-align: top;\n",
       "    }\n",
       "\n",
       "    .dataframe thead th {\n",
       "        text-align: right;\n",
       "    }\n",
       "</style>\n",
       "<table border=\"1\" class=\"dataframe\">\n",
       "  <thead>\n",
       "    <tr style=\"text-align: right;\">\n",
       "      <th></th>\n",
       "      <th>id</th>\n",
       "      <th>f0</th>\n",
       "      <th>f1</th>\n",
       "      <th>f2</th>\n",
       "      <th>product</th>\n",
       "    </tr>\n",
       "  </thead>\n",
       "  <tbody>\n",
       "    <tr>\n",
       "      <th>0</th>\n",
       "      <td>fwXo0</td>\n",
       "      <td>-1.146987</td>\n",
       "      <td>0.963328</td>\n",
       "      <td>-0.828965</td>\n",
       "      <td>27.758673</td>\n",
       "    </tr>\n",
       "    <tr>\n",
       "      <th>1</th>\n",
       "      <td>WJtFt</td>\n",
       "      <td>0.262778</td>\n",
       "      <td>0.269839</td>\n",
       "      <td>-2.530187</td>\n",
       "      <td>56.069697</td>\n",
       "    </tr>\n",
       "    <tr>\n",
       "      <th>2</th>\n",
       "      <td>ovLUW</td>\n",
       "      <td>0.194587</td>\n",
       "      <td>0.289035</td>\n",
       "      <td>-5.586433</td>\n",
       "      <td>62.871910</td>\n",
       "    </tr>\n",
       "    <tr>\n",
       "      <th>3</th>\n",
       "      <td>q6cA6</td>\n",
       "      <td>2.236060</td>\n",
       "      <td>-0.553760</td>\n",
       "      <td>0.930038</td>\n",
       "      <td>114.572842</td>\n",
       "    </tr>\n",
       "    <tr>\n",
       "      <th>4</th>\n",
       "      <td>WPMUX</td>\n",
       "      <td>-0.515993</td>\n",
       "      <td>1.716266</td>\n",
       "      <td>5.899011</td>\n",
       "      <td>149.600746</td>\n",
       "    </tr>\n",
       "    <tr>\n",
       "      <th>5</th>\n",
       "      <td>LzZXx</td>\n",
       "      <td>-0.758092</td>\n",
       "      <td>0.710691</td>\n",
       "      <td>2.585887</td>\n",
       "      <td>90.222465</td>\n",
       "    </tr>\n",
       "    <tr>\n",
       "      <th>6</th>\n",
       "      <td>WBHRv</td>\n",
       "      <td>-0.574891</td>\n",
       "      <td>0.317727</td>\n",
       "      <td>1.773745</td>\n",
       "      <td>45.641478</td>\n",
       "    </tr>\n",
       "    <tr>\n",
       "      <th>7</th>\n",
       "      <td>XO8fn</td>\n",
       "      <td>-1.906649</td>\n",
       "      <td>-2.458350</td>\n",
       "      <td>-0.177097</td>\n",
       "      <td>72.480640</td>\n",
       "    </tr>\n",
       "    <tr>\n",
       "      <th>8</th>\n",
       "      <td>ybmQ5</td>\n",
       "      <td>1.776292</td>\n",
       "      <td>-0.279356</td>\n",
       "      <td>3.004156</td>\n",
       "      <td>106.616832</td>\n",
       "    </tr>\n",
       "    <tr>\n",
       "      <th>9</th>\n",
       "      <td>OilcN</td>\n",
       "      <td>-1.214452</td>\n",
       "      <td>-0.439314</td>\n",
       "      <td>5.922514</td>\n",
       "      <td>52.954532</td>\n",
       "    </tr>\n",
       "  </tbody>\n",
       "</table>\n",
       "</div>"
      ],
      "text/plain": [
       "      id        f0        f1        f2     product\n",
       "0  fwXo0 -1.146987  0.963328 -0.828965   27.758673\n",
       "1  WJtFt  0.262778  0.269839 -2.530187   56.069697\n",
       "2  ovLUW  0.194587  0.289035 -5.586433   62.871910\n",
       "3  q6cA6  2.236060 -0.553760  0.930038  114.572842\n",
       "4  WPMUX -0.515993  1.716266  5.899011  149.600746\n",
       "5  LzZXx -0.758092  0.710691  2.585887   90.222465\n",
       "6  WBHRv -0.574891  0.317727  1.773745   45.641478\n",
       "7  XO8fn -1.906649 -2.458350 -0.177097   72.480640\n",
       "8  ybmQ5  1.776292 -0.279356  3.004156  106.616832\n",
       "9  OilcN -1.214452 -0.439314  5.922514   52.954532"
      ]
     },
     "execution_count": 9,
     "metadata": {},
     "output_type": "execute_result"
    }
   ],
   "source": [
    "data_2.head(10)"
   ]
  },
  {
   "cell_type": "code",
   "execution_count": 10,
   "metadata": {},
   "outputs": [
    {
     "name": "stdout",
     "output_type": "stream",
     "text": [
      "<class 'pandas.core.frame.DataFrame'>\n",
      "RangeIndex: 100000 entries, 0 to 99999\n",
      "Data columns (total 5 columns):\n",
      " #   Column   Non-Null Count   Dtype  \n",
      "---  ------   --------------   -----  \n",
      " 0   id       100000 non-null  object \n",
      " 1   f0       100000 non-null  float64\n",
      " 2   f1       100000 non-null  float64\n",
      " 3   f2       100000 non-null  float64\n",
      " 4   product  100000 non-null  float64\n",
      "dtypes: float64(4), object(1)\n",
      "memory usage: 3.8+ MB\n"
     ]
    }
   ],
   "source": [
    "data_2.info()"
   ]
  },
  {
   "cell_type": "markdown",
   "metadata": {},
   "source": [
    "### Обработка дубликатов "
   ]
  },
  {
   "cell_type": "markdown",
   "metadata": {},
   "source": [
    "**Явные дубликаты**"
   ]
  },
  {
   "cell_type": "code",
   "execution_count": 11,
   "metadata": {},
   "outputs": [
    {
     "name": "stdout",
     "output_type": "stream",
     "text": [
      "0\n",
      "0\n",
      "0\n"
     ]
    }
   ],
   "source": [
    "print(data_0.duplicated().sum())\n",
    "print(data_1.duplicated().sum())\n",
    "print(data_2.duplicated().sum())"
   ]
  },
  {
   "cell_type": "markdown",
   "metadata": {},
   "source": [
    "**Неявные дубликаты**"
   ]
  },
  {
   "cell_type": "code",
   "execution_count": 12,
   "metadata": {},
   "outputs": [
    {
     "data": {
      "text/html": [
       "<div>\n",
       "<style scoped>\n",
       "    .dataframe tbody tr th:only-of-type {\n",
       "        vertical-align: middle;\n",
       "    }\n",
       "\n",
       "    .dataframe tbody tr th {\n",
       "        vertical-align: top;\n",
       "    }\n",
       "\n",
       "    .dataframe thead th {\n",
       "        text-align: right;\n",
       "    }\n",
       "</style>\n",
       "<table border=\"1\" class=\"dataframe\">\n",
       "  <thead>\n",
       "    <tr style=\"text-align: right;\">\n",
       "      <th></th>\n",
       "      <th>id</th>\n",
       "      <th>f0</th>\n",
       "      <th>f1</th>\n",
       "      <th>f2</th>\n",
       "      <th>product</th>\n",
       "    </tr>\n",
       "  </thead>\n",
       "  <tbody>\n",
       "    <tr>\n",
       "      <th>66136</th>\n",
       "      <td>74z30</td>\n",
       "      <td>1.084962</td>\n",
       "      <td>-0.312358</td>\n",
       "      <td>6.990771</td>\n",
       "      <td>127.643327</td>\n",
       "    </tr>\n",
       "    <tr>\n",
       "      <th>64022</th>\n",
       "      <td>74z30</td>\n",
       "      <td>0.741456</td>\n",
       "      <td>0.459229</td>\n",
       "      <td>5.153109</td>\n",
       "      <td>140.771492</td>\n",
       "    </tr>\n",
       "    <tr>\n",
       "      <th>51970</th>\n",
       "      <td>A5aEY</td>\n",
       "      <td>-0.180335</td>\n",
       "      <td>0.935548</td>\n",
       "      <td>-2.094773</td>\n",
       "      <td>33.020205</td>\n",
       "    </tr>\n",
       "    <tr>\n",
       "      <th>3389</th>\n",
       "      <td>A5aEY</td>\n",
       "      <td>-0.039949</td>\n",
       "      <td>0.156872</td>\n",
       "      <td>0.209861</td>\n",
       "      <td>89.249364</td>\n",
       "    </tr>\n",
       "    <tr>\n",
       "      <th>69163</th>\n",
       "      <td>AGS9W</td>\n",
       "      <td>-0.933795</td>\n",
       "      <td>0.116194</td>\n",
       "      <td>-3.655896</td>\n",
       "      <td>19.230453</td>\n",
       "    </tr>\n",
       "    <tr>\n",
       "      <th>42529</th>\n",
       "      <td>AGS9W</td>\n",
       "      <td>1.454747</td>\n",
       "      <td>-0.479651</td>\n",
       "      <td>0.683380</td>\n",
       "      <td>126.370504</td>\n",
       "    </tr>\n",
       "    <tr>\n",
       "      <th>931</th>\n",
       "      <td>HZww2</td>\n",
       "      <td>0.755284</td>\n",
       "      <td>0.368511</td>\n",
       "      <td>1.863211</td>\n",
       "      <td>30.681774</td>\n",
       "    </tr>\n",
       "    <tr>\n",
       "      <th>7530</th>\n",
       "      <td>HZww2</td>\n",
       "      <td>1.061194</td>\n",
       "      <td>-0.373969</td>\n",
       "      <td>10.430210</td>\n",
       "      <td>158.828695</td>\n",
       "    </tr>\n",
       "    <tr>\n",
       "      <th>63593</th>\n",
       "      <td>QcMuo</td>\n",
       "      <td>0.635635</td>\n",
       "      <td>-0.473422</td>\n",
       "      <td>0.862670</td>\n",
       "      <td>64.578675</td>\n",
       "    </tr>\n",
       "    <tr>\n",
       "      <th>1949</th>\n",
       "      <td>QcMuo</td>\n",
       "      <td>0.506563</td>\n",
       "      <td>-0.323775</td>\n",
       "      <td>-2.215583</td>\n",
       "      <td>75.496502</td>\n",
       "    </tr>\n",
       "    <tr>\n",
       "      <th>75715</th>\n",
       "      <td>Tdehs</td>\n",
       "      <td>0.112079</td>\n",
       "      <td>0.430296</td>\n",
       "      <td>3.218993</td>\n",
       "      <td>60.964018</td>\n",
       "    </tr>\n",
       "    <tr>\n",
       "      <th>21426</th>\n",
       "      <td>Tdehs</td>\n",
       "      <td>0.829407</td>\n",
       "      <td>0.298807</td>\n",
       "      <td>-0.049563</td>\n",
       "      <td>96.035308</td>\n",
       "    </tr>\n",
       "    <tr>\n",
       "      <th>92341</th>\n",
       "      <td>TtcGQ</td>\n",
       "      <td>0.110711</td>\n",
       "      <td>1.022689</td>\n",
       "      <td>0.911381</td>\n",
       "      <td>101.318008</td>\n",
       "    </tr>\n",
       "    <tr>\n",
       "      <th>60140</th>\n",
       "      <td>TtcGQ</td>\n",
       "      <td>0.569276</td>\n",
       "      <td>-0.104876</td>\n",
       "      <td>6.440215</td>\n",
       "      <td>85.350186</td>\n",
       "    </tr>\n",
       "    <tr>\n",
       "      <th>89582</th>\n",
       "      <td>bsk9y</td>\n",
       "      <td>0.398908</td>\n",
       "      <td>-0.400253</td>\n",
       "      <td>10.122376</td>\n",
       "      <td>163.433078</td>\n",
       "    </tr>\n",
       "    <tr>\n",
       "      <th>97785</th>\n",
       "      <td>bsk9y</td>\n",
       "      <td>0.378429</td>\n",
       "      <td>0.005837</td>\n",
       "      <td>0.160827</td>\n",
       "      <td>160.637302</td>\n",
       "    </tr>\n",
       "    <tr>\n",
       "      <th>41724</th>\n",
       "      <td>bxg6G</td>\n",
       "      <td>-0.823752</td>\n",
       "      <td>0.546319</td>\n",
       "      <td>3.630479</td>\n",
       "      <td>93.007798</td>\n",
       "    </tr>\n",
       "    <tr>\n",
       "      <th>1364</th>\n",
       "      <td>bxg6G</td>\n",
       "      <td>0.411645</td>\n",
       "      <td>0.856830</td>\n",
       "      <td>-3.653440</td>\n",
       "      <td>73.604260</td>\n",
       "    </tr>\n",
       "    <tr>\n",
       "      <th>16633</th>\n",
       "      <td>fiKDv</td>\n",
       "      <td>0.157341</td>\n",
       "      <td>1.028359</td>\n",
       "      <td>5.585586</td>\n",
       "      <td>95.817889</td>\n",
       "    </tr>\n",
       "    <tr>\n",
       "      <th>90815</th>\n",
       "      <td>fiKDv</td>\n",
       "      <td>0.049883</td>\n",
       "      <td>0.841313</td>\n",
       "      <td>6.394613</td>\n",
       "      <td>137.346586</td>\n",
       "    </tr>\n",
       "  </tbody>\n",
       "</table>\n",
       "</div>"
      ],
      "text/plain": [
       "          id        f0        f1         f2     product\n",
       "66136  74z30  1.084962 -0.312358   6.990771  127.643327\n",
       "64022  74z30  0.741456  0.459229   5.153109  140.771492\n",
       "51970  A5aEY -0.180335  0.935548  -2.094773   33.020205\n",
       "3389   A5aEY -0.039949  0.156872   0.209861   89.249364\n",
       "69163  AGS9W -0.933795  0.116194  -3.655896   19.230453\n",
       "42529  AGS9W  1.454747 -0.479651   0.683380  126.370504\n",
       "931    HZww2  0.755284  0.368511   1.863211   30.681774\n",
       "7530   HZww2  1.061194 -0.373969  10.430210  158.828695\n",
       "63593  QcMuo  0.635635 -0.473422   0.862670   64.578675\n",
       "1949   QcMuo  0.506563 -0.323775  -2.215583   75.496502\n",
       "75715  Tdehs  0.112079  0.430296   3.218993   60.964018\n",
       "21426  Tdehs  0.829407  0.298807  -0.049563   96.035308\n",
       "92341  TtcGQ  0.110711  1.022689   0.911381  101.318008\n",
       "60140  TtcGQ  0.569276 -0.104876   6.440215   85.350186\n",
       "89582  bsk9y  0.398908 -0.400253  10.122376  163.433078\n",
       "97785  bsk9y  0.378429  0.005837   0.160827  160.637302\n",
       "41724  bxg6G -0.823752  0.546319   3.630479   93.007798\n",
       "1364   bxg6G  0.411645  0.856830  -3.653440   73.604260\n",
       "16633  fiKDv  0.157341  1.028359   5.585586   95.817889\n",
       "90815  fiKDv  0.049883  0.841313   6.394613  137.346586"
      ]
     },
     "metadata": {},
     "output_type": "display_data"
    },
    {
     "name": "stdout",
     "output_type": "stream",
     "text": [
      "Процент дубликатов: 0.02 %\n"
     ]
    },
    {
     "data": {
      "text/html": [
       "<div>\n",
       "<style scoped>\n",
       "    .dataframe tbody tr th:only-of-type {\n",
       "        vertical-align: middle;\n",
       "    }\n",
       "\n",
       "    .dataframe tbody tr th {\n",
       "        vertical-align: top;\n",
       "    }\n",
       "\n",
       "    .dataframe thead th {\n",
       "        text-align: right;\n",
       "    }\n",
       "</style>\n",
       "<table border=\"1\" class=\"dataframe\">\n",
       "  <thead>\n",
       "    <tr style=\"text-align: right;\">\n",
       "      <th></th>\n",
       "      <th>id</th>\n",
       "      <th>f0</th>\n",
       "      <th>f1</th>\n",
       "      <th>f2</th>\n",
       "      <th>product</th>\n",
       "    </tr>\n",
       "  </thead>\n",
       "  <tbody>\n",
       "    <tr>\n",
       "      <th>5849</th>\n",
       "      <td>5ltQ6</td>\n",
       "      <td>-3.435401</td>\n",
       "      <td>-12.296043</td>\n",
       "      <td>1.999796</td>\n",
       "      <td>57.085625</td>\n",
       "    </tr>\n",
       "    <tr>\n",
       "      <th>84461</th>\n",
       "      <td>5ltQ6</td>\n",
       "      <td>18.213839</td>\n",
       "      <td>2.191999</td>\n",
       "      <td>3.993869</td>\n",
       "      <td>107.813044</td>\n",
       "    </tr>\n",
       "    <tr>\n",
       "      <th>1305</th>\n",
       "      <td>LHZR0</td>\n",
       "      <td>11.170835</td>\n",
       "      <td>-1.945066</td>\n",
       "      <td>3.002872</td>\n",
       "      <td>80.859783</td>\n",
       "    </tr>\n",
       "    <tr>\n",
       "      <th>41906</th>\n",
       "      <td>LHZR0</td>\n",
       "      <td>-8.989672</td>\n",
       "      <td>-4.286607</td>\n",
       "      <td>2.009139</td>\n",
       "      <td>57.085625</td>\n",
       "    </tr>\n",
       "    <tr>\n",
       "      <th>2721</th>\n",
       "      <td>bfPNe</td>\n",
       "      <td>-9.494442</td>\n",
       "      <td>-5.463692</td>\n",
       "      <td>4.006042</td>\n",
       "      <td>110.992147</td>\n",
       "    </tr>\n",
       "    <tr>\n",
       "      <th>82178</th>\n",
       "      <td>bfPNe</td>\n",
       "      <td>-6.202799</td>\n",
       "      <td>-4.820045</td>\n",
       "      <td>2.995107</td>\n",
       "      <td>84.038886</td>\n",
       "    </tr>\n",
       "    <tr>\n",
       "      <th>47591</th>\n",
       "      <td>wt4Uk</td>\n",
       "      <td>-9.091098</td>\n",
       "      <td>-8.109279</td>\n",
       "      <td>-0.002314</td>\n",
       "      <td>3.179103</td>\n",
       "    </tr>\n",
       "    <tr>\n",
       "      <th>82873</th>\n",
       "      <td>wt4Uk</td>\n",
       "      <td>10.259972</td>\n",
       "      <td>-9.376355</td>\n",
       "      <td>4.994297</td>\n",
       "      <td>134.766305</td>\n",
       "    </tr>\n",
       "  </tbody>\n",
       "</table>\n",
       "</div>"
      ],
      "text/plain": [
       "          id         f0         f1        f2     product\n",
       "5849   5ltQ6  -3.435401 -12.296043  1.999796   57.085625\n",
       "84461  5ltQ6  18.213839   2.191999  3.993869  107.813044\n",
       "1305   LHZR0  11.170835  -1.945066  3.002872   80.859783\n",
       "41906  LHZR0  -8.989672  -4.286607  2.009139   57.085625\n",
       "2721   bfPNe  -9.494442  -5.463692  4.006042  110.992147\n",
       "82178  bfPNe  -6.202799  -4.820045  2.995107   84.038886\n",
       "47591  wt4Uk  -9.091098  -8.109279 -0.002314    3.179103\n",
       "82873  wt4Uk  10.259972  -9.376355  4.994297  134.766305"
      ]
     },
     "metadata": {},
     "output_type": "display_data"
    },
    {
     "name": "stdout",
     "output_type": "stream",
     "text": [
      "Процент дубликатов: 0.008 %\n"
     ]
    },
    {
     "data": {
      "text/html": [
       "<div>\n",
       "<style scoped>\n",
       "    .dataframe tbody tr th:only-of-type {\n",
       "        vertical-align: middle;\n",
       "    }\n",
       "\n",
       "    .dataframe tbody tr th {\n",
       "        vertical-align: top;\n",
       "    }\n",
       "\n",
       "    .dataframe thead th {\n",
       "        text-align: right;\n",
       "    }\n",
       "</style>\n",
       "<table border=\"1\" class=\"dataframe\">\n",
       "  <thead>\n",
       "    <tr style=\"text-align: right;\">\n",
       "      <th></th>\n",
       "      <th>id</th>\n",
       "      <th>f0</th>\n",
       "      <th>f1</th>\n",
       "      <th>f2</th>\n",
       "      <th>product</th>\n",
       "    </tr>\n",
       "  </thead>\n",
       "  <tbody>\n",
       "    <tr>\n",
       "      <th>45404</th>\n",
       "      <td>KUPhW</td>\n",
       "      <td>0.231846</td>\n",
       "      <td>-1.698941</td>\n",
       "      <td>4.990775</td>\n",
       "      <td>11.716299</td>\n",
       "    </tr>\n",
       "    <tr>\n",
       "      <th>55967</th>\n",
       "      <td>KUPhW</td>\n",
       "      <td>1.211150</td>\n",
       "      <td>3.176408</td>\n",
       "      <td>5.543540</td>\n",
       "      <td>132.831802</td>\n",
       "    </tr>\n",
       "    <tr>\n",
       "      <th>11449</th>\n",
       "      <td>VF7Jo</td>\n",
       "      <td>2.122656</td>\n",
       "      <td>-0.858275</td>\n",
       "      <td>5.746001</td>\n",
       "      <td>181.716817</td>\n",
       "    </tr>\n",
       "    <tr>\n",
       "      <th>49564</th>\n",
       "      <td>VF7Jo</td>\n",
       "      <td>-0.883115</td>\n",
       "      <td>0.560537</td>\n",
       "      <td>0.723601</td>\n",
       "      <td>136.233420</td>\n",
       "    </tr>\n",
       "    <tr>\n",
       "      <th>44378</th>\n",
       "      <td>Vcm5J</td>\n",
       "      <td>-1.229484</td>\n",
       "      <td>-2.439204</td>\n",
       "      <td>1.222909</td>\n",
       "      <td>137.968290</td>\n",
       "    </tr>\n",
       "    <tr>\n",
       "      <th>95090</th>\n",
       "      <td>Vcm5J</td>\n",
       "      <td>2.587702</td>\n",
       "      <td>1.986875</td>\n",
       "      <td>2.482245</td>\n",
       "      <td>92.327572</td>\n",
       "    </tr>\n",
       "    <tr>\n",
       "      <th>28039</th>\n",
       "      <td>xCHr8</td>\n",
       "      <td>1.633027</td>\n",
       "      <td>0.368135</td>\n",
       "      <td>-2.378367</td>\n",
       "      <td>6.120525</td>\n",
       "    </tr>\n",
       "    <tr>\n",
       "      <th>43233</th>\n",
       "      <td>xCHr8</td>\n",
       "      <td>-0.847066</td>\n",
       "      <td>2.101796</td>\n",
       "      <td>5.597130</td>\n",
       "      <td>184.388641</td>\n",
       "    </tr>\n",
       "  </tbody>\n",
       "</table>\n",
       "</div>"
      ],
      "text/plain": [
       "          id        f0        f1        f2     product\n",
       "45404  KUPhW  0.231846 -1.698941  4.990775   11.716299\n",
       "55967  KUPhW  1.211150  3.176408  5.543540  132.831802\n",
       "11449  VF7Jo  2.122656 -0.858275  5.746001  181.716817\n",
       "49564  VF7Jo -0.883115  0.560537  0.723601  136.233420\n",
       "44378  Vcm5J -1.229484 -2.439204  1.222909  137.968290\n",
       "95090  Vcm5J  2.587702  1.986875  2.482245   92.327572\n",
       "28039  xCHr8  1.633027  0.368135 -2.378367    6.120525\n",
       "43233  xCHr8 -0.847066  2.101796  5.597130  184.388641"
      ]
     },
     "metadata": {},
     "output_type": "display_data"
    },
    {
     "name": "stdout",
     "output_type": "stream",
     "text": [
      "Процент дубликатов: 0.008 %\n"
     ]
    }
   ],
   "source": [
    "datas = [data_0, data_1, data_2]\n",
    "\n",
    "\n",
    "for data in datas:\n",
    "    display(data[data.duplicated(subset='id', keep=False)].sort_values(by='id'))\n",
    "    count = data.duplicated(subset=['id'], keep=False).sum()\n",
    "    print(f'Процент дубликатов: {count / len(data) * 100} %')"
   ]
  },
  {
   "cell_type": "markdown",
   "metadata": {},
   "source": [
    "Имеются строки с одинаковыми ID скважин, но с разными значениями по показателям. Убедиться в том, в какой строчке верные значения не представляется возможным. Так как таких строк от общего количества в датасетах регионов <0.01%, то их можно удалить."
   ]
  },
  {
   "cell_type": "code",
   "execution_count": 13,
   "metadata": {},
   "outputs": [
    {
     "name": "stdout",
     "output_type": "stream",
     "text": [
      "Кол-во дубликатов: 0, размерность датасета: 99980\n",
      "Кол-во дубликатов: 0, размерность датасета: 99992\n",
      "Кол-во дубликатов: 0, размерность датасета: 99992\n"
     ]
    }
   ],
   "source": [
    "for data in datas:\n",
    "    data.drop_duplicates(subset=['id'], keep=False, inplace=True)\n",
    "    count = data.duplicated(subset=['id'], keep=False).sum()\n",
    "    print(f'Кол-во дубликатов: {count}, размерность датасета: {data.shape[0]}')"
   ]
  },
  {
   "cell_type": "markdown",
   "metadata": {},
   "source": [
    "### Исследовательский анализ данных"
   ]
  },
  {
   "cell_type": "markdown",
   "metadata": {},
   "source": [
    "**Основные метрики**"
   ]
  },
  {
   "cell_type": "code",
   "execution_count": 14,
   "metadata": {},
   "outputs": [],
   "source": [
    "def describe_data(df):\n",
    "    display(df.describe())"
   ]
  },
  {
   "cell_type": "markdown",
   "metadata": {},
   "source": [
    "**Графики для количественных признаков**"
   ]
  },
  {
   "cell_type": "code",
   "execution_count": 15,
   "metadata": {},
   "outputs": [],
   "source": [
    "def plot_distributions(df, numeric_columns, discrete_columns=[]):\n",
    "    for col in numeric_columns:\n",
    "        fig, axes = plt.subplots(1, 2, figsize=(12, 4))\n",
    "\n",
    "        if col in discrete_columns:\n",
    "            sns.countplot(x=df[col], ax=axes[0])\n",
    "            axes[0].set_title(f'Распределение {col}')\n",
    "        else:\n",
    "            sns.histplot(df[col], kde=True, ax=axes[0])\n",
    "            axes[0].set_title(f'Распределение {col}')\n",
    "\n",
    "        sns.boxplot(x=df[col], ax=axes[1])\n",
    "        axes[1].set_title(f'Боксплот {col}')\n",
    "        \n",
    "        axes[0].set_xlabel(col)\n",
    "        axes[0].set_ylabel('Частота')\n",
    "        axes[1].set_xlabel(col)\n",
    "        axes[1].set_ylabel('Значение')\n",
    "\n",
    "        plt.show()"
   ]
  },
  {
   "cell_type": "markdown",
   "metadata": {},
   "source": [
    "**Проверка на выбросы**"
   ]
  },
  {
   "cell_type": "code",
   "execution_count": 16,
   "metadata": {},
   "outputs": [],
   "source": [
    "def check_outliers_iqr(df, numeric_columns):\n",
    "    outliers = {}\n",
    "    for col in numeric_columns:\n",
    "        Q1 = df[col].quantile(0.25)\n",
    "        Q3 = df[col].quantile(0.75)\n",
    "        IQR = Q3 - Q1\n",
    "        lower_bound = Q1 - 1.5 * IQR\n",
    "        upper_bound = Q3 + 1.5 * IQR\n",
    "        outliers_count = ((df[col] < lower_bound) | (df[col] > upper_bound)).sum()\n",
    "        outliers[col] = outliers_count\n",
    "    print(\"Количество выбросов по признакам:\")\n",
    "    print(outliers)"
   ]
  },
  {
   "cell_type": "markdown",
   "metadata": {},
   "source": [
    "***Анализ data_0***"
   ]
  },
  {
   "cell_type": "code",
   "execution_count": 17,
   "metadata": {},
   "outputs": [
    {
     "data": {
      "text/html": [
       "<div>\n",
       "<style scoped>\n",
       "    .dataframe tbody tr th:only-of-type {\n",
       "        vertical-align: middle;\n",
       "    }\n",
       "\n",
       "    .dataframe tbody tr th {\n",
       "        vertical-align: top;\n",
       "    }\n",
       "\n",
       "    .dataframe thead th {\n",
       "        text-align: right;\n",
       "    }\n",
       "</style>\n",
       "<table border=\"1\" class=\"dataframe\">\n",
       "  <thead>\n",
       "    <tr style=\"text-align: right;\">\n",
       "      <th></th>\n",
       "      <th>f0</th>\n",
       "      <th>f1</th>\n",
       "      <th>f2</th>\n",
       "      <th>product</th>\n",
       "    </tr>\n",
       "  </thead>\n",
       "  <tbody>\n",
       "    <tr>\n",
       "      <th>count</th>\n",
       "      <td>99980.000000</td>\n",
       "      <td>99980.000000</td>\n",
       "      <td>99980.000000</td>\n",
       "      <td>99980.000000</td>\n",
       "    </tr>\n",
       "    <tr>\n",
       "      <th>mean</th>\n",
       "      <td>0.500447</td>\n",
       "      <td>0.250147</td>\n",
       "      <td>2.502638</td>\n",
       "      <td>92.499166</td>\n",
       "    </tr>\n",
       "    <tr>\n",
       "      <th>std</th>\n",
       "      <td>0.871879</td>\n",
       "      <td>0.504431</td>\n",
       "      <td>3.248056</td>\n",
       "      <td>44.289044</td>\n",
       "    </tr>\n",
       "    <tr>\n",
       "      <th>min</th>\n",
       "      <td>-1.408605</td>\n",
       "      <td>-0.848218</td>\n",
       "      <td>-12.088328</td>\n",
       "      <td>0.000000</td>\n",
       "    </tr>\n",
       "    <tr>\n",
       "      <th>25%</th>\n",
       "      <td>-0.072674</td>\n",
       "      <td>-0.200869</td>\n",
       "      <td>0.288010</td>\n",
       "      <td>56.496513</td>\n",
       "    </tr>\n",
       "    <tr>\n",
       "      <th>50%</th>\n",
       "      <td>0.502374</td>\n",
       "      <td>0.250252</td>\n",
       "      <td>2.516005</td>\n",
       "      <td>91.847928</td>\n",
       "    </tr>\n",
       "    <tr>\n",
       "      <th>75%</th>\n",
       "      <td>1.073692</td>\n",
       "      <td>0.700646</td>\n",
       "      <td>4.714884</td>\n",
       "      <td>128.564089</td>\n",
       "    </tr>\n",
       "    <tr>\n",
       "      <th>max</th>\n",
       "      <td>2.362331</td>\n",
       "      <td>1.343769</td>\n",
       "      <td>16.003790</td>\n",
       "      <td>185.364347</td>\n",
       "    </tr>\n",
       "  </tbody>\n",
       "</table>\n",
       "</div>"
      ],
      "text/plain": [
       "                 f0            f1            f2       product\n",
       "count  99980.000000  99980.000000  99980.000000  99980.000000\n",
       "mean       0.500447      0.250147      2.502638     92.499166\n",
       "std        0.871879      0.504431      3.248056     44.289044\n",
       "min       -1.408605     -0.848218    -12.088328      0.000000\n",
       "25%       -0.072674     -0.200869      0.288010     56.496513\n",
       "50%        0.502374      0.250252      2.516005     91.847928\n",
       "75%        1.073692      0.700646      4.714884    128.564089\n",
       "max        2.362331      1.343769     16.003790    185.364347"
      ]
     },
     "metadata": {},
     "output_type": "display_data"
    },
    {
     "data": {
      "image/png": "[encoded data removed]",
      "text/plain": [
       "<Figure size 864x288 with 2 Axes>"
      ]
     },
     "metadata": {
      "needs_background": "light"
     },
     "output_type": "display_data"
    },
    {
     "data": {
      "image/png": "[encoded data removed]",
      "text/plain": [
       "<Figure size 864x288 with 2 Axes>"
      ]
     },
     "metadata": {
      "needs_background": "light"
     },
     "output_type": "display_data"
    },
    {
     "data": {
      "image/png": "[encoded data removed]",
      "text/plain": [
       "<Figure size 864x288 with 2 Axes>"
      ]
     },
     "metadata": {
      "needs_background": "light"
     },
     "output_type": "display_data"
    },
    {
     "data": {
      "image/png": "[encoded data removed]",
      "text/plain": [
       "<Figure size 864x288 with 2 Axes>"
      ]
     },
     "metadata": {
      "needs_background": "light"
     },
     "output_type": "display_data"
    },
    {
     "name": "stdout",
     "output_type": "stream",
     "text": [
      "Количество выбросов по признакам:\n",
      "{'f0': 0, 'f1': 0, 'f2': 507, 'product': 0}\n"
     ]
    }
   ],
   "source": [
    "num_cols = data_0.drop(columns='id').select_dtypes(exclude=['object']).columns.to_list()\n",
    "\n",
    "describe_data(data_0.drop(columns='id'))\n",
    "plot_distributions(data_0, num_cols)\n",
    "check_outliers_iqr(data_0, num_cols)"
   ]
  },
  {
   "cell_type": "markdown",
   "metadata": {},
   "source": [
    "***Анализ data_1***"
   ]
  },
  {
   "cell_type": "code",
   "execution_count": 18,
   "metadata": {},
   "outputs": [
    {
     "data": {
      "text/html": [
       "<div>\n",
       "<style scoped>\n",
       "    .dataframe tbody tr th:only-of-type {\n",
       "        vertical-align: middle;\n",
       "    }\n",
       "\n",
       "    .dataframe tbody tr th {\n",
       "        vertical-align: top;\n",
       "    }\n",
       "\n",
       "    .dataframe thead th {\n",
       "        text-align: right;\n",
       "    }\n",
       "</style>\n",
       "<table border=\"1\" class=\"dataframe\">\n",
       "  <thead>\n",
       "    <tr style=\"text-align: right;\">\n",
       "      <th></th>\n",
       "      <th>f0</th>\n",
       "      <th>f1</th>\n",
       "      <th>f2</th>\n",
       "      <th>product</th>\n",
       "    </tr>\n",
       "  </thead>\n",
       "  <tbody>\n",
       "    <tr>\n",
       "      <th>count</th>\n",
       "      <td>99992.000000</td>\n",
       "      <td>99992.000000</td>\n",
       "      <td>99992.000000</td>\n",
       "      <td>99992.000000</td>\n",
       "    </tr>\n",
       "    <tr>\n",
       "      <th>mean</th>\n",
       "      <td>1.141363</td>\n",
       "      <td>-4.796522</td>\n",
       "      <td>2.494511</td>\n",
       "      <td>68.824148</td>\n",
       "    </tr>\n",
       "    <tr>\n",
       "      <th>std</th>\n",
       "      <td>8.965805</td>\n",
       "      <td>5.119934</td>\n",
       "      <td>1.703587</td>\n",
       "      <td>45.944889</td>\n",
       "    </tr>\n",
       "    <tr>\n",
       "      <th>min</th>\n",
       "      <td>-31.609576</td>\n",
       "      <td>-26.358598</td>\n",
       "      <td>-0.018144</td>\n",
       "      <td>0.000000</td>\n",
       "    </tr>\n",
       "    <tr>\n",
       "      <th>25%</th>\n",
       "      <td>-6.298525</td>\n",
       "      <td>-8.267985</td>\n",
       "      <td>1.000021</td>\n",
       "      <td>26.953261</td>\n",
       "    </tr>\n",
       "    <tr>\n",
       "      <th>50%</th>\n",
       "      <td>1.153190</td>\n",
       "      <td>-4.813005</td>\n",
       "      <td>2.011475</td>\n",
       "      <td>57.085625</td>\n",
       "    </tr>\n",
       "    <tr>\n",
       "      <th>75%</th>\n",
       "      <td>8.620964</td>\n",
       "      <td>-1.332704</td>\n",
       "      <td>3.999904</td>\n",
       "      <td>107.813044</td>\n",
       "    </tr>\n",
       "    <tr>\n",
       "      <th>max</th>\n",
       "      <td>29.421755</td>\n",
       "      <td>18.734063</td>\n",
       "      <td>5.019721</td>\n",
       "      <td>137.945408</td>\n",
       "    </tr>\n",
       "  </tbody>\n",
       "</table>\n",
       "</div>"
      ],
      "text/plain": [
       "                 f0            f1            f2       product\n",
       "count  99992.000000  99992.000000  99992.000000  99992.000000\n",
       "mean       1.141363     -4.796522      2.494511     68.824148\n",
       "std        8.965805      5.119934      1.703587     45.944889\n",
       "min      -31.609576    -26.358598     -0.018144      0.000000\n",
       "25%       -6.298525     -8.267985      1.000021     26.953261\n",
       "50%        1.153190     -4.813005      2.011475     57.085625\n",
       "75%        8.620964     -1.332704      3.999904    107.813044\n",
       "max       29.421755     18.734063      5.019721    137.945408"
      ]
     },
     "metadata": {},
     "output_type": "display_data"
    },
    {
     "data": {
      "image/png": "[encoded data removed]",
      "text/plain": [
       "<Figure size 864x288 with 2 Axes>"
      ]
     },
     "metadata": {
      "needs_background": "light"
     },
     "output_type": "display_data"
    },
    {
     "data": {
      "image/png": "[encoded data removed]",
      "text/plain": [
       "<Figure size 864x288 with 2 Axes>"
      ]
     },
     "metadata": {
      "needs_background": "light"
     },
     "output_type": "display_data"
    },
    {
     "data": {
      "image/png": "[encoded data removed]",
      "text/plain": [
       "<Figure size 864x288 with 2 Axes>"
      ]
     },
     "metadata": {
      "needs_background": "light"
     },
     "output_type": "display_data"
    },
    {
     "data": {
      "image/png": "[encoded data removed]",
      "text/plain": [
       "<Figure size 864x288 with 2 Axes>"
      ]
     },
     "metadata": {
      "needs_background": "light"
     },
     "output_type": "display_data"
    },
    {
     "name": "stdout",
     "output_type": "stream",
     "text": [
      "Количество выбросов по признакам:\n",
      "{'f0': 1, 'f1': 636, 'f2': 0, 'product': 0}\n"
     ]
    }
   ],
   "source": [
    "num_cols = data_1.drop(columns='id').select_dtypes(exclude=['object']).columns.to_list()\n",
    "\n",
    "describe_data(data_1.drop(columns='id'))\n",
    "plot_distributions(data_1, num_cols)\n",
    "check_outliers_iqr(data_1, num_cols)"
   ]
  },
  {
   "cell_type": "markdown",
   "metadata": {},
   "source": [
    "***Анализ data_2***"
   ]
  },
  {
   "cell_type": "code",
   "execution_count": 19,
   "metadata": {},
   "outputs": [
    {
     "data": {
      "text/html": [
       "<div>\n",
       "<style scoped>\n",
       "    .dataframe tbody tr th:only-of-type {\n",
       "        vertical-align: middle;\n",
       "    }\n",
       "\n",
       "    .dataframe tbody tr th {\n",
       "        vertical-align: top;\n",
       "    }\n",
       "\n",
       "    .dataframe thead th {\n",
       "        text-align: right;\n",
       "    }\n",
       "</style>\n",
       "<table border=\"1\" class=\"dataframe\">\n",
       "  <thead>\n",
       "    <tr style=\"text-align: right;\">\n",
       "      <th></th>\n",
       "      <th>f0</th>\n",
       "      <th>f1</th>\n",
       "      <th>f2</th>\n",
       "      <th>product</th>\n",
       "    </tr>\n",
       "  </thead>\n",
       "  <tbody>\n",
       "    <tr>\n",
       "      <th>count</th>\n",
       "      <td>99992.000000</td>\n",
       "      <td>99992.000000</td>\n",
       "      <td>99992.000000</td>\n",
       "      <td>99992.000000</td>\n",
       "    </tr>\n",
       "    <tr>\n",
       "      <th>mean</th>\n",
       "      <td>0.001975</td>\n",
       "      <td>-0.002113</td>\n",
       "      <td>2.495088</td>\n",
       "      <td>94.998767</td>\n",
       "    </tr>\n",
       "    <tr>\n",
       "      <th>std</th>\n",
       "      <td>1.732061</td>\n",
       "      <td>1.730404</td>\n",
       "      <td>3.473491</td>\n",
       "      <td>44.747763</td>\n",
       "    </tr>\n",
       "    <tr>\n",
       "      <th>min</th>\n",
       "      <td>-8.760004</td>\n",
       "      <td>-7.084020</td>\n",
       "      <td>-11.970335</td>\n",
       "      <td>0.000000</td>\n",
       "    </tr>\n",
       "    <tr>\n",
       "      <th>25%</th>\n",
       "      <td>-1.162328</td>\n",
       "      <td>-1.174820</td>\n",
       "      <td>0.130269</td>\n",
       "      <td>59.450441</td>\n",
       "    </tr>\n",
       "    <tr>\n",
       "      <th>50%</th>\n",
       "      <td>0.009411</td>\n",
       "      <td>-0.009580</td>\n",
       "      <td>2.484236</td>\n",
       "      <td>94.925026</td>\n",
       "    </tr>\n",
       "    <tr>\n",
       "      <th>75%</th>\n",
       "      <td>1.158442</td>\n",
       "      <td>1.163592</td>\n",
       "      <td>4.858662</td>\n",
       "      <td>130.585544</td>\n",
       "    </tr>\n",
       "    <tr>\n",
       "      <th>max</th>\n",
       "      <td>7.238262</td>\n",
       "      <td>7.844801</td>\n",
       "      <td>16.739402</td>\n",
       "      <td>190.029838</td>\n",
       "    </tr>\n",
       "  </tbody>\n",
       "</table>\n",
       "</div>"
      ],
      "text/plain": [
       "                 f0            f1            f2       product\n",
       "count  99992.000000  99992.000000  99992.000000  99992.000000\n",
       "mean       0.001975     -0.002113      2.495088     94.998767\n",
       "std        1.732061      1.730404      3.473491     44.747763\n",
       "min       -8.760004     -7.084020    -11.970335      0.000000\n",
       "25%       -1.162328     -1.174820      0.130269     59.450441\n",
       "50%        0.009411     -0.009580      2.484236     94.925026\n",
       "75%        1.158442      1.163592      4.858662    130.585544\n",
       "max        7.238262      7.844801     16.739402    190.029838"
      ]
     },
     "metadata": {},
     "output_type": "display_data"
    },
    {
     "data": {
      "image/png": "[encoded data removed]",
      "text/plain": [
       "<Figure size 864x288 with 2 Axes>"
      ]
     },
     "metadata": {
      "needs_background": "light"
     },
     "output_type": "display_data"
    },
    {
     "data": {
      "image/png": "[encoded data removed]",
      "text/plain": [
       "<Figure size 864x288 with 2 Axes>"
      ]
     },
     "metadata": {
      "needs_background": "light"
     },
     "output_type": "display_data"
    },
    {
     "data": {
      "image/png": "[encoded data removed]",
      "text/plain": [
       "<Figure size 864x288 with 2 Axes>"
      ]
     },
     "metadata": {
      "needs_background": "light"
     },
     "output_type": "display_data"
    },
    {
     "data": {
      "image/png": "[encoded data removed]",
      "text/plain": [
       "<Figure size 864x288 with 2 Axes>"
      ]
     },
     "metadata": {
      "needs_background": "light"
     },
     "output_type": "display_data"
    },
    {
     "name": "stdout",
     "output_type": "stream",
     "text": [
      "Количество выбросов по признакам:\n",
      "{'f0': 733, 'f1': 684, 'f2': 584, 'product': 0}\n"
     ]
    }
   ],
   "source": [
    "num_cols = data_2.drop(columns='id').select_dtypes(exclude=['object']).columns.to_list()\n",
    "\n",
    "describe_data(data_2.drop(columns='id'))\n",
    "plot_distributions(data_2, num_cols)\n",
    "check_outliers_iqr(data_2, num_cols)"
   ]
  },
  {
   "cell_type": "markdown",
   "metadata": {},
   "source": [
    "### Корреляционный анализ"
   ]
  },
  {
   "cell_type": "code",
   "execution_count": 20,
   "metadata": {},
   "outputs": [],
   "source": [
    "def matrix(data, inter_cols):\n",
    "\n",
    "    phik_overview = phik_matrix(data.drop(columns=['id']), interval_cols=inter_cols) \n",
    "\n",
    "    plot_correlation_matrix(\n",
    "        phik_overview.values,\n",
    "        x_labels=phik_overview.columns,\n",
    "        y_labels=phik_overview.index,\n",
    "        vmin=0, vmax=1, color_map='Greens',\n",
    "        title=r'correlation $\\phi_K$',\n",
    "        fontsize_factor=1.5,\n",
    "        figsize=(20, 15)\n",
    "    ) "
   ]
  },
  {
   "cell_type": "code",
   "execution_count": 21,
   "metadata": {},
   "outputs": [
    {
     "name": "stderr",
     "output_type": "stream",
     "text": [
      "/opt/conda/lib/python3.9/site-packages/phik/data_quality.py:59: UserWarning: The number of unique values of variable f2 is large: 99992. Are you sure this is not an interval variable? Analysis for pairs of variables including f2 can be slow.\n",
      "  warnings.warn(\n"
     ]
    },
    {
     "data": {
      "image/png": "[encoded data removed]",
      "text/plain": [
       "<Figure size 1440x1080 with 2 Axes>"
      ]
     },
     "metadata": {
      "needs_background": "light"
     },
     "output_type": "display_data"
    },
    {
     "data": {
      "image/png": "[encoded data removed]",
      "text/plain": [
       "<Figure size 1440x1080 with 2 Axes>"
      ]
     },
     "metadata": {
      "needs_background": "light"
     },
     "output_type": "display_data"
    },
    {
     "data": {
      "image/png": "[encoded data removed]",
      "text/plain": [
       "<Figure size 1440x1080 with 2 Axes>"
      ]
     },
     "metadata": {
      "needs_background": "light"
     },
     "output_type": "display_data"
    }
   ],
   "source": [
    "inter_cols_data_0 = ['f0', 'f1', 'f2', 'product']\n",
    "inter_cols_data_1 = ['f0', 'f1']\n",
    "inter_cols_data_2 = ['f0', 'f1', 'f2', 'product']\n",
    "\n",
    "matrix(data_0, inter_cols_data_0)\n",
    "matrix(data_1, inter_cols_data_1)\n",
    "matrix(data_2, inter_cols_data_2)"
   ]
  },
  {
   "cell_type": "markdown",
   "metadata": {},
   "source": [
    "### Промежуточный вывод"
   ]
  },
  {
   "cell_type": "markdown",
   "metadata": {},
   "source": [
    "**На основе выполнения первого шага можно сделать следующие выводы:**\n",
    " - выполенен импорт необходимых библиотек\n",
    " - датасеты 3-х регионов успешно загружены\n",
    " - обзор датасетов показал, что пропущенные значения отсутствуют, типы данных соответствуют значениям\n",
    " - было обнаружено наличие строк с одинаковыми ID скажин, но разными значениями в показателях - принято решение удаления таких строк\n",
    " - исследовательский анализ данных показал нормальное распределение данных, показатели `f2` и `product` во втором регионе имеют категориальные значения\n",
    " - корреляционный анализ показал наличие (утечки целевого признака?) во втором регионе - `f2` и `product` - 1.0, но так как данные синтетические и нет возможности понять, за что отвечают те или иные показатели, оставим все как есть"
   ]
  },
  {
   "cell_type": "markdown",
   "metadata": {},
   "source": [
    "<a id=\"section2\"></a>\n",
    "## Обучение и проверка модели"
   ]
  },
  {
   "cell_type": "markdown",
   "metadata": {},
   "source": [
    "### Обучение и проверка модели для каждого региона"
   ]
  },
  {
   "cell_type": "code",
   "execution_count": 22,
   "metadata": {},
   "outputs": [],
   "source": [
    "def train_region_model(data, region_number):\n",
    "    print(f\"\\n=== Регион {region_number} ===\")\n",
    "    \n",
    "    features = data.drop(['id', 'product'], axis=1)\n",
    "    target = data['product']\n",
    "    \n",
    "    X_train, X_valid, y_train, y_valid = train_test_split(\n",
    "        features, target, test_size=0.25, random_state=42\n",
    "    )\n",
    "    \n",
    "    model = LinearRegression()\n",
    "    model.fit(X_train, y_train)\n",
    "    \n",
    "    predictions = model.predict(X_valid)\n",
    "    \n",
    "    mean_pred = predictions.mean()\n",
    "    \n",
    "    mean_actual = y_valid.mean()\n",
    "    \n",
    "    rmse = mean_squared_error(y_valid, predictions, squared=False)\n",
    "    \n",
    "    print(f\"Средний предсказанный запас сырья: {mean_pred:.2f} тыс. баррелей\")\n",
    "    print(f\"Средний целевой запас сырья: {mean_actual:.2f} тыс. баррелей\")\n",
    "    print(f\"RMSE модели: {rmse:.2f}\")\n",
    "    \n",
    "    results = pd.DataFrame({'actual': y_valid.reset_index(drop=True),\n",
    "                            'predicted': predictions})\n",
    "    \n",
    "    return results, model\n",
    "\n"
   ]
  },
  {
   "cell_type": "markdown",
   "metadata": {},
   "source": [
    "### Получение предсказаний"
   ]
  },
  {
   "cell_type": "code",
   "execution_count": 23,
   "metadata": {},
   "outputs": [
    {
     "name": "stdout",
     "output_type": "stream",
     "text": [
      "\n",
      "=== Регион 1 ===\n",
      "Средний предсказанный запас сырья: 92.29 тыс. баррелей\n",
      "Средний целевой запас сырья: 92.37 тыс. баррелей\n",
      "RMSE модели: 37.76\n",
      "\n",
      "=== Регион 2 ===\n",
      "Средний предсказанный запас сырья: 69.17 тыс. баррелей\n",
      "Средний целевой запас сырья: 69.16 тыс. баррелей\n",
      "RMSE модели: 0.89\n",
      "\n",
      "=== Регион 3 ===\n",
      "Средний предсказанный запас сырья: 94.82 тыс. баррелей\n",
      "Средний целевой запас сырья: 95.06 тыс. баррелей\n",
      "RMSE модели: 40.13\n"
     ]
    }
   ],
   "source": [
    "results_0, model_0 = train_region_model(data_0, 1)\n",
    "results_1, model_1 = train_region_model(data_1, 2)\n",
    "results_2, model_2 = train_region_model(data_2, 3)"
   ]
  },
  {
   "cell_type": "markdown",
   "metadata": {},
   "source": [
    "### Анализ результатов"
   ]
  },
  {
   "cell_type": "markdown",
   "metadata": {},
   "source": [
    "**Регион 1**\n",
    "\n",
    " - Средний предсказанный объём: 92.29 тыс. баррелей\n",
    "\n",
    " - RMSE: 37.76\n",
    "\n",
    "Вывод: Модель работает средне — RMSE высокое, предсказания могут сильно отклоняться от реальных значений.\n",
    "\n",
    "**Регион 2**\n",
    "\n",
    " - Средний предсказанный объём: 69.17 тыс. баррелей\n",
    "\n",
    " - RMSE: 0.89\n",
    "\n",
    "Вывод: Это лучшая модель по точности. RMSE очень низкое — модель точно предсказывает объёмы.\n",
    "Но средний запас ниже, чем в других регионах.\n",
    "\n",
    "**Регион 3**\n",
    "\n",
    " - Средний предсказанный объём: 94.82 тыс. баррелей\n",
    "\n",
    " - RMSE: 40.13\n",
    "\n",
    "Вывод: Самый высокий предсказанный объём, но и самая высокая ошибка. Модель неточная."
   ]
  },
  {
   "cell_type": "markdown",
   "metadata": {},
   "source": [
    "### Промежуточные результаты"
   ]
  },
  {
   "cell_type": "markdown",
   "metadata": {},
   "source": [
    " - Создана функция, модели успешно обучены для всех трёх регионов\n",
    "\n",
    " - Регион 2 показывает наивысшую точность предсказаний, но с наименьшим средним запасом\n",
    "\n",
    " - Регионы 1 и 3 выглядят более перспективными по объёмам сырья, но модели в них менее надёжны\n",
    "\n",
    " - Из-за отсутствия расшифровки признаков f0, f1, f2, возможности по улучшению моделей ограничены"
   ]
  },
  {
   "cell_type": "markdown",
   "metadata": {},
   "source": [
    "<a id=\"section3\"></a>\n",
    "## Подготовка к расчёту прибыли"
   ]
  },
  {
   "cell_type": "markdown",
   "metadata": {},
   "source": [
    "### Сохранение ключевых значений"
   ]
  },
  {
   "cell_type": "markdown",
   "metadata": {},
   "source": [
    "Переменные пишем большими буквами, так как это константы, в процессе рассчетов они не изменяются"
   ]
  },
  {
   "cell_type": "code",
   "execution_count": 24,
   "metadata": {},
   "outputs": [],
   "source": [
    "BUDGET = 10_000_000_000  # Бюджет на разработку региона, рублей\n",
    "BARREL_REVENUE = 450_000  # Доход с 1 тыс. баррелей, рублей\n",
    "NUM_WELLS = 200  # Количество скважин для разработки\n",
    "TOTAL_WELLS = 500  # Количество скважин для исследования"
   ]
  },
  {
   "cell_type": "markdown",
   "metadata": {},
   "source": [
    "### Расчёт минимального объёма сырья для безубыточности"
   ]
  },
  {
   "cell_type": "code",
   "execution_count": 25,
   "metadata": {},
   "outputs": [
    {
     "name": "stdout",
     "output_type": "stream",
     "text": [
      "Минимальный необходимый объём на одну скважину: 111.11 тыс. баррелей\n"
     ]
    }
   ],
   "source": [
    "min_volume = BUDGET / (NUM_WELLS * BARREL_REVENUE)\n",
    "print(f\"Минимальный необходимый объём на одну скважину: {min_volume:.2f} тыс. баррелей\")"
   ]
  },
  {
   "cell_type": "markdown",
   "metadata": {},
   "source": [
    "**Сравнение с фактическими средними предсказанными объёмами**\n",
    "\n",
    "Регион 1 - 92.29 тыс. баррелей\n",
    "\n",
    "Регион 2 - 69.17 тыс. баррелей\n",
    "\n",
    "Регион 3 - 94.82 тыс. баррелей"
   ]
  },
  {
   "cell_type": "code",
   "execution_count": 26,
   "metadata": {},
   "outputs": [
    {
     "name": "stdout",
     "output_type": "stream",
     "text": [
      "\n",
      "Сравнение с фактическими средними объёмами:\n",
      "Регион 1:\n",
      "  Средний предсказанный запас: 92.29 тыс. баррелей\n",
      "  Средний реальный запас: 92.37 тыс. баррелей\n",
      "Регион 2:\n",
      "  Средний предсказанный запас: 69.17 тыс. баррелей\n",
      "  Средний реальный запас: 69.16 тыс. баррелей\n",
      "Регион 3:\n",
      "  Средний предсказанный запас: 94.82 тыс. баррелей\n",
      "  Средний реальный запас: 95.06 тыс. баррелей\n"
     ]
    }
   ],
   "source": [
    "mean_pred_0 = 92.29  \n",
    "mean_pred_1 = 69.17 \n",
    "mean_pred_2 = 94.82 \n",
    "\n",
    "mean_actual_0 = results_0['actual'].mean() \n",
    "mean_actual_1 = results_1['actual'].mean() \n",
    "mean_actual_2 = results_2['actual'].mean()\n",
    "\n",
    "\n",
    "print(\"\\nСравнение с фактическими средними объёмами:\")\n",
    "print(f\"Регион 1:\")\n",
    "print(f\"  Средний предсказанный запас: {mean_pred_0:.2f} тыс. баррелей\")\n",
    "print(f\"  Средний реальный запас: {mean_actual_0:.2f} тыс. баррелей\")\n",
    "print(f\"Регион 2:\")\n",
    "print(f\"  Средний предсказанный запас: {mean_pred_1:.2f} тыс. баррелей\")\n",
    "print(f\"  Средний реальный запас: {mean_actual_1:.2f} тыс. баррелей\")\n",
    "print(f\"Регион 3:\")\n",
    "print(f\"  Средний предсказанный запас: {mean_pred_2:.2f} тыс. баррелей\")\n",
    "print(f\"  Средний реальный запас: {mean_actual_2:.2f} тыс. баррелей\")"
   ]
  },
  {
   "cell_type": "markdown",
   "metadata": {},
   "source": [
    "### Промежуточный вывод"
   ]
  },
  {
   "cell_type": "markdown",
   "metadata": {},
   "source": [
    " - Чтобы проект не ушёл в убыток, каждая скважина должна дать минимум ~111.1 тыс. баррелей.\n",
    "\n",
    " - Средний целевойй запас в каждом регионе:\n",
    "\n",
    "   - Регион 0: 92.37 тыс. баррелей\n",
    "\n",
    "   - Регион 1: 69.16 тыс. баррелей\n",
    "\n",
    "   - Регион 2: 95.06 тыс. баррелей\n",
    "\n",
    " - Во всех трёх регионах средний фактический объём ниже порогового значения, что указывает на высокий риск убытков, если выбирать скважины случайно.\n",
    "\n",
    " - Однако в следующих шагах мы будем выбирать только 200 лучших скважин из 500 по предсказанному запасу — это может значительно повысить среднюю прибыль и снизить риск."
   ]
  },
  {
   "cell_type": "markdown",
   "metadata": {},
   "source": [
    "<a id=\"section4\"></a>\n",
    "## Расчёт прибыли и рисков "
   ]
  },
  {
   "cell_type": "markdown",
   "metadata": {},
   "source": [
    "### Функция расчета прибыли"
   ]
  },
  {
   "cell_type": "markdown",
   "metadata": {},
   "source": [
    "Функция рассчитывает прибыль по датафрейму с реальными и предсказанными значениями."
   ]
  },
  {
   "cell_type": "code",
   "execution_count": 27,
   "metadata": {},
   "outputs": [],
   "source": [
    "def calculate_profit(results_df, budget, barrel_revenue, num_wells):\n",
    "\n",
    "    top_200 = results_df.sort_values(by='predicted', ascending=False).head(num_wells)\n",
    "    \n",
    "    total_volume = top_200['actual'].sum()\n",
    "    \n",
    "    revenue = total_volume * barrel_revenue\n",
    "    \n",
    "    profit = revenue - budget\n",
    "    return profit"
   ]
  },
  {
   "cell_type": "markdown",
   "metadata": {},
   "source": [
    "### Получение результатов"
   ]
  },
  {
   "cell_type": "code",
   "execution_count": 28,
   "metadata": {},
   "outputs": [
    {
     "name": "stdout",
     "output_type": "stream",
     "text": [
      "Прибыль региона 1: 3,301,821,343.65 руб.\n",
      "Прибыль региона 2: 2,415,086,696.68 руб.\n",
      "Прибыль региона 3: 2,103,914,701.30 руб.\n"
     ]
    }
   ],
   "source": [
    "profit_0 = calculate_profit(results_0, BUDGET, BARREL_REVENUE, NUM_WELLS)\n",
    "profit_1 = calculate_profit(results_1, BUDGET, BARREL_REVENUE, NUM_WELLS)\n",
    "profit_2 = calculate_profit(results_2, BUDGET, BARREL_REVENUE, NUM_WELLS)\n",
    "\n",
    "print(f'Прибыль региона 1: {profit_0:,.2f} руб.')\n",
    "print(f'Прибыль региона 2: {profit_1:,.2f} руб.')\n",
    "print(f'Прибыль региона 3: {profit_2:,.2f} руб.')"
   ]
  },
  {
   "cell_type": "markdown",
   "metadata": {},
   "source": [
    "**Вывод:** Регион 1 показывает наибольшую прибыль по результатам отбора 200 лучших скважин."
   ]
  },
  {
   "cell_type": "markdown",
   "metadata": {},
   "source": [
    "###  Применение техники Bootstrap"
   ]
  },
  {
   "cell_type": "markdown",
   "metadata": {},
   "source": [
    "Функция возвращает массив прибыли по 1000 случайным выборкам Bootstrap."
   ]
  },
  {
   "cell_type": "code",
   "execution_count": 29,
   "metadata": {},
   "outputs": [],
   "source": [
    "def bootstrap_profit(results_df, budget, barrel_revenue, total_wells, num_wells, n_bootstrap=1000):\n",
    "    profits = []\n",
    "    state = np.random.RandomState(42)\n",
    "    \n",
    "    for _ in range(n_bootstrap):\n",
    "        sample = results_df.sample(n=total_wells, replace=True, random_state=state)\n",
    "        \n",
    "        profit = calculate_profit(sample, budget, barrel_revenue, num_wells)\n",
    "        profits.append(profit)\n",
    "    \n",
    "    return profits"
   ]
  },
  {
   "cell_type": "code",
   "execution_count": 30,
   "metadata": {},
   "outputs": [],
   "source": [
    "state_0 = bootstrap_profit(results_0, BUDGET, BARREL_REVENUE, TOTAL_WELLS, NUM_WELLS)\n",
    "state_1 = bootstrap_profit(results_1, BUDGET, BARREL_REVENUE, TOTAL_WELLS, NUM_WELLS)\n",
    "state_2 = bootstrap_profit(results_2, BUDGET, BARREL_REVENUE, TOTAL_WELLS, NUM_WELLS)"
   ]
  },
  {
   "cell_type": "markdown",
   "metadata": {},
   "source": [
    "### Нахождение средней прибыли, 95%-й доверительный интервал и риск убытков"
   ]
  },
  {
   "cell_type": "code",
   "execution_count": 31,
   "metadata": {},
   "outputs": [],
   "source": [
    "def describe_bootstrap(profit_distribution, num_reg):\n",
    "    mean_profit = np.mean(profit_distribution)\n",
    "    lower = np.percentile(profit_distribution, 2.5)\n",
    "    upper = np.percentile(profit_distribution, 97.5)\n",
    "    risk = np.mean(np.array(profit_distribution) < 0)\n",
    "    \n",
    "    print(f\"Регион {num_reg}:\")\n",
    "    print(f\"Средняя прибыль: {mean_profit:,.2f} руб.\")\n",
    "    print(f\"95% доверительный интервал: [{lower:,.2f}; {upper:,.2f}]\")\n",
    "    print(f\"Риск убытков: {risk:.2%}\")"
   ]
  },
  {
   "cell_type": "code",
   "execution_count": 32,
   "metadata": {},
   "outputs": [
    {
     "name": "stdout",
     "output_type": "stream",
     "text": [
      "Регион 1:\n",
      "Средняя прибыль: 405,706,852.81 руб.\n",
      "95% доверительный интервал: [-121,426,873.58; 923,795,254.73]\n",
      "Риск убытков: 7.20%\n",
      "Регион 2:\n",
      "Средняя прибыль: 478,871,449.36 руб.\n",
      "95% доверительный интервал: [65,326,279.89; 861,736,053.53]\n",
      "Риск убытков: 0.50%\n",
      "Регион 3:\n",
      "Средняя прибыль: 363,047,927.21 руб.\n",
      "95% доверительный интервал: [-206,076,346.85; 862,100,485.75]\n",
      "Риск убытков: 9.00%\n"
     ]
    }
   ],
   "source": [
    "describe_bootstrap(state_0, 1)\n",
    "describe_bootstrap(state_1, 2)\n",
    "describe_bootstrap(state_2, 3)"
   ]
  },
  {
   "cell_type": "markdown",
   "metadata": {},
   "source": [
    "### Промежуточный вывод"
   ]
  },
  {
   "cell_type": "markdown",
   "metadata": {},
   "source": [
    "**Регион 1**\n",
    " - Средняя прибыль: 405,706,852.81 руб.\n",
    " - 95%-й доверительный интервал: [-121,426,873.58; 923,795,254.73]\n",
    " - Риск убытков: 7.20%\n",
    " \n",
    "Вывод: Риск убытков (7.20%) превышает порог 2.5%, поэтому регион 1 не подходит для разработки. Доверительный интервал включает отрицательные значения, что подтверждает высокий риск.\n",
    "\n",
    "**Регион 2**\n",
    " - Средняя прибыль: 478,871,449.36 руб.\n",
    " - 95%-й доверительный интервал: [65,326,279.89; 861,736,053.53]\n",
    " - Риск убытков: 0.50%\n",
    " \n",
    "Вывод: Риск убытков (0.50%) значительно ниже порога 2.5%, что делает регион 2 подходящим для разработки. Средняя прибыль (478.87 млн руб.) выглядит перспективно, а доверительный интервал полностью положительный, что говорит о низком риске.\n",
    "\n",
    "**Регион 3**\n",
    " - Средняя прибыль: 363,047,927.21 руб.\n",
    " - 95%-й доверительный интервал: [-206,076,346.85; 862,100,485.75]\n",
    " - Риск убытков: 9.00%\n",
    " \n",
    "Вывод: Риск убытков (9.00%) значительно превышает порог 2.5%, поэтому регион 3 не подходит. Доверительный интервал также включает отрицательные значения, что указывает на высокую вероятность убытков."
   ]
  },
  {
   "cell_type": "markdown",
   "metadata": {},
   "source": [
    "<a id=\"section5\"></a>\n",
    "## Общий вывод "
   ]
  },
  {
   "cell_type": "markdown",
   "metadata": {},
   "source": [
    "В рамках проекта для добывающей компании «ГлавРосГосНефть» была проведена работа по выбору оптимального региона для бурения новых скважин на основе данных трёх регионов. Основная цель заключалась в определении региона с максимальной средней прибылью при условии, что риск убытков не превышает 2.5%. Для достижения этой цели были выполнены следующие этапы: \n",
    "\n",
    "**Подготовка данных**\n",
    " - Данные для трёх регионов были загружены и проанализированы. \n",
    " - Пропуски и дубликаты отсутствовалиКорреляционный анализ выявил сильную зависимость между признаками и целевой переменной в регионе 2 (особенно между f2 и product, корреляция 1.00), что указывало на возможную утечку данных, но в рамках задачи это было учтено при интерпретации результатов.\n",
    "\n",
    "**Обучение модели**\n",
    " - Была использована линейная регрессия\n",
    " - Результаты моделирования:\n",
    "\n",
    "   - Регион 1: Средний предсказанный запас — 92.29 тыс. баррелей, RMSE = 37.76. Модель работает с умеренной точностью, но высокая ошибка указывает на значительный разброс в предсказаниях.\n",
    "   - Регион 2: Средний предсказанный запас — 69.17 тыс. баррелей, RMSE = 0.89. Модель очень точная, что связано с сильной линейной зависимостью в данных.\n",
    "   - Регион 3: Средний предсказанный запас — 94.82 тыс. баррелей, RMSE = 40.13. Самый высокий предсказанный объём, но высокая ошибка делает модель наименее надёжной.\n",
    "   \n",
    "**Подготовка к расчёту прибыли**\n",
    "\n",
    "Минимальный объём сырья для безубыточности составил 111.11 тыс. баррелей на скважину\n",
    "\n",
    "**Расчёт прибыли и рисков**\n",
    "- Регион 1:\n",
    "  - Средняя прибыль: 405.71 млн руб.\n",
    "  - 95%-й доверительный интервал: [-121.43 млн; 923.80 млн]\n",
    "  - Риск убытков: 7.20%\n",
    "  - *Вывод:* Риск превышает порог 2.5%, регион не подходит.\n",
    "- Регион 2:\n",
    "  - Средняя прибыль: 478.87 млн руб.\n",
    "  - 95%-й доверительный интервал: [65.33 млн; 861.74 млн]\n",
    "  - Риск убытков: 0.50%\n",
    "  - *Вывод:* Риск ниже 2.5%, регион проходит отбор. Положительный доверительный интервал подтверждает надёжность.\n",
    "- Регион 3:\n",
    "  - Средняя прибыль: 363.05 млн руб.\n",
    "  - 95%-й доверительный интервал: [-206.08 млн; 862.10 млн]\n",
    "  - Риск убытков: 9.00%\n",
    "  - *Вывод:* Риск превышает 2.5%, регион не подходит.\n",
    "  \n",
    "**Выбор региона**\n",
    "\n",
    "По условиям задачи регионы с риском убытков более 2.5% исключаются. Таким образом, регионы 1 (7.20%) и 3 (9.00%) не проходят отбор. Регион 2 с риском 0.50% удовлетворяет условию и демонстрирует наибольшую среднюю прибыль — 478.87 млн руб. Доверительный интервал полностью положительный, что подтверждает низкий риск.\n",
    "\n",
    "**Рекомендация**\n",
    "Для разработки скважин рекомендуется выбрать Регион 2. Он обеспечивает наибольшую среднюю прибыль (478.87 млн руб.) при минимальном риске убытков (0.50%), полностью соответствуя условиям задачи."
   ]
  }
 ],
 "metadata": {
  "ExecuteTimeLog": [
   {
    "duration": 2362,
    "start_time": "2025-03-14T10:26:06.905Z"
   },
   {
    "duration": 2293,
    "start_time": "2025-03-14T10:26:10.065Z"
   },
   {
    "duration": 1302,
    "start_time": "2025-03-14T10:26:14.032Z"
   },
   {
    "duration": 8,
    "start_time": "2025-03-15T15:33:26.147Z"
   },
   {
    "duration": 3375,
    "start_time": "2025-03-15T15:33:44.789Z"
   },
   {
    "duration": 6471,
    "start_time": "2025-03-15T15:33:48.166Z"
   },
   {
    "duration": 2270,
    "start_time": "2025-03-15T15:33:58.951Z"
   },
   {
    "duration": 2222,
    "start_time": "2025-03-15T15:34:01.223Z"
   },
   {
    "duration": 1381,
    "start_time": "2025-03-15T15:34:03.447Z"
   },
   {
    "duration": 370,
    "start_time": "2025-03-15T15:34:04.830Z"
   },
   {
    "duration": 12,
    "start_time": "2025-03-15T15:39:01.428Z"
   },
   {
    "duration": 15,
    "start_time": "2025-03-15T15:39:03.675Z"
   },
   {
    "duration": 10,
    "start_time": "2025-03-15T15:39:05.470Z"
   },
   {
    "duration": 14,
    "start_time": "2025-03-15T15:39:07.784Z"
   },
   {
    "duration": 10,
    "start_time": "2025-03-15T15:39:09.049Z"
   },
   {
    "duration": 15,
    "start_time": "2025-03-15T15:39:11.073Z"
   },
   {
    "duration": 112,
    "start_time": "2025-03-15T15:47:19.625Z"
   },
   {
    "duration": 63,
    "start_time": "2025-03-15T15:59:01.650Z"
   },
   {
    "duration": 57,
    "start_time": "2025-03-15T15:59:34.413Z"
   },
   {
    "duration": 48,
    "start_time": "2025-03-15T15:59:45.828Z"
   },
   {
    "duration": 66,
    "start_time": "2025-03-15T15:59:57.154Z"
   },
   {
    "duration": 121,
    "start_time": "2025-03-15T16:03:23.546Z"
   },
   {
    "duration": 76,
    "start_time": "2025-03-15T16:03:32.705Z"
   },
   {
    "duration": 67,
    "start_time": "2025-03-15T16:03:38.268Z"
   },
   {
    "duration": 81,
    "start_time": "2025-03-15T16:03:50.610Z"
   },
   {
    "duration": 82,
    "start_time": "2025-03-15T16:04:13.635Z"
   },
   {
    "duration": 112,
    "start_time": "2025-03-15T16:48:06.846Z"
   },
   {
    "duration": 134,
    "start_time": "2025-03-15T17:03:05.143Z"
   },
   {
    "duration": 278,
    "start_time": "2025-03-15T17:03:23.715Z"
   },
   {
    "duration": 153,
    "start_time": "2025-03-15T17:03:30.555Z"
   },
   {
    "duration": 118,
    "start_time": "2025-03-15T17:16:28.451Z"
   },
   {
    "duration": 117,
    "start_time": "2025-03-15T17:16:47.095Z"
   },
   {
    "duration": 105,
    "start_time": "2025-03-15T17:17:17.046Z"
   },
   {
    "duration": 2,
    "start_time": "2025-03-15T17:38:10.241Z"
   },
   {
    "duration": 2,
    "start_time": "2025-03-15T17:40:04.646Z"
   },
   {
    "duration": 5,
    "start_time": "2025-03-15T17:41:47.420Z"
   },
   {
    "duration": 4,
    "start_time": "2025-03-15T17:41:57.508Z"
   },
   {
    "duration": 3162,
    "start_time": "2025-03-15T17:49:31.003Z"
   },
   {
    "duration": 3254,
    "start_time": "2025-03-15T17:50:31.446Z"
   },
   {
    "duration": 3,
    "start_time": "2025-03-15T18:40:29.777Z"
   },
   {
    "duration": 4,
    "start_time": "2025-03-15T18:40:30.459Z"
   },
   {
    "duration": 4,
    "start_time": "2025-03-15T18:40:31.178Z"
   },
   {
    "duration": 3021,
    "start_time": "2025-03-15T18:40:33.353Z"
   },
   {
    "duration": 3304,
    "start_time": "2025-03-15T18:46:31.552Z"
   },
   {
    "duration": 3595,
    "start_time": "2025-03-15T18:46:58.207Z"
   },
   {
    "duration": 3512,
    "start_time": "2025-03-15T19:53:37.776Z"
   },
   {
    "duration": 3357,
    "start_time": "2025-03-17T13:21:43.361Z"
   },
   {
    "duration": 6144,
    "start_time": "2025-03-17T13:21:46.720Z"
   },
   {
    "duration": 1459,
    "start_time": "2025-03-17T13:21:52.866Z"
   },
   {
    "duration": 2106,
    "start_time": "2025-03-17T13:21:54.327Z"
   },
   {
    "duration": 13,
    "start_time": "2025-03-17T13:21:56.435Z"
   },
   {
    "duration": 16,
    "start_time": "2025-03-17T13:21:56.449Z"
   },
   {
    "duration": 10,
    "start_time": "2025-03-17T13:21:56.467Z"
   },
   {
    "duration": 33,
    "start_time": "2025-03-17T13:21:56.478Z"
   },
   {
    "duration": 10,
    "start_time": "2025-03-17T13:21:56.512Z"
   },
   {
    "duration": 20,
    "start_time": "2025-03-17T13:21:56.523Z"
   },
   {
    "duration": 129,
    "start_time": "2025-03-17T13:21:56.545Z"
   },
   {
    "duration": 148,
    "start_time": "2025-03-17T13:21:56.676Z"
   },
   {
    "duration": 144,
    "start_time": "2025-03-17T13:21:56.826Z"
   },
   {
    "duration": 3,
    "start_time": "2025-03-17T13:21:56.972Z"
   },
   {
    "duration": 21,
    "start_time": "2025-03-17T13:21:56.976Z"
   },
   {
    "duration": 14,
    "start_time": "2025-03-17T13:21:56.999Z"
   },
   {
    "duration": 3333,
    "start_time": "2025-03-17T13:21:57.014Z"
   },
   {
    "duration": 2281,
    "start_time": "2025-03-17T13:22:38.737Z"
   },
   {
    "duration": 2287,
    "start_time": "2025-03-17T13:22:41.021Z"
   },
   {
    "duration": 1305,
    "start_time": "2025-03-17T13:22:43.310Z"
   },
   {
    "duration": 425,
    "start_time": "2025-03-17T13:22:44.617Z"
   },
   {
    "duration": 16,
    "start_time": "2025-03-17T13:22:45.044Z"
   },
   {
    "duration": 27,
    "start_time": "2025-03-17T13:22:45.062Z"
   },
   {
    "duration": 10,
    "start_time": "2025-03-17T13:22:45.090Z"
   },
   {
    "duration": 54,
    "start_time": "2025-03-17T13:22:45.101Z"
   },
   {
    "duration": 31,
    "start_time": "2025-03-17T13:22:45.157Z"
   },
   {
    "duration": 75,
    "start_time": "2025-03-17T13:22:45.190Z"
   },
   {
    "duration": 153,
    "start_time": "2025-03-17T13:22:45.267Z"
   },
   {
    "duration": 136,
    "start_time": "2025-03-17T13:22:45.422Z"
   },
   {
    "duration": 124,
    "start_time": "2025-03-17T13:22:45.559Z"
   },
   {
    "duration": 3,
    "start_time": "2025-03-17T13:22:45.685Z"
   },
   {
    "duration": 11,
    "start_time": "2025-03-17T13:22:45.689Z"
   },
   {
    "duration": 10,
    "start_time": "2025-03-17T13:22:45.701Z"
   },
   {
    "duration": 3238,
    "start_time": "2025-03-17T13:22:45.713Z"
   },
   {
    "duration": 2456,
    "start_time": "2025-03-17T13:30:06.503Z"
   },
   {
    "duration": 2407,
    "start_time": "2025-03-17T13:30:08.961Z"
   },
   {
    "duration": 1360,
    "start_time": "2025-03-17T13:30:11.370Z"
   },
   {
    "duration": 426,
    "start_time": "2025-03-17T13:30:12.732Z"
   },
   {
    "duration": 14,
    "start_time": "2025-03-17T13:30:13.161Z"
   },
   {
    "duration": 15,
    "start_time": "2025-03-17T13:30:13.177Z"
   },
   {
    "duration": 9,
    "start_time": "2025-03-17T13:30:13.194Z"
   },
   {
    "duration": 19,
    "start_time": "2025-03-17T13:30:13.205Z"
   },
   {
    "duration": 35,
    "start_time": "2025-03-17T13:30:13.225Z"
   },
   {
    "duration": 16,
    "start_time": "2025-03-17T13:30:13.261Z"
   },
   {
    "duration": 148,
    "start_time": "2025-03-17T13:30:13.278Z"
   },
   {
    "duration": 164,
    "start_time": "2025-03-17T13:30:13.427Z"
   },
   {
    "duration": 150,
    "start_time": "2025-03-17T13:30:13.593Z"
   },
   {
    "duration": 3,
    "start_time": "2025-03-17T13:30:13.757Z"
   },
   {
    "duration": 5,
    "start_time": "2025-03-17T13:30:13.762Z"
   },
   {
    "duration": 5,
    "start_time": "2025-03-17T13:30:13.769Z"
   },
   {
    "duration": 3393,
    "start_time": "2025-03-17T13:30:13.775Z"
   },
   {
    "duration": 3494,
    "start_time": "2025-03-19T05:33:29.881Z"
   },
   {
    "duration": 6188,
    "start_time": "2025-03-19T05:33:33.379Z"
   },
   {
    "duration": 1255,
    "start_time": "2025-03-19T05:33:39.569Z"
   },
   {
    "duration": 365,
    "start_time": "2025-03-19T05:33:40.825Z"
   },
   {
    "duration": 11,
    "start_time": "2025-03-19T05:33:41.191Z"
   },
   {
    "duration": 16,
    "start_time": "2025-03-19T05:33:41.203Z"
   },
   {
    "duration": 8,
    "start_time": "2025-03-19T05:33:41.221Z"
   },
   {
    "duration": 32,
    "start_time": "2025-03-19T05:33:41.230Z"
   },
   {
    "duration": 8,
    "start_time": "2025-03-19T05:33:41.264Z"
   },
   {
    "duration": 38,
    "start_time": "2025-03-19T05:33:41.273Z"
   },
   {
    "duration": 99,
    "start_time": "2025-03-19T05:33:41.313Z"
   },
   {
    "duration": 107,
    "start_time": "2025-03-19T05:33:41.413Z"
   },
   {
    "duration": 103,
    "start_time": "2025-03-19T05:33:41.521Z"
   },
   {
    "duration": 3,
    "start_time": "2025-03-19T05:33:41.625Z"
   },
   {
    "duration": 111,
    "start_time": "2025-03-19T05:33:41.629Z"
   },
   {
    "duration": 16,
    "start_time": "2025-03-19T05:33:41.741Z"
   },
   {
    "duration": 2822,
    "start_time": "2025-03-19T05:33:41.758Z"
   },
   {
    "duration": 2569,
    "start_time": "2025-03-19T05:41:45.746Z"
   },
   {
    "duration": 2354,
    "start_time": "2025-03-19T05:41:48.317Z"
   },
   {
    "duration": 1150,
    "start_time": "2025-03-19T05:41:50.673Z"
   },
   {
    "duration": 308,
    "start_time": "2025-03-19T05:41:51.826Z"
   },
   {
    "duration": 11,
    "start_time": "2025-03-19T05:41:52.135Z"
   },
   {
    "duration": 17,
    "start_time": "2025-03-19T05:41:52.148Z"
   },
   {
    "duration": 8,
    "start_time": "2025-03-19T05:41:52.167Z"
   },
   {
    "duration": 29,
    "start_time": "2025-03-19T05:41:52.176Z"
   },
   {
    "duration": 24,
    "start_time": "2025-03-19T05:41:52.206Z"
   },
   {
    "duration": 11,
    "start_time": "2025-03-19T05:41:52.233Z"
   },
   {
    "duration": 97,
    "start_time": "2025-03-19T05:41:52.245Z"
   },
   {
    "duration": 92,
    "start_time": "2025-03-19T05:41:52.344Z"
   },
   {
    "duration": 103,
    "start_time": "2025-03-19T05:41:52.438Z"
   },
   {
    "duration": 13,
    "start_time": "2025-03-19T05:41:52.543Z"
   },
   {
    "duration": 5,
    "start_time": "2025-03-19T05:41:52.557Z"
   },
   {
    "duration": 6,
    "start_time": "2025-03-19T05:41:52.563Z"
   },
   {
    "duration": 2785,
    "start_time": "2025-03-19T05:41:52.571Z"
   },
   {
    "duration": 2434,
    "start_time": "2025-03-19T05:59:40.858Z"
   },
   {
    "duration": 2376,
    "start_time": "2025-03-19T05:59:43.294Z"
   },
   {
    "duration": 1159,
    "start_time": "2025-03-19T05:59:45.672Z"
   },
   {
    "duration": 314,
    "start_time": "2025-03-19T05:59:46.832Z"
   },
   {
    "duration": 12,
    "start_time": "2025-03-19T05:59:47.148Z"
   },
   {
    "duration": 13,
    "start_time": "2025-03-19T05:59:47.161Z"
   },
   {
    "duration": 7,
    "start_time": "2025-03-19T05:59:47.175Z"
   },
   {
    "duration": 23,
    "start_time": "2025-03-19T05:59:47.184Z"
   },
   {
    "duration": 10,
    "start_time": "2025-03-19T05:59:47.208Z"
   },
   {
    "duration": 15,
    "start_time": "2025-03-19T05:59:47.219Z"
   },
   {
    "duration": 112,
    "start_time": "2025-03-19T05:59:47.235Z"
   },
   {
    "duration": 112,
    "start_time": "2025-03-19T05:59:47.348Z"
   },
   {
    "duration": 105,
    "start_time": "2025-03-19T05:59:47.461Z"
   },
   {
    "duration": 2,
    "start_time": "2025-03-19T05:59:47.568Z"
   },
   {
    "duration": 4,
    "start_time": "2025-03-19T05:59:47.571Z"
   },
   {
    "duration": 37,
    "start_time": "2025-03-19T05:59:47.577Z"
   },
   {
    "duration": 2862,
    "start_time": "2025-03-19T05:59:47.615Z"
   },
   {
    "duration": 2429,
    "start_time": "2025-03-19T07:15:20.286Z"
   },
   {
    "duration": 2441,
    "start_time": "2025-03-19T07:15:22.717Z"
   },
   {
    "duration": 1198,
    "start_time": "2025-03-19T07:15:25.159Z"
   },
   {
    "duration": 307,
    "start_time": "2025-03-19T07:15:26.359Z"
   },
   {
    "duration": 10,
    "start_time": "2025-03-19T07:15:26.670Z"
   },
   {
    "duration": 27,
    "start_time": "2025-03-19T07:15:26.681Z"
   },
   {
    "duration": 9,
    "start_time": "2025-03-19T07:15:26.709Z"
   },
   {
    "duration": 32,
    "start_time": "2025-03-19T07:15:26.719Z"
   },
   {
    "duration": 8,
    "start_time": "2025-03-19T07:15:26.752Z"
   },
   {
    "duration": 16,
    "start_time": "2025-03-19T07:15:26.761Z"
   },
   {
    "duration": 111,
    "start_time": "2025-03-19T07:15:26.778Z"
   },
   {
    "duration": 117,
    "start_time": "2025-03-19T07:15:26.890Z"
   },
   {
    "duration": 109,
    "start_time": "2025-03-19T07:15:27.009Z"
   },
   {
    "duration": 24,
    "start_time": "2025-03-19T07:15:27.122Z"
   },
   {
    "duration": 8,
    "start_time": "2025-03-19T07:15:27.147Z"
   },
   {
    "duration": 3,
    "start_time": "2025-03-19T07:15:27.156Z"
   },
   {
    "duration": 2811,
    "start_time": "2025-03-19T07:15:27.160Z"
   },
   {
    "duration": 3310,
    "start_time": "2025-03-19T19:09:26.355Z"
   },
   {
    "duration": 6232,
    "start_time": "2025-03-19T19:09:29.667Z"
   },
   {
    "duration": 1475,
    "start_time": "2025-03-19T19:09:35.902Z"
   },
   {
    "duration": 383,
    "start_time": "2025-03-19T19:09:37.378Z"
   },
   {
    "duration": 12,
    "start_time": "2025-03-19T19:09:37.764Z"
   },
   {
    "duration": 15,
    "start_time": "2025-03-19T19:09:37.778Z"
   },
   {
    "duration": 9,
    "start_time": "2025-03-19T19:09:37.795Z"
   },
   {
    "duration": 31,
    "start_time": "2025-03-19T19:09:37.805Z"
   },
   {
    "duration": 9,
    "start_time": "2025-03-19T19:09:37.838Z"
   },
   {
    "duration": 14,
    "start_time": "2025-03-19T19:09:37.848Z"
   },
   {
    "duration": 134,
    "start_time": "2025-03-19T19:09:37.863Z"
   },
   {
    "duration": 138,
    "start_time": "2025-03-19T19:09:37.998Z"
   },
   {
    "duration": 142,
    "start_time": "2025-03-19T19:09:38.137Z"
   },
   {
    "duration": 3,
    "start_time": "2025-03-19T19:09:38.282Z"
   },
   {
    "duration": 5,
    "start_time": "2025-03-19T19:09:38.286Z"
   },
   {
    "duration": 4,
    "start_time": "2025-03-19T19:09:38.293Z"
   },
   {
    "duration": 3490,
    "start_time": "2025-03-19T19:09:38.298Z"
   },
   {
    "duration": 2296,
    "start_time": "2025-03-19T19:11:18.388Z"
   },
   {
    "duration": 2288,
    "start_time": "2025-03-19T19:11:26.344Z"
   },
   {
    "duration": 1224,
    "start_time": "2025-03-19T19:11:30.580Z"
   },
   {
    "duration": 368,
    "start_time": "2025-03-19T19:11:33.292Z"
   },
   {
    "duration": 12,
    "start_time": "2025-03-19T19:11:35.922Z"
   },
   {
    "duration": 16,
    "start_time": "2025-03-19T19:11:36.572Z"
   },
   {
    "duration": 11,
    "start_time": "2025-03-19T19:11:37.637Z"
   },
   {
    "duration": 14,
    "start_time": "2025-03-19T19:11:39.583Z"
   },
   {
    "duration": 9,
    "start_time": "2025-03-19T19:11:41.756Z"
   },
   {
    "duration": 14,
    "start_time": "2025-03-19T19:11:42.686Z"
   },
   {
    "duration": 123,
    "start_time": "2025-03-19T19:11:45.083Z"
   },
   {
    "duration": 126,
    "start_time": "2025-03-19T19:11:45.873Z"
   },
   {
    "duration": 124,
    "start_time": "2025-03-19T19:11:53.225Z"
   },
   {
    "duration": 2,
    "start_time": "2025-03-19T19:11:58.169Z"
   },
   {
    "duration": 5,
    "start_time": "2025-03-19T19:11:58.944Z"
   },
   {
    "duration": 4,
    "start_time": "2025-03-19T19:11:59.873Z"
   },
   {
    "duration": 3332,
    "start_time": "2025-03-19T19:12:02.311Z"
   },
   {
    "duration": 2319,
    "start_time": "2025-03-19T19:12:56.550Z"
   },
   {
    "duration": 2258,
    "start_time": "2025-03-19T19:12:58.871Z"
   },
   {
    "duration": 1342,
    "start_time": "2025-03-19T19:13:01.131Z"
   },
   {
    "duration": 387,
    "start_time": "2025-03-19T19:13:02.475Z"
   },
   {
    "duration": 13,
    "start_time": "2025-03-19T19:13:02.863Z"
   },
   {
    "duration": 56,
    "start_time": "2025-03-19T19:13:02.877Z"
   },
   {
    "duration": 10,
    "start_time": "2025-03-19T19:13:02.934Z"
   },
   {
    "duration": 51,
    "start_time": "2025-03-19T19:13:02.945Z"
   },
   {
    "duration": 14,
    "start_time": "2025-03-19T19:13:02.998Z"
   },
   {
    "duration": 49,
    "start_time": "2025-03-19T19:13:03.014Z"
   },
   {
    "duration": 120,
    "start_time": "2025-03-19T19:13:03.064Z"
   },
   {
    "duration": 145,
    "start_time": "2025-03-19T19:13:03.185Z"
   },
   {
    "duration": 134,
    "start_time": "2025-03-19T19:13:03.331Z"
   },
   {
    "duration": 4,
    "start_time": "2025-03-19T19:13:03.467Z"
   },
   {
    "duration": 44,
    "start_time": "2025-03-19T19:13:03.472Z"
   },
   {
    "duration": 57,
    "start_time": "2025-03-19T19:13:03.518Z"
   },
   {
    "duration": 3353,
    "start_time": "2025-03-19T19:13:03.577Z"
   },
   {
    "duration": 3259,
    "start_time": "2025-03-19T19:13:06.932Z"
   },
   {
    "duration": 3622,
    "start_time": "2025-03-19T19:13:10.193Z"
   },
   {
    "duration": 75,
    "start_time": "2025-03-19T19:13:13.817Z"
   },
   {
    "duration": 0,
    "start_time": "2025-03-19T19:13:13.894Z"
   },
   {
    "duration": 5,
    "start_time": "2025-03-19T19:26:31.335Z"
   },
   {
    "duration": 105,
    "start_time": "2025-03-19T19:26:33.504Z"
   },
   {
    "duration": 2352,
    "start_time": "2025-03-19T19:26:42.921Z"
   },
   {
    "duration": 2294,
    "start_time": "2025-03-19T19:26:45.275Z"
   },
   {
    "duration": 1181,
    "start_time": "2025-03-19T19:26:47.571Z"
   },
   {
    "duration": 376,
    "start_time": "2025-03-19T19:26:48.754Z"
   },
   {
    "duration": 12,
    "start_time": "2025-03-19T19:26:49.133Z"
   },
   {
    "duration": 14,
    "start_time": "2025-03-19T19:26:49.146Z"
   },
   {
    "duration": 9,
    "start_time": "2025-03-19T19:26:49.162Z"
   },
   {
    "duration": 21,
    "start_time": "2025-03-19T19:26:49.172Z"
   },
   {
    "duration": 9,
    "start_time": "2025-03-19T19:26:49.194Z"
   },
   {
    "duration": 35,
    "start_time": "2025-03-19T19:26:49.204Z"
   },
   {
    "duration": 118,
    "start_time": "2025-03-19T19:26:49.240Z"
   },
   {
    "duration": 133,
    "start_time": "2025-03-19T19:26:49.360Z"
   },
   {
    "duration": 139,
    "start_time": "2025-03-19T19:26:49.494Z"
   },
   {
    "duration": 3,
    "start_time": "2025-03-19T19:26:49.635Z"
   },
   {
    "duration": 4,
    "start_time": "2025-03-19T19:26:49.640Z"
   },
   {
    "duration": 3,
    "start_time": "2025-03-19T19:26:49.646Z"
   },
   {
    "duration": 3261,
    "start_time": "2025-03-19T19:26:49.650Z"
   },
   {
    "duration": 3272,
    "start_time": "2025-03-19T19:26:52.912Z"
   },
   {
    "duration": 3549,
    "start_time": "2025-03-19T19:26:56.186Z"
   },
   {
    "duration": 3,
    "start_time": "2025-03-19T19:26:59.737Z"
   },
   {
    "duration": 116,
    "start_time": "2025-03-19T19:26:59.742Z"
   },
   {
    "duration": 3,
    "start_time": "2025-03-19T19:45:59.462Z"
   },
   {
    "duration": 38634,
    "start_time": "2025-03-19T19:45:59.977Z"
   },
   {
    "duration": 9,
    "start_time": "2025-03-23T16:26:06.195Z"
   },
   {
    "duration": 44,
    "start_time": "2025-03-23T16:26:06.799Z"
   },
   {
    "duration": 3650,
    "start_time": "2025-03-23T16:26:12.069Z"
   },
   {
    "duration": 6689,
    "start_time": "2025-03-23T16:26:15.721Z"
   },
   {
    "duration": 1518,
    "start_time": "2025-03-23T16:26:22.412Z"
   },
   {
    "duration": 432,
    "start_time": "2025-03-23T16:26:23.931Z"
   },
   {
    "duration": 18,
    "start_time": "2025-03-23T16:26:24.366Z"
   },
   {
    "duration": 20,
    "start_time": "2025-03-23T16:26:24.386Z"
   },
   {
    "duration": 9,
    "start_time": "2025-03-23T16:26:24.408Z"
   },
   {
    "duration": 14,
    "start_time": "2025-03-23T16:26:24.418Z"
   },
   {
    "duration": 43,
    "start_time": "2025-03-23T16:26:24.433Z"
   },
   {
    "duration": 35,
    "start_time": "2025-03-23T16:26:24.477Z"
   },
   {
    "duration": 129,
    "start_time": "2025-03-23T16:26:24.514Z"
   },
   {
    "duration": 184,
    "start_time": "2025-03-23T16:26:24.645Z"
   },
   {
    "duration": 153,
    "start_time": "2025-03-23T16:26:24.831Z"
   },
   {
    "duration": 2,
    "start_time": "2025-03-23T16:26:24.987Z"
   },
   {
    "duration": 5,
    "start_time": "2025-03-23T16:26:24.991Z"
   },
   {
    "duration": 4,
    "start_time": "2025-03-23T16:26:24.998Z"
   },
   {
    "duration": 3600,
    "start_time": "2025-03-23T16:26:25.004Z"
   },
   {
    "duration": 3691,
    "start_time": "2025-03-23T16:26:28.605Z"
   },
   {
    "duration": 4048,
    "start_time": "2025-03-23T16:26:32.298Z"
   },
   {
    "duration": 4,
    "start_time": "2025-03-23T16:26:36.348Z"
   },
   {
    "duration": 42081,
    "start_time": "2025-03-23T16:26:36.362Z"
   },
   {
    "duration": 6244,
    "start_time": "2025-04-07T11:05:00.856Z"
   },
   {
    "duration": 9487,
    "start_time": "2025-04-07T11:05:07.103Z"
   },
   {
    "duration": 5407,
    "start_time": "2025-04-07T11:05:16.592Z"
   },
   {
    "duration": 1693,
    "start_time": "2025-04-07T11:05:22.001Z"
   },
   {
    "duration": 21,
    "start_time": "2025-04-07T11:05:23.695Z"
   },
   {
    "duration": 21,
    "start_time": "2025-04-07T11:05:23.717Z"
   },
   {
    "duration": 9,
    "start_time": "2025-04-07T11:05:23.739Z"
   },
   {
    "duration": 15,
    "start_time": "2025-04-07T11:05:23.750Z"
   },
   {
    "duration": 9,
    "start_time": "2025-04-07T11:05:23.767Z"
   },
   {
    "duration": 13,
    "start_time": "2025-04-07T11:05:23.778Z"
   },
   {
    "duration": 144,
    "start_time": "2025-04-07T11:05:23.793Z"
   },
   {
    "duration": 159,
    "start_time": "2025-04-07T11:05:23.939Z"
   },
   {
    "duration": 145,
    "start_time": "2025-04-07T11:05:24.099Z"
   },
   {
    "duration": 2,
    "start_time": "2025-04-07T11:05:24.246Z"
   },
   {
    "duration": 5,
    "start_time": "2025-04-07T11:05:24.262Z"
   },
   {
    "duration": 8,
    "start_time": "2025-04-07T11:05:24.268Z"
   },
   {
    "duration": 3415,
    "start_time": "2025-04-07T11:05:24.277Z"
   },
   {
    "duration": 3267,
    "start_time": "2025-04-07T11:05:27.693Z"
   },
   {
    "duration": 3716,
    "start_time": "2025-04-07T11:05:30.962Z"
   },
   {
    "duration": 4,
    "start_time": "2025-04-07T11:05:34.679Z"
   },
   {
    "duration": 37586,
    "start_time": "2025-04-07T11:05:34.684Z"
   },
   {
    "duration": 8,
    "start_time": "2025-04-11T19:14:44.169Z"
   },
   {
    "duration": 44,
    "start_time": "2025-04-11T19:14:44.879Z"
   },
   {
    "duration": 3083,
    "start_time": "2025-04-11T19:14:49.688Z"
   },
   {
    "duration": 6701,
    "start_time": "2025-04-11T19:14:52.773Z"
   },
   {
    "duration": 1436,
    "start_time": "2025-04-11T19:14:59.476Z"
   },
   {
    "duration": 405,
    "start_time": "2025-04-11T19:15:00.914Z"
   },
   {
    "duration": 14,
    "start_time": "2025-04-11T19:15:01.321Z"
   },
   {
    "duration": 22,
    "start_time": "2025-04-11T19:15:01.336Z"
   },
   {
    "duration": 19,
    "start_time": "2025-04-11T19:15:01.360Z"
   },
   {
    "duration": 15,
    "start_time": "2025-04-11T19:15:01.380Z"
   },
   {
    "duration": 10,
    "start_time": "2025-04-11T19:15:01.396Z"
   },
   {
    "duration": 32,
    "start_time": "2025-04-11T19:15:01.407Z"
   },
   {
    "duration": 160,
    "start_time": "2025-04-11T19:15:01.441Z"
   },
   {
    "duration": 178,
    "start_time": "2025-04-11T19:15:01.603Z"
   },
   {
    "duration": 152,
    "start_time": "2025-04-11T19:15:01.783Z"
   },
   {
    "duration": 3,
    "start_time": "2025-04-11T19:15:01.938Z"
   },
   {
    "duration": 12,
    "start_time": "2025-04-11T19:15:01.942Z"
   },
   {
    "duration": 4,
    "start_time": "2025-04-11T19:15:01.970Z"
   },
   {
    "duration": 3417,
    "start_time": "2025-04-11T19:15:01.976Z"
   },
   {
    "duration": 3477,
    "start_time": "2025-04-11T19:15:05.396Z"
   },
   {
    "duration": 3713,
    "start_time": "2025-04-11T19:15:08.875Z"
   },
   {
    "duration": 4,
    "start_time": "2025-04-11T19:15:12.590Z"
   },
   {
    "duration": 39818,
    "start_time": "2025-04-11T19:15:12.596Z"
   },
   {
    "duration": 3519,
    "start_time": "2025-04-12T11:07:13.545Z"
   },
   {
    "duration": 7009,
    "start_time": "2025-04-12T11:07:17.066Z"
   },
   {
    "duration": 1565,
    "start_time": "2025-04-12T11:07:24.077Z"
   },
   {
    "duration": 449,
    "start_time": "2025-04-12T11:07:25.645Z"
   },
   {
    "duration": 13,
    "start_time": "2025-04-12T11:07:26.096Z"
   },
   {
    "duration": 29,
    "start_time": "2025-04-12T11:07:26.111Z"
   },
   {
    "duration": 12,
    "start_time": "2025-04-12T11:07:26.142Z"
   },
   {
    "duration": 18,
    "start_time": "2025-04-12T11:07:26.156Z"
   },
   {
    "duration": 11,
    "start_time": "2025-04-12T11:07:26.176Z"
   },
   {
    "duration": 51,
    "start_time": "2025-04-12T11:07:26.190Z"
   },
   {
    "duration": 160,
    "start_time": "2025-04-12T11:07:26.243Z"
   },
   {
    "duration": 197,
    "start_time": "2025-04-12T11:07:26.405Z"
   },
   {
    "duration": 176,
    "start_time": "2025-04-12T11:07:26.604Z"
   },
   {
    "duration": 3,
    "start_time": "2025-04-12T11:07:26.781Z"
   },
   {
    "duration": 56,
    "start_time": "2025-04-12T11:07:26.786Z"
   },
   {
    "duration": 9,
    "start_time": "2025-04-12T11:07:26.844Z"
   },
   {
    "duration": 3642,
    "start_time": "2025-04-12T11:07:26.855Z"
   },
   {
    "duration": 3663,
    "start_time": "2025-04-12T11:07:30.498Z"
   },
   {
    "duration": 3858,
    "start_time": "2025-04-12T11:07:34.163Z"
   },
   {
    "duration": 4,
    "start_time": "2025-04-12T11:07:38.023Z"
   },
   {
    "duration": 42942,
    "start_time": "2025-04-12T11:07:38.038Z"
   },
   {
    "duration": 16,
    "start_time": "2025-04-12T11:38:16.880Z"
   },
   {
    "duration": 16,
    "start_time": "2025-04-12T11:38:38.011Z"
   },
   {
    "duration": 17,
    "start_time": "2025-04-12T11:38:42.902Z"
   },
   {
    "duration": 40,
    "start_time": "2025-04-12T14:18:09.628Z"
   },
   {
    "duration": 5,
    "start_time": "2025-04-12T15:05:20.672Z"
   },
   {
    "duration": 432,
    "start_time": "2025-04-12T15:08:46.522Z"
   },
   {
    "duration": 3,
    "start_time": "2025-04-12T19:22:57.236Z"
   },
   {
    "duration": 3,
    "start_time": "2025-04-12T19:23:54.768Z"
   },
   {
    "duration": 11,
    "start_time": "2025-04-12T19:41:04.762Z"
   },
   {
    "duration": 10,
    "start_time": "2025-04-12T19:41:25.979Z"
   },
   {
    "duration": 10,
    "start_time": "2025-04-12T20:05:21.613Z"
   },
   {
    "duration": 3,
    "start_time": "2025-04-12T20:06:47.815Z"
   },
   {
    "duration": 956,
    "start_time": "2025-04-12T20:08:17.423Z"
   },
   {
    "duration": 3,
    "start_time": "2025-04-12T20:08:27.201Z"
   },
   {
    "duration": 14,
    "start_time": "2025-04-12T20:08:28.599Z"
   },
   {
    "duration": 14,
    "start_time": "2025-04-12T20:08:47.528Z"
   },
   {
    "duration": 4,
    "start_time": "2025-04-12T21:04:21.854Z"
   },
   {
    "duration": 11456,
    "start_time": "2025-04-12T21:05:03.818Z"
   },
   {
    "duration": 3,
    "start_time": "2025-04-12T21:13:41.499Z"
   },
   {
    "duration": 5,
    "start_time": "2025-04-12T21:14:23.063Z"
   },
   {
    "duration": 4,
    "start_time": "2025-04-12T21:23:43.945Z"
   },
   {
    "duration": 14,
    "start_time": "2025-04-12T21:23:44.338Z"
   },
   {
    "duration": 4,
    "start_time": "2025-04-12T21:24:08.512Z"
   },
   {
    "duration": 7,
    "start_time": "2025-04-12T21:24:08.861Z"
   },
   {
    "duration": 5,
    "start_time": "2025-04-12T21:24:43.482Z"
   },
   {
    "duration": 11334,
    "start_time": "2025-04-12T21:24:43.853Z"
   },
   {
    "duration": 4,
    "start_time": "2025-04-12T21:24:55.189Z"
   },
   {
    "duration": 20,
    "start_time": "2025-04-12T21:24:55.194Z"
   },
   {
    "duration": 4,
    "start_time": "2025-04-12T21:25:36.088Z"
   },
   {
    "duration": 11303,
    "start_time": "2025-04-12T21:25:37.003Z"
   },
   {
    "duration": 3,
    "start_time": "2025-04-12T21:25:50.835Z"
   },
   {
    "duration": 7,
    "start_time": "2025-04-12T21:25:51.365Z"
   },
   {
    "duration": 4,
    "start_time": "2025-04-12T21:26:35.814Z"
   },
   {
    "duration": 7,
    "start_time": "2025-04-12T21:26:36.440Z"
   },
   {
    "duration": 4,
    "start_time": "2025-04-12T21:26:41.131Z"
   },
   {
    "duration": 7,
    "start_time": "2025-04-12T21:26:41.828Z"
   },
   {
    "duration": 4,
    "start_time": "2025-04-12T21:26:58.152Z"
   },
   {
    "duration": 7,
    "start_time": "2025-04-12T21:26:59.274Z"
   },
   {
    "duration": 4,
    "start_time": "2025-04-12T21:30:32.075Z"
   },
   {
    "duration": 11298,
    "start_time": "2025-04-12T21:30:32.458Z"
   },
   {
    "duration": 5,
    "start_time": "2025-04-12T21:30:44.931Z"
   },
   {
    "duration": 7,
    "start_time": "2025-04-12T21:30:45.502Z"
   },
   {
    "duration": 4,
    "start_time": "2025-04-12T21:34:20.846Z"
   },
   {
    "duration": 11111,
    "start_time": "2025-04-12T21:34:21.467Z"
   },
   {
    "duration": 4,
    "start_time": "2025-04-12T21:34:44.081Z"
   },
   {
    "duration": 7,
    "start_time": "2025-04-12T21:34:44.537Z"
   },
   {
    "duration": 3,
    "start_time": "2025-04-12T21:39:04.270Z"
   },
   {
    "duration": 15,
    "start_time": "2025-04-12T21:39:04.998Z"
   },
   {
    "duration": 3,
    "start_time": "2025-04-12T21:39:09.675Z"
   },
   {
    "duration": 3479,
    "start_time": "2025-04-12T21:39:11.366Z"
   },
   {
    "duration": 3,
    "start_time": "2025-04-12T21:39:16.083Z"
   },
   {
    "duration": 76,
    "start_time": "2025-04-12T21:39:16.618Z"
   },
   {
    "duration": 3,
    "start_time": "2025-04-12T21:40:04.710Z"
   },
   {
    "duration": 15,
    "start_time": "2025-04-12T21:40:05.561Z"
   },
   {
    "duration": 4,
    "start_time": "2025-04-12T21:40:08.101Z"
   },
   {
    "duration": 3471,
    "start_time": "2025-04-12T21:40:08.516Z"
   },
   {
    "duration": 4,
    "start_time": "2025-04-12T21:40:31.587Z"
   },
   {
    "duration": 7,
    "start_time": "2025-04-12T21:40:32.070Z"
   },
   {
    "duration": 421,
    "start_time": "2025-04-12T21:50:11.733Z"
   },
   {
    "duration": 393,
    "start_time": "2025-04-12T21:50:24.257Z"
   },
   {
    "duration": 6,
    "start_time": "2025-04-12T21:50:43.978Z"
   },
   {
    "duration": 17,
    "start_time": "2025-04-12T21:51:03.036Z"
   },
   {
    "duration": 2132,
    "start_time": "2025-04-12T21:51:29.615Z"
   },
   {
    "duration": 9,
    "start_time": "2025-04-12T21:51:48.851Z"
   },
   {
    "duration": 6,
    "start_time": "2025-04-12T21:57:26.288Z"
   },
   {
    "duration": 378,
    "start_time": "2025-04-12T21:57:29.076Z"
   },
   {
    "duration": 3,
    "start_time": "2025-04-12T21:57:56.363Z"
   },
   {
    "duration": 3,
    "start_time": "2025-04-12T21:57:58.326Z"
   },
   {
    "duration": 4,
    "start_time": "2025-04-12T21:58:39.996Z"
   },
   {
    "duration": 15,
    "start_time": "2025-04-12T21:58:53.405Z"
   },
   {
    "duration": 4,
    "start_time": "2025-04-12T22:00:00.709Z"
   },
   {
    "duration": 2106,
    "start_time": "2025-04-12T22:00:02.375Z"
   },
   {
    "duration": 2119,
    "start_time": "2025-04-12T22:00:17.002Z"
   },
   {
    "duration": 4,
    "start_time": "2025-04-12T22:00:28.774Z"
   },
   {
    "duration": 10,
    "start_time": "2025-04-12T22:00:30.029Z"
   },
   {
    "duration": 2534,
    "start_time": "2025-04-12T22:15:10.751Z"
   },
   {
    "duration": 2519,
    "start_time": "2025-04-12T22:15:13.288Z"
   },
   {
    "duration": 1413,
    "start_time": "2025-04-12T22:15:15.809Z"
   },
   {
    "duration": 431,
    "start_time": "2025-04-12T22:15:17.224Z"
   },
   {
    "duration": 14,
    "start_time": "2025-04-12T22:15:17.658Z"
   },
   {
    "duration": 20,
    "start_time": "2025-04-12T22:15:17.673Z"
   },
   {
    "duration": 11,
    "start_time": "2025-04-12T22:15:17.694Z"
   },
   {
    "duration": 47,
    "start_time": "2025-04-12T22:15:17.707Z"
   },
   {
    "duration": 13,
    "start_time": "2025-04-12T22:15:17.756Z"
   },
   {
    "duration": 17,
    "start_time": "2025-04-12T22:15:17.772Z"
   },
   {
    "duration": 175,
    "start_time": "2025-04-12T22:15:17.790Z"
   },
   {
    "duration": 192,
    "start_time": "2025-04-12T22:15:17.967Z"
   },
   {
    "duration": 164,
    "start_time": "2025-04-12T22:15:18.161Z"
   },
   {
    "duration": 4,
    "start_time": "2025-04-12T22:15:18.338Z"
   },
   {
    "duration": 11,
    "start_time": "2025-04-12T22:15:18.344Z"
   },
   {
    "duration": 9,
    "start_time": "2025-04-12T22:15:18.356Z"
   },
   {
    "duration": 3508,
    "start_time": "2025-04-12T22:15:18.366Z"
   },
   {
    "duration": 3584,
    "start_time": "2025-04-12T22:15:21.876Z"
   },
   {
    "duration": 3721,
    "start_time": "2025-04-12T22:15:25.462Z"
   },
   {
    "duration": 4,
    "start_time": "2025-04-12T22:15:29.185Z"
   },
   {
    "duration": 42384,
    "start_time": "2025-04-12T22:15:29.190Z"
   },
   {
    "duration": 6,
    "start_time": "2025-04-12T22:16:11.575Z"
   },
   {
    "duration": 465,
    "start_time": "2025-04-12T22:16:11.582Z"
   },
   {
    "duration": 89,
    "start_time": "2025-04-12T22:16:12.051Z"
   },
   {
    "duration": 106,
    "start_time": "2025-04-12T22:16:12.143Z"
   },
   {
    "duration": 4,
    "start_time": "2025-04-12T22:16:12.252Z"
   },
   {
    "duration": 16,
    "start_time": "2025-04-12T22:16:12.258Z"
   },
   {
    "duration": 10,
    "start_time": "2025-04-12T22:16:12.275Z"
   },
   {
    "duration": 2120,
    "start_time": "2025-04-12T22:16:12.287Z"
   },
   {
    "duration": 4,
    "start_time": "2025-04-12T22:16:14.409Z"
   },
   {
    "duration": 22,
    "start_time": "2025-04-12T22:16:14.415Z"
   },
   {
    "duration": 71,
    "start_time": "2025-04-13T14:25:12.225Z"
   },
   {
    "duration": 61,
    "start_time": "2025-04-13T14:32:00.165Z"
   },
   {
    "duration": 64,
    "start_time": "2025-04-13T14:32:12.997Z"
   },
   {
    "duration": 6,
    "start_time": "2025-04-13T14:42:17.202Z"
   },
   {
    "duration": 47,
    "start_time": "2025-04-13T14:42:20.387Z"
   },
   {
    "duration": 3694,
    "start_time": "2025-04-13T14:42:27.071Z"
   },
   {
    "duration": 7127,
    "start_time": "2025-04-13T14:42:30.768Z"
   },
   {
    "duration": 1554,
    "start_time": "2025-04-13T14:42:37.900Z"
   },
   {
    "duration": 444,
    "start_time": "2025-04-13T14:42:39.458Z"
   },
   {
    "duration": 14,
    "start_time": "2025-04-13T14:42:39.903Z"
   },
   {
    "duration": 24,
    "start_time": "2025-04-13T14:42:39.919Z"
   },
   {
    "duration": 11,
    "start_time": "2025-04-13T14:42:39.945Z"
   },
   {
    "duration": 17,
    "start_time": "2025-04-13T14:42:39.957Z"
   },
   {
    "duration": 11,
    "start_time": "2025-04-13T14:42:39.976Z"
   },
   {
    "duration": 17,
    "start_time": "2025-04-13T14:42:39.988Z"
   },
   {
    "duration": 149,
    "start_time": "2025-04-13T14:42:40.038Z"
   },
   {
    "duration": 188,
    "start_time": "2025-04-13T14:42:40.189Z"
   },
   {
    "duration": 169,
    "start_time": "2025-04-13T14:42:40.380Z"
   },
   {
    "duration": 2,
    "start_time": "2025-04-13T14:42:40.551Z"
   },
   {
    "duration": 6,
    "start_time": "2025-04-13T14:42:40.555Z"
   },
   {
    "duration": 7,
    "start_time": "2025-04-13T14:42:40.562Z"
   },
   {
    "duration": 3722,
    "start_time": "2025-04-13T14:42:40.571Z"
   },
   {
    "duration": 3788,
    "start_time": "2025-04-13T14:42:44.295Z"
   },
   {
    "duration": 4120,
    "start_time": "2025-04-13T14:42:48.085Z"
   },
   {
    "duration": 4,
    "start_time": "2025-04-13T14:42:52.207Z"
   },
   {
    "duration": 41910,
    "start_time": "2025-04-13T14:42:52.213Z"
   },
   {
    "duration": 15,
    "start_time": "2025-04-13T14:43:34.125Z"
   },
   {
    "duration": 1223,
    "start_time": "2025-04-13T14:43:34.142Z"
   },
   {
    "duration": 0,
    "start_time": "2025-04-13T14:43:35.367Z"
   },
   {
    "duration": 0,
    "start_time": "2025-04-13T14:43:35.368Z"
   },
   {
    "duration": 0,
    "start_time": "2025-04-13T14:43:35.369Z"
   },
   {
    "duration": 0,
    "start_time": "2025-04-13T14:43:35.370Z"
   },
   {
    "duration": 0,
    "start_time": "2025-04-13T14:43:35.372Z"
   },
   {
    "duration": 0,
    "start_time": "2025-04-13T14:43:35.373Z"
   },
   {
    "duration": 0,
    "start_time": "2025-04-13T14:43:35.374Z"
   },
   {
    "duration": 0,
    "start_time": "2025-04-13T14:43:35.375Z"
   },
   {
    "duration": 6,
    "start_time": "2025-04-13T14:45:41.014Z"
   },
   {
    "duration": 369,
    "start_time": "2025-04-13T14:45:41.978Z"
   },
   {
    "duration": 9,
    "start_time": "2025-04-13T14:52:12.875Z"
   },
   {
    "duration": 2561,
    "start_time": "2025-04-13T15:01:06.661Z"
   },
   {
    "duration": 2553,
    "start_time": "2025-04-13T15:01:09.224Z"
   },
   {
    "duration": 1444,
    "start_time": "2025-04-13T15:01:11.779Z"
   },
   {
    "duration": 429,
    "start_time": "2025-04-13T15:01:13.225Z"
   },
   {
    "duration": 14,
    "start_time": "2025-04-13T15:01:13.656Z"
   },
   {
    "duration": 64,
    "start_time": "2025-04-13T15:01:13.672Z"
   },
   {
    "duration": 16,
    "start_time": "2025-04-13T15:01:13.738Z"
   },
   {
    "duration": 60,
    "start_time": "2025-04-13T15:01:13.755Z"
   },
   {
    "duration": 118,
    "start_time": "2025-04-13T15:01:13.817Z"
   },
   {
    "duration": 25,
    "start_time": "2025-04-13T15:01:13.938Z"
   },
   {
    "duration": 221,
    "start_time": "2025-04-13T15:01:13.964Z"
   },
   {
    "duration": 170,
    "start_time": "2025-04-13T15:01:14.187Z"
   },
   {
    "duration": 158,
    "start_time": "2025-04-13T15:01:14.359Z"
   },
   {
    "duration": 2,
    "start_time": "2025-04-13T15:01:14.519Z"
   },
   {
    "duration": 18,
    "start_time": "2025-04-13T15:01:14.523Z"
   },
   {
    "duration": 5,
    "start_time": "2025-04-13T15:01:14.542Z"
   },
   {
    "duration": 3480,
    "start_time": "2025-04-13T15:01:14.549Z"
   },
   {
    "duration": 3612,
    "start_time": "2025-04-13T15:01:18.039Z"
   },
   {
    "duration": 3840,
    "start_time": "2025-04-13T15:01:21.653Z"
   },
   {
    "duration": 4,
    "start_time": "2025-04-13T15:01:25.495Z"
   },
   {
    "duration": 41355,
    "start_time": "2025-04-13T15:01:25.501Z"
   },
   {
    "duration": 7,
    "start_time": "2025-04-13T15:02:06.858Z"
   },
   {
    "duration": 383,
    "start_time": "2025-04-13T15:02:06.866Z"
   },
   {
    "duration": 88,
    "start_time": "2025-04-13T15:02:07.252Z"
   },
   {
    "duration": 5,
    "start_time": "2025-04-13T15:02:07.343Z"
   },
   {
    "duration": 8,
    "start_time": "2025-04-13T15:02:07.440Z"
   },
   {
    "duration": 5,
    "start_time": "2025-04-13T15:02:07.450Z"
   },
   {
    "duration": 15,
    "start_time": "2025-04-13T15:02:07.458Z"
   },
   {
    "duration": 4,
    "start_time": "2025-04-13T15:02:07.475Z"
   },
   {
    "duration": 2260,
    "start_time": "2025-04-13T15:02:07.481Z"
   },
   {
    "duration": 5,
    "start_time": "2025-04-13T15:02:09.742Z"
   },
   {
    "duration": 25,
    "start_time": "2025-04-13T15:02:09.749Z"
   }
  ],
  "kernelspec": {
   "display_name": "Python 3 (ipykernel)",
   "language": "python",
   "name": "python3"
  },
  "language_info": {
   "codemirror_mode": {
    "name": "ipython",
    "version": 3
   },
   "file_extension": ".py",
   "mimetype": "text/x-python",
   "name": "python",
   "nbconvert_exporter": "python",
   "pygments_lexer": "ipython3",
   "version": "3.9.5"
  },
  "toc": {
   "base_numbering": 1,
   "nav_menu": {},
   "number_sections": true,
   "sideBar": true,
   "skip_h1_title": true,
   "title_cell": "Table of Contents",
   "title_sidebar": "Contents",
   "toc_cell": false,
   "toc_position": {
    "height": "calc(100% - 180px)",
    "left": "10px",
    "top": "150px",
    "width": "234.8px"
   },
   "toc_section_display": true,
   "toc_window_display": true
  }
 },
 "nbformat": 4,
 "nbformat_minor": 2
}
