{
 "cells": [
  {
   "cell_type": "markdown",
   "id": "119b5cae",
   "metadata": {},
   "source": [
    "# Телекоммуникация"
   ]
  },
  {
   "cell_type": "markdown",
   "id": "d6b8647b",
   "metadata": {},
   "source": [
    "**Описание проекта**\n",
    "\n",
    "Оператор связи хочет бороться с оттоком клиентов. Для этого нужна модель, которая будет предсказывать, разорвёт ли абонент договор. Команда оператора собрала персональные данные о некоторых клиентах, информацию об их тарифах и услугах. Ваша задача — обучить на этих данных модель для прогноза оттока клиентов.\n",
    "\n",
    "**Цель проекта**\n",
    "\n",
    "Разработать модель машинного обучения для прогнозирования вероятности оттока клиентов оператора связи «ТелеДом», чтобы своевременно выявлять абонентов с высоким риском разрыва договора и принимать проактивные меры их удержания.\n",
    "\n",
    "**Описание услуг**\n",
    "\n",
    "Оператор предоставляет два основных типа услуг: \n",
    " - Стационарную телефонную связь. Телефон можно подключить к нескольким линиям одновременно.\n",
    " - Интернет. Подключение может быть двух типов: через телефонную линию (DSL, от англ. digital subscriber line — «цифровая абонентская линия») или оптоволоконный кабель (Fiber optic).\n",
    " \n",
    "Также доступны такие услуги:\n",
    "\n",
    " - Интернет-безопасность: антивирус (DeviceProtection) и блокировка небезопасных сайтов (OnlineSecurity);\n",
    " - Выделенная линия технической поддержки (TechSupport);\n",
    " - Облачное хранилище файлов для резервного копирования данных (OnlineBackup);\n",
    " - Стриминговое телевидение (StreamingTV) и каталог фильмов (StreamingMovies).\n",
    " \n",
    "Клиенты могут платить за услуги каждый месяц или заключить договор на 1–2 года. Возможно оплатить счёт разными способами, а также получить электронный чек.\n",
    "\n",
    "**Описание данных**\n",
    "\n",
    "Данные состоят из нескольких файлов, полученных из разных источников:\n",
    " - `contract_new.csv` — информация о договоре;\n",
    " - `personal_new.csv` — персональные данные клиента;\n",
    " - `internet_new.csv` — информация об интернет-услугах;\n",
    " - `phone_new.csv` — информация об услугах телефонии.\n",
    " \n",
    "Файл `contract_new.csv`\n",
    " - customerID — идентификатор абонента;\n",
    " - BeginDate — дата начала действия договора;\n",
    " - EndDate — дата окончания действия договора;\n",
    " - Type — тип оплаты: раз в год-два или ежемесячно;\n",
    " - PaperlessBilling — электронный расчётный лист;\n",
    " - PaymentMethod — тип платежа;\n",
    " - MonthlyCharges — расходы за месяц;\n",
    " - TotalCharges — общие расходы абонента.\n",
    " \n",
    "Файл `personal_new.csv`\n",
    " - customerID — идентификатор пользователя;\n",
    " - gender — пол;\n",
    " - SeniorCitizen — является ли абонент пенсионером;\n",
    " - Partner — есть ли у абонента супруг или супруга;\n",
    " - Dependents — есть ли у абонента дети.\n",
    " \n",
    "Файл `internet_new.csv`\n",
    " - customerID — идентификатор пользователя;\n",
    " - InternetService — тип подключения;\n",
    " - OnlineSecurity — блокировка опасных сайтов;\n",
    " - OnlineBackup — облачное хранилище файлов для резервного копирования данных;\n",
    " - DeviceProtection — антивирус;\n",
    " - TechSupport — выделенная линия технической поддержки;\n",
    " - StreamingTV — стриминговое телевидение;\n",
    " - StreamingMovies — каталог фильмов.\n",
    " \n",
    "Файл `phone_new.csv`\n",
    " - customerID — идентификатор пользователя;\n",
    " - MultipleLines — подключение телефона к нескольким линиям одновременно.\n",
    " \n",
    "Во всех файлах столбец customerID содержит код клиента. Информация о договорах актуальна на 1 февраля 2020 года.\n",
    "\n",
    "**Содержание**\n",
    " - [Загрузка данных](#section1)\n",
    " - [Предобработка данных](#section2)\n",
    " - [Объединение данных](#section3)\n",
    " - [Исследовательский анализ и предобработка данных объединённого датафрейма](#section4)\n",
    " - [Подготовка данных](#section5)\n",
    " - [Обучение моделей машинного обучения](#section6)\n",
    " - [Оценка лучшей модели](#section7)\n",
    " - [Общий вывод](#section8)"
   ]
  },
  {
   "cell_type": "markdown",
   "id": "4518d6dd",
   "metadata": {},
   "source": [
    "<a id=\"section1\"></a> \n",
    "## Загрузка данных"
   ]
  },
  {
   "cell_type": "markdown",
   "id": "574d08f4",
   "metadata": {},
   "source": [
    "### Установка модулей и импорт библиотек"
   ]
  },
  {
   "cell_type": "markdown",
   "id": "cbf41504",
   "metadata": {},
   "source": [
    "Импорт библиотек — это первый технический шаг, необходимый для выполнения анализа данных и обучения модели.\n",
    "\n",
    "Библиотеки в Python — это готовые наборы инструментов, которые помогают быстро и эффективно решать задачи проекта. Например, одни библиотеки используются для загрузки и обработки данных (pandas и numpy), другие — для построения графиков и анализа (matplotlib, seaborn), а также для создания и оценки моделей машинного обучения (scikit-learn).\n",
    "\n",
    "Импортируя библиотеки, мы подключаем эти инструменты к проекту, чтобы использовать их функции на всех этапах — от подготовки данных до финального прогноза."
   ]
  },
  {
   "cell_type": "code",
   "execution_count": 1,
   "id": "5364ca69",
   "metadata": {},
   "outputs": [],
   "source": [
    "!pip install -U scikit-learn==1.3.2 -q"
   ]
  },
  {
   "cell_type": "code",
   "execution_count": 2,
   "id": "d778d34b",
   "metadata": {},
   "outputs": [],
   "source": [
    "!pip install -U catboost -q"
   ]
  },
  {
   "cell_type": "code",
   "execution_count": 3,
   "id": "f4515910",
   "metadata": {},
   "outputs": [],
   "source": [
    "!pip install -U phik -q"
   ]
  },
  {
   "cell_type": "code",
   "execution_count": 4,
   "id": "f5c29b8b",
   "metadata": {},
   "outputs": [],
   "source": [
    "!pip install -U shap -q"
   ]
  },
  {
   "cell_type": "code",
   "execution_count": 5,
   "id": "3d58b5f6",
   "metadata": {},
   "outputs": [
    {
     "data": {
      "text/html": [
       "<style>.output_wrapper, .output {height:auto !important;}</style>"
      ],
      "text/plain": [
       "<IPython.core.display.HTML object>"
      ]
     },
     "metadata": {},
     "output_type": "display_data"
    }
   ],
   "source": [
    "import os\n",
    "import math\n",
    "import warnings\n",
    "import shap\n",
    "\n",
    "import numpy as np\n",
    "import pandas as pd\n",
    "import matplotlib.pyplot as plt\n",
    "import seaborn as sns\n",
    "from IPython.display import HTML, display\n",
    "from phik import phik_matrix\n",
    "from phik.report import plot_correlation_matrix\n",
    "from scipy import stats as st\n",
    "\n",
    "from sklearn.compose import ColumnTransformer\n",
    "from sklearn.impute import SimpleImputer\n",
    "from sklearn.metrics import (\n",
    "    roc_auc_score, \n",
    "    make_scorer, \n",
    "    accuracy_score, \n",
    "    classification_report,\n",
    "    confusion_matrix, \n",
    "    ConfusionMatrixDisplay\n",
    ") \n",
    "from sklearn.model_selection import GridSearchCV, train_test_split\n",
    "from sklearn.pipeline import Pipeline\n",
    "from sklearn.preprocessing import (\n",
    "    MinMaxScaler,\n",
    "    StandardScaler,\n",
    "    OneHotEncoder,\n",
    "    OrdinalEncoder\n",
    ")\n",
    "\n",
    "from sklearn.dummy import DummyClassifier\n",
    "from sklearn.linear_model import LogisticRegression\n",
    "from sklearn.tree import DecisionTreeClassifier\n",
    "from catboost import CatBoostClassifier\n",
    "\n",
    "# Отключение ограничений вывода графиков по высоте\n",
    "display(HTML(\"<style>.output_wrapper, .output {height:auto !important;}</style>\"))\n",
    "\n",
    "# Отключение предупреждений\n",
    "warnings.filterwarnings('ignore')\n",
    "\n",
    "# Для отображения графиков в Jupyter\n",
    "%matplotlib inline\n",
    "\n",
    "#Инициализация констант\n",
    "RANDOM_STATE = 20625\n",
    "TEST_SIZE = 0.25"
   ]
  },
  {
   "cell_type": "markdown",
   "id": "c329d171",
   "metadata": {},
   "source": [
    "### Загрузка датасетов"
   ]
  },
  {
   "cell_type": "markdown",
   "id": "d12e48d5",
   "metadata": {},
   "source": [
    "Этот пункт отвечает за автоматическую загрузку всех необходимых данных из файлов. Код проверяет наличие каждого файла в указанной папке, считывает их в программу и сразу обрабатывает даты там, где это нужно. Благодаря этому все данные становятся готовыми для дальнейшего анализа и построения модели, а в случае отсутствия файла появляется понятное предупреждение."
   ]
  },
  {
   "cell_type": "code",
   "execution_count": 6,
   "id": "d5b66e7f",
   "metadata": {},
   "outputs": [
    {
     "name": "stdout",
     "output_type": "stream",
     "text": [
      "Файл contract_new.csv успешно загружен.\n",
      "Файл personal_new.csv успешно загружен.\n",
      "Файл internet_new.csv успешно загружен.\n",
      "Файл phone_new.csv успешно загружен.\n"
     ]
    }
   ],
   "source": [
    "base_path = '/datasets/'\n",
    "\n",
    "files = {\n",
    "    'df_contract': {'filename': 'contract_new.csv', 'parse_dates': ['BeginDate', 'EndDate']},\n",
    "    'df_personal': {'filename': 'personal_new.csv', 'parse_dates': None},\n",
    "    'df_internet': {'filename': 'internet_new.csv', 'parse_dates': None},\n",
    "    'df_phone': {'filename': 'phone_new.csv', 'parse_dates': None}\n",
    "}\n",
    "\n",
    "dataframes = {}\n",
    "\n",
    "for name, params in files.items():\n",
    "    full_path = os.path.join(base_path, params['filename'])\n",
    "    if os.path.exists(full_path):\n",
    "        if params['parse_dates']:\n",
    "            dataframes[name] = pd.read_csv(full_path, parse_dates=params['parse_dates'])\n",
    "        else:\n",
    "            dataframes[name] = pd.read_csv(full_path)\n",
    "        print(f'Файл {params[\"filename\"]} успешно загружен.')\n",
    "    else:\n",
    "        print(f'Ошибка: файл {params[\"filename\"]} не найден.')\n",
    "\n",
    "data_contract = dataframes.get('df_contract')\n",
    "data_personal = dataframes.get('df_personal')\n",
    "data_internet = dataframes.get('df_internet')\n",
    "data_phone = dataframes.get('df_phone')"
   ]
  },
  {
   "cell_type": "markdown",
   "id": "38969e08",
   "metadata": {},
   "source": [
    "### Обзор датасетов"
   ]
  },
  {
   "cell_type": "markdown",
   "id": "114faacc",
   "metadata": {},
   "source": [
    "Этот пункт выводит ключевую информацию по каждому набору данных: размер таблицы, типы данных в колонках, наличие пропусков и примеры записей. Это помогает быстро понять структуру и качество данных, что важно для дальнейшего анализа и построения модели."
   ]
  },
  {
   "cell_type": "code",
   "execution_count": 7,
   "id": "d7bdcdf3",
   "metadata": {
    "scrolled": false
   },
   "outputs": [
    {
     "name": "stdout",
     "output_type": "stream",
     "text": [
      "--- Обзор датасета: Данные о договорах (contract_new.csv) ---\n",
      "Размер: (7043, 8)\n",
      "Типы данных:\n",
      "customerID                  object\n",
      "BeginDate           datetime64[ns]\n",
      "EndDate                     object\n",
      "Type                        object\n",
      "PaperlessBilling            object\n",
      "PaymentMethod               object\n",
      "MonthlyCharges             float64\n",
      "TotalCharges                object\n",
      "dtype: object\n",
      "Пропущенные значения по столбцам:\n",
      "customerID          0\n",
      "BeginDate           0\n",
      "EndDate             0\n",
      "Type                0\n",
      "PaperlessBilling    0\n",
      "PaymentMethod       0\n",
      "MonthlyCharges      0\n",
      "TotalCharges        0\n",
      "dtype: int64\n",
      "Примеры данных:\n"
     ]
    },
    {
     "data": {
      "text/html": [
       "<div>\n",
       "<style scoped>\n",
       "    .dataframe tbody tr th:only-of-type {\n",
       "        vertical-align: middle;\n",
       "    }\n",
       "\n",
       "    .dataframe tbody tr th {\n",
       "        vertical-align: top;\n",
       "    }\n",
       "\n",
       "    .dataframe thead th {\n",
       "        text-align: right;\n",
       "    }\n",
       "</style>\n",
       "<table border=\"1\" class=\"dataframe\">\n",
       "  <thead>\n",
       "    <tr style=\"text-align: right;\">\n",
       "      <th></th>\n",
       "      <th>customerID</th>\n",
       "      <th>BeginDate</th>\n",
       "      <th>EndDate</th>\n",
       "      <th>Type</th>\n",
       "      <th>PaperlessBilling</th>\n",
       "      <th>PaymentMethod</th>\n",
       "      <th>MonthlyCharges</th>\n",
       "      <th>TotalCharges</th>\n",
       "    </tr>\n",
       "  </thead>\n",
       "  <tbody>\n",
       "    <tr>\n",
       "      <th>0</th>\n",
       "      <td>7590-VHVEG</td>\n",
       "      <td>2020-01-01</td>\n",
       "      <td>No</td>\n",
       "      <td>Month-to-month</td>\n",
       "      <td>Yes</td>\n",
       "      <td>Electronic check</td>\n",
       "      <td>29.85</td>\n",
       "      <td>31.04</td>\n",
       "    </tr>\n",
       "    <tr>\n",
       "      <th>1</th>\n",
       "      <td>5575-GNVDE</td>\n",
       "      <td>2017-04-01</td>\n",
       "      <td>No</td>\n",
       "      <td>One year</td>\n",
       "      <td>No</td>\n",
       "      <td>Mailed check</td>\n",
       "      <td>56.95</td>\n",
       "      <td>2071.84</td>\n",
       "    </tr>\n",
       "    <tr>\n",
       "      <th>2</th>\n",
       "      <td>3668-QPYBK</td>\n",
       "      <td>2019-10-01</td>\n",
       "      <td>No</td>\n",
       "      <td>Month-to-month</td>\n",
       "      <td>Yes</td>\n",
       "      <td>Mailed check</td>\n",
       "      <td>53.85</td>\n",
       "      <td>226.17</td>\n",
       "    </tr>\n",
       "    <tr>\n",
       "      <th>3</th>\n",
       "      <td>7795-CFOCW</td>\n",
       "      <td>2016-05-01</td>\n",
       "      <td>No</td>\n",
       "      <td>One year</td>\n",
       "      <td>No</td>\n",
       "      <td>Bank transfer (automatic)</td>\n",
       "      <td>42.30</td>\n",
       "      <td>1960.6</td>\n",
       "    </tr>\n",
       "    <tr>\n",
       "      <th>4</th>\n",
       "      <td>9237-HQITU</td>\n",
       "      <td>2019-09-01</td>\n",
       "      <td>No</td>\n",
       "      <td>Month-to-month</td>\n",
       "      <td>Yes</td>\n",
       "      <td>Electronic check</td>\n",
       "      <td>70.70</td>\n",
       "      <td>353.5</td>\n",
       "    </tr>\n",
       "    <tr>\n",
       "      <th>...</th>\n",
       "      <td>...</td>\n",
       "      <td>...</td>\n",
       "      <td>...</td>\n",
       "      <td>...</td>\n",
       "      <td>...</td>\n",
       "      <td>...</td>\n",
       "      <td>...</td>\n",
       "      <td>...</td>\n",
       "    </tr>\n",
       "    <tr>\n",
       "      <th>7038</th>\n",
       "      <td>6840-RESVB</td>\n",
       "      <td>2018-02-01</td>\n",
       "      <td>No</td>\n",
       "      <td>One year</td>\n",
       "      <td>Yes</td>\n",
       "      <td>Mailed check</td>\n",
       "      <td>84.80</td>\n",
       "      <td>2035.2</td>\n",
       "    </tr>\n",
       "    <tr>\n",
       "      <th>7039</th>\n",
       "      <td>2234-XADUH</td>\n",
       "      <td>2014-02-01</td>\n",
       "      <td>No</td>\n",
       "      <td>One year</td>\n",
       "      <td>Yes</td>\n",
       "      <td>Credit card (automatic)</td>\n",
       "      <td>103.20</td>\n",
       "      <td>7430.4</td>\n",
       "    </tr>\n",
       "    <tr>\n",
       "      <th>7040</th>\n",
       "      <td>4801-JZAZL</td>\n",
       "      <td>2019-03-01</td>\n",
       "      <td>No</td>\n",
       "      <td>Month-to-month</td>\n",
       "      <td>Yes</td>\n",
       "      <td>Electronic check</td>\n",
       "      <td>29.60</td>\n",
       "      <td>325.6</td>\n",
       "    </tr>\n",
       "    <tr>\n",
       "      <th>7041</th>\n",
       "      <td>8361-LTMKD</td>\n",
       "      <td>2019-07-01</td>\n",
       "      <td>No</td>\n",
       "      <td>Month-to-month</td>\n",
       "      <td>Yes</td>\n",
       "      <td>Mailed check</td>\n",
       "      <td>74.40</td>\n",
       "      <td>520.8</td>\n",
       "    </tr>\n",
       "    <tr>\n",
       "      <th>7042</th>\n",
       "      <td>3186-AJIEK</td>\n",
       "      <td>2014-08-01</td>\n",
       "      <td>No</td>\n",
       "      <td>Two year</td>\n",
       "      <td>Yes</td>\n",
       "      <td>Bank transfer (automatic)</td>\n",
       "      <td>105.65</td>\n",
       "      <td>7251.82</td>\n",
       "    </tr>\n",
       "  </tbody>\n",
       "</table>\n",
       "<p>7043 rows × 8 columns</p>\n",
       "</div>"
      ],
      "text/plain": [
       "      customerID  BeginDate EndDate            Type PaperlessBilling  \\\n",
       "0     7590-VHVEG 2020-01-01      No  Month-to-month              Yes   \n",
       "1     5575-GNVDE 2017-04-01      No        One year               No   \n",
       "2     3668-QPYBK 2019-10-01      No  Month-to-month              Yes   \n",
       "3     7795-CFOCW 2016-05-01      No        One year               No   \n",
       "4     9237-HQITU 2019-09-01      No  Month-to-month              Yes   \n",
       "...          ...        ...     ...             ...              ...   \n",
       "7038  6840-RESVB 2018-02-01      No        One year              Yes   \n",
       "7039  2234-XADUH 2014-02-01      No        One year              Yes   \n",
       "7040  4801-JZAZL 2019-03-01      No  Month-to-month              Yes   \n",
       "7041  8361-LTMKD 2019-07-01      No  Month-to-month              Yes   \n",
       "7042  3186-AJIEK 2014-08-01      No        Two year              Yes   \n",
       "\n",
       "                  PaymentMethod  MonthlyCharges TotalCharges  \n",
       "0              Electronic check           29.85        31.04  \n",
       "1                  Mailed check           56.95      2071.84  \n",
       "2                  Mailed check           53.85       226.17  \n",
       "3     Bank transfer (automatic)           42.30       1960.6  \n",
       "4              Electronic check           70.70        353.5  \n",
       "...                         ...             ...          ...  \n",
       "7038               Mailed check           84.80       2035.2  \n",
       "7039    Credit card (automatic)          103.20       7430.4  \n",
       "7040           Electronic check           29.60        325.6  \n",
       "7041               Mailed check           74.40        520.8  \n",
       "7042  Bank transfer (automatic)          105.65      7251.82  \n",
       "\n",
       "[7043 rows x 8 columns]"
      ]
     },
     "metadata": {},
     "output_type": "display_data"
    },
    {
     "name": "stdout",
     "output_type": "stream",
     "text": [
      "\n",
      "\n",
      "--- Обзор датасета: Персональные данные клиентов (personal_new.csv) ---\n",
      "Размер: (7043, 5)\n",
      "Типы данных:\n",
      "customerID       object\n",
      "gender           object\n",
      "SeniorCitizen     int64\n",
      "Partner          object\n",
      "Dependents       object\n",
      "dtype: object\n",
      "Пропущенные значения по столбцам:\n",
      "customerID       0\n",
      "gender           0\n",
      "SeniorCitizen    0\n",
      "Partner          0\n",
      "Dependents       0\n",
      "dtype: int64\n",
      "Примеры данных:\n"
     ]
    },
    {
     "data": {
      "text/html": [
       "<div>\n",
       "<style scoped>\n",
       "    .dataframe tbody tr th:only-of-type {\n",
       "        vertical-align: middle;\n",
       "    }\n",
       "\n",
       "    .dataframe tbody tr th {\n",
       "        vertical-align: top;\n",
       "    }\n",
       "\n",
       "    .dataframe thead th {\n",
       "        text-align: right;\n",
       "    }\n",
       "</style>\n",
       "<table border=\"1\" class=\"dataframe\">\n",
       "  <thead>\n",
       "    <tr style=\"text-align: right;\">\n",
       "      <th></th>\n",
       "      <th>customerID</th>\n",
       "      <th>gender</th>\n",
       "      <th>SeniorCitizen</th>\n",
       "      <th>Partner</th>\n",
       "      <th>Dependents</th>\n",
       "    </tr>\n",
       "  </thead>\n",
       "  <tbody>\n",
       "    <tr>\n",
       "      <th>0</th>\n",
       "      <td>7590-VHVEG</td>\n",
       "      <td>Female</td>\n",
       "      <td>0</td>\n",
       "      <td>Yes</td>\n",
       "      <td>No</td>\n",
       "    </tr>\n",
       "    <tr>\n",
       "      <th>1</th>\n",
       "      <td>5575-GNVDE</td>\n",
       "      <td>Male</td>\n",
       "      <td>0</td>\n",
       "      <td>No</td>\n",
       "      <td>No</td>\n",
       "    </tr>\n",
       "    <tr>\n",
       "      <th>2</th>\n",
       "      <td>3668-QPYBK</td>\n",
       "      <td>Male</td>\n",
       "      <td>0</td>\n",
       "      <td>No</td>\n",
       "      <td>No</td>\n",
       "    </tr>\n",
       "    <tr>\n",
       "      <th>3</th>\n",
       "      <td>7795-CFOCW</td>\n",
       "      <td>Male</td>\n",
       "      <td>0</td>\n",
       "      <td>No</td>\n",
       "      <td>No</td>\n",
       "    </tr>\n",
       "    <tr>\n",
       "      <th>4</th>\n",
       "      <td>9237-HQITU</td>\n",
       "      <td>Female</td>\n",
       "      <td>0</td>\n",
       "      <td>No</td>\n",
       "      <td>No</td>\n",
       "    </tr>\n",
       "    <tr>\n",
       "      <th>...</th>\n",
       "      <td>...</td>\n",
       "      <td>...</td>\n",
       "      <td>...</td>\n",
       "      <td>...</td>\n",
       "      <td>...</td>\n",
       "    </tr>\n",
       "    <tr>\n",
       "      <th>7038</th>\n",
       "      <td>6840-RESVB</td>\n",
       "      <td>Male</td>\n",
       "      <td>0</td>\n",
       "      <td>Yes</td>\n",
       "      <td>Yes</td>\n",
       "    </tr>\n",
       "    <tr>\n",
       "      <th>7039</th>\n",
       "      <td>2234-XADUH</td>\n",
       "      <td>Female</td>\n",
       "      <td>0</td>\n",
       "      <td>Yes</td>\n",
       "      <td>Yes</td>\n",
       "    </tr>\n",
       "    <tr>\n",
       "      <th>7040</th>\n",
       "      <td>4801-JZAZL</td>\n",
       "      <td>Female</td>\n",
       "      <td>0</td>\n",
       "      <td>Yes</td>\n",
       "      <td>Yes</td>\n",
       "    </tr>\n",
       "    <tr>\n",
       "      <th>7041</th>\n",
       "      <td>8361-LTMKD</td>\n",
       "      <td>Male</td>\n",
       "      <td>1</td>\n",
       "      <td>Yes</td>\n",
       "      <td>No</td>\n",
       "    </tr>\n",
       "    <tr>\n",
       "      <th>7042</th>\n",
       "      <td>3186-AJIEK</td>\n",
       "      <td>Male</td>\n",
       "      <td>0</td>\n",
       "      <td>No</td>\n",
       "      <td>No</td>\n",
       "    </tr>\n",
       "  </tbody>\n",
       "</table>\n",
       "<p>7043 rows × 5 columns</p>\n",
       "</div>"
      ],
      "text/plain": [
       "      customerID  gender  SeniorCitizen Partner Dependents\n",
       "0     7590-VHVEG  Female              0     Yes         No\n",
       "1     5575-GNVDE    Male              0      No         No\n",
       "2     3668-QPYBK    Male              0      No         No\n",
       "3     7795-CFOCW    Male              0      No         No\n",
       "4     9237-HQITU  Female              0      No         No\n",
       "...          ...     ...            ...     ...        ...\n",
       "7038  6840-RESVB    Male              0     Yes        Yes\n",
       "7039  2234-XADUH  Female              0     Yes        Yes\n",
       "7040  4801-JZAZL  Female              0     Yes        Yes\n",
       "7041  8361-LTMKD    Male              1     Yes         No\n",
       "7042  3186-AJIEK    Male              0      No         No\n",
       "\n",
       "[7043 rows x 5 columns]"
      ]
     },
     "metadata": {},
     "output_type": "display_data"
    },
    {
     "name": "stdout",
     "output_type": "stream",
     "text": [
      "\n",
      "\n",
      "--- Обзор датасета: Интернет-услуги (internet_new.csv) ---\n",
      "Размер: (5517, 8)\n",
      "Типы данных:\n",
      "customerID          object\n",
      "InternetService     object\n",
      "OnlineSecurity      object\n",
      "OnlineBackup        object\n",
      "DeviceProtection    object\n",
      "TechSupport         object\n",
      "StreamingTV         object\n",
      "StreamingMovies     object\n",
      "dtype: object\n",
      "Пропущенные значения по столбцам:\n",
      "customerID          0\n",
      "InternetService     0\n",
      "OnlineSecurity      0\n",
      "OnlineBackup        0\n",
      "DeviceProtection    0\n",
      "TechSupport         0\n",
      "StreamingTV         0\n",
      "StreamingMovies     0\n",
      "dtype: int64\n",
      "Примеры данных:\n"
     ]
    },
    {
     "data": {
      "text/html": [
       "<div>\n",
       "<style scoped>\n",
       "    .dataframe tbody tr th:only-of-type {\n",
       "        vertical-align: middle;\n",
       "    }\n",
       "\n",
       "    .dataframe tbody tr th {\n",
       "        vertical-align: top;\n",
       "    }\n",
       "\n",
       "    .dataframe thead th {\n",
       "        text-align: right;\n",
       "    }\n",
       "</style>\n",
       "<table border=\"1\" class=\"dataframe\">\n",
       "  <thead>\n",
       "    <tr style=\"text-align: right;\">\n",
       "      <th></th>\n",
       "      <th>customerID</th>\n",
       "      <th>InternetService</th>\n",
       "      <th>OnlineSecurity</th>\n",
       "      <th>OnlineBackup</th>\n",
       "      <th>DeviceProtection</th>\n",
       "      <th>TechSupport</th>\n",
       "      <th>StreamingTV</th>\n",
       "      <th>StreamingMovies</th>\n",
       "    </tr>\n",
       "  </thead>\n",
       "  <tbody>\n",
       "    <tr>\n",
       "      <th>0</th>\n",
       "      <td>7590-VHVEG</td>\n",
       "      <td>DSL</td>\n",
       "      <td>No</td>\n",
       "      <td>Yes</td>\n",
       "      <td>No</td>\n",
       "      <td>No</td>\n",
       "      <td>No</td>\n",
       "      <td>No</td>\n",
       "    </tr>\n",
       "    <tr>\n",
       "      <th>1</th>\n",
       "      <td>5575-GNVDE</td>\n",
       "      <td>DSL</td>\n",
       "      <td>Yes</td>\n",
       "      <td>No</td>\n",
       "      <td>Yes</td>\n",
       "      <td>No</td>\n",
       "      <td>No</td>\n",
       "      <td>No</td>\n",
       "    </tr>\n",
       "    <tr>\n",
       "      <th>2</th>\n",
       "      <td>3668-QPYBK</td>\n",
       "      <td>DSL</td>\n",
       "      <td>Yes</td>\n",
       "      <td>Yes</td>\n",
       "      <td>No</td>\n",
       "      <td>No</td>\n",
       "      <td>No</td>\n",
       "      <td>No</td>\n",
       "    </tr>\n",
       "    <tr>\n",
       "      <th>3</th>\n",
       "      <td>7795-CFOCW</td>\n",
       "      <td>DSL</td>\n",
       "      <td>Yes</td>\n",
       "      <td>No</td>\n",
       "      <td>Yes</td>\n",
       "      <td>Yes</td>\n",
       "      <td>No</td>\n",
       "      <td>No</td>\n",
       "    </tr>\n",
       "    <tr>\n",
       "      <th>4</th>\n",
       "      <td>9237-HQITU</td>\n",
       "      <td>Fiber optic</td>\n",
       "      <td>No</td>\n",
       "      <td>No</td>\n",
       "      <td>No</td>\n",
       "      <td>No</td>\n",
       "      <td>No</td>\n",
       "      <td>No</td>\n",
       "    </tr>\n",
       "    <tr>\n",
       "      <th>...</th>\n",
       "      <td>...</td>\n",
       "      <td>...</td>\n",
       "      <td>...</td>\n",
       "      <td>...</td>\n",
       "      <td>...</td>\n",
       "      <td>...</td>\n",
       "      <td>...</td>\n",
       "      <td>...</td>\n",
       "    </tr>\n",
       "    <tr>\n",
       "      <th>5512</th>\n",
       "      <td>6840-RESVB</td>\n",
       "      <td>DSL</td>\n",
       "      <td>Yes</td>\n",
       "      <td>No</td>\n",
       "      <td>Yes</td>\n",
       "      <td>Yes</td>\n",
       "      <td>Yes</td>\n",
       "      <td>Yes</td>\n",
       "    </tr>\n",
       "    <tr>\n",
       "      <th>5513</th>\n",
       "      <td>2234-XADUH</td>\n",
       "      <td>Fiber optic</td>\n",
       "      <td>No</td>\n",
       "      <td>Yes</td>\n",
       "      <td>Yes</td>\n",
       "      <td>No</td>\n",
       "      <td>Yes</td>\n",
       "      <td>Yes</td>\n",
       "    </tr>\n",
       "    <tr>\n",
       "      <th>5514</th>\n",
       "      <td>4801-JZAZL</td>\n",
       "      <td>DSL</td>\n",
       "      <td>Yes</td>\n",
       "      <td>No</td>\n",
       "      <td>No</td>\n",
       "      <td>No</td>\n",
       "      <td>No</td>\n",
       "      <td>No</td>\n",
       "    </tr>\n",
       "    <tr>\n",
       "      <th>5515</th>\n",
       "      <td>8361-LTMKD</td>\n",
       "      <td>Fiber optic</td>\n",
       "      <td>No</td>\n",
       "      <td>No</td>\n",
       "      <td>No</td>\n",
       "      <td>No</td>\n",
       "      <td>No</td>\n",
       "      <td>No</td>\n",
       "    </tr>\n",
       "    <tr>\n",
       "      <th>5516</th>\n",
       "      <td>3186-AJIEK</td>\n",
       "      <td>Fiber optic</td>\n",
       "      <td>Yes</td>\n",
       "      <td>No</td>\n",
       "      <td>Yes</td>\n",
       "      <td>Yes</td>\n",
       "      <td>Yes</td>\n",
       "      <td>Yes</td>\n",
       "    </tr>\n",
       "  </tbody>\n",
       "</table>\n",
       "<p>5517 rows × 8 columns</p>\n",
       "</div>"
      ],
      "text/plain": [
       "      customerID InternetService OnlineSecurity OnlineBackup DeviceProtection  \\\n",
       "0     7590-VHVEG             DSL             No          Yes               No   \n",
       "1     5575-GNVDE             DSL            Yes           No              Yes   \n",
       "2     3668-QPYBK             DSL            Yes          Yes               No   \n",
       "3     7795-CFOCW             DSL            Yes           No              Yes   \n",
       "4     9237-HQITU     Fiber optic             No           No               No   \n",
       "...          ...             ...            ...          ...              ...   \n",
       "5512  6840-RESVB             DSL            Yes           No              Yes   \n",
       "5513  2234-XADUH     Fiber optic             No          Yes              Yes   \n",
       "5514  4801-JZAZL             DSL            Yes           No               No   \n",
       "5515  8361-LTMKD     Fiber optic             No           No               No   \n",
       "5516  3186-AJIEK     Fiber optic            Yes           No              Yes   \n",
       "\n",
       "     TechSupport StreamingTV StreamingMovies  \n",
       "0             No          No              No  \n",
       "1             No          No              No  \n",
       "2             No          No              No  \n",
       "3            Yes          No              No  \n",
       "4             No          No              No  \n",
       "...          ...         ...             ...  \n",
       "5512         Yes         Yes             Yes  \n",
       "5513          No         Yes             Yes  \n",
       "5514          No          No              No  \n",
       "5515          No          No              No  \n",
       "5516         Yes         Yes             Yes  \n",
       "\n",
       "[5517 rows x 8 columns]"
      ]
     },
     "metadata": {},
     "output_type": "display_data"
    },
    {
     "name": "stdout",
     "output_type": "stream",
     "text": [
      "\n",
      "\n",
      "--- Обзор датасета: Телефония (phone_new.csv) ---\n",
      "Размер: (6361, 2)\n",
      "Типы данных:\n",
      "customerID       object\n",
      "MultipleLines    object\n",
      "dtype: object\n",
      "Пропущенные значения по столбцам:\n",
      "customerID       0\n",
      "MultipleLines    0\n",
      "dtype: int64\n",
      "Примеры данных:\n"
     ]
    },
    {
     "data": {
      "text/html": [
       "<div>\n",
       "<style scoped>\n",
       "    .dataframe tbody tr th:only-of-type {\n",
       "        vertical-align: middle;\n",
       "    }\n",
       "\n",
       "    .dataframe tbody tr th {\n",
       "        vertical-align: top;\n",
       "    }\n",
       "\n",
       "    .dataframe thead th {\n",
       "        text-align: right;\n",
       "    }\n",
       "</style>\n",
       "<table border=\"1\" class=\"dataframe\">\n",
       "  <thead>\n",
       "    <tr style=\"text-align: right;\">\n",
       "      <th></th>\n",
       "      <th>customerID</th>\n",
       "      <th>MultipleLines</th>\n",
       "    </tr>\n",
       "  </thead>\n",
       "  <tbody>\n",
       "    <tr>\n",
       "      <th>0</th>\n",
       "      <td>5575-GNVDE</td>\n",
       "      <td>No</td>\n",
       "    </tr>\n",
       "    <tr>\n",
       "      <th>1</th>\n",
       "      <td>3668-QPYBK</td>\n",
       "      <td>No</td>\n",
       "    </tr>\n",
       "    <tr>\n",
       "      <th>2</th>\n",
       "      <td>9237-HQITU</td>\n",
       "      <td>No</td>\n",
       "    </tr>\n",
       "    <tr>\n",
       "      <th>3</th>\n",
       "      <td>9305-CDSKC</td>\n",
       "      <td>Yes</td>\n",
       "    </tr>\n",
       "    <tr>\n",
       "      <th>4</th>\n",
       "      <td>1452-KIOVK</td>\n",
       "      <td>Yes</td>\n",
       "    </tr>\n",
       "    <tr>\n",
       "      <th>...</th>\n",
       "      <td>...</td>\n",
       "      <td>...</td>\n",
       "    </tr>\n",
       "    <tr>\n",
       "      <th>6356</th>\n",
       "      <td>2569-WGERO</td>\n",
       "      <td>No</td>\n",
       "    </tr>\n",
       "    <tr>\n",
       "      <th>6357</th>\n",
       "      <td>6840-RESVB</td>\n",
       "      <td>Yes</td>\n",
       "    </tr>\n",
       "    <tr>\n",
       "      <th>6358</th>\n",
       "      <td>2234-XADUH</td>\n",
       "      <td>Yes</td>\n",
       "    </tr>\n",
       "    <tr>\n",
       "      <th>6359</th>\n",
       "      <td>8361-LTMKD</td>\n",
       "      <td>Yes</td>\n",
       "    </tr>\n",
       "    <tr>\n",
       "      <th>6360</th>\n",
       "      <td>3186-AJIEK</td>\n",
       "      <td>No</td>\n",
       "    </tr>\n",
       "  </tbody>\n",
       "</table>\n",
       "<p>6361 rows × 2 columns</p>\n",
       "</div>"
      ],
      "text/plain": [
       "      customerID MultipleLines\n",
       "0     5575-GNVDE            No\n",
       "1     3668-QPYBK            No\n",
       "2     9237-HQITU            No\n",
       "3     9305-CDSKC           Yes\n",
       "4     1452-KIOVK           Yes\n",
       "...          ...           ...\n",
       "6356  2569-WGERO            No\n",
       "6357  6840-RESVB           Yes\n",
       "6358  2234-XADUH           Yes\n",
       "6359  8361-LTMKD           Yes\n",
       "6360  3186-AJIEK            No\n",
       "\n",
       "[6361 rows x 2 columns]"
      ]
     },
     "metadata": {},
     "output_type": "display_data"
    },
    {
     "name": "stdout",
     "output_type": "stream",
     "text": [
      "\n",
      "\n"
     ]
    }
   ],
   "source": [
    "\"\"\"\n",
    "Функция overview выводит обзор датасета:\n",
    "- название и размер,\n",
    "- типы данных столбцов,\n",
    "- количество пропущенных значений,\n",
    "- несколько примеров данных.\n",
    "\"\"\"\n",
    "\n",
    "def overview(df, name):\n",
    "    print(f'--- Обзор датасета: {name} ---')\n",
    "    print(f'Размер: {df.shape}')\n",
    "    print('Типы данных:')\n",
    "    print(df.dtypes)\n",
    "    print('Пропущенные значения по столбцам:')\n",
    "    print(df.isna().sum())\n",
    "    print('Примеры данных:')\n",
    "    display(df)\n",
    "    print('\\n')\n",
    "\n",
    "overview(data_contract, 'Данные о договорах (contract_new.csv)')\n",
    "overview(data_personal, 'Персональные данные клиентов (personal_new.csv)')\n",
    "overview(data_internet, 'Интернет-услуги (internet_new.csv)')\n",
    "overview(data_phone, 'Телефония (phone_new.csv)')"
   ]
  },
  {
   "cell_type": "markdown",
   "id": "ed048254",
   "metadata": {},
   "source": [
    "На основе первичного обзора четырёх представленных датасетов `contract_new.csv`, `personal_new.csv`, `internet_new.csv`, `phone_new.csv`, можно выделить следующие ключевые моменты и выводы:\n",
    "\n",
    "1. Датасет contract_new.csv\n",
    "\n",
    " - Размер: 7043 строк × 8 столбцов\n",
    " - Нет пропущенных значений.\n",
    " - BeginDate — уже приведён к типу datetime, всё корректно.\n",
    " - EndDate — представлен как object, содержит как даты, так и строку \"No\", что требует предобработки.\n",
    " - TotalCharges также имеет тип object, хотя должен быть числовым float.\n",
    " \n",
    "\n",
    "2. Датасет personal_new.csv\n",
    "\n",
    " - Размер: 7043 строк × 5 столбцов\n",
    " - Нет пропущенных значений.\n",
    " - Поля логически корректны (gender, SeniorCitizen, Partner, Dependents), но имеют разный тип данных (int и object)\n",
    " - SeniorCitizen — числовой (0 или 1), можно оставить как есть, так как кодировщик в пайплайне обработает данные значения.\n",
    " \n",
    "\n",
    "3. Датасет internet_new.csv\n",
    "\n",
    " - Размер: 5517 строк × 8 столбцов\n",
    " - Нет пропущенных значений.\n",
    " - Все поля категориальные (Yes/No).\n",
    " - Меньше строк по сравнению с другими — вероятно, не у всех клиентов есть интернет-услуги. Это нужно учитывать при объединении с другими таблицами по customerID.\n",
    " \n",
    "\n",
    "4. Датасет phone_new.csv\n",
    "\n",
    " - Размер: 6361 строк × 2 столбца\n",
    " - Нет пропущенных значений.\n",
    " - Столбец MultipleLines содержит Yes / No.\n",
    " - Меньше строк, чем в contract_new.csv → не у всех клиентов есть телефония."
   ]
  },
  {
   "cell_type": "markdown",
   "id": "84d169df",
   "metadata": {},
   "source": [
    "### Промежуточный вывод"
   ]
  },
  {
   "cell_type": "markdown",
   "id": "0c917379",
   "metadata": {},
   "source": [
    "На первом этапе проекта была успешно выполнена загрузка и первичный обзор четырёх ключевых датасетов:\n",
    " - Все файлы найдены и корректно считаны в программу.\n",
    " - Пропущенные значения отсутствуют во всех таблицах, что упростит дальнейшую работу.\n",
    " - Обнаружены потенциальные проблемы с типами данных, которые потребуют дополнительной обработки:\n",
    " - В таблице contract_new.csv:\n",
    "   - Столбец EndDate содержит как даты, так и текст \"No\" — это требует приведения к единому формату.\n",
    "   - Столбец TotalCharges имеет строковый тип, хотя должен быть числовым — потребуется преобразование.\n",
    " - В таблице personal_new.csv:\n",
    "   - Столбец SeniorCitizen представлен как число (0 или 1), возможно, будет полезно привести его к булевому типу (True/False) для наглядности.\n",
    " - Таблицы internet_new.csv и phone_new.csv содержат меньше записей, чем основная таблица с контрактами, что логично: не все клиенты пользуются интернетом или телефонией. Это обязательно будет учтено при объединении данных.\n",
    "\n",
    "Данные готовы к дальнейшей обработке, объединению и анализу, основные риски на этом этапе — это необходимость корректной обработки типов данных и внимательное объединение таблиц с разным количеством записей по общему ключу (customerID)."
   ]
  },
  {
   "cell_type": "markdown",
   "id": "9ba11169",
   "metadata": {},
   "source": [
    "<a id=\"section2\"></a> \n",
    "## Предобработка данных"
   ]
  },
  {
   "cell_type": "markdown",
   "id": "b8036f4b",
   "metadata": {},
   "source": [
    "### Изменение типов данных"
   ]
  },
  {
   "cell_type": "markdown",
   "id": "b8f890b3",
   "metadata": {},
   "source": [
    "На этом этапе мы необходимо подготовить данные к анализу и обучению модели, приведя столбцы к корректным типам.\n",
    "\n",
    "Некоторые поля в исходных таблицах имели неподходящие форматы (например, даты были строками, числовые значения — тоже строками). Это мешает анализу и может привести к ошибкам при работе модели."
   ]
  },
  {
   "cell_type": "markdown",
   "id": "601047e5",
   "metadata": {},
   "source": [
    "**Датасет data_contract**"
   ]
  },
  {
   "cell_type": "markdown",
   "id": "52f126c8",
   "metadata": {},
   "source": [
    "Поле `EndDate`содержит как даты, так и значения (No), которое означает отсутствие даты окончания договра. Чтобы корректно работать дальше с данным полем, переведем значения No в NaT"
   ]
  },
  {
   "cell_type": "code",
   "execution_count": 8,
   "id": "05370ae8",
   "metadata": {},
   "outputs": [],
   "source": [
    "data_contract['EndDate'] = pd.to_datetime(data_contract['EndDate'], errors='coerce')"
   ]
  },
  {
   "cell_type": "markdown",
   "id": "4dec6f1f",
   "metadata": {},
   "source": [
    "Поле `TotalCharges` содержит числовые значения, хотя имеет тип object. Следует изменить данное поле на тип float"
   ]
  },
  {
   "cell_type": "code",
   "execution_count": 9,
   "id": "5dd8ee0f",
   "metadata": {},
   "outputs": [],
   "source": [
    "data_contract['TotalCharges'] = pd.to_numeric(data_contract['TotalCharges'], errors='coerce')"
   ]
  },
  {
   "cell_type": "markdown",
   "id": "92176c1c",
   "metadata": {},
   "source": [
    "Проверим датасет после изменений типов данных на наличие проблем"
   ]
  },
  {
   "cell_type": "code",
   "execution_count": 10,
   "id": "dea6d9d8",
   "metadata": {},
   "outputs": [
    {
     "data": {
      "text/plain": [
       "customerID                  object\n",
       "BeginDate           datetime64[ns]\n",
       "EndDate             datetime64[ns]\n",
       "Type                        object\n",
       "PaperlessBilling            object\n",
       "PaymentMethod               object\n",
       "MonthlyCharges             float64\n",
       "TotalCharges               float64\n",
       "dtype: object"
      ]
     },
     "execution_count": 10,
     "metadata": {},
     "output_type": "execute_result"
    }
   ],
   "source": [
    "data_contract.dtypes"
   ]
  },
  {
   "cell_type": "code",
   "execution_count": 11,
   "id": "f5e7efc1",
   "metadata": {},
   "outputs": [
    {
     "data": {
      "text/plain": [
       "customerID             0\n",
       "BeginDate              0\n",
       "EndDate             5942\n",
       "Type                   0\n",
       "PaperlessBilling       0\n",
       "PaymentMethod          0\n",
       "MonthlyCharges         0\n",
       "TotalCharges          11\n",
       "dtype: int64"
      ]
     },
     "execution_count": 11,
     "metadata": {},
     "output_type": "execute_result"
    }
   ],
   "source": [
    "data_contract.isna().sum()"
   ]
  },
  {
   "cell_type": "markdown",
   "id": "f1093f3d",
   "metadata": {},
   "source": [
    "Поле `TotalCharges` после изменения стал содержать 11 пропущенных значений, скорее всего находились пустые строки, которые были преобразованы в NaN. Посмотрим на данные строки"
   ]
  },
  {
   "cell_type": "code",
   "execution_count": 12,
   "id": "075a42a3",
   "metadata": {},
   "outputs": [
    {
     "data": {
      "text/html": [
       "<div>\n",
       "<style scoped>\n",
       "    .dataframe tbody tr th:only-of-type {\n",
       "        vertical-align: middle;\n",
       "    }\n",
       "\n",
       "    .dataframe tbody tr th {\n",
       "        vertical-align: top;\n",
       "    }\n",
       "\n",
       "    .dataframe thead th {\n",
       "        text-align: right;\n",
       "    }\n",
       "</style>\n",
       "<table border=\"1\" class=\"dataframe\">\n",
       "  <thead>\n",
       "    <tr style=\"text-align: right;\">\n",
       "      <th></th>\n",
       "      <th>customerID</th>\n",
       "      <th>BeginDate</th>\n",
       "      <th>EndDate</th>\n",
       "      <th>Type</th>\n",
       "      <th>PaperlessBilling</th>\n",
       "      <th>PaymentMethod</th>\n",
       "      <th>MonthlyCharges</th>\n",
       "      <th>TotalCharges</th>\n",
       "    </tr>\n",
       "  </thead>\n",
       "  <tbody>\n",
       "    <tr>\n",
       "      <th>488</th>\n",
       "      <td>4472-LVYGI</td>\n",
       "      <td>2020-02-01</td>\n",
       "      <td>NaT</td>\n",
       "      <td>Two year</td>\n",
       "      <td>Yes</td>\n",
       "      <td>Bank transfer (automatic)</td>\n",
       "      <td>52.55</td>\n",
       "      <td>NaN</td>\n",
       "    </tr>\n",
       "    <tr>\n",
       "      <th>753</th>\n",
       "      <td>3115-CZMZD</td>\n",
       "      <td>2020-02-01</td>\n",
       "      <td>NaT</td>\n",
       "      <td>Two year</td>\n",
       "      <td>No</td>\n",
       "      <td>Mailed check</td>\n",
       "      <td>20.25</td>\n",
       "      <td>NaN</td>\n",
       "    </tr>\n",
       "    <tr>\n",
       "      <th>936</th>\n",
       "      <td>5709-LVOEQ</td>\n",
       "      <td>2020-02-01</td>\n",
       "      <td>NaT</td>\n",
       "      <td>Two year</td>\n",
       "      <td>No</td>\n",
       "      <td>Mailed check</td>\n",
       "      <td>80.85</td>\n",
       "      <td>NaN</td>\n",
       "    </tr>\n",
       "    <tr>\n",
       "      <th>1082</th>\n",
       "      <td>4367-NUYAO</td>\n",
       "      <td>2020-02-01</td>\n",
       "      <td>NaT</td>\n",
       "      <td>Two year</td>\n",
       "      <td>No</td>\n",
       "      <td>Mailed check</td>\n",
       "      <td>25.75</td>\n",
       "      <td>NaN</td>\n",
       "    </tr>\n",
       "    <tr>\n",
       "      <th>1340</th>\n",
       "      <td>1371-DWPAZ</td>\n",
       "      <td>2020-02-01</td>\n",
       "      <td>NaT</td>\n",
       "      <td>Two year</td>\n",
       "      <td>No</td>\n",
       "      <td>Credit card (automatic)</td>\n",
       "      <td>56.05</td>\n",
       "      <td>NaN</td>\n",
       "    </tr>\n",
       "    <tr>\n",
       "      <th>3331</th>\n",
       "      <td>7644-OMVMY</td>\n",
       "      <td>2020-02-01</td>\n",
       "      <td>NaT</td>\n",
       "      <td>Two year</td>\n",
       "      <td>No</td>\n",
       "      <td>Mailed check</td>\n",
       "      <td>19.85</td>\n",
       "      <td>NaN</td>\n",
       "    </tr>\n",
       "    <tr>\n",
       "      <th>3826</th>\n",
       "      <td>3213-VVOLG</td>\n",
       "      <td>2020-02-01</td>\n",
       "      <td>NaT</td>\n",
       "      <td>Two year</td>\n",
       "      <td>No</td>\n",
       "      <td>Mailed check</td>\n",
       "      <td>25.35</td>\n",
       "      <td>NaN</td>\n",
       "    </tr>\n",
       "    <tr>\n",
       "      <th>4380</th>\n",
       "      <td>2520-SGTTA</td>\n",
       "      <td>2020-02-01</td>\n",
       "      <td>NaT</td>\n",
       "      <td>Two year</td>\n",
       "      <td>No</td>\n",
       "      <td>Mailed check</td>\n",
       "      <td>20.00</td>\n",
       "      <td>NaN</td>\n",
       "    </tr>\n",
       "    <tr>\n",
       "      <th>5218</th>\n",
       "      <td>2923-ARZLG</td>\n",
       "      <td>2020-02-01</td>\n",
       "      <td>NaT</td>\n",
       "      <td>One year</td>\n",
       "      <td>Yes</td>\n",
       "      <td>Mailed check</td>\n",
       "      <td>19.70</td>\n",
       "      <td>NaN</td>\n",
       "    </tr>\n",
       "    <tr>\n",
       "      <th>6670</th>\n",
       "      <td>4075-WKNIU</td>\n",
       "      <td>2020-02-01</td>\n",
       "      <td>NaT</td>\n",
       "      <td>Two year</td>\n",
       "      <td>No</td>\n",
       "      <td>Mailed check</td>\n",
       "      <td>73.35</td>\n",
       "      <td>NaN</td>\n",
       "    </tr>\n",
       "    <tr>\n",
       "      <th>6754</th>\n",
       "      <td>2775-SEFEE</td>\n",
       "      <td>2020-02-01</td>\n",
       "      <td>NaT</td>\n",
       "      <td>Two year</td>\n",
       "      <td>Yes</td>\n",
       "      <td>Bank transfer (automatic)</td>\n",
       "      <td>61.90</td>\n",
       "      <td>NaN</td>\n",
       "    </tr>\n",
       "  </tbody>\n",
       "</table>\n",
       "</div>"
      ],
      "text/plain": [
       "      customerID  BeginDate EndDate      Type PaperlessBilling  \\\n",
       "488   4472-LVYGI 2020-02-01     NaT  Two year              Yes   \n",
       "753   3115-CZMZD 2020-02-01     NaT  Two year               No   \n",
       "936   5709-LVOEQ 2020-02-01     NaT  Two year               No   \n",
       "1082  4367-NUYAO 2020-02-01     NaT  Two year               No   \n",
       "1340  1371-DWPAZ 2020-02-01     NaT  Two year               No   \n",
       "3331  7644-OMVMY 2020-02-01     NaT  Two year               No   \n",
       "3826  3213-VVOLG 2020-02-01     NaT  Two year               No   \n",
       "4380  2520-SGTTA 2020-02-01     NaT  Two year               No   \n",
       "5218  2923-ARZLG 2020-02-01     NaT  One year              Yes   \n",
       "6670  4075-WKNIU 2020-02-01     NaT  Two year               No   \n",
       "6754  2775-SEFEE 2020-02-01     NaT  Two year              Yes   \n",
       "\n",
       "                  PaymentMethod  MonthlyCharges  TotalCharges  \n",
       "488   Bank transfer (automatic)           52.55           NaN  \n",
       "753                Mailed check           20.25           NaN  \n",
       "936                Mailed check           80.85           NaN  \n",
       "1082               Mailed check           25.75           NaN  \n",
       "1340    Credit card (automatic)           56.05           NaN  \n",
       "3331               Mailed check           19.85           NaN  \n",
       "3826               Mailed check           25.35           NaN  \n",
       "4380               Mailed check           20.00           NaN  \n",
       "5218               Mailed check           19.70           NaN  \n",
       "6670               Mailed check           73.35           NaN  \n",
       "6754  Bank transfer (automatic)           61.90           NaN  "
      ]
     },
     "execution_count": 12,
     "metadata": {},
     "output_type": "execute_result"
    }
   ],
   "source": [
    "data_contract[data_contract['TotalCharges'].isna()]"
   ]
  },
  {
   "cell_type": "markdown",
   "id": "ed971fcd",
   "metadata": {},
   "source": [
    "Строки с пустым `TotalCharges` соответствуют клиентам, которые только начали пользоваться услугами (все BeginDate = 2020-02-01). У них ещё не было ни одного месяца обслуживания — соответственно, нет и суммарных начислений.\n",
    "\n",
    "У клиентов с пропущенными `TotalCharges`, было принято решение сохранить их в выборке, заполнив пропуски значением 0. Это соответствует бизнес-логике — у клиента нет начислений, потому что он только начал пользоваться услугами. "
   ]
  },
  {
   "cell_type": "code",
   "execution_count": 13,
   "id": "bd01b5c5",
   "metadata": {},
   "outputs": [
    {
     "data": {
      "text/plain": [
       "customerID             0\n",
       "BeginDate              0\n",
       "EndDate             5942\n",
       "Type                   0\n",
       "PaperlessBilling       0\n",
       "PaymentMethod          0\n",
       "MonthlyCharges         0\n",
       "TotalCharges           0\n",
       "dtype: int64"
      ]
     },
     "execution_count": 13,
     "metadata": {},
     "output_type": "execute_result"
    }
   ],
   "source": [
    "data_contract['TotalCharges'] = data_contract['TotalCharges'].fillna(0)\n",
    "\n",
    "#data_contract = data_contract.dropna(subset=['TotalCharges']).reset_index() - предыдущий вариант\n",
    "\n",
    "data_contract.isna().sum()"
   ]
  },
  {
   "cell_type": "markdown",
   "id": "2b635acc",
   "metadata": {},
   "source": [
    "При объединении с другими таблицами по ключу customerID в итоговой таблице останутся только те клиенты, которые есть во всех объединяемых датасетах, включая уже очищенный data_contract."
   ]
  },
  {
   "cell_type": "markdown",
   "id": "fe91d043",
   "metadata": {},
   "source": [
    "**Датасет data_personal**"
   ]
  },
  {
   "cell_type": "markdown",
   "id": "29d72b22",
   "metadata": {},
   "source": [
    "Заменим в поле `SeniorCitizen` числовые значения 1/0 на `Yes/No`"
   ]
  },
  {
   "cell_type": "code",
   "execution_count": 14,
   "id": "920b65ef",
   "metadata": {},
   "outputs": [],
   "source": [
    "#data_personal['SeniorCitizen'] = data_personal['SeniorCitizen'].replace({1: 'Yes', 0: 'No'})\n",
    "\n",
    "#data_personal['SeniorCitizen'].unique()"
   ]
  },
  {
   "cell_type": "markdown",
   "id": "9a0755c9",
   "metadata": {},
   "source": [
    "### Обработка дубликатов"
   ]
  },
  {
   "cell_type": "markdown",
   "id": "4fbc399b",
   "metadata": {},
   "source": [
    "Данный этап направлен на поиск и удаление повторяющихся записей. Если в таблице один и тот же клиент или заказ встречается несколько раз с одинаковыми данными, это может исказить статистику и аналитические выводы, а также повлиять на работу модели машинного обучения, которая будет «думать», что повторяющаяся запись важнее других."
   ]
  },
  {
   "cell_type": "markdown",
   "id": "d9c02e77",
   "metadata": {},
   "source": [
    "**Явные дубликаты**"
   ]
  },
  {
   "cell_type": "markdown",
   "id": "3784c3f9",
   "metadata": {},
   "source": [
    "Была реализована функция `duplicates_search`, которая считает количество дубликатов в переданном датафрейме."
   ]
  },
  {
   "cell_type": "code",
   "execution_count": 15,
   "id": "461eff7d",
   "metadata": {},
   "outputs": [],
   "source": [
    "\"\"\"\n",
    "Функция duplicates_serch проверяет наличие дублирующихся строк в переданном DataFrame\n",
    "\"\"\"\n",
    "\n",
    "def duplicates_search(data):\n",
    "    duplicates = data.duplicated()\n",
    "    print(f\"Количество дубликатов: {duplicates.sum()}\")"
   ]
  },
  {
   "cell_type": "markdown",
   "id": "5dbae01d",
   "metadata": {},
   "source": [
    "Далее проведена проверка всех датасетов"
   ]
  },
  {
   "cell_type": "code",
   "execution_count": 16,
   "id": "8c732ad3",
   "metadata": {},
   "outputs": [
    {
     "name": "stdout",
     "output_type": "stream",
     "text": [
      "Датасет: data_contract\n",
      "Количество дубликатов: 0\n",
      "Датасет: data_personal\n",
      "Количество дубликатов: 0\n",
      "Датасет: data_internet\n",
      "Количество дубликатов: 0\n",
      "Датасет: data_phone\n",
      "Количество дубликатов: 0\n"
     ]
    }
   ],
   "source": [
    "datasets = {\n",
    "    \"data_contract\": data_contract,\n",
    "    \"data_personal\": data_personal,\n",
    "    \"data_internet\": data_internet,\n",
    "    \"data_phone\": data_phone\n",
    "}\n",
    "\n",
    "for name in datasets:\n",
    "    print(f\"Датасет: {name}\")\n",
    "    duplicates_search(datasets[name])"
   ]
  },
  {
   "cell_type": "markdown",
   "id": "cfcd6cd8",
   "metadata": {},
   "source": [
    "Во всех таблицах количество явных дубликатов — 0. Это означает, что полные повторы строк отсутствуют."
   ]
  },
  {
   "cell_type": "markdown",
   "id": "537387cd",
   "metadata": {},
   "source": [
    "**Неявные дубликаты**"
   ]
  },
  {
   "cell_type": "markdown",
   "id": "cb122001",
   "metadata": {},
   "source": [
    "Неявные дубликаты возникают, когда значения записаны одинаково по смыслу, но отличаются по форме (например, лишние пробелы, разные регистры букв и т.п.)."
   ]
  },
  {
   "cell_type": "code",
   "execution_count": 17,
   "id": "73c728ed",
   "metadata": {},
   "outputs": [
    {
     "name": "stdout",
     "output_type": "stream",
     "text": [
      "['Month-to-month' 'One year' 'Two year']\n",
      "['Yes' 'No']\n",
      "['Electronic check' 'Mailed check' 'Bank transfer (automatic)'\n",
      " 'Credit card (automatic)']\n",
      "####################################\n",
      "['Female' 'Male']\n",
      "['Yes' 'No']\n",
      "['No' 'Yes']\n",
      "####################################\n",
      "['DSL' 'Fiber optic']\n",
      "['No' 'Yes']\n",
      "['Yes' 'No']\n",
      "['No' 'Yes']\n",
      "['No' 'Yes']\n",
      "['No' 'Yes']\n",
      "['No' 'Yes']\n",
      "####################################\n",
      "['No' 'Yes']\n",
      "####################################\n"
     ]
    }
   ],
   "source": [
    "contract_cols = data_contract.select_dtypes(include=['object']).drop(columns='customerID')\n",
    "personal_cols = data_personal.select_dtypes(include=['object']).drop(columns='customerID')\n",
    "internet_cols = data_internet.select_dtypes(include=['object']).drop(columns='customerID')\n",
    "phone_cols = data_phone.select_dtypes(include=['object']).drop(columns='customerID')\n",
    "\n",
    "all_datas = [data_contract, data_personal, data_internet, data_phone]\n",
    "\n",
    "all_cols = [contract_cols, personal_cols, internet_cols, phone_cols]\n",
    "\n",
    "i=0\n",
    "\n",
    "for cols in all_cols:\n",
    "    for col in cols:\n",
    "        print(all_datas[i][col].unique())\n",
    "    i+=1   \n",
    "    print('####################################')"
   ]
  },
  {
   "cell_type": "markdown",
   "id": "95295a9b",
   "metadata": {},
   "source": [
    "Анализ показал, что в данных нет признаков неявных дубликатов — все значения представлены в едином формате, без вариаций регистра, пробелов и орфографических различий."
   ]
  },
  {
   "cell_type": "markdown",
   "id": "2150a1de",
   "metadata": {},
   "source": [
    "### Промежуточный вывод"
   ]
  },
  {
   "cell_type": "markdown",
   "id": "eaef7a46",
   "metadata": {},
   "source": [
    "На этапе предобработки данных были выполнены ключевые шаги, необходимые для подготовки информации к дальнейшему анализу и построению моделей машинного обучения:\n",
    "\n",
    " - Произведена корректировка типов данных — строки с датами и числовыми значениями были приведены к форматам `datetime` и `float`. Это позволило устранить потенциальные ошибки при расчетах и аналитике.\n",
    "\n",
    " - Обнаружены 11 строк с пропущенными значениями в поле `TotalCharges`, которые соответствуют клиентам, только что начавшим пользоваться услугами. \n",
    "\n",
    " - Проведена проверка на наличие дубликатов:\n",
    "\n",
    "   - Явные дубликаты отсутствуют во всех таблицах.\n",
    "\n",
    "   - Неявные дубликаты (различия в написании, регистре, пробелах и т.д.) также не выявлены."
   ]
  },
  {
   "cell_type": "markdown",
   "id": "a237da70",
   "metadata": {},
   "source": [
    "<a id=\"section3\"></a> \n",
    "## Объединение данных"
   ]
  },
  {
   "cell_type": "markdown",
   "id": "b5b6b5a8",
   "metadata": {},
   "source": [
    "После предварительной очистки и приведения данных к нужному формату переходим на этап объединения таблиц в единую структуру. Это необходимо для создания целостной выборки, содержащей все признаки по каждому клиенту."
   ]
  },
  {
   "cell_type": "markdown",
   "id": "65951ae8",
   "metadata": {},
   "source": [
    "### Структура данных"
   ]
  },
  {
   "cell_type": "markdown",
   "id": "303864fb",
   "metadata": {},
   "source": [
    "Имеются четыре исходных таблицы:\n",
    "\n",
    " - `data_contract` — содержит информацию о договоре: дата начала и окончания, тип контракта, способ оплаты, ежемесячные и суммарные платежи.\n",
    "\n",
    " - `data_personal` — включает персональные характеристики клиентов: пол, возраст, наличие партнёра и детей.\n",
    "\n",
    " - `data_internet` — описывает подключённые интернет-услуги.\n",
    "\n",
    " - `data_phone` — содержит информацию об использовании телефонии.\n",
    "\n",
    "Каждая таблица имеет идентификатор клиента — customerID, по которому будет выполнено объединение."
   ]
  },
  {
   "cell_type": "markdown",
   "id": "801ddc41",
   "metadata": {},
   "source": [
    "### Объединение"
   ]
  },
  {
   "cell_type": "markdown",
   "id": "55291a1a",
   "metadata": {},
   "source": [
    "Объединение выполнено с помощью метода `merge()`, по ключу customerID.\n",
    "\n",
    "Для объединения таблиц использованы типы соединений **inner** и **left**, поскольку они обеспечивают корректное формирование итогового датафрейма. Сначала применён **inner join** между таблицами `data_contract` и `data_personal`, чтобы сохранить только тех клиентов, у которых есть как договор, так и персональные данные — без них анализ невозможен. Далее используется **left join** при объединении с таблицами `data_internet` и `data_phone`, так как не все клиенты подключают эти услуги. **left** позволяет сохранить всех клиентов из основной таблицы договоров и корректно отразить отсутствие услуг с помощью пропусков, которые в дальнейшем будут обработаны."
   ]
  },
  {
   "cell_type": "code",
   "execution_count": 18,
   "id": "60b4e085",
   "metadata": {},
   "outputs": [],
   "source": [
    "data_merged = data_contract.merge(data_personal, on='customerID', how='inner')\n",
    "\n",
    "data_merged = data_merged.merge(data_internet, on='customerID', how='left')\n",
    "data_full = data_merged.merge(data_phone, on='customerID', how='left')"
   ]
  },
  {
   "cell_type": "markdown",
   "id": "15b6f81d",
   "metadata": {},
   "source": [
    "После объединения образуются пропуски `NaN` в столбцах, относящихся к интернет- и телефонным услугам. Это естественно, поскольку некоторые клиенты могли не подключать определённые виды услуг.\n",
    "\n",
    "Чтобы корректно интерпретировать такие случаи, пропущенные значения заменяются на `No` — это означает, что услуга не была подключена"
   ]
  },
  {
   "cell_type": "code",
   "execution_count": 19,
   "id": "caa8add4",
   "metadata": {},
   "outputs": [],
   "source": [
    "columns_with_services = data_internet.columns.drop('customerID').tolist() + \\\n",
    "                        data_phone.columns.drop('customerID').tolist()\n",
    "\n",
    "#data_full[columns_with_services] = data_full[columns_with_services].fillna('No')\n",
    "\n",
    "data_full[columns_with_services] = data_full[columns_with_services].fillna('NoService')"
   ]
  },
  {
   "cell_type": "markdown",
   "id": "eb66e629",
   "metadata": {},
   "source": [
    "**Обработка поля `SeniorCitizen`**"
   ]
  },
  {
   "cell_type": "code",
   "execution_count": 20,
   "id": "3df8f188",
   "metadata": {},
   "outputs": [],
   "source": [
    "data_full['SeniorCitizen'] = data_full['SeniorCitizen'].astype('object')"
   ]
  },
  {
   "cell_type": "markdown",
   "id": "7fb748c2",
   "metadata": {},
   "source": [
    "### Проверка результата"
   ]
  },
  {
   "cell_type": "code",
   "execution_count": 21,
   "id": "d2e27212",
   "metadata": {},
   "outputs": [
    {
     "name": "stdout",
     "output_type": "stream",
     "text": [
      "(7043, 20)\n",
      "customerID                  object\n",
      "BeginDate           datetime64[ns]\n",
      "EndDate             datetime64[ns]\n",
      "Type                        object\n",
      "PaperlessBilling            object\n",
      "PaymentMethod               object\n",
      "MonthlyCharges             float64\n",
      "TotalCharges               float64\n",
      "gender                      object\n",
      "SeniorCitizen               object\n",
      "Partner                     object\n",
      "Dependents                  object\n",
      "InternetService             object\n",
      "OnlineSecurity              object\n",
      "OnlineBackup                object\n",
      "DeviceProtection            object\n",
      "TechSupport                 object\n",
      "StreamingTV                 object\n",
      "StreamingMovies             object\n",
      "MultipleLines               object\n",
      "dtype: object\n"
     ]
    },
    {
     "data": {
      "text/html": [
       "<div>\n",
       "<style scoped>\n",
       "    .dataframe tbody tr th:only-of-type {\n",
       "        vertical-align: middle;\n",
       "    }\n",
       "\n",
       "    .dataframe tbody tr th {\n",
       "        vertical-align: top;\n",
       "    }\n",
       "\n",
       "    .dataframe thead th {\n",
       "        text-align: right;\n",
       "    }\n",
       "</style>\n",
       "<table border=\"1\" class=\"dataframe\">\n",
       "  <thead>\n",
       "    <tr style=\"text-align: right;\">\n",
       "      <th></th>\n",
       "      <th>customerID</th>\n",
       "      <th>BeginDate</th>\n",
       "      <th>EndDate</th>\n",
       "      <th>Type</th>\n",
       "      <th>PaperlessBilling</th>\n",
       "      <th>PaymentMethod</th>\n",
       "      <th>MonthlyCharges</th>\n",
       "      <th>TotalCharges</th>\n",
       "      <th>gender</th>\n",
       "      <th>SeniorCitizen</th>\n",
       "      <th>Partner</th>\n",
       "      <th>Dependents</th>\n",
       "      <th>InternetService</th>\n",
       "      <th>OnlineSecurity</th>\n",
       "      <th>OnlineBackup</th>\n",
       "      <th>DeviceProtection</th>\n",
       "      <th>TechSupport</th>\n",
       "      <th>StreamingTV</th>\n",
       "      <th>StreamingMovies</th>\n",
       "      <th>MultipleLines</th>\n",
       "    </tr>\n",
       "  </thead>\n",
       "  <tbody>\n",
       "    <tr>\n",
       "      <th>0</th>\n",
       "      <td>7590-VHVEG</td>\n",
       "      <td>2020-01-01</td>\n",
       "      <td>NaT</td>\n",
       "      <td>Month-to-month</td>\n",
       "      <td>Yes</td>\n",
       "      <td>Electronic check</td>\n",
       "      <td>29.85</td>\n",
       "      <td>31.04</td>\n",
       "      <td>Female</td>\n",
       "      <td>0</td>\n",
       "      <td>Yes</td>\n",
       "      <td>No</td>\n",
       "      <td>DSL</td>\n",
       "      <td>No</td>\n",
       "      <td>Yes</td>\n",
       "      <td>No</td>\n",
       "      <td>No</td>\n",
       "      <td>No</td>\n",
       "      <td>No</td>\n",
       "      <td>NoService</td>\n",
       "    </tr>\n",
       "    <tr>\n",
       "      <th>1</th>\n",
       "      <td>5575-GNVDE</td>\n",
       "      <td>2017-04-01</td>\n",
       "      <td>NaT</td>\n",
       "      <td>One year</td>\n",
       "      <td>No</td>\n",
       "      <td>Mailed check</td>\n",
       "      <td>56.95</td>\n",
       "      <td>2071.84</td>\n",
       "      <td>Male</td>\n",
       "      <td>0</td>\n",
       "      <td>No</td>\n",
       "      <td>No</td>\n",
       "      <td>DSL</td>\n",
       "      <td>Yes</td>\n",
       "      <td>No</td>\n",
       "      <td>Yes</td>\n",
       "      <td>No</td>\n",
       "      <td>No</td>\n",
       "      <td>No</td>\n",
       "      <td>No</td>\n",
       "    </tr>\n",
       "    <tr>\n",
       "      <th>2</th>\n",
       "      <td>3668-QPYBK</td>\n",
       "      <td>2019-10-01</td>\n",
       "      <td>NaT</td>\n",
       "      <td>Month-to-month</td>\n",
       "      <td>Yes</td>\n",
       "      <td>Mailed check</td>\n",
       "      <td>53.85</td>\n",
       "      <td>226.17</td>\n",
       "      <td>Male</td>\n",
       "      <td>0</td>\n",
       "      <td>No</td>\n",
       "      <td>No</td>\n",
       "      <td>DSL</td>\n",
       "      <td>Yes</td>\n",
       "      <td>Yes</td>\n",
       "      <td>No</td>\n",
       "      <td>No</td>\n",
       "      <td>No</td>\n",
       "      <td>No</td>\n",
       "      <td>No</td>\n",
       "    </tr>\n",
       "    <tr>\n",
       "      <th>3</th>\n",
       "      <td>7795-CFOCW</td>\n",
       "      <td>2016-05-01</td>\n",
       "      <td>NaT</td>\n",
       "      <td>One year</td>\n",
       "      <td>No</td>\n",
       "      <td>Bank transfer (automatic)</td>\n",
       "      <td>42.30</td>\n",
       "      <td>1960.60</td>\n",
       "      <td>Male</td>\n",
       "      <td>0</td>\n",
       "      <td>No</td>\n",
       "      <td>No</td>\n",
       "      <td>DSL</td>\n",
       "      <td>Yes</td>\n",
       "      <td>No</td>\n",
       "      <td>Yes</td>\n",
       "      <td>Yes</td>\n",
       "      <td>No</td>\n",
       "      <td>No</td>\n",
       "      <td>NoService</td>\n",
       "    </tr>\n",
       "    <tr>\n",
       "      <th>4</th>\n",
       "      <td>9237-HQITU</td>\n",
       "      <td>2019-09-01</td>\n",
       "      <td>NaT</td>\n",
       "      <td>Month-to-month</td>\n",
       "      <td>Yes</td>\n",
       "      <td>Electronic check</td>\n",
       "      <td>70.70</td>\n",
       "      <td>353.50</td>\n",
       "      <td>Female</td>\n",
       "      <td>0</td>\n",
       "      <td>No</td>\n",
       "      <td>No</td>\n",
       "      <td>Fiber optic</td>\n",
       "      <td>No</td>\n",
       "      <td>No</td>\n",
       "      <td>No</td>\n",
       "      <td>No</td>\n",
       "      <td>No</td>\n",
       "      <td>No</td>\n",
       "      <td>No</td>\n",
       "    </tr>\n",
       "    <tr>\n",
       "      <th>5</th>\n",
       "      <td>9305-CDSKC</td>\n",
       "      <td>2019-03-01</td>\n",
       "      <td>NaT</td>\n",
       "      <td>Month-to-month</td>\n",
       "      <td>Yes</td>\n",
       "      <td>Electronic check</td>\n",
       "      <td>99.65</td>\n",
       "      <td>1150.96</td>\n",
       "      <td>Female</td>\n",
       "      <td>0</td>\n",
       "      <td>No</td>\n",
       "      <td>No</td>\n",
       "      <td>Fiber optic</td>\n",
       "      <td>No</td>\n",
       "      <td>No</td>\n",
       "      <td>Yes</td>\n",
       "      <td>No</td>\n",
       "      <td>Yes</td>\n",
       "      <td>Yes</td>\n",
       "      <td>Yes</td>\n",
       "    </tr>\n",
       "    <tr>\n",
       "      <th>6</th>\n",
       "      <td>1452-KIOVK</td>\n",
       "      <td>2018-04-01</td>\n",
       "      <td>NaT</td>\n",
       "      <td>Month-to-month</td>\n",
       "      <td>Yes</td>\n",
       "      <td>Credit card (automatic)</td>\n",
       "      <td>89.10</td>\n",
       "      <td>2058.21</td>\n",
       "      <td>Male</td>\n",
       "      <td>0</td>\n",
       "      <td>No</td>\n",
       "      <td>Yes</td>\n",
       "      <td>Fiber optic</td>\n",
       "      <td>No</td>\n",
       "      <td>Yes</td>\n",
       "      <td>No</td>\n",
       "      <td>No</td>\n",
       "      <td>Yes</td>\n",
       "      <td>No</td>\n",
       "      <td>Yes</td>\n",
       "    </tr>\n",
       "    <tr>\n",
       "      <th>7</th>\n",
       "      <td>6713-OKOMC</td>\n",
       "      <td>2019-04-01</td>\n",
       "      <td>NaT</td>\n",
       "      <td>Month-to-month</td>\n",
       "      <td>No</td>\n",
       "      <td>Mailed check</td>\n",
       "      <td>29.75</td>\n",
       "      <td>300.48</td>\n",
       "      <td>Female</td>\n",
       "      <td>0</td>\n",
       "      <td>No</td>\n",
       "      <td>No</td>\n",
       "      <td>DSL</td>\n",
       "      <td>Yes</td>\n",
       "      <td>No</td>\n",
       "      <td>No</td>\n",
       "      <td>No</td>\n",
       "      <td>No</td>\n",
       "      <td>No</td>\n",
       "      <td>NoService</td>\n",
       "    </tr>\n",
       "    <tr>\n",
       "      <th>8</th>\n",
       "      <td>7892-POOKP</td>\n",
       "      <td>2017-07-01</td>\n",
       "      <td>NaT</td>\n",
       "      <td>Month-to-month</td>\n",
       "      <td>Yes</td>\n",
       "      <td>Electronic check</td>\n",
       "      <td>104.80</td>\n",
       "      <td>3573.68</td>\n",
       "      <td>Female</td>\n",
       "      <td>0</td>\n",
       "      <td>Yes</td>\n",
       "      <td>No</td>\n",
       "      <td>Fiber optic</td>\n",
       "      <td>No</td>\n",
       "      <td>No</td>\n",
       "      <td>Yes</td>\n",
       "      <td>Yes</td>\n",
       "      <td>Yes</td>\n",
       "      <td>Yes</td>\n",
       "      <td>Yes</td>\n",
       "    </tr>\n",
       "    <tr>\n",
       "      <th>9</th>\n",
       "      <td>6388-TABGU</td>\n",
       "      <td>2014-12-01</td>\n",
       "      <td>2017-05-01</td>\n",
       "      <td>One year</td>\n",
       "      <td>No</td>\n",
       "      <td>Bank transfer (automatic)</td>\n",
       "      <td>56.15</td>\n",
       "      <td>1628.35</td>\n",
       "      <td>Male</td>\n",
       "      <td>0</td>\n",
       "      <td>No</td>\n",
       "      <td>Yes</td>\n",
       "      <td>DSL</td>\n",
       "      <td>Yes</td>\n",
       "      <td>Yes</td>\n",
       "      <td>No</td>\n",
       "      <td>No</td>\n",
       "      <td>No</td>\n",
       "      <td>No</td>\n",
       "      <td>No</td>\n",
       "    </tr>\n",
       "  </tbody>\n",
       "</table>\n",
       "</div>"
      ],
      "text/plain": [
       "   customerID  BeginDate    EndDate            Type PaperlessBilling  \\\n",
       "0  7590-VHVEG 2020-01-01        NaT  Month-to-month              Yes   \n",
       "1  5575-GNVDE 2017-04-01        NaT        One year               No   \n",
       "2  3668-QPYBK 2019-10-01        NaT  Month-to-month              Yes   \n",
       "3  7795-CFOCW 2016-05-01        NaT        One year               No   \n",
       "4  9237-HQITU 2019-09-01        NaT  Month-to-month              Yes   \n",
       "5  9305-CDSKC 2019-03-01        NaT  Month-to-month              Yes   \n",
       "6  1452-KIOVK 2018-04-01        NaT  Month-to-month              Yes   \n",
       "7  6713-OKOMC 2019-04-01        NaT  Month-to-month               No   \n",
       "8  7892-POOKP 2017-07-01        NaT  Month-to-month              Yes   \n",
       "9  6388-TABGU 2014-12-01 2017-05-01        One year               No   \n",
       "\n",
       "               PaymentMethod  MonthlyCharges  TotalCharges  gender  \\\n",
       "0           Electronic check           29.85         31.04  Female   \n",
       "1               Mailed check           56.95       2071.84    Male   \n",
       "2               Mailed check           53.85        226.17    Male   \n",
       "3  Bank transfer (automatic)           42.30       1960.60    Male   \n",
       "4           Electronic check           70.70        353.50  Female   \n",
       "5           Electronic check           99.65       1150.96  Female   \n",
       "6    Credit card (automatic)           89.10       2058.21    Male   \n",
       "7               Mailed check           29.75        300.48  Female   \n",
       "8           Electronic check          104.80       3573.68  Female   \n",
       "9  Bank transfer (automatic)           56.15       1628.35    Male   \n",
       "\n",
       "  SeniorCitizen Partner Dependents InternetService OnlineSecurity  \\\n",
       "0             0     Yes         No             DSL             No   \n",
       "1             0      No         No             DSL            Yes   \n",
       "2             0      No         No             DSL            Yes   \n",
       "3             0      No         No             DSL            Yes   \n",
       "4             0      No         No     Fiber optic             No   \n",
       "5             0      No         No     Fiber optic             No   \n",
       "6             0      No        Yes     Fiber optic             No   \n",
       "7             0      No         No             DSL            Yes   \n",
       "8             0     Yes         No     Fiber optic             No   \n",
       "9             0      No        Yes             DSL            Yes   \n",
       "\n",
       "  OnlineBackup DeviceProtection TechSupport StreamingTV StreamingMovies  \\\n",
       "0          Yes               No          No          No              No   \n",
       "1           No              Yes          No          No              No   \n",
       "2          Yes               No          No          No              No   \n",
       "3           No              Yes         Yes          No              No   \n",
       "4           No               No          No          No              No   \n",
       "5           No              Yes          No         Yes             Yes   \n",
       "6          Yes               No          No         Yes              No   \n",
       "7           No               No          No          No              No   \n",
       "8           No              Yes         Yes         Yes             Yes   \n",
       "9          Yes               No          No          No              No   \n",
       "\n",
       "  MultipleLines  \n",
       "0     NoService  \n",
       "1            No  \n",
       "2            No  \n",
       "3     NoService  \n",
       "4            No  \n",
       "5           Yes  \n",
       "6           Yes  \n",
       "7     NoService  \n",
       "8           Yes  \n",
       "9            No  "
      ]
     },
     "metadata": {},
     "output_type": "display_data"
    }
   ],
   "source": [
    "print(data_full.shape)\n",
    "print(data_full.dtypes)\n",
    "display(data_full.head(10))"
   ]
  },
  {
   "cell_type": "markdown",
   "id": "04e09e19",
   "metadata": {},
   "source": [
    "### Промежуточный вывод"
   ]
  },
  {
   "cell_type": "markdown",
   "id": "03a0c9e3",
   "metadata": {},
   "source": [
    "На этапе объединения данных были соединены четыре таблицы с информацией о клиентах компании: договоры, персональные данные, интернет-услуги и телефония. В качестве ключа использовался идентификатор клиента `customerID`. Для объединения выбраны способы объединения **inner** и **left**. Итоговая таблица включает полную информацию по каждому клиенту и состоит из 22  признаков, готовых для дальнейшего анализа. \n",
    "\n",
    "После объединения таблиц в итоговом датасете наблюдались пропуски (NaN) в столбцах, связанных с интернет- и телефонными услугами. Однако эти пропуски не означают отсутствия дополнительных опций, а свидетельствуют об отсутствии самой услуги у клиента. Заменены на значения `NoService`"
   ]
  },
  {
   "cell_type": "markdown",
   "id": "ee6c81dd",
   "metadata": {},
   "source": [
    "<a id=\"section4\"></a> \n",
    "## Исследовательский анализ и предобработка данных объединённого датафрейма"
   ]
  },
  {
   "cell_type": "markdown",
   "id": "39788dbb",
   "metadata": {},
   "source": [
    "### Проверка пропущенных значений"
   ]
  },
  {
   "cell_type": "markdown",
   "id": "358fb0dc",
   "metadata": {},
   "source": [
    "Данный этап был выполнен на каждом из исходных датасетов до объединения, однако после объединения необходимо повторно проверить наличие пропусков в итоговом датафрейме. Это особенно важно, так как при объединении с помощью **left join** (для данных по интернету и телефонии) могли появиться значения `NaN` у клиентов, не подключивших соответствующие услуги."
   ]
  },
  {
   "cell_type": "code",
   "execution_count": 22,
   "id": "ddb16fa9",
   "metadata": {},
   "outputs": [
    {
     "data": {
      "text/plain": [
       "customerID             0\n",
       "BeginDate              0\n",
       "EndDate             5942\n",
       "Type                   0\n",
       "PaperlessBilling       0\n",
       "PaymentMethod          0\n",
       "MonthlyCharges         0\n",
       "TotalCharges           0\n",
       "gender                 0\n",
       "SeniorCitizen          0\n",
       "Partner                0\n",
       "Dependents             0\n",
       "InternetService        0\n",
       "OnlineSecurity         0\n",
       "OnlineBackup           0\n",
       "DeviceProtection       0\n",
       "TechSupport            0\n",
       "StreamingTV            0\n",
       "StreamingMovies        0\n",
       "MultipleLines          0\n",
       "dtype: int64"
      ]
     },
     "execution_count": 22,
     "metadata": {},
     "output_type": "execute_result"
    }
   ],
   "source": [
    "data_full.isna().sum()"
   ]
  },
  {
   "cell_type": "markdown",
   "id": "d8e1cc6f",
   "metadata": {},
   "source": [
    "Основные поля не содержат пропусков, за исключением одного — `EndDate`, где обнаружено 5942 пропущенных значения. Это ожидаемо, так как отсутствие даты окончания означает, что договор ещё активен и клиент продолжает пользоваться услугами. Такие значения не требуют удаления или замены и интерпретируются как текущие клиенты."
   ]
  },
  {
   "cell_type": "markdown",
   "id": "f5dcae57",
   "metadata": {},
   "source": [
    "### Проверка на дубликаты"
   ]
  },
  {
   "cell_type": "markdown",
   "id": "b4bb8057",
   "metadata": {},
   "source": [
    "На этом этапе необходимо убедиться, что в объединённом датафрейме нет дублирующихся записей по идентификатору клиента **customerID**, поскольку каждый клиент должен быть представлен ровно один раз."
   ]
  },
  {
   "cell_type": "code",
   "execution_count": 23,
   "id": "34f2559d",
   "metadata": {},
   "outputs": [
    {
     "data": {
      "text/plain": [
       "0"
      ]
     },
     "execution_count": 23,
     "metadata": {},
     "output_type": "execute_result"
    }
   ],
   "source": [
    "data_full.duplicated(subset='customerID').sum()"
   ]
  },
  {
   "cell_type": "markdown",
   "id": "75b1d02c",
   "metadata": {},
   "source": [
    "Дубликаты в данных отсутствуют, можно переходить к дальнейшему анализу."
   ]
  },
  {
   "cell_type": "markdown",
   "id": "8b3500f0",
   "metadata": {},
   "source": [
    "### Анализ распределений признаков"
   ]
  },
  {
   "cell_type": "markdown",
   "id": "103ae868",
   "metadata": {},
   "source": [
    "На этом этапе проводится изучение распределения признаков, чтобы понять структуру данных, выявить выбросы, дисбаланс классов.\n",
    "\n",
    "Для проведения исследовательского анализа данных реализованы вспомогательные функции, позволяющие автоматизировать ключевые этапы обработки признаков."
   ]
  },
  {
   "cell_type": "markdown",
   "id": "04dd418e",
   "metadata": {},
   "source": [
    "**Основные метрики**\n",
    "\n",
    "Функция `describe_data` позволяет вывести основные статистические характеристики числовых признаков: среднее, стандартное отклонение, минимум, максимум, квартильные значения и др."
   ]
  },
  {
   "cell_type": "code",
   "execution_count": 24,
   "id": "f3ce9679",
   "metadata": {},
   "outputs": [],
   "source": [
    "def describe_data(df):\n",
    "    display(df.describe())"
   ]
  },
  {
   "cell_type": "markdown",
   "id": "a8b4c20d",
   "metadata": {},
   "source": [
    "**Анализ количественных признаков**\n",
    "\n",
    "Функция `plot_distributions` строит два типа графиков для каждого количественного признака:\n",
    "\n",
    " - Гистограмма с KDE (оценка плотности) — для визуального анализа распределения значений.\n",
    "\n",
    " - Боксплот (boxplot) — для выявления выбросов и оценки медианы, межквартильного размаха и других параметров."
   ]
  },
  {
   "cell_type": "code",
   "execution_count": 25,
   "id": "9cd07db7",
   "metadata": {},
   "outputs": [],
   "source": [
    "def plot_distributions(df, numeric_columns):\n",
    "    for col in numeric_columns:\n",
    "        fig, axes = plt.subplots(1, 2, figsize=(12, 4))\n",
    "        sns.histplot(df[col], kde=True, ax=axes[0])\n",
    "        axes[0].set_title(f'Распределение {col}')\n",
    "        sns.boxplot(x=df[col], ax=axes[1])\n",
    "        axes[1].set_title(f'Боксплот {col}')\n",
    "        plt.show()"
   ]
  },
  {
   "cell_type": "markdown",
   "id": "f8ac8b55",
   "metadata": {},
   "source": [
    "**Анализ качественных признаков**\n",
    "\n",
    "Функция `plot_categorical_distribution` строит горизонтальные столбчатые диаграммы для каждого категориального признака, отображая частоты встречаемости каждого значения. Это позволяет выявить доминирующие категории, дисбаланс классов и особенности распределения."
   ]
  },
  {
   "cell_type": "code",
   "execution_count": 26,
   "id": "4fa2a484",
   "metadata": {},
   "outputs": [],
   "source": [
    "def plot_categorical_distribution(df, categorical_columns):\n",
    "    for col in categorical_columns:\n",
    "        plt.figure(figsize=(8, 4))\n",
    "        sns.countplot(y=df[col], order=df[col].value_counts().index)\n",
    "        plt.title(f'Распределение {col}')\n",
    "        plt.show()"
   ]
  },
  {
   "cell_type": "markdown",
   "id": "3c89a1f2",
   "metadata": {},
   "source": [
    "**Выявление выбросов**\n",
    "\n",
    "Функция `check_outliers_iqr` реализует метод выявления выбросов на основе межквартильного размаха (IQR). Для каждого числового признака рассчитываются границы \"нормального\" диапазона, и считается количество выбросов, выходящих за эти пределы. Это позволяет определить потенциальные аномалии, которые могут повлиять на обучение модели."
   ]
  },
  {
   "cell_type": "code",
   "execution_count": 27,
   "id": "0624873e",
   "metadata": {},
   "outputs": [],
   "source": [
    "def check_outliers_iqr(df, numeric_columns):\n",
    "    outliers = {}\n",
    "    for col in numeric_columns:\n",
    "        Q1 = df[col].quantile(0.25)\n",
    "        Q3 = df[col].quantile(0.75)\n",
    "        IQR = Q3 - Q1\n",
    "        lower_bound = Q1 - 1.5 * IQR\n",
    "        upper_bound = Q3 + 1.5 * IQR\n",
    "        outliers_count = ((df[col] < lower_bound) | (df[col] > upper_bound)).sum()\n",
    "        outliers[col] = outliers_count\n",
    "    print(\"Количество выбросов по признакам:\")\n",
    "    print(outliers)"
   ]
  },
  {
   "cell_type": "markdown",
   "id": "f0835f92",
   "metadata": {},
   "source": [
    "Применение функций к итоговому датафрейму"
   ]
  },
  {
   "cell_type": "code",
   "execution_count": 28,
   "id": "6e014237",
   "metadata": {},
   "outputs": [
    {
     "data": {
      "text/html": [
       "<div>\n",
       "<style scoped>\n",
       "    .dataframe tbody tr th:only-of-type {\n",
       "        vertical-align: middle;\n",
       "    }\n",
       "\n",
       "    .dataframe tbody tr th {\n",
       "        vertical-align: top;\n",
       "    }\n",
       "\n",
       "    .dataframe thead th {\n",
       "        text-align: right;\n",
       "    }\n",
       "</style>\n",
       "<table border=\"1\" class=\"dataframe\">\n",
       "  <thead>\n",
       "    <tr style=\"text-align: right;\">\n",
       "      <th></th>\n",
       "      <th>MonthlyCharges</th>\n",
       "      <th>TotalCharges</th>\n",
       "    </tr>\n",
       "  </thead>\n",
       "  <tbody>\n",
       "    <tr>\n",
       "      <th>count</th>\n",
       "      <td>7043.000000</td>\n",
       "      <td>7043.000000</td>\n",
       "    </tr>\n",
       "    <tr>\n",
       "      <th>mean</th>\n",
       "      <td>64.761692</td>\n",
       "      <td>2115.312885</td>\n",
       "    </tr>\n",
       "    <tr>\n",
       "      <th>std</th>\n",
       "      <td>30.090047</td>\n",
       "      <td>2112.742814</td>\n",
       "    </tr>\n",
       "    <tr>\n",
       "      <th>min</th>\n",
       "      <td>18.250000</td>\n",
       "      <td>0.000000</td>\n",
       "    </tr>\n",
       "    <tr>\n",
       "      <th>25%</th>\n",
       "      <td>35.500000</td>\n",
       "      <td>436.750000</td>\n",
       "    </tr>\n",
       "    <tr>\n",
       "      <th>50%</th>\n",
       "      <td>70.350000</td>\n",
       "      <td>1343.350000</td>\n",
       "    </tr>\n",
       "    <tr>\n",
       "      <th>75%</th>\n",
       "      <td>89.850000</td>\n",
       "      <td>3236.690000</td>\n",
       "    </tr>\n",
       "    <tr>\n",
       "      <th>max</th>\n",
       "      <td>118.750000</td>\n",
       "      <td>9221.380000</td>\n",
       "    </tr>\n",
       "  </tbody>\n",
       "</table>\n",
       "</div>"
      ],
      "text/plain": [
       "       MonthlyCharges  TotalCharges\n",
       "count     7043.000000   7043.000000\n",
       "mean        64.761692   2115.312885\n",
       "std         30.090047   2112.742814\n",
       "min         18.250000      0.000000\n",
       "25%         35.500000    436.750000\n",
       "50%         70.350000   1343.350000\n",
       "75%         89.850000   3236.690000\n",
       "max        118.750000   9221.380000"
      ]
     },
     "metadata": {},
     "output_type": "display_data"
    },
    {
     "data": {
      "image/png": "[encoded data removed]",
      "text/plain": [
       "<Figure size 864x288 with 2 Axes>"
      ]
     },
     "metadata": {
      "needs_background": "light"
     },
     "output_type": "display_data"
    },
    {
     "data": {
      "image/png": "[encoded data removed]",
      "text/plain": [
       "<Figure size 864x288 with 2 Axes>"
      ]
     },
     "metadata": {
      "needs_background": "light"
     },
     "output_type": "display_data"
    },
    {
     "data": {
      "image/png": "[encoded data removed]",
      "text/plain": [
       "<Figure size 576x288 with 1 Axes>"
      ]
     },
     "metadata": {
      "needs_background": "light"
     },
     "output_type": "display_data"
    },
    {
     "data": {
      "image/png": "[encoded data removed]",
      "text/plain": [
       "<Figure size 576x288 with 1 Axes>"
      ]
     },
     "metadata": {
      "needs_background": "light"
     },
     "output_type": "display_data"
    },
    {
     "data": {
      "image/png": "[encoded data removed]",
      "text/plain": [
       "<Figure size 576x288 with 1 Axes>"
      ]
     },
     "metadata": {
      "needs_background": "light"
     },
     "output_type": "display_data"
    },
    {
     "data": {
      "image/png": "[encoded data removed]",
      "text/plain": [
       "<Figure size 576x288 with 1 Axes>"
      ]
     },
     "metadata": {
      "needs_background": "light"
     },
     "output_type": "display_data"
    },
    {
     "data": {
      "image/png": "[encoded data removed]",
      "text/plain": [
       "<Figure size 576x288 with 1 Axes>"
      ]
     },
     "metadata": {
      "needs_background": "light"
     },
     "output_type": "display_data"
    },
    {
     "data": {
      "image/png": "[encoded data removed]",
      "text/plain": [
       "<Figure size 576x288 with 1 Axes>"
      ]
     },
     "metadata": {
      "needs_background": "light"
     },
     "output_type": "display_data"
    },
    {
     "data": {
      "image/png": "[encoded data removed]",
      "text/plain": [
       "<Figure size 576x288 with 1 Axes>"
      ]
     },
     "metadata": {
      "needs_background": "light"
     },
     "output_type": "display_data"
    },
    {
     "data": {
      "image/png": "[encoded data removed]",
      "text/plain": [
       "<Figure size 576x288 with 1 Axes>"
      ]
     },
     "metadata": {
      "needs_background": "light"
     },
     "output_type": "display_data"
    },
    {
     "data": {
      "image/png": "[encoded data removed]",
      "text/plain": [
       "<Figure size 576x288 with 1 Axes>"
      ]
     },
     "metadata": {
      "needs_background": "light"
     },
     "output_type": "display_data"
    },
    {
     "data": {
      "image/png": "[encoded data removed]",
      "text/plain": [
       "<Figure size 576x288 with 1 Axes>"
      ]
     },
     "metadata": {
      "needs_background": "light"
     },
     "output_type": "display_data"
    },
    {
     "data": {
      "image/png": "[encoded data removed]",
      "text/plain": [
       "<Figure size 576x288 with 1 Axes>"
      ]
     },
     "metadata": {
      "needs_background": "light"
     },
     "output_type": "display_data"
    },
    {
     "data": {
      "image/png": "[encoded data removed]",
      "text/plain": [
       "<Figure size 576x288 with 1 Axes>"
      ]
     },
     "metadata": {
      "needs_background": "light"
     },
     "output_type": "display_data"
    },
    {
     "data": {
      "image/png": "[encoded data removed]",
      "text/plain": [
       "<Figure size 576x288 with 1 Axes>"
      ]
     },
     "metadata": {
      "needs_background": "light"
     },
     "output_type": "display_data"
    },
    {
     "data": {
      "image/png": "[encoded data removed]",
      "text/plain": [
       "<Figure size 576x288 with 1 Axes>"
      ]
     },
     "metadata": {
      "needs_background": "light"
     },
     "output_type": "display_data"
    },
    {
     "data": {
      "image/png": "[encoded data removed]",
      "text/plain": [
       "<Figure size 576x288 with 1 Axes>"
      ]
     },
     "metadata": {
      "needs_background": "light"
     },
     "output_type": "display_data"
    },
    {
     "name": "stdout",
     "output_type": "stream",
     "text": [
      "Количество выбросов по признакам:\n",
      "{'MonthlyCharges': 0, 'TotalCharges': 195}\n"
     ]
    }
   ],
   "source": [
    "data_full_cat_cols = data_full.select_dtypes(include='object').drop(columns='customerID').columns.tolist()\n",
    "data_full_num_cols = data_full.select_dtypes(include='number').columns.tolist()\n",
    "\n",
    "describe_data(data_full[data_full_num_cols])\n",
    "plot_distributions(data_full, data_full_num_cols)\n",
    "plot_categorical_distribution(data_full, data_full_cat_cols)\n",
    "check_outliers_iqr(data_full, data_full_num_cols)"
   ]
  },
  {
   "cell_type": "markdown",
   "id": "edd194fc",
   "metadata": {},
   "source": [
    "**Описание и анализ признаков**\n",
    "\n",
    " - `MonthlyCharges` и `TotalCharges`: Оба признака имеют правостороннее распределение с концентрацией значений в нижних диапазонах (20–30 для MonthlyCharges, 0–5000 для TotalCharges) и редкими выбросами. Учитывая объединение данных (телефония без интернета или наоборот), это объясняет разнообразие в начислениях.\n",
    " \n",
    " - `ContractType`: Преобладает контракт \"Month-to-month\" (3500+ пользователей), указывая на предпочтение краткосрочных обязательств. \"Two year\" и \"One year\" (~1500) менее популярны, что отражает неготовность к долгосрочным связям.\n",
    " \n",
    " - `PaperlessBilling`: Безбумажный биллинг (\"Yes\", 4000+) опережает традиционный (\"No\", <3000), сигнализируя о переходе к цифровым методам.\n",
    " \n",
    " - `PaymentMethod`: Электронный чек (2000–2500) лидирует, за ним следуют \"Mailed check\", \"Bank transfer (automatic)\" и \"Credit card (automatic)\" (~1500) наименее популярен, возможно, из-за недоверия.\n",
    " \n",
    " - `Gender`: Мужчины и женщины представлены равномерно (по 3500), что указывает на сбалансированность по полу.\n",
    " \n",
    " - `SeniorCitizen`: Не пенсионеры (\"No\", 5000–6000) доминируют над пенсионерами (\"Yes\", ~1000), отражая преимущественно молодую или активную аудиторию.\n",
    " \n",
    " - `Partner`: Равное распределение между наличием и отсутствием партнера ~3500 не влияет на выбор услуг.\n",
    " \n",
    " - `Dependents`: Большинство (5000) не имеют иждивенцев (\"No\"), в то время как с иждивенцами (\"Yes\", ~2000) меньше, указывая на индивидуальное использование.\n",
    " \n",
    " - `InternetService`: \"Fiber optic\" (3000) лидирует, \"DSL\" (2500) на втором месте, а \"No\" (1500) показывает значительную долю пользователей без интернета, что связано с объединением данных.\n",
    " \n",
    " - `OnlineSecurity`: Преобладает отказ от услуги (\"No\", 5000) над использованием (\"Yes\", 2000), что может говорить о низком интересе.\n",
    " \n",
    " - `OnlineBackup`: Большинство (4500) не используют бэкап (\"No\"), а пользователей с услугой (\"Yes\", 2500) меньше, указывая на низкую популярность.\n",
    " \n",
    " - `DeviceProtection`: Аналогично, большинство (4500) без защиты (\"No\"), а с защитой (\"Yes\", 2500) — меньшинство, что не является приоритетом.\n",
    " \n",
    " - `TechSupport`: Большинство (5000) не пользуются поддержкой (\"No\"), а пользователей с ней (\"Yes\", 2000) меньше, подтверждая низкий спрос на допуслуги.\n",
    " \n",
    " - `StreamingTV`: Преобладает отказ от стриминга ТВ (\"No\", 4000) над использованием (\"Yes\", ~2600), показывая умеренный интерес.\n",
    " \n",
    " - `StreamingMovies`: Аналогично, большинство (4000) не смотрит фильмы (\"No\"), а пользователей с услугой (\"Yes\", ~2600) меньше, что не делает это массовым выбором.\n",
    " \n",
    " - `MultipleLines`: Большинство (4000) без множественных линий (\"No\"), но значительная часть (2500) их использует (\"Yes\"), что указывает на ограниченную популярность.\n",
    "\n",
    "Данные отражают предпочтение краткосрочных контрактов и цифрового биллинга, с равномерным распределением по полу и партнерскому статусу. Преобладание не пенсионеров и пользователей без иждивенцев указывает на индивидуальное использование. Низкий спрос на дополнительные услуги (безопасность, бэкап, поддержка, стриминг) может быть связан с недостаточной осведомленностью или стоимостью. Объединение данных (телефония без интернета или наоборот) объясняет разнообразие в выборе интернет-услуг и начислениях."
   ]
  },
  {
   "cell_type": "markdown",
   "id": "8b3157ca",
   "metadata": {},
   "source": [
    "### Feature engineering"
   ]
  },
  {
   "cell_type": "markdown",
   "id": "f5939def",
   "metadata": {},
   "source": [
    "На данном этапе были созданы новые признаки, обогащающие исходные данные и способствующие повышению информативности модели."
   ]
  },
  {
   "cell_type": "markdown",
   "id": "15079eae",
   "metadata": {},
   "source": [
    "**Признак длительности договора (ContractDuration)**\n",
    "\n",
    "Для оценки продолжительности обслуживания клиента был сформирован числовой признак `ContractDuration`, рассчитанный как разница между датой окончания и начала договора. Поскольку информация о клиентах актуальна на 1 февраля 2020 года, для клиентов с активным договором (у которых `EndDate` отсутствует) было подставлено значение 2020-02-01. Это позволило корректно рассчитать длительность для всех клиентов."
   ]
  },
  {
   "cell_type": "code",
   "execution_count": 29,
   "id": "0ead2148",
   "metadata": {},
   "outputs": [
    {
     "data": {
      "text/html": [
       "<div>\n",
       "<style scoped>\n",
       "    .dataframe tbody tr th:only-of-type {\n",
       "        vertical-align: middle;\n",
       "    }\n",
       "\n",
       "    .dataframe tbody tr th {\n",
       "        vertical-align: top;\n",
       "    }\n",
       "\n",
       "    .dataframe thead th {\n",
       "        text-align: right;\n",
       "    }\n",
       "</style>\n",
       "<table border=\"1\" class=\"dataframe\">\n",
       "  <thead>\n",
       "    <tr style=\"text-align: right;\">\n",
       "      <th></th>\n",
       "      <th>BeginDate</th>\n",
       "      <th>EndDate_filled</th>\n",
       "      <th>ContractDuration</th>\n",
       "    </tr>\n",
       "  </thead>\n",
       "  <tbody>\n",
       "    <tr>\n",
       "      <th>0</th>\n",
       "      <td>2020-01-01</td>\n",
       "      <td>2020-02-01</td>\n",
       "      <td>31</td>\n",
       "    </tr>\n",
       "    <tr>\n",
       "      <th>1</th>\n",
       "      <td>2017-04-01</td>\n",
       "      <td>2020-02-01</td>\n",
       "      <td>1036</td>\n",
       "    </tr>\n",
       "    <tr>\n",
       "      <th>2</th>\n",
       "      <td>2019-10-01</td>\n",
       "      <td>2020-02-01</td>\n",
       "      <td>123</td>\n",
       "    </tr>\n",
       "    <tr>\n",
       "      <th>3</th>\n",
       "      <td>2016-05-01</td>\n",
       "      <td>2020-02-01</td>\n",
       "      <td>1371</td>\n",
       "    </tr>\n",
       "    <tr>\n",
       "      <th>4</th>\n",
       "      <td>2019-09-01</td>\n",
       "      <td>2020-02-01</td>\n",
       "      <td>153</td>\n",
       "    </tr>\n",
       "    <tr>\n",
       "      <th>...</th>\n",
       "      <td>...</td>\n",
       "      <td>...</td>\n",
       "      <td>...</td>\n",
       "    </tr>\n",
       "    <tr>\n",
       "      <th>7038</th>\n",
       "      <td>2018-02-01</td>\n",
       "      <td>2020-02-01</td>\n",
       "      <td>730</td>\n",
       "    </tr>\n",
       "    <tr>\n",
       "      <th>7039</th>\n",
       "      <td>2014-02-01</td>\n",
       "      <td>2020-02-01</td>\n",
       "      <td>2191</td>\n",
       "    </tr>\n",
       "    <tr>\n",
       "      <th>7040</th>\n",
       "      <td>2019-03-01</td>\n",
       "      <td>2020-02-01</td>\n",
       "      <td>337</td>\n",
       "    </tr>\n",
       "    <tr>\n",
       "      <th>7041</th>\n",
       "      <td>2019-07-01</td>\n",
       "      <td>2020-02-01</td>\n",
       "      <td>215</td>\n",
       "    </tr>\n",
       "    <tr>\n",
       "      <th>7042</th>\n",
       "      <td>2014-08-01</td>\n",
       "      <td>2020-02-01</td>\n",
       "      <td>2010</td>\n",
       "    </tr>\n",
       "  </tbody>\n",
       "</table>\n",
       "<p>7043 rows × 3 columns</p>\n",
       "</div>"
      ],
      "text/plain": [
       "      BeginDate EndDate_filled  ContractDuration\n",
       "0    2020-01-01     2020-02-01                31\n",
       "1    2017-04-01     2020-02-01              1036\n",
       "2    2019-10-01     2020-02-01               123\n",
       "3    2016-05-01     2020-02-01              1371\n",
       "4    2019-09-01     2020-02-01               153\n",
       "...         ...            ...               ...\n",
       "7038 2018-02-01     2020-02-01               730\n",
       "7039 2014-02-01     2020-02-01              2191\n",
       "7040 2019-03-01     2020-02-01               337\n",
       "7041 2019-07-01     2020-02-01               215\n",
       "7042 2014-08-01     2020-02-01              2010\n",
       "\n",
       "[7043 rows x 3 columns]"
      ]
     },
     "execution_count": 29,
     "metadata": {},
     "output_type": "execute_result"
    }
   ],
   "source": [
    "reference_date = pd.Timestamp('2020-02-01')\n",
    "\n",
    "data_full['EndDate_filled'] = data_full['EndDate'].fillna(reference_date)\n",
    "\n",
    "data_full['ContractDuration'] = (data_full['EndDate_filled'] - data_full['BeginDate']).dt.days\n",
    "\n",
    "data_full[['BeginDate', 'EndDate_filled', 'ContractDuration']]"
   ]
  },
  {
   "cell_type": "code",
   "execution_count": 30,
   "id": "79c80420",
   "metadata": {
    "scrolled": true
   },
   "outputs": [],
   "source": [
    "data_full = data_full.drop(columns=['BeginDate', 'EndDate_filled'])"
   ]
  },
  {
   "cell_type": "markdown",
   "id": "d6ad6ed6",
   "metadata": {},
   "source": [
    "**Целевой признак (Churn)**\n",
    "\n",
    "Целевой признак `Churn` отражает факт расторжения договора. Он сформирован на основе наличия даты завершения обслуживания: если `EndDate` присутствует — клиент ушёл (Churn = 1), если отсутствует — договор активен (Churn = 0)."
   ]
  },
  {
   "cell_type": "code",
   "execution_count": 31,
   "id": "4c987b9d",
   "metadata": {},
   "outputs": [
    {
     "data": {
      "text/html": [
       "<div>\n",
       "<style scoped>\n",
       "    .dataframe tbody tr th:only-of-type {\n",
       "        vertical-align: middle;\n",
       "    }\n",
       "\n",
       "    .dataframe tbody tr th {\n",
       "        vertical-align: top;\n",
       "    }\n",
       "\n",
       "    .dataframe thead th {\n",
       "        text-align: right;\n",
       "    }\n",
       "</style>\n",
       "<table border=\"1\" class=\"dataframe\">\n",
       "  <thead>\n",
       "    <tr style=\"text-align: right;\">\n",
       "      <th></th>\n",
       "      <th>EndDate</th>\n",
       "      <th>Churn</th>\n",
       "    </tr>\n",
       "  </thead>\n",
       "  <tbody>\n",
       "    <tr>\n",
       "      <th>0</th>\n",
       "      <td>NaT</td>\n",
       "      <td>0</td>\n",
       "    </tr>\n",
       "    <tr>\n",
       "      <th>1</th>\n",
       "      <td>NaT</td>\n",
       "      <td>0</td>\n",
       "    </tr>\n",
       "    <tr>\n",
       "      <th>2</th>\n",
       "      <td>NaT</td>\n",
       "      <td>0</td>\n",
       "    </tr>\n",
       "    <tr>\n",
       "      <th>3</th>\n",
       "      <td>NaT</td>\n",
       "      <td>0</td>\n",
       "    </tr>\n",
       "    <tr>\n",
       "      <th>4</th>\n",
       "      <td>NaT</td>\n",
       "      <td>0</td>\n",
       "    </tr>\n",
       "    <tr>\n",
       "      <th>5</th>\n",
       "      <td>NaT</td>\n",
       "      <td>0</td>\n",
       "    </tr>\n",
       "    <tr>\n",
       "      <th>6</th>\n",
       "      <td>NaT</td>\n",
       "      <td>0</td>\n",
       "    </tr>\n",
       "    <tr>\n",
       "      <th>7</th>\n",
       "      <td>NaT</td>\n",
       "      <td>0</td>\n",
       "    </tr>\n",
       "    <tr>\n",
       "      <th>8</th>\n",
       "      <td>NaT</td>\n",
       "      <td>0</td>\n",
       "    </tr>\n",
       "    <tr>\n",
       "      <th>9</th>\n",
       "      <td>2017-05-01</td>\n",
       "      <td>1</td>\n",
       "    </tr>\n",
       "    <tr>\n",
       "      <th>10</th>\n",
       "      <td>NaT</td>\n",
       "      <td>0</td>\n",
       "    </tr>\n",
       "    <tr>\n",
       "      <th>11</th>\n",
       "      <td>NaT</td>\n",
       "      <td>0</td>\n",
       "    </tr>\n",
       "    <tr>\n",
       "      <th>12</th>\n",
       "      <td>NaT</td>\n",
       "      <td>0</td>\n",
       "    </tr>\n",
       "    <tr>\n",
       "      <th>13</th>\n",
       "      <td>NaT</td>\n",
       "      <td>0</td>\n",
       "    </tr>\n",
       "    <tr>\n",
       "      <th>14</th>\n",
       "      <td>NaT</td>\n",
       "      <td>0</td>\n",
       "    </tr>\n",
       "    <tr>\n",
       "      <th>15</th>\n",
       "      <td>2016-03-01</td>\n",
       "      <td>1</td>\n",
       "    </tr>\n",
       "    <tr>\n",
       "      <th>16</th>\n",
       "      <td>NaT</td>\n",
       "      <td>0</td>\n",
       "    </tr>\n",
       "    <tr>\n",
       "      <th>17</th>\n",
       "      <td>NaT</td>\n",
       "      <td>0</td>\n",
       "    </tr>\n",
       "    <tr>\n",
       "      <th>18</th>\n",
       "      <td>NaT</td>\n",
       "      <td>0</td>\n",
       "    </tr>\n",
       "    <tr>\n",
       "      <th>19</th>\n",
       "      <td>NaT</td>\n",
       "      <td>0</td>\n",
       "    </tr>\n",
       "  </tbody>\n",
       "</table>\n",
       "</div>"
      ],
      "text/plain": [
       "      EndDate  Churn\n",
       "0         NaT      0\n",
       "1         NaT      0\n",
       "2         NaT      0\n",
       "3         NaT      0\n",
       "4         NaT      0\n",
       "5         NaT      0\n",
       "6         NaT      0\n",
       "7         NaT      0\n",
       "8         NaT      0\n",
       "9  2017-05-01      1\n",
       "10        NaT      0\n",
       "11        NaT      0\n",
       "12        NaT      0\n",
       "13        NaT      0\n",
       "14        NaT      0\n",
       "15 2016-03-01      1\n",
       "16        NaT      0\n",
       "17        NaT      0\n",
       "18        NaT      0\n",
       "19        NaT      0"
      ]
     },
     "metadata": {},
     "output_type": "display_data"
    }
   ],
   "source": [
    "data_full['Churn'] = (data_full['EndDate'] <= reference_date).astype(int)\n",
    "\n",
    "display(data_full[['EndDate', 'Churn']].head(20))\n",
    "\n",
    "data_full = data_full.drop(columns=['EndDate'])"
   ]
  },
  {
   "cell_type": "markdown",
   "id": "9a5bcfff",
   "metadata": {},
   "source": [
    "### Корреляционный анализ"
   ]
  },
  {
   "cell_type": "markdown",
   "id": "3f38d8f7",
   "metadata": {},
   "source": [
    "Для выявления взаимосвязей между признаками необходим корреляционный анализ с использованием библиотеки `phik`, которая позволяет учитывать как числовые, так и категориальные переменные. "
   ]
  },
  {
   "cell_type": "code",
   "execution_count": 32,
   "id": "2b39da4f",
   "metadata": {},
   "outputs": [],
   "source": [
    "data_corr = data_full.drop(columns=['customerID'])\n",
    "\n",
    "interval_cols = ['MonthlyCharges', 'TotalCharges', 'ContractDuration']"
   ]
  },
  {
   "cell_type": "code",
   "execution_count": 33,
   "id": "56f3468b",
   "metadata": {},
   "outputs": [
    {
     "data": {
      "image/png": "[encoded data removed]",
      "text/plain": [
       "<Figure size 1152x864 with 2 Axes>"
      ]
     },
     "metadata": {
      "needs_background": "light"
     },
     "output_type": "display_data"
    }
   ],
   "source": [
    "phik_overview = phik_matrix(data_corr, interval_cols=interval_cols)\n",
    "\n",
    "plot_correlation_matrix(\n",
    "    phik_overview.values,\n",
    "    x_labels=phik_overview.columns,\n",
    "    y_labels=phik_overview.index,\n",
    "    vmin=0, vmax=1, color_map='Greens',\n",
    "    title=r'Матрица корреляций $\\phi_K$',\n",
    "    fontsize_factor=1.3,\n",
    "    figsize=(16, 12)\n",
    ")"
   ]
  },
  {
   "cell_type": "markdown",
   "id": "2629e35e",
   "metadata": {},
   "source": [
    "Корреляционный анализ позволил выявить ключевые взаимосвязи между признаками.\n",
    "\n",
    "**Сильная корреляция (≥ 0.75)**\n",
    " - `StreamingMovies` и `StreamingTV` (0.95–0.97) – логично, оба связаны с доступом к потоковым сервисам.\n",
    "\n",
    " - `TechSupport`, `DeviceProtection`, `OnlineBackup`, `OnlineSecurity` между собой – корреляция 0.94–0.95. Все эти признаки отражают дополнительные услуги провайдера.\n",
    "\n",
    " - `MonthlyCharges` и `InternetService` (0.92) – очевидно, так как интернет влияет на ежемесячную плату.\n",
    "\n",
    " - `TotalCharges` и `ContractDuration` (0.85) – длительность контракта напрямую влияет на сумму выплат.\n",
    "\n",
    " - `StreamingMovies` и `MonthlyCharges` (0.86) и аналогично для StreamingTV (0.86).\n",
    "\n",
    " - `TotalCharges` и Online-сервисы (0.82–0.83) – чем больше услуг, тем выше итоговая сумма.\n",
    "\n",
    "**Умеренная корреляция (≈ 0.4–0.75)**\n",
    " - `Churn` и `ContractDuration` (0.37) – чем длиннее контракт, тем меньше вероятность оттока.\n",
    "\n",
    " - `Churn` и `Partner` (0.23) – наличие партнёра снижает отток.\n",
    "\n",
    " - `MultipleLines` и `MonthlyCharges` (0.71) – логично: больше услуг → выше плата.\n",
    "\n",
    " - `PaperlessBilling` и `ContractDuration` (0.63) – возможно, бумажный биллинг больше у клиентов с долгим стажем.\n",
    "\n",
    " - `Type` и `DeviceProtection/TechSupport/Streaming...` (0.55–0.67) – возможно, тип клиента отражает набор услуг.\n",
    "\n",
    "**Слабая корреляция ( ≤ 0.3)**\n",
    " - `Churn` ↔ большинство признаков (например, `gender`, `SeniorCitizen`, `Dependents`) – влияние этих признаков на отток слабое.\n",
    "\n",
    " - `Gender` ↔ любые признаки (все значения ≈ 0.00–0.01) – не влияет.\n",
    "\n",
    " - `SeniorCitizen` ↔ другие признаки (низкая корреляция, < 0.2) – слабое влияние.\n",
    " \n",
    " \n",
    "**Мультиколлениарность**\n",
    "\n",
    "Многие сервисы, которые предоставляет компания (например, потоковое видео, онлайн-бэкапы, защита устройств и т.п.), оказываются очень тесно связаны друг с другом. Это значит, что если клиент пользуется одним сервисом, он почти наверняка пользуется и другими.\n",
    "В таблице это выражается высокой корреляцией между признаками — они \"дублируют\" друг друга.\n",
    "\n",
    "Чтобы решить данную проблему, создадим поле `HasInternet`, которое будет отражать в целом подлкючение интернета, а также поле `NumberOfInternetServices`, которое будет содержать количество подлюченных дополнительных интренет-услуг"
   ]
  },
  {
   "cell_type": "code",
   "execution_count": 34,
   "id": "3a1f2620",
   "metadata": {},
   "outputs": [],
   "source": [
    "internet_services = [\n",
    "    'StreamingTV',\n",
    "    'StreamingMovies',\n",
    "    'OnlineBackup',\n",
    "    'DeviceProtection',\n",
    "    'TechSupport',\n",
    "    'OnlineSecurity'\n",
    "]\n",
    "\n",
    "data_full['NumberOfInternetServices'] = data_full[internet_services].apply(\n",
    "    lambda row: sum(val == 'Yes' for val in row), axis=1\n",
    ")\n",
    "\n",
    "data_full['HasInternet'] = data_full['InternetService'].apply(lambda x: 0 if x == 'NoService' else 1)\n",
    "\n",
    "data_full = data_full.drop(columns=internet_services)"
   ]
  },
  {
   "cell_type": "code",
   "execution_count": 35,
   "id": "6155ea1d",
   "metadata": {},
   "outputs": [
    {
     "data": {
      "text/plain": [
       "1    5517\n",
       "0    1526\n",
       "Name: HasInternet, dtype: int64"
      ]
     },
     "execution_count": 35,
     "metadata": {},
     "output_type": "execute_result"
    }
   ],
   "source": [
    "data_full['HasInternet'].value_counts()"
   ]
  },
  {
   "cell_type": "code",
   "execution_count": 36,
   "id": "86968d89",
   "metadata": {},
   "outputs": [
    {
     "data": {
      "text/html": [
       "<div>\n",
       "<style scoped>\n",
       "    .dataframe tbody tr th:only-of-type {\n",
       "        vertical-align: middle;\n",
       "    }\n",
       "\n",
       "    .dataframe tbody tr th {\n",
       "        vertical-align: top;\n",
       "    }\n",
       "\n",
       "    .dataframe thead th {\n",
       "        text-align: right;\n",
       "    }\n",
       "</style>\n",
       "<table border=\"1\" class=\"dataframe\">\n",
       "  <thead>\n",
       "    <tr style=\"text-align: right;\">\n",
       "      <th></th>\n",
       "      <th>customerID</th>\n",
       "      <th>Type</th>\n",
       "      <th>PaperlessBilling</th>\n",
       "      <th>PaymentMethod</th>\n",
       "      <th>MonthlyCharges</th>\n",
       "      <th>TotalCharges</th>\n",
       "      <th>gender</th>\n",
       "      <th>SeniorCitizen</th>\n",
       "      <th>Partner</th>\n",
       "      <th>Dependents</th>\n",
       "      <th>InternetService</th>\n",
       "      <th>MultipleLines</th>\n",
       "      <th>ContractDuration</th>\n",
       "      <th>Churn</th>\n",
       "      <th>NumberOfInternetServices</th>\n",
       "      <th>HasInternet</th>\n",
       "    </tr>\n",
       "  </thead>\n",
       "  <tbody>\n",
       "    <tr>\n",
       "      <th>0</th>\n",
       "      <td>7590-VHVEG</td>\n",
       "      <td>Month-to-month</td>\n",
       "      <td>Yes</td>\n",
       "      <td>Electronic check</td>\n",
       "      <td>29.85</td>\n",
       "      <td>31.04</td>\n",
       "      <td>Female</td>\n",
       "      <td>0</td>\n",
       "      <td>Yes</td>\n",
       "      <td>No</td>\n",
       "      <td>DSL</td>\n",
       "      <td>NoService</td>\n",
       "      <td>31</td>\n",
       "      <td>0</td>\n",
       "      <td>1</td>\n",
       "      <td>1</td>\n",
       "    </tr>\n",
       "    <tr>\n",
       "      <th>1</th>\n",
       "      <td>5575-GNVDE</td>\n",
       "      <td>One year</td>\n",
       "      <td>No</td>\n",
       "      <td>Mailed check</td>\n",
       "      <td>56.95</td>\n",
       "      <td>2071.84</td>\n",
       "      <td>Male</td>\n",
       "      <td>0</td>\n",
       "      <td>No</td>\n",
       "      <td>No</td>\n",
       "      <td>DSL</td>\n",
       "      <td>No</td>\n",
       "      <td>1036</td>\n",
       "      <td>0</td>\n",
       "      <td>2</td>\n",
       "      <td>1</td>\n",
       "    </tr>\n",
       "    <tr>\n",
       "      <th>2</th>\n",
       "      <td>3668-QPYBK</td>\n",
       "      <td>Month-to-month</td>\n",
       "      <td>Yes</td>\n",
       "      <td>Mailed check</td>\n",
       "      <td>53.85</td>\n",
       "      <td>226.17</td>\n",
       "      <td>Male</td>\n",
       "      <td>0</td>\n",
       "      <td>No</td>\n",
       "      <td>No</td>\n",
       "      <td>DSL</td>\n",
       "      <td>No</td>\n",
       "      <td>123</td>\n",
       "      <td>0</td>\n",
       "      <td>2</td>\n",
       "      <td>1</td>\n",
       "    </tr>\n",
       "    <tr>\n",
       "      <th>3</th>\n",
       "      <td>7795-CFOCW</td>\n",
       "      <td>One year</td>\n",
       "      <td>No</td>\n",
       "      <td>Bank transfer (automatic)</td>\n",
       "      <td>42.30</td>\n",
       "      <td>1960.60</td>\n",
       "      <td>Male</td>\n",
       "      <td>0</td>\n",
       "      <td>No</td>\n",
       "      <td>No</td>\n",
       "      <td>DSL</td>\n",
       "      <td>NoService</td>\n",
       "      <td>1371</td>\n",
       "      <td>0</td>\n",
       "      <td>3</td>\n",
       "      <td>1</td>\n",
       "    </tr>\n",
       "    <tr>\n",
       "      <th>4</th>\n",
       "      <td>9237-HQITU</td>\n",
       "      <td>Month-to-month</td>\n",
       "      <td>Yes</td>\n",
       "      <td>Electronic check</td>\n",
       "      <td>70.70</td>\n",
       "      <td>353.50</td>\n",
       "      <td>Female</td>\n",
       "      <td>0</td>\n",
       "      <td>No</td>\n",
       "      <td>No</td>\n",
       "      <td>Fiber optic</td>\n",
       "      <td>No</td>\n",
       "      <td>153</td>\n",
       "      <td>0</td>\n",
       "      <td>0</td>\n",
       "      <td>1</td>\n",
       "    </tr>\n",
       "    <tr>\n",
       "      <th>...</th>\n",
       "      <td>...</td>\n",
       "      <td>...</td>\n",
       "      <td>...</td>\n",
       "      <td>...</td>\n",
       "      <td>...</td>\n",
       "      <td>...</td>\n",
       "      <td>...</td>\n",
       "      <td>...</td>\n",
       "      <td>...</td>\n",
       "      <td>...</td>\n",
       "      <td>...</td>\n",
       "      <td>...</td>\n",
       "      <td>...</td>\n",
       "      <td>...</td>\n",
       "      <td>...</td>\n",
       "      <td>...</td>\n",
       "    </tr>\n",
       "    <tr>\n",
       "      <th>7038</th>\n",
       "      <td>6840-RESVB</td>\n",
       "      <td>One year</td>\n",
       "      <td>Yes</td>\n",
       "      <td>Mailed check</td>\n",
       "      <td>84.80</td>\n",
       "      <td>2035.20</td>\n",
       "      <td>Male</td>\n",
       "      <td>0</td>\n",
       "      <td>Yes</td>\n",
       "      <td>Yes</td>\n",
       "      <td>DSL</td>\n",
       "      <td>Yes</td>\n",
       "      <td>730</td>\n",
       "      <td>0</td>\n",
       "      <td>5</td>\n",
       "      <td>1</td>\n",
       "    </tr>\n",
       "    <tr>\n",
       "      <th>7039</th>\n",
       "      <td>2234-XADUH</td>\n",
       "      <td>One year</td>\n",
       "      <td>Yes</td>\n",
       "      <td>Credit card (automatic)</td>\n",
       "      <td>103.20</td>\n",
       "      <td>7430.40</td>\n",
       "      <td>Female</td>\n",
       "      <td>0</td>\n",
       "      <td>Yes</td>\n",
       "      <td>Yes</td>\n",
       "      <td>Fiber optic</td>\n",
       "      <td>Yes</td>\n",
       "      <td>2191</td>\n",
       "      <td>0</td>\n",
       "      <td>4</td>\n",
       "      <td>1</td>\n",
       "    </tr>\n",
       "    <tr>\n",
       "      <th>7040</th>\n",
       "      <td>4801-JZAZL</td>\n",
       "      <td>Month-to-month</td>\n",
       "      <td>Yes</td>\n",
       "      <td>Electronic check</td>\n",
       "      <td>29.60</td>\n",
       "      <td>325.60</td>\n",
       "      <td>Female</td>\n",
       "      <td>0</td>\n",
       "      <td>Yes</td>\n",
       "      <td>Yes</td>\n",
       "      <td>DSL</td>\n",
       "      <td>NoService</td>\n",
       "      <td>337</td>\n",
       "      <td>0</td>\n",
       "      <td>1</td>\n",
       "      <td>1</td>\n",
       "    </tr>\n",
       "    <tr>\n",
       "      <th>7041</th>\n",
       "      <td>8361-LTMKD</td>\n",
       "      <td>Month-to-month</td>\n",
       "      <td>Yes</td>\n",
       "      <td>Mailed check</td>\n",
       "      <td>74.40</td>\n",
       "      <td>520.80</td>\n",
       "      <td>Male</td>\n",
       "      <td>1</td>\n",
       "      <td>Yes</td>\n",
       "      <td>No</td>\n",
       "      <td>Fiber optic</td>\n",
       "      <td>Yes</td>\n",
       "      <td>215</td>\n",
       "      <td>0</td>\n",
       "      <td>0</td>\n",
       "      <td>1</td>\n",
       "    </tr>\n",
       "    <tr>\n",
       "      <th>7042</th>\n",
       "      <td>3186-AJIEK</td>\n",
       "      <td>Two year</td>\n",
       "      <td>Yes</td>\n",
       "      <td>Bank transfer (automatic)</td>\n",
       "      <td>105.65</td>\n",
       "      <td>7251.82</td>\n",
       "      <td>Male</td>\n",
       "      <td>0</td>\n",
       "      <td>No</td>\n",
       "      <td>No</td>\n",
       "      <td>Fiber optic</td>\n",
       "      <td>No</td>\n",
       "      <td>2010</td>\n",
       "      <td>0</td>\n",
       "      <td>5</td>\n",
       "      <td>1</td>\n",
       "    </tr>\n",
       "  </tbody>\n",
       "</table>\n",
       "<p>7043 rows × 16 columns</p>\n",
       "</div>"
      ],
      "text/plain": [
       "      customerID            Type PaperlessBilling              PaymentMethod  \\\n",
       "0     7590-VHVEG  Month-to-month              Yes           Electronic check   \n",
       "1     5575-GNVDE        One year               No               Mailed check   \n",
       "2     3668-QPYBK  Month-to-month              Yes               Mailed check   \n",
       "3     7795-CFOCW        One year               No  Bank transfer (automatic)   \n",
       "4     9237-HQITU  Month-to-month              Yes           Electronic check   \n",
       "...          ...             ...              ...                        ...   \n",
       "7038  6840-RESVB        One year              Yes               Mailed check   \n",
       "7039  2234-XADUH        One year              Yes    Credit card (automatic)   \n",
       "7040  4801-JZAZL  Month-to-month              Yes           Electronic check   \n",
       "7041  8361-LTMKD  Month-to-month              Yes               Mailed check   \n",
       "7042  3186-AJIEK        Two year              Yes  Bank transfer (automatic)   \n",
       "\n",
       "      MonthlyCharges  TotalCharges  gender SeniorCitizen Partner Dependents  \\\n",
       "0              29.85         31.04  Female             0     Yes         No   \n",
       "1              56.95       2071.84    Male             0      No         No   \n",
       "2              53.85        226.17    Male             0      No         No   \n",
       "3              42.30       1960.60    Male             0      No         No   \n",
       "4              70.70        353.50  Female             0      No         No   \n",
       "...              ...           ...     ...           ...     ...        ...   \n",
       "7038           84.80       2035.20    Male             0     Yes        Yes   \n",
       "7039          103.20       7430.40  Female             0     Yes        Yes   \n",
       "7040           29.60        325.60  Female             0     Yes        Yes   \n",
       "7041           74.40        520.80    Male             1     Yes         No   \n",
       "7042          105.65       7251.82    Male             0      No         No   \n",
       "\n",
       "     InternetService MultipleLines  ContractDuration  Churn  \\\n",
       "0                DSL     NoService                31      0   \n",
       "1                DSL            No              1036      0   \n",
       "2                DSL            No               123      0   \n",
       "3                DSL     NoService              1371      0   \n",
       "4        Fiber optic            No               153      0   \n",
       "...              ...           ...               ...    ...   \n",
       "7038             DSL           Yes               730      0   \n",
       "7039     Fiber optic           Yes              2191      0   \n",
       "7040             DSL     NoService               337      0   \n",
       "7041     Fiber optic           Yes               215      0   \n",
       "7042     Fiber optic            No              2010      0   \n",
       "\n",
       "      NumberOfInternetServices  HasInternet  \n",
       "0                            1            1  \n",
       "1                            2            1  \n",
       "2                            2            1  \n",
       "3                            3            1  \n",
       "4                            0            1  \n",
       "...                        ...          ...  \n",
       "7038                         5            1  \n",
       "7039                         4            1  \n",
       "7040                         1            1  \n",
       "7041                         0            1  \n",
       "7042                         5            1  \n",
       "\n",
       "[7043 rows x 16 columns]"
      ]
     },
     "execution_count": 36,
     "metadata": {},
     "output_type": "execute_result"
    }
   ],
   "source": [
    "data_full"
   ]
  },
  {
   "cell_type": "markdown",
   "id": "a8c202e1",
   "metadata": {},
   "source": [
    "### Отбор признаков"
   ]
  },
  {
   "cell_type": "code",
   "execution_count": 37,
   "id": "f12240bb",
   "metadata": {},
   "outputs": [
    {
     "data": {
      "text/plain": [
       "Index(['customerID', 'Type', 'PaperlessBilling', 'PaymentMethod',\n",
       "       'MonthlyCharges', 'TotalCharges', 'InternetService', 'MultipleLines',\n",
       "       'ContractDuration', 'Churn', 'NumberOfInternetServices', 'HasInternet'],\n",
       "      dtype='object')"
      ]
     },
     "execution_count": 37,
     "metadata": {},
     "output_type": "execute_result"
    }
   ],
   "source": [
    "cols_to_drop = ['gender', 'SeniorCitizen', 'Dependents', 'Partner']\n",
    "\n",
    "data_full = data_full.drop(columns=cols_to_drop)\n",
    "\n",
    "data_full.columns"
   ]
  },
  {
   "cell_type": "markdown",
   "id": "a0ae9203",
   "metadata": {},
   "source": [
    "### Оценка дисбаланса классов"
   ]
  },
  {
   "cell_type": "markdown",
   "id": "1d043ec8",
   "metadata": {},
   "source": [
    "На данном этапе проводится анализ распределения целевой переменной — оттока клиентов `Churn`. Важно понять, насколько классы сбалансированы, так как сильный дисбаланс может негативно сказаться на качестве построенной модели."
   ]
  },
  {
   "cell_type": "code",
   "execution_count": 38,
   "id": "b4131766",
   "metadata": {},
   "outputs": [
    {
     "name": "stdout",
     "output_type": "stream",
     "text": [
      "Распределение классов целевой переменной Churn:\n",
      "   Количество  Процентное соотношение (%)\n",
      "0        5942                   84.367457\n",
      "1        1101                   15.632543\n"
     ]
    }
   ],
   "source": [
    "class_counts = data_full['Churn'].value_counts()\n",
    "class_percent = data_full['Churn'].value_counts(normalize=True) * 100\n",
    "\n",
    "print(\"Распределение классов целевой переменной Churn:\")\n",
    "print(pd.DataFrame({'Количество': class_counts, 'Процентное соотношение (%)': class_percent}))"
   ]
  },
  {
   "cell_type": "code",
   "execution_count": 39,
   "id": "21c0ca75",
   "metadata": {
    "scrolled": true
   },
   "outputs": [
    {
     "data": {
      "image/png": "[encoded data removed]",
      "text/plain": [
       "<Figure size 432x288 with 1 Axes>"
      ]
     },
     "metadata": {
      "needs_background": "light"
     },
     "output_type": "display_data"
    }
   ],
   "source": [
    "plt.figure(figsize=(6,4))\n",
    "sns.barplot(x=class_counts.index, y=class_counts.values, palette='pastel')\n",
    "\n",
    "plt.title('Распределение классов Churn')\n",
    "plt.xlabel('Churn')\n",
    "plt.ylabel('Количество клиентов')\n",
    "plt.show()"
   ]
  },
  {
   "cell_type": "markdown",
   "id": "47d3699e",
   "metadata": {},
   "source": [
    "Распределение классов целевой переменной `Churn` показывает, что большинство клиентов (около 84%) остаются с компанией , в то время как только около 16% клиентов уходят. "
   ]
  },
  {
   "cell_type": "markdown",
   "id": "e359aad2",
   "metadata": {},
   "source": [
    "### Промежуточный вывод"
   ]
  },
  {
   "cell_type": "markdown",
   "id": "c81c197c",
   "metadata": {},
   "source": [
    "На этапе предобработки данных и исследовательского анализа были выполнены ключевые шаги, необходимые для подготовки данных к дальнейшему построению моделей машинного обучения:\n",
    "\n",
    "**Проверка пропущенных значений**\n",
    " \n",
    "После объединения данных пропуски обнаружены только в поле с датой окончания договора `EndDate`. Это логично, так как отсутствие даты означает, что договор ещё активен и клиент пользуется услугами. Пропуски не требуют удаления или замены и отражают текущих клиентов.\n",
    "\n",
    "**Проверка на дубликаты**\n",
    " \n",
    "В объединённом датасете отсутствуют дублирующиеся записи по идентификатору клиента, что подтверждает уникальность каждой записи.\n",
    "\n",
    "**Анализ распределений признаков**\n",
    " \n",
    "Анализ количественных и категориальных признаков показал:\n",
    "\n",
    " - Основные числовые признаки имеют характерное правостороннее распределение с редкими выбросами.\n",
    "\n",
    " - Среди контрактов преобладают краткосрочные (\"Month-to-month\").\n",
    "\n",
    " - Безбумажный биллинг более распространён, чем традиционный.\n",
    "\n",
    " - Мужчины и женщины представлены примерно поровну.\n",
    "\n",
    " - Пенсионеров меньше, чем активных клиентов.\n",
    "\n",
    " - Большинство клиентов не имеют партнёров и иждивенцев.\n",
    "\n",
    " - Среди интернет-услуг лидирует \"Fiber optic\", но значительная часть клиентов не пользуется интернетом.\n",
    "\n",
    " - Дополнительные услуги, такие как онлайн-защита, резервное копирование, техподдержка и стриминг, не пользуются широкой популярностью.\n",
    "\n",
    "\n",
    "**Feature engineering**\n",
    " \n",
    "Добавлен признак длительности контракта `ContractDuration`, рассчитанный как разница между датой окончания и началом договора. Для активных клиентов без даты окончания взята условная дата отсечки.\n",
    "Также сформирован целевой признак `Churn`, указывающий на факт расторжения договора.\n",
    "\n",
    "**Корреляционный анализ**\n",
    " \n",
    "Выявлены сильные взаимосвязи:\n",
    "\n",
    " - Отток (Churn) коррелирует с длительностью контракта и ежемесячными платежами.\n",
    "\n",
    " - Общие и ежемесячные начисления связаны напрямую.\n",
    "\n",
    " - Тип контракта влияет на его длительность.\n",
    "\n",
    " - Демографические признаки практически не влияют на отток. \n",
    "\n",
    "**Отбор признаков**\n",
    " \n",
    "Удалены признаки с низкой корреляцией с целевой переменной и потенциально избыточные: пол, наличие партнёра и иждивенцев, а также дата начала и окончания договора (последняя — из-за утечки данных).\n",
    "\n",
    "**Оценка дисбаланса классов**\n",
    " \n",
    "Целевая переменная `Churn` сильно несбалансирована: около 84% клиентов остаются, 16% уходят. "
   ]
  },
  {
   "cell_type": "markdown",
   "id": "ccdf3238",
   "metadata": {},
   "source": [
    "<a id=\"section5\"></a> \n",
    "## Подготовка данных"
   ]
  },
  {
   "cell_type": "markdown",
   "id": "bc934d48",
   "metadata": {},
   "source": [
    "### Разделение датасета"
   ]
  },
  {
   "cell_type": "markdown",
   "id": "77a98cfc",
   "metadata": {},
   "source": [
    "Для оценки качества модели и предотвращения переобучения весь доступный датасет делится на обучающую и тестовую выборки в соотношении 3:1. Это означает, что 75% данных будут использованы для обучения модели, а оставшиеся 25% — для тестирования.\n",
    "Такой подход обеспечивает достаточное количество данных как для обучения, так и для объективной оценки точности модели на ранее не встречавшихся примерах."
   ]
  },
  {
   "cell_type": "code",
   "execution_count": 40,
   "id": "f86e2dfb",
   "metadata": {},
   "outputs": [],
   "source": [
    "X = data_full.drop(['customerID', 'Churn'], axis=1)\n",
    "y = data_full['Churn']\n",
    "\n",
    "\n",
    "X_train, X_test, y_train, y_test = train_test_split(\n",
    "    X,\n",
    "    y,\n",
    "    test_size=TEST_SIZE,\n",
    "    random_state=RANDOM_STATE,\n",
    "    stratify=y\n",
    ")"
   ]
  },
  {
   "cell_type": "code",
   "execution_count": 41,
   "id": "4549153f",
   "metadata": {
    "scrolled": true
   },
   "outputs": [
    {
     "name": "stdout",
     "output_type": "stream",
     "text": [
      "Размер X_train: (5282, 10)\n",
      "Размер X_test: (1761, 10)\n",
      "Размер y_train: (5282,)\n",
      "Размер y_test: (1761,)\n"
     ]
    }
   ],
   "source": [
    "print(\"Размер X_train:\", X_train.shape)\n",
    "print(\"Размер X_test:\", X_test.shape)\n",
    "print(\"Размер y_train:\", y_train.shape)\n",
    "print(\"Размер y_test:\", y_test.shape)"
   ]
  },
  {
   "cell_type": "markdown",
   "id": "76e8e1f6",
   "metadata": {},
   "source": [
    "Данные корректно разделены на обучающую и тестовую выборки."
   ]
  },
  {
   "cell_type": "markdown",
   "id": "3d4930ab",
   "metadata": {},
   "source": [
    "### Отбор признаков"
   ]
  },
  {
   "cell_type": "markdown",
   "id": "884e9191",
   "metadata": {},
   "source": [
    "Из набора данных отобраны только те признаки, которые могут реально влиять на поведение клиента. Неинформативные столбцы, такие как уникальный идентификатор клиента (customerID), были удалены.\n",
    "\n",
    "Выделены следующие группы признаков:\n",
    "\n",
    " - Категориальные признаки (преобразуются методом One-Hot Encoding для регрессии, OrdinalEncoder для дерева и бустинга): тип подключения, способ оплаты, наличие дополнительных услуг. Эти признаки описывают характер взаимодействия клиента с компанией.\n",
    "\n",
    " - Числовые признаки: ежемесячные и суммарные расходы клиента, а также длительность контракта. Эти параметры напрямую отражают поведение клиента и его лояльность."
   ]
  },
  {
   "cell_type": "code",
   "execution_count": 42,
   "id": "3e0b88d2",
   "metadata": {},
   "outputs": [],
   "source": [
    "cat_columns = [ \n",
    "    'Type', \n",
    "    'PaperlessBilling', \n",
    "    'PaymentMethod', \n",
    "    'InternetService', \n",
    "    'MultipleLines'\n",
    "]\n",
    "\n",
    "num_columns = [\n",
    "    'MonthlyCharges',\n",
    "    'TotalCharges',\n",
    "    'ContractDuration',\n",
    "    'NumberOfInternetServices', \n",
    "    'HasInternet'\n",
    "]"
   ]
  },
  {
   "cell_type": "markdown",
   "id": "ea600c0d",
   "metadata": {},
   "source": [
    "### Выбор моделей"
   ]
  },
  {
   "cell_type": "markdown",
   "id": "ff6e8fc0",
   "metadata": {},
   "source": [
    "В рамках проекта по прогнозированию оттока клиентов для построения и оценки качества моделей машинного обучения выбраны три различных алгоритма. Это обеспечивает разнообразие подходов к анализу данных и позволяет выбрать наиболее эффективную модель для решения задачи.\n",
    "\n",
    "Выбранные модели:\n",
    "\n",
    " - `Логистическая регрессия` — простая и интерпретируемая линейная модель, хорошо подходящая для базового сравнения и анализа влияния отдельных признаков на вероятность оттока.\n",
    "\n",
    " - `Дерево решений` — модель на основе последовательного деления данных по признакам. Обеспечивает наглядную интерпретацию структуры принятия решений и позволяет выявить ключевые факторы, влияющие на отток.\n",
    "\n",
    " - `CatBoost` — современный градиентный бустинг на деревьях решений, оптимизированный для работы с категориальными признаками. CatBoost показывает высокую точность на реальных данных и устойчив к переобучению.\n"
   ]
  },
  {
   "cell_type": "markdown",
   "id": "9cf1f05d",
   "metadata": {},
   "source": [
    "### Выбор метрики"
   ]
  },
  {
   "cell_type": "markdown",
   "id": "a89876d6",
   "metadata": {},
   "source": [
    "Для более точной оценки качества моделей в условиях дисбаланса классов используется метрика `ROC AUC`. Она отражает способность модели корректно различать классы на различных порогах вероятности и лучше подходит для задач с несбалансированными данными."
   ]
  },
  {
   "cell_type": "code",
   "execution_count": 43,
   "id": "a396a962",
   "metadata": {},
   "outputs": [],
   "source": [
    "roc_auc = make_scorer(roc_auc_score, needs_proba=True)"
   ]
  },
  {
   "cell_type": "markdown",
   "id": "561a5e10",
   "metadata": {},
   "source": [
    "### Кодирование признаков"
   ]
  },
  {
   "cell_type": "markdown",
   "id": "23a62b0a",
   "metadata": {},
   "source": [
    "Для подготовки данных к обучению моделей  разработаны пайплайны, которые автоматически обрабатывают данные перед подачей на вход модели.\n",
    "\n",
    "Для категориальных признаков реализован пайплайн, который заполняет отсутствующие значения наиболее частыми значениями и преобразует категории в числовой формат с помощью кодирования (one-hot / ordinal encoding). Это позволяет модели корректно работать с категориальными данными.\n",
    "\n",
    "Для числовых признаков реализован отдельный пайплайн, который заменяет пропуски на медианные значения и масштабирует данные, приводя их к единому диапазону. Масштабирование помогает улучшить качество обучения и стабильность работы моделей."
   ]
  },
  {
   "cell_type": "code",
   "execution_count": 44,
   "id": "fb629cdb",
   "metadata": {},
   "outputs": [],
   "source": [
    "ohe_pipe = Pipeline([\n",
    "    ('imputer', SimpleImputer(strategy='most_frequent')),\n",
    "    ('ohe', OneHotEncoder(drop='first', handle_unknown='ignore', sparse=False))\n",
    "])\n",
    "\n",
    "ordinal_pipe = Pipeline([\n",
    "    ('imputer', SimpleImputer(strategy='most_frequent')),\n",
    "    ('ordinal', OrdinalEncoder(handle_unknown='use_encoded_value', unknown_value=-1))\n",
    "])\n",
    "\n",
    "num_pipe = Pipeline([\n",
    "    ('imputer', SimpleImputer(strategy='median')),\n",
    "    ('scaler', 'passthrough')  \n",
    "])\n",
    "\n",
    "data_preprocessor_logreg = ColumnTransformer([\n",
    "    ('cat', ohe_pipe, cat_columns),\n",
    "    ('num', num_pipe, num_columns)\n",
    "])\n",
    "\n",
    "\n",
    "data_preprocessor_tree_cb = ColumnTransformer([\n",
    "    ('cat', ordinal_pipe, cat_columns),\n",
    "    ('num', num_pipe, num_columns)\n",
    "])"
   ]
  },
  {
   "cell_type": "markdown",
   "id": "45607bcf",
   "metadata": {},
   "source": [
    "### Подбор гиперпараметров "
   ]
  },
  {
   "cell_type": "markdown",
   "id": "d42ae2d7",
   "metadata": {},
   "source": [
    "Для повышения точности моделей и оценки их устойчивости проводится подбор гиперпараметров с помощью метода GridSearchCV, который сочетает поиск лучших параметров с кросс-валидацией. Это позволяет объективно оценить качество модели на разных подвыборках обучающей выборки и избежать переобучения.\n",
    "\n",
    "Используется 5-кратная кросс-валидация (cv=5). В процессе подбираются параметры моделей и способ масштабирования числовых признаков.\n",
    "\n",
    "В нашем датасете наблюдается выраженный дисбаланс классов: около 85% клиентов не ушли и только 15% — ушли. "
   ]
  },
  {
   "cell_type": "code",
   "execution_count": 45,
   "id": "55c3e62f",
   "metadata": {},
   "outputs": [],
   "source": [
    "pipe_final = Pipeline([\n",
    "    ('preprocessor', data_preprocessor_logreg),  \n",
    "    ('model', LogisticRegression())\n",
    "])\n",
    "\n",
    "param_grid = [\n",
    "    {\n",
    "        'preprocessor': [data_preprocessor_logreg],\n",
    "        'model': [LogisticRegression(random_state=RANDOM_STATE, solver='liblinear', penalty='l1')],\n",
    "        'model__C': np.arange(0.1, 2.0, 0.3),\n",
    "        'preprocessor__num__scaler': [StandardScaler(), MinMaxScaler(), 'passthrough']\n",
    "    },\n",
    "    {\n",
    "        'preprocessor': [data_preprocessor_tree_cb],\n",
    "        'model': [DecisionTreeClassifier(random_state=RANDOM_STATE)],\n",
    "        'model__max_depth': range(2, 6),\n",
    "        'model__max_features': [1, 2, 3, 'sqrt', 'log2'],\n",
    "        'preprocessor__num__scaler': [StandardScaler(), MinMaxScaler(), 'passthrough']\n",
    "    },\n",
    "    {\n",
    "        'preprocessor': [data_preprocessor_tree_cb],\n",
    "        'model': [CatBoostClassifier(verbose=0, random_state=RANDOM_STATE)],\n",
    "        'model__depth': [4, 6, 8],\n",
    "        'model__learning_rate': [0.01, 0.05, 0.1]\n",
    "    }\n",
    "]\n",
    "\n",
    "grid_search = GridSearchCV(\n",
    "    estimator=pipe_final,\n",
    "    param_grid=param_grid,\n",
    "    cv=5,\n",
    "    scoring=roc_auc,\n",
    "    n_jobs=-1,\n",
    ")"
   ]
  },
  {
   "cell_type": "markdown",
   "id": "dd404146",
   "metadata": {},
   "source": [
    "### Промежуточный вывод"
   ]
  },
  {
   "cell_type": "markdown",
   "id": "e58ba757",
   "metadata": {},
   "source": [
    "На данном этапе проекта выполнена полная подготовка данных для моделирования: проведено разбиение выборки, отбор значимых признаков, разработаны пайплайны для автоматической обработки данных и выполнен подбор гиперпараметров.\n",
    "\n",
    "Выбраны три различные модели машинного обучения, что позволяет оценить эффективность разных подходов к прогнозированию оттока клиентов. Такой подход обеспечивает гибкость, устойчивость решений и позволяет выбрать модель с наилучшей производительностью.\n",
    "\n",
    "Следующим шагом будет обучение моделей, их оценка по ключевым метрикам и выбор финального решения."
   ]
  },
  {
   "cell_type": "markdown",
   "id": "0f52577f",
   "metadata": {},
   "source": [
    "<a id=\"section6\"></a> \n",
    "## Обучение моделей машинного обучения"
   ]
  },
  {
   "cell_type": "markdown",
   "id": "b947cd51",
   "metadata": {},
   "source": [
    "### Обучение"
   ]
  },
  {
   "cell_type": "markdown",
   "id": "803a3c56",
   "metadata": {},
   "source": [
    "На этом этапе проводится обучение трёх моделей машинного обучения с предварительно подобранными гиперпараметрами. Обучение осуществляется в рамках кросс-валидации, что позволяет оценить устойчивость моделей к случайным колебаниям в данных и выбрать наилучшую по метрике `ROC_AUC`, которая учитывает вероятность принадлежности к положительному классу (отток клиента)."
   ]
  },
  {
   "cell_type": "code",
   "execution_count": 46,
   "id": "5ae87be6",
   "metadata": {},
   "outputs": [
    {
     "data": {
      "text/html": [
       "<style>#sk-container-id-1 {color: black;}#sk-container-id-1 pre{padding: 0;}#sk-container-id-1 div.sk-toggleable {background-color: white;}#sk-container-id-1 label.sk-toggleable__label {cursor: pointer;display: block;width: 100%;margin-bottom: 0;padding: 0.3em;box-sizing: border-box;text-align: center;}#sk-container-id-1 label.sk-toggleable__label-arrow:before {content: \"▸\";float: left;margin-right: 0.25em;color: #696969;}#sk-container-id-1 label.sk-toggleable__label-arrow:hover:before {color: black;}#sk-container-id-1 div.sk-estimator:hover label.sk-toggleable__label-arrow:before {color: black;}#sk-container-id-1 div.sk-toggleable__content {max-height: 0;max-width: 0;overflow: hidden;text-align: left;background-color: #f0f8ff;}#sk-container-id-1 div.sk-toggleable__content pre {margin: 0.2em;color: black;border-radius: 0.25em;background-color: #f0f8ff;}#sk-container-id-1 input.sk-toggleable__control:checked~div.sk-toggleable__content {max-height: 200px;max-width: 100%;overflow: auto;}#sk-container-id-1 input.sk-toggleable__control:checked~label.sk-toggleable__label-arrow:before {content: \"▾\";}#sk-container-id-1 div.sk-estimator input.sk-toggleable__control:checked~label.sk-toggleable__label {background-color: #d4ebff;}#sk-container-id-1 div.sk-label input.sk-toggleable__control:checked~label.sk-toggleable__label {background-color: #d4ebff;}#sk-container-id-1 input.sk-hidden--visually {border: 0;clip: rect(1px 1px 1px 1px);clip: rect(1px, 1px, 1px, 1px);height: 1px;margin: -1px;overflow: hidden;padding: 0;position: absolute;width: 1px;}#sk-container-id-1 div.sk-estimator {font-family: monospace;background-color: #f0f8ff;border: 1px dotted black;border-radius: 0.25em;box-sizing: border-box;margin-bottom: 0.5em;}#sk-container-id-1 div.sk-estimator:hover {background-color: #d4ebff;}#sk-container-id-1 div.sk-parallel-item::after {content: \"\";width: 100%;border-bottom: 1px solid gray;flex-grow: 1;}#sk-container-id-1 div.sk-label:hover label.sk-toggleable__label {background-color: #d4ebff;}#sk-container-id-1 div.sk-serial::before {content: \"\";position: absolute;border-left: 1px solid gray;box-sizing: border-box;top: 0;bottom: 0;left: 50%;z-index: 0;}#sk-container-id-1 div.sk-serial {display: flex;flex-direction: column;align-items: center;background-color: white;padding-right: 0.2em;padding-left: 0.2em;position: relative;}#sk-container-id-1 div.sk-item {position: relative;z-index: 1;}#sk-container-id-1 div.sk-parallel {display: flex;align-items: stretch;justify-content: center;background-color: white;position: relative;}#sk-container-id-1 div.sk-item::before, #sk-container-id-1 div.sk-parallel-item::before {content: \"\";position: absolute;border-left: 1px solid gray;box-sizing: border-box;top: 0;bottom: 0;left: 50%;z-index: -1;}#sk-container-id-1 div.sk-parallel-item {display: flex;flex-direction: column;z-index: 1;position: relative;background-color: white;}#sk-container-id-1 div.sk-parallel-item:first-child::after {align-self: flex-end;width: 50%;}#sk-container-id-1 div.sk-parallel-item:last-child::after {align-self: flex-start;width: 50%;}#sk-container-id-1 div.sk-parallel-item:only-child::after {width: 0;}#sk-container-id-1 div.sk-dashed-wrapped {border: 1px dashed gray;margin: 0 0.4em 0.5em 0.4em;box-sizing: border-box;padding-bottom: 0.4em;background-color: white;}#sk-container-id-1 div.sk-label label {font-family: monospace;font-weight: bold;display: inline-block;line-height: 1.2em;}#sk-container-id-1 div.sk-label-container {text-align: center;}#sk-container-id-1 div.sk-container {/* jupyter's `normalize.less` sets `[hidden] { display: none; }` but bootstrap.min.css set `[hidden] { display: none !important; }` so we also need the `!important` here to be able to override the default hidden behavior on the sphinx rendered scikit-learn.org. See: https://github.com/scikit-learn/scikit-learn/issues/21755 */display: inline-block !important;position: relative;}#sk-container-id-1 div.sk-text-repr-fallback {display: none;}</style><div id=\"sk-container-id-1\" class=\"sk-top-container\"><div class=\"sk-text-repr-fallback\"><pre>GridSearchCV(cv=5,\n",
       "             estimator=Pipeline(steps=[(&#x27;preprocessor&#x27;,\n",
       "                                        ColumnTransformer(transformers=[(&#x27;cat&#x27;,\n",
       "                                                                         Pipeline(steps=[(&#x27;imputer&#x27;,\n",
       "                                                                                          SimpleImputer(strategy=&#x27;most_frequent&#x27;)),\n",
       "                                                                                         (&#x27;ohe&#x27;,\n",
       "                                                                                          OneHotEncoder(drop=&#x27;first&#x27;,\n",
       "                                                                                                        handle_unknown=&#x27;ignore&#x27;,\n",
       "                                                                                                        sparse=False))]),\n",
       "                                                                         [&#x27;Type&#x27;,\n",
       "                                                                          &#x27;PaperlessBilling&#x27;,\n",
       "                                                                          &#x27;PaymentMethod&#x27;,\n",
       "                                                                          &#x27;InternetService&#x27;,\n",
       "                                                                          &#x27;MultipleLines&#x27;]),\n",
       "                                                                        (&#x27;num&#x27;,\n",
       "                                                                         Pipeline(steps=[(&#x27;impu...\n",
       "                                                                                             OrdinalEncoder(handle_unknown=&#x27;use_encoded_value&#x27;,\n",
       "                                                                                                            unknown_value=-1))]),\n",
       "                                                                            [&#x27;Type&#x27;,\n",
       "                                                                             &#x27;PaperlessBilling&#x27;,\n",
       "                                                                             &#x27;PaymentMethod&#x27;,\n",
       "                                                                             &#x27;InternetService&#x27;,\n",
       "                                                                             &#x27;MultipleLines&#x27;]),\n",
       "                                                                           (&#x27;num&#x27;,\n",
       "                                                                            Pipeline(steps=[(&#x27;imputer&#x27;,\n",
       "                                                                                             SimpleImputer(strategy=&#x27;median&#x27;)),\n",
       "                                                                                            (&#x27;scaler&#x27;,\n",
       "                                                                                             &#x27;passthrough&#x27;)]),\n",
       "                                                                            [&#x27;MonthlyCharges&#x27;,\n",
       "                                                                             &#x27;TotalCharges&#x27;,\n",
       "                                                                             &#x27;ContractDuration&#x27;,\n",
       "                                                                             &#x27;NumberOfInternetServices&#x27;,\n",
       "                                                                             &#x27;HasInternet&#x27;])])]}],\n",
       "             scoring=make_scorer(roc_auc_score, needs_proba=True))</pre><b>In a Jupyter environment, please rerun this cell to show the HTML representation or trust the notebook. <br />On GitHub, the HTML representation is unable to render, please try loading this page with nbviewer.org.</b></div><div class=\"sk-container\" hidden><div class=\"sk-item sk-dashed-wrapped\"><div class=\"sk-label-container\"><div class=\"sk-label sk-toggleable\"><input class=\"sk-toggleable__control sk-hidden--visually\" id=\"sk-estimator-id-1\" type=\"checkbox\" ><label for=\"sk-estimator-id-1\" class=\"sk-toggleable__label sk-toggleable__label-arrow\">GridSearchCV</label><div class=\"sk-toggleable__content\"><pre>GridSearchCV(cv=5,\n",
       "             estimator=Pipeline(steps=[(&#x27;preprocessor&#x27;,\n",
       "                                        ColumnTransformer(transformers=[(&#x27;cat&#x27;,\n",
       "                                                                         Pipeline(steps=[(&#x27;imputer&#x27;,\n",
       "                                                                                          SimpleImputer(strategy=&#x27;most_frequent&#x27;)),\n",
       "                                                                                         (&#x27;ohe&#x27;,\n",
       "                                                                                          OneHotEncoder(drop=&#x27;first&#x27;,\n",
       "                                                                                                        handle_unknown=&#x27;ignore&#x27;,\n",
       "                                                                                                        sparse=False))]),\n",
       "                                                                         [&#x27;Type&#x27;,\n",
       "                                                                          &#x27;PaperlessBilling&#x27;,\n",
       "                                                                          &#x27;PaymentMethod&#x27;,\n",
       "                                                                          &#x27;InternetService&#x27;,\n",
       "                                                                          &#x27;MultipleLines&#x27;]),\n",
       "                                                                        (&#x27;num&#x27;,\n",
       "                                                                         Pipeline(steps=[(&#x27;impu...\n",
       "                                                                                             OrdinalEncoder(handle_unknown=&#x27;use_encoded_value&#x27;,\n",
       "                                                                                                            unknown_value=-1))]),\n",
       "                                                                            [&#x27;Type&#x27;,\n",
       "                                                                             &#x27;PaperlessBilling&#x27;,\n",
       "                                                                             &#x27;PaymentMethod&#x27;,\n",
       "                                                                             &#x27;InternetService&#x27;,\n",
       "                                                                             &#x27;MultipleLines&#x27;]),\n",
       "                                                                           (&#x27;num&#x27;,\n",
       "                                                                            Pipeline(steps=[(&#x27;imputer&#x27;,\n",
       "                                                                                             SimpleImputer(strategy=&#x27;median&#x27;)),\n",
       "                                                                                            (&#x27;scaler&#x27;,\n",
       "                                                                                             &#x27;passthrough&#x27;)]),\n",
       "                                                                            [&#x27;MonthlyCharges&#x27;,\n",
       "                                                                             &#x27;TotalCharges&#x27;,\n",
       "                                                                             &#x27;ContractDuration&#x27;,\n",
       "                                                                             &#x27;NumberOfInternetServices&#x27;,\n",
       "                                                                             &#x27;HasInternet&#x27;])])]}],\n",
       "             scoring=make_scorer(roc_auc_score, needs_proba=True))</pre></div></div></div><div class=\"sk-parallel\"><div class=\"sk-parallel-item\"><div class=\"sk-item\"><div class=\"sk-label-container\"><div class=\"sk-label sk-toggleable\"><input class=\"sk-toggleable__control sk-hidden--visually\" id=\"sk-estimator-id-2\" type=\"checkbox\" ><label for=\"sk-estimator-id-2\" class=\"sk-toggleable__label sk-toggleable__label-arrow\">estimator: Pipeline</label><div class=\"sk-toggleable__content\"><pre>Pipeline(steps=[(&#x27;preprocessor&#x27;,\n",
       "                 ColumnTransformer(transformers=[(&#x27;cat&#x27;,\n",
       "                                                  Pipeline(steps=[(&#x27;imputer&#x27;,\n",
       "                                                                   SimpleImputer(strategy=&#x27;most_frequent&#x27;)),\n",
       "                                                                  (&#x27;ohe&#x27;,\n",
       "                                                                   OneHotEncoder(drop=&#x27;first&#x27;,\n",
       "                                                                                 handle_unknown=&#x27;ignore&#x27;,\n",
       "                                                                                 sparse=False))]),\n",
       "                                                  [&#x27;Type&#x27;, &#x27;PaperlessBilling&#x27;,\n",
       "                                                   &#x27;PaymentMethod&#x27;,\n",
       "                                                   &#x27;InternetService&#x27;,\n",
       "                                                   &#x27;MultipleLines&#x27;]),\n",
       "                                                 (&#x27;num&#x27;,\n",
       "                                                  Pipeline(steps=[(&#x27;imputer&#x27;,\n",
       "                                                                   SimpleImputer(strategy=&#x27;median&#x27;)),\n",
       "                                                                  (&#x27;scaler&#x27;,\n",
       "                                                                   &#x27;passthrough&#x27;)]),\n",
       "                                                  [&#x27;MonthlyCharges&#x27;,\n",
       "                                                   &#x27;TotalCharges&#x27;,\n",
       "                                                   &#x27;ContractDuration&#x27;,\n",
       "                                                   &#x27;NumberOfInternetServices&#x27;,\n",
       "                                                   &#x27;HasInternet&#x27;])])),\n",
       "                (&#x27;model&#x27;, LogisticRegression())])</pre></div></div></div><div class=\"sk-serial\"><div class=\"sk-item\"><div class=\"sk-serial\"><div class=\"sk-item sk-dashed-wrapped\"><div class=\"sk-label-container\"><div class=\"sk-label sk-toggleable\"><input class=\"sk-toggleable__control sk-hidden--visually\" id=\"sk-estimator-id-3\" type=\"checkbox\" ><label for=\"sk-estimator-id-3\" class=\"sk-toggleable__label sk-toggleable__label-arrow\">preprocessor: ColumnTransformer</label><div class=\"sk-toggleable__content\"><pre>ColumnTransformer(transformers=[(&#x27;cat&#x27;,\n",
       "                                 Pipeline(steps=[(&#x27;imputer&#x27;,\n",
       "                                                  SimpleImputer(strategy=&#x27;most_frequent&#x27;)),\n",
       "                                                 (&#x27;ohe&#x27;,\n",
       "                                                  OneHotEncoder(drop=&#x27;first&#x27;,\n",
       "                                                                handle_unknown=&#x27;ignore&#x27;,\n",
       "                                                                sparse=False))]),\n",
       "                                 [&#x27;Type&#x27;, &#x27;PaperlessBilling&#x27;, &#x27;PaymentMethod&#x27;,\n",
       "                                  &#x27;InternetService&#x27;, &#x27;MultipleLines&#x27;]),\n",
       "                                (&#x27;num&#x27;,\n",
       "                                 Pipeline(steps=[(&#x27;imputer&#x27;,\n",
       "                                                  SimpleImputer(strategy=&#x27;median&#x27;)),\n",
       "                                                 (&#x27;scaler&#x27;, &#x27;passthrough&#x27;)]),\n",
       "                                 [&#x27;MonthlyCharges&#x27;, &#x27;TotalCharges&#x27;,\n",
       "                                  &#x27;ContractDuration&#x27;,\n",
       "                                  &#x27;NumberOfInternetServices&#x27;, &#x27;HasInternet&#x27;])])</pre></div></div></div><div class=\"sk-parallel\"><div class=\"sk-parallel-item\"><div class=\"sk-item\"><div class=\"sk-label-container\"><div class=\"sk-label sk-toggleable\"><input class=\"sk-toggleable__control sk-hidden--visually\" id=\"sk-estimator-id-4\" type=\"checkbox\" ><label for=\"sk-estimator-id-4\" class=\"sk-toggleable__label sk-toggleable__label-arrow\">cat</label><div class=\"sk-toggleable__content\"><pre>[&#x27;Type&#x27;, &#x27;PaperlessBilling&#x27;, &#x27;PaymentMethod&#x27;, &#x27;InternetService&#x27;, &#x27;MultipleLines&#x27;]</pre></div></div></div><div class=\"sk-serial\"><div class=\"sk-item\"><div class=\"sk-serial\"><div class=\"sk-item\"><div class=\"sk-estimator sk-toggleable\"><input class=\"sk-toggleable__control sk-hidden--visually\" id=\"sk-estimator-id-5\" type=\"checkbox\" ><label for=\"sk-estimator-id-5\" class=\"sk-toggleable__label sk-toggleable__label-arrow\">SimpleImputer</label><div class=\"sk-toggleable__content\"><pre>SimpleImputer(strategy=&#x27;most_frequent&#x27;)</pre></div></div></div><div class=\"sk-item\"><div class=\"sk-estimator sk-toggleable\"><input class=\"sk-toggleable__control sk-hidden--visually\" id=\"sk-estimator-id-6\" type=\"checkbox\" ><label for=\"sk-estimator-id-6\" class=\"sk-toggleable__label sk-toggleable__label-arrow\">OneHotEncoder</label><div class=\"sk-toggleable__content\"><pre>OneHotEncoder(drop=&#x27;first&#x27;, handle_unknown=&#x27;ignore&#x27;, sparse=False)</pre></div></div></div></div></div></div></div></div><div class=\"sk-parallel-item\"><div class=\"sk-item\"><div class=\"sk-label-container\"><div class=\"sk-label sk-toggleable\"><input class=\"sk-toggleable__control sk-hidden--visually\" id=\"sk-estimator-id-7\" type=\"checkbox\" ><label for=\"sk-estimator-id-7\" class=\"sk-toggleable__label sk-toggleable__label-arrow\">num</label><div class=\"sk-toggleable__content\"><pre>[&#x27;MonthlyCharges&#x27;, &#x27;TotalCharges&#x27;, &#x27;ContractDuration&#x27;, &#x27;NumberOfInternetServices&#x27;, &#x27;HasInternet&#x27;]</pre></div></div></div><div class=\"sk-serial\"><div class=\"sk-item\"><div class=\"sk-serial\"><div class=\"sk-item\"><div class=\"sk-estimator sk-toggleable\"><input class=\"sk-toggleable__control sk-hidden--visually\" id=\"sk-estimator-id-8\" type=\"checkbox\" ><label for=\"sk-estimator-id-8\" class=\"sk-toggleable__label sk-toggleable__label-arrow\">SimpleImputer</label><div class=\"sk-toggleable__content\"><pre>SimpleImputer(strategy=&#x27;median&#x27;)</pre></div></div></div><div class=\"sk-item\"><div class=\"sk-estimator sk-toggleable\"><input class=\"sk-toggleable__control sk-hidden--visually\" id=\"sk-estimator-id-9\" type=\"checkbox\" ><label for=\"sk-estimator-id-9\" class=\"sk-toggleable__label sk-toggleable__label-arrow\">passthrough</label><div class=\"sk-toggleable__content\"><pre>passthrough</pre></div></div></div></div></div></div></div></div></div></div><div class=\"sk-item\"><div class=\"sk-estimator sk-toggleable\"><input class=\"sk-toggleable__control sk-hidden--visually\" id=\"sk-estimator-id-10\" type=\"checkbox\" ><label for=\"sk-estimator-id-10\" class=\"sk-toggleable__label sk-toggleable__label-arrow\">LogisticRegression</label><div class=\"sk-toggleable__content\"><pre>LogisticRegression()</pre></div></div></div></div></div></div></div></div></div></div></div></div>"
      ],
      "text/plain": [
       "GridSearchCV(cv=5,\n",
       "             estimator=Pipeline(steps=[('preprocessor',\n",
       "                                        ColumnTransformer(transformers=[('cat',\n",
       "                                                                         Pipeline(steps=[('imputer',\n",
       "                                                                                          SimpleImputer(strategy='most_frequent')),\n",
       "                                                                                         ('ohe',\n",
       "                                                                                          OneHotEncoder(drop='first',\n",
       "                                                                                                        handle_unknown='ignore',\n",
       "                                                                                                        sparse=False))]),\n",
       "                                                                         ['Type',\n",
       "                                                                          'PaperlessBilling',\n",
       "                                                                          'PaymentMethod',\n",
       "                                                                          'InternetService',\n",
       "                                                                          'MultipleLines']),\n",
       "                                                                        ('num',\n",
       "                                                                         Pipeline(steps=[('impu...\n",
       "                                                                                             OrdinalEncoder(handle_unknown='use_encoded_value',\n",
       "                                                                                                            unknown_value=-1))]),\n",
       "                                                                            ['Type',\n",
       "                                                                             'PaperlessBilling',\n",
       "                                                                             'PaymentMethod',\n",
       "                                                                             'InternetService',\n",
       "                                                                             'MultipleLines']),\n",
       "                                                                           ('num',\n",
       "                                                                            Pipeline(steps=[('imputer',\n",
       "                                                                                             SimpleImputer(strategy='median')),\n",
       "                                                                                            ('scaler',\n",
       "                                                                                             'passthrough')]),\n",
       "                                                                            ['MonthlyCharges',\n",
       "                                                                             'TotalCharges',\n",
       "                                                                             'ContractDuration',\n",
       "                                                                             'NumberOfInternetServices',\n",
       "                                                                             'HasInternet'])])]}],\n",
       "             scoring=make_scorer(roc_auc_score, needs_proba=True))"
      ]
     },
     "execution_count": 46,
     "metadata": {},
     "output_type": "execute_result"
    }
   ],
   "source": [
    "grid_search.fit(X_train, y_train)"
   ]
  },
  {
   "cell_type": "markdown",
   "id": "f182376f",
   "metadata": {},
   "source": [
    "### Получение результатов обучения"
   ]
  },
  {
   "cell_type": "markdown",
   "id": "3f896335",
   "metadata": {},
   "source": [
    "После подбора гиперпараметров с помощью GridSearchCV получена лучшая модель, показавшая наилучшее значение метрики `ROC_AUC` при кросс-валидации."
   ]
  },
  {
   "cell_type": "code",
   "execution_count": 47,
   "id": "9dafc125",
   "metadata": {},
   "outputs": [
    {
     "name": "stdout",
     "output_type": "stream",
     "text": [
      "Лучшая модель и её параметры:\n",
      "\n",
      " Pipeline(steps=[('preprocessor',\n",
      "                 ColumnTransformer(transformers=[('cat',\n",
      "                                                  Pipeline(steps=[('imputer',\n",
      "                                                                   SimpleImputer(strategy='most_frequent')),\n",
      "                                                                  ('ordinal',\n",
      "                                                                   OrdinalEncoder(handle_unknown='use_encoded_value',\n",
      "                                                                                  unknown_value=-1))]),\n",
      "                                                  ['Type', 'PaperlessBilling',\n",
      "                                                   'PaymentMethod',\n",
      "                                                   'InternetService',\n",
      "                                                   'MultipleLines']),\n",
      "                                                 ('num',\n",
      "                                                  Pipeline(steps=[('imputer',\n",
      "                                                                   SimpleImputer(strategy='median')),\n",
      "                                                                  ('scaler',\n",
      "                                                                   'passthrough')]),\n",
      "                                                  ['MonthlyCharges',\n",
      "                                                   'TotalCharges',\n",
      "                                                   'ContractDuration',\n",
      "                                                   'NumberOfInternetServices',\n",
      "                                                   'HasInternet'])])),\n",
      "                ('model',\n",
      "                 <catboost.core.CatBoostClassifier object at 0x7f4722bd98b0>)])\n",
      "Лучшие параметры модели:  {'model': <catboost.core.CatBoostClassifier object at 0x7f4722bb6e80>, 'model__depth': 4, 'model__learning_rate': 0.1, 'preprocessor': ColumnTransformer(transformers=[('cat',\n",
      "                                 Pipeline(steps=[('imputer',\n",
      "                                                  SimpleImputer(strategy='most_frequent')),\n",
      "                                                 ('ordinal',\n",
      "                                                  OrdinalEncoder(handle_unknown='use_encoded_value',\n",
      "                                                                 unknown_value=-1))]),\n",
      "                                 ['Type', 'PaperlessBilling', 'PaymentMethod',\n",
      "                                  'InternetService', 'MultipleLines']),\n",
      "                                ('num',\n",
      "                                 Pipeline(steps=[('imputer',\n",
      "                                                  SimpleImputer(strategy='median')),\n",
      "                                                 ('scaler', 'passthrough')]),\n",
      "                                 ['MonthlyCharges', 'TotalCharges',\n",
      "                                  'ContractDuration',\n",
      "                                  'NumberOfInternetServices', 'HasInternet'])])}\n",
      "Метрика лучшей модели на тренировочной выборке: 0.9201855770027411\n"
     ]
    }
   ],
   "source": [
    "print('Лучшая модель и её параметры:\\n\\n', grid_search.best_estimator_)\n",
    "print('Лучшие параметры модели: ', grid_search.best_params_)\n",
    "print ('Метрика лучшей модели на тренировочной выборке:', grid_search.best_score_)"
   ]
  },
  {
   "cell_type": "markdown",
   "id": "e8c230a0",
   "metadata": {},
   "source": [
    "Лучшая модель: `CatBoostClassifier` с `model__depth` = 4, `model__learning_rate` = 0.1.\n",
    "\n",
    "Препроцессинг через `OrdinalEncoder`\n",
    "\n",
    "Метрика `ROC_AUC` на обучающей выборке: **0.92** — высокая способность модели различать клиентов, склонных к оттоку."
   ]
  },
  {
   "cell_type": "markdown",
   "id": "9234030e",
   "metadata": {},
   "source": [
    "### Промежуточный вывод"
   ]
  },
  {
   "cell_type": "markdown",
   "id": "165abe05",
   "metadata": {},
   "source": [
    "На этапе обучения были протестированы три модели машинного обучения с различными алгоритмами: логистическая регрессия, дерево решений и CatBoost. \n",
    "\n",
    "По результатам обучения лучшей оказалась модель `CatBoostClassifier` с параметрами:\n",
    "\n",
    " - depth = 4\n",
    "\n",
    " - learning_rate = 0.1\n",
    "\n",
    " - препроцессинг через `OrdinalEncoder`\n",
    "\n",
    "Модель показала высокое качество классификации на обучающей выборке:\n",
    "\n",
    "`ROC_AUC` = **0.92**"
   ]
  },
  {
   "cell_type": "markdown",
   "id": "0f36fc71",
   "metadata": {},
   "source": [
    "<a id=\"section7\"></a> \n",
    "## Оценка лучшей модели"
   ]
  },
  {
   "cell_type": "markdown",
   "id": "c0c4a418",
   "metadata": {},
   "source": [
    "### Получение предсказаний на тестовой выборке"
   ]
  },
  {
   "cell_type": "markdown",
   "id": "38c3d458",
   "metadata": {},
   "source": [
    "После выбора лучшей модели производится проверка её качества на тестовой выборке, которая не участвовала в обучении и подборе параметров. Это позволяет объективно оценить обобщающую способность модели на новых данных."
   ]
  },
  {
   "cell_type": "code",
   "execution_count": 48,
   "id": "1e007222",
   "metadata": {},
   "outputs": [
    {
     "name": "stdout",
     "output_type": "stream",
     "text": [
      "Метрика ROC-AUC на тестовой выборке: 0.9026\n"
     ]
    }
   ],
   "source": [
    "y_pred = grid_search.predict_proba(X_test)[:, 1]\n",
    "print(f'Метрика ROC-AUC на тестовой выборке: {roc_auc_score(y_test, y_pred):.4f}')"
   ]
  },
  {
   "cell_type": "markdown",
   "id": "0c4d1e09",
   "metadata": {},
   "source": [
    "Итоговая модель `CatBoostClassifier`, обученная с учётом дисбаланса классов и с подобранными гиперпараметрами показала высокую стабильность:\n",
    "\n",
    " - `ROC_AUC` на обучающей выборке: 0.92\n",
    "\n",
    " - `ROC_AUC` на тестовой выборке: 0.90\n",
    "\n",
    "Это говорит о том, что модель не переобучена, сохраняет высокую способность к распознаванию клиентов, склонных к оттоку."
   ]
  },
  {
   "cell_type": "markdown",
   "id": "5a4f5665",
   "metadata": {},
   "source": [
    "### Accuracy на тестовой выборке"
   ]
  },
  {
   "cell_type": "markdown",
   "id": "0f425466",
   "metadata": {},
   "source": [
    "Помимо метрики `ROC_AUC`, дополнительно оценим долю правильных предсказаний `accuracy` — то есть, сколько объектов модель классифицировала верно."
   ]
  },
  {
   "cell_type": "code",
   "execution_count": 49,
   "id": "33f2449d",
   "metadata": {},
   "outputs": [
    {
     "name": "stdout",
     "output_type": "stream",
     "text": [
      "Accuracy на тестовой выборке: 0.9290\n"
     ]
    }
   ],
   "source": [
    "y_class_pred = grid_search.predict(X_test)\n",
    "print(f'Accuracy на тестовой выборке: {accuracy_score(y_test, y_class_pred):.4f}')"
   ]
  },
  {
   "cell_type": "markdown",
   "id": "15854c38",
   "metadata": {},
   "source": [
    "Это означает, что модель правильно предсказала поведение клиентов в **93%** случаев"
   ]
  },
  {
   "cell_type": "markdown",
   "id": "72abf08a",
   "metadata": {},
   "source": [
    "### Оценка выбранной модели на \"адекватность\""
   ]
  },
  {
   "cell_type": "markdown",
   "id": "8aae0cc5",
   "metadata": {},
   "source": [
    "Для оценки адекватности модели была обучена простейшая модель — `DummyClassifier`, которая всегда предсказывает наиболее частый класс. Это позволяет понять, насколько выбранная модель превосходит наивный подход."
   ]
  },
  {
   "cell_type": "code",
   "execution_count": 50,
   "id": "b7ed69af",
   "metadata": {},
   "outputs": [
    {
     "name": "stdout",
     "output_type": "stream",
     "text": [
      "Метрика ROC_AUC DummyClassifier: 0.5000\n",
      "Метрика accuracy DummyClassifier: 0.8438\n"
     ]
    }
   ],
   "source": [
    "dummy_model = DummyClassifier(strategy='most_frequent', random_state=RANDOM_STATE)\n",
    "dummy_model.fit(X_train, y_train)\n",
    "\n",
    "y_dummy_pred_proba = dummy_model.predict_proba(X_test)[:, 1]\n",
    "y_dummy_pred = dummy_model.predict(X_test)\n",
    "\n",
    "print(f'Метрика ROC_AUC DummyClassifier: {roc_auc_score(y_test, y_dummy_pred_proba):.4f}')\n",
    "print(f'Метрика accuracy DummyClassifier: {accuracy_score(y_test, y_dummy_pred):.4f}')"
   ]
  },
  {
   "cell_type": "markdown",
   "id": "205224ea",
   "metadata": {},
   "source": [
    "Модель `CatBoost` существенно превосходит наивную стратегию как по метрике `ROC_AUC`, так и по точности. Это подтверждает её обученность и практическую значимость."
   ]
  },
  {
   "cell_type": "markdown",
   "id": "42734724",
   "metadata": {},
   "source": [
    "### Анализ важности признаков"
   ]
  },
  {
   "cell_type": "markdown",
   "id": "c34d60a2",
   "metadata": {},
   "source": [
    "После обучения и оценки модели важно понять, какие признаки оказали наибольшее влияние на принятие решений моделью. Это позволяет не только повысить доверие к модели, но и выявить ключевые факторы, влияющие на отток клиентов.\n",
    "\n",
    "Для этого был проведён анализ важности признаков с использованием метода `SHAP`. Он позволяет интерпретировать модель, показывая, как каждый признак влияет на вероятность оттока для конкретного клиента."
   ]
  },
  {
   "cell_type": "code",
   "execution_count": 51,
   "id": "8a00a2f9",
   "metadata": {},
   "outputs": [
    {
     "data": {
      "image/png": "[encoded data removed]",
      "text/plain": [
       "<Figure size 576x396 with 2 Axes>"
      ]
     },
     "metadata": {
      "needs_background": "light"
     },
     "output_type": "display_data"
    }
   ],
   "source": [
    "best_model = grid_search.best_estimator_\n",
    "catboost_model = best_model.named_steps['model']\n",
    "preprocessor = best_model.named_steps['preprocessor']\n",
    "\n",
    "X_train_preprocessed = preprocessor.fit_transform(X_train)\n",
    "X_test_preprocessed = preprocessor.transform(X_test)\n",
    "\n",
    "try:\n",
    "    ohe_features = preprocessor.transformers_[0][1].named_steps['ohe'].get_feature_names_out(cat_columns)\n",
    "    num_features_final = num_columns\n",
    "    feature_names = list(ohe_features) + list(num_features_final)\n",
    "except KeyError:\n",
    "    feature_names = cat_columns + num_columns\n",
    "\n",
    "explainer = shap.TreeExplainer(catboost_model)\n",
    "shap_values = explainer.shap_values(X_test_preprocessed)\n",
    "\n",
    "plt.figure(figsize=(10, 6))\n",
    "shap.summary_plot(\n",
    "    shap_values, \n",
    "    features=X_test_preprocessed, \n",
    "    feature_names=feature_names, \n",
    "    show=False\n",
    ")\n",
    "plt.title(\"Важность признаков по SHAP\", fontsize=14)\n",
    "plt.xlabel(\"SHAP значение (влияние на вероятность оттока)\")\n",
    "plt.ylabel(\"Признаки\")\n",
    "plt.tight_layout()\n",
    "plt.show()"
   ]
  },
  {
   "cell_type": "markdown",
   "id": "86728c4d",
   "metadata": {},
   "source": [
    "**Основные выводы:**\n",
    " - `ContractDuration`: Этот признак имеет наибольшее влияние на вероятность оттока. Чем дольше срок контракта, тем меньше вероятность оттока.\n",
    "\n",
    " - `TotalCharges`: высокие значения этого признака снижают вероятность оттока, а низкие значения увеличивают её.\n",
    "\n",
    " - `Type`: тип контракта также оказывает значительное влияние. Например, определённые типы контрактов могут быть связаны с более высокой вероятностью оттока.\n",
    "\n",
    " - `MonthlyCharges`: высокие ежемесячные платежи увеличивают вероятность оттока, а низкие платежи снижают её.\n",
    "\n",
    " - `MultipleLines`: наличие нескольких линий связи может снижать вероятность оттока, в то время как отсутствие увеличивает её.\n",
    "\n",
    " - `PaymentMethod`: метод оплаты также влияет на отток. Например, определённые методы могут быть связаны с более низкой вероятностью оттока.\n",
    "\n",
    " - `NumberOfInternetServices`: количество интернет-услуг влияет на вероятность оттока. Большее количество услуг (синие точки) снижает вероятность оттока.\n",
    "\n",
    " - `PaperlessBilling`: безбумажный биллинг может снижать вероятность оттока, а традиционный биллинг увеличивает её.\n",
    "\n",
    " - `HasInternet`: наличие интернета снижает вероятность оттока, а его отсутствие увеличивает её.\n",
    "\n",
    " - `InternetService`: тип интернет-услуги также влияет на отток. Например, определённые услуги могут быть связаны с более низкой вероятностью оттока."
   ]
  },
  {
   "cell_type": "markdown",
   "id": "418bd7b5",
   "metadata": {},
   "source": [
    "### Анализ матрицы ошибок"
   ]
  },
  {
   "cell_type": "markdown",
   "id": "661184aa",
   "metadata": {},
   "source": [
    "Для дополнительной оценки качества модели был построен анализ матрицы ошибок. Этот инструмент позволяет увидеть, как именно модель классифицирует клиентов: кого она определяет верно, а где может ошибаться.\n",
    "\n",
    " - True Positive (TP) — модель правильно предсказала, что клиент уйдёт.\n",
    "\n",
    " - True Negative (TN) — модель правильно предсказала, что клиент останется.\n",
    "\n",
    " - False Positive (FP) — модель ошибочно посчитала, что клиент уйдёт (на самом деле остался).\n",
    "\n",
    " - False Negative (FN) — модель не предсказала отток, хотя клиент ушёл (самая критичная ошибка)."
   ]
  },
  {
   "cell_type": "code",
   "execution_count": 52,
   "id": "ac0818db",
   "metadata": {},
   "outputs": [
    {
     "data": {
      "image/png": "[encoded data removed]",
      "text/plain": [
       "<Figure size 432x288 with 2 Axes>"
      ]
     },
     "metadata": {
      "needs_background": "light"
     },
     "output_type": "display_data"
    }
   ],
   "source": [
    "cm = confusion_matrix(y_test, y_class_pred)\n",
    "disp = ConfusionMatrixDisplay(confusion_matrix=cm, display_labels=grid_search.best_estimator_.named_steps['model'].classes_)\n",
    "disp.plot(cmap='Blues', values_format='d')\n",
    "plt.title('Матрица ошибок (Confusion Matrix)')\n",
    "plt.show()"
   ]
  },
  {
   "cell_type": "markdown",
   "id": "67506ea4",
   "metadata": {},
   "source": [
    "**Интерпретация результатов:**\n",
    " - 1471 клиентов модель правильно определила как лояльных — они остались, и модель это предсказала.\n",
    "\n",
    " - 165 клиента модель правильно определила как тех, кто уйдёт — это самая важная группа для удержания.\n",
    "\n",
    " - 110 случая — клиенты ушли, но модель это не предсказала (ошибка 2-го рода). Это критичная ошибка, так как компания теряет клиента неожиданно.\n",
    "\n",
    " - 15 случай — модель ошибочно посчитала, что клиент уйдёт, но он остался. Эта ошибка менее опасна: она может привести к ненужным усилиям по удержанию, но не к прямым потерям."
   ]
  },
  {
   "cell_type": "code",
   "execution_count": 53,
   "id": "2fc11239",
   "metadata": {},
   "outputs": [
    {
     "name": "stdout",
     "output_type": "stream",
     "text": [
      "              precision    recall  f1-score   support\n",
      "\n",
      "     Остался       0.93      0.99      0.96      1486\n",
      "        Ушёл       0.92      0.60      0.73       275\n",
      "\n",
      "    accuracy                           0.93      1761\n",
      "   macro avg       0.92      0.79      0.84      1761\n",
      "weighted avg       0.93      0.93      0.92      1761\n",
      "\n"
     ]
    }
   ],
   "source": [
    "print(classification_report(y_test, y_class_pred, target_names=['Остался', 'Ушёл']))"
   ]
  },
  {
   "cell_type": "markdown",
   "id": "89cce2e0",
   "metadata": {},
   "source": [
    "Модель хорошо справляется с задачей классификации, особенно с учётом дисбаланса классов (85% остались, 15% ушли).\n",
    "\n",
    "**Основные выводы**:\n",
    "\n",
    " - Модель отлично распознаёт клиентов, которые остаются `recall` = 0.99.\n",
    "\n",
    " - Для клиентов, которые уходят, модель работает с умеренной полнотой `recall` = 0.6, но с достаточно высокой точностью `precision` = 0.92.\n",
    "\n",
    " - Метрика `F1-score` для ушедших клиентов — 0.73 — показывает сбалансированную способность модели выявлять редкий, но важный класс."
   ]
  },
  {
   "cell_type": "markdown",
   "id": "5b03a43b",
   "metadata": {},
   "source": [
    "### Промежуточный вывод"
   ]
  },
  {
   "cell_type": "markdown",
   "id": "486dd682",
   "metadata": {},
   "source": [
    "Проведённая оценка финальной модели `CatBoostClassifier`, обученной с учётом дисбаланса классов и подобранными гиперпараметрами, показала высокую эффективность и устойчивость к новым данным.\n",
    "\n",
    "`ROC_AUC` на тесте составил **0.9**, что говорит о способности модели уверенно различать клиентов, склонных к оттоку, и лояльных.\n",
    "\n",
    "Точность `accuracy` составила **93%**, что означает, что модель верно классифицировала поведение клиентов в большинстве случаев.\n",
    "\n",
    "В сравнении с наивной моделью `DummyClassifier`, `ROC_AUC` = **0.500**, `Accuracy` = **84.4%** модель `CatBoost` показывает значительное улучшение качества.\n",
    "\n",
    "Также был выполнен анализ важности признаков с использованием `SHAP`. Выявлены ключевые факторы, влияющие на отток:\n",
    "\n",
    " - Длительность контракта и тип подключения являются сильными предикторами лояльности.\n",
    "\n",
    " - Высокие ежемесячные платежи, использование электронных чеков и отсутствие дополнительных услуг — признаки, повышающие риск ухода.\n",
    "\n",
    "Матрица ошибок подтвердила, что модель надежно определяет лояльных клиентов, но может допускать ошибки второго рода (не распознанный уход). Тем не менее, уровень таких ошибок является приемлемым для практического применения."
   ]
  },
  {
   "cell_type": "markdown",
   "id": "14e699da",
   "metadata": {},
   "source": [
    "<a id=\"section8\"></a> \n",
    "## Общий вывод"
   ]
  },
  {
   "cell_type": "markdown",
   "id": "44603a3a",
   "metadata": {},
   "source": [
    "### Вывод по проекту"
   ]
  },
  {
   "cell_type": "markdown",
   "id": "1184774d",
   "metadata": {},
   "source": [
    "В ходе данного проекта была успешно реализована машинного обучения для прогнозирования оттока клиентов телекоммуникационной компании. Работа охватывала весь жизненный цикл ML-проекта — от первичной обработки данных до анализа результатов и разработки рекомендаций.\n",
    "\n",
    "**Основные этапы проекта:**\n",
    "\n",
    " - Проведена тщательная предобработка данных: удалены неинформативные признаки, обработаны пропуски, категориальные признаки закодированы, числовые — масштабированы.\n",
    "\n",
    " - Сформирован pipeline обработки данных и обучения модели, что обеспечивает повторяемость и масштабируемость решений.\n",
    "\n",
    " - Проведён сравнительный анализ трёх моделей: логистической регрессии, дерева решений и градиентного бустинга (CatBoost).\n",
    "\n",
    " - В результате отбора гиперпараметров с использованием `GridSearchCV` лучшей признана модель `CatBoostClassifier`, которая:\n",
    "\n",
    "   - демонстрирует высокую устойчивость и отличную обобщающую способность (`ROC-AUC` на тесте = **0.9**, `accuracy` = **93%**);\n",
    "\n",
    "   - показывает существенное превосходство над наивной моделью (`DummyClassifier`: `ROC-AUC` = 0.50, `accuracy` = 84.4%).\n",
    "\n",
    " - Проведён `SHAP-анализ` важности признаков, позволяющий интерпретировать модель и обосновывать бизнес-решения.\n",
    "\n",
    " - Выполнен анализ ошибок классификации с помощью матрицы ошибок и отчёта по метрикам `(precision, recall, f1-score)`, выявлены слабые места модели (ошибки 2-ого рода).\n",
    "\n",
    "Таким образом, модель готова к интеграции в производственные процессы и может использоваться для предсказания риска оттока клиентов с высокой точностью и интерпретируемостью."
   ]
  },
  {
   "cell_type": "markdown",
   "id": "49b9fe7b",
   "metadata": {},
   "source": [
    "### Рекомендации заказчику"
   ]
  },
  {
   "cell_type": "markdown",
   "id": "3ef6a84f",
   "metadata": {},
   "source": [
    "**Рекомендации для бизнеса**\n",
    "\n",
    " - Сегментировать клиентов по вероятности оттока, используя разработанную модель. Для группы высокого риска запускать программы удержания.\n",
    "\n",
    " - Автоматизировать мониторинг ключевых факторов риска, выявленных моделью:\n",
    "\n",
    "   - Контракты менее 1 года,\n",
    "\n",
    "   - Нет дополнительных услуг,\n",
    "\n",
    "   - Способ оплаты: электронный чек,\n",
    "\n",
    "   - Высокий `MonthlyСharges` при низком `TotalCharges`.\n",
    "\n",
    " - Разработать меры лояльности:\n",
    "\n",
    "   - Предлагать выгодные условия продления контракта на 1–2 года,\n",
    "\n",
    "   - Кросс-продажи дополнительных услуг (техподдержка, резервное копирование и др.),\n",
    "\n",
    "   - Персонализированные скидки или бонусы для клиентов с высоким риском ухода.\n",
    "\n",
    "Регулярно переобучать модель на новых данных, чтобы сохранить её актуальность в условиях меняющегося поведения клиентов."
   ]
  }
 ],
 "metadata": {
  "ExecuteTimeLog": [
   {
    "duration": 1436,
    "start_time": "2025-06-03T19:15:29.800Z"
   },
   {
    "duration": 3284,
    "start_time": "2025-06-03T19:16:26.413Z"
   },
   {
    "duration": 471,
    "start_time": "2025-06-03T19:16:31.353Z"
   },
   {
    "duration": 123,
    "start_time": "2025-06-03T19:17:12.929Z"
   },
   {
    "duration": 77,
    "start_time": "2025-06-03T19:17:28.874Z"
   },
   {
    "duration": 84,
    "start_time": "2025-06-03T19:25:13.057Z"
   },
   {
    "duration": 89,
    "start_time": "2025-06-03T19:27:07.307Z"
   },
   {
    "duration": 2283,
    "start_time": "2025-06-03T19:31:23.430Z"
   },
   {
    "duration": 1561,
    "start_time": "2025-06-03T19:31:25.715Z"
   },
   {
    "duration": 100,
    "start_time": "2025-06-03T19:31:27.278Z"
   },
   {
    "duration": 30,
    "start_time": "2025-06-03T19:38:22.942Z"
   },
   {
    "duration": 43,
    "start_time": "2025-06-03T19:40:19.669Z"
   },
   {
    "duration": 55,
    "start_time": "2025-06-03T19:41:18.557Z"
   },
   {
    "duration": 56,
    "start_time": "2025-06-03T20:00:41.794Z"
   },
   {
    "duration": 56,
    "start_time": "2025-06-03T20:04:36.403Z"
   },
   {
    "duration": 57,
    "start_time": "2025-06-03T20:05:05.976Z"
   },
   {
    "duration": 57,
    "start_time": "2025-06-03T20:05:12.720Z"
   },
   {
    "duration": 8,
    "start_time": "2025-06-03T21:06:44.552Z"
   },
   {
    "duration": 7,
    "start_time": "2025-06-03T21:06:48.435Z"
   },
   {
    "duration": 103,
    "start_time": "2025-06-03T21:29:16.570Z"
   },
   {
    "duration": 11,
    "start_time": "2025-06-03T21:29:26.907Z"
   },
   {
    "duration": 6,
    "start_time": "2025-06-03T21:29:34.529Z"
   },
   {
    "duration": 3382,
    "start_time": "2025-06-06T12:16:58.344Z"
   },
   {
    "duration": 1753,
    "start_time": "2025-06-06T12:17:01.728Z"
   },
   {
    "duration": 108,
    "start_time": "2025-06-06T12:17:03.482Z"
   },
   {
    "duration": 76,
    "start_time": "2025-06-06T12:17:03.592Z"
   },
   {
    "duration": 122,
    "start_time": "2025-06-06T12:17:03.675Z"
   },
   {
    "duration": 22,
    "start_time": "2025-06-06T12:17:57.078Z"
   },
   {
    "duration": 10,
    "start_time": "2025-06-06T15:12:50.214Z"
   },
   {
    "duration": 20,
    "start_time": "2025-06-06T15:13:26.761Z"
   },
   {
    "duration": 16,
    "start_time": "2025-06-06T15:15:03.107Z"
   },
   {
    "duration": 3534,
    "start_time": "2025-06-07T23:13:50.563Z"
   },
   {
    "duration": 1777,
    "start_time": "2025-06-07T23:13:54.100Z"
   },
   {
    "duration": 109,
    "start_time": "2025-06-07T23:13:55.879Z"
   },
   {
    "duration": 81,
    "start_time": "2025-06-07T23:13:55.990Z"
   },
   {
    "duration": 19,
    "start_time": "2025-06-07T23:13:56.073Z"
   },
   {
    "duration": 27,
    "start_time": "2025-06-07T23:13:56.094Z"
   },
   {
    "duration": 132,
    "start_time": "2025-06-07T23:21:00.878Z"
   },
   {
    "duration": 12,
    "start_time": "2025-06-07T23:21:08.960Z"
   },
   {
    "duration": 18,
    "start_time": "2025-06-07T23:21:15.234Z"
   },
   {
    "duration": 6,
    "start_time": "2025-06-07T23:22:15.307Z"
   },
   {
    "duration": 11,
    "start_time": "2025-06-07T23:23:37.859Z"
   },
   {
    "duration": 11,
    "start_time": "2025-06-07T23:24:18.204Z"
   },
   {
    "duration": 17,
    "start_time": "2025-06-07T23:25:27.633Z"
   },
   {
    "duration": 14,
    "start_time": "2025-06-07T23:26:34.536Z"
   },
   {
    "duration": 18,
    "start_time": "2025-06-07T23:26:56.709Z"
   },
   {
    "duration": 17,
    "start_time": "2025-06-07T23:27:06.793Z"
   },
   {
    "duration": 2560,
    "start_time": "2025-06-07T23:27:12.469Z"
   },
   {
    "duration": 1661,
    "start_time": "2025-06-07T23:27:15.032Z"
   },
   {
    "duration": 107,
    "start_time": "2025-06-07T23:27:16.695Z"
   },
   {
    "duration": 71,
    "start_time": "2025-06-07T23:27:16.804Z"
   },
   {
    "duration": 6,
    "start_time": "2025-06-07T23:27:16.877Z"
   },
   {
    "duration": 19,
    "start_time": "2025-06-07T23:27:16.884Z"
   },
   {
    "duration": 26,
    "start_time": "2025-06-07T23:27:16.905Z"
   },
   {
    "duration": 17,
    "start_time": "2025-06-07T23:27:35.965Z"
   },
   {
    "duration": 2555,
    "start_time": "2025-06-07T23:34:01.594Z"
   },
   {
    "duration": 1639,
    "start_time": "2025-06-07T23:34:04.151Z"
   },
   {
    "duration": 97,
    "start_time": "2025-06-07T23:34:05.791Z"
   },
   {
    "duration": 64,
    "start_time": "2025-06-07T23:34:05.890Z"
   },
   {
    "duration": 7,
    "start_time": "2025-06-07T23:34:05.972Z"
   },
   {
    "duration": 11,
    "start_time": "2025-06-07T23:34:05.980Z"
   },
   {
    "duration": 27,
    "start_time": "2025-06-07T23:34:05.992Z"
   },
   {
    "duration": 6,
    "start_time": "2025-06-07T23:38:01.138Z"
   },
   {
    "duration": 8,
    "start_time": "2025-06-07T23:38:28.467Z"
   },
   {
    "duration": 14,
    "start_time": "2025-06-07T23:44:26.308Z"
   },
   {
    "duration": 26,
    "start_time": "2025-06-07T23:48:25.424Z"
   },
   {
    "duration": 15,
    "start_time": "2025-06-07T23:49:00.236Z"
   },
   {
    "duration": 13,
    "start_time": "2025-06-08T00:07:15.241Z"
   },
   {
    "duration": 114,
    "start_time": "2025-06-08T00:16:13.232Z"
   },
   {
    "duration": 25,
    "start_time": "2025-06-08T00:28:15.370Z"
   },
   {
    "duration": 4,
    "start_time": "2025-06-08T00:31:05.916Z"
   },
   {
    "duration": 22,
    "start_time": "2025-06-08T00:31:07.085Z"
   },
   {
    "duration": 93,
    "start_time": "2025-06-08T00:31:25.941Z"
   },
   {
    "duration": 25,
    "start_time": "2025-06-08T00:32:38.233Z"
   },
   {
    "duration": 24,
    "start_time": "2025-06-08T00:33:57.681Z"
   },
   {
    "duration": 65,
    "start_time": "2025-06-08T14:36:32.645Z"
   },
   {
    "duration": 62,
    "start_time": "2025-06-08T15:22:25.357Z"
   },
   {
    "duration": 3550,
    "start_time": "2025-06-08T15:22:31.460Z"
   },
   {
    "duration": 1780,
    "start_time": "2025-06-08T15:22:35.013Z"
   },
   {
    "duration": 97,
    "start_time": "2025-06-08T15:22:36.795Z"
   },
   {
    "duration": 67,
    "start_time": "2025-06-08T15:22:36.894Z"
   },
   {
    "duration": 6,
    "start_time": "2025-06-08T15:22:36.964Z"
   },
   {
    "duration": 38,
    "start_time": "2025-06-08T15:22:36.973Z"
   },
   {
    "duration": 38,
    "start_time": "2025-06-08T15:22:37.013Z"
   },
   {
    "duration": 26,
    "start_time": "2025-06-08T15:22:37.053Z"
   },
   {
    "duration": 22,
    "start_time": "2025-06-08T15:22:37.082Z"
   },
   {
    "duration": 14,
    "start_time": "2025-06-08T15:22:37.106Z"
   },
   {
    "duration": 17,
    "start_time": "2025-06-08T15:22:37.121Z"
   },
   {
    "duration": 38,
    "start_time": "2025-06-08T15:22:37.140Z"
   },
   {
    "duration": 30,
    "start_time": "2025-06-08T15:22:37.179Z"
   },
   {
    "duration": 26,
    "start_time": "2025-06-08T15:22:37.212Z"
   },
   {
    "duration": 15,
    "start_time": "2025-06-08T15:23:15.069Z"
   },
   {
    "duration": 25,
    "start_time": "2025-06-08T15:23:25.525Z"
   },
   {
    "duration": 2588,
    "start_time": "2025-06-08T15:34:49.670Z"
   },
   {
    "duration": 1516,
    "start_time": "2025-06-08T15:34:52.261Z"
   },
   {
    "duration": 111,
    "start_time": "2025-06-08T15:34:53.779Z"
   },
   {
    "duration": 66,
    "start_time": "2025-06-08T15:34:53.892Z"
   },
   {
    "duration": 6,
    "start_time": "2025-06-08T15:34:53.960Z"
   },
   {
    "duration": 11,
    "start_time": "2025-06-08T15:34:53.967Z"
   },
   {
    "duration": 28,
    "start_time": "2025-06-08T15:34:53.980Z"
   },
   {
    "duration": 15,
    "start_time": "2025-06-08T15:34:54.010Z"
   },
   {
    "duration": 17,
    "start_time": "2025-06-08T15:34:54.027Z"
   },
   {
    "duration": 13,
    "start_time": "2025-06-08T15:34:54.047Z"
   },
   {
    "duration": 3,
    "start_time": "2025-06-08T15:34:54.061Z"
   },
   {
    "duration": 51,
    "start_time": "2025-06-08T15:34:54.066Z"
   },
   {
    "duration": 23,
    "start_time": "2025-06-08T15:34:54.119Z"
   },
   {
    "duration": 27,
    "start_time": "2025-06-08T15:34:54.146Z"
   },
   {
    "duration": 13,
    "start_time": "2025-06-08T15:34:54.205Z"
   },
   {
    "duration": 50,
    "start_time": "2025-06-08T15:34:54.220Z"
   },
   {
    "duration": 13,
    "start_time": "2025-06-08T15:36:25.145Z"
   },
   {
    "duration": 20,
    "start_time": "2025-06-08T15:36:25.920Z"
   },
   {
    "duration": 52,
    "start_time": "2025-06-08T15:49:09.811Z"
   },
   {
    "duration": 11,
    "start_time": "2025-06-08T16:45:07.460Z"
   },
   {
    "duration": 7,
    "start_time": "2025-06-08T16:49:54.544Z"
   },
   {
    "duration": 4,
    "start_time": "2025-06-08T16:57:57.810Z"
   },
   {
    "duration": 8,
    "start_time": "2025-06-08T17:02:40.522Z"
   },
   {
    "duration": 4,
    "start_time": "2025-06-08T17:11:57.778Z"
   },
   {
    "duration": 4,
    "start_time": "2025-06-08T17:13:24.991Z"
   },
   {
    "duration": 140,
    "start_time": "2025-06-08T17:14:03.152Z"
   },
   {
    "duration": 597,
    "start_time": "2025-06-08T17:14:08.933Z"
   },
   {
    "duration": 2554,
    "start_time": "2025-06-08T17:18:07.340Z"
   },
   {
    "duration": 56,
    "start_time": "2025-06-08T17:25:28.210Z"
   },
   {
    "duration": 5,
    "start_time": "2025-06-08T17:28:30.755Z"
   },
   {
    "duration": 14,
    "start_time": "2025-06-08T17:29:06.277Z"
   },
   {
    "duration": 23,
    "start_time": "2025-06-08T17:29:12.203Z"
   },
   {
    "duration": 15,
    "start_time": "2025-06-08T17:29:22.293Z"
   },
   {
    "duration": 2900,
    "start_time": "2025-06-08T17:29:28.937Z"
   },
   {
    "duration": 1651,
    "start_time": "2025-06-08T17:29:31.840Z"
   },
   {
    "duration": 100,
    "start_time": "2025-06-08T17:29:33.493Z"
   },
   {
    "duration": 78,
    "start_time": "2025-06-08T17:29:33.595Z"
   },
   {
    "duration": 7,
    "start_time": "2025-06-08T17:29:33.675Z"
   },
   {
    "duration": 12,
    "start_time": "2025-06-08T17:29:33.705Z"
   },
   {
    "duration": 17,
    "start_time": "2025-06-08T17:29:33.721Z"
   },
   {
    "duration": 14,
    "start_time": "2025-06-08T17:29:33.739Z"
   },
   {
    "duration": 22,
    "start_time": "2025-06-08T17:29:33.755Z"
   },
   {
    "duration": 28,
    "start_time": "2025-06-08T17:29:33.779Z"
   },
   {
    "duration": 175,
    "start_time": "2025-06-08T17:29:33.810Z"
   },
   {
    "duration": 0,
    "start_time": "2025-06-08T17:29:33.987Z"
   },
   {
    "duration": 0,
    "start_time": "2025-06-08T17:29:33.988Z"
   },
   {
    "duration": 0,
    "start_time": "2025-06-08T17:29:33.990Z"
   },
   {
    "duration": 0,
    "start_time": "2025-06-08T17:29:33.992Z"
   },
   {
    "duration": 0,
    "start_time": "2025-06-08T17:29:34.008Z"
   },
   {
    "duration": 0,
    "start_time": "2025-06-08T17:29:34.011Z"
   },
   {
    "duration": 0,
    "start_time": "2025-06-08T17:29:34.013Z"
   },
   {
    "duration": 1,
    "start_time": "2025-06-08T17:29:34.014Z"
   },
   {
    "duration": 0,
    "start_time": "2025-06-08T17:29:34.016Z"
   },
   {
    "duration": 0,
    "start_time": "2025-06-08T17:29:34.019Z"
   },
   {
    "duration": 0,
    "start_time": "2025-06-08T17:29:34.021Z"
   },
   {
    "duration": 0,
    "start_time": "2025-06-08T17:29:34.022Z"
   },
   {
    "duration": 0,
    "start_time": "2025-06-08T17:29:34.023Z"
   },
   {
    "duration": 14,
    "start_time": "2025-06-08T17:29:46.236Z"
   },
   {
    "duration": 7,
    "start_time": "2025-06-08T17:30:16.940Z"
   },
   {
    "duration": 2765,
    "start_time": "2025-06-08T17:30:25.733Z"
   },
   {
    "duration": 1672,
    "start_time": "2025-06-08T17:30:28.502Z"
   },
   {
    "duration": 107,
    "start_time": "2025-06-08T17:30:30.176Z"
   },
   {
    "duration": 253,
    "start_time": "2025-06-08T17:30:30.286Z"
   },
   {
    "duration": 9,
    "start_time": "2025-06-08T17:30:30.543Z"
   },
   {
    "duration": 33,
    "start_time": "2025-06-08T17:30:30.554Z"
   },
   {
    "duration": 10,
    "start_time": "2025-06-08T17:30:30.589Z"
   },
   {
    "duration": 32,
    "start_time": "2025-06-08T17:30:30.601Z"
   },
   {
    "duration": 20,
    "start_time": "2025-06-08T17:30:30.635Z"
   },
   {
    "duration": 45,
    "start_time": "2025-06-08T17:30:30.657Z"
   },
   {
    "duration": 28,
    "start_time": "2025-06-08T17:30:30.704Z"
   },
   {
    "duration": 46,
    "start_time": "2025-06-08T17:30:30.734Z"
   },
   {
    "duration": 59,
    "start_time": "2025-06-08T17:30:30.782Z"
   },
   {
    "duration": 206,
    "start_time": "2025-06-08T17:30:30.844Z"
   },
   {
    "duration": 66,
    "start_time": "2025-06-08T17:30:31.053Z"
   },
   {
    "duration": 18,
    "start_time": "2025-06-08T17:30:31.121Z"
   },
   {
    "duration": 62,
    "start_time": "2025-06-08T17:30:31.141Z"
   },
   {
    "duration": 20,
    "start_time": "2025-06-08T17:30:31.206Z"
   },
   {
    "duration": 28,
    "start_time": "2025-06-08T17:30:31.229Z"
   },
   {
    "duration": 29,
    "start_time": "2025-06-08T17:30:31.259Z"
   },
   {
    "duration": 8,
    "start_time": "2025-06-08T17:30:31.290Z"
   },
   {
    "duration": 9,
    "start_time": "2025-06-08T17:30:31.300Z"
   },
   {
    "duration": 31,
    "start_time": "2025-06-08T17:30:31.312Z"
   },
   {
    "duration": 2534,
    "start_time": "2025-06-08T17:30:31.345Z"
   },
   {
    "duration": 12,
    "start_time": "2025-06-08T19:23:47.643Z"
   },
   {
    "duration": 1318,
    "start_time": "2025-06-08T19:24:52.101Z"
   },
   {
    "duration": 16,
    "start_time": "2025-06-08T19:25:04.412Z"
   },
   {
    "duration": 14,
    "start_time": "2025-06-08T19:25:14.644Z"
   },
   {
    "duration": 15,
    "start_time": "2025-06-08T19:25:30.470Z"
   },
   {
    "duration": 6,
    "start_time": "2025-06-08T19:26:08.502Z"
   },
   {
    "duration": 5,
    "start_time": "2025-06-08T19:28:23.256Z"
   },
   {
    "duration": 33,
    "start_time": "2025-06-08T19:28:33.045Z"
   },
   {
    "duration": 9,
    "start_time": "2025-06-08T19:28:39.953Z"
   },
   {
    "duration": 31,
    "start_time": "2025-06-08T19:28:46.014Z"
   },
   {
    "duration": 11,
    "start_time": "2025-06-08T19:29:25.364Z"
   },
   {
    "duration": 7817,
    "start_time": "2025-06-08T19:37:04.621Z"
   },
   {
    "duration": 17,
    "start_time": "2025-06-08T20:27:47.323Z"
   },
   {
    "duration": 6,
    "start_time": "2025-06-08T20:27:55.066Z"
   },
   {
    "duration": 9,
    "start_time": "2025-06-08T20:35:39.313Z"
   },
   {
    "duration": 9,
    "start_time": "2025-06-08T20:36:26.593Z"
   },
   {
    "duration": 114,
    "start_time": "2025-06-08T20:39:08.771Z"
   },
   {
    "duration": 64,
    "start_time": "2025-06-08T21:00:16.252Z"
   },
   {
    "duration": 49,
    "start_time": "2025-06-09T15:11:16.374Z"
   },
   {
    "duration": 3680,
    "start_time": "2025-06-09T15:11:22.217Z"
   },
   {
    "duration": 1722,
    "start_time": "2025-06-09T15:11:25.899Z"
   },
   {
    "duration": 311,
    "start_time": "2025-06-09T15:11:27.623Z"
   },
   {
    "duration": 67,
    "start_time": "2025-06-09T15:11:27.936Z"
   },
   {
    "duration": 6,
    "start_time": "2025-06-09T15:11:28.005Z"
   },
   {
    "duration": 10,
    "start_time": "2025-06-09T15:11:28.012Z"
   },
   {
    "duration": 6,
    "start_time": "2025-06-09T15:11:28.024Z"
   },
   {
    "duration": 13,
    "start_time": "2025-06-09T15:11:28.032Z"
   },
   {
    "duration": 35,
    "start_time": "2025-06-09T15:11:28.046Z"
   },
   {
    "duration": 12,
    "start_time": "2025-06-09T15:11:28.083Z"
   },
   {
    "duration": 6,
    "start_time": "2025-06-09T15:11:28.097Z"
   },
   {
    "duration": 6,
    "start_time": "2025-06-09T15:11:28.104Z"
   },
   {
    "duration": 32,
    "start_time": "2025-06-09T15:11:28.112Z"
   },
   {
    "duration": 39,
    "start_time": "2025-06-09T15:11:28.145Z"
   },
   {
    "duration": 24,
    "start_time": "2025-06-09T15:11:28.186Z"
   },
   {
    "duration": 13,
    "start_time": "2025-06-09T15:11:28.212Z"
   },
   {
    "duration": 18,
    "start_time": "2025-06-09T15:11:28.227Z"
   },
   {
    "duration": 11,
    "start_time": "2025-06-09T15:11:28.271Z"
   },
   {
    "duration": 12,
    "start_time": "2025-06-09T15:11:28.283Z"
   },
   {
    "duration": 4,
    "start_time": "2025-06-09T15:11:28.297Z"
   },
   {
    "duration": 3,
    "start_time": "2025-06-09T15:11:28.303Z"
   },
   {
    "duration": 5,
    "start_time": "2025-06-09T15:11:28.308Z"
   },
   {
    "duration": 4,
    "start_time": "2025-06-09T15:11:28.314Z"
   },
   {
    "duration": 2251,
    "start_time": "2025-06-09T15:11:28.320Z"
   },
   {
    "duration": 15,
    "start_time": "2025-06-09T15:11:30.573Z"
   },
   {
    "duration": 101,
    "start_time": "2025-06-09T15:11:30.589Z"
   },
   {
    "duration": 22,
    "start_time": "2025-06-09T15:11:30.691Z"
   },
   {
    "duration": 7277,
    "start_time": "2025-06-09T15:11:30.716Z"
   },
   {
    "duration": 6,
    "start_time": "2025-06-09T15:11:37.994Z"
   },
   {
    "duration": 12,
    "start_time": "2025-06-09T15:11:38.002Z"
   },
   {
    "duration": 134,
    "start_time": "2025-06-09T15:11:38.015Z"
   },
   {
    "duration": 9,
    "start_time": "2025-06-09T15:11:38.151Z"
   },
   {
    "duration": 2462,
    "start_time": "2025-06-09T16:18:55.588Z"
   },
   {
    "duration": 1531,
    "start_time": "2025-06-09T16:18:58.053Z"
   },
   {
    "duration": 92,
    "start_time": "2025-06-09T16:18:59.585Z"
   },
   {
    "duration": 63,
    "start_time": "2025-06-09T16:18:59.679Z"
   },
   {
    "duration": 31,
    "start_time": "2025-06-09T16:18:59.744Z"
   },
   {
    "duration": 21,
    "start_time": "2025-06-09T16:18:59.776Z"
   },
   {
    "duration": 16,
    "start_time": "2025-06-09T16:18:59.798Z"
   },
   {
    "duration": 28,
    "start_time": "2025-06-09T16:18:59.815Z"
   },
   {
    "duration": 13,
    "start_time": "2025-06-09T16:18:59.845Z"
   },
   {
    "duration": 12,
    "start_time": "2025-06-09T16:18:59.859Z"
   },
   {
    "duration": 6,
    "start_time": "2025-06-09T16:18:59.873Z"
   },
   {
    "duration": 9,
    "start_time": "2025-06-09T16:18:59.880Z"
   },
   {
    "duration": 28,
    "start_time": "2025-06-09T16:18:59.891Z"
   },
   {
    "duration": 22,
    "start_time": "2025-06-09T16:18:59.922Z"
   },
   {
    "duration": 50,
    "start_time": "2025-06-09T16:18:59.945Z"
   },
   {
    "duration": 16,
    "start_time": "2025-06-09T16:18:59.996Z"
   },
   {
    "duration": 67,
    "start_time": "2025-06-09T16:19:00.014Z"
   },
   {
    "duration": 55,
    "start_time": "2025-06-09T16:19:00.083Z"
   },
   {
    "duration": 30,
    "start_time": "2025-06-09T16:19:00.140Z"
   },
   {
    "duration": 26,
    "start_time": "2025-06-09T16:19:00.172Z"
   },
   {
    "duration": 36,
    "start_time": "2025-06-09T16:19:00.199Z"
   },
   {
    "duration": 44,
    "start_time": "2025-06-09T16:19:00.236Z"
   },
   {
    "duration": 60,
    "start_time": "2025-06-09T16:19:00.284Z"
   },
   {
    "duration": 2401,
    "start_time": "2025-06-09T16:19:00.346Z"
   },
   {
    "duration": 31,
    "start_time": "2025-06-09T16:19:02.749Z"
   },
   {
    "duration": 21,
    "start_time": "2025-06-09T16:19:02.782Z"
   },
   {
    "duration": 29,
    "start_time": "2025-06-09T16:19:02.805Z"
   },
   {
    "duration": 7426,
    "start_time": "2025-06-09T16:19:02.835Z"
   },
   {
    "duration": 13,
    "start_time": "2025-06-09T16:19:10.263Z"
   },
   {
    "duration": 20,
    "start_time": "2025-06-09T16:19:10.278Z"
   },
   {
    "duration": 130,
    "start_time": "2025-06-09T16:19:10.300Z"
   },
   {
    "duration": 10,
    "start_time": "2025-06-09T16:19:10.432Z"
   },
   {
    "duration": 73,
    "start_time": "2025-06-09T16:19:10.444Z"
   },
   {
    "duration": 92,
    "start_time": "2025-06-09T16:19:19.508Z"
   },
   {
    "duration": 3,
    "start_time": "2025-06-09T16:19:25.789Z"
   },
   {
    "duration": 3,
    "start_time": "2025-06-09T16:20:48.649Z"
   },
   {
    "duration": 5,
    "start_time": "2025-06-09T16:29:05.046Z"
   },
   {
    "duration": 5,
    "start_time": "2025-06-09T18:37:35.444Z"
   },
   {
    "duration": 126,
    "start_time": "2025-06-09T19:46:04.722Z"
   },
   {
    "duration": 20,
    "start_time": "2025-06-09T19:49:49.732Z"
   },
   {
    "duration": 8963,
    "start_time": "2025-06-09T19:50:12.248Z"
   },
   {
    "duration": 2809,
    "start_time": "2025-06-09T19:50:26.923Z"
   },
   {
    "duration": 30,
    "start_time": "2025-06-09T19:55:12.035Z"
   },
   {
    "duration": 20241,
    "start_time": "2025-06-09T19:57:38.331Z"
   },
   {
    "duration": 3685,
    "start_time": "2025-06-09T19:57:58.574Z"
   },
   {
    "duration": 11323,
    "start_time": "2025-06-09T19:58:02.261Z"
   },
   {
    "duration": 2914,
    "start_time": "2025-06-09T19:58:13.587Z"
   },
   {
    "duration": 1932,
    "start_time": "2025-06-09T19:58:16.504Z"
   },
   {
    "duration": 168,
    "start_time": "2025-06-09T19:58:18.438Z"
   },
   {
    "duration": 66,
    "start_time": "2025-06-09T19:58:18.608Z"
   },
   {
    "duration": 6,
    "start_time": "2025-06-09T19:58:18.675Z"
   },
   {
    "duration": 10,
    "start_time": "2025-06-09T19:58:18.683Z"
   },
   {
    "duration": 11,
    "start_time": "2025-06-09T19:58:18.696Z"
   },
   {
    "duration": 15,
    "start_time": "2025-06-09T19:58:18.709Z"
   },
   {
    "duration": 18,
    "start_time": "2025-06-09T19:58:18.726Z"
   },
   {
    "duration": 39,
    "start_time": "2025-06-09T19:58:18.745Z"
   },
   {
    "duration": 7,
    "start_time": "2025-06-09T19:58:18.786Z"
   },
   {
    "duration": 8,
    "start_time": "2025-06-09T19:58:18.794Z"
   },
   {
    "duration": 27,
    "start_time": "2025-06-09T19:58:18.804Z"
   },
   {
    "duration": 44,
    "start_time": "2025-06-09T19:58:18.832Z"
   },
   {
    "duration": 28,
    "start_time": "2025-06-09T19:58:18.878Z"
   },
   {
    "duration": 16,
    "start_time": "2025-06-09T19:58:18.908Z"
   },
   {
    "duration": 47,
    "start_time": "2025-06-09T19:58:18.926Z"
   },
   {
    "duration": 11,
    "start_time": "2025-06-09T19:58:18.975Z"
   },
   {
    "duration": 9,
    "start_time": "2025-06-09T19:58:18.988Z"
   },
   {
    "duration": 11,
    "start_time": "2025-06-09T19:58:18.998Z"
   },
   {
    "duration": 5,
    "start_time": "2025-06-09T19:58:19.010Z"
   },
   {
    "duration": 4,
    "start_time": "2025-06-09T19:58:19.018Z"
   },
   {
    "duration": 4,
    "start_time": "2025-06-09T19:58:19.024Z"
   },
   {
    "duration": 2463,
    "start_time": "2025-06-09T19:58:19.030Z"
   },
   {
    "duration": 14,
    "start_time": "2025-06-09T19:58:21.496Z"
   },
   {
    "duration": 5,
    "start_time": "2025-06-09T19:58:21.512Z"
   },
   {
    "duration": 23,
    "start_time": "2025-06-09T19:58:21.518Z"
   },
   {
    "duration": 7466,
    "start_time": "2025-06-09T19:58:21.542Z"
   },
   {
    "duration": 7,
    "start_time": "2025-06-09T19:58:29.010Z"
   },
   {
    "duration": 13,
    "start_time": "2025-06-09T19:58:29.019Z"
   },
   {
    "duration": 158,
    "start_time": "2025-06-09T19:58:29.034Z"
   },
   {
    "duration": 10,
    "start_time": "2025-06-09T19:58:29.194Z"
   },
   {
    "duration": 5,
    "start_time": "2025-06-09T19:58:29.206Z"
   },
   {
    "duration": 7,
    "start_time": "2025-06-09T19:58:29.213Z"
   },
   {
    "duration": 6,
    "start_time": "2025-06-09T19:58:29.221Z"
   },
   {
    "duration": 151,
    "start_time": "2025-06-09T19:58:29.228Z"
   },
   {
    "duration": 53,
    "start_time": "2025-06-09T20:10:07.413Z"
   },
   {
    "duration": 3,
    "start_time": "2025-06-09T20:12:07.114Z"
   },
   {
    "duration": 5,
    "start_time": "2025-06-09T20:12:09.433Z"
   },
   {
    "duration": 58,
    "start_time": "2025-06-09T20:34:10.045Z"
   },
   {
    "duration": 14,
    "start_time": "2025-06-09T20:34:24.734Z"
   },
   {
    "duration": 3,
    "start_time": "2025-06-09T20:34:30.639Z"
   },
   {
    "duration": 4,
    "start_time": "2025-06-09T21:04:13.526Z"
   },
   {
    "duration": 6,
    "start_time": "2025-06-09T21:04:17.820Z"
   },
   {
    "duration": 512292,
    "start_time": "2025-06-09T21:27:29.032Z"
   },
   {
    "duration": 24,
    "start_time": "2025-06-09T21:37:51.381Z"
   },
   {
    "duration": 29,
    "start_time": "2025-06-09T21:42:18.456Z"
   },
   {
    "duration": 23,
    "start_time": "2025-06-09T21:43:12.402Z"
   },
   {
    "duration": 3,
    "start_time": "2025-06-09T21:44:41.946Z"
   },
   {
    "duration": 33,
    "start_time": "2025-06-09T22:31:36.989Z"
   },
   {
    "duration": 39,
    "start_time": "2025-06-09T22:36:04.337Z"
   },
   {
    "duration": 57,
    "start_time": "2025-06-09T22:36:51.350Z"
   },
   {
    "duration": 31,
    "start_time": "2025-06-09T22:36:55.538Z"
   },
   {
    "duration": 11,
    "start_time": "2025-06-09T22:41:25.048Z"
   },
   {
    "duration": 52,
    "start_time": "2025-06-09T22:41:39.083Z"
   },
   {
    "duration": 9,
    "start_time": "2025-06-09T22:41:42.340Z"
   },
   {
    "duration": 69,
    "start_time": "2025-06-09T22:45:07.194Z"
   },
   {
    "duration": 32,
    "start_time": "2025-06-09T22:45:31.034Z"
   },
   {
    "duration": 4414,
    "start_time": "2025-06-09T22:45:44.572Z"
   },
   {
    "duration": 546,
    "start_time": "2025-06-09T22:46:11.267Z"
   },
   {
    "duration": 2165,
    "start_time": "2025-06-09T22:46:14.737Z"
   },
   {
    "duration": 33,
    "start_time": "2025-06-09T23:31:09.585Z"
   },
   {
    "duration": 53,
    "start_time": "2025-06-09T23:35:30.431Z"
   },
   {
    "duration": 155,
    "start_time": "2025-06-09T23:35:44.876Z"
   },
   {
    "duration": 74,
    "start_time": "2025-06-09T23:49:29.976Z"
   },
   {
    "duration": 40,
    "start_time": "2025-06-09T23:49:44.722Z"
   },
   {
    "duration": 11,
    "start_time": "2025-06-09T23:51:27.652Z"
   },
   {
    "duration": 13,
    "start_time": "2025-06-09T23:52:00.344Z"
   },
   {
    "duration": 82,
    "start_time": "2025-06-09T23:54:48.083Z"
   },
   {
    "duration": 7492,
    "start_time": "2025-06-10T11:55:23.308Z"
   },
   {
    "duration": 3639,
    "start_time": "2025-06-10T11:55:30.803Z"
   },
   {
    "duration": 8905,
    "start_time": "2025-06-10T11:55:34.445Z"
   },
   {
    "duration": 3531,
    "start_time": "2025-06-10T11:55:43.353Z"
   },
   {
    "duration": 4647,
    "start_time": "2025-06-10T11:55:46.888Z"
   },
   {
    "duration": 3144,
    "start_time": "2025-06-10T11:55:51.537Z"
   },
   {
    "duration": 106,
    "start_time": "2025-06-10T11:55:54.682Z"
   },
   {
    "duration": 88,
    "start_time": "2025-06-10T11:55:54.790Z"
   },
   {
    "duration": 9,
    "start_time": "2025-06-10T11:55:54.880Z"
   },
   {
    "duration": 11,
    "start_time": "2025-06-10T11:55:54.891Z"
   },
   {
    "duration": 8,
    "start_time": "2025-06-10T11:55:54.904Z"
   },
   {
    "duration": 14,
    "start_time": "2025-06-10T11:55:54.914Z"
   },
   {
    "duration": 15,
    "start_time": "2025-06-10T11:55:54.960Z"
   },
   {
    "duration": 20,
    "start_time": "2025-06-10T11:55:54.979Z"
   },
   {
    "duration": 8,
    "start_time": "2025-06-10T11:55:55.001Z"
   },
   {
    "duration": 3,
    "start_time": "2025-06-10T11:55:55.011Z"
   },
   {
    "duration": 59,
    "start_time": "2025-06-10T11:55:55.016Z"
   },
   {
    "duration": 25,
    "start_time": "2025-06-10T11:55:55.077Z"
   },
   {
    "duration": 61,
    "start_time": "2025-06-10T11:55:55.103Z"
   },
   {
    "duration": 16,
    "start_time": "2025-06-10T11:55:55.165Z"
   },
   {
    "duration": 20,
    "start_time": "2025-06-10T11:55:55.183Z"
   },
   {
    "duration": 14,
    "start_time": "2025-06-10T11:55:55.205Z"
   },
   {
    "duration": 8,
    "start_time": "2025-06-10T11:55:55.221Z"
   },
   {
    "duration": 3,
    "start_time": "2025-06-10T11:55:55.260Z"
   },
   {
    "duration": 19,
    "start_time": "2025-06-10T11:55:55.265Z"
   },
   {
    "duration": 7,
    "start_time": "2025-06-10T11:55:55.286Z"
   },
   {
    "duration": 6,
    "start_time": "2025-06-10T11:55:55.295Z"
   },
   {
    "duration": 2473,
    "start_time": "2025-06-10T11:55:55.303Z"
   },
   {
    "duration": 15,
    "start_time": "2025-06-10T11:55:57.778Z"
   },
   {
    "duration": 18,
    "start_time": "2025-06-10T11:55:57.795Z"
   },
   {
    "duration": 25,
    "start_time": "2025-06-10T11:55:57.814Z"
   },
   {
    "duration": 7810,
    "start_time": "2025-06-10T11:55:57.841Z"
   },
   {
    "duration": 6,
    "start_time": "2025-06-10T11:56:05.660Z"
   },
   {
    "duration": 85,
    "start_time": "2025-06-10T11:56:05.668Z"
   },
   {
    "duration": 138,
    "start_time": "2025-06-10T11:56:05.756Z"
   },
   {
    "duration": 10,
    "start_time": "2025-06-10T11:56:05.897Z"
   },
   {
    "duration": 19,
    "start_time": "2025-06-10T11:56:05.909Z"
   },
   {
    "duration": 95,
    "start_time": "2025-06-10T11:56:05.930Z"
   },
   {
    "duration": 44,
    "start_time": "2025-06-10T11:56:06.027Z"
   },
   {
    "duration": 7,
    "start_time": "2025-06-10T11:56:06.073Z"
   },
   {
    "duration": 6,
    "start_time": "2025-06-10T11:56:06.084Z"
   },
   {
    "duration": 544869,
    "start_time": "2025-06-10T11:56:06.092Z"
   },
   {
    "duration": 25,
    "start_time": "2025-06-10T12:05:10.964Z"
   },
   {
    "duration": 49,
    "start_time": "2025-06-10T12:05:10.991Z"
   },
   {
    "duration": 40,
    "start_time": "2025-06-10T12:05:11.042Z"
   },
   {
    "duration": 11,
    "start_time": "2025-06-10T12:05:11.084Z"
   },
   {
    "duration": 1766,
    "start_time": "2025-06-10T12:05:11.097Z"
   },
   {
    "duration": 178,
    "start_time": "2025-06-10T12:05:12.865Z"
   },
   {
    "duration": 22,
    "start_time": "2025-06-10T12:05:13.045Z"
   },
   {
    "duration": 6927,
    "start_time": "2025-06-11T14:39:59.686Z"
   },
   {
    "duration": 3078,
    "start_time": "2025-06-11T14:40:06.616Z"
   },
   {
    "duration": 8331,
    "start_time": "2025-06-11T14:40:09.696Z"
   },
   {
    "duration": 3107,
    "start_time": "2025-06-11T14:40:18.029Z"
   },
   {
    "duration": 3805,
    "start_time": "2025-06-11T14:40:21.139Z"
   },
   {
    "duration": 2400,
    "start_time": "2025-06-11T14:40:24.947Z"
   },
   {
    "duration": 107,
    "start_time": "2025-06-11T14:40:27.350Z"
   },
   {
    "duration": 59,
    "start_time": "2025-06-11T14:40:27.459Z"
   },
   {
    "duration": 6,
    "start_time": "2025-06-11T14:40:27.519Z"
   },
   {
    "duration": 33,
    "start_time": "2025-06-11T14:40:27.526Z"
   },
   {
    "duration": 13,
    "start_time": "2025-06-11T14:40:27.561Z"
   },
   {
    "duration": 8,
    "start_time": "2025-06-11T14:40:27.575Z"
   },
   {
    "duration": 13,
    "start_time": "2025-06-11T14:40:27.584Z"
   },
   {
    "duration": 8,
    "start_time": "2025-06-11T14:40:27.599Z"
   },
   {
    "duration": 9,
    "start_time": "2025-06-11T14:41:15.280Z"
   },
   {
    "duration": 3101,
    "start_time": "2025-06-11T14:41:24.698Z"
   },
   {
    "duration": 2718,
    "start_time": "2025-06-11T14:41:27.802Z"
   },
   {
    "duration": 3171,
    "start_time": "2025-06-11T14:41:30.523Z"
   },
   {
    "duration": 2684,
    "start_time": "2025-06-11T14:41:33.696Z"
   },
   {
    "duration": 2750,
    "start_time": "2025-06-11T14:41:36.383Z"
   },
   {
    "duration": 47,
    "start_time": "2025-06-11T14:41:39.135Z"
   },
   {
    "duration": 101,
    "start_time": "2025-06-11T14:41:39.184Z"
   },
   {
    "duration": 59,
    "start_time": "2025-06-11T14:41:39.287Z"
   },
   {
    "duration": 6,
    "start_time": "2025-06-11T14:41:39.359Z"
   },
   {
    "duration": 13,
    "start_time": "2025-06-11T14:41:39.366Z"
   },
   {
    "duration": 6,
    "start_time": "2025-06-11T14:41:39.380Z"
   },
   {
    "duration": 8,
    "start_time": "2025-06-11T14:41:39.387Z"
   },
   {
    "duration": 13,
    "start_time": "2025-06-11T14:41:39.396Z"
   },
   {
    "duration": 3,
    "start_time": "2025-06-11T15:13:59.106Z"
   },
   {
    "duration": 21,
    "start_time": "2025-06-11T15:14:00.600Z"
   },
   {
    "duration": 21,
    "start_time": "2025-06-11T15:14:06.693Z"
   },
   {
    "duration": 27,
    "start_time": "2025-06-11T15:14:15.783Z"
   },
   {
    "duration": 2,
    "start_time": "2025-06-11T15:14:18.806Z"
   },
   {
    "duration": 19,
    "start_time": "2025-06-11T15:14:20.378Z"
   },
   {
    "duration": 23,
    "start_time": "2025-06-11T15:14:25.434Z"
   },
   {
    "duration": 24,
    "start_time": "2025-06-11T15:15:29.225Z"
   },
   {
    "duration": 167,
    "start_time": "2025-06-11T15:17:56.920Z"
   },
   {
    "duration": 4,
    "start_time": "2025-06-11T15:18:12.190Z"
   },
   {
    "duration": 23,
    "start_time": "2025-06-11T15:18:17.207Z"
   },
   {
    "duration": 21,
    "start_time": "2025-06-11T15:21:20.671Z"
   },
   {
    "duration": 3315,
    "start_time": "2025-06-11T15:21:37.699Z"
   },
   {
    "duration": 2874,
    "start_time": "2025-06-11T15:21:41.017Z"
   },
   {
    "duration": 3393,
    "start_time": "2025-06-11T15:21:43.893Z"
   },
   {
    "duration": 2937,
    "start_time": "2025-06-11T15:21:47.289Z"
   },
   {
    "duration": 3092,
    "start_time": "2025-06-11T15:21:50.228Z"
   },
   {
    "duration": 46,
    "start_time": "2025-06-11T15:21:53.322Z"
   },
   {
    "duration": 114,
    "start_time": "2025-06-11T15:21:53.369Z"
   },
   {
    "duration": 58,
    "start_time": "2025-06-11T15:21:53.485Z"
   },
   {
    "duration": 5,
    "start_time": "2025-06-11T15:21:53.545Z"
   },
   {
    "duration": 11,
    "start_time": "2025-06-11T15:21:53.569Z"
   },
   {
    "duration": 6,
    "start_time": "2025-06-11T15:21:53.582Z"
   },
   {
    "duration": 11,
    "start_time": "2025-06-11T15:21:53.589Z"
   },
   {
    "duration": 13,
    "start_time": "2025-06-11T15:21:53.602Z"
   },
   {
    "duration": 8,
    "start_time": "2025-06-11T15:21:53.616Z"
   },
   {
    "duration": 2,
    "start_time": "2025-06-11T15:21:53.625Z"
   },
   {
    "duration": 3,
    "start_time": "2025-06-11T15:21:53.629Z"
   },
   {
    "duration": 59,
    "start_time": "2025-06-11T15:21:53.633Z"
   },
   {
    "duration": 22,
    "start_time": "2025-06-11T15:21:53.693Z"
   },
   {
    "duration": 27,
    "start_time": "2025-06-11T15:21:53.716Z"
   },
   {
    "duration": 8,
    "start_time": "2025-06-11T15:21:53.764Z"
   },
   {
    "duration": 21,
    "start_time": "2025-06-11T15:21:53.776Z"
   },
   {
    "duration": 3,
    "start_time": "2025-06-11T15:21:53.798Z"
   },
   {
    "duration": 30,
    "start_time": "2025-06-11T15:21:53.803Z"
   },
   {
    "duration": 11,
    "start_time": "2025-06-11T15:21:53.834Z"
   },
   {
    "duration": 12,
    "start_time": "2025-06-11T15:22:40.056Z"
   },
   {
    "duration": 2,
    "start_time": "2025-06-11T15:22:43.021Z"
   },
   {
    "duration": 9,
    "start_time": "2025-06-11T15:22:45.654Z"
   },
   {
    "duration": 3,
    "start_time": "2025-06-11T15:22:45.985Z"
   },
   {
    "duration": 5,
    "start_time": "2025-06-11T15:22:46.333Z"
   },
   {
    "duration": 2505,
    "start_time": "2025-06-11T15:22:47.265Z"
   },
   {
    "duration": 20,
    "start_time": "2025-06-11T15:23:11.677Z"
   },
   {
    "duration": 4,
    "start_time": "2025-06-11T15:23:17.644Z"
   },
   {
    "duration": 12,
    "start_time": "2025-06-11T15:30:37.382Z"
   },
   {
    "duration": 12,
    "start_time": "2025-06-11T15:30:44.945Z"
   },
   {
    "duration": 12,
    "start_time": "2025-06-11T15:30:49.583Z"
   },
   {
    "duration": 13,
    "start_time": "2025-06-11T15:31:02.127Z"
   },
   {
    "duration": 21,
    "start_time": "2025-06-11T15:32:46.460Z"
   },
   {
    "duration": 89,
    "start_time": "2025-06-11T16:16:13.666Z"
   },
   {
    "duration": 12,
    "start_time": "2025-06-11T16:30:30.992Z"
   },
   {
    "duration": 5,
    "start_time": "2025-06-11T16:38:58.199Z"
   },
   {
    "duration": 6527,
    "start_time": "2025-06-11T16:38:59.945Z"
   },
   {
    "duration": 3213,
    "start_time": "2025-06-11T16:40:55.325Z"
   },
   {
    "duration": 2839,
    "start_time": "2025-06-11T16:40:58.540Z"
   },
   {
    "duration": 3322,
    "start_time": "2025-06-11T16:41:01.381Z"
   },
   {
    "duration": 2798,
    "start_time": "2025-06-11T16:41:04.705Z"
   },
   {
    "duration": 2967,
    "start_time": "2025-06-11T16:41:07.506Z"
   },
   {
    "duration": 2154,
    "start_time": "2025-06-11T16:41:10.475Z"
   },
   {
    "duration": 104,
    "start_time": "2025-06-11T16:41:12.631Z"
   },
   {
    "duration": 75,
    "start_time": "2025-06-11T16:41:12.736Z"
   },
   {
    "duration": 6,
    "start_time": "2025-06-11T16:41:12.812Z"
   },
   {
    "duration": 9,
    "start_time": "2025-06-11T16:41:12.820Z"
   },
   {
    "duration": 35,
    "start_time": "2025-06-11T16:41:12.830Z"
   },
   {
    "duration": 10,
    "start_time": "2025-06-11T16:41:12.866Z"
   },
   {
    "duration": 13,
    "start_time": "2025-06-11T16:41:12.878Z"
   },
   {
    "duration": 8,
    "start_time": "2025-06-11T16:41:12.894Z"
   },
   {
    "duration": 3,
    "start_time": "2025-06-11T16:41:12.903Z"
   },
   {
    "duration": 87,
    "start_time": "2025-06-11T16:41:12.907Z"
   },
   {
    "duration": 29,
    "start_time": "2025-06-11T16:41:12.996Z"
   },
   {
    "duration": 22,
    "start_time": "2025-06-11T16:41:13.026Z"
   },
   {
    "duration": 28,
    "start_time": "2025-06-11T16:41:13.049Z"
   },
   {
    "duration": 2,
    "start_time": "2025-06-11T16:41:13.079Z"
   },
   {
    "duration": 17,
    "start_time": "2025-06-11T16:41:13.083Z"
   },
   {
    "duration": 3,
    "start_time": "2025-06-11T16:41:13.102Z"
   },
   {
    "duration": 22,
    "start_time": "2025-06-11T16:41:13.107Z"
   },
   {
    "duration": 34,
    "start_time": "2025-06-11T16:41:13.131Z"
   },
   {
    "duration": 16,
    "start_time": "2025-06-11T16:41:13.166Z"
   },
   {
    "duration": 2,
    "start_time": "2025-06-11T16:41:13.184Z"
   },
   {
    "duration": 13,
    "start_time": "2025-06-11T16:41:13.188Z"
   },
   {
    "duration": 4,
    "start_time": "2025-06-11T16:41:13.203Z"
   },
   {
    "duration": 8,
    "start_time": "2025-06-11T16:41:13.209Z"
   },
   {
    "duration": 2494,
    "start_time": "2025-06-11T16:41:13.218Z"
   },
   {
    "duration": 13,
    "start_time": "2025-06-11T16:41:15.714Z"
   },
   {
    "duration": 15,
    "start_time": "2025-06-11T16:41:15.728Z"
   },
   {
    "duration": 26,
    "start_time": "2025-06-11T16:41:15.744Z"
   },
   {
    "duration": 7,
    "start_time": "2025-06-11T16:41:15.771Z"
   },
   {
    "duration": 6563,
    "start_time": "2025-06-11T16:41:15.779Z"
   },
   {
    "duration": 3260,
    "start_time": "2025-06-11T16:51:37.750Z"
   },
   {
    "duration": 2903,
    "start_time": "2025-06-11T16:51:41.013Z"
   },
   {
    "duration": 3437,
    "start_time": "2025-06-11T16:51:43.919Z"
   },
   {
    "duration": 3142,
    "start_time": "2025-06-11T16:51:47.364Z"
   },
   {
    "duration": 3113,
    "start_time": "2025-06-11T16:51:50.509Z"
   },
   {
    "duration": 48,
    "start_time": "2025-06-11T16:51:53.624Z"
   },
   {
    "duration": 135,
    "start_time": "2025-06-11T16:51:53.674Z"
   },
   {
    "duration": 75,
    "start_time": "2025-06-11T16:51:53.811Z"
   },
   {
    "duration": 7,
    "start_time": "2025-06-11T16:51:53.888Z"
   },
   {
    "duration": 9,
    "start_time": "2025-06-11T16:51:53.896Z"
   },
   {
    "duration": 7,
    "start_time": "2025-06-11T16:51:53.906Z"
   },
   {
    "duration": 26,
    "start_time": "2025-06-11T16:51:53.914Z"
   },
   {
    "duration": 21,
    "start_time": "2025-06-11T16:51:53.942Z"
   },
   {
    "duration": 13,
    "start_time": "2025-06-11T16:51:53.969Z"
   },
   {
    "duration": 7,
    "start_time": "2025-06-11T16:51:53.984Z"
   },
   {
    "duration": 4,
    "start_time": "2025-06-11T16:51:53.992Z"
   },
   {
    "duration": 21,
    "start_time": "2025-06-11T16:51:53.998Z"
   },
   {
    "duration": 60,
    "start_time": "2025-06-11T16:51:54.021Z"
   },
   {
    "duration": 26,
    "start_time": "2025-06-11T16:51:54.084Z"
   },
   {
    "duration": 3,
    "start_time": "2025-06-11T16:51:54.111Z"
   },
   {
    "duration": 13,
    "start_time": "2025-06-11T16:51:54.115Z"
   },
   {
    "duration": 3,
    "start_time": "2025-06-11T16:51:54.130Z"
   },
   {
    "duration": 45,
    "start_time": "2025-06-11T16:51:54.135Z"
   },
   {
    "duration": 13,
    "start_time": "2025-06-11T16:51:54.186Z"
   },
   {
    "duration": 7,
    "start_time": "2025-06-11T16:51:54.200Z"
   },
   {
    "duration": 2,
    "start_time": "2025-06-11T16:51:54.209Z"
   },
   {
    "duration": 3,
    "start_time": "2025-06-11T16:51:54.213Z"
   },
   {
    "duration": 3,
    "start_time": "2025-06-11T16:51:54.218Z"
   },
   {
    "duration": 8,
    "start_time": "2025-06-11T16:51:54.223Z"
   },
   {
    "duration": 2577,
    "start_time": "2025-06-11T16:51:54.232Z"
   },
   {
    "duration": 14,
    "start_time": "2025-06-11T16:51:56.811Z"
   },
   {
    "duration": 24,
    "start_time": "2025-06-11T16:51:56.827Z"
   },
   {
    "duration": 11,
    "start_time": "2025-06-11T16:51:56.853Z"
   },
   {
    "duration": 5,
    "start_time": "2025-06-11T16:51:56.866Z"
   },
   {
    "duration": 5436,
    "start_time": "2025-06-11T16:51:56.874Z"
   },
   {
    "duration": 6,
    "start_time": "2025-06-11T16:55:31.107Z"
   },
   {
    "duration": 8,
    "start_time": "2025-06-11T16:55:33.789Z"
   },
   {
    "duration": 122,
    "start_time": "2025-06-11T16:55:49.071Z"
   },
   {
    "duration": 15,
    "start_time": "2025-06-11T16:55:56.761Z"
   },
   {
    "duration": 5,
    "start_time": "2025-06-11T16:55:59.237Z"
   },
   {
    "duration": 7,
    "start_time": "2025-06-11T16:56:08.378Z"
   },
   {
    "duration": 3,
    "start_time": "2025-06-11T16:56:11.335Z"
   },
   {
    "duration": 4,
    "start_time": "2025-06-11T16:56:11.906Z"
   },
   {
    "duration": 3823,
    "start_time": "2025-06-11T16:57:21.287Z"
   },
   {
    "duration": 2984,
    "start_time": "2025-06-11T16:57:25.114Z"
   },
   {
    "duration": 3344,
    "start_time": "2025-06-11T16:57:28.100Z"
   },
   {
    "duration": 3094,
    "start_time": "2025-06-11T16:57:31.446Z"
   },
   {
    "duration": 3241,
    "start_time": "2025-06-11T16:57:34.543Z"
   },
   {
    "duration": 38,
    "start_time": "2025-06-11T16:57:37.787Z"
   },
   {
    "duration": 117,
    "start_time": "2025-06-11T16:57:37.827Z"
   },
   {
    "duration": 73,
    "start_time": "2025-06-11T16:57:37.946Z"
   },
   {
    "duration": 7,
    "start_time": "2025-06-11T16:57:38.021Z"
   },
   {
    "duration": 30,
    "start_time": "2025-06-11T16:57:38.030Z"
   },
   {
    "duration": 14,
    "start_time": "2025-06-11T16:57:38.068Z"
   },
   {
    "duration": 16,
    "start_time": "2025-06-11T16:57:38.085Z"
   },
   {
    "duration": 15,
    "start_time": "2025-06-11T16:57:38.102Z"
   },
   {
    "duration": 25,
    "start_time": "2025-06-11T16:57:38.120Z"
   },
   {
    "duration": 23,
    "start_time": "2025-06-11T16:57:38.146Z"
   },
   {
    "duration": 18,
    "start_time": "2025-06-11T16:57:38.172Z"
   },
   {
    "duration": 25,
    "start_time": "2025-06-11T16:57:38.192Z"
   },
   {
    "duration": 23,
    "start_time": "2025-06-11T16:57:38.219Z"
   },
   {
    "duration": 53,
    "start_time": "2025-06-11T16:57:38.243Z"
   },
   {
    "duration": 224,
    "start_time": "2025-06-11T16:57:38.298Z"
   },
   {
    "duration": 0,
    "start_time": "2025-06-11T16:57:38.523Z"
   },
   {
    "duration": 0,
    "start_time": "2025-06-11T16:57:38.525Z"
   },
   {
    "duration": 0,
    "start_time": "2025-06-11T16:57:38.526Z"
   },
   {
    "duration": 0,
    "start_time": "2025-06-11T16:57:38.527Z"
   },
   {
    "duration": 0,
    "start_time": "2025-06-11T16:57:38.528Z"
   },
   {
    "duration": 0,
    "start_time": "2025-06-11T16:57:38.529Z"
   },
   {
    "duration": 0,
    "start_time": "2025-06-11T16:57:38.530Z"
   },
   {
    "duration": 0,
    "start_time": "2025-06-11T16:57:38.531Z"
   },
   {
    "duration": 0,
    "start_time": "2025-06-11T16:57:38.533Z"
   },
   {
    "duration": 0,
    "start_time": "2025-06-11T16:57:38.567Z"
   },
   {
    "duration": 0,
    "start_time": "2025-06-11T16:57:38.571Z"
   },
   {
    "duration": 0,
    "start_time": "2025-06-11T16:57:38.572Z"
   },
   {
    "duration": 0,
    "start_time": "2025-06-11T16:57:38.576Z"
   },
   {
    "duration": 0,
    "start_time": "2025-06-11T16:57:38.583Z"
   },
   {
    "duration": 0,
    "start_time": "2025-06-11T16:57:38.585Z"
   },
   {
    "duration": 3492,
    "start_time": "2025-06-11T16:58:26.283Z"
   },
   {
    "duration": 3056,
    "start_time": "2025-06-11T16:58:29.778Z"
   },
   {
    "duration": 3515,
    "start_time": "2025-06-11T16:58:32.837Z"
   },
   {
    "duration": 2976,
    "start_time": "2025-06-11T16:58:36.354Z"
   },
   {
    "duration": 3177,
    "start_time": "2025-06-11T16:58:39.333Z"
   },
   {
    "duration": 2188,
    "start_time": "2025-06-11T16:58:42.513Z"
   },
   {
    "duration": 113,
    "start_time": "2025-06-11T16:58:44.703Z"
   },
   {
    "duration": 81,
    "start_time": "2025-06-11T16:58:44.819Z"
   },
   {
    "duration": 6,
    "start_time": "2025-06-11T16:58:44.902Z"
   },
   {
    "duration": 12,
    "start_time": "2025-06-11T16:58:44.910Z"
   },
   {
    "duration": 8,
    "start_time": "2025-06-11T16:58:44.924Z"
   },
   {
    "duration": 32,
    "start_time": "2025-06-11T16:58:44.934Z"
   },
   {
    "duration": 19,
    "start_time": "2025-06-11T16:58:44.970Z"
   },
   {
    "duration": 8,
    "start_time": "2025-06-11T16:58:44.992Z"
   },
   {
    "duration": 45,
    "start_time": "2025-06-11T16:58:45.002Z"
   },
   {
    "duration": 92,
    "start_time": "2025-06-11T16:58:45.049Z"
   },
   {
    "duration": 44,
    "start_time": "2025-06-11T16:58:45.143Z"
   },
   {
    "duration": 41,
    "start_time": "2025-06-11T16:58:45.189Z"
   },
   {
    "duration": 50,
    "start_time": "2025-06-11T16:58:45.233Z"
   },
   {
    "duration": 195,
    "start_time": "2025-06-11T16:58:45.290Z"
   },
   {
    "duration": 0,
    "start_time": "2025-06-11T16:58:45.487Z"
   },
   {
    "duration": 0,
    "start_time": "2025-06-11T16:58:45.488Z"
   },
   {
    "duration": 0,
    "start_time": "2025-06-11T16:58:45.492Z"
   },
   {
    "duration": 0,
    "start_time": "2025-06-11T16:58:45.493Z"
   },
   {
    "duration": 0,
    "start_time": "2025-06-11T16:58:45.495Z"
   },
   {
    "duration": 0,
    "start_time": "2025-06-11T16:58:45.496Z"
   },
   {
    "duration": 0,
    "start_time": "2025-06-11T16:58:45.498Z"
   },
   {
    "duration": 0,
    "start_time": "2025-06-11T16:58:45.499Z"
   },
   {
    "duration": 0,
    "start_time": "2025-06-11T16:58:45.501Z"
   },
   {
    "duration": 0,
    "start_time": "2025-06-11T16:58:45.503Z"
   },
   {
    "duration": 0,
    "start_time": "2025-06-11T16:58:45.504Z"
   },
   {
    "duration": 0,
    "start_time": "2025-06-11T16:58:45.506Z"
   },
   {
    "duration": 0,
    "start_time": "2025-06-11T16:58:45.507Z"
   },
   {
    "duration": 0,
    "start_time": "2025-06-11T16:58:45.508Z"
   },
   {
    "duration": 0,
    "start_time": "2025-06-11T16:58:45.510Z"
   },
   {
    "duration": 3256,
    "start_time": "2025-06-11T16:59:26.531Z"
   },
   {
    "duration": 3002,
    "start_time": "2025-06-11T16:59:29.790Z"
   },
   {
    "duration": 3398,
    "start_time": "2025-06-11T16:59:32.794Z"
   },
   {
    "duration": 2918,
    "start_time": "2025-06-11T16:59:36.194Z"
   },
   {
    "duration": 3009,
    "start_time": "2025-06-11T16:59:39.115Z"
   },
   {
    "duration": 42,
    "start_time": "2025-06-11T16:59:42.127Z"
   },
   {
    "duration": 114,
    "start_time": "2025-06-11T16:59:42.175Z"
   },
   {
    "duration": 58,
    "start_time": "2025-06-11T16:59:42.291Z"
   },
   {
    "duration": 8,
    "start_time": "2025-06-11T16:59:42.351Z"
   },
   {
    "duration": 27,
    "start_time": "2025-06-11T16:59:42.361Z"
   },
   {
    "duration": 8,
    "start_time": "2025-06-11T16:59:42.390Z"
   },
   {
    "duration": 8,
    "start_time": "2025-06-11T16:59:42.399Z"
   },
   {
    "duration": 13,
    "start_time": "2025-06-11T16:59:42.408Z"
   },
   {
    "duration": 8,
    "start_time": "2025-06-11T16:59:42.423Z"
   },
   {
    "duration": 2,
    "start_time": "2025-06-11T16:59:42.432Z"
   },
   {
    "duration": 4,
    "start_time": "2025-06-11T16:59:42.435Z"
   },
   {
    "duration": 46,
    "start_time": "2025-06-11T16:59:42.440Z"
   },
   {
    "duration": 20,
    "start_time": "2025-06-11T16:59:42.488Z"
   },
   {
    "duration": 67,
    "start_time": "2025-06-11T16:59:42.510Z"
   },
   {
    "duration": 29,
    "start_time": "2025-06-11T16:59:42.582Z"
   },
   {
    "duration": 0,
    "start_time": "2025-06-11T16:59:42.612Z"
   },
   {
    "duration": 0,
    "start_time": "2025-06-11T16:59:42.614Z"
   },
   {
    "duration": 0,
    "start_time": "2025-06-11T16:59:42.615Z"
   },
   {
    "duration": 0,
    "start_time": "2025-06-11T16:59:42.616Z"
   },
   {
    "duration": 0,
    "start_time": "2025-06-11T16:59:42.617Z"
   },
   {
    "duration": 0,
    "start_time": "2025-06-11T16:59:42.618Z"
   },
   {
    "duration": 0,
    "start_time": "2025-06-11T16:59:42.619Z"
   },
   {
    "duration": 0,
    "start_time": "2025-06-11T16:59:42.621Z"
   },
   {
    "duration": 0,
    "start_time": "2025-06-11T16:59:42.622Z"
   },
   {
    "duration": 0,
    "start_time": "2025-06-11T16:59:42.623Z"
   },
   {
    "duration": 0,
    "start_time": "2025-06-11T16:59:42.624Z"
   },
   {
    "duration": 0,
    "start_time": "2025-06-11T16:59:42.625Z"
   },
   {
    "duration": 0,
    "start_time": "2025-06-11T16:59:42.626Z"
   },
   {
    "duration": 0,
    "start_time": "2025-06-11T16:59:42.627Z"
   },
   {
    "duration": 0,
    "start_time": "2025-06-11T16:59:42.628Z"
   },
   {
    "duration": 3332,
    "start_time": "2025-06-11T17:00:03.456Z"
   },
   {
    "duration": 2843,
    "start_time": "2025-06-11T17:00:06.790Z"
   },
   {
    "duration": 3378,
    "start_time": "2025-06-11T17:00:09.635Z"
   },
   {
    "duration": 2989,
    "start_time": "2025-06-11T17:00:13.015Z"
   },
   {
    "duration": 2981,
    "start_time": "2025-06-11T17:00:16.007Z"
   },
   {
    "duration": 2358,
    "start_time": "2025-06-11T17:00:18.990Z"
   },
   {
    "duration": 116,
    "start_time": "2025-06-11T17:00:21.350Z"
   },
   {
    "duration": 100,
    "start_time": "2025-06-11T17:00:21.468Z"
   },
   {
    "duration": 16,
    "start_time": "2025-06-11T17:00:21.576Z"
   },
   {
    "duration": 8,
    "start_time": "2025-06-11T17:00:21.594Z"
   },
   {
    "duration": 11,
    "start_time": "2025-06-11T17:00:21.604Z"
   },
   {
    "duration": 14,
    "start_time": "2025-06-11T17:00:21.617Z"
   },
   {
    "duration": 15,
    "start_time": "2025-06-11T17:00:21.633Z"
   },
   {
    "duration": 28,
    "start_time": "2025-06-11T17:00:21.651Z"
   },
   {
    "duration": 6,
    "start_time": "2025-06-11T17:00:21.681Z"
   },
   {
    "duration": 7,
    "start_time": "2025-06-11T17:00:21.689Z"
   },
   {
    "duration": 28,
    "start_time": "2025-06-11T17:00:21.697Z"
   },
   {
    "duration": 46,
    "start_time": "2025-06-11T17:00:21.727Z"
   },
   {
    "duration": 32,
    "start_time": "2025-06-11T17:00:21.779Z"
   },
   {
    "duration": 190,
    "start_time": "2025-06-11T17:00:21.813Z"
   },
   {
    "duration": 0,
    "start_time": "2025-06-11T17:00:22.005Z"
   },
   {
    "duration": 0,
    "start_time": "2025-06-11T17:00:22.006Z"
   },
   {
    "duration": 0,
    "start_time": "2025-06-11T17:00:22.007Z"
   },
   {
    "duration": 0,
    "start_time": "2025-06-11T17:00:22.008Z"
   },
   {
    "duration": 0,
    "start_time": "2025-06-11T17:00:22.009Z"
   },
   {
    "duration": 0,
    "start_time": "2025-06-11T17:00:22.010Z"
   },
   {
    "duration": 0,
    "start_time": "2025-06-11T17:00:22.012Z"
   },
   {
    "duration": 0,
    "start_time": "2025-06-11T17:00:22.013Z"
   },
   {
    "duration": 0,
    "start_time": "2025-06-11T17:00:22.014Z"
   },
   {
    "duration": 0,
    "start_time": "2025-06-11T17:00:22.015Z"
   },
   {
    "duration": 0,
    "start_time": "2025-06-11T17:00:22.016Z"
   },
   {
    "duration": 0,
    "start_time": "2025-06-11T17:00:22.017Z"
   },
   {
    "duration": 0,
    "start_time": "2025-06-11T17:00:22.019Z"
   },
   {
    "duration": 0,
    "start_time": "2025-06-11T17:00:22.020Z"
   },
   {
    "duration": 0,
    "start_time": "2025-06-11T17:00:22.021Z"
   },
   {
    "duration": 16,
    "start_time": "2025-06-11T17:00:42.749Z"
   },
   {
    "duration": 9,
    "start_time": "2025-06-11T17:00:46.070Z"
   },
   {
    "duration": 6,
    "start_time": "2025-06-11T17:00:48.676Z"
   },
   {
    "duration": 20,
    "start_time": "2025-06-11T17:00:49.325Z"
   },
   {
    "duration": 10,
    "start_time": "2025-06-11T17:00:54.100Z"
   },
   {
    "duration": 6,
    "start_time": "2025-06-11T17:00:55.688Z"
   },
   {
    "duration": 13,
    "start_time": "2025-06-11T17:00:56.863Z"
   },
   {
    "duration": 4,
    "start_time": "2025-06-11T17:00:57.412Z"
   },
   {
    "duration": 3,
    "start_time": "2025-06-11T17:00:57.736Z"
   },
   {
    "duration": 10,
    "start_time": "2025-06-11T17:00:58.062Z"
   },
   {
    "duration": 2439,
    "start_time": "2025-06-11T17:00:58.412Z"
   },
   {
    "duration": 28,
    "start_time": "2025-06-11T17:01:02.945Z"
   },
   {
    "duration": 5,
    "start_time": "2025-06-11T17:01:04.382Z"
   },
   {
    "duration": 10,
    "start_time": "2025-06-11T17:01:21.989Z"
   },
   {
    "duration": 6,
    "start_time": "2025-06-11T17:01:26.280Z"
   },
   {
    "duration": 5748,
    "start_time": "2025-06-11T17:01:30.790Z"
   },
   {
    "duration": 3408,
    "start_time": "2025-06-11T17:05:42.240Z"
   },
   {
    "duration": 2838,
    "start_time": "2025-06-11T17:05:45.651Z"
   },
   {
    "duration": 3338,
    "start_time": "2025-06-11T17:05:48.491Z"
   },
   {
    "duration": 2892,
    "start_time": "2025-06-11T17:05:51.832Z"
   },
   {
    "duration": 2994,
    "start_time": "2025-06-11T17:05:54.726Z"
   },
   {
    "duration": 2160,
    "start_time": "2025-06-11T17:05:57.722Z"
   },
   {
    "duration": 105,
    "start_time": "2025-06-11T17:05:59.884Z"
   },
   {
    "duration": 73,
    "start_time": "2025-06-11T17:05:59.991Z"
   },
   {
    "duration": 11,
    "start_time": "2025-06-11T17:06:00.075Z"
   },
   {
    "duration": 19,
    "start_time": "2025-06-11T17:06:00.088Z"
   },
   {
    "duration": 30,
    "start_time": "2025-06-11T17:06:00.109Z"
   },
   {
    "duration": 17,
    "start_time": "2025-06-11T17:06:00.141Z"
   },
   {
    "duration": 31,
    "start_time": "2025-06-11T17:06:00.159Z"
   },
   {
    "duration": 9,
    "start_time": "2025-06-11T17:06:00.193Z"
   },
   {
    "duration": 36,
    "start_time": "2025-06-11T17:06:00.203Z"
   },
   {
    "duration": 23,
    "start_time": "2025-06-11T17:06:00.241Z"
   },
   {
    "duration": 78,
    "start_time": "2025-06-11T17:06:00.266Z"
   },
   {
    "duration": 67,
    "start_time": "2025-06-11T17:06:00.345Z"
   },
   {
    "duration": 30,
    "start_time": "2025-06-11T17:06:00.414Z"
   },
   {
    "duration": 125,
    "start_time": "2025-06-11T17:06:00.446Z"
   },
   {
    "duration": 34,
    "start_time": "2025-06-11T17:06:00.576Z"
   },
   {
    "duration": 61,
    "start_time": "2025-06-11T17:06:00.612Z"
   },
   {
    "duration": 61,
    "start_time": "2025-06-11T17:06:00.675Z"
   },
   {
    "duration": 29,
    "start_time": "2025-06-11T17:06:00.738Z"
   },
   {
    "duration": 57,
    "start_time": "2025-06-11T17:06:00.770Z"
   },
   {
    "duration": 112,
    "start_time": "2025-06-11T17:06:00.829Z"
   },
   {
    "duration": 10,
    "start_time": "2025-06-11T17:06:00.943Z"
   },
   {
    "duration": 34,
    "start_time": "2025-06-11T17:06:00.955Z"
   },
   {
    "duration": 2692,
    "start_time": "2025-06-11T17:06:00.991Z"
   },
   {
    "duration": 13,
    "start_time": "2025-06-11T17:06:03.688Z"
   },
   {
    "duration": 83,
    "start_time": "2025-06-11T17:06:03.703Z"
   },
   {
    "duration": 21,
    "start_time": "2025-06-11T17:06:03.789Z"
   },
   {
    "duration": 6,
    "start_time": "2025-06-11T17:06:03.811Z"
   },
   {
    "duration": 5792,
    "start_time": "2025-06-11T17:06:03.818Z"
   },
   {
    "duration": 14,
    "start_time": "2025-06-11T17:13:45.662Z"
   },
   {
    "duration": 13,
    "start_time": "2025-06-11T17:13:51.594Z"
   },
   {
    "duration": 120,
    "start_time": "2025-06-11T17:13:53.733Z"
   },
   {
    "duration": 143,
    "start_time": "2025-06-11T17:14:33.512Z"
   },
   {
    "duration": 185,
    "start_time": "2025-06-11T17:14:39.337Z"
   },
   {
    "duration": 132,
    "start_time": "2025-06-11T17:14:50.449Z"
   },
   {
    "duration": 12,
    "start_time": "2025-06-11T17:14:54.823Z"
   },
   {
    "duration": 6,
    "start_time": "2025-06-11T17:14:55.711Z"
   },
   {
    "duration": 178,
    "start_time": "2025-06-11T17:16:59.627Z"
   },
   {
    "duration": 3436,
    "start_time": "2025-06-11T17:17:32.888Z"
   },
   {
    "duration": 2893,
    "start_time": "2025-06-11T17:17:36.326Z"
   },
   {
    "duration": 3497,
    "start_time": "2025-06-11T17:17:39.221Z"
   },
   {
    "duration": 3082,
    "start_time": "2025-06-11T17:17:42.721Z"
   },
   {
    "duration": 3128,
    "start_time": "2025-06-11T17:17:45.806Z"
   },
   {
    "duration": 46,
    "start_time": "2025-06-11T17:17:48.937Z"
   },
   {
    "duration": 116,
    "start_time": "2025-06-11T17:17:48.985Z"
   },
   {
    "duration": 63,
    "start_time": "2025-06-11T17:17:49.103Z"
   },
   {
    "duration": 17,
    "start_time": "2025-06-11T17:17:49.169Z"
   },
   {
    "duration": 13,
    "start_time": "2025-06-11T17:17:49.188Z"
   },
   {
    "duration": 5,
    "start_time": "2025-06-11T17:17:49.203Z"
   },
   {
    "duration": 8,
    "start_time": "2025-06-11T17:17:49.209Z"
   },
   {
    "duration": 30,
    "start_time": "2025-06-11T17:17:49.218Z"
   },
   {
    "duration": 23,
    "start_time": "2025-06-11T17:17:49.251Z"
   },
   {
    "duration": 3,
    "start_time": "2025-06-11T17:17:49.276Z"
   },
   {
    "duration": 14,
    "start_time": "2025-06-11T17:17:49.281Z"
   },
   {
    "duration": 22,
    "start_time": "2025-06-11T17:17:49.297Z"
   },
   {
    "duration": 24,
    "start_time": "2025-06-11T17:17:49.321Z"
   },
   {
    "duration": 43,
    "start_time": "2025-06-11T17:17:49.359Z"
   },
   {
    "duration": 12,
    "start_time": "2025-06-11T17:17:49.404Z"
   },
   {
    "duration": 3,
    "start_time": "2025-06-11T17:17:49.417Z"
   },
   {
    "duration": 19,
    "start_time": "2025-06-11T17:17:49.422Z"
   },
   {
    "duration": 35,
    "start_time": "2025-06-11T17:17:49.458Z"
   },
   {
    "duration": 8,
    "start_time": "2025-06-11T17:17:49.494Z"
   },
   {
    "duration": 3,
    "start_time": "2025-06-11T17:17:49.503Z"
   },
   {
    "duration": 4,
    "start_time": "2025-06-11T17:17:49.507Z"
   },
   {
    "duration": 4,
    "start_time": "2025-06-11T17:17:49.512Z"
   },
   {
    "duration": 11,
    "start_time": "2025-06-11T17:17:49.517Z"
   },
   {
    "duration": 2805,
    "start_time": "2025-06-11T17:17:49.530Z"
   },
   {
    "duration": 33,
    "start_time": "2025-06-11T17:17:52.337Z"
   },
   {
    "duration": 36,
    "start_time": "2025-06-11T17:17:52.378Z"
   },
   {
    "duration": 19,
    "start_time": "2025-06-11T17:17:52.415Z"
   },
   {
    "duration": 5,
    "start_time": "2025-06-11T17:17:52.435Z"
   },
   {
    "duration": 5753,
    "start_time": "2025-06-11T17:17:52.441Z"
   },
   {
    "duration": 3565,
    "start_time": "2025-06-11T17:18:16.366Z"
   },
   {
    "duration": 2997,
    "start_time": "2025-06-11T17:18:19.934Z"
   },
   {
    "duration": 3446,
    "start_time": "2025-06-11T17:18:22.934Z"
   },
   {
    "duration": 3055,
    "start_time": "2025-06-11T17:18:26.389Z"
   },
   {
    "duration": 3209,
    "start_time": "2025-06-11T17:18:29.447Z"
   },
   {
    "duration": 2369,
    "start_time": "2025-06-11T17:18:32.659Z"
   },
   {
    "duration": 113,
    "start_time": "2025-06-11T17:18:35.029Z"
   },
   {
    "duration": 96,
    "start_time": "2025-06-11T17:18:35.144Z"
   },
   {
    "duration": 15,
    "start_time": "2025-06-11T17:18:35.259Z"
   },
   {
    "duration": 20,
    "start_time": "2025-06-11T17:18:35.276Z"
   },
   {
    "duration": 73,
    "start_time": "2025-06-11T17:18:35.298Z"
   },
   {
    "duration": 27,
    "start_time": "2025-06-11T17:18:35.373Z"
   },
   {
    "duration": 17,
    "start_time": "2025-06-11T17:18:35.402Z"
   },
   {
    "duration": 26,
    "start_time": "2025-06-11T17:18:35.423Z"
   },
   {
    "duration": 32,
    "start_time": "2025-06-11T17:18:35.451Z"
   },
   {
    "duration": 40,
    "start_time": "2025-06-11T17:18:35.485Z"
   },
   {
    "duration": 57,
    "start_time": "2025-06-11T17:18:35.527Z"
   },
   {
    "duration": 29,
    "start_time": "2025-06-11T17:18:35.588Z"
   },
   {
    "duration": 41,
    "start_time": "2025-06-11T17:18:35.619Z"
   },
   {
    "duration": 18,
    "start_time": "2025-06-11T17:18:35.662Z"
   },
   {
    "duration": 25,
    "start_time": "2025-06-11T17:18:35.682Z"
   },
   {
    "duration": 89,
    "start_time": "2025-06-11T17:18:35.709Z"
   },
   {
    "duration": 12,
    "start_time": "2025-06-11T17:18:35.800Z"
   },
   {
    "duration": 75,
    "start_time": "2025-06-11T17:18:35.814Z"
   },
   {
    "duration": 3,
    "start_time": "2025-06-11T17:18:35.890Z"
   },
   {
    "duration": 5,
    "start_time": "2025-06-11T17:18:35.894Z"
   },
   {
    "duration": 4,
    "start_time": "2025-06-11T17:18:35.900Z"
   },
   {
    "duration": 52,
    "start_time": "2025-06-11T17:18:35.905Z"
   },
   {
    "duration": 2673,
    "start_time": "2025-06-11T17:18:35.963Z"
   },
   {
    "duration": 31,
    "start_time": "2025-06-11T17:18:38.638Z"
   },
   {
    "duration": 5,
    "start_time": "2025-06-11T17:18:38.671Z"
   },
   {
    "duration": 15,
    "start_time": "2025-06-11T17:18:38.678Z"
   },
   {
    "duration": 28,
    "start_time": "2025-06-11T17:18:38.695Z"
   },
   {
    "duration": 5798,
    "start_time": "2025-06-11T17:18:38.724Z"
   },
   {
    "duration": 6,
    "start_time": "2025-06-11T17:18:44.524Z"
   },
   {
    "duration": 69,
    "start_time": "2025-06-11T17:18:44.532Z"
   },
   {
    "duration": 114,
    "start_time": "2025-06-11T17:18:44.603Z"
   },
   {
    "duration": 11,
    "start_time": "2025-06-11T17:18:44.719Z"
   },
   {
    "duration": 61,
    "start_time": "2025-06-11T17:18:44.731Z"
   },
   {
    "duration": 3,
    "start_time": "2025-06-11T17:19:43.367Z"
   },
   {
    "duration": 3,
    "start_time": "2025-06-11T17:19:47.731Z"
   },
   {
    "duration": 39,
    "start_time": "2025-06-11T17:22:12.686Z"
   },
   {
    "duration": 3,
    "start_time": "2025-06-11T17:23:25.350Z"
   },
   {
    "duration": 6,
    "start_time": "2025-06-11T17:23:27.088Z"
   },
   {
    "duration": 20159,
    "start_time": "2025-06-11T17:23:30.108Z"
   },
   {
    "duration": 19880,
    "start_time": "2025-06-11T17:24:12.740Z"
   },
   {
    "duration": 24,
    "start_time": "2025-06-11T17:24:32.621Z"
   },
   {
    "duration": 14,
    "start_time": "2025-06-11T17:24:54.836Z"
   },
   {
    "duration": 19,
    "start_time": "2025-06-11T17:24:58.373Z"
   },
   {
    "duration": 11,
    "start_time": "2025-06-11T17:25:01.210Z"
   },
   {
    "duration": 780,
    "start_time": "2025-06-11T17:25:03.629Z"
   },
   {
    "duration": 6628,
    "start_time": "2025-06-11T21:38:24.499Z"
   },
   {
    "duration": 3036,
    "start_time": "2025-06-11T21:38:31.129Z"
   },
   {
    "duration": 11703,
    "start_time": "2025-06-11T21:38:34.168Z"
   },
   {
    "duration": 3716,
    "start_time": "2025-06-11T21:38:45.873Z"
   },
   {
    "duration": 4506,
    "start_time": "2025-06-11T21:38:49.592Z"
   },
   {
    "duration": 2304,
    "start_time": "2025-06-11T21:38:54.101Z"
   },
   {
    "duration": 99,
    "start_time": "2025-06-11T21:38:56.407Z"
   },
   {
    "duration": 82,
    "start_time": "2025-06-11T21:38:56.508Z"
   },
   {
    "duration": 7,
    "start_time": "2025-06-11T21:38:56.592Z"
   },
   {
    "duration": 66,
    "start_time": "2025-06-11T21:38:56.600Z"
   },
   {
    "duration": 11,
    "start_time": "2025-06-11T21:38:56.668Z"
   },
   {
    "duration": 8,
    "start_time": "2025-06-11T21:38:56.680Z"
   },
   {
    "duration": 13,
    "start_time": "2025-06-11T21:38:56.689Z"
   },
   {
    "duration": 7,
    "start_time": "2025-06-11T21:38:56.705Z"
   },
   {
    "duration": 2,
    "start_time": "2025-06-11T21:38:56.713Z"
   },
   {
    "duration": 3,
    "start_time": "2025-06-11T21:38:56.716Z"
   },
   {
    "duration": 28,
    "start_time": "2025-06-11T21:38:56.721Z"
   },
   {
    "duration": 19,
    "start_time": "2025-06-11T21:38:56.751Z"
   },
   {
    "duration": 24,
    "start_time": "2025-06-11T21:38:56.771Z"
   },
   {
    "duration": 130,
    "start_time": "2025-06-11T21:38:56.797Z"
   },
   {
    "duration": 3,
    "start_time": "2025-06-11T21:38:56.929Z"
   },
   {
    "duration": 27,
    "start_time": "2025-06-11T21:38:56.933Z"
   },
   {
    "duration": 10,
    "start_time": "2025-06-11T21:38:56.961Z"
   },
   {
    "duration": 6,
    "start_time": "2025-06-11T21:38:56.973Z"
   },
   {
    "duration": 2,
    "start_time": "2025-06-11T21:38:56.981Z"
   },
   {
    "duration": 5,
    "start_time": "2025-06-11T21:38:56.984Z"
   },
   {
    "duration": 4,
    "start_time": "2025-06-11T21:38:56.990Z"
   },
   {
    "duration": 5,
    "start_time": "2025-06-11T21:38:56.995Z"
   },
   {
    "duration": 2416,
    "start_time": "2025-06-11T21:38:57.001Z"
   },
   {
    "duration": 23,
    "start_time": "2025-06-11T21:38:59.418Z"
   },
   {
    "duration": 68,
    "start_time": "2025-06-11T21:38:59.442Z"
   },
   {
    "duration": 143,
    "start_time": "2025-06-11T21:39:05.668Z"
   },
   {
    "duration": 1490,
    "start_time": "2025-06-11T21:40:01.297Z"
   },
   {
    "duration": 2856,
    "start_time": "2025-06-11T21:41:16.382Z"
   },
   {
    "duration": 2485,
    "start_time": "2025-06-11T21:41:19.240Z"
   },
   {
    "duration": 2961,
    "start_time": "2025-06-11T21:41:21.727Z"
   },
   {
    "duration": 2574,
    "start_time": "2025-06-11T21:41:24.691Z"
   },
   {
    "duration": 2641,
    "start_time": "2025-06-11T21:41:27.267Z"
   },
   {
    "duration": 2092,
    "start_time": "2025-06-11T21:41:29.910Z"
   },
   {
    "duration": 110,
    "start_time": "2025-06-11T21:41:32.003Z"
   },
   {
    "duration": 59,
    "start_time": "2025-06-11T21:41:32.115Z"
   },
   {
    "duration": 5,
    "start_time": "2025-06-11T21:41:32.176Z"
   },
   {
    "duration": 15,
    "start_time": "2025-06-11T21:41:32.184Z"
   },
   {
    "duration": 7,
    "start_time": "2025-06-11T21:41:32.200Z"
   },
   {
    "duration": 35,
    "start_time": "2025-06-11T21:41:32.209Z"
   },
   {
    "duration": 68,
    "start_time": "2025-06-11T21:41:32.246Z"
   },
   {
    "duration": 8,
    "start_time": "2025-06-11T21:41:32.316Z"
   },
   {
    "duration": 11,
    "start_time": "2025-06-11T21:41:32.326Z"
   },
   {
    "duration": 12,
    "start_time": "2025-06-11T21:41:32.338Z"
   },
   {
    "duration": 27,
    "start_time": "2025-06-11T21:41:32.351Z"
   },
   {
    "duration": 21,
    "start_time": "2025-06-11T21:41:32.380Z"
   },
   {
    "duration": 42,
    "start_time": "2025-06-11T21:41:32.403Z"
   },
   {
    "duration": 11,
    "start_time": "2025-06-11T21:41:32.447Z"
   },
   {
    "duration": 6,
    "start_time": "2025-06-11T21:41:32.460Z"
   },
   {
    "duration": 23,
    "start_time": "2025-06-11T21:41:32.468Z"
   },
   {
    "duration": 10,
    "start_time": "2025-06-11T21:41:32.493Z"
   },
   {
    "duration": 31,
    "start_time": "2025-06-11T21:41:32.505Z"
   },
   {
    "duration": 3,
    "start_time": "2025-06-11T21:41:32.537Z"
   },
   {
    "duration": 9,
    "start_time": "2025-06-11T21:41:32.541Z"
   },
   {
    "duration": 7,
    "start_time": "2025-06-11T21:41:32.552Z"
   },
   {
    "duration": 3,
    "start_time": "2025-06-11T21:41:32.562Z"
   },
   {
    "duration": 2245,
    "start_time": "2025-06-11T21:41:32.567Z"
   },
   {
    "duration": 14,
    "start_time": "2025-06-11T21:41:34.813Z"
   },
   {
    "duration": 13,
    "start_time": "2025-06-11T21:41:41.873Z"
   },
   {
    "duration": 6,
    "start_time": "2025-06-11T21:41:43.628Z"
   },
   {
    "duration": 1380,
    "start_time": "2025-06-11T21:42:00.270Z"
   },
   {
    "duration": 2910,
    "start_time": "2025-06-11T21:42:52.477Z"
   },
   {
    "duration": 2620,
    "start_time": "2025-06-11T21:42:55.389Z"
   },
   {
    "duration": 2975,
    "start_time": "2025-06-11T21:42:58.011Z"
   },
   {
    "duration": 2531,
    "start_time": "2025-06-11T21:43:00.989Z"
   },
   {
    "duration": 2658,
    "start_time": "2025-06-11T21:43:03.524Z"
   },
   {
    "duration": 1974,
    "start_time": "2025-06-11T21:43:06.184Z"
   },
   {
    "duration": 99,
    "start_time": "2025-06-11T21:43:08.160Z"
   },
   {
    "duration": 60,
    "start_time": "2025-06-11T21:43:08.261Z"
   },
   {
    "duration": 12,
    "start_time": "2025-06-11T21:43:08.323Z"
   },
   {
    "duration": 8,
    "start_time": "2025-06-11T21:43:08.337Z"
   },
   {
    "duration": 6,
    "start_time": "2025-06-11T21:43:08.347Z"
   },
   {
    "duration": 8,
    "start_time": "2025-06-11T21:43:08.355Z"
   },
   {
    "duration": 32,
    "start_time": "2025-06-11T21:43:08.365Z"
   },
   {
    "duration": 13,
    "start_time": "2025-06-11T21:43:08.400Z"
   },
   {
    "duration": 3,
    "start_time": "2025-06-11T21:43:08.415Z"
   },
   {
    "duration": 3,
    "start_time": "2025-06-11T21:43:08.435Z"
   },
   {
    "duration": 22,
    "start_time": "2025-06-11T21:43:08.440Z"
   },
   {
    "duration": 19,
    "start_time": "2025-06-11T21:43:08.464Z"
   },
   {
    "duration": 50,
    "start_time": "2025-06-11T21:43:08.485Z"
   },
   {
    "duration": 13,
    "start_time": "2025-06-11T21:43:08.537Z"
   },
   {
    "duration": 4,
    "start_time": "2025-06-11T21:43:08.552Z"
   },
   {
    "duration": 23,
    "start_time": "2025-06-11T21:43:08.557Z"
   },
   {
    "duration": 14,
    "start_time": "2025-06-11T21:43:08.582Z"
   },
   {
    "duration": 78,
    "start_time": "2025-06-11T21:43:08.598Z"
   },
   {
    "duration": 10,
    "start_time": "2025-06-11T21:43:08.678Z"
   },
   {
    "duration": 15,
    "start_time": "2025-06-11T21:43:08.689Z"
   },
   {
    "duration": 4,
    "start_time": "2025-06-11T21:43:08.706Z"
   },
   {
    "duration": 4,
    "start_time": "2025-06-11T21:43:08.712Z"
   },
   {
    "duration": 2194,
    "start_time": "2025-06-11T21:43:08.718Z"
   },
   {
    "duration": 26,
    "start_time": "2025-06-11T21:43:10.914Z"
   },
   {
    "duration": 6,
    "start_time": "2025-06-11T21:43:10.941Z"
   },
   {
    "duration": 9,
    "start_time": "2025-06-11T21:43:44.672Z"
   },
   {
    "duration": 2888,
    "start_time": "2025-06-11T21:44:14.013Z"
   },
   {
    "duration": 2482,
    "start_time": "2025-06-11T21:44:16.904Z"
   },
   {
    "duration": 2862,
    "start_time": "2025-06-11T21:44:19.388Z"
   },
   {
    "duration": 2509,
    "start_time": "2025-06-11T21:44:22.252Z"
   },
   {
    "duration": 2663,
    "start_time": "2025-06-11T21:44:24.764Z"
   },
   {
    "duration": 2036,
    "start_time": "2025-06-11T21:44:27.429Z"
   },
   {
    "duration": 97,
    "start_time": "2025-06-11T21:44:29.466Z"
   },
   {
    "duration": 57,
    "start_time": "2025-06-11T21:44:29.564Z"
   },
   {
    "duration": 16,
    "start_time": "2025-06-11T21:44:29.622Z"
   },
   {
    "duration": 13,
    "start_time": "2025-06-11T21:44:29.639Z"
   },
   {
    "duration": 8,
    "start_time": "2025-06-11T21:44:29.654Z"
   },
   {
    "duration": 7,
    "start_time": "2025-06-11T21:44:29.663Z"
   },
   {
    "duration": 25,
    "start_time": "2025-06-11T21:44:29.671Z"
   },
   {
    "duration": 7,
    "start_time": "2025-06-11T21:44:29.698Z"
   },
   {
    "duration": 4,
    "start_time": "2025-06-11T21:44:29.707Z"
   },
   {
    "duration": 25,
    "start_time": "2025-06-11T21:44:29.712Z"
   },
   {
    "duration": 97,
    "start_time": "2025-06-11T21:44:29.738Z"
   },
   {
    "duration": 21,
    "start_time": "2025-06-11T21:44:29.837Z"
   },
   {
    "duration": 24,
    "start_time": "2025-06-11T21:44:29.860Z"
   },
   {
    "duration": 11,
    "start_time": "2025-06-11T21:44:29.885Z"
   },
   {
    "duration": 3,
    "start_time": "2025-06-11T21:44:29.898Z"
   },
   {
    "duration": 50,
    "start_time": "2025-06-11T21:44:29.902Z"
   },
   {
    "duration": 13,
    "start_time": "2025-06-11T21:44:29.954Z"
   },
   {
    "duration": 7,
    "start_time": "2025-06-11T21:44:29.968Z"
   },
   {
    "duration": 3,
    "start_time": "2025-06-11T21:44:29.976Z"
   },
   {
    "duration": 4,
    "start_time": "2025-06-11T21:44:29.980Z"
   },
   {
    "duration": 6,
    "start_time": "2025-06-11T21:44:29.985Z"
   },
   {
    "duration": 5,
    "start_time": "2025-06-11T21:44:29.993Z"
   },
   {
    "duration": 2248,
    "start_time": "2025-06-11T21:44:29.999Z"
   },
   {
    "duration": 13,
    "start_time": "2025-06-11T21:44:32.249Z"
   },
   {
    "duration": 41,
    "start_time": "2025-06-11T21:44:32.264Z"
   },
   {
    "duration": 11,
    "start_time": "2025-06-11T21:44:32.306Z"
   },
   {
    "duration": 5,
    "start_time": "2025-06-11T21:44:55.306Z"
   },
   {
    "duration": 3923,
    "start_time": "2025-06-11T21:45:00.541Z"
   },
   {
    "duration": 49,
    "start_time": "2025-06-11T22:33:32.390Z"
   },
   {
    "duration": 19,
    "start_time": "2025-06-11T22:33:49.976Z"
   },
   {
    "duration": 5,
    "start_time": "2025-06-11T22:34:29.110Z"
   },
   {
    "duration": 18,
    "start_time": "2025-06-11T22:45:03.482Z"
   },
   {
    "duration": 20,
    "start_time": "2025-06-11T22:45:21.175Z"
   },
   {
    "duration": 2876,
    "start_time": "2025-06-11T22:46:12.081Z"
   },
   {
    "duration": 2585,
    "start_time": "2025-06-11T22:46:14.960Z"
   },
   {
    "duration": 2865,
    "start_time": "2025-06-11T22:46:17.547Z"
   },
   {
    "duration": 2463,
    "start_time": "2025-06-11T22:46:20.414Z"
   },
   {
    "duration": 2583,
    "start_time": "2025-06-11T22:46:22.879Z"
   },
   {
    "duration": 1990,
    "start_time": "2025-06-11T22:46:25.464Z"
   },
   {
    "duration": 105,
    "start_time": "2025-06-11T22:46:27.456Z"
   },
   {
    "duration": 61,
    "start_time": "2025-06-11T22:46:27.563Z"
   },
   {
    "duration": 6,
    "start_time": "2025-06-11T22:46:27.635Z"
   },
   {
    "duration": 31,
    "start_time": "2025-06-11T22:46:27.642Z"
   },
   {
    "duration": 4,
    "start_time": "2025-06-11T22:46:27.675Z"
   },
   {
    "duration": 6,
    "start_time": "2025-06-11T22:46:27.681Z"
   },
   {
    "duration": 12,
    "start_time": "2025-06-11T22:46:27.689Z"
   },
   {
    "duration": 7,
    "start_time": "2025-06-11T22:46:27.703Z"
   },
   {
    "duration": 8,
    "start_time": "2025-06-11T22:46:27.712Z"
   },
   {
    "duration": 22,
    "start_time": "2025-06-11T22:46:27.721Z"
   },
   {
    "duration": 24,
    "start_time": "2025-06-11T22:46:27.745Z"
   },
   {
    "duration": 20,
    "start_time": "2025-06-11T22:46:27.770Z"
   },
   {
    "duration": 23,
    "start_time": "2025-06-11T22:46:27.791Z"
   },
   {
    "duration": 23,
    "start_time": "2025-06-11T22:46:27.816Z"
   },
   {
    "duration": 3,
    "start_time": "2025-06-11T22:46:27.840Z"
   },
   {
    "duration": 26,
    "start_time": "2025-06-11T22:46:27.845Z"
   },
   {
    "duration": 13,
    "start_time": "2025-06-11T22:46:27.872Z"
   },
   {
    "duration": 5,
    "start_time": "2025-06-11T22:46:27.887Z"
   },
   {
    "duration": 51,
    "start_time": "2025-06-11T22:46:27.894Z"
   },
   {
    "duration": 26,
    "start_time": "2025-06-11T22:46:27.947Z"
   },
   {
    "duration": 3,
    "start_time": "2025-06-11T22:46:27.975Z"
   },
   {
    "duration": 4,
    "start_time": "2025-06-11T22:46:27.980Z"
   },
   {
    "duration": 2145,
    "start_time": "2025-06-11T22:46:27.985Z"
   },
   {
    "duration": 12,
    "start_time": "2025-06-11T22:46:30.136Z"
   },
   {
    "duration": 9,
    "start_time": "2025-06-11T22:46:30.150Z"
   },
   {
    "duration": 48,
    "start_time": "2025-06-11T22:46:30.160Z"
   },
   {
    "duration": 11,
    "start_time": "2025-06-11T22:46:30.210Z"
   },
   {
    "duration": 3869,
    "start_time": "2025-06-11T22:46:30.223Z"
   },
   {
    "duration": 69,
    "start_time": "2025-06-11T22:46:34.094Z"
   },
   {
    "duration": 6,
    "start_time": "2025-06-11T22:46:34.166Z"
   },
   {
    "duration": 4,
    "start_time": "2025-06-11T22:53:21.209Z"
   },
   {
    "duration": 18,
    "start_time": "2025-06-11T22:53:32.502Z"
   },
   {
    "duration": 7,
    "start_time": "2025-06-11T23:08:18.819Z"
   },
   {
    "duration": 8,
    "start_time": "2025-06-11T23:08:24.971Z"
   },
   {
    "duration": 112,
    "start_time": "2025-06-11T23:08:26.125Z"
   },
   {
    "duration": 9,
    "start_time": "2025-06-11T23:21:55.200Z"
   },
   {
    "duration": 5,
    "start_time": "2025-06-11T23:21:57.355Z"
   },
   {
    "duration": 41,
    "start_time": "2025-06-11T23:34:48.775Z"
   },
   {
    "duration": 54,
    "start_time": "2025-06-12T09:06:10.672Z"
   },
   {
    "duration": 6861,
    "start_time": "2025-06-12T09:07:10.806Z"
   },
   {
    "duration": 9872,
    "start_time": "2025-06-12T09:07:17.669Z"
   },
   {
    "duration": 3200,
    "start_time": "2025-06-12T09:07:27.543Z"
   },
   {
    "duration": 4407,
    "start_time": "2025-06-12T09:07:30.746Z"
   },
   {
    "duration": 2200,
    "start_time": "2025-06-12T09:07:35.155Z"
   },
   {
    "duration": 104,
    "start_time": "2025-06-12T09:07:37.357Z"
   },
   {
    "duration": 62,
    "start_time": "2025-06-12T09:07:37.463Z"
   },
   {
    "duration": 5,
    "start_time": "2025-06-12T09:07:37.527Z"
   },
   {
    "duration": 21,
    "start_time": "2025-06-12T09:07:37.534Z"
   },
   {
    "duration": 6,
    "start_time": "2025-06-12T09:07:37.557Z"
   },
   {
    "duration": 51,
    "start_time": "2025-06-12T09:07:37.564Z"
   },
   {
    "duration": 48,
    "start_time": "2025-06-12T09:07:37.617Z"
   },
   {
    "duration": 21,
    "start_time": "2025-06-12T09:07:37.667Z"
   },
   {
    "duration": 3,
    "start_time": "2025-06-12T09:07:37.689Z"
   },
   {
    "duration": 6,
    "start_time": "2025-06-12T09:07:37.694Z"
   },
   {
    "duration": 22,
    "start_time": "2025-06-12T09:07:37.702Z"
   },
   {
    "duration": 23,
    "start_time": "2025-06-12T09:07:37.726Z"
   },
   {
    "duration": 24,
    "start_time": "2025-06-12T09:07:37.751Z"
   },
   {
    "duration": 32,
    "start_time": "2025-06-12T09:07:37.776Z"
   },
   {
    "duration": 9,
    "start_time": "2025-06-12T09:07:37.810Z"
   },
   {
    "duration": 42,
    "start_time": "2025-06-12T09:07:37.820Z"
   },
   {
    "duration": 23,
    "start_time": "2025-06-12T09:07:37.863Z"
   },
   {
    "duration": 9,
    "start_time": "2025-06-12T09:07:37.887Z"
   },
   {
    "duration": 3,
    "start_time": "2025-06-12T09:07:37.897Z"
   },
   {
    "duration": 13,
    "start_time": "2025-06-12T09:07:37.905Z"
   },
   {
    "duration": 34,
    "start_time": "2025-06-12T09:07:37.919Z"
   },
   {
    "duration": 23,
    "start_time": "2025-06-12T09:07:37.954Z"
   },
   {
    "duration": 2358,
    "start_time": "2025-06-12T09:07:37.981Z"
   },
   {
    "duration": 16,
    "start_time": "2025-06-12T09:07:40.340Z"
   },
   {
    "duration": 79,
    "start_time": "2025-06-12T09:07:40.357Z"
   },
   {
    "duration": 13,
    "start_time": "2025-06-12T09:07:40.438Z"
   },
   {
    "duration": 5,
    "start_time": "2025-06-12T09:07:40.453Z"
   },
   {
    "duration": 4274,
    "start_time": "2025-06-12T09:07:40.460Z"
   },
   {
    "duration": 57,
    "start_time": "2025-06-12T09:07:44.736Z"
   },
   {
    "duration": 59,
    "start_time": "2025-06-12T09:07:44.795Z"
   },
   {
    "duration": 21,
    "start_time": "2025-06-12T09:07:44.856Z"
   },
   {
    "duration": 14,
    "start_time": "2025-06-12T09:07:44.878Z"
   },
   {
    "duration": 12,
    "start_time": "2025-06-12T09:07:44.894Z"
   },
   {
    "duration": 124,
    "start_time": "2025-06-12T09:07:44.908Z"
   },
   {
    "duration": 9,
    "start_time": "2025-06-12T09:07:45.034Z"
   },
   {
    "duration": 115,
    "start_time": "2025-06-12T09:07:45.045Z"
   },
   {
    "duration": 105,
    "start_time": "2025-06-12T09:07:45.161Z"
   },
   {
    "duration": 104,
    "start_time": "2025-06-12T09:07:45.268Z"
   },
   {
    "duration": 160,
    "start_time": "2025-06-12T09:07:45.374Z"
   },
   {
    "duration": 0,
    "start_time": "2025-06-12T09:07:45.536Z"
   },
   {
    "duration": 0,
    "start_time": "2025-06-12T09:07:45.537Z"
   },
   {
    "duration": 0,
    "start_time": "2025-06-12T09:07:45.538Z"
   },
   {
    "duration": 0,
    "start_time": "2025-06-12T09:07:45.539Z"
   },
   {
    "duration": 0,
    "start_time": "2025-06-12T09:07:45.540Z"
   },
   {
    "duration": 0,
    "start_time": "2025-06-12T09:07:45.542Z"
   },
   {
    "duration": 0,
    "start_time": "2025-06-12T09:07:45.542Z"
   },
   {
    "duration": 0,
    "start_time": "2025-06-12T09:07:45.543Z"
   },
   {
    "duration": 0,
    "start_time": "2025-06-12T09:07:45.544Z"
   },
   {
    "duration": 3,
    "start_time": "2025-06-12T09:08:06.502Z"
   },
   {
    "duration": 2,
    "start_time": "2025-06-12T09:08:09.467Z"
   },
   {
    "duration": 5,
    "start_time": "2025-06-12T09:08:11.398Z"
   },
   {
    "duration": 6,
    "start_time": "2025-06-12T09:08:13.710Z"
   },
   {
    "duration": 188007,
    "start_time": "2025-06-12T09:08:20.907Z"
   },
   {
    "duration": 27,
    "start_time": "2025-06-12T09:12:38.739Z"
   },
   {
    "duration": 22,
    "start_time": "2025-06-12T09:12:53.300Z"
   },
   {
    "duration": 20,
    "start_time": "2025-06-12T09:12:59.324Z"
   },
   {
    "duration": 9,
    "start_time": "2025-06-12T09:13:04.645Z"
   },
   {
    "duration": 42,
    "start_time": "2025-06-12T09:13:08.783Z"
   },
   {
    "duration": 150,
    "start_time": "2025-06-12T09:14:45.843Z"
   },
   {
    "duration": 16,
    "start_time": "2025-06-12T09:15:03.500Z"
   },
   {
    "duration": 1204,
    "start_time": "2025-06-12T09:20:59.560Z"
   },
   {
    "duration": 3103,
    "start_time": "2025-06-12T10:15:18.868Z"
   },
   {
    "duration": 3057,
    "start_time": "2025-06-12T10:15:21.974Z"
   },
   {
    "duration": 2811,
    "start_time": "2025-06-12T10:15:25.033Z"
   },
   {
    "duration": 2889,
    "start_time": "2025-06-12T10:15:27.846Z"
   },
   {
    "duration": 2133,
    "start_time": "2025-06-12T10:15:30.737Z"
   },
   {
    "duration": 96,
    "start_time": "2025-06-12T10:15:32.871Z"
   },
   {
    "duration": 63,
    "start_time": "2025-06-12T10:15:32.968Z"
   },
   {
    "duration": 6,
    "start_time": "2025-06-12T10:15:33.032Z"
   },
   {
    "duration": 21,
    "start_time": "2025-06-12T10:15:33.039Z"
   },
   {
    "duration": 7,
    "start_time": "2025-06-12T10:15:33.063Z"
   },
   {
    "duration": 21,
    "start_time": "2025-06-12T10:15:33.071Z"
   },
   {
    "duration": 14,
    "start_time": "2025-06-12T10:15:33.094Z"
   },
   {
    "duration": 9,
    "start_time": "2025-06-12T10:15:33.110Z"
   },
   {
    "duration": 46,
    "start_time": "2025-06-12T10:15:33.120Z"
   },
   {
    "duration": 8,
    "start_time": "2025-06-12T10:15:33.167Z"
   },
   {
    "duration": 29,
    "start_time": "2025-06-12T10:15:33.177Z"
   },
   {
    "duration": 25,
    "start_time": "2025-06-12T10:15:33.208Z"
   },
   {
    "duration": 46,
    "start_time": "2025-06-12T10:15:33.235Z"
   },
   {
    "duration": 12,
    "start_time": "2025-06-12T10:15:33.283Z"
   },
   {
    "duration": 8,
    "start_time": "2025-06-12T10:15:33.297Z"
   },
   {
    "duration": 67,
    "start_time": "2025-06-12T10:15:33.307Z"
   },
   {
    "duration": 44,
    "start_time": "2025-06-12T10:15:33.375Z"
   },
   {
    "duration": 39,
    "start_time": "2025-06-12T10:15:33.421Z"
   },
   {
    "duration": 26,
    "start_time": "2025-06-12T10:15:33.461Z"
   },
   {
    "duration": 187,
    "start_time": "2025-06-12T10:15:33.489Z"
   },
   {
    "duration": 16,
    "start_time": "2025-06-12T10:15:33.678Z"
   },
   {
    "duration": 19,
    "start_time": "2025-06-12T10:15:33.695Z"
   },
   {
    "duration": 2426,
    "start_time": "2025-06-12T10:15:33.718Z"
   },
   {
    "duration": 15,
    "start_time": "2025-06-12T10:15:36.146Z"
   },
   {
    "duration": 6,
    "start_time": "2025-06-12T10:15:36.163Z"
   },
   {
    "duration": 35,
    "start_time": "2025-06-12T10:15:36.170Z"
   },
   {
    "duration": 6,
    "start_time": "2025-06-12T10:15:36.207Z"
   },
   {
    "duration": 4227,
    "start_time": "2025-06-12T10:15:36.215Z"
   },
   {
    "duration": 56,
    "start_time": "2025-06-12T10:15:40.444Z"
   },
   {
    "duration": 44,
    "start_time": "2025-06-12T10:15:40.502Z"
   },
   {
    "duration": 123,
    "start_time": "2025-06-12T10:15:40.548Z"
   },
   {
    "duration": 87,
    "start_time": "2025-06-12T10:15:40.673Z"
   },
   {
    "duration": 23,
    "start_time": "2025-06-12T10:15:40.762Z"
   },
   {
    "duration": 109,
    "start_time": "2025-06-12T10:15:40.788Z"
   },
   {
    "duration": 14,
    "start_time": "2025-06-12T10:15:40.899Z"
   },
   {
    "duration": 9,
    "start_time": "2025-06-12T10:15:40.914Z"
   },
   {
    "duration": 12,
    "start_time": "2025-06-12T10:15:40.925Z"
   },
   {
    "duration": 6,
    "start_time": "2025-06-12T10:15:40.938Z"
   },
   {
    "duration": 6,
    "start_time": "2025-06-12T10:15:40.945Z"
   },
   {
    "duration": 5,
    "start_time": "2025-06-12T10:15:40.953Z"
   },
   {
    "duration": 189677,
    "start_time": "2025-06-12T10:15:40.959Z"
   },
   {
    "duration": 27,
    "start_time": "2025-06-12T10:18:50.638Z"
   },
   {
    "duration": 196,
    "start_time": "2025-06-12T10:18:50.667Z"
   },
   {
    "duration": 25,
    "start_time": "2025-06-12T10:18:50.865Z"
   },
   {
    "duration": 10,
    "start_time": "2025-06-12T10:18:50.892Z"
   },
   {
    "duration": 1257,
    "start_time": "2025-06-12T10:18:50.904Z"
   },
   {
    "duration": 155,
    "start_time": "2025-06-12T10:18:52.163Z"
   },
   {
    "duration": 12,
    "start_time": "2025-06-12T10:18:52.319Z"
   },
   {
    "duration": 3117,
    "start_time": "2025-06-12T10:19:35.186Z"
   },
   {
    "duration": 3079,
    "start_time": "2025-06-12T10:19:38.306Z"
   },
   {
    "duration": 2667,
    "start_time": "2025-06-12T10:19:41.387Z"
   },
   {
    "duration": 2921,
    "start_time": "2025-06-12T10:19:44.057Z"
   },
   {
    "duration": 2095,
    "start_time": "2025-06-12T10:19:46.980Z"
   },
   {
    "duration": 97,
    "start_time": "2025-06-12T10:19:49.077Z"
   },
   {
    "duration": 62,
    "start_time": "2025-06-12T10:19:49.176Z"
   },
   {
    "duration": 6,
    "start_time": "2025-06-12T10:19:49.240Z"
   },
   {
    "duration": 44,
    "start_time": "2025-06-12T10:19:49.247Z"
   },
   {
    "duration": 18,
    "start_time": "2025-06-12T10:19:49.294Z"
   },
   {
    "duration": 24,
    "start_time": "2025-06-12T10:19:49.314Z"
   },
   {
    "duration": 39,
    "start_time": "2025-06-12T10:19:49.340Z"
   },
   {
    "duration": 16,
    "start_time": "2025-06-12T10:19:49.381Z"
   },
   {
    "duration": 18,
    "start_time": "2025-06-12T10:19:49.399Z"
   },
   {
    "duration": 28,
    "start_time": "2025-06-12T10:19:49.419Z"
   },
   {
    "duration": 40,
    "start_time": "2025-06-12T10:19:49.449Z"
   },
   {
    "duration": 68,
    "start_time": "2025-06-12T10:19:49.491Z"
   },
   {
    "duration": 50,
    "start_time": "2025-06-12T10:19:49.560Z"
   },
   {
    "duration": 119,
    "start_time": "2025-06-12T10:19:49.612Z"
   },
   {
    "duration": 29,
    "start_time": "2025-06-12T10:19:49.732Z"
   },
   {
    "duration": 38,
    "start_time": "2025-06-12T10:19:49.763Z"
   },
   {
    "duration": 43,
    "start_time": "2025-06-12T10:19:49.803Z"
   },
   {
    "duration": 32,
    "start_time": "2025-06-12T10:19:49.848Z"
   },
   {
    "duration": 28,
    "start_time": "2025-06-12T10:19:49.881Z"
   },
   {
    "duration": 37,
    "start_time": "2025-06-12T10:19:49.911Z"
   },
   {
    "duration": 41,
    "start_time": "2025-06-12T10:19:49.950Z"
   },
   {
    "duration": 35,
    "start_time": "2025-06-12T10:19:49.993Z"
   },
   {
    "duration": 2375,
    "start_time": "2025-06-12T10:19:50.032Z"
   },
   {
    "duration": 13,
    "start_time": "2025-06-12T10:19:52.409Z"
   },
   {
    "duration": 13,
    "start_time": "2025-06-12T10:19:52.424Z"
   },
   {
    "duration": 121,
    "start_time": "2025-06-12T10:19:52.439Z"
   },
   {
    "duration": 90,
    "start_time": "2025-06-12T10:19:52.561Z"
   },
   {
    "duration": 4277,
    "start_time": "2025-06-12T10:19:52.652Z"
   },
   {
    "duration": 56,
    "start_time": "2025-06-12T10:19:56.931Z"
   },
   {
    "duration": 5,
    "start_time": "2025-06-12T10:19:56.989Z"
   },
   {
    "duration": 24,
    "start_time": "2025-06-12T10:19:56.996Z"
   },
   {
    "duration": 5,
    "start_time": "2025-06-12T10:19:57.022Z"
   },
   {
    "duration": 91,
    "start_time": "2025-06-12T10:19:57.029Z"
   },
   {
    "duration": 110,
    "start_time": "2025-06-12T10:19:57.121Z"
   },
   {
    "duration": 9,
    "start_time": "2025-06-12T10:19:57.232Z"
   },
   {
    "duration": 20,
    "start_time": "2025-06-12T10:19:57.242Z"
   },
   {
    "duration": 16,
    "start_time": "2025-06-12T10:19:57.264Z"
   },
   {
    "duration": 4,
    "start_time": "2025-06-12T10:19:57.282Z"
   },
   {
    "duration": 9,
    "start_time": "2025-06-12T10:19:57.288Z"
   },
   {
    "duration": 6,
    "start_time": "2025-06-12T10:19:57.298Z"
   },
   {
    "duration": 187966,
    "start_time": "2025-06-12T10:19:57.305Z"
   },
   {
    "duration": 33,
    "start_time": "2025-06-12T10:23:05.273Z"
   },
   {
    "duration": 43,
    "start_time": "2025-06-12T10:23:05.308Z"
   },
   {
    "duration": 40,
    "start_time": "2025-06-12T10:23:05.353Z"
   },
   {
    "duration": 29,
    "start_time": "2025-06-12T10:23:05.395Z"
   },
   {
    "duration": 1427,
    "start_time": "2025-06-12T10:23:05.426Z"
   },
   {
    "duration": 158,
    "start_time": "2025-06-12T10:23:06.855Z"
   },
   {
    "duration": 12,
    "start_time": "2025-06-12T10:23:07.015Z"
   },
   {
    "duration": 3046,
    "start_time": "2025-06-12T10:33:04.837Z"
   },
   {
    "duration": 3109,
    "start_time": "2025-06-12T10:33:07.885Z"
   },
   {
    "duration": 2826,
    "start_time": "2025-06-12T10:33:10.997Z"
   },
   {
    "duration": 2961,
    "start_time": "2025-06-12T10:33:13.827Z"
   },
   {
    "duration": 2147,
    "start_time": "2025-06-12T10:33:16.790Z"
   },
   {
    "duration": 108,
    "start_time": "2025-06-12T10:33:18.939Z"
   },
   {
    "duration": 66,
    "start_time": "2025-06-12T10:33:19.049Z"
   },
   {
    "duration": 48,
    "start_time": "2025-06-12T10:33:19.117Z"
   },
   {
    "duration": 13,
    "start_time": "2025-06-12T10:33:19.167Z"
   },
   {
    "duration": 11,
    "start_time": "2025-06-12T10:33:19.184Z"
   },
   {
    "duration": 11,
    "start_time": "2025-06-12T10:33:19.197Z"
   },
   {
    "duration": 16,
    "start_time": "2025-06-12T10:33:19.210Z"
   },
   {
    "duration": 15,
    "start_time": "2025-06-12T10:33:19.228Z"
   },
   {
    "duration": 3,
    "start_time": "2025-06-12T10:33:19.244Z"
   },
   {
    "duration": 11,
    "start_time": "2025-06-12T10:33:19.248Z"
   },
   {
    "duration": 45,
    "start_time": "2025-06-12T10:33:19.261Z"
   },
   {
    "duration": 22,
    "start_time": "2025-06-12T10:33:19.308Z"
   },
   {
    "duration": 25,
    "start_time": "2025-06-12T10:33:19.332Z"
   },
   {
    "duration": 11,
    "start_time": "2025-06-12T10:33:19.359Z"
   },
   {
    "duration": 4,
    "start_time": "2025-06-12T10:33:19.371Z"
   },
   {
    "duration": 22,
    "start_time": "2025-06-12T10:33:19.405Z"
   },
   {
    "duration": 20,
    "start_time": "2025-06-12T10:33:19.429Z"
   },
   {
    "duration": 8,
    "start_time": "2025-06-12T10:33:19.451Z"
   },
   {
    "duration": 7,
    "start_time": "2025-06-12T10:33:19.461Z"
   },
   {
    "duration": 5,
    "start_time": "2025-06-12T10:33:19.469Z"
   },
   {
    "duration": 6,
    "start_time": "2025-06-12T10:33:19.475Z"
   },
   {
    "duration": 23,
    "start_time": "2025-06-12T10:33:19.482Z"
   },
   {
    "duration": 2378,
    "start_time": "2025-06-12T10:33:19.509Z"
   },
   {
    "duration": 22,
    "start_time": "2025-06-12T10:33:21.889Z"
   },
   {
    "duration": 5,
    "start_time": "2025-06-12T10:33:21.912Z"
   },
   {
    "duration": 17,
    "start_time": "2025-06-12T10:33:21.918Z"
   },
   {
    "duration": 4,
    "start_time": "2025-06-12T10:33:21.936Z"
   },
   {
    "duration": 4357,
    "start_time": "2025-06-12T10:33:21.941Z"
   },
   {
    "duration": 55,
    "start_time": "2025-06-12T10:33:26.300Z"
   },
   {
    "duration": 5,
    "start_time": "2025-06-12T10:33:26.357Z"
   },
   {
    "duration": 20,
    "start_time": "2025-06-12T10:33:26.364Z"
   },
   {
    "duration": 21,
    "start_time": "2025-06-12T10:33:26.385Z"
   },
   {
    "duration": 10,
    "start_time": "2025-06-12T10:33:26.407Z"
   },
   {
    "duration": 118,
    "start_time": "2025-06-12T10:33:26.419Z"
   },
   {
    "duration": 9,
    "start_time": "2025-06-12T10:33:26.538Z"
   },
   {
    "duration": 49,
    "start_time": "2025-06-12T10:33:26.549Z"
   },
   {
    "duration": 103,
    "start_time": "2025-06-12T10:33:26.599Z"
   },
   {
    "duration": 7,
    "start_time": "2025-06-12T10:33:26.704Z"
   },
   {
    "duration": 22,
    "start_time": "2025-06-12T10:33:26.712Z"
   },
   {
    "duration": 15,
    "start_time": "2025-06-12T10:33:26.736Z"
   },
   {
    "duration": 3166,
    "start_time": "2025-06-12T10:36:00.607Z"
   },
   {
    "duration": 3269,
    "start_time": "2025-06-12T10:36:03.776Z"
   },
   {
    "duration": 2678,
    "start_time": "2025-06-12T10:36:07.047Z"
   },
   {
    "duration": 2846,
    "start_time": "2025-06-12T10:36:09.728Z"
   },
   {
    "duration": 2142,
    "start_time": "2025-06-12T10:36:12.576Z"
   },
   {
    "duration": 97,
    "start_time": "2025-06-12T10:36:14.720Z"
   },
   {
    "duration": 59,
    "start_time": "2025-06-12T10:36:14.818Z"
   },
   {
    "duration": 5,
    "start_time": "2025-06-12T10:36:14.879Z"
   },
   {
    "duration": 24,
    "start_time": "2025-06-12T10:36:14.886Z"
   },
   {
    "duration": 13,
    "start_time": "2025-06-12T10:36:14.913Z"
   },
   {
    "duration": 12,
    "start_time": "2025-06-12T10:36:14.928Z"
   },
   {
    "duration": 15,
    "start_time": "2025-06-12T10:36:14.942Z"
   },
   {
    "duration": 10,
    "start_time": "2025-06-12T10:36:14.959Z"
   },
   {
    "duration": 34,
    "start_time": "2025-06-12T10:36:14.971Z"
   },
   {
    "duration": 49,
    "start_time": "2025-06-12T10:36:15.007Z"
   },
   {
    "duration": 138,
    "start_time": "2025-06-12T10:36:15.058Z"
   },
   {
    "duration": 27,
    "start_time": "2025-06-12T10:36:15.198Z"
   },
   {
    "duration": 37,
    "start_time": "2025-06-12T10:36:15.227Z"
   },
   {
    "duration": 29,
    "start_time": "2025-06-12T10:36:15.266Z"
   },
   {
    "duration": 21,
    "start_time": "2025-06-12T10:36:15.297Z"
   },
   {
    "duration": 64,
    "start_time": "2025-06-12T10:36:15.320Z"
   },
   {
    "duration": 20,
    "start_time": "2025-06-12T10:36:15.386Z"
   },
   {
    "duration": 15,
    "start_time": "2025-06-12T10:36:15.407Z"
   },
   {
    "duration": 4,
    "start_time": "2025-06-12T10:36:15.424Z"
   },
   {
    "duration": 25,
    "start_time": "2025-06-12T10:36:15.429Z"
   },
   {
    "duration": 28,
    "start_time": "2025-06-12T10:36:15.456Z"
   },
   {
    "duration": 9,
    "start_time": "2025-06-12T10:36:15.486Z"
   },
   {
    "duration": 2415,
    "start_time": "2025-06-12T10:36:15.499Z"
   },
   {
    "duration": 14,
    "start_time": "2025-06-12T10:36:17.916Z"
   },
   {
    "duration": 4,
    "start_time": "2025-06-12T10:36:17.932Z"
   },
   {
    "duration": 18,
    "start_time": "2025-06-12T10:36:17.938Z"
   },
   {
    "duration": 4,
    "start_time": "2025-06-12T10:36:17.958Z"
   },
   {
    "duration": 4263,
    "start_time": "2025-06-12T10:36:17.963Z"
   },
   {
    "duration": 55,
    "start_time": "2025-06-12T10:36:22.228Z"
   },
   {
    "duration": 5,
    "start_time": "2025-06-12T10:36:22.285Z"
   },
   {
    "duration": 26,
    "start_time": "2025-06-12T10:36:22.291Z"
   },
   {
    "duration": 15,
    "start_time": "2025-06-12T10:36:22.319Z"
   },
   {
    "duration": 39,
    "start_time": "2025-06-12T10:36:22.335Z"
   },
   {
    "duration": 108,
    "start_time": "2025-06-12T10:36:22.376Z"
   },
   {
    "duration": 9,
    "start_time": "2025-06-12T10:36:22.486Z"
   },
   {
    "duration": 95,
    "start_time": "2025-06-12T10:36:22.497Z"
   },
   {
    "duration": 36,
    "start_time": "2025-06-12T10:36:22.594Z"
   },
   {
    "duration": 82,
    "start_time": "2025-06-12T10:36:22.631Z"
   },
   {
    "duration": 55,
    "start_time": "2025-06-12T10:36:22.715Z"
   },
   {
    "duration": 113,
    "start_time": "2025-06-12T10:36:22.771Z"
   },
   {
    "duration": 188004,
    "start_time": "2025-06-12T10:36:22.886Z"
   },
   {
    "duration": 28,
    "start_time": "2025-06-12T10:39:30.892Z"
   },
   {
    "duration": 59,
    "start_time": "2025-06-12T10:39:30.922Z"
   },
   {
    "duration": 20,
    "start_time": "2025-06-12T10:39:30.983Z"
   },
   {
    "duration": 8,
    "start_time": "2025-06-12T10:39:31.004Z"
   },
   {
    "duration": 1320,
    "start_time": "2025-06-12T10:39:31.014Z"
   },
   {
    "duration": 164,
    "start_time": "2025-06-12T10:39:32.336Z"
   },
   {
    "duration": 12,
    "start_time": "2025-06-12T10:39:32.504Z"
   }
  ],
  "kernelspec": {
   "display_name": "Python 3 (ipykernel)",
   "language": "python",
   "name": "python3"
  },
  "language_info": {
   "codemirror_mode": {
    "name": "ipython",
    "version": 3
   },
   "file_extension": ".py",
   "mimetype": "text/x-python",
   "name": "python",
   "nbconvert_exporter": "python",
   "pygments_lexer": "ipython3",
   "version": "3.9.5"
  },
  "toc": {
   "base_numbering": 1,
   "nav_menu": {},
   "number_sections": true,
   "sideBar": true,
   "skip_h1_title": true,
   "title_cell": "Table of Contents",
   "title_sidebar": "Contents",
   "toc_cell": false,
   "toc_position": {
    "height": "calc(100% - 180px)",
    "left": "10px",
    "top": "150px",
    "width": "443.844px"
   },
   "toc_section_display": true,
   "toc_window_display": true
  }
 },
 "nbformat": 4,
 "nbformat_minor": 5
}
