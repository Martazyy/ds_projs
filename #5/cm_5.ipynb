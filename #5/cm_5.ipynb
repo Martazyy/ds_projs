{
 "cells": [
  {
   "cell_type": "markdown",
   "metadata": {},
   "source": [
    "# Определение стоимости автомобилей"
   ]
  },
  {
   "cell_type": "markdown",
   "metadata": {},
   "source": [
    "**Описание проекта**\n",
    "\n",
    "Сервис по продаже автомобилей с пробегом «Не бит, не крашен» разрабатывает приложение для привлечения новых клиентов. В нём можно быстро узнать рыночную стоимость своего автомобиля. В вашем распоряжении исторические данные: технические характеристики, комплектации и цены автомобилей. Вам нужно построить модель для определения стоимости. \n",
    "\n",
    "Заказчику важны:\n",
    "\n",
    "- качество предсказания;\n",
    "- скорость предсказания;\n",
    "- время обучения.\n",
    "\n",
    "**Признаки**\n",
    "\n",
    " - DateCrawled — дата скачивания анкеты из базы\n",
    " - VehicleType — тип автомобильного кузова\n",
    " - RegistrationYear — год регистрации автомобиля\n",
    " - Gearbox — тип коробки передач\n",
    " - Power — мощность (л. с.)\n",
    " - Model — модель автомобиля\n",
    " - Kilometer — пробег (км)\n",
    " - RegistrationMonth — месяц регистрации автомобиля\n",
    " - FuelType — тип топлива\n",
    " - Brand — марка автомобиля\n",
    " - Repaired — была машина в ремонте или нет\n",
    " - DateCreated — дата создания анкеты\n",
    " - NumberOfPictures — количество фотографий автомобиля\n",
    " - PostalCode — почтовый индекс владельца анкеты (пользователя)\n",
    " - LastSeen — дата последней активности пользователя\n",
    " \n",
    "**Целевой признак**\n",
    "\n",
    "Price — цена (евро)\n",
    "\n",
    "**Цель исследования**\n",
    "\n",
    "Обучить несколько моделей машинного обучения и ,опираясь на критерии заказчика, выбрать лучшую модель, проверить её качество на тестовой выборке.\n",
    "\n",
    "**Ход исследования**\n",
    "\n",
    "Для задачи данные будут получены из `/datasets/autos.csv`\n",
    "\n",
    "Я загружу данные, проверю их на ошибки и оценю их влияние на исследование. Затем, на этапе предобработки я поищу возможность исправить все ошибки данных, которые не приведут к искажению конечного результата. Далее, создам необходимые столбцы, и приступлю к проведению исследовательского и статического анализа. Основным этапом послужит разработка ML-моделей, оценка результатов обучения. Заключительным этапом послужит расчет выбор лучшей модели и подведение итогов.\n",
    "\n",
    "**Содержание**\n",
    " - [Подготовка данных](#section1)\n",
    " - [Обучение моделей](#section2)\n",
    " - [Анализ моделей](#section3)\n",
    " - [Общий вывод](#section4)"
   ]
  },
  {
   "cell_type": "markdown",
   "metadata": {},
   "source": [
    "<a id=\"section1\"></a>\n",
    "## Подготовка данных"
   ]
  },
  {
   "cell_type": "markdown",
   "metadata": {},
   "source": [
    "### Установка модулей и импорт библиотек"
   ]
  },
  {
   "cell_type": "code",
   "execution_count": 1,
   "metadata": {},
   "outputs": [],
   "source": [
    "!pip install lightgbm -q"
   ]
  },
  {
   "cell_type": "code",
   "execution_count": 2,
   "metadata": {},
   "outputs": [],
   "source": [
    "!pip install catboost -q"
   ]
  },
  {
   "cell_type": "code",
   "execution_count": 3,
   "metadata": {},
   "outputs": [],
   "source": [
    "!pip install phik -q"
   ]
  },
  {
   "cell_type": "code",
   "execution_count": 4,
   "metadata": {},
   "outputs": [],
   "source": [
    "!pip install scikit-learn==1.5.2 -q"
   ]
  },
  {
   "cell_type": "code",
   "execution_count": 5,
   "metadata": {},
   "outputs": [
    {
     "data": {
      "text/html": [
       "<style>.output_wrapper, .output {height:auto !important;}</style>"
      ],
      "text/plain": [
       "<IPython.core.display.HTML object>"
      ]
     },
     "metadata": {},
     "output_type": "display_data"
    }
   ],
   "source": [
    "import time\n",
    "\n",
    "import pandas as pd\n",
    "import matplotlib.pyplot as plt\n",
    "import scipy.stats as stats\n",
    "import numpy as np\n",
    "import seaborn as sns\n",
    "import math\n",
    "%matplotlib inline\n",
    "\n",
    "from sklearn.model_selection import train_test_split\n",
    "from sklearn.pipeline import Pipeline\n",
    "from sklearn.preprocessing import (\n",
    "    OneHotEncoder, \n",
    "    OrdinalEncoder, \n",
    "    StandardScaler, \n",
    "    LabelEncoder\n",
    ")\n",
    "from sklearn.compose import ColumnTransformer\n",
    "from sklearn.impute import SimpleImputer\n",
    "\n",
    "from sklearn.metrics import mean_squared_error\n",
    "\n",
    "from sklearn.model_selection import (\n",
    "    RandomizedSearchCV, \n",
    "    cross_val_score\n",
    ")\n",
    "from sklearn.tree import DecisionTreeRegressor\n",
    "from sklearn.linear_model import LinearRegression\n",
    "from lightgbm import LGBMRegressor\n",
    "from catboost import CatBoostRegressor, Pool\n",
    "\n",
    "from phik import phik_matrix \n",
    "from phik.report import plot_correlation_matrix\n",
    "\n",
    "\n",
    "#отключение ограничений вывода графиков по высоте\n",
    "from IPython.display import display, HTML\n",
    "display(HTML(\"<style>.output_wrapper, .output {height:auto !important;}</style>\"))"
   ]
  },
  {
   "cell_type": "markdown",
   "metadata": {},
   "source": [
    "**Инициализация констант**"
   ]
  },
  {
   "cell_type": "code",
   "execution_count": 6,
   "metadata": {},
   "outputs": [],
   "source": [
    "RANDOM_STATE = 42\n",
    "TEST_SIZE = 0.25"
   ]
  },
  {
   "cell_type": "markdown",
   "metadata": {},
   "source": [
    "### Загрузка датасета"
   ]
  },
  {
   "cell_type": "code",
   "execution_count": 7,
   "metadata": {},
   "outputs": [
    {
     "name": "stdout",
     "output_type": "stream",
     "text": [
      "Датасет успешно загружен.\n",
      "Завершена попытка загрузки файлов.\n"
     ]
    }
   ],
   "source": [
    "try:\n",
    "    predata = pd.read_csv('/datasets/autos.csv')\n",
    "except Exception as e:\n",
    "    print(f'Ошибка при загрузке датасета: {e}')\n",
    "else:\n",
    "    print('Датасет успешно загружен.')\n",
    "finally:\n",
    "    print('Завершена попытка загрузки файлов.')"
   ]
  },
  {
   "cell_type": "markdown",
   "metadata": {},
   "source": [
    "### Обзор датасета"
   ]
  },
  {
   "cell_type": "code",
   "execution_count": 8,
   "metadata": {},
   "outputs": [
    {
     "data": {
      "text/html": [
       "<div>\n",
       "<style scoped>\n",
       "    .dataframe tbody tr th:only-of-type {\n",
       "        vertical-align: middle;\n",
       "    }\n",
       "\n",
       "    .dataframe tbody tr th {\n",
       "        vertical-align: top;\n",
       "    }\n",
       "\n",
       "    .dataframe thead th {\n",
       "        text-align: right;\n",
       "    }\n",
       "</style>\n",
       "<table border=\"1\" class=\"dataframe\">\n",
       "  <thead>\n",
       "    <tr style=\"text-align: right;\">\n",
       "      <th></th>\n",
       "      <th>DateCrawled</th>\n",
       "      <th>Price</th>\n",
       "      <th>VehicleType</th>\n",
       "      <th>RegistrationYear</th>\n",
       "      <th>Gearbox</th>\n",
       "      <th>Power</th>\n",
       "      <th>Model</th>\n",
       "      <th>Kilometer</th>\n",
       "      <th>RegistrationMonth</th>\n",
       "      <th>FuelType</th>\n",
       "      <th>Brand</th>\n",
       "      <th>Repaired</th>\n",
       "      <th>DateCreated</th>\n",
       "      <th>NumberOfPictures</th>\n",
       "      <th>PostalCode</th>\n",
       "      <th>LastSeen</th>\n",
       "    </tr>\n",
       "  </thead>\n",
       "  <tbody>\n",
       "    <tr>\n",
       "      <th>0</th>\n",
       "      <td>2016-03-24 11:52:17</td>\n",
       "      <td>480</td>\n",
       "      <td>NaN</td>\n",
       "      <td>1993</td>\n",
       "      <td>manual</td>\n",
       "      <td>0</td>\n",
       "      <td>golf</td>\n",
       "      <td>150000</td>\n",
       "      <td>0</td>\n",
       "      <td>petrol</td>\n",
       "      <td>volkswagen</td>\n",
       "      <td>NaN</td>\n",
       "      <td>2016-03-24 00:00:00</td>\n",
       "      <td>0</td>\n",
       "      <td>70435</td>\n",
       "      <td>2016-04-07 03:16:57</td>\n",
       "    </tr>\n",
       "    <tr>\n",
       "      <th>1</th>\n",
       "      <td>2016-03-24 10:58:45</td>\n",
       "      <td>18300</td>\n",
       "      <td>coupe</td>\n",
       "      <td>2011</td>\n",
       "      <td>manual</td>\n",
       "      <td>190</td>\n",
       "      <td>NaN</td>\n",
       "      <td>125000</td>\n",
       "      <td>5</td>\n",
       "      <td>gasoline</td>\n",
       "      <td>audi</td>\n",
       "      <td>yes</td>\n",
       "      <td>2016-03-24 00:00:00</td>\n",
       "      <td>0</td>\n",
       "      <td>66954</td>\n",
       "      <td>2016-04-07 01:46:50</td>\n",
       "    </tr>\n",
       "    <tr>\n",
       "      <th>2</th>\n",
       "      <td>2016-03-14 12:52:21</td>\n",
       "      <td>9800</td>\n",
       "      <td>suv</td>\n",
       "      <td>2004</td>\n",
       "      <td>auto</td>\n",
       "      <td>163</td>\n",
       "      <td>grand</td>\n",
       "      <td>125000</td>\n",
       "      <td>8</td>\n",
       "      <td>gasoline</td>\n",
       "      <td>jeep</td>\n",
       "      <td>NaN</td>\n",
       "      <td>2016-03-14 00:00:00</td>\n",
       "      <td>0</td>\n",
       "      <td>90480</td>\n",
       "      <td>2016-04-05 12:47:46</td>\n",
       "    </tr>\n",
       "    <tr>\n",
       "      <th>3</th>\n",
       "      <td>2016-03-17 16:54:04</td>\n",
       "      <td>1500</td>\n",
       "      <td>small</td>\n",
       "      <td>2001</td>\n",
       "      <td>manual</td>\n",
       "      <td>75</td>\n",
       "      <td>golf</td>\n",
       "      <td>150000</td>\n",
       "      <td>6</td>\n",
       "      <td>petrol</td>\n",
       "      <td>volkswagen</td>\n",
       "      <td>no</td>\n",
       "      <td>2016-03-17 00:00:00</td>\n",
       "      <td>0</td>\n",
       "      <td>91074</td>\n",
       "      <td>2016-03-17 17:40:17</td>\n",
       "    </tr>\n",
       "    <tr>\n",
       "      <th>4</th>\n",
       "      <td>2016-03-31 17:25:20</td>\n",
       "      <td>3600</td>\n",
       "      <td>small</td>\n",
       "      <td>2008</td>\n",
       "      <td>manual</td>\n",
       "      <td>69</td>\n",
       "      <td>fabia</td>\n",
       "      <td>90000</td>\n",
       "      <td>7</td>\n",
       "      <td>gasoline</td>\n",
       "      <td>skoda</td>\n",
       "      <td>no</td>\n",
       "      <td>2016-03-31 00:00:00</td>\n",
       "      <td>0</td>\n",
       "      <td>60437</td>\n",
       "      <td>2016-04-06 10:17:21</td>\n",
       "    </tr>\n",
       "    <tr>\n",
       "      <th>5</th>\n",
       "      <td>2016-04-04 17:36:23</td>\n",
       "      <td>650</td>\n",
       "      <td>sedan</td>\n",
       "      <td>1995</td>\n",
       "      <td>manual</td>\n",
       "      <td>102</td>\n",
       "      <td>3er</td>\n",
       "      <td>150000</td>\n",
       "      <td>10</td>\n",
       "      <td>petrol</td>\n",
       "      <td>bmw</td>\n",
       "      <td>yes</td>\n",
       "      <td>2016-04-04 00:00:00</td>\n",
       "      <td>0</td>\n",
       "      <td>33775</td>\n",
       "      <td>2016-04-06 19:17:07</td>\n",
       "    </tr>\n",
       "    <tr>\n",
       "      <th>6</th>\n",
       "      <td>2016-04-01 20:48:51</td>\n",
       "      <td>2200</td>\n",
       "      <td>convertible</td>\n",
       "      <td>2004</td>\n",
       "      <td>manual</td>\n",
       "      <td>109</td>\n",
       "      <td>2_reihe</td>\n",
       "      <td>150000</td>\n",
       "      <td>8</td>\n",
       "      <td>petrol</td>\n",
       "      <td>peugeot</td>\n",
       "      <td>no</td>\n",
       "      <td>2016-04-01 00:00:00</td>\n",
       "      <td>0</td>\n",
       "      <td>67112</td>\n",
       "      <td>2016-04-05 18:18:39</td>\n",
       "    </tr>\n",
       "    <tr>\n",
       "      <th>7</th>\n",
       "      <td>2016-03-21 18:54:38</td>\n",
       "      <td>0</td>\n",
       "      <td>sedan</td>\n",
       "      <td>1980</td>\n",
       "      <td>manual</td>\n",
       "      <td>50</td>\n",
       "      <td>other</td>\n",
       "      <td>40000</td>\n",
       "      <td>7</td>\n",
       "      <td>petrol</td>\n",
       "      <td>volkswagen</td>\n",
       "      <td>no</td>\n",
       "      <td>2016-03-21 00:00:00</td>\n",
       "      <td>0</td>\n",
       "      <td>19348</td>\n",
       "      <td>2016-03-25 16:47:58</td>\n",
       "    </tr>\n",
       "    <tr>\n",
       "      <th>8</th>\n",
       "      <td>2016-04-04 23:42:13</td>\n",
       "      <td>14500</td>\n",
       "      <td>bus</td>\n",
       "      <td>2014</td>\n",
       "      <td>manual</td>\n",
       "      <td>125</td>\n",
       "      <td>c_max</td>\n",
       "      <td>30000</td>\n",
       "      <td>8</td>\n",
       "      <td>petrol</td>\n",
       "      <td>ford</td>\n",
       "      <td>NaN</td>\n",
       "      <td>2016-04-04 00:00:00</td>\n",
       "      <td>0</td>\n",
       "      <td>94505</td>\n",
       "      <td>2016-04-04 23:42:13</td>\n",
       "    </tr>\n",
       "    <tr>\n",
       "      <th>9</th>\n",
       "      <td>2016-03-17 10:53:50</td>\n",
       "      <td>999</td>\n",
       "      <td>small</td>\n",
       "      <td>1998</td>\n",
       "      <td>manual</td>\n",
       "      <td>101</td>\n",
       "      <td>golf</td>\n",
       "      <td>150000</td>\n",
       "      <td>0</td>\n",
       "      <td>NaN</td>\n",
       "      <td>volkswagen</td>\n",
       "      <td>NaN</td>\n",
       "      <td>2016-03-17 00:00:00</td>\n",
       "      <td>0</td>\n",
       "      <td>27472</td>\n",
       "      <td>2016-03-31 17:17:06</td>\n",
       "    </tr>\n",
       "  </tbody>\n",
       "</table>\n",
       "</div>"
      ],
      "text/plain": [
       "           DateCrawled  Price  VehicleType  RegistrationYear Gearbox  Power  \\\n",
       "0  2016-03-24 11:52:17    480          NaN              1993  manual      0   \n",
       "1  2016-03-24 10:58:45  18300        coupe              2011  manual    190   \n",
       "2  2016-03-14 12:52:21   9800          suv              2004    auto    163   \n",
       "3  2016-03-17 16:54:04   1500        small              2001  manual     75   \n",
       "4  2016-03-31 17:25:20   3600        small              2008  manual     69   \n",
       "5  2016-04-04 17:36:23    650        sedan              1995  manual    102   \n",
       "6  2016-04-01 20:48:51   2200  convertible              2004  manual    109   \n",
       "7  2016-03-21 18:54:38      0        sedan              1980  manual     50   \n",
       "8  2016-04-04 23:42:13  14500          bus              2014  manual    125   \n",
       "9  2016-03-17 10:53:50    999        small              1998  manual    101   \n",
       "\n",
       "     Model  Kilometer  RegistrationMonth  FuelType       Brand Repaired  \\\n",
       "0     golf     150000                  0    petrol  volkswagen      NaN   \n",
       "1      NaN     125000                  5  gasoline        audi      yes   \n",
       "2    grand     125000                  8  gasoline        jeep      NaN   \n",
       "3     golf     150000                  6    petrol  volkswagen       no   \n",
       "4    fabia      90000                  7  gasoline       skoda       no   \n",
       "5      3er     150000                 10    petrol         bmw      yes   \n",
       "6  2_reihe     150000                  8    petrol     peugeot       no   \n",
       "7    other      40000                  7    petrol  volkswagen       no   \n",
       "8    c_max      30000                  8    petrol        ford      NaN   \n",
       "9     golf     150000                  0       NaN  volkswagen      NaN   \n",
       "\n",
       "           DateCreated  NumberOfPictures  PostalCode             LastSeen  \n",
       "0  2016-03-24 00:00:00                 0       70435  2016-04-07 03:16:57  \n",
       "1  2016-03-24 00:00:00                 0       66954  2016-04-07 01:46:50  \n",
       "2  2016-03-14 00:00:00                 0       90480  2016-04-05 12:47:46  \n",
       "3  2016-03-17 00:00:00                 0       91074  2016-03-17 17:40:17  \n",
       "4  2016-03-31 00:00:00                 0       60437  2016-04-06 10:17:21  \n",
       "5  2016-04-04 00:00:00                 0       33775  2016-04-06 19:17:07  \n",
       "6  2016-04-01 00:00:00                 0       67112  2016-04-05 18:18:39  \n",
       "7  2016-03-21 00:00:00                 0       19348  2016-03-25 16:47:58  \n",
       "8  2016-04-04 00:00:00                 0       94505  2016-04-04 23:42:13  \n",
       "9  2016-03-17 00:00:00                 0       27472  2016-03-31 17:17:06  "
      ]
     },
     "execution_count": 8,
     "metadata": {},
     "output_type": "execute_result"
    }
   ],
   "source": [
    "predata.head(10)"
   ]
  },
  {
   "cell_type": "code",
   "execution_count": 9,
   "metadata": {},
   "outputs": [
    {
     "name": "stdout",
     "output_type": "stream",
     "text": [
      "<class 'pandas.core.frame.DataFrame'>\n",
      "RangeIndex: 354369 entries, 0 to 354368\n",
      "Data columns (total 16 columns):\n",
      " #   Column             Non-Null Count   Dtype \n",
      "---  ------             --------------   ----- \n",
      " 0   DateCrawled        354369 non-null  object\n",
      " 1   Price              354369 non-null  int64 \n",
      " 2   VehicleType        316879 non-null  object\n",
      " 3   RegistrationYear   354369 non-null  int64 \n",
      " 4   Gearbox            334536 non-null  object\n",
      " 5   Power              354369 non-null  int64 \n",
      " 6   Model              334664 non-null  object\n",
      " 7   Kilometer          354369 non-null  int64 \n",
      " 8   RegistrationMonth  354369 non-null  int64 \n",
      " 9   FuelType           321474 non-null  object\n",
      " 10  Brand              354369 non-null  object\n",
      " 11  Repaired           283215 non-null  object\n",
      " 12  DateCreated        354369 non-null  object\n",
      " 13  NumberOfPictures   354369 non-null  int64 \n",
      " 14  PostalCode         354369 non-null  int64 \n",
      " 15  LastSeen           354369 non-null  object\n",
      "dtypes: int64(7), object(9)\n",
      "memory usage: 43.3+ MB\n"
     ]
    }
   ],
   "source": [
    "predata.info()"
   ]
  },
  {
   "cell_type": "code",
   "execution_count": 10,
   "metadata": {},
   "outputs": [
    {
     "data": {
      "text/html": [
       "<div>\n",
       "<style scoped>\n",
       "    .dataframe tbody tr th:only-of-type {\n",
       "        vertical-align: middle;\n",
       "    }\n",
       "\n",
       "    .dataframe tbody tr th {\n",
       "        vertical-align: top;\n",
       "    }\n",
       "\n",
       "    .dataframe thead th {\n",
       "        text-align: right;\n",
       "    }\n",
       "</style>\n",
       "<table border=\"1\" class=\"dataframe\">\n",
       "  <thead>\n",
       "    <tr style=\"text-align: right;\">\n",
       "      <th></th>\n",
       "      <th>Price</th>\n",
       "      <th>RegistrationYear</th>\n",
       "      <th>Power</th>\n",
       "      <th>Kilometer</th>\n",
       "      <th>RegistrationMonth</th>\n",
       "      <th>NumberOfPictures</th>\n",
       "      <th>PostalCode</th>\n",
       "    </tr>\n",
       "  </thead>\n",
       "  <tbody>\n",
       "    <tr>\n",
       "      <th>count</th>\n",
       "      <td>354369.000000</td>\n",
       "      <td>354369.000000</td>\n",
       "      <td>354369.000000</td>\n",
       "      <td>354369.000000</td>\n",
       "      <td>354369.000000</td>\n",
       "      <td>354369.0</td>\n",
       "      <td>354369.000000</td>\n",
       "    </tr>\n",
       "    <tr>\n",
       "      <th>mean</th>\n",
       "      <td>4416.656776</td>\n",
       "      <td>2004.234448</td>\n",
       "      <td>110.094337</td>\n",
       "      <td>128211.172535</td>\n",
       "      <td>5.714645</td>\n",
       "      <td>0.0</td>\n",
       "      <td>50508.689087</td>\n",
       "    </tr>\n",
       "    <tr>\n",
       "      <th>std</th>\n",
       "      <td>4514.158514</td>\n",
       "      <td>90.227958</td>\n",
       "      <td>189.850405</td>\n",
       "      <td>37905.341530</td>\n",
       "      <td>3.726421</td>\n",
       "      <td>0.0</td>\n",
       "      <td>25783.096248</td>\n",
       "    </tr>\n",
       "    <tr>\n",
       "      <th>min</th>\n",
       "      <td>0.000000</td>\n",
       "      <td>1000.000000</td>\n",
       "      <td>0.000000</td>\n",
       "      <td>5000.000000</td>\n",
       "      <td>0.000000</td>\n",
       "      <td>0.0</td>\n",
       "      <td>1067.000000</td>\n",
       "    </tr>\n",
       "    <tr>\n",
       "      <th>25%</th>\n",
       "      <td>1050.000000</td>\n",
       "      <td>1999.000000</td>\n",
       "      <td>69.000000</td>\n",
       "      <td>125000.000000</td>\n",
       "      <td>3.000000</td>\n",
       "      <td>0.0</td>\n",
       "      <td>30165.000000</td>\n",
       "    </tr>\n",
       "    <tr>\n",
       "      <th>50%</th>\n",
       "      <td>2700.000000</td>\n",
       "      <td>2003.000000</td>\n",
       "      <td>105.000000</td>\n",
       "      <td>150000.000000</td>\n",
       "      <td>6.000000</td>\n",
       "      <td>0.0</td>\n",
       "      <td>49413.000000</td>\n",
       "    </tr>\n",
       "    <tr>\n",
       "      <th>75%</th>\n",
       "      <td>6400.000000</td>\n",
       "      <td>2008.000000</td>\n",
       "      <td>143.000000</td>\n",
       "      <td>150000.000000</td>\n",
       "      <td>9.000000</td>\n",
       "      <td>0.0</td>\n",
       "      <td>71083.000000</td>\n",
       "    </tr>\n",
       "    <tr>\n",
       "      <th>max</th>\n",
       "      <td>20000.000000</td>\n",
       "      <td>9999.000000</td>\n",
       "      <td>20000.000000</td>\n",
       "      <td>150000.000000</td>\n",
       "      <td>12.000000</td>\n",
       "      <td>0.0</td>\n",
       "      <td>99998.000000</td>\n",
       "    </tr>\n",
       "  </tbody>\n",
       "</table>\n",
       "</div>"
      ],
      "text/plain": [
       "               Price  RegistrationYear          Power      Kilometer  \\\n",
       "count  354369.000000     354369.000000  354369.000000  354369.000000   \n",
       "mean     4416.656776       2004.234448     110.094337  128211.172535   \n",
       "std      4514.158514         90.227958     189.850405   37905.341530   \n",
       "min         0.000000       1000.000000       0.000000    5000.000000   \n",
       "25%      1050.000000       1999.000000      69.000000  125000.000000   \n",
       "50%      2700.000000       2003.000000     105.000000  150000.000000   \n",
       "75%      6400.000000       2008.000000     143.000000  150000.000000   \n",
       "max     20000.000000       9999.000000   20000.000000  150000.000000   \n",
       "\n",
       "       RegistrationMonth  NumberOfPictures     PostalCode  \n",
       "count      354369.000000          354369.0  354369.000000  \n",
       "mean            5.714645               0.0   50508.689087  \n",
       "std             3.726421               0.0   25783.096248  \n",
       "min             0.000000               0.0    1067.000000  \n",
       "25%             3.000000               0.0   30165.000000  \n",
       "50%             6.000000               0.0   49413.000000  \n",
       "75%             9.000000               0.0   71083.000000  \n",
       "max            12.000000               0.0   99998.000000  "
      ]
     },
     "execution_count": 10,
     "metadata": {},
     "output_type": "execute_result"
    }
   ],
   "source": [
    "predata.describe()"
   ]
  },
  {
   "cell_type": "markdown",
   "metadata": {},
   "source": [
    "**Выводы**\n",
    "\n",
    "Отберем значимые признаки:\n",
    "\n",
    " - `VehicleType` Тип автомобиля определяет его возможности; чем больше, тем дороже\n",
    "\n",
    " - `RegistrationYear` Год регистрации авто показывает \"новизну\"; новые авто дороже\n",
    "\n",
    " - `Gearbox` Тип коробки повышает стоимость\n",
    "\n",
    " - `Power` Мощность двигателя напрямую влияет на цену\n",
    "\n",
    " - `Model` Модель показывает возможности авто, следовательно влияет на цену\n",
    "\n",
    " - `Kilometer` Пробег обратно влияет на цену; чем больше пробег, тем ниже ресурсов авто, следовательно ниже цена\n",
    "\n",
    " - `FuelType` Тип топлива определяет ресурсность авто и также влияет на цену\n",
    "\n",
    " - `Brand` Бренды, зарекомендовавшиеся себя, как надежные и качественные, оказывают влияение на цену\n",
    "\n",
    " - `Repaired` Наличие ремонта авто говорит об утрате некоторых возможностей, что снижает стоимость\n",
    " \n",
    "Проблемы с данными:\n",
    "\n",
    " - `Price` равный нулю\n",
    " - `RegistrationYear` в районах 1000 и 9999 годов\n",
    " - `Power` отсутствие мощности двигателя и наличие ракетных двигателей на авто (20000 л.с.)"
   ]
  },
  {
   "cell_type": "markdown",
   "metadata": {},
   "source": [
    "**Создание нового датафрейма**"
   ]
  },
  {
   "cell_type": "code",
   "execution_count": 11,
   "metadata": {},
   "outputs": [],
   "source": [
    "data = predata[['VehicleType', 'RegistrationYear','Gearbox', \n",
    "                'Power','Model','Kilometer','FuelType',\n",
    "                'Brand','Repaired','Price']]"
   ]
  },
  {
   "cell_type": "markdown",
   "metadata": {},
   "source": [
    "### Обработка дубликатов"
   ]
  },
  {
   "cell_type": "markdown",
   "metadata": {},
   "source": [
    "**Явные дубликаты**"
   ]
  },
  {
   "cell_type": "code",
   "execution_count": 12,
   "metadata": {},
   "outputs": [
    {
     "data": {
      "text/plain": [
       "45040"
      ]
     },
     "execution_count": 12,
     "metadata": {},
     "output_type": "execute_result"
    }
   ],
   "source": [
    "data.duplicated().sum()"
   ]
  },
  {
   "cell_type": "code",
   "execution_count": 13,
   "metadata": {},
   "outputs": [
    {
     "data": {
      "text/plain": [
       "0"
      ]
     },
     "execution_count": 13,
     "metadata": {},
     "output_type": "execute_result"
    }
   ],
   "source": [
    "data = data.drop_duplicates().reset_index(drop=True)\n",
    "data.duplicated().sum()"
   ]
  },
  {
   "cell_type": "markdown",
   "metadata": {},
   "source": [
    "**Неявные дубликаты**"
   ]
  },
  {
   "cell_type": "code",
   "execution_count": 14,
   "metadata": {},
   "outputs": [
    {
     "name": "stdout",
     "output_type": "stream",
     "text": [
      "[nan 'coupe' 'suv' 'small' 'sedan' 'convertible' 'bus' 'wagon' 'other']\n",
      "['manual' 'auto' nan]\n",
      "['golf' nan 'grand' 'fabia' '3er' '2_reihe' 'other' 'c_max' '3_reihe'\n",
      " 'passat' 'navara' 'ka' 'polo' 'twingo' 'a_klasse' 'scirocco' '5er'\n",
      " 'meriva' 'arosa' 'c4' 'civic' 'transporter' 'punto' 'e_klasse' 'clio'\n",
      " 'kadett' 'kangoo' 'corsa' 'one' 'fortwo' '1er' 'b_klasse' 'signum'\n",
      " 'astra' 'a8' 'jetta' 'fiesta' 'c_klasse' 'micra' 'vito' 'sprinter' '156'\n",
      " 'escort' 'forester' 'xc_reihe' 'scenic' 'a4' 'a1' 'insignia' 'combo'\n",
      " 'focus' 'tt' 'a6' 'jazz' 'omega' 'slk' '7er' '80' '147' '100' 'z_reihe'\n",
      " 'sportage' 'sorento' 'v40' 'ibiza' 'mustang' 'eos' 'touran' 'getz' 'a3'\n",
      " 'almera' 'megane' 'lupo' 'r19' 'zafira' 'caddy' 'mondeo' 'cordoba' 'colt'\n",
      " 'impreza' 'vectra' 'berlingo' 'tiguan' 'i_reihe' 'espace' 'sharan'\n",
      " '6_reihe' 'panda' 'up' 'seicento' 'ceed' '5_reihe' 'yeti' 'octavia' 'mii'\n",
      " 'rx_reihe' '6er' 'modus' 'fox' 'matiz' 'beetle' 'c1' 'rio' 'touareg'\n",
      " 'logan' 'spider' 'cuore' 's_max' 'a2' 'galaxy' 'c3' 'viano' 's_klasse'\n",
      " '1_reihe' 'avensis' 'roomster' 'sl' 'kaefer' 'santa' 'cooper' 'leon'\n",
      " '4_reihe' 'a5' '500' 'laguna' 'ptcruiser' 'clk' 'primera' 'x_reihe'\n",
      " 'exeo' '159' 'transit' 'juke' 'qashqai' 'carisma' 'accord' 'corolla'\n",
      " 'lanos' 'phaeton' 'verso' 'swift' 'rav' 'picanto' 'boxster' 'kalos'\n",
      " 'superb' 'stilo' 'alhambra' 'mx_reihe' 'roadster' 'ypsilon' 'cayenne'\n",
      " 'galant' 'justy' '90' 'sirion' 'crossfire' 'agila' 'duster' 'cr_reihe'\n",
      " 'v50' 'c_reihe' 'v_klasse' 'm_klasse' 'yaris' 'c5' 'aygo' 'cc' 'carnival'\n",
      " 'fusion' '911' 'bora' 'forfour' 'm_reihe' 'cl' 'tigra' '300c' 'spark'\n",
      " 'v70' 'kuga' 'x_type' 'ducato' 's_type' 'x_trail' 'toledo' 'altea'\n",
      " 'voyager' 'calibra' 'bravo' 'antara' 'tucson' 'citigo' 'jimny' 'wrangler'\n",
      " 'lybra' 'q7' 'lancer' 'captiva' 'c2' 'discovery' 'freelander' 'sandero'\n",
      " 'note' '900' 'cherokee' 'clubman' 'samara' 'defender' '601' 'cx_reihe'\n",
      " 'legacy' 'pajero' 'auris' 'niva' 's60' 'nubira' 'vivaro' 'g_klasse'\n",
      " 'lodgy' '850' 'range_rover' 'q3' 'serie_2' 'glk' 'charade' 'croma'\n",
      " 'outlander' 'doblo' 'musa' 'move' '9000' 'v60' '145' 'aveo' '200' 'b_max'\n",
      " 'range_rover_sport' 'terios' 'rangerover' 'q5' 'range_rover_evoque'\n",
      " 'materia' 'delta' 'gl' 'kalina' 'amarok' 'elefantino' 'i3' 'kappa'\n",
      " 'serie_3' 'serie_1']\n",
      "['petrol' 'gasoline' nan 'lpg' 'other' 'hybrid' 'cng' 'electric']\n",
      "['volkswagen' 'audi' 'jeep' 'skoda' 'bmw' 'peugeot' 'ford' 'mazda'\n",
      " 'nissan' 'renault' 'mercedes_benz' 'opel' 'seat' 'citroen' 'honda' 'fiat'\n",
      " 'mini' 'smart' 'hyundai' 'sonstige_autos' 'alfa_romeo' 'subaru' 'volvo'\n",
      " 'mitsubishi' 'kia' 'suzuki' 'lancia' 'toyota' 'chevrolet' 'dacia'\n",
      " 'daihatsu' 'trabant' 'saab' 'chrysler' 'jaguar' 'daewoo' 'porsche'\n",
      " 'rover' 'land_rover' 'lada']\n"
     ]
    }
   ],
   "source": [
    "categorical_cols = ['VehicleType', 'Gearbox', 'Model', 'FuelType', 'Brand']\n",
    "\n",
    "for col in categorical_cols:\n",
    "    print(data[col].unique())"
   ]
  },
  {
   "cell_type": "markdown",
   "metadata": {},
   "source": [
    "***FuelType***"
   ]
  },
  {
   "cell_type": "markdown",
   "metadata": {},
   "source": [
    "Gasoline и Petrol - понятия, обозначающие одно и тоже понятие (бензин), поэтому объединяем"
   ]
  },
  {
   "cell_type": "code",
   "execution_count": 15,
   "metadata": {},
   "outputs": [],
   "source": [
    "data['FuelType'] = data['FuelType'].replace({'gasoline': 'petrol'})"
   ]
  },
  {
   "cell_type": "markdown",
   "metadata": {},
   "source": [
    "lpg и cng - обозначения газа, поэтому также можем объединить в одну категорию"
   ]
  },
  {
   "cell_type": "code",
   "execution_count": 16,
   "metadata": {},
   "outputs": [],
   "source": [
    "data['FuelType'] = data['FuelType'].replace({'lpg': 'gas', 'cng': 'gas'})"
   ]
  },
  {
   "cell_type": "markdown",
   "metadata": {},
   "source": [
    "### Обработка Price"
   ]
  },
  {
   "cell_type": "code",
   "execution_count": 17,
   "metadata": {},
   "outputs": [
    {
     "data": {
      "image/png": "[encoded data removed]",
      "text/plain": [
       "<Figure size 1008x432 with 2 Axes>"
      ]
     },
     "metadata": {
      "needs_background": "light"
     },
     "output_type": "display_data"
    }
   ],
   "source": [
    "fig, axes = plt.subplots(1, 2, figsize=(14, 6))\n",
    "\n",
    "sns.histplot(data['Price'], bins=50, kde=True, edgecolor='black', ax=axes[0])\n",
    "axes[0].set_title('Гистограмма цен')\n",
    "axes[0].set_xlabel('Цена (Price)')\n",
    "axes[0].set_ylabel('Количество')\n",
    "\n",
    "sns.boxplot(y=data['Price'], ax=axes[1])\n",
    "axes[1].set_title('Боксплот цен')\n",
    "axes[1].set_ylabel('Цена (Price)')\n",
    "\n",
    "plt.tight_layout()\n",
    "plt.show()"
   ]
  },
  {
   "cell_type": "code",
   "execution_count": 18,
   "metadata": {},
   "outputs": [
    {
     "name": "stdout",
     "output_type": "stream",
     "text": [
      "Границы для усечения:\n",
      "Нижняя: -7000.0\n",
      "Верхняя: 14600.0\n"
     ]
    }
   ],
   "source": [
    "Q1 = data['Price'].quantile(0.25)\n",
    "Q3 = data['Price'].quantile(0.75)\n",
    "IQR = Q3 - Q1\n",
    "\n",
    "lower_bound = Q1 - 1.5 * IQR\n",
    "upper_bound = Q3 + 1.5 * IQR\n",
    "\n",
    "print(f\"Границы для усечения:\\nНижняя: {lower_bound}\\nВерхняя: {upper_bound}\")"
   ]
  },
  {
   "cell_type": "markdown",
   "metadata": {},
   "source": [
    "Предел: 500 ≤ Price ≤ 15,000.\n",
    "Нижняя граница (500): Убирает нереалистичные цены.\n",
    "Верхняя граница (15,000): Соответствует усу боксплота и предоставленной границе (14,600), но чуть мягче."
   ]
  },
  {
   "cell_type": "code",
   "execution_count": 19,
   "metadata": {},
   "outputs": [
    {
     "data": {
      "text/plain": [
       "count    261153.000000\n",
       "mean       4234.930271\n",
       "std        3523.153973\n",
       "min         500.000000\n",
       "25%        1450.000000\n",
       "50%        2999.000000\n",
       "75%        6200.000000\n",
       "max       14600.000000\n",
       "Name: Price, dtype: float64"
      ]
     },
     "execution_count": 19,
     "metadata": {},
     "output_type": "execute_result"
    }
   ],
   "source": [
    "data = data.query('500 <= Price <= 14600')\n",
    "\n",
    "data['Price'].describe()"
   ]
  },
  {
   "cell_type": "markdown",
   "metadata": {},
   "source": [
    "### Обработка RegistrationYear"
   ]
  },
  {
   "cell_type": "markdown",
   "metadata": {},
   "source": [
    "Проверим в каком году отбираются анкета, а также минимум года регистрации"
   ]
  },
  {
   "cell_type": "code",
   "execution_count": 20,
   "metadata": {},
   "outputs": [
    {
     "name": "stdout",
     "output_type": "stream",
     "text": [
      "1970-01-01 00:00:00.000001\n",
      "2016-04-07 14:36:58\n"
     ]
    }
   ],
   "source": [
    "print(pd.to_datetime(predata['RegistrationYear'].min()))\n",
    "print(pd.to_datetime(predata['DateCrawled'].max()))"
   ]
  },
  {
   "cell_type": "code",
   "execution_count": 21,
   "metadata": {},
   "outputs": [],
   "source": [
    "data = data.query('1970 <= RegistrationYear <= 2016')"
   ]
  },
  {
   "cell_type": "code",
   "execution_count": 22,
   "metadata": {},
   "outputs": [
    {
     "data": {
      "image/png": "[encoded data removed]",
      "text/plain": [
       "<Figure size 1728x720 with 2 Axes>"
      ]
     },
     "metadata": {
      "needs_background": "light"
     },
     "output_type": "display_data"
    }
   ],
   "source": [
    "fig, axes = plt.subplots(1, 2, figsize=(24, 10))\n",
    "\n",
    "sns.histplot(data['RegistrationYear'], bins=100, kde=True, edgecolor='black', ax=axes[0])\n",
    "axes[0].set_title('Гистограмма года регистрации')\n",
    "axes[0].set_xlabel('Год регистрации авто (RegistrationYear)')\n",
    "axes[0].set_ylabel('Количество')\n",
    "\n",
    "sns.boxplot(y=data['RegistrationYear'], ax=axes[1])\n",
    "axes[1].set_title('Боксплот года регистрации')\n",
    "axes[1].set_ylabel('Год регистрации авто (RegistrationYear)')\n",
    "\n",
    "plt.tight_layout()\n",
    "plt.show()"
   ]
  },
  {
   "cell_type": "markdown",
   "metadata": {},
   "source": [
    "### Обработка Power"
   ]
  },
  {
   "cell_type": "code",
   "execution_count": 23,
   "metadata": {},
   "outputs": [
    {
     "data": {
      "text/plain": [
       "count    248387.000000\n",
       "mean        113.186540\n",
       "std         198.035602\n",
       "min           0.000000\n",
       "25%          75.000000\n",
       "50%         105.000000\n",
       "75%         143.000000\n",
       "max       20000.000000\n",
       "Name: Power, dtype: float64"
      ]
     },
     "execution_count": 23,
     "metadata": {},
     "output_type": "execute_result"
    }
   ],
   "source": [
    "data['Power'].describe()"
   ]
  },
  {
   "cell_type": "markdown",
   "metadata": {},
   "source": [
    "Оставим более реальные значения в пределах 0 < Power < 1000"
   ]
  },
  {
   "cell_type": "code",
   "execution_count": 24,
   "metadata": {},
   "outputs": [],
   "source": [
    "data = data.query('0 < Power < 1000')"
   ]
  },
  {
   "cell_type": "code",
   "execution_count": 25,
   "metadata": {},
   "outputs": [
    {
     "data": {
      "image/png": "[encoded data removed]",
      "text/plain": [
       "<Figure size 1728x720 with 2 Axes>"
      ]
     },
     "metadata": {
      "needs_background": "light"
     },
     "output_type": "display_data"
    }
   ],
   "source": [
    "fig, axes = plt.subplots(1, 2, figsize=(24, 10))\n",
    "\n",
    "sns.histplot(data['Power'], bins=100, kde=True, edgecolor='black', ax=axes[0])\n",
    "axes[0].set_title('Гистограмма мощности двигателя')\n",
    "axes[0].set_xlabel('Мощность (л.с.)')\n",
    "axes[0].set_ylabel('Количество')\n",
    "\n",
    "sns.boxplot(y=data['Power'], ax=axes[1])\n",
    "axes[1].set_title('Боксплот мощности двигателя')\n",
    "axes[1].set_ylabel('Мощность (л.с.)')\n",
    "\n",
    "plt.tight_layout()\n",
    "plt.show()"
   ]
  },
  {
   "cell_type": "markdown",
   "metadata": {},
   "source": [
    "Как видно из графика, верхнюю границу можно оставить в пределе 400 л.с"
   ]
  },
  {
   "cell_type": "code",
   "execution_count": 26,
   "metadata": {},
   "outputs": [],
   "source": [
    "data = data.query('Power <= 400')"
   ]
  },
  {
   "cell_type": "code",
   "execution_count": 27,
   "metadata": {},
   "outputs": [
    {
     "data": {
      "image/png": "[encoded data removed]",
      "text/plain": [
       "<Figure size 1728x720 with 2 Axes>"
      ]
     },
     "metadata": {
      "needs_background": "light"
     },
     "output_type": "display_data"
    }
   ],
   "source": [
    "fig, axes = plt.subplots(1, 2, figsize=(24, 10))\n",
    "\n",
    "sns.histplot(data['Power'], bins=30, kde=True, edgecolor='black', ax=axes[0])\n",
    "axes[0].set_title('Гистограмма мощности двигателя')\n",
    "axes[0].set_xlabel('Мощность (л.с.)')\n",
    "axes[0].set_ylabel('Количество')\n",
    "\n",
    "sns.boxplot(y=data['Power'], ax=axes[1])\n",
    "axes[1].set_title('Боксплот мощности двигателя')\n",
    "axes[1].set_ylabel('Мощность (л.с.)')\n",
    "\n",
    "plt.tight_layout()\n",
    "plt.show()"
   ]
  },
  {
   "cell_type": "markdown",
   "metadata": {},
   "source": [
    "Приступим к обработке пропущенных значений"
   ]
  },
  {
   "cell_type": "markdown",
   "metadata": {},
   "source": [
    "### Обработка пропущенных значений"
   ]
  },
  {
   "cell_type": "code",
   "execution_count": 28,
   "metadata": {},
   "outputs": [
    {
     "data": {
      "text/plain": [
       "VehicleType          7924\n",
       "RegistrationYear        0\n",
       "Gearbox              4225\n",
       "Power                   0\n",
       "Model                8782\n",
       "Kilometer               0\n",
       "FuelType            12023\n",
       "Brand                   0\n",
       "Repaired            33030\n",
       "Price                   0\n",
       "dtype: int64"
      ]
     },
     "execution_count": 28,
     "metadata": {},
     "output_type": "execute_result"
    }
   ],
   "source": [
    "data.isna().sum()"
   ]
  },
  {
   "cell_type": "markdown",
   "metadata": {},
   "source": [
    "**VehicleType**"
   ]
  },
  {
   "cell_type": "markdown",
   "metadata": {},
   "source": [
    "Замена пропусков в Vehicle по моде для каждого Brand будет целесообразной, так как сохраняет 7924 строки, минимизирует потерю данных после очистки, логично отражает типичную модель бренда"
   ]
  },
  {
   "cell_type": "code",
   "execution_count": 29,
   "metadata": {},
   "outputs": [],
   "source": [
    "data['VehicleType'] = data.groupby('Brand')['VehicleType'].transform(\n",
    "    lambda x: x.fillna(x.mode().iloc[0] if not x.mode().empty else data['VehicleType'].mode()[0])\n",
    ")"
   ]
  },
  {
   "cell_type": "markdown",
   "metadata": {},
   "source": [
    "**Gearbox**"
   ]
  },
  {
   "cell_type": "markdown",
   "metadata": {},
   "source": [
    "Замена пропусков аналогично модой окажет минимальное влияние на распределение, так как пропусков мало (1.87%)"
   ]
  },
  {
   "cell_type": "code",
   "execution_count": 30,
   "metadata": {},
   "outputs": [
    {
     "name": "stdout",
     "output_type": "stream",
     "text": [
      "Распределение Gearbox после заполнения:\n",
      " manual    181495\n",
      "auto       44334\n",
      "Name: Gearbox, dtype: int64\n"
     ]
    }
   ],
   "source": [
    "mode_gearbox = data['Gearbox'].mode()[0]\n",
    "data['Gearbox'] = data['Gearbox'].fillna(mode_gearbox)\n",
    "print(\"Распределение Gearbox после заполнения:\\n\", data['Gearbox'].value_counts())"
   ]
  },
  {
   "cell_type": "markdown",
   "metadata": {},
   "source": [
    "**Model**"
   ]
  },
  {
   "cell_type": "markdown",
   "metadata": {},
   "source": [
    "Часто производители автомобилей дают уникальные названия своим автомобилям (Rio есть только у Kia), поэтому стоит проверить их корреляцию между собой, тогда логичным будет объединить строки `Brand` и `Model`"
   ]
  },
  {
   "cell_type": "code",
   "execution_count": 31,
   "metadata": {},
   "outputs": [
    {
     "name": "stdout",
     "output_type": "stream",
     "text": [
      "Корреляция между Brand и Model:\n",
      "          Brand    Model\n",
      "Brand  1.00000  0.46743\n",
      "Model  0.46743  1.00000\n"
     ]
    }
   ],
   "source": [
    "data['Model'] = data.groupby('Brand')['Model'].transform(lambda x: x.fillna(x.mode().iloc[0] if not x.mode().empty else 'unknown'))\n",
    "\n",
    "\n",
    "data_encoded = data.copy()\n",
    "\n",
    "le_brand = LabelEncoder()\n",
    "le_model = LabelEncoder()\n",
    "data_encoded['Brand'] = le_brand.fit_transform(data_encoded['Brand'])\n",
    "data_encoded['Model'] = le_model.fit_transform(data_encoded['Model'].astype(str)) \n",
    "\n",
    "corr_matrix = data_encoded[['Brand', 'Model']].corr()\n",
    "print(\"Корреляция между Brand и Model:\\n\", corr_matrix)"
   ]
  },
  {
   "cell_type": "markdown",
   "metadata": {},
   "source": [
    "Несмотря на умеренную коррреляцию (могло быть и выше (но здесь играет роль кодировщика), объединим данные признаки"
   ]
  },
  {
   "cell_type": "code",
   "execution_count": 32,
   "metadata": {},
   "outputs": [
    {
     "name": "stdout",
     "output_type": "stream",
     "text": [
      "Уникальных Brand_Model: 297\n"
     ]
    }
   ],
   "source": [
    "data['Brand_Model'] = data['Brand'] + '_' + data['Model']\n",
    "data.drop(['Brand', 'Model'], axis=1, inplace=True)\n",
    "print(\"Уникальных Brand_Model:\", data['Brand_Model'].nunique())"
   ]
  },
  {
   "cell_type": "markdown",
   "metadata": {},
   "source": [
    "**FuelType**"
   ]
  },
  {
   "cell_type": "code",
   "execution_count": 33,
   "metadata": {},
   "outputs": [
    {
     "data": {
      "text/plain": [
       "petrol      208998\n",
       "gas           4531\n",
       "hybrid         144\n",
       "other           69\n",
       "electric        64\n",
       "Name: FuelType, dtype: int64"
      ]
     },
     "execution_count": 33,
     "metadata": {},
     "output_type": "execute_result"
    }
   ],
   "source": [
    "data['FuelType'].value_counts()"
   ]
  },
  {
   "cell_type": "markdown",
   "metadata": {},
   "source": [
    "Аналогично заполним пропуски по моде бренда авто"
   ]
  },
  {
   "cell_type": "code",
   "execution_count": 34,
   "metadata": {},
   "outputs": [],
   "source": [
    "data['FuelType'] = data.groupby('Brand_Model')['FuelType'].transform(\n",
    "    lambda x: x.fillna(x.mode().iloc[0] if not x.mode().empty else 'unknown')\n",
    ")"
   ]
  },
  {
   "cell_type": "markdown",
   "metadata": {},
   "source": [
    "**Repaired**"
   ]
  },
  {
   "cell_type": "markdown",
   "metadata": {},
   "source": [
    "Налчиие пропусков в данном признаке скорее может интерпретироваться как отсутствие ремонта авто, следовательно заполним пропуски значением `no`, а также приведем данный признак к бинарному"
   ]
  },
  {
   "cell_type": "code",
   "execution_count": 35,
   "metadata": {},
   "outputs": [
    {
     "name": "stdout",
     "output_type": "stream",
     "text": [
      "Распределение Repaired:\n",
      " 0    204817\n",
      "1     21012\n",
      "Name: Repaired, dtype: int64\n"
     ]
    }
   ],
   "source": [
    "data['Repaired'] = data['Repaired'].fillna('no')\n",
    "\n",
    "data['Repaired'] = data['Repaired'].map({'yes': 1, 'no': 0})\n",
    "\n",
    "print(\"Распределение Repaired:\\n\", data['Repaired'].value_counts())"
   ]
  },
  {
   "cell_type": "code",
   "execution_count": 36,
   "metadata": {},
   "outputs": [
    {
     "data": {
      "text/plain": [
       "VehicleType         0\n",
       "RegistrationYear    0\n",
       "Gearbox             0\n",
       "Power               0\n",
       "Kilometer           0\n",
       "FuelType            0\n",
       "Repaired            0\n",
       "Price               0\n",
       "Brand_Model         0\n",
       "dtype: int64"
      ]
     },
     "execution_count": 36,
     "metadata": {},
     "output_type": "execute_result"
    }
   ],
   "source": [
    "data.isna().sum()"
   ]
  },
  {
   "cell_type": "markdown",
   "metadata": {},
   "source": [
    "### Корреляционный анализ"
   ]
  },
  {
   "cell_type": "code",
   "execution_count": 37,
   "metadata": {},
   "outputs": [],
   "source": [
    "def matrix(data, inter_cols):\n",
    "\n",
    "    phik_overview = phik_matrix(data, interval_cols=inter_cols) \n",
    "\n",
    "    plot_correlation_matrix(\n",
    "        phik_overview.values,\n",
    "        x_labels=phik_overview.columns,\n",
    "        y_labels=phik_overview.index,\n",
    "        vmin=0, vmax=1, color_map='Greens',\n",
    "        title=r'correlation $\\phi_K$',\n",
    "        fontsize_factor=1.5,\n",
    "        figsize=(20, 15)\n",
    "    ) "
   ]
  },
  {
   "cell_type": "code",
   "execution_count": 38,
   "metadata": {},
   "outputs": [
    {
     "data": {
      "image/png": "[encoded data removed]",
      "text/plain": [
       "<Figure size 1440x1080 with 2 Axes>"
      ]
     },
     "metadata": {
      "needs_background": "light"
     },
     "output_type": "display_data"
    }
   ],
   "source": [
    "inter_cols = ['Price', 'Power', 'Kilometer']\n",
    "\n",
    "matrix(data, inter_cols)"
   ]
  },
  {
   "cell_type": "markdown",
   "metadata": {},
   "source": [
    "По матрице видимо, что сильнее всего на цену влияют: `Brand_Model`(0.54), `Power`(0.44), `ResistrationYear`(0.63)"
   ]
  },
  {
   "cell_type": "markdown",
   "metadata": {},
   "source": [
    "### Промежуточный вывод"
   ]
  },
  {
   "cell_type": "markdown",
   "metadata": {},
   "source": [
    "В пункте 1 проведена загрузка и подготовка данных: \n",
    "\n",
    " - загружен датасет (354,369 строк)\n",
    " - удалены дубликаты (45,040) \n",
    " - обработаны аномалии (Price 500–14,600, RegistrationYear 1970–2016, Power 0–400)\n",
    " - заполнены пропуски (VehicleType, Gearbox, Model, FuelType по моде Brand/Brand_Model, Repaired — 'no')\n",
    " - объединены Brand и Model в Brand_Model\n",
    " - проведен корреляционный анализ (сильнее всего на Price влияют RegistrationYear (0.63), Brand_Model (0.54), Power (0.44))."
   ]
  },
  {
   "cell_type": "markdown",
   "metadata": {},
   "source": [
    "<a id=\"section2\"></a>\n",
    "## Обучение моделей"
   ]
  },
  {
   "cell_type": "markdown",
   "metadata": {},
   "source": [
    "Перед нами задача предсказания цены => задача регресии\n",
    "\n",
    "Обучим 4 ML-модели: LinearRegressor DesicionTreeRegressor, CatBoostRegressor и LightGBMRegressor"
   ]
  },
  {
   "cell_type": "markdown",
   "metadata": {},
   "source": [
    "### Разделение данных"
   ]
  },
  {
   "cell_type": "code",
   "execution_count": 39,
   "metadata": {},
   "outputs": [],
   "source": [
    "X = data.drop(columns=['Price'])\n",
    "y = data['Price']\n",
    "\n",
    "X_train, X_test, y_train, y_test = train_test_split(\n",
    "    X, y,\n",
    "    test_size=TEST_SIZE,\n",
    "    random_state=RANDOM_STATE\n",
    ")"
   ]
  },
  {
   "cell_type": "markdown",
   "metadata": {},
   "source": [
    "### Определение признаков"
   ]
  },
  {
   "cell_type": "code",
   "execution_count": 40,
   "metadata": {},
   "outputs": [],
   "source": [
    "cat_features_ohe = ['VehicleType', 'FuelType']\n",
    "\n",
    "cat_features_ord = ['Gearbox', 'Repaired']\n",
    "\n",
    "num_features = ['RegistrationYear', 'Power', 'Kilometer']"
   ]
  },
  {
   "cell_type": "markdown",
   "metadata": {},
   "source": [
    "### Препроцессинг"
   ]
  },
  {
   "cell_type": "code",
   "execution_count": 41,
   "metadata": {},
   "outputs": [],
   "source": [
    "ohe_pipeline = Pipeline([\n",
    "    ('imputer', SimpleImputer(strategy='most_frequent')),\n",
    "    ('encoder', OneHotEncoder(drop='first', handle_unknown='ignore'))\n",
    "])\n",
    "\n",
    "ord_pipeline = Pipeline([\n",
    "    ('imputer', SimpleImputer(strategy='most_frequent')),\n",
    "    ('encoder', OrdinalEncoder(handle_unknown='use_encoded_value', unknown_value=-1))\n",
    "])\n",
    "\n",
    "num_pipeline = Pipeline([\n",
    "    ('imputer', SimpleImputer(strategy='median')),\n",
    "    ('scaler', StandardScaler())\n",
    "])\n",
    "\n",
    "data_preprocessor = ColumnTransformer([\n",
    "    ('ohe', ohe_pipeline, cat_features_ohe),\n",
    "    ('ord', ord_pipeline, cat_features_ord),\n",
    "    ('num', num_pipeline, num_features)\n",
    "])"
   ]
  },
  {
   "cell_type": "markdown",
   "metadata": {},
   "source": [
    "### Модель 1: Linear Regressor"
   ]
  },
  {
   "cell_type": "code",
   "execution_count": 42,
   "metadata": {},
   "outputs": [
    {
     "name": "stdout",
     "output_type": "stream",
     "text": [
      "LinearRegression RMSE: 2433.16\n",
      "Время обучения (s): 0.68\n",
      "Время предсказаний (s): 0.30\n"
     ]
    }
   ],
   "source": [
    "pipe_lr = Pipeline([\n",
    "    ('preprocessor', data_preprocessor),\n",
    "    ('model', LinearRegression())\n",
    "])\n",
    "\n",
    "rmse_scores = -cross_val_score(pipe_lr, X_train, y_train, \n",
    "                               scoring='neg_root_mean_squared_error', \n",
    "                               cv=5, n_jobs=-1)\n",
    "\n",
    "start_time = time.time()\n",
    "pipe_lr.fit(X_train, y_train)\n",
    "train_time_lr = time.time() - start_time\n",
    "\n",
    "start_time = time.time()\n",
    "pipe_lr.predict(X_train)\n",
    "pred_time_lr = time.time() - start_time\n",
    "\n",
    "print(f'LinearRegression RMSE: {rmse_scores.mean():.2f}')\n",
    "print(f'Время обучения (s): {train_time_lr:.2f}')\n",
    "print(f'Время предсказаний (s): {pred_time_lr:.2f}')"
   ]
  },
  {
   "cell_type": "markdown",
   "metadata": {},
   "source": [
    "### Модель 2: Decision Tree Regressor"
   ]
  },
  {
   "cell_type": "code",
   "execution_count": 43,
   "metadata": {},
   "outputs": [
    {
     "name": "stdout",
     "output_type": "stream",
     "text": [
      "Fitting 5 folds for each of 10 candidates, totalling 50 fits\n",
      "Лучшие параметры DTR: {'model__min_samples_split': 10, 'model__max_depth': 20}\n",
      "DTR RMSE: 1709.22\n",
      "Время обучения (s): 0.89\n",
      "Время предсказаний (s): 0.31\n"
     ]
    }
   ],
   "source": [
    "from sklearn.tree import DecisionTreeRegressor\n",
    "from sklearn.model_selection import RandomizedSearchCV\n",
    "\n",
    "dtr_pipe = Pipeline([\n",
    "    ('preprocessor', data_preprocessor),\n",
    "    ('model', DecisionTreeRegressor(random_state=RANDOM_STATE))\n",
    "])\n",
    "\n",
    "dtr_params = {\n",
    "    'model__max_depth': [3, 5, 10, 20, None],\n",
    "    'model__min_samples_split': [2, 5, 10]\n",
    "}\n",
    "\n",
    "dtr_search = RandomizedSearchCV(dtr_pipe, dtr_params, cv=5, n_iter=10, \n",
    "                                scoring='neg_root_mean_squared_error', \n",
    "                                random_state=RANDOM_STATE, verbose=1)\n",
    "\n",
    "dtr_search.fit(X_train, y_train)\n",
    "\n",
    "start_time = time.time()\n",
    "dtr_search.best_estimator_.fit(X_train, y_train)\n",
    "train_time_dtr = time.time() - start_time\n",
    "\n",
    "start_time = time.time()\n",
    "dtr_search.best_estimator_.predict(X_train)\n",
    "pred_time_dtr = time.time() - start_time\n",
    "\n",
    "print(f'Лучшие параметры DTR: {dtr_search.best_params_}')\n",
    "print(f'DTR RMSE: {-dtr_search.best_score_:.2f}')\n",
    "print(f'Время обучения (s): {train_time_dtr:.2f}')\n",
    "print(f'Время предсказаний (s): {pred_time_dtr:.2f}')"
   ]
  },
  {
   "cell_type": "markdown",
   "metadata": {},
   "source": [
    "### Модель 3: CatBoostRegressor "
   ]
  },
  {
   "cell_type": "code",
   "execution_count": 44,
   "metadata": {},
   "outputs": [
    {
     "name": "stdout",
     "output_type": "stream",
     "text": [
      "Fitting 5 folds for each of 10 candidates, totalling 50 fits\n",
      "Лучшие параметры CatBoost: {'learning_rate': 0.1, 'iterations': 300, 'depth': 6}\n",
      "CatBoost RMSE: 1441.91\n",
      "Время обучения (s): 31.49\n",
      "Время предсказаний (s): 0.45\n"
     ]
    }
   ],
   "source": [
    "cat_features = ['Brand_Model', 'VehicleType', 'FuelType', 'Gearbox', 'Repaired'] \n",
    "\n",
    "model_cat = CatBoostRegressor(verbose=0, random_state=RANDOM_STATE)\n",
    "\n",
    "param_grid_cat = {\n",
    "    'depth': [4, 6, 8],\n",
    "    'learning_rate': [0.01, 0.05, 0.1],\n",
    "    'iterations': [100, 200, 300]\n",
    "}\n",
    "\n",
    "train_pool = Pool(data=X_train, label=y_train, cat_features=cat_features)\n",
    "\n",
    "random_search_cat = RandomizedSearchCV(model_cat, param_grid_cat, \n",
    "                                       cv=5, n_iter=10, \n",
    "                                       scoring='neg_root_mean_squared_error', \n",
    "                                       random_state=RANDOM_STATE, n_jobs=-1, verbose=1)\n",
    "\n",
    "random_search_cat.fit(X_train, y_train, cat_features=cat_features)\n",
    "\n",
    "start_time = time.time()\n",
    "random_search_cat.best_estimator_.fit(X_train, y_train, cat_features=cat_features)\n",
    "train_time_cat = time.time() - start_time\n",
    "\n",
    "start_time = time.time()\n",
    "random_search_cat.best_estimator_.predict(X_train)\n",
    "pred_time_cat = time.time() - start_time\n",
    "\n",
    "print(f'Лучшие параметры CatBoost: {random_search_cat.best_params_}')\n",
    "print(f'CatBoost RMSE: {-random_search_cat.best_score_:.2f}')\n",
    "print(f'Время обучения (s): {train_time_cat:.2f}')\n",
    "print(f'Время предсказаний (s): {pred_time_cat:.2f}')"
   ]
  },
  {
   "cell_type": "markdown",
   "metadata": {},
   "source": [
    "### Модель 4: LightGBM"
   ]
  },
  {
   "cell_type": "code",
   "execution_count": 45,
   "metadata": {},
   "outputs": [
    {
     "name": "stdout",
     "output_type": "stream",
     "text": [
      "Fitting 5 folds for each of 10 candidates, totalling 50 fits\n",
      "Лучшие параметры LGBM: {'model__n_estimators': 200, 'model__max_depth': -1, 'model__learning_rate': 0.1}\n",
      "LGBM RMSE: 1597.44\n",
      "Время обучения (s): 5.99\n",
      "Время предсказаний (s): 2.41\n"
     ]
    }
   ],
   "source": [
    "lgbm_pipe = Pipeline([\n",
    "    ('preprocessor', data_preprocessor),\n",
    "    ('model', LGBMRegressor(random_state=RANDOM_STATE))\n",
    "])\n",
    "\n",
    "lgbm_params = {\n",
    "    'model__n_estimators': [50, 100, 200],\n",
    "    'model__max_depth': [3, 5, 10, -1],\n",
    "    'model__learning_rate': [0.01, 0.05, 0.1]\n",
    "}\n",
    "\n",
    "lgbm_search = RandomizedSearchCV(lgbm_pipe, lgbm_params, cv=5, n_iter=10, \n",
    "                                 scoring='neg_root_mean_squared_error', \n",
    "                                 random_state=RANDOM_STATE, verbose=1)\n",
    "\n",
    "lgbm_search.fit(X_train, y_train)\n",
    "\n",
    "start_time = time.time()\n",
    "lgbm_search.best_estimator_.fit(X_train, y_train)\n",
    "train_time_lgbm = time.time() - start_time\n",
    "\n",
    "start_time = time.time()\n",
    "lgbm_search.best_estimator_.predict(X_train)\n",
    "pred_time_lgbm = time.time() - start_time\n",
    "\n",
    "print(f'Лучшие параметры LGBM: {lgbm_search.best_params_}')\n",
    "print(f'LGBM RMSE: {-lgbm_search.best_score_:.2f}')\n",
    "print(f'Время обучения (s): {train_time_lgbm:.2f}')\n",
    "print(f'Время предсказаний (s): {pred_time_lgbm:.2f}')"
   ]
  },
  {
   "cell_type": "markdown",
   "metadata": {},
   "source": [
    "<a id=\"section3\"></a>\n",
    "## Анализ моделей"
   ]
  },
  {
   "cell_type": "markdown",
   "metadata": {},
   "source": [
    "### Анализ"
   ]
  },
  {
   "cell_type": "markdown",
   "metadata": {},
   "source": [
    "| Модель                  | RMSE на кросс-валидации | Время обучения (сек.) | Время предсказания (сек.) |\n",
    "|-------------------------|--------------------------|------------------------|---------------------------|\n",
    "| Linear Regression       | 2433.16                  | 0.68                   | 0.30                      |\n",
    "| Decision Tree Regressor | 1709.22                  | 0.89                   | 0.31                      |\n",
    "| CatBoost Regressor      | 1441.91                  | 31.49                  | 0.45                      |\n",
    "| LightGBM Regressor      | 1597.44                  |  5.99                  | 2.41                      |\n"
   ]
  },
  {
   "cell_type": "markdown",
   "metadata": {},
   "source": [
    "**Качество предсказания (RMSE)**\n",
    " - `CatBoost Regressor` показал лучшее качество предсказания (RMSE = 1441.91).\n",
    "\n",
    " - Далее идут `LightGBM` (RMSE = 1597.44) и `Decision Tree` (RMSE = 1709.22).\n",
    "\n",
    " - `Linear Regression` имеет худшее качество (RMSE = 2433.16).\n",
    "\n",
    "**Время обучения**\n",
    " - Самое быстрое обучение у `Linear Regression` (0.69 сек) и `Decision Tree` (0.91 сек).\n",
    "\n",
    " - `LightGBM` — 5.80 сек, `CatBoost` — самое долгое (31.75 сек).\n",
    "\n",
    "**Время предсказания**\n",
    " - Быстрее всех предсказывают `Decision Tree` (0.29 сек) и `Linear Regression` (0.33 сек).\n",
    "\n",
    " - `CatBoost` — 0.47 сек, `LightGBM` — самое медленное (2.42 сек).\n",
    "\n",
    "**Итоговый выбор модели***\n",
    "\n",
    "Если ориентироваться только на качество, то `CatBoost Regressor` лидирует.\n",
    "\n",
    "<u>Однако при выборе по соотношению время/качество:</u>\n",
    "\n",
    " - `Decision Tree Regressor` показывает достаточно хорошее качество (RMSE = 1709.22) при очень низком времени обучения и предсказания.\n",
    "\n",
    " - `LightGBM Regressor` немного точнее, но значительно дольше работает, особенно при предсказании (2.42 сек).\n",
    "\n",
    "***Вывод:***\n",
    "`Decision Tree Regressor` — оптимальная модель по соотношению качество/время.\n",
    "Он обеспечивает хорошее качество предсказаний при минимальных временных затратах, что делает его подходящим выбором для задач с ограниченными ресурсами или требующих быстрой обработки."
   ]
  },
  {
   "cell_type": "code",
   "execution_count": 46,
   "metadata": {},
   "outputs": [],
   "source": [
    "best_model = dtr_search.best_estimator_"
   ]
  },
  {
   "cell_type": "markdown",
   "metadata": {},
   "source": [
    "### Получение предсказаний на лучшей модели"
   ]
  },
  {
   "cell_type": "code",
   "execution_count": 47,
   "metadata": {},
   "outputs": [
    {
     "name": "stdout",
     "output_type": "stream",
     "text": [
      "DTR RMSE на тестовой выборке: 1698.6350145412825\n"
     ]
    },
    {
     "name": "stderr",
     "output_type": "stream",
     "text": [
      "/opt/conda/lib/python3.9/site-packages/sklearn/metrics/_regression.py:492: FutureWarning: 'squared' is deprecated in version 1.4 and will be removed in 1.6. To calculate the root mean squared error, use the function'root_mean_squared_error'.\n",
      "  warnings.warn(\n"
     ]
    }
   ],
   "source": [
    "y_pred_dtr = best_model.predict(X_test)\n",
    "rmse_dtr = mean_squared_error(y_test, y_pred_dtr, squared=False)\n",
    "\n",
    "print(\"DTR RMSE на тестовой выборке:\", rmse_dtr)"
   ]
  },
  {
   "cell_type": "markdown",
   "metadata": {},
   "source": [
    "<a id=\"section4\"></a>\n",
    "## Общий вывод"
   ]
  },
  {
   "cell_type": "markdown",
   "metadata": {},
   "source": [
    "В рамках проекта разработана модель для предсказания рыночной стоимости автомобилей на основе исторических данных. Проведена тщательная предобработка данных:\n",
    "\n",
    " - удалены дубликаты \n",
    " - обработаны аномалии \n",
    " - заполнены пропуски по моде или логическим значениям\n",
    " - объединены признаки Brand и Model в Brand_Model. \n",
    " - Корреляционный анализ выявил ключевые факторы, влияющие на цену: RegistrationYear (0.63), Brand_Model (0.54), Power (0.44).\n",
    "\n",
    "Обучены четыре модели: `LinearRegression`, `DecisionTreeRegressor`, `CatBoostRegressor` и `LightGBMRegressor`. \n",
    "\n",
    "**По итогам анализа:**\n",
    "\n",
    " - `CatBoost Regressor` показал лучшее качество (RMSE = 1441.91), но работает заметно дольше.\n",
    "\n",
    " - `LightGBM Regressor` — близкий по качеству (RMSE = 1597.44), но требует больше времени на предсказание (2.42 сек.).\n",
    "\n",
    " - `Decision Tree Regressor` уступает в точности, но выигрывает в времени обучения и предсказания, при этом RMSE остаётся приемлемым (1709.22).\n",
    "\n",
    "С учётом баланса между качеством и временем, `Decision Tree Regressor` признан оптимальной моделью:\n",
    "он обеспечивает достойное качество при минимальных затратах времени — это важно для быстрой работы в реальном приложении и на ограниченных ресурсах.\n",
    "\n",
    "На тестовой выборке `Decision Tree Regressor` показал RMSE = 1698.64, что подтверждает его устойчивость и способность обобщать."
   ]
  }
 ],
 "metadata": {
  "ExecuteTimeLog": [
   {
    "duration": 3374,
    "start_time": "2025-04-17T19:38:13.525Z"
   },
   {
    "duration": 3193,
    "start_time": "2025-04-17T19:59:25.114Z"
   },
   {
    "duration": 1935,
    "start_time": "2025-04-17T20:02:36.910Z"
   },
   {
    "duration": 7563,
    "start_time": "2025-04-17T20:03:32.421Z"
   },
   {
    "duration": 22,
    "start_time": "2025-04-17T20:03:41.529Z"
   },
   {
    "duration": 22,
    "start_time": "2025-04-17T20:07:19.718Z"
   },
   {
    "duration": 19,
    "start_time": "2025-04-17T20:07:56.014Z"
   },
   {
    "duration": 2770,
    "start_time": "2025-04-17T20:11:41.493Z"
   },
   {
    "duration": 2796,
    "start_time": "2025-04-17T20:11:44.266Z"
   },
   {
    "duration": 6806,
    "start_time": "2025-04-17T20:11:47.064Z"
   },
   {
    "duration": 1755,
    "start_time": "2025-04-17T20:11:53.873Z"
   },
   {
    "duration": 43,
    "start_time": "2025-04-17T20:12:04.795Z"
   },
   {
    "duration": 2,
    "start_time": "2025-04-17T20:14:41.283Z"
   },
   {
    "duration": 1047,
    "start_time": "2025-04-17T21:09:07.218Z"
   },
   {
    "duration": 1085,
    "start_time": "2025-04-17T21:09:16.106Z"
   },
   {
    "duration": 35,
    "start_time": "2025-04-17T21:21:16.671Z"
   },
   {
    "duration": 183,
    "start_time": "2025-04-17T21:28:11.943Z"
   },
   {
    "duration": 51,
    "start_time": "2025-04-18T06:58:28.200Z"
   },
   {
    "duration": 2759,
    "start_time": "2025-04-18T06:58:55.960Z"
   },
   {
    "duration": 3056,
    "start_time": "2025-04-18T06:58:58.722Z"
   },
   {
    "duration": 6728,
    "start_time": "2025-04-18T06:59:01.780Z"
   },
   {
    "duration": 1692,
    "start_time": "2025-04-18T06:59:08.510Z"
   },
   {
    "duration": 3,
    "start_time": "2025-04-18T06:59:10.204Z"
   },
   {
    "duration": 982,
    "start_time": "2025-04-18T06:59:10.209Z"
   },
   {
    "duration": 21,
    "start_time": "2025-04-18T06:59:11.193Z"
   },
   {
    "duration": 170,
    "start_time": "2025-04-18T06:59:11.215Z"
   },
   {
    "duration": 325,
    "start_time": "2025-04-18T06:59:11.387Z"
   },
   {
    "duration": 22,
    "start_time": "2025-04-18T07:44:04.061Z"
   },
   {
    "duration": 24,
    "start_time": "2025-04-18T07:44:15.126Z"
   },
   {
    "duration": 136,
    "start_time": "2025-04-18T07:55:40.288Z"
   },
   {
    "duration": 2473,
    "start_time": "2025-04-18T07:56:08.707Z"
   },
   {
    "duration": 2504,
    "start_time": "2025-04-18T07:56:11.183Z"
   },
   {
    "duration": 2531,
    "start_time": "2025-04-18T07:56:13.689Z"
   },
   {
    "duration": 1449,
    "start_time": "2025-04-18T07:56:16.222Z"
   },
   {
    "duration": 2,
    "start_time": "2025-04-18T07:56:17.674Z"
   },
   {
    "duration": 907,
    "start_time": "2025-04-18T07:56:17.678Z"
   },
   {
    "duration": 17,
    "start_time": "2025-04-18T07:56:18.587Z"
   },
   {
    "duration": 168,
    "start_time": "2025-04-18T07:56:18.605Z"
   },
   {
    "duration": 296,
    "start_time": "2025-04-18T07:56:18.774Z"
   },
   {
    "duration": 69,
    "start_time": "2025-04-18T07:56:19.071Z"
   },
   {
    "duration": 70,
    "start_time": "2025-04-18T07:56:19.142Z"
   },
   {
    "duration": 15,
    "start_time": "2025-04-18T07:56:36.153Z"
   },
   {
    "duration": 296,
    "start_time": "2025-04-18T08:22:26.727Z"
   },
   {
    "duration": 625,
    "start_time": "2025-04-18T08:24:07.529Z"
   },
   {
    "duration": 532,
    "start_time": "2025-04-18T08:24:19.139Z"
   },
   {
    "duration": 513,
    "start_time": "2025-04-18T08:30:21.069Z"
   },
   {
    "duration": 685,
    "start_time": "2025-04-18T08:30:53.139Z"
   },
   {
    "duration": 541,
    "start_time": "2025-04-18T08:32:59.705Z"
   },
   {
    "duration": 553,
    "start_time": "2025-04-18T08:35:48.820Z"
   },
   {
    "duration": 520,
    "start_time": "2025-04-18T08:36:47.047Z"
   },
   {
    "duration": 316,
    "start_time": "2025-04-18T08:42:36.893Z"
   },
   {
    "duration": 105,
    "start_time": "2025-04-18T08:48:57.163Z"
   },
   {
    "duration": 108,
    "start_time": "2025-04-18T08:49:13.270Z"
   },
   {
    "duration": 54,
    "start_time": "2025-04-18T09:05:21.944Z"
   },
   {
    "duration": 61,
    "start_time": "2025-04-18T09:07:20.929Z"
   },
   {
    "duration": 35,
    "start_time": "2025-04-18T09:08:08.598Z"
   },
   {
    "duration": 17,
    "start_time": "2025-04-18T09:12:39.941Z"
   },
   {
    "duration": 28,
    "start_time": "2025-04-18T09:14:09.958Z"
   },
   {
    "duration": 3,
    "start_time": "2025-04-18T09:17:41.176Z"
   },
   {
    "duration": 5,
    "start_time": "2025-04-18T09:17:59.460Z"
   },
   {
    "duration": 4,
    "start_time": "2025-04-18T09:18:18.394Z"
   },
   {
    "duration": 4,
    "start_time": "2025-04-18T09:24:21.555Z"
   },
   {
    "duration": 7,
    "start_time": "2025-04-18T09:24:35.115Z"
   },
   {
    "duration": 33,
    "start_time": "2025-04-18T09:25:49.011Z"
   },
   {
    "duration": 2906,
    "start_time": "2025-04-18T09:26:15.375Z"
   },
   {
    "duration": 7,
    "start_time": "2025-04-18T09:34:28.079Z"
   },
   {
    "duration": 31911,
    "start_time": "2025-04-18T09:35:31.320Z"
   },
   {
    "duration": 2543,
    "start_time": "2025-04-18T09:56:56.607Z"
   },
   {
    "duration": 2599,
    "start_time": "2025-04-18T09:56:59.153Z"
   },
   {
    "duration": 2493,
    "start_time": "2025-04-18T09:57:01.754Z"
   },
   {
    "duration": 1449,
    "start_time": "2025-04-18T09:57:04.250Z"
   },
   {
    "duration": 3,
    "start_time": "2025-04-18T09:57:05.701Z"
   },
   {
    "duration": 962,
    "start_time": "2025-04-18T09:57:05.705Z"
   },
   {
    "duration": 17,
    "start_time": "2025-04-18T09:57:06.669Z"
   },
   {
    "duration": 168,
    "start_time": "2025-04-18T09:57:06.688Z"
   },
   {
    "duration": 306,
    "start_time": "2025-04-18T09:57:06.858Z"
   },
   {
    "duration": 65,
    "start_time": "2025-04-18T09:57:07.166Z"
   },
   {
    "duration": 675,
    "start_time": "2025-04-18T09:57:07.238Z"
   },
   {
    "duration": 347,
    "start_time": "2025-04-18T09:57:07.914Z"
   },
   {
    "duration": 108,
    "start_time": "2025-04-18T09:57:08.263Z"
   },
   {
    "duration": 64,
    "start_time": "2025-04-18T09:57:08.374Z"
   },
   {
    "duration": 35,
    "start_time": "2025-04-18T09:57:08.439Z"
   },
   {
    "duration": 3,
    "start_time": "2025-04-18T09:57:08.475Z"
   },
   {
    "duration": 15,
    "start_time": "2025-04-18T09:57:08.480Z"
   },
   {
    "duration": 17,
    "start_time": "2025-04-18T09:57:08.497Z"
   },
   {
    "duration": 12,
    "start_time": "2025-04-18T09:57:08.515Z"
   },
   {
    "duration": 7,
    "start_time": "2025-04-18T09:57:08.536Z"
   },
   {
    "duration": 32132,
    "start_time": "2025-04-18T09:57:08.545Z"
   },
   {
    "duration": 2596,
    "start_time": "2025-04-18T10:00:12.723Z"
   },
   {
    "duration": 2501,
    "start_time": "2025-04-18T10:00:15.322Z"
   },
   {
    "duration": 2485,
    "start_time": "2025-04-18T10:00:17.828Z"
   },
   {
    "duration": 1476,
    "start_time": "2025-04-18T10:00:20.316Z"
   },
   {
    "duration": 2,
    "start_time": "2025-04-18T10:00:21.794Z"
   },
   {
    "duration": 973,
    "start_time": "2025-04-18T10:00:21.798Z"
   },
   {
    "duration": 19,
    "start_time": "2025-04-18T10:00:22.772Z"
   },
   {
    "duration": 173,
    "start_time": "2025-04-18T10:00:22.792Z"
   },
   {
    "duration": 303,
    "start_time": "2025-04-18T10:00:22.966Z"
   },
   {
    "duration": 74,
    "start_time": "2025-04-18T10:00:23.271Z"
   },
   {
    "duration": 639,
    "start_time": "2025-04-18T10:00:23.347Z"
   },
   {
    "duration": 367,
    "start_time": "2025-04-18T10:00:23.988Z"
   },
   {
    "duration": 109,
    "start_time": "2025-04-18T10:00:24.358Z"
   },
   {
    "duration": 80,
    "start_time": "2025-04-18T10:00:24.469Z"
   },
   {
    "duration": 35,
    "start_time": "2025-04-18T10:00:24.551Z"
   },
   {
    "duration": 3,
    "start_time": "2025-04-18T10:00:24.588Z"
   },
   {
    "duration": 14,
    "start_time": "2025-04-18T10:00:24.593Z"
   },
   {
    "duration": 22,
    "start_time": "2025-04-18T10:00:24.609Z"
   },
   {
    "duration": 10,
    "start_time": "2025-04-18T10:00:24.633Z"
   },
   {
    "duration": 7,
    "start_time": "2025-04-18T10:00:24.645Z"
   },
   {
    "duration": 31948,
    "start_time": "2025-04-18T10:00:24.654Z"
   },
   {
    "duration": 2566,
    "start_time": "2025-04-18T10:02:05.106Z"
   },
   {
    "duration": 2527,
    "start_time": "2025-04-18T10:02:07.675Z"
   },
   {
    "duration": 2502,
    "start_time": "2025-04-18T10:02:10.204Z"
   },
   {
    "duration": 1494,
    "start_time": "2025-04-18T10:02:12.708Z"
   },
   {
    "duration": 3,
    "start_time": "2025-04-18T10:02:14.204Z"
   },
   {
    "duration": 956,
    "start_time": "2025-04-18T10:02:14.208Z"
   },
   {
    "duration": 18,
    "start_time": "2025-04-18T10:02:15.166Z"
   },
   {
    "duration": 169,
    "start_time": "2025-04-18T10:02:15.186Z"
   },
   {
    "duration": 348,
    "start_time": "2025-04-18T10:02:15.357Z"
   },
   {
    "duration": 67,
    "start_time": "2025-04-18T10:02:15.707Z"
   },
   {
    "duration": 648,
    "start_time": "2025-04-18T10:02:15.776Z"
   },
   {
    "duration": 339,
    "start_time": "2025-04-18T10:02:16.426Z"
   },
   {
    "duration": 104,
    "start_time": "2025-04-18T10:02:16.767Z"
   },
   {
    "duration": 73,
    "start_time": "2025-04-18T10:02:16.873Z"
   },
   {
    "duration": 34,
    "start_time": "2025-04-18T10:02:16.948Z"
   },
   {
    "duration": 3,
    "start_time": "2025-04-18T10:02:16.984Z"
   },
   {
    "duration": 7,
    "start_time": "2025-04-18T10:02:16.988Z"
   },
   {
    "duration": 4,
    "start_time": "2025-04-18T10:02:16.997Z"
   },
   {
    "duration": 4,
    "start_time": "2025-04-18T10:02:17.003Z"
   },
   {
    "duration": 30,
    "start_time": "2025-04-18T10:02:17.009Z"
   },
   {
    "duration": 31997,
    "start_time": "2025-04-18T10:02:17.041Z"
   },
   {
    "duration": 2532,
    "start_time": "2025-04-18T10:04:14.012Z"
   },
   {
    "duration": 2493,
    "start_time": "2025-04-18T10:04:16.547Z"
   },
   {
    "duration": 2494,
    "start_time": "2025-04-18T10:04:19.042Z"
   },
   {
    "duration": 1444,
    "start_time": "2025-04-18T10:04:21.538Z"
   },
   {
    "duration": 3,
    "start_time": "2025-04-18T10:04:22.985Z"
   },
   {
    "duration": 919,
    "start_time": "2025-04-18T10:04:22.990Z"
   },
   {
    "duration": 27,
    "start_time": "2025-04-18T10:04:23.911Z"
   },
   {
    "duration": 158,
    "start_time": "2025-04-18T10:04:23.940Z"
   },
   {
    "duration": 327,
    "start_time": "2025-04-18T10:04:24.099Z"
   },
   {
    "duration": 65,
    "start_time": "2025-04-18T10:04:24.428Z"
   },
   {
    "duration": 674,
    "start_time": "2025-04-18T10:04:24.495Z"
   },
   {
    "duration": 342,
    "start_time": "2025-04-18T10:04:25.171Z"
   },
   {
    "duration": 104,
    "start_time": "2025-04-18T10:04:25.515Z"
   },
   {
    "duration": 74,
    "start_time": "2025-04-18T10:04:25.621Z"
   },
   {
    "duration": 49,
    "start_time": "2025-04-18T10:04:25.696Z"
   },
   {
    "duration": 2,
    "start_time": "2025-04-18T10:04:25.747Z"
   },
   {
    "duration": 6,
    "start_time": "2025-04-18T10:04:25.751Z"
   },
   {
    "duration": 23,
    "start_time": "2025-04-18T10:04:25.758Z"
   },
   {
    "duration": 77,
    "start_time": "2025-04-18T10:04:25.783Z"
   },
   {
    "duration": 20,
    "start_time": "2025-04-18T10:04:25.862Z"
   },
   {
    "duration": 36117,
    "start_time": "2025-04-18T10:04:25.884Z"
   },
   {
    "duration": 2459,
    "start_time": "2025-04-18T10:07:17.427Z"
   },
   {
    "duration": 2479,
    "start_time": "2025-04-18T10:07:19.888Z"
   },
   {
    "duration": 2544,
    "start_time": "2025-04-18T10:07:22.369Z"
   },
   {
    "duration": 1465,
    "start_time": "2025-04-18T10:07:24.915Z"
   },
   {
    "duration": 3,
    "start_time": "2025-04-18T10:07:26.383Z"
   },
   {
    "duration": 932,
    "start_time": "2025-04-18T10:07:26.387Z"
   },
   {
    "duration": 21,
    "start_time": "2025-04-18T10:07:27.321Z"
   },
   {
    "duration": 161,
    "start_time": "2025-04-18T10:07:27.344Z"
   },
   {
    "duration": 304,
    "start_time": "2025-04-18T10:07:27.507Z"
   },
   {
    "duration": 65,
    "start_time": "2025-04-18T10:07:27.813Z"
   },
   {
    "duration": 658,
    "start_time": "2025-04-18T10:07:27.879Z"
   },
   {
    "duration": 342,
    "start_time": "2025-04-18T10:07:28.539Z"
   },
   {
    "duration": 104,
    "start_time": "2025-04-18T10:07:28.883Z"
   },
   {
    "duration": 62,
    "start_time": "2025-04-18T10:07:28.990Z"
   },
   {
    "duration": 34,
    "start_time": "2025-04-18T10:07:29.054Z"
   },
   {
    "duration": 48,
    "start_time": "2025-04-18T10:07:29.090Z"
   },
   {
    "duration": 18,
    "start_time": "2025-04-18T10:07:29.139Z"
   },
   {
    "duration": 7,
    "start_time": "2025-04-18T10:07:29.158Z"
   },
   {
    "duration": 16,
    "start_time": "2025-04-18T10:07:29.166Z"
   },
   {
    "duration": 27,
    "start_time": "2025-04-18T10:07:29.184Z"
   },
   {
    "duration": 34903,
    "start_time": "2025-04-18T10:07:29.213Z"
   },
   {
    "duration": 39,
    "start_time": "2025-04-18T10:11:42.013Z"
   },
   {
    "duration": 2488,
    "start_time": "2025-04-18T10:11:47.950Z"
   },
   {
    "duration": 2534,
    "start_time": "2025-04-18T10:11:50.441Z"
   },
   {
    "duration": 2575,
    "start_time": "2025-04-18T10:11:52.977Z"
   },
   {
    "duration": 1483,
    "start_time": "2025-04-18T10:11:55.554Z"
   },
   {
    "duration": 2,
    "start_time": "2025-04-18T10:11:57.040Z"
   },
   {
    "duration": 971,
    "start_time": "2025-04-18T10:11:57.044Z"
   },
   {
    "duration": 31,
    "start_time": "2025-04-18T10:11:58.018Z"
   },
   {
    "duration": 164,
    "start_time": "2025-04-18T10:11:58.051Z"
   },
   {
    "duration": 313,
    "start_time": "2025-04-18T10:11:58.217Z"
   },
   {
    "duration": 70,
    "start_time": "2025-04-18T10:11:58.531Z"
   },
   {
    "duration": 658,
    "start_time": "2025-04-18T10:11:58.603Z"
   },
   {
    "duration": 349,
    "start_time": "2025-04-18T10:11:59.263Z"
   },
   {
    "duration": 105,
    "start_time": "2025-04-18T10:11:59.614Z"
   },
   {
    "duration": 65,
    "start_time": "2025-04-18T10:11:59.721Z"
   },
   {
    "duration": 34,
    "start_time": "2025-04-18T10:11:59.787Z"
   },
   {
    "duration": 38,
    "start_time": "2025-04-18T10:11:59.837Z"
   },
   {
    "duration": 5,
    "start_time": "2025-04-18T10:11:59.877Z"
   },
   {
    "duration": 4,
    "start_time": "2025-04-18T10:11:59.884Z"
   },
   {
    "duration": 4,
    "start_time": "2025-04-18T10:11:59.890Z"
   },
   {
    "duration": 6,
    "start_time": "2025-04-18T10:11:59.896Z"
   },
   {
    "duration": 33900,
    "start_time": "2025-04-18T10:11:59.903Z"
   },
   {
    "duration": 2542,
    "start_time": "2025-04-18T10:13:09.955Z"
   },
   {
    "duration": 2550,
    "start_time": "2025-04-18T10:13:12.500Z"
   },
   {
    "duration": 2536,
    "start_time": "2025-04-18T10:13:15.053Z"
   },
   {
    "duration": 1401,
    "start_time": "2025-04-18T10:13:17.591Z"
   },
   {
    "duration": 3,
    "start_time": "2025-04-18T10:13:18.994Z"
   },
   {
    "duration": 956,
    "start_time": "2025-04-18T10:13:18.998Z"
   },
   {
    "duration": 19,
    "start_time": "2025-04-18T10:13:19.956Z"
   },
   {
    "duration": 180,
    "start_time": "2025-04-18T10:13:19.976Z"
   },
   {
    "duration": 319,
    "start_time": "2025-04-18T10:13:20.158Z"
   },
   {
    "duration": 74,
    "start_time": "2025-04-18T10:13:20.479Z"
   },
   {
    "duration": 660,
    "start_time": "2025-04-18T10:13:20.555Z"
   },
   {
    "duration": 352,
    "start_time": "2025-04-18T10:13:21.216Z"
   },
   {
    "duration": 114,
    "start_time": "2025-04-18T10:13:21.570Z"
   },
   {
    "duration": 69,
    "start_time": "2025-04-18T10:13:21.688Z"
   },
   {
    "duration": 35,
    "start_time": "2025-04-18T10:13:21.759Z"
   },
   {
    "duration": 3,
    "start_time": "2025-04-18T10:13:21.796Z"
   },
   {
    "duration": 95,
    "start_time": "2025-04-18T10:13:21.800Z"
   },
   {
    "duration": 59,
    "start_time": "2025-04-18T10:13:21.897Z"
   },
   {
    "duration": 38,
    "start_time": "2025-04-18T10:13:21.958Z"
   },
   {
    "duration": 6,
    "start_time": "2025-04-18T10:13:21.998Z"
   },
   {
    "duration": 34384,
    "start_time": "2025-04-18T10:13:22.006Z"
   },
   {
    "duration": 2524,
    "start_time": "2025-04-18T10:16:35.225Z"
   },
   {
    "duration": 2441,
    "start_time": "2025-04-18T10:16:37.751Z"
   },
   {
    "duration": 2502,
    "start_time": "2025-04-18T10:16:40.195Z"
   },
   {
    "duration": 1397,
    "start_time": "2025-04-18T10:16:42.700Z"
   },
   {
    "duration": 2,
    "start_time": "2025-04-18T10:16:44.099Z"
   },
   {
    "duration": 1011,
    "start_time": "2025-04-18T10:16:44.103Z"
   },
   {
    "duration": 31,
    "start_time": "2025-04-18T10:16:45.115Z"
   },
   {
    "duration": 214,
    "start_time": "2025-04-18T10:16:45.148Z"
   },
   {
    "duration": 315,
    "start_time": "2025-04-18T10:16:45.364Z"
   },
   {
    "duration": 70,
    "start_time": "2025-04-18T10:16:45.682Z"
   },
   {
    "duration": 664,
    "start_time": "2025-04-18T10:16:45.754Z"
   },
   {
    "duration": 340,
    "start_time": "2025-04-18T10:16:46.420Z"
   },
   {
    "duration": 114,
    "start_time": "2025-04-18T10:16:46.762Z"
   },
   {
    "duration": 69,
    "start_time": "2025-04-18T10:16:46.878Z"
   },
   {
    "duration": 35,
    "start_time": "2025-04-18T10:16:46.949Z"
   },
   {
    "duration": 3,
    "start_time": "2025-04-18T10:16:46.986Z"
   },
   {
    "duration": 17,
    "start_time": "2025-04-18T10:16:46.991Z"
   },
   {
    "duration": 5,
    "start_time": "2025-04-18T10:16:47.010Z"
   },
   {
    "duration": 22,
    "start_time": "2025-04-18T10:16:47.017Z"
   },
   {
    "duration": 15,
    "start_time": "2025-04-18T10:16:47.041Z"
   },
   {
    "duration": 34288,
    "start_time": "2025-04-18T10:16:47.058Z"
   },
   {
    "duration": 9,
    "start_time": "2025-04-18T10:30:28.680Z"
   },
   {
    "duration": 10,
    "start_time": "2025-04-18T10:30:36.239Z"
   },
   {
    "duration": 9,
    "start_time": "2025-04-18T10:30:47.088Z"
   },
   {
    "duration": 5,
    "start_time": "2025-04-18T10:30:57.607Z"
   },
   {
    "duration": 6,
    "start_time": "2025-04-18T10:31:12.724Z"
   },
   {
    "duration": 11,
    "start_time": "2025-04-18T10:31:18.671Z"
   },
   {
    "duration": 24,
    "start_time": "2025-04-18T10:32:21.201Z"
   },
   {
    "duration": 33,
    "start_time": "2025-04-18T10:32:50.721Z"
   },
   {
    "duration": 3,
    "start_time": "2025-04-18T10:33:59.339Z"
   },
   {
    "duration": 60,
    "start_time": "2025-04-18T10:43:28.338Z"
   },
   {
    "duration": 2561,
    "start_time": "2025-04-18T10:43:44.629Z"
   },
   {
    "duration": 2446,
    "start_time": "2025-04-18T10:43:47.193Z"
   },
   {
    "duration": 2556,
    "start_time": "2025-04-18T10:43:49.641Z"
   },
   {
    "duration": 2084,
    "start_time": "2025-04-18T10:43:52.199Z"
   },
   {
    "duration": 3,
    "start_time": "2025-04-18T10:43:54.285Z"
   },
   {
    "duration": 961,
    "start_time": "2025-04-18T10:43:54.289Z"
   },
   {
    "duration": 20,
    "start_time": "2025-04-18T10:43:55.252Z"
   },
   {
    "duration": 172,
    "start_time": "2025-04-18T10:43:55.274Z"
   },
   {
    "duration": 314,
    "start_time": "2025-04-18T10:43:55.447Z"
   },
   {
    "duration": 65,
    "start_time": "2025-04-18T10:43:55.763Z"
   },
   {
    "duration": 652,
    "start_time": "2025-04-18T10:43:55.837Z"
   },
   {
    "duration": 346,
    "start_time": "2025-04-18T10:43:56.491Z"
   },
   {
    "duration": 112,
    "start_time": "2025-04-18T10:43:56.839Z"
   },
   {
    "duration": 56,
    "start_time": "2025-04-18T10:43:56.955Z"
   },
   {
    "duration": 46,
    "start_time": "2025-04-18T10:43:57.013Z"
   },
   {
    "duration": 3,
    "start_time": "2025-04-18T10:43:57.061Z"
   },
   {
    "duration": 6,
    "start_time": "2025-04-18T10:43:57.066Z"
   },
   {
    "duration": 18,
    "start_time": "2025-04-18T10:43:57.074Z"
   },
   {
    "duration": 5,
    "start_time": "2025-04-18T10:43:57.094Z"
   },
   {
    "duration": 6,
    "start_time": "2025-04-18T10:43:57.101Z"
   },
   {
    "duration": 34894,
    "start_time": "2025-04-18T10:43:57.109Z"
   },
   {
    "duration": 32,
    "start_time": "2025-04-18T10:44:32.005Z"
   },
   {
    "duration": 4,
    "start_time": "2025-04-18T10:44:32.039Z"
   },
   {
    "duration": 26,
    "start_time": "2025-04-18T10:47:11.903Z"
   },
   {
    "duration": 27,
    "start_time": "2025-04-18T10:49:07.862Z"
   },
   {
    "duration": 2640,
    "start_time": "2025-04-18T11:06:23.126Z"
   },
   {
    "duration": 2503,
    "start_time": "2025-04-18T11:06:25.769Z"
   },
   {
    "duration": 2456,
    "start_time": "2025-04-18T11:06:28.274Z"
   },
   {
    "duration": 1494,
    "start_time": "2025-04-18T11:06:30.733Z"
   },
   {
    "duration": 2,
    "start_time": "2025-04-18T11:06:32.229Z"
   },
   {
    "duration": 968,
    "start_time": "2025-04-18T11:06:32.233Z"
   },
   {
    "duration": 17,
    "start_time": "2025-04-18T11:06:33.203Z"
   },
   {
    "duration": 174,
    "start_time": "2025-04-18T11:06:33.222Z"
   },
   {
    "duration": 342,
    "start_time": "2025-04-18T11:06:33.398Z"
   },
   {
    "duration": 68,
    "start_time": "2025-04-18T11:06:33.743Z"
   },
   {
    "duration": 708,
    "start_time": "2025-04-18T11:06:33.813Z"
   },
   {
    "duration": 383,
    "start_time": "2025-04-18T11:06:34.523Z"
   },
   {
    "duration": 105,
    "start_time": "2025-04-18T11:06:34.908Z"
   },
   {
    "duration": 65,
    "start_time": "2025-04-18T11:06:35.015Z"
   },
   {
    "duration": 36,
    "start_time": "2025-04-18T11:06:35.082Z"
   },
   {
    "duration": 2,
    "start_time": "2025-04-18T11:06:35.120Z"
   },
   {
    "duration": 20,
    "start_time": "2025-04-18T11:06:35.124Z"
   },
   {
    "duration": 14,
    "start_time": "2025-04-18T11:06:35.146Z"
   },
   {
    "duration": 39,
    "start_time": "2025-04-18T11:06:35.162Z"
   },
   {
    "duration": 12,
    "start_time": "2025-04-18T11:06:35.203Z"
   },
   {
    "duration": 34268,
    "start_time": "2025-04-18T11:06:35.217Z"
   },
   {
    "duration": 68,
    "start_time": "2025-04-18T11:07:09.487Z"
   },
   {
    "duration": 4,
    "start_time": "2025-04-18T11:07:09.557Z"
   },
   {
    "duration": 43,
    "start_time": "2025-04-18T11:07:45.158Z"
   },
   {
    "duration": 42,
    "start_time": "2025-04-18T11:08:14.231Z"
   },
   {
    "duration": 33,
    "start_time": "2025-04-18T11:10:13.525Z"
   },
   {
    "duration": 44,
    "start_time": "2025-04-18T11:15:36.927Z"
   },
   {
    "duration": 2479,
    "start_time": "2025-04-18T11:15:47.412Z"
   },
   {
    "duration": 2548,
    "start_time": "2025-04-18T11:15:49.894Z"
   },
   {
    "duration": 2577,
    "start_time": "2025-04-18T11:15:52.444Z"
   },
   {
    "duration": 1461,
    "start_time": "2025-04-18T11:15:55.024Z"
   },
   {
    "duration": 3,
    "start_time": "2025-04-18T11:15:56.486Z"
   },
   {
    "duration": 953,
    "start_time": "2025-04-18T11:15:56.491Z"
   },
   {
    "duration": 18,
    "start_time": "2025-04-18T11:15:57.445Z"
   },
   {
    "duration": 173,
    "start_time": "2025-04-18T11:15:57.464Z"
   },
   {
    "duration": 306,
    "start_time": "2025-04-18T11:15:57.639Z"
   },
   {
    "duration": 65,
    "start_time": "2025-04-18T11:15:57.947Z"
   },
   {
    "duration": 656,
    "start_time": "2025-04-18T11:15:58.014Z"
   },
   {
    "duration": 341,
    "start_time": "2025-04-18T11:15:58.672Z"
   },
   {
    "duration": 103,
    "start_time": "2025-04-18T11:15:59.015Z"
   },
   {
    "duration": 65,
    "start_time": "2025-04-18T11:15:59.120Z"
   },
   {
    "duration": 34,
    "start_time": "2025-04-18T11:15:59.186Z"
   },
   {
    "duration": 40,
    "start_time": "2025-04-18T11:15:59.237Z"
   },
   {
    "duration": 3,
    "start_time": "2025-04-18T11:15:59.279Z"
   },
   {
    "duration": 15,
    "start_time": "2025-04-18T11:15:59.283Z"
   },
   {
    "duration": 10,
    "start_time": "2025-04-18T11:15:59.300Z"
   },
   {
    "duration": 27,
    "start_time": "2025-04-18T11:15:59.312Z"
   },
   {
    "duration": 21,
    "start_time": "2025-04-18T11:15:59.341Z"
   },
   {
    "duration": 34194,
    "start_time": "2025-04-18T11:15:59.364Z"
   },
   {
    "duration": 42,
    "start_time": "2025-04-18T11:16:33.560Z"
   },
   {
    "duration": 89,
    "start_time": "2025-04-18T11:16:33.604Z"
   },
   {
    "duration": 1018,
    "start_time": "2025-04-18T11:22:46.076Z"
   },
   {
    "duration": 5,
    "start_time": "2025-04-18T11:23:07.675Z"
   },
   {
    "duration": 5,
    "start_time": "2025-04-18T11:23:13.873Z"
   },
   {
    "duration": 1414,
    "start_time": "2025-04-18T11:23:47.394Z"
   },
   {
    "duration": 6,
    "start_time": "2025-04-18T11:24:07.476Z"
   },
   {
    "duration": 5,
    "start_time": "2025-04-18T11:24:12.481Z"
   },
   {
    "duration": 6,
    "start_time": "2025-04-18T11:24:21.460Z"
   },
   {
    "duration": 6,
    "start_time": "2025-04-18T11:24:25.772Z"
   },
   {
    "duration": 24,
    "start_time": "2025-04-18T11:33:46.437Z"
   },
   {
    "duration": 8,
    "start_time": "2025-04-18T11:33:59.092Z"
   },
   {
    "duration": 6,
    "start_time": "2025-04-18T11:34:09.949Z"
   },
   {
    "duration": 6,
    "start_time": "2025-04-18T11:35:21.343Z"
   },
   {
    "duration": 7,
    "start_time": "2025-04-18T11:35:26.484Z"
   },
   {
    "duration": 11,
    "start_time": "2025-04-18T11:36:22.491Z"
   },
   {
    "duration": 9,
    "start_time": "2025-04-18T11:37:06.045Z"
   },
   {
    "duration": 11,
    "start_time": "2025-04-18T11:37:17.062Z"
   },
   {
    "duration": 1888,
    "start_time": "2025-04-18T11:40:06.954Z"
   },
   {
    "duration": 237,
    "start_time": "2025-04-18T11:40:20.008Z"
   },
   {
    "duration": 228,
    "start_time": "2025-04-18T11:41:00.654Z"
   },
   {
    "duration": 80,
    "start_time": "2025-04-18T11:41:34.391Z"
   },
   {
    "duration": 188,
    "start_time": "2025-04-18T11:41:46.758Z"
   },
   {
    "duration": 15,
    "start_time": "2025-04-18T11:42:24.581Z"
   },
   {
    "duration": 13,
    "start_time": "2025-04-18T11:42:47.890Z"
   },
   {
    "duration": 180,
    "start_time": "2025-04-18T11:53:16.381Z"
   },
   {
    "duration": 196,
    "start_time": "2025-04-18T11:53:39.182Z"
   },
   {
    "duration": 9,
    "start_time": "2025-04-18T11:53:50.087Z"
   },
   {
    "duration": 7,
    "start_time": "2025-04-18T11:55:09.941Z"
   },
   {
    "duration": 11,
    "start_time": "2025-04-18T11:55:10.992Z"
   },
   {
    "duration": 176,
    "start_time": "2025-04-18T11:55:12.818Z"
   },
   {
    "duration": 10,
    "start_time": "2025-04-18T11:55:22.908Z"
   },
   {
    "duration": 10,
    "start_time": "2025-04-18T11:55:23.779Z"
   },
   {
    "duration": 222,
    "start_time": "2025-04-18T11:55:24.578Z"
   },
   {
    "duration": 198,
    "start_time": "2025-04-18T11:57:35.619Z"
   },
   {
    "duration": 191,
    "start_time": "2025-04-18T11:57:45.979Z"
   },
   {
    "duration": 24,
    "start_time": "2025-04-18T11:59:39.666Z"
   },
   {
    "duration": 92,
    "start_time": "2025-04-18T12:00:30.355Z"
   },
   {
    "duration": 4,
    "start_time": "2025-04-18T12:07:47.293Z"
   },
   {
    "duration": 7,
    "start_time": "2025-04-18T12:09:04.143Z"
   },
   {
    "duration": 2689,
    "start_time": "2025-04-18T12:09:22.304Z"
   },
   {
    "duration": 2603,
    "start_time": "2025-04-18T12:09:24.995Z"
   },
   {
    "duration": 2545,
    "start_time": "2025-04-18T12:09:27.600Z"
   },
   {
    "duration": 1464,
    "start_time": "2025-04-18T12:09:30.147Z"
   },
   {
    "duration": 4,
    "start_time": "2025-04-18T12:09:31.614Z"
   },
   {
    "duration": 1041,
    "start_time": "2025-04-18T12:09:31.620Z"
   },
   {
    "duration": 20,
    "start_time": "2025-04-18T12:09:32.662Z"
   },
   {
    "duration": 207,
    "start_time": "2025-04-18T12:09:32.684Z"
   },
   {
    "duration": 308,
    "start_time": "2025-04-18T12:09:32.893Z"
   },
   {
    "duration": 76,
    "start_time": "2025-04-18T12:09:33.203Z"
   },
   {
    "duration": 686,
    "start_time": "2025-04-18T12:09:33.281Z"
   },
   {
    "duration": 389,
    "start_time": "2025-04-18T12:09:33.969Z"
   },
   {
    "duration": 106,
    "start_time": "2025-04-18T12:09:34.360Z"
   },
   {
    "duration": 79,
    "start_time": "2025-04-18T12:09:34.470Z"
   },
   {
    "duration": 36,
    "start_time": "2025-04-18T12:09:34.550Z"
   },
   {
    "duration": 54,
    "start_time": "2025-04-18T12:09:34.588Z"
   },
   {
    "duration": 31,
    "start_time": "2025-04-18T12:09:34.644Z"
   },
   {
    "duration": 30,
    "start_time": "2025-04-18T12:09:34.677Z"
   },
   {
    "duration": 16,
    "start_time": "2025-04-18T12:09:34.710Z"
   },
   {
    "duration": 29,
    "start_time": "2025-04-18T12:09:34.729Z"
   },
   {
    "duration": 34657,
    "start_time": "2025-04-18T12:09:34.759Z"
   },
   {
    "duration": 5,
    "start_time": "2025-04-18T12:10:09.418Z"
   },
   {
    "duration": 231,
    "start_time": "2025-04-18T12:10:09.425Z"
   },
   {
    "duration": 2,
    "start_time": "2025-04-18T12:10:09.658Z"
   },
   {
    "duration": 48,
    "start_time": "2025-04-18T12:10:09.662Z"
   },
   {
    "duration": 220,
    "start_time": "2025-04-18T12:10:09.713Z"
   },
   {
    "duration": 4,
    "start_time": "2025-04-18T12:10:09.936Z"
   },
   {
    "duration": 5,
    "start_time": "2025-04-18T12:11:13.261Z"
   },
   {
    "duration": 214,
    "start_time": "2025-04-18T12:11:15.076Z"
   },
   {
    "duration": 4,
    "start_time": "2025-04-18T12:11:29.969Z"
   },
   {
    "duration": 209,
    "start_time": "2025-04-18T12:11:31.793Z"
   },
   {
    "duration": 5,
    "start_time": "2025-04-18T12:11:38.199Z"
   },
   {
    "duration": 216,
    "start_time": "2025-04-18T12:11:40.152Z"
   },
   {
    "duration": 5,
    "start_time": "2025-04-18T12:11:55.820Z"
   },
   {
    "duration": 203,
    "start_time": "2025-04-18T12:11:56.795Z"
   },
   {
    "duration": 4,
    "start_time": "2025-04-18T12:12:09.986Z"
   },
   {
    "duration": 204,
    "start_time": "2025-04-18T12:12:10.696Z"
   },
   {
    "duration": 329,
    "start_time": "2025-04-18T12:12:50.913Z"
   },
   {
    "duration": 207,
    "start_time": "2025-04-18T12:13:43.142Z"
   },
   {
    "duration": 199,
    "start_time": "2025-04-18T12:14:01.778Z"
   },
   {
    "duration": 195,
    "start_time": "2025-04-18T12:14:17.981Z"
   },
   {
    "duration": 201,
    "start_time": "2025-04-18T12:14:33.674Z"
   },
   {
    "duration": 196,
    "start_time": "2025-04-18T12:14:38.869Z"
   },
   {
    "duration": 200,
    "start_time": "2025-04-18T12:15:01.086Z"
   },
   {
    "duration": 61,
    "start_time": "2025-04-18T12:25:27.407Z"
   },
   {
    "duration": 5,
    "start_time": "2025-04-18T12:25:37.431Z"
   },
   {
    "duration": 215,
    "start_time": "2025-04-18T12:25:38.270Z"
   },
   {
    "duration": 121,
    "start_time": "2025-04-18T12:27:25.735Z"
   },
   {
    "duration": 6,
    "start_time": "2025-04-18T12:27:51.399Z"
   },
   {
    "duration": 218,
    "start_time": "2025-04-18T12:27:52.605Z"
   },
   {
    "duration": 5,
    "start_time": "2025-04-18T12:34:04.679Z"
   },
   {
    "duration": 227,
    "start_time": "2025-04-18T12:34:07.157Z"
   },
   {
    "duration": 5,
    "start_time": "2025-04-18T12:34:48.153Z"
   },
   {
    "duration": 254,
    "start_time": "2025-04-18T12:34:49.239Z"
   },
   {
    "duration": 5,
    "start_time": "2025-04-18T12:35:31.993Z"
   },
   {
    "duration": 373,
    "start_time": "2025-04-18T12:35:32.977Z"
   },
   {
    "duration": 5,
    "start_time": "2025-04-18T12:35:42.106Z"
   },
   {
    "duration": 241,
    "start_time": "2025-04-18T12:35:43.303Z"
   },
   {
    "duration": 5,
    "start_time": "2025-04-18T12:36:17.925Z"
   },
   {
    "duration": 236,
    "start_time": "2025-04-18T12:36:18.711Z"
   },
   {
    "duration": 5,
    "start_time": "2025-04-18T12:36:25.030Z"
   },
   {
    "duration": 227,
    "start_time": "2025-04-18T12:36:25.690Z"
   },
   {
    "duration": 3,
    "start_time": "2025-04-18T12:40:47.813Z"
   },
   {
    "duration": 224,
    "start_time": "2025-04-18T12:40:48.834Z"
   },
   {
    "duration": 38,
    "start_time": "2025-04-18T12:43:41.330Z"
   },
   {
    "duration": 214,
    "start_time": "2025-04-18T13:01:22.492Z"
   },
   {
    "duration": 28,
    "start_time": "2025-04-18T13:03:51.715Z"
   },
   {
    "duration": 224,
    "start_time": "2025-04-18T13:03:53.095Z"
   },
   {
    "duration": 71,
    "start_time": "2025-04-18T13:04:57.467Z"
   },
   {
    "duration": 72,
    "start_time": "2025-04-18T13:36:41.420Z"
   },
   {
    "duration": 43,
    "start_time": "2025-04-18T13:52:46.565Z"
   },
   {
    "duration": 75,
    "start_time": "2025-04-18T13:53:13.862Z"
   },
   {
    "duration": 10,
    "start_time": "2025-04-18T13:53:23.244Z"
   },
   {
    "duration": 29,
    "start_time": "2025-04-18T13:53:32.098Z"
   },
   {
    "duration": 27,
    "start_time": "2025-04-18T13:54:40.267Z"
   },
   {
    "duration": 18,
    "start_time": "2025-04-18T13:54:46.907Z"
   },
   {
    "duration": 17,
    "start_time": "2025-04-18T13:54:50.861Z"
   },
   {
    "duration": 11,
    "start_time": "2025-04-18T13:55:05.281Z"
   },
   {
    "duration": 22,
    "start_time": "2025-04-18T13:55:09.902Z"
   },
   {
    "duration": 29,
    "start_time": "2025-04-18T13:57:15.503Z"
   },
   {
    "duration": 5,
    "start_time": "2025-04-18T13:59:14.526Z"
   },
   {
    "duration": 2599,
    "start_time": "2025-04-18T13:59:46.098Z"
   },
   {
    "duration": 2539,
    "start_time": "2025-04-18T13:59:48.700Z"
   },
   {
    "duration": 2664,
    "start_time": "2025-04-18T13:59:51.241Z"
   },
   {
    "duration": 1590,
    "start_time": "2025-04-18T13:59:53.908Z"
   },
   {
    "duration": 3,
    "start_time": "2025-04-18T13:59:55.500Z"
   },
   {
    "duration": 959,
    "start_time": "2025-04-18T13:59:55.504Z"
   },
   {
    "duration": 19,
    "start_time": "2025-04-18T13:59:56.465Z"
   },
   {
    "duration": 183,
    "start_time": "2025-04-18T13:59:56.486Z"
   },
   {
    "duration": 311,
    "start_time": "2025-04-18T13:59:56.671Z"
   },
   {
    "duration": 74,
    "start_time": "2025-04-18T13:59:56.985Z"
   },
   {
    "duration": 667,
    "start_time": "2025-04-18T13:59:57.061Z"
   },
   {
    "duration": 341,
    "start_time": "2025-04-18T13:59:57.737Z"
   },
   {
    "duration": 115,
    "start_time": "2025-04-18T13:59:58.080Z"
   },
   {
    "duration": 101,
    "start_time": "2025-04-18T13:59:58.198Z"
   },
   {
    "duration": 36,
    "start_time": "2025-04-18T13:59:58.301Z"
   },
   {
    "duration": 56,
    "start_time": "2025-04-18T13:59:58.339Z"
   },
   {
    "duration": 68,
    "start_time": "2025-04-18T13:59:58.397Z"
   },
   {
    "duration": 5,
    "start_time": "2025-04-18T13:59:58.467Z"
   },
   {
    "duration": 12,
    "start_time": "2025-04-18T13:59:58.474Z"
   },
   {
    "duration": 15,
    "start_time": "2025-04-18T13:59:58.488Z"
   },
   {
    "duration": 34154,
    "start_time": "2025-04-18T13:59:58.505Z"
   },
   {
    "duration": 5,
    "start_time": "2025-04-18T14:00:32.661Z"
   },
   {
    "duration": 270,
    "start_time": "2025-04-18T14:00:32.668Z"
   },
   {
    "duration": 25,
    "start_time": "2025-04-18T14:00:32.940Z"
   },
   {
    "duration": 222,
    "start_time": "2025-04-18T14:00:32.967Z"
   },
   {
    "duration": 82,
    "start_time": "2025-04-18T14:00:33.191Z"
   },
   {
    "duration": 30,
    "start_time": "2025-04-18T14:00:33.275Z"
   },
   {
    "duration": 5,
    "start_time": "2025-04-18T14:00:33.308Z"
   },
   {
    "duration": 250,
    "start_time": "2025-04-18T14:00:33.314Z"
   },
   {
    "duration": 4,
    "start_time": "2025-04-18T14:00:33.566Z"
   },
   {
    "duration": 123,
    "start_time": "2025-04-18T14:01:33.801Z"
   },
   {
    "duration": 5,
    "start_time": "2025-04-18T14:01:57.294Z"
   },
   {
    "duration": 218,
    "start_time": "2025-04-18T14:01:58.278Z"
   },
   {
    "duration": 27,
    "start_time": "2025-04-18T14:01:58.497Z"
   },
   {
    "duration": 209,
    "start_time": "2025-04-18T14:01:59.018Z"
   },
   {
    "duration": 5,
    "start_time": "2025-04-18T14:02:00.502Z"
   },
   {
    "duration": 220,
    "start_time": "2025-04-18T14:02:01.961Z"
   },
   {
    "duration": 226,
    "start_time": "2025-04-18T14:02:20.114Z"
   },
   {
    "duration": 357,
    "start_time": "2025-04-18T14:03:17.309Z"
   },
   {
    "duration": 213,
    "start_time": "2025-04-18T14:04:21.458Z"
   },
   {
    "duration": 2552,
    "start_time": "2025-04-18T14:04:27.643Z"
   },
   {
    "duration": 2541,
    "start_time": "2025-04-18T14:04:30.198Z"
   },
   {
    "duration": 2543,
    "start_time": "2025-04-18T14:04:32.742Z"
   },
   {
    "duration": 1408,
    "start_time": "2025-04-18T14:04:35.288Z"
   },
   {
    "duration": 3,
    "start_time": "2025-04-18T14:04:36.698Z"
   },
   {
    "duration": 958,
    "start_time": "2025-04-18T14:04:36.702Z"
   },
   {
    "duration": 18,
    "start_time": "2025-04-18T14:04:37.662Z"
   },
   {
    "duration": 170,
    "start_time": "2025-04-18T14:04:37.682Z"
   },
   {
    "duration": 304,
    "start_time": "2025-04-18T14:04:37.854Z"
   },
   {
    "duration": 65,
    "start_time": "2025-04-18T14:04:38.161Z"
   },
   {
    "duration": 704,
    "start_time": "2025-04-18T14:04:38.227Z"
   },
   {
    "duration": 346,
    "start_time": "2025-04-18T14:04:38.937Z"
   },
   {
    "duration": 112,
    "start_time": "2025-04-18T14:04:39.284Z"
   },
   {
    "duration": 66,
    "start_time": "2025-04-18T14:04:39.398Z"
   },
   {
    "duration": 37,
    "start_time": "2025-04-18T14:04:39.465Z"
   },
   {
    "duration": 58,
    "start_time": "2025-04-18T14:04:39.504Z"
   },
   {
    "duration": 4,
    "start_time": "2025-04-18T14:04:39.564Z"
   },
   {
    "duration": 21,
    "start_time": "2025-04-18T14:04:39.570Z"
   },
   {
    "duration": 16,
    "start_time": "2025-04-18T14:04:39.593Z"
   },
   {
    "duration": 7,
    "start_time": "2025-04-18T14:04:39.611Z"
   },
   {
    "duration": 33836,
    "start_time": "2025-04-18T14:04:39.619Z"
   },
   {
    "duration": 5,
    "start_time": "2025-04-18T14:05:13.457Z"
   },
   {
    "duration": 259,
    "start_time": "2025-04-18T14:05:13.464Z"
   },
   {
    "duration": 38,
    "start_time": "2025-04-18T14:05:13.726Z"
   },
   {
    "duration": 240,
    "start_time": "2025-04-18T14:05:13.766Z"
   },
   {
    "duration": 89,
    "start_time": "2025-04-18T14:05:14.009Z"
   },
   {
    "duration": 256,
    "start_time": "2025-04-18T14:05:14.100Z"
   },
   {
    "duration": 4,
    "start_time": "2025-04-18T14:05:14.360Z"
   },
   {
    "duration": 287,
    "start_time": "2025-04-18T14:05:14.366Z"
   },
   {
    "duration": 4,
    "start_time": "2025-04-18T14:05:14.654Z"
   },
   {
    "duration": 2445,
    "start_time": "2025-04-18T14:07:45.568Z"
   },
   {
    "duration": 2529,
    "start_time": "2025-04-18T14:07:48.016Z"
   },
   {
    "duration": 2476,
    "start_time": "2025-04-18T14:07:50.547Z"
   },
   {
    "duration": 1478,
    "start_time": "2025-04-18T14:07:53.026Z"
   },
   {
    "duration": 3,
    "start_time": "2025-04-18T14:07:54.506Z"
   },
   {
    "duration": 982,
    "start_time": "2025-04-18T14:07:54.511Z"
   },
   {
    "duration": 19,
    "start_time": "2025-04-18T14:07:55.495Z"
   },
   {
    "duration": 181,
    "start_time": "2025-04-18T14:07:55.515Z"
   },
   {
    "duration": 308,
    "start_time": "2025-04-18T14:07:55.697Z"
   },
   {
    "duration": 74,
    "start_time": "2025-04-18T14:07:56.008Z"
   },
   {
    "duration": 656,
    "start_time": "2025-04-18T14:07:56.084Z"
   },
   {
    "duration": 346,
    "start_time": "2025-04-18T14:07:56.741Z"
   },
   {
    "duration": 105,
    "start_time": "2025-04-18T14:07:57.089Z"
   },
   {
    "duration": 62,
    "start_time": "2025-04-18T14:07:57.196Z"
   },
   {
    "duration": 34,
    "start_time": "2025-04-18T14:07:57.260Z"
   },
   {
    "duration": 39,
    "start_time": "2025-04-18T14:07:58.310Z"
   },
   {
    "duration": 3,
    "start_time": "2025-04-18T14:07:59.582Z"
   },
   {
    "duration": 5,
    "start_time": "2025-04-18T14:08:00.454Z"
   },
   {
    "duration": 3,
    "start_time": "2025-04-18T14:08:01.734Z"
   },
   {
    "duration": 4,
    "start_time": "2025-04-18T14:08:03.247Z"
   },
   {
    "duration": 34043,
    "start_time": "2025-04-18T14:08:03.881Z"
   },
   {
    "duration": 15,
    "start_time": "2025-04-18T14:08:37.927Z"
   },
   {
    "duration": 5,
    "start_time": "2025-04-18T14:09:00.248Z"
   },
   {
    "duration": 254,
    "start_time": "2025-04-18T14:09:04.166Z"
   },
   {
    "duration": 26,
    "start_time": "2025-04-18T14:09:18.069Z"
   },
   {
    "duration": 4,
    "start_time": "2025-04-18T14:09:18.744Z"
   },
   {
    "duration": 220,
    "start_time": "2025-04-18T14:11:49.655Z"
   },
   {
    "duration": 26,
    "start_time": "2025-04-18T14:11:49.887Z"
   },
   {
    "duration": 5,
    "start_time": "2025-04-18T14:11:50.053Z"
   },
   {
    "duration": 209,
    "start_time": "2025-04-18T14:11:50.376Z"
   },
   {
    "duration": 73,
    "start_time": "2025-04-18T14:11:50.693Z"
   },
   {
    "duration": 232,
    "start_time": "2025-04-18T14:11:51.010Z"
   },
   {
    "duration": 5,
    "start_time": "2025-04-18T14:11:51.372Z"
   },
   {
    "duration": 241,
    "start_time": "2025-04-18T14:11:54.959Z"
   },
   {
    "duration": 18,
    "start_time": "2025-04-18T14:13:05.750Z"
   },
   {
    "duration": 5,
    "start_time": "2025-04-18T14:13:06.389Z"
   },
   {
    "duration": 2540,
    "start_time": "2025-04-18T14:13:22.710Z"
   },
   {
    "duration": 2425,
    "start_time": "2025-04-18T14:13:25.253Z"
   },
   {
    "duration": 2482,
    "start_time": "2025-04-18T14:13:27.680Z"
   },
   {
    "duration": 1420,
    "start_time": "2025-04-18T14:13:30.165Z"
   },
   {
    "duration": 2,
    "start_time": "2025-04-18T14:13:31.588Z"
   },
   {
    "duration": 983,
    "start_time": "2025-04-18T14:13:31.592Z"
   },
   {
    "duration": 18,
    "start_time": "2025-04-18T14:13:32.577Z"
   },
   {
    "duration": 175,
    "start_time": "2025-04-18T14:13:32.596Z"
   },
   {
    "duration": 321,
    "start_time": "2025-04-18T14:13:32.773Z"
   },
   {
    "duration": 79,
    "start_time": "2025-04-18T14:13:33.096Z"
   },
   {
    "duration": 660,
    "start_time": "2025-04-18T14:13:33.176Z"
   },
   {
    "duration": 351,
    "start_time": "2025-04-18T14:13:33.838Z"
   },
   {
    "duration": 111,
    "start_time": "2025-04-18T14:13:34.191Z"
   },
   {
    "duration": 116,
    "start_time": "2025-04-18T14:13:34.305Z"
   },
   {
    "duration": 34,
    "start_time": "2025-04-18T14:13:34.422Z"
   },
   {
    "duration": 82,
    "start_time": "2025-04-18T14:13:34.458Z"
   },
   {
    "duration": 3,
    "start_time": "2025-04-18T14:13:34.542Z"
   },
   {
    "duration": 6,
    "start_time": "2025-04-18T14:13:34.546Z"
   },
   {
    "duration": 24,
    "start_time": "2025-04-18T14:13:34.553Z"
   },
   {
    "duration": 25,
    "start_time": "2025-04-18T14:13:34.579Z"
   },
   {
    "duration": 34025,
    "start_time": "2025-04-18T14:13:34.606Z"
   },
   {
    "duration": 5,
    "start_time": "2025-04-18T14:14:08.637Z"
   },
   {
    "duration": 19,
    "start_time": "2025-04-18T14:14:08.644Z"
   },
   {
    "duration": 239,
    "start_time": "2025-04-18T14:14:08.665Z"
   },
   {
    "duration": 37,
    "start_time": "2025-04-18T14:14:08.906Z"
   },
   {
    "duration": 4,
    "start_time": "2025-04-18T14:14:08.944Z"
   },
   {
    "duration": 245,
    "start_time": "2025-04-18T14:14:08.949Z"
   },
   {
    "duration": 85,
    "start_time": "2025-04-18T14:14:09.195Z"
   },
   {
    "duration": 237,
    "start_time": "2025-04-18T14:14:09.281Z"
   },
   {
    "duration": 36,
    "start_time": "2025-04-18T14:14:09.520Z"
   },
   {
    "duration": 16,
    "start_time": "2025-04-18T14:14:09.558Z"
   },
   {
    "duration": 27,
    "start_time": "2025-04-18T14:14:09.576Z"
   },
   {
    "duration": 124,
    "start_time": "2025-04-18T14:17:49.569Z"
   },
   {
    "duration": 17,
    "start_time": "2025-04-18T14:18:19.466Z"
   },
   {
    "duration": 64,
    "start_time": "2025-04-18T14:18:56.259Z"
   },
   {
    "duration": 24,
    "start_time": "2025-04-18T14:19:13.009Z"
   },
   {
    "duration": 12,
    "start_time": "2025-04-18T14:19:26.036Z"
   },
   {
    "duration": 2528,
    "start_time": "2025-04-18T14:20:02.069Z"
   },
   {
    "duration": 2555,
    "start_time": "2025-04-18T14:20:04.600Z"
   },
   {
    "duration": 2492,
    "start_time": "2025-04-18T14:20:07.157Z"
   },
   {
    "duration": 1447,
    "start_time": "2025-04-18T14:20:09.651Z"
   },
   {
    "duration": 2,
    "start_time": "2025-04-18T14:20:11.102Z"
   },
   {
    "duration": 970,
    "start_time": "2025-04-18T14:20:11.106Z"
   },
   {
    "duration": 19,
    "start_time": "2025-04-18T14:20:12.078Z"
   },
   {
    "duration": 169,
    "start_time": "2025-04-18T14:20:12.099Z"
   },
   {
    "duration": 310,
    "start_time": "2025-04-18T14:20:12.269Z"
   },
   {
    "duration": 74,
    "start_time": "2025-04-18T14:20:12.581Z"
   },
   {
    "duration": 640,
    "start_time": "2025-04-18T14:20:12.657Z"
   },
   {
    "duration": 334,
    "start_time": "2025-04-18T14:20:13.298Z"
   },
   {
    "duration": 108,
    "start_time": "2025-04-18T14:20:13.633Z"
   },
   {
    "duration": 54,
    "start_time": "2025-04-18T14:20:13.744Z"
   },
   {
    "duration": 51,
    "start_time": "2025-04-18T14:20:13.801Z"
   },
   {
    "duration": 40,
    "start_time": "2025-04-18T14:20:13.853Z"
   },
   {
    "duration": 3,
    "start_time": "2025-04-18T14:20:13.895Z"
   },
   {
    "duration": 13,
    "start_time": "2025-04-18T14:20:13.899Z"
   },
   {
    "duration": 4,
    "start_time": "2025-04-18T14:20:13.914Z"
   },
   {
    "duration": 4,
    "start_time": "2025-04-18T14:20:13.937Z"
   },
   {
    "duration": 34112,
    "start_time": "2025-04-18T14:20:13.942Z"
   },
   {
    "duration": 5,
    "start_time": "2025-04-18T14:20:48.056Z"
   },
   {
    "duration": 4,
    "start_time": "2025-04-18T14:20:48.063Z"
   },
   {
    "duration": 248,
    "start_time": "2025-04-18T14:20:48.069Z"
   },
   {
    "duration": 39,
    "start_time": "2025-04-18T14:20:48.319Z"
   },
   {
    "duration": 4,
    "start_time": "2025-04-18T14:20:48.359Z"
   },
   {
    "duration": 218,
    "start_time": "2025-04-18T14:20:48.365Z"
   },
   {
    "duration": 79,
    "start_time": "2025-04-18T14:20:48.585Z"
   },
   {
    "duration": 229,
    "start_time": "2025-04-18T14:20:48.666Z"
   },
   {
    "duration": 23,
    "start_time": "2025-04-18T14:20:48.896Z"
   },
   {
    "duration": 17,
    "start_time": "2025-04-18T14:20:48.921Z"
   },
   {
    "duration": 23,
    "start_time": "2025-04-18T14:20:48.940Z"
   },
   {
    "duration": 75,
    "start_time": "2025-04-18T14:20:48.965Z"
   },
   {
    "duration": 4,
    "start_time": "2025-04-18T14:20:49.042Z"
   },
   {
    "duration": 98,
    "start_time": "2025-04-18T14:21:17.940Z"
   },
   {
    "duration": 2595,
    "start_time": "2025-04-18T14:22:02.048Z"
   },
   {
    "duration": 2573,
    "start_time": "2025-04-18T14:22:04.645Z"
   },
   {
    "duration": 2755,
    "start_time": "2025-04-18T14:22:07.220Z"
   },
   {
    "duration": 1414,
    "start_time": "2025-04-18T14:22:09.978Z"
   },
   {
    "duration": 2,
    "start_time": "2025-04-18T14:22:11.395Z"
   },
   {
    "duration": 971,
    "start_time": "2025-04-18T14:22:11.399Z"
   },
   {
    "duration": 17,
    "start_time": "2025-04-18T14:22:12.372Z"
   },
   {
    "duration": 177,
    "start_time": "2025-04-18T14:22:12.391Z"
   },
   {
    "duration": 315,
    "start_time": "2025-04-18T14:22:12.570Z"
   },
   {
    "duration": 73,
    "start_time": "2025-04-18T14:22:12.886Z"
   },
   {
    "duration": 676,
    "start_time": "2025-04-18T14:22:12.961Z"
   },
   {
    "duration": 339,
    "start_time": "2025-04-18T14:22:13.639Z"
   },
   {
    "duration": 108,
    "start_time": "2025-04-18T14:22:13.980Z"
   },
   {
    "duration": 77,
    "start_time": "2025-04-18T14:22:14.091Z"
   },
   {
    "duration": 44,
    "start_time": "2025-04-18T14:22:14.170Z"
   },
   {
    "duration": 50,
    "start_time": "2025-04-18T14:22:14.216Z"
   },
   {
    "duration": 3,
    "start_time": "2025-04-18T14:22:14.267Z"
   },
   {
    "duration": 10,
    "start_time": "2025-04-18T14:22:14.272Z"
   },
   {
    "duration": 10,
    "start_time": "2025-04-18T14:22:14.284Z"
   },
   {
    "duration": 25,
    "start_time": "2025-04-18T14:22:14.295Z"
   },
   {
    "duration": 34354,
    "start_time": "2025-04-18T14:22:14.322Z"
   },
   {
    "duration": 5,
    "start_time": "2025-04-18T14:22:48.678Z"
   },
   {
    "duration": 23,
    "start_time": "2025-04-18T14:22:48.684Z"
   },
   {
    "duration": 234,
    "start_time": "2025-04-18T14:22:48.709Z"
   },
   {
    "duration": 65,
    "start_time": "2025-04-18T14:22:48.946Z"
   },
   {
    "duration": 0,
    "start_time": "2025-04-18T14:22:49.012Z"
   },
   {
    "duration": 0,
    "start_time": "2025-04-18T14:22:49.014Z"
   },
   {
    "duration": 0,
    "start_time": "2025-04-18T14:22:49.015Z"
   },
   {
    "duration": 0,
    "start_time": "2025-04-18T14:22:49.017Z"
   },
   {
    "duration": 0,
    "start_time": "2025-04-18T14:22:49.018Z"
   },
   {
    "duration": 0,
    "start_time": "2025-04-18T14:22:49.019Z"
   },
   {
    "duration": 0,
    "start_time": "2025-04-18T14:22:49.020Z"
   },
   {
    "duration": 0,
    "start_time": "2025-04-18T14:22:49.022Z"
   },
   {
    "duration": 0,
    "start_time": "2025-04-18T14:22:49.022Z"
   },
   {
    "duration": 0,
    "start_time": "2025-04-18T14:22:49.024Z"
   },
   {
    "duration": 29,
    "start_time": "2025-04-18T14:23:50.742Z"
   },
   {
    "duration": 36,
    "start_time": "2025-04-18T14:23:56.577Z"
   },
   {
    "duration": 5,
    "start_time": "2025-04-18T14:23:56.961Z"
   },
   {
    "duration": 4,
    "start_time": "2025-04-18T14:24:00.055Z"
   },
   {
    "duration": 209,
    "start_time": "2025-04-18T14:24:01.686Z"
   },
   {
    "duration": 66,
    "start_time": "2025-04-18T14:24:03.096Z"
   },
   {
    "duration": 229,
    "start_time": "2025-04-18T14:24:04.361Z"
   },
   {
    "duration": 5,
    "start_time": "2025-04-18T14:24:08.534Z"
   },
   {
    "duration": 19,
    "start_time": "2025-04-18T14:24:11.338Z"
   },
   {
    "duration": 83,
    "start_time": "2025-04-18T14:24:12.971Z"
   },
   {
    "duration": 103,
    "start_time": "2025-04-18T14:24:13.655Z"
   },
   {
    "duration": 2530,
    "start_time": "2025-04-18T14:24:53.626Z"
   },
   {
    "duration": 2499,
    "start_time": "2025-04-18T14:24:56.159Z"
   },
   {
    "duration": 2534,
    "start_time": "2025-04-18T14:24:58.660Z"
   },
   {
    "duration": 1471,
    "start_time": "2025-04-18T14:25:01.196Z"
   },
   {
    "duration": 3,
    "start_time": "2025-04-18T14:25:02.670Z"
   },
   {
    "duration": 1001,
    "start_time": "2025-04-18T14:25:02.674Z"
   },
   {
    "duration": 20,
    "start_time": "2025-04-18T14:25:03.677Z"
   },
   {
    "duration": 184,
    "start_time": "2025-04-18T14:25:03.698Z"
   },
   {
    "duration": 333,
    "start_time": "2025-04-18T14:25:03.884Z"
   },
   {
    "duration": 76,
    "start_time": "2025-04-18T14:25:04.219Z"
   },
   {
    "duration": 729,
    "start_time": "2025-04-18T14:25:04.297Z"
   },
   {
    "duration": 368,
    "start_time": "2025-04-18T14:25:05.028Z"
   },
   {
    "duration": 108,
    "start_time": "2025-04-18T14:25:05.398Z"
   },
   {
    "duration": 66,
    "start_time": "2025-04-18T14:25:05.509Z"
   },
   {
    "duration": 35,
    "start_time": "2025-04-18T14:25:05.576Z"
   },
   {
    "duration": 69,
    "start_time": "2025-04-18T14:25:05.613Z"
   },
   {
    "duration": 4,
    "start_time": "2025-04-18T14:25:05.684Z"
   },
   {
    "duration": 31,
    "start_time": "2025-04-18T14:25:05.689Z"
   },
   {
    "duration": 53,
    "start_time": "2025-04-18T14:25:05.722Z"
   },
   {
    "duration": 41,
    "start_time": "2025-04-18T14:25:05.777Z"
   },
   {
    "duration": 34840,
    "start_time": "2025-04-18T14:25:05.820Z"
   },
   {
    "duration": 5,
    "start_time": "2025-04-18T14:25:40.662Z"
   },
   {
    "duration": 11,
    "start_time": "2025-04-18T14:25:40.669Z"
   },
   {
    "duration": 255,
    "start_time": "2025-04-18T14:25:40.682Z"
   },
   {
    "duration": 27,
    "start_time": "2025-04-18T14:25:40.939Z"
   },
   {
    "duration": 4,
    "start_time": "2025-04-18T14:25:40.968Z"
   },
   {
    "duration": 234,
    "start_time": "2025-04-18T14:25:40.974Z"
   },
   {
    "duration": 88,
    "start_time": "2025-04-18T14:25:41.209Z"
   },
   {
    "duration": 238,
    "start_time": "2025-04-18T14:25:41.299Z"
   },
   {
    "duration": 27,
    "start_time": "2025-04-18T14:25:41.540Z"
   },
   {
    "duration": 4,
    "start_time": "2025-04-18T14:25:41.568Z"
   },
   {
    "duration": 40,
    "start_time": "2025-04-18T14:25:41.574Z"
   },
   {
    "duration": 117,
    "start_time": "2025-04-18T14:25:41.616Z"
   },
   {
    "duration": 105,
    "start_time": "2025-04-18T14:25:41.734Z"
   },
   {
    "duration": 4,
    "start_time": "2025-04-18T14:25:41.840Z"
   },
   {
    "duration": 51,
    "start_time": "2025-04-18T14:34:05.308Z"
   },
   {
    "duration": 3,
    "start_time": "2025-04-18T14:34:09.151Z"
   },
   {
    "duration": 7,
    "start_time": "2025-04-18T14:34:09.543Z"
   },
   {
    "duration": 2484,
    "start_time": "2025-04-18T14:34:14.590Z"
   },
   {
    "duration": 2476,
    "start_time": "2025-04-18T14:34:17.077Z"
   },
   {
    "duration": 2521,
    "start_time": "2025-04-18T14:34:19.555Z"
   },
   {
    "duration": 1983,
    "start_time": "2025-04-18T14:34:22.079Z"
   },
   {
    "duration": 3,
    "start_time": "2025-04-18T14:34:24.064Z"
   },
   {
    "duration": 1016,
    "start_time": "2025-04-18T14:34:24.069Z"
   },
   {
    "duration": 22,
    "start_time": "2025-04-18T14:34:25.087Z"
   },
   {
    "duration": 181,
    "start_time": "2025-04-18T14:34:25.111Z"
   },
   {
    "duration": 318,
    "start_time": "2025-04-18T14:34:25.295Z"
   },
   {
    "duration": 71,
    "start_time": "2025-04-18T14:34:25.616Z"
   },
   {
    "duration": 656,
    "start_time": "2025-04-18T14:34:25.688Z"
   },
   {
    "duration": 350,
    "start_time": "2025-04-18T14:34:26.345Z"
   },
   {
    "duration": 107,
    "start_time": "2025-04-18T14:34:26.696Z"
   },
   {
    "duration": 65,
    "start_time": "2025-04-18T14:34:26.805Z"
   },
   {
    "duration": 33,
    "start_time": "2025-04-18T14:34:26.872Z"
   },
   {
    "duration": 54,
    "start_time": "2025-04-18T14:34:26.907Z"
   },
   {
    "duration": 3,
    "start_time": "2025-04-18T14:34:26.963Z"
   },
   {
    "duration": 15,
    "start_time": "2025-04-18T14:34:26.968Z"
   },
   {
    "duration": 12,
    "start_time": "2025-04-18T14:34:26.984Z"
   },
   {
    "duration": 9,
    "start_time": "2025-04-18T14:34:26.998Z"
   },
   {
    "duration": 34115,
    "start_time": "2025-04-18T14:34:27.009Z"
   },
   {
    "duration": 6,
    "start_time": "2025-04-18T14:35:01.125Z"
   },
   {
    "duration": 24,
    "start_time": "2025-04-18T14:35:01.132Z"
   },
   {
    "duration": 279,
    "start_time": "2025-04-18T14:35:01.158Z"
   },
   {
    "duration": 27,
    "start_time": "2025-04-18T14:35:01.440Z"
   },
   {
    "duration": 5,
    "start_time": "2025-04-18T14:35:01.468Z"
   },
   {
    "duration": 265,
    "start_time": "2025-04-18T14:35:01.475Z"
   },
   {
    "duration": 75,
    "start_time": "2025-04-18T14:35:01.743Z"
   },
   {
    "duration": 252,
    "start_time": "2025-04-18T14:35:01.820Z"
   },
   {
    "duration": 25,
    "start_time": "2025-04-18T14:35:02.074Z"
   },
   {
    "duration": 7,
    "start_time": "2025-04-18T14:35:02.101Z"
   },
   {
    "duration": 39,
    "start_time": "2025-04-18T14:35:02.109Z"
   },
   {
    "duration": 93,
    "start_time": "2025-04-18T14:35:02.150Z"
   },
   {
    "duration": 111,
    "start_time": "2025-04-18T14:35:02.244Z"
   },
   {
    "duration": 4,
    "start_time": "2025-04-18T14:35:02.357Z"
   },
   {
    "duration": 324,
    "start_time": "2025-04-18T14:35:02.363Z"
   },
   {
    "duration": 30,
    "start_time": "2025-04-18T14:35:21.724Z"
   },
   {
    "duration": 5,
    "start_time": "2025-04-18T14:35:58.080Z"
   },
   {
    "duration": 30,
    "start_time": "2025-04-18T14:36:18.352Z"
   },
   {
    "duration": 6143,
    "start_time": "2025-04-18T14:37:04.540Z"
   },
   {
    "duration": 4,
    "start_time": "2025-04-18T14:37:15.231Z"
   },
   {
    "duration": 4,
    "start_time": "2025-04-18T14:37:15.784Z"
   },
   {
    "duration": 5950,
    "start_time": "2025-04-18T14:37:16.367Z"
   },
   {
    "duration": 2517,
    "start_time": "2025-04-18T14:37:41.542Z"
   },
   {
    "duration": 2538,
    "start_time": "2025-04-18T14:37:44.062Z"
   },
   {
    "duration": 2456,
    "start_time": "2025-04-18T14:37:46.602Z"
   },
   {
    "duration": 1438,
    "start_time": "2025-04-18T14:37:49.061Z"
   },
   {
    "duration": 3,
    "start_time": "2025-04-18T14:37:50.500Z"
   },
   {
    "duration": 985,
    "start_time": "2025-04-18T14:37:50.505Z"
   },
   {
    "duration": 19,
    "start_time": "2025-04-18T14:37:51.492Z"
   },
   {
    "duration": 163,
    "start_time": "2025-04-18T14:37:51.513Z"
   },
   {
    "duration": 299,
    "start_time": "2025-04-18T14:37:51.678Z"
   },
   {
    "duration": 68,
    "start_time": "2025-04-18T14:37:51.979Z"
   },
   {
    "duration": 650,
    "start_time": "2025-04-18T14:37:52.049Z"
   },
   {
    "duration": 360,
    "start_time": "2025-04-18T14:37:52.701Z"
   },
   {
    "duration": 110,
    "start_time": "2025-04-18T14:37:53.063Z"
   },
   {
    "duration": 64,
    "start_time": "2025-04-18T14:37:53.175Z"
   },
   {
    "duration": 35,
    "start_time": "2025-04-18T14:37:53.241Z"
   },
   {
    "duration": 61,
    "start_time": "2025-04-18T14:37:53.278Z"
   },
   {
    "duration": 3,
    "start_time": "2025-04-18T14:37:53.341Z"
   },
   {
    "duration": 8,
    "start_time": "2025-04-18T14:37:53.346Z"
   },
   {
    "duration": 30,
    "start_time": "2025-04-18T14:37:53.355Z"
   },
   {
    "duration": 6,
    "start_time": "2025-04-18T14:37:53.387Z"
   },
   {
    "duration": 34290,
    "start_time": "2025-04-18T14:37:53.395Z"
   },
   {
    "duration": 5,
    "start_time": "2025-04-18T14:38:27.687Z"
   },
   {
    "duration": 20,
    "start_time": "2025-04-18T14:38:27.694Z"
   },
   {
    "duration": 252,
    "start_time": "2025-04-18T14:38:27.716Z"
   },
   {
    "duration": 26,
    "start_time": "2025-04-18T14:38:27.970Z"
   },
   {
    "duration": 4,
    "start_time": "2025-04-18T14:38:27.998Z"
   },
   {
    "duration": 246,
    "start_time": "2025-04-18T14:38:28.004Z"
   },
   {
    "duration": 85,
    "start_time": "2025-04-18T14:38:28.253Z"
   },
   {
    "duration": 253,
    "start_time": "2025-04-18T14:38:28.340Z"
   },
   {
    "duration": 25,
    "start_time": "2025-04-18T14:38:28.595Z"
   },
   {
    "duration": 17,
    "start_time": "2025-04-18T14:38:28.622Z"
   },
   {
    "duration": 44,
    "start_time": "2025-04-18T14:38:28.641Z"
   },
   {
    "duration": 87,
    "start_time": "2025-04-18T14:38:28.687Z"
   },
   {
    "duration": 111,
    "start_time": "2025-04-18T14:38:28.776Z"
   },
   {
    "duration": 4,
    "start_time": "2025-04-18T14:38:28.888Z"
   },
   {
    "duration": 31,
    "start_time": "2025-04-18T14:38:28.894Z"
   },
   {
    "duration": 6473,
    "start_time": "2025-04-18T14:38:28.926Z"
   },
   {
    "duration": 100,
    "start_time": "2025-04-18T14:39:05.472Z"
   },
   {
    "duration": 3,
    "start_time": "2025-04-18T14:39:10.019Z"
   },
   {
    "duration": 5,
    "start_time": "2025-04-18T14:39:10.398Z"
   },
   {
    "duration": 7639,
    "start_time": "2025-04-18T14:39:10.956Z"
   },
   {
    "duration": 120,
    "start_time": "2025-04-18T14:46:03.567Z"
   },
   {
    "duration": 30,
    "start_time": "2025-04-18T14:46:20.835Z"
   },
   {
    "duration": 8,
    "start_time": "2025-04-18T14:49:23.967Z"
   },
   {
    "duration": 9,
    "start_time": "2025-04-18T14:49:36.240Z"
   },
   {
    "duration": 236,
    "start_time": "2025-04-18T14:52:57.717Z"
   },
   {
    "duration": 6702,
    "start_time": "2025-04-18T14:53:29.452Z"
   },
   {
    "duration": 223,
    "start_time": "2025-04-18T14:58:07.026Z"
   },
   {
    "duration": 201,
    "start_time": "2025-04-18T14:58:16.127Z"
   },
   {
    "duration": 2518,
    "start_time": "2025-04-18T15:00:47.175Z"
   },
   {
    "duration": 2536,
    "start_time": "2025-04-18T15:00:49.696Z"
   },
   {
    "duration": 2739,
    "start_time": "2025-04-18T15:00:52.234Z"
   },
   {
    "duration": 1434,
    "start_time": "2025-04-18T15:00:54.975Z"
   },
   {
    "duration": 3,
    "start_time": "2025-04-18T15:00:56.411Z"
   },
   {
    "duration": 1029,
    "start_time": "2025-04-18T15:00:56.415Z"
   },
   {
    "duration": 17,
    "start_time": "2025-04-18T15:00:57.446Z"
   },
   {
    "duration": 177,
    "start_time": "2025-04-18T15:00:57.465Z"
   },
   {
    "duration": 313,
    "start_time": "2025-04-18T15:00:57.644Z"
   },
   {
    "duration": 79,
    "start_time": "2025-04-18T15:00:57.959Z"
   },
   {
    "duration": 653,
    "start_time": "2025-04-18T15:00:58.040Z"
   },
   {
    "duration": 343,
    "start_time": "2025-04-18T15:00:58.694Z"
   },
   {
    "duration": 108,
    "start_time": "2025-04-18T15:00:59.039Z"
   },
   {
    "duration": 58,
    "start_time": "2025-04-18T15:00:59.152Z"
   },
   {
    "duration": 47,
    "start_time": "2025-04-18T15:00:59.212Z"
   },
   {
    "duration": 41,
    "start_time": "2025-04-18T15:00:59.261Z"
   },
   {
    "duration": 4,
    "start_time": "2025-04-18T15:00:59.303Z"
   },
   {
    "duration": 5,
    "start_time": "2025-04-18T15:00:59.337Z"
   },
   {
    "duration": 7,
    "start_time": "2025-04-18T15:00:59.344Z"
   },
   {
    "duration": 22,
    "start_time": "2025-04-18T15:00:59.352Z"
   },
   {
    "duration": 34397,
    "start_time": "2025-04-18T15:00:59.375Z"
   },
   {
    "duration": 6,
    "start_time": "2025-04-18T15:01:33.774Z"
   },
   {
    "duration": 24,
    "start_time": "2025-04-18T15:01:33.782Z"
   },
   {
    "duration": 264,
    "start_time": "2025-04-18T15:01:33.808Z"
   },
   {
    "duration": 28,
    "start_time": "2025-04-18T15:01:34.074Z"
   },
   {
    "duration": 5,
    "start_time": "2025-04-18T15:01:34.105Z"
   },
   {
    "duration": 248,
    "start_time": "2025-04-18T15:01:34.112Z"
   },
   {
    "duration": 107,
    "start_time": "2025-04-18T15:01:34.362Z"
   },
   {
    "duration": 249,
    "start_time": "2025-04-18T15:01:34.471Z"
   },
   {
    "duration": 41,
    "start_time": "2025-04-18T15:01:34.723Z"
   },
   {
    "duration": 4,
    "start_time": "2025-04-18T15:01:34.766Z"
   },
   {
    "duration": 34,
    "start_time": "2025-04-18T15:01:34.771Z"
   },
   {
    "duration": 80,
    "start_time": "2025-04-18T15:01:34.807Z"
   },
   {
    "duration": 105,
    "start_time": "2025-04-18T15:01:34.889Z"
   },
   {
    "duration": 4,
    "start_time": "2025-04-18T15:01:34.995Z"
   },
   {
    "duration": 11,
    "start_time": "2025-04-18T15:01:35.000Z"
   },
   {
    "duration": 7362,
    "start_time": "2025-04-18T15:01:35.013Z"
   },
   {
    "duration": 244,
    "start_time": "2025-04-18T15:01:42.377Z"
   },
   {
    "duration": 6265,
    "start_time": "2025-04-18T15:01:42.623Z"
   },
   {
    "duration": 11,
    "start_time": "2025-04-18T15:12:19.951Z"
   },
   {
    "duration": 2528,
    "start_time": "2025-04-18T15:13:10.484Z"
   },
   {
    "duration": 2588,
    "start_time": "2025-04-18T15:13:13.015Z"
   },
   {
    "duration": 2505,
    "start_time": "2025-04-18T15:13:15.605Z"
   },
   {
    "duration": 1495,
    "start_time": "2025-04-18T15:13:18.113Z"
   },
   {
    "duration": 3,
    "start_time": "2025-04-18T15:13:19.610Z"
   },
   {
    "duration": 994,
    "start_time": "2025-04-18T15:13:19.615Z"
   },
   {
    "duration": 28,
    "start_time": "2025-04-18T15:13:20.611Z"
   },
   {
    "duration": 157,
    "start_time": "2025-04-18T15:13:20.640Z"
   },
   {
    "duration": 306,
    "start_time": "2025-04-18T15:13:20.799Z"
   },
   {
    "duration": 77,
    "start_time": "2025-04-18T15:13:21.107Z"
   },
   {
    "duration": 655,
    "start_time": "2025-04-18T15:13:21.186Z"
   },
   {
    "duration": 358,
    "start_time": "2025-04-18T15:13:21.843Z"
   },
   {
    "duration": 112,
    "start_time": "2025-04-18T15:13:22.203Z"
   },
   {
    "duration": 61,
    "start_time": "2025-04-18T15:13:22.318Z"
   },
   {
    "duration": 33,
    "start_time": "2025-04-18T15:13:22.380Z"
   },
   {
    "duration": 45,
    "start_time": "2025-04-18T15:13:22.415Z"
   },
   {
    "duration": 2,
    "start_time": "2025-04-18T15:13:22.462Z"
   },
   {
    "duration": 4,
    "start_time": "2025-04-18T15:13:22.466Z"
   },
   {
    "duration": 5,
    "start_time": "2025-04-18T15:13:22.472Z"
   },
   {
    "duration": 6,
    "start_time": "2025-04-18T15:13:22.478Z"
   },
   {
    "duration": 34255,
    "start_time": "2025-04-18T15:13:22.486Z"
   },
   {
    "duration": 5,
    "start_time": "2025-04-18T15:13:56.743Z"
   },
   {
    "duration": 8,
    "start_time": "2025-04-18T15:13:56.750Z"
   },
   {
    "duration": 247,
    "start_time": "2025-04-18T15:13:56.760Z"
   },
   {
    "duration": 39,
    "start_time": "2025-04-18T15:13:57.009Z"
   },
   {
    "duration": 4,
    "start_time": "2025-04-18T15:13:57.050Z"
   },
   {
    "duration": 213,
    "start_time": "2025-04-18T15:13:57.056Z"
   },
   {
    "duration": 109,
    "start_time": "2025-04-18T15:13:57.271Z"
   },
   {
    "duration": 235,
    "start_time": "2025-04-18T15:13:57.381Z"
   },
   {
    "duration": 37,
    "start_time": "2025-04-18T15:13:57.618Z"
   },
   {
    "duration": 4,
    "start_time": "2025-04-18T15:13:57.657Z"
   },
   {
    "duration": 22,
    "start_time": "2025-04-18T15:13:57.663Z"
   },
   {
    "duration": 78,
    "start_time": "2025-04-18T15:13:57.686Z"
   },
   {
    "duration": 112,
    "start_time": "2025-04-18T15:13:57.766Z"
   },
   {
    "duration": 4,
    "start_time": "2025-04-18T15:13:57.880Z"
   },
   {
    "duration": 13,
    "start_time": "2025-04-18T15:13:57.886Z"
   },
   {
    "duration": 7847,
    "start_time": "2025-04-18T15:13:57.901Z"
   },
   {
    "duration": 242,
    "start_time": "2025-04-18T15:14:05.750Z"
   },
   {
    "duration": 6623,
    "start_time": "2025-04-18T15:14:05.994Z"
   },
   {
    "duration": 20,
    "start_time": "2025-04-18T15:14:12.619Z"
   },
   {
    "duration": 10,
    "start_time": "2025-04-18T15:14:52.812Z"
   },
   {
    "duration": 9,
    "start_time": "2025-04-18T15:15:57.923Z"
   },
   {
    "duration": 122,
    "start_time": "2025-04-18T15:35:38.781Z"
   },
   {
    "duration": 2657,
    "start_time": "2025-04-18T15:36:14.999Z"
   },
   {
    "duration": 2591,
    "start_time": "2025-04-18T15:36:17.659Z"
   },
   {
    "duration": 2526,
    "start_time": "2025-04-18T15:36:20.252Z"
   },
   {
    "duration": 1473,
    "start_time": "2025-04-18T15:36:24.415Z"
   },
   {
    "duration": 2,
    "start_time": "2025-04-18T15:36:44.243Z"
   },
   {
    "duration": 979,
    "start_time": "2025-04-18T15:36:45.334Z"
   },
   {
    "duration": 18,
    "start_time": "2025-04-18T15:36:47.959Z"
   },
   {
    "duration": 154,
    "start_time": "2025-04-18T15:36:49.298Z"
   },
   {
    "duration": 121,
    "start_time": "2025-04-18T15:36:50.514Z"
   },
   {
    "duration": 100,
    "start_time": "2025-04-18T15:36:58.946Z"
   },
   {
    "duration": 2604,
    "start_time": "2025-04-18T15:54:12.780Z"
   },
   {
    "duration": 2696,
    "start_time": "2025-04-18T15:54:15.388Z"
   },
   {
    "duration": 2526,
    "start_time": "2025-04-18T15:54:18.087Z"
   },
   {
    "duration": 1531,
    "start_time": "2025-04-18T15:54:20.615Z"
   },
   {
    "duration": 3,
    "start_time": "2025-04-18T15:54:22.148Z"
   },
   {
    "duration": 994,
    "start_time": "2025-04-18T15:54:23.649Z"
   },
   {
    "duration": 18,
    "start_time": "2025-04-18T15:54:27.370Z"
   },
   {
    "duration": 156,
    "start_time": "2025-04-18T15:54:30.807Z"
   },
   {
    "duration": 105,
    "start_time": "2025-04-18T15:54:31.138Z"
   },
   {
    "duration": 26,
    "start_time": "2025-04-18T15:55:30.921Z"
   },
   {
    "duration": 247,
    "start_time": "2025-04-18T15:56:28.406Z"
   },
   {
    "duration": 464,
    "start_time": "2025-04-18T15:56:48.222Z"
   },
   {
    "duration": 86,
    "start_time": "2025-04-18T15:57:41.932Z"
   },
   {
    "duration": 51,
    "start_time": "2025-04-18T15:57:49.474Z"
   },
   {
    "duration": 33,
    "start_time": "2025-04-18T15:58:03.161Z"
   },
   {
    "duration": 37,
    "start_time": "2025-04-18T15:58:04.906Z"
   },
   {
    "duration": 6,
    "start_time": "2025-04-18T15:59:01.635Z"
   },
   {
    "duration": 4,
    "start_time": "2025-04-18T15:59:02.752Z"
   },
   {
    "duration": 5,
    "start_time": "2025-04-18T15:59:03.981Z"
   },
   {
    "duration": 29347,
    "start_time": "2025-04-18T15:59:10.300Z"
   },
   {
    "duration": 50,
    "start_time": "2025-04-18T21:43:15.570Z"
   },
   {
    "duration": 2639,
    "start_time": "2025-04-18T21:43:49.487Z"
   },
   {
    "duration": 3265,
    "start_time": "2025-04-18T21:43:52.128Z"
   },
   {
    "duration": 6618,
    "start_time": "2025-04-18T21:43:55.395Z"
   },
   {
    "duration": 1541,
    "start_time": "2025-04-18T21:44:02.016Z"
   },
   {
    "duration": 3,
    "start_time": "2025-04-18T21:44:03.558Z"
   },
   {
    "duration": 972,
    "start_time": "2025-04-18T21:44:03.562Z"
   },
   {
    "duration": 16,
    "start_time": "2025-04-18T21:44:04.535Z"
   },
   {
    "duration": 171,
    "start_time": "2025-04-18T21:44:04.553Z"
   },
   {
    "duration": 92,
    "start_time": "2025-04-18T21:44:04.725Z"
   },
   {
    "duration": 35,
    "start_time": "2025-04-18T21:44:04.820Z"
   },
   {
    "duration": 209,
    "start_time": "2025-04-18T21:44:04.857Z"
   },
   {
    "duration": 421,
    "start_time": "2025-04-18T21:44:05.068Z"
   },
   {
    "duration": 89,
    "start_time": "2025-04-18T21:44:05.491Z"
   },
   {
    "duration": 113,
    "start_time": "2025-04-18T21:44:05.581Z"
   },
   {
    "duration": 28,
    "start_time": "2025-04-18T21:44:05.696Z"
   },
   {
    "duration": 110,
    "start_time": "2025-04-18T21:44:05.726Z"
   },
   {
    "duration": 1640,
    "start_time": "2025-04-18T21:44:05.838Z"
   },
   {
    "duration": 0,
    "start_time": "2025-04-18T21:44:07.480Z"
   },
   {
    "duration": 0,
    "start_time": "2025-04-18T21:44:07.481Z"
   },
   {
    "duration": 0,
    "start_time": "2025-04-18T21:44:07.482Z"
   },
   {
    "duration": 0,
    "start_time": "2025-04-18T21:44:07.483Z"
   },
   {
    "duration": 0,
    "start_time": "2025-04-18T21:44:07.484Z"
   },
   {
    "duration": 0,
    "start_time": "2025-04-18T21:44:07.486Z"
   },
   {
    "duration": 0,
    "start_time": "2025-04-18T21:44:07.487Z"
   },
   {
    "duration": 0,
    "start_time": "2025-04-18T21:44:07.488Z"
   },
   {
    "duration": 0,
    "start_time": "2025-04-18T21:44:07.489Z"
   },
   {
    "duration": 0,
    "start_time": "2025-04-18T21:44:07.490Z"
   },
   {
    "duration": 0,
    "start_time": "2025-04-18T21:44:07.491Z"
   },
   {
    "duration": 0,
    "start_time": "2025-04-18T21:44:07.493Z"
   },
   {
    "duration": 0,
    "start_time": "2025-04-18T21:44:07.494Z"
   },
   {
    "duration": 0,
    "start_time": "2025-04-18T21:44:07.495Z"
   },
   {
    "duration": 0,
    "start_time": "2025-04-18T21:44:07.496Z"
   },
   {
    "duration": 0,
    "start_time": "2025-04-18T21:44:07.496Z"
   },
   {
    "duration": 0,
    "start_time": "2025-04-18T21:44:07.497Z"
   },
   {
    "duration": 0,
    "start_time": "2025-04-18T21:44:07.499Z"
   },
   {
    "duration": 0,
    "start_time": "2025-04-18T21:44:07.499Z"
   },
   {
    "duration": 0,
    "start_time": "2025-04-18T21:44:07.537Z"
   },
   {
    "duration": 0,
    "start_time": "2025-04-18T21:44:07.538Z"
   },
   {
    "duration": 0,
    "start_time": "2025-04-18T21:44:07.539Z"
   },
   {
    "duration": 2342,
    "start_time": "2025-04-18T21:45:29.434Z"
   },
   {
    "duration": 2402,
    "start_time": "2025-04-18T21:45:31.778Z"
   },
   {
    "duration": 2362,
    "start_time": "2025-04-18T21:45:34.182Z"
   },
   {
    "duration": 1495,
    "start_time": "2025-04-18T21:45:36.547Z"
   },
   {
    "duration": 2,
    "start_time": "2025-04-18T21:45:38.044Z"
   },
   {
    "duration": 852,
    "start_time": "2025-04-18T21:45:38.048Z"
   },
   {
    "duration": 19,
    "start_time": "2025-04-18T21:45:38.902Z"
   },
   {
    "duration": 196,
    "start_time": "2025-04-18T21:45:38.936Z"
   },
   {
    "duration": 101,
    "start_time": "2025-04-18T21:45:39.136Z"
   },
   {
    "duration": 25,
    "start_time": "2025-04-18T21:45:39.240Z"
   },
   {
    "duration": 227,
    "start_time": "2025-04-18T21:45:39.266Z"
   },
   {
    "duration": 417,
    "start_time": "2025-04-18T21:45:39.495Z"
   },
   {
    "duration": 91,
    "start_time": "2025-04-18T21:45:39.914Z"
   },
   {
    "duration": 64,
    "start_time": "2025-04-18T21:45:40.006Z"
   },
   {
    "duration": 37,
    "start_time": "2025-04-18T21:45:40.072Z"
   },
   {
    "duration": 45,
    "start_time": "2025-04-18T21:45:40.110Z"
   },
   {
    "duration": 1738,
    "start_time": "2025-04-18T21:46:13.749Z"
   },
   {
    "duration": 15,
    "start_time": "2025-04-18T21:48:09.727Z"
   },
   {
    "duration": 15,
    "start_time": "2025-04-18T21:48:59.991Z"
   },
   {
    "duration": 1862,
    "start_time": "2025-04-18T21:50:43.496Z"
   },
   {
    "duration": 1711,
    "start_time": "2025-04-18T21:50:54.888Z"
   },
   {
    "duration": 448,
    "start_time": "2025-04-18T21:52:23.332Z"
   },
   {
    "duration": 13,
    "start_time": "2025-04-18T21:57:05.938Z"
   },
   {
    "duration": 12,
    "start_time": "2025-04-18T22:01:37.438Z"
   },
   {
    "duration": 13,
    "start_time": "2025-04-18T22:02:52.335Z"
   },
   {
    "duration": 38,
    "start_time": "2025-04-18T22:07:57.052Z"
   },
   {
    "duration": 1514,
    "start_time": "2025-04-18T22:08:14.953Z"
   },
   {
    "duration": 1471,
    "start_time": "2025-04-18T22:10:35.430Z"
   },
   {
    "duration": 1832,
    "start_time": "2025-04-18T22:10:44.386Z"
   },
   {
    "duration": 2820,
    "start_time": "2025-04-18T22:10:54.841Z"
   },
   {
    "duration": 111,
    "start_time": "2025-04-18T22:13:42.112Z"
   },
   {
    "duration": 16,
    "start_time": "2025-04-18T22:13:46.811Z"
   },
   {
    "duration": 10,
    "start_time": "2025-04-18T22:13:57.380Z"
   },
   {
    "duration": 66,
    "start_time": "2025-04-18T22:15:28.121Z"
   },
   {
    "duration": 4,
    "start_time": "2025-04-18T22:15:35.712Z"
   },
   {
    "duration": 30,
    "start_time": "2025-04-18T22:16:38.740Z"
   },
   {
    "duration": 20,
    "start_time": "2025-04-18T22:17:21.298Z"
   },
   {
    "duration": 2880,
    "start_time": "2025-04-18T22:17:38.895Z"
   },
   {
    "duration": 1570,
    "start_time": "2025-04-18T22:17:48.378Z"
   },
   {
    "duration": 1555,
    "start_time": "2025-04-18T22:18:57.165Z"
   },
   {
    "duration": 1673,
    "start_time": "2025-04-18T22:19:11.948Z"
   },
   {
    "duration": 2,
    "start_time": "2025-04-18T22:24:58.422Z"
   },
   {
    "duration": 1707,
    "start_time": "2025-04-18T22:26:35.735Z"
   },
   {
    "duration": 1847,
    "start_time": "2025-04-18T22:26:46.977Z"
   },
   {
    "duration": 2772,
    "start_time": "2025-04-18T22:26:54.191Z"
   },
   {
    "duration": 14,
    "start_time": "2025-04-18T22:28:43.056Z"
   },
   {
    "duration": 12,
    "start_time": "2025-04-18T22:30:56.273Z"
   },
   {
    "duration": 19,
    "start_time": "2025-04-18T22:32:10.832Z"
   },
   {
    "duration": 2688,
    "start_time": "2025-04-18T22:32:12.458Z"
   },
   {
    "duration": 1534,
    "start_time": "2025-04-18T22:32:17.010Z"
   },
   {
    "duration": 7,
    "start_time": "2025-04-18T22:34:13.422Z"
   },
   {
    "duration": 360,
    "start_time": "2025-04-18T22:34:28.054Z"
   },
   {
    "duration": 539,
    "start_time": "2025-04-18T22:34:37.049Z"
   },
   {
    "duration": 6,
    "start_time": "2025-04-18T22:34:46.778Z"
   },
   {
    "duration": 409,
    "start_time": "2025-04-18T22:34:47.500Z"
   },
   {
    "duration": 2316,
    "start_time": "2025-04-18T22:35:05.372Z"
   },
   {
    "duration": 2335,
    "start_time": "2025-04-18T22:35:07.690Z"
   },
   {
    "duration": 2305,
    "start_time": "2025-04-18T22:35:10.027Z"
   },
   {
    "duration": 1401,
    "start_time": "2025-04-18T22:35:12.335Z"
   },
   {
    "duration": 2,
    "start_time": "2025-04-18T22:35:13.738Z"
   },
   {
    "duration": 867,
    "start_time": "2025-04-18T22:35:13.742Z"
   },
   {
    "duration": 27,
    "start_time": "2025-04-18T22:35:14.610Z"
   },
   {
    "duration": 148,
    "start_time": "2025-04-18T22:35:14.639Z"
   },
   {
    "duration": 101,
    "start_time": "2025-04-18T22:35:14.789Z"
   },
   {
    "duration": 23,
    "start_time": "2025-04-18T22:35:14.892Z"
   },
   {
    "duration": 226,
    "start_time": "2025-04-18T22:35:14.917Z"
   },
   {
    "duration": 433,
    "start_time": "2025-04-18T22:35:15.145Z"
   },
   {
    "duration": 86,
    "start_time": "2025-04-18T22:35:15.580Z"
   },
   {
    "duration": 46,
    "start_time": "2025-04-18T22:35:15.668Z"
   },
   {
    "duration": 39,
    "start_time": "2025-04-18T22:35:15.716Z"
   },
   {
    "duration": 38,
    "start_time": "2025-04-18T22:35:15.757Z"
   },
   {
    "duration": 1642,
    "start_time": "2025-04-18T22:35:15.797Z"
   },
   {
    "duration": 15,
    "start_time": "2025-04-18T22:35:17.441Z"
   },
   {
    "duration": 34,
    "start_time": "2025-04-18T22:35:17.458Z"
   },
   {
    "duration": 53,
    "start_time": "2025-04-18T22:35:17.495Z"
   },
   {
    "duration": 44,
    "start_time": "2025-04-18T22:35:17.552Z"
   },
   {
    "duration": 1728,
    "start_time": "2025-04-18T22:35:17.597Z"
   },
   {
    "duration": 13,
    "start_time": "2025-04-18T22:35:19.328Z"
   },
   {
    "duration": 19,
    "start_time": "2025-04-18T22:35:19.564Z"
   },
   {
    "duration": 1481,
    "start_time": "2025-04-18T22:35:19.943Z"
   },
   {
    "duration": 18,
    "start_time": "2025-04-18T22:35:21.442Z"
   },
   {
    "duration": 1494,
    "start_time": "2025-04-18T22:35:25.253Z"
   },
   {
    "duration": 59,
    "start_time": "2025-04-18T22:36:53.210Z"
   },
   {
    "duration": 112,
    "start_time": "2025-04-18T22:42:27.123Z"
   },
   {
    "duration": 4,
    "start_time": "2025-04-18T22:45:05.554Z"
   },
   {
    "duration": 67,
    "start_time": "2025-04-18T22:45:34.342Z"
   },
   {
    "duration": 58,
    "start_time": "2025-04-18T22:46:14.587Z"
   },
   {
    "duration": 10,
    "start_time": "2025-04-18T22:50:50.810Z"
   },
   {
    "duration": 121,
    "start_time": "2025-04-18T22:52:05.036Z"
   },
   {
    "duration": 95,
    "start_time": "2025-04-18T22:52:39.527Z"
   },
   {
    "duration": 137,
    "start_time": "2025-04-18T22:52:49.024Z"
   },
   {
    "duration": 104,
    "start_time": "2025-04-18T22:56:35.565Z"
   },
   {
    "duration": 139,
    "start_time": "2025-04-18T22:57:16.691Z"
   },
   {
    "duration": 152,
    "start_time": "2025-04-18T22:58:03.374Z"
   },
   {
    "duration": 162,
    "start_time": "2025-04-18T22:58:12.882Z"
   },
   {
    "duration": 10,
    "start_time": "2025-04-18T22:58:23.504Z"
   },
   {
    "duration": 27,
    "start_time": "2025-04-18T22:58:31.803Z"
   },
   {
    "duration": 13,
    "start_time": "2025-04-18T23:01:33.927Z"
   },
   {
    "duration": 244,
    "start_time": "2025-04-18T23:01:46.531Z"
   },
   {
    "duration": 65,
    "start_time": "2025-04-18T23:02:29.118Z"
   },
   {
    "duration": 44,
    "start_time": "2025-04-18T23:05:11.647Z"
   },
   {
    "duration": 43,
    "start_time": "2025-04-18T23:05:41.598Z"
   },
   {
    "duration": 2360,
    "start_time": "2025-04-18T23:10:02.488Z"
   },
   {
    "duration": 2301,
    "start_time": "2025-04-18T23:10:04.851Z"
   },
   {
    "duration": 2276,
    "start_time": "2025-04-18T23:10:07.154Z"
   },
   {
    "duration": 1313,
    "start_time": "2025-04-18T23:10:09.433Z"
   },
   {
    "duration": 3,
    "start_time": "2025-04-18T23:10:10.748Z"
   },
   {
    "duration": 842,
    "start_time": "2025-04-18T23:10:10.752Z"
   },
   {
    "duration": 16,
    "start_time": "2025-04-18T23:10:11.596Z"
   },
   {
    "duration": 167,
    "start_time": "2025-04-18T23:10:11.614Z"
   },
   {
    "duration": 103,
    "start_time": "2025-04-18T23:10:11.782Z"
   },
   {
    "duration": 21,
    "start_time": "2025-04-18T23:10:11.888Z"
   },
   {
    "duration": 213,
    "start_time": "2025-04-18T23:10:11.911Z"
   },
   {
    "duration": 413,
    "start_time": "2025-04-18T23:10:12.125Z"
   },
   {
    "duration": 82,
    "start_time": "2025-04-18T23:10:12.539Z"
   },
   {
    "duration": 58,
    "start_time": "2025-04-18T23:10:12.623Z"
   },
   {
    "duration": 28,
    "start_time": "2025-04-18T23:10:12.683Z"
   },
   {
    "duration": 45,
    "start_time": "2025-04-18T23:10:12.712Z"
   },
   {
    "duration": 1678,
    "start_time": "2025-04-18T23:10:12.758Z"
   },
   {
    "duration": 13,
    "start_time": "2025-04-18T23:10:14.438Z"
   },
   {
    "duration": 33,
    "start_time": "2025-04-18T23:10:14.453Z"
   },
   {
    "duration": 49,
    "start_time": "2025-04-18T23:10:14.487Z"
   },
   {
    "duration": 21,
    "start_time": "2025-04-18T23:10:14.538Z"
   },
   {
    "duration": 1693,
    "start_time": "2025-04-18T23:10:14.560Z"
   },
   {
    "duration": 14,
    "start_time": "2025-04-18T23:10:16.255Z"
   },
   {
    "duration": 52,
    "start_time": "2025-04-18T23:10:16.271Z"
   },
   {
    "duration": 1507,
    "start_time": "2025-04-18T23:10:16.325Z"
   },
   {
    "duration": 18,
    "start_time": "2025-04-18T23:10:17.835Z"
   },
   {
    "duration": 1536,
    "start_time": "2025-04-18T23:10:17.855Z"
   },
   {
    "duration": 63,
    "start_time": "2025-04-18T23:10:19.393Z"
   },
   {
    "duration": 126,
    "start_time": "2025-04-18T23:10:19.458Z"
   },
   {
    "duration": 0,
    "start_time": "2025-04-18T23:10:19.586Z"
   },
   {
    "duration": 102,
    "start_time": "2025-04-18T23:10:38.758Z"
   },
   {
    "duration": 47,
    "start_time": "2025-04-18T23:10:40.268Z"
   },
   {
    "duration": 234,
    "start_time": "2025-04-18T23:10:42.603Z"
   },
   {
    "duration": 134,
    "start_time": "2025-04-18T23:10:46.228Z"
   },
   {
    "duration": 25,
    "start_time": "2025-04-18T23:10:50.203Z"
   },
   {
    "duration": 233,
    "start_time": "2025-04-18T23:10:51.598Z"
   },
   {
    "duration": 40,
    "start_time": "2025-04-18T23:11:00.198Z"
   },
   {
    "duration": 43,
    "start_time": "2025-04-18T23:11:01.109Z"
   },
   {
    "duration": 3,
    "start_time": "2025-04-18T23:17:31.804Z"
   },
   {
    "duration": 3,
    "start_time": "2025-04-18T23:17:32.990Z"
   },
   {
    "duration": 3853,
    "start_time": "2025-04-18T23:18:14.027Z"
   },
   {
    "duration": 5,
    "start_time": "2025-04-18T23:34:14.399Z"
   },
   {
    "duration": 2327,
    "start_time": "2025-04-18T23:47:08.735Z"
   },
   {
    "duration": 2269,
    "start_time": "2025-04-18T23:47:11.064Z"
   },
   {
    "duration": 2271,
    "start_time": "2025-04-18T23:47:13.335Z"
   },
   {
    "duration": 1337,
    "start_time": "2025-04-18T23:47:15.608Z"
   },
   {
    "duration": 3,
    "start_time": "2025-04-18T23:47:16.946Z"
   },
   {
    "duration": 855,
    "start_time": "2025-04-18T23:47:16.950Z"
   },
   {
    "duration": 15,
    "start_time": "2025-04-18T23:47:17.807Z"
   },
   {
    "duration": 180,
    "start_time": "2025-04-18T23:47:17.823Z"
   },
   {
    "duration": 94,
    "start_time": "2025-04-18T23:47:18.005Z"
   },
   {
    "duration": 23,
    "start_time": "2025-04-18T23:47:18.101Z"
   },
   {
    "duration": 211,
    "start_time": "2025-04-18T23:47:18.137Z"
   },
   {
    "duration": 415,
    "start_time": "2025-04-18T23:47:18.350Z"
   },
   {
    "duration": 90,
    "start_time": "2025-04-18T23:47:18.767Z"
   },
   {
    "duration": 45,
    "start_time": "2025-04-18T23:47:18.859Z"
   },
   {
    "duration": 41,
    "start_time": "2025-04-18T23:47:18.906Z"
   },
   {
    "duration": 37,
    "start_time": "2025-04-18T23:47:18.949Z"
   },
   {
    "duration": 1677,
    "start_time": "2025-04-18T23:47:18.988Z"
   },
   {
    "duration": 14,
    "start_time": "2025-04-18T23:47:20.666Z"
   },
   {
    "duration": 38,
    "start_time": "2025-04-18T23:47:20.681Z"
   },
   {
    "duration": 42,
    "start_time": "2025-04-18T23:47:20.721Z"
   },
   {
    "duration": 38,
    "start_time": "2025-04-18T23:47:20.764Z"
   },
   {
    "duration": 1709,
    "start_time": "2025-04-18T23:47:20.804Z"
   },
   {
    "duration": 13,
    "start_time": "2025-04-18T23:47:22.515Z"
   },
   {
    "duration": 57,
    "start_time": "2025-04-18T23:47:22.530Z"
   },
   {
    "duration": 1430,
    "start_time": "2025-04-18T23:47:22.589Z"
   },
   {
    "duration": 26,
    "start_time": "2025-04-18T23:47:24.020Z"
   },
   {
    "duration": 1448,
    "start_time": "2025-04-18T23:47:24.048Z"
   },
   {
    "duration": 67,
    "start_time": "2025-04-18T23:47:25.499Z"
   },
   {
    "duration": 172,
    "start_time": "2025-04-18T23:47:25.567Z"
   },
   {
    "duration": 48,
    "start_time": "2025-04-18T23:47:25.741Z"
   },
   {
    "duration": 299,
    "start_time": "2025-04-18T23:47:25.791Z"
   },
   {
    "duration": 155,
    "start_time": "2025-04-18T23:47:26.092Z"
   },
   {
    "duration": 25,
    "start_time": "2025-04-18T23:47:26.249Z"
   },
   {
    "duration": 251,
    "start_time": "2025-04-18T23:47:26.276Z"
   },
   {
    "duration": 47,
    "start_time": "2025-04-18T23:47:26.528Z"
   },
   {
    "duration": 42,
    "start_time": "2025-04-18T23:47:26.577Z"
   },
   {
    "duration": 18,
    "start_time": "2025-04-18T23:47:26.620Z"
   },
   {
    "duration": 3934,
    "start_time": "2025-04-18T23:47:26.639Z"
   },
   {
    "duration": 10,
    "start_time": "2025-04-18T23:47:30.575Z"
   },
   {
    "duration": 2300,
    "start_time": "2025-04-18T23:53:34.893Z"
   },
   {
    "duration": 2298,
    "start_time": "2025-04-18T23:53:37.195Z"
   },
   {
    "duration": 2255,
    "start_time": "2025-04-18T23:53:39.495Z"
   },
   {
    "duration": 1287,
    "start_time": "2025-04-18T23:53:41.753Z"
   },
   {
    "duration": 2,
    "start_time": "2025-04-18T23:53:43.041Z"
   },
   {
    "duration": 853,
    "start_time": "2025-04-18T23:53:43.045Z"
   },
   {
    "duration": 15,
    "start_time": "2025-04-18T23:53:43.900Z"
   },
   {
    "duration": 161,
    "start_time": "2025-04-18T23:53:43.916Z"
   },
   {
    "duration": 102,
    "start_time": "2025-04-18T23:53:44.079Z"
   },
   {
    "duration": 23,
    "start_time": "2025-04-18T23:53:44.184Z"
   },
   {
    "duration": 230,
    "start_time": "2025-04-18T23:53:44.209Z"
   },
   {
    "duration": 414,
    "start_time": "2025-04-18T23:53:44.441Z"
   },
   {
    "duration": 92,
    "start_time": "2025-04-18T23:53:44.856Z"
   },
   {
    "duration": 28,
    "start_time": "2025-04-18T23:53:44.950Z"
   },
   {
    "duration": 33,
    "start_time": "2025-04-18T23:53:44.979Z"
   },
   {
    "duration": 1735,
    "start_time": "2025-04-18T23:53:45.014Z"
   },
   {
    "duration": 14,
    "start_time": "2025-04-18T23:53:46.750Z"
   },
   {
    "duration": 35,
    "start_time": "2025-04-18T23:53:46.765Z"
   },
   {
    "duration": 46,
    "start_time": "2025-04-18T23:53:46.802Z"
   },
   {
    "duration": 22,
    "start_time": "2025-04-18T23:53:46.849Z"
   },
   {
    "duration": 1717,
    "start_time": "2025-04-18T23:53:46.872Z"
   },
   {
    "duration": 15,
    "start_time": "2025-04-18T23:53:48.590Z"
   },
   {
    "duration": 20,
    "start_time": "2025-04-18T23:53:48.606Z"
   },
   {
    "duration": 1492,
    "start_time": "2025-04-18T23:53:48.628Z"
   },
   {
    "duration": 28,
    "start_time": "2025-04-18T23:53:50.122Z"
   },
   {
    "duration": 1532,
    "start_time": "2025-04-18T23:53:50.152Z"
   },
   {
    "duration": 70,
    "start_time": "2025-04-18T23:53:51.686Z"
   },
   {
    "duration": 206,
    "start_time": "2025-04-18T23:53:51.759Z"
   },
   {
    "duration": 47,
    "start_time": "2025-04-18T23:53:51.966Z"
   },
   {
    "duration": 283,
    "start_time": "2025-04-18T23:53:52.015Z"
   },
   {
    "duration": 140,
    "start_time": "2025-04-18T23:53:52.300Z"
   },
   {
    "duration": 25,
    "start_time": "2025-04-18T23:53:52.442Z"
   },
   {
    "duration": 313,
    "start_time": "2025-04-18T23:53:52.468Z"
   },
   {
    "duration": 53,
    "start_time": "2025-04-18T23:53:52.783Z"
   },
   {
    "duration": 42,
    "start_time": "2025-04-18T23:53:52.838Z"
   },
   {
    "duration": 4,
    "start_time": "2025-04-18T23:53:52.881Z"
   },
   {
    "duration": 3805,
    "start_time": "2025-04-18T23:53:52.886Z"
   },
   {
    "duration": 11,
    "start_time": "2025-04-18T23:53:56.693Z"
   },
   {
    "duration": 57,
    "start_time": "2025-04-19T00:06:23.736Z"
   },
   {
    "duration": 2,
    "start_time": "2025-04-19T00:07:08.514Z"
   },
   {
    "duration": 5,
    "start_time": "2025-04-19T00:07:36.804Z"
   },
   {
    "duration": 29149,
    "start_time": "2025-04-19T00:10:50.888Z"
   },
   {
    "duration": 2346,
    "start_time": "2025-04-19T00:16:35.817Z"
   },
   {
    "duration": 2313,
    "start_time": "2025-04-19T00:16:38.165Z"
   },
   {
    "duration": 2280,
    "start_time": "2025-04-19T00:16:40.480Z"
   },
   {
    "duration": 1316,
    "start_time": "2025-04-19T00:16:42.762Z"
   },
   {
    "duration": 3,
    "start_time": "2025-04-19T00:16:44.080Z"
   },
   {
    "duration": 979,
    "start_time": "2025-04-19T00:16:44.084Z"
   },
   {
    "duration": 16,
    "start_time": "2025-04-19T00:16:45.065Z"
   },
   {
    "duration": 160,
    "start_time": "2025-04-19T00:16:45.083Z"
   },
   {
    "duration": 100,
    "start_time": "2025-04-19T00:16:45.245Z"
   },
   {
    "duration": 22,
    "start_time": "2025-04-19T00:16:45.347Z"
   },
   {
    "duration": 216,
    "start_time": "2025-04-19T00:16:45.371Z"
   },
   {
    "duration": 399,
    "start_time": "2025-04-19T00:16:45.589Z"
   },
   {
    "duration": 89,
    "start_time": "2025-04-19T00:16:45.989Z"
   },
   {
    "duration": 29,
    "start_time": "2025-04-19T00:16:46.081Z"
   },
   {
    "duration": 104,
    "start_time": "2025-04-19T00:16:46.112Z"
   },
   {
    "duration": 1709,
    "start_time": "2025-04-19T00:16:46.218Z"
   },
   {
    "duration": 15,
    "start_time": "2025-04-19T00:16:47.937Z"
   },
   {
    "duration": 53,
    "start_time": "2025-04-19T00:16:47.953Z"
   },
   {
    "duration": 30,
    "start_time": "2025-04-19T00:16:48.008Z"
   },
   {
    "duration": 30,
    "start_time": "2025-04-19T00:16:48.040Z"
   },
   {
    "duration": 1765,
    "start_time": "2025-04-19T00:16:48.072Z"
   },
   {
    "duration": 14,
    "start_time": "2025-04-19T00:16:49.838Z"
   },
   {
    "duration": 130,
    "start_time": "2025-04-19T00:16:49.854Z"
   },
   {
    "duration": 1527,
    "start_time": "2025-04-19T00:16:49.986Z"
   },
   {
    "duration": 28,
    "start_time": "2025-04-19T00:16:51.515Z"
   },
   {
    "duration": 1452,
    "start_time": "2025-04-19T00:16:51.544Z"
   },
   {
    "duration": 68,
    "start_time": "2025-04-19T00:16:52.998Z"
   },
   {
    "duration": 119,
    "start_time": "2025-04-19T00:16:53.068Z"
   },
   {
    "duration": 52,
    "start_time": "2025-04-19T00:16:53.189Z"
   },
   {
    "duration": 241,
    "start_time": "2025-04-19T00:16:53.243Z"
   },
   {
    "duration": 142,
    "start_time": "2025-04-19T00:16:53.486Z"
   },
   {
    "duration": 29,
    "start_time": "2025-04-19T00:16:53.630Z"
   },
   {
    "duration": 290,
    "start_time": "2025-04-19T00:16:53.660Z"
   },
   {
    "duration": 41,
    "start_time": "2025-04-19T00:16:53.951Z"
   },
   {
    "duration": 54,
    "start_time": "2025-04-19T00:16:53.994Z"
   },
   {
    "duration": 4,
    "start_time": "2025-04-19T00:16:54.050Z"
   },
   {
    "duration": 3946,
    "start_time": "2025-04-19T00:16:54.055Z"
   },
   {
    "duration": 72,
    "start_time": "2025-04-19T00:16:58.002Z"
   },
   {
    "duration": 3,
    "start_time": "2025-04-19T00:16:58.075Z"
   },
   {
    "duration": 65,
    "start_time": "2025-04-19T00:16:58.080Z"
   },
   {
    "duration": 2320,
    "start_time": "2025-04-19T00:17:22.533Z"
   },
   {
    "duration": 2282,
    "start_time": "2025-04-19T00:17:24.856Z"
   },
   {
    "duration": 2313,
    "start_time": "2025-04-19T00:17:27.140Z"
   },
   {
    "duration": 1343,
    "start_time": "2025-04-19T00:17:29.455Z"
   },
   {
    "duration": 2,
    "start_time": "2025-04-19T00:17:30.801Z"
   },
   {
    "duration": 906,
    "start_time": "2025-04-19T00:17:30.805Z"
   },
   {
    "duration": 24,
    "start_time": "2025-04-19T00:17:31.713Z"
   },
   {
    "duration": 159,
    "start_time": "2025-04-19T00:17:31.739Z"
   },
   {
    "duration": 104,
    "start_time": "2025-04-19T00:17:31.900Z"
   },
   {
    "duration": 31,
    "start_time": "2025-04-19T00:17:32.006Z"
   },
   {
    "duration": 220,
    "start_time": "2025-04-19T00:17:32.039Z"
   },
   {
    "duration": 420,
    "start_time": "2025-04-19T00:17:32.260Z"
   },
   {
    "duration": 89,
    "start_time": "2025-04-19T00:17:32.682Z"
   },
   {
    "duration": 31,
    "start_time": "2025-04-19T00:17:32.774Z"
   },
   {
    "duration": 46,
    "start_time": "2025-04-19T00:17:32.807Z"
   },
   {
    "duration": 1791,
    "start_time": "2025-04-19T00:17:32.855Z"
   },
   {
    "duration": 13,
    "start_time": "2025-04-19T00:17:34.648Z"
   },
   {
    "duration": 54,
    "start_time": "2025-04-19T00:17:34.663Z"
   },
   {
    "duration": 28,
    "start_time": "2025-04-19T00:17:34.719Z"
   },
   {
    "duration": 21,
    "start_time": "2025-04-19T00:17:34.749Z"
   },
   {
    "duration": 1714,
    "start_time": "2025-04-19T00:17:34.772Z"
   },
   {
    "duration": 14,
    "start_time": "2025-04-19T00:17:36.488Z"
   },
   {
    "duration": 35,
    "start_time": "2025-04-19T00:17:36.503Z"
   },
   {
    "duration": 1475,
    "start_time": "2025-04-19T00:17:36.539Z"
   },
   {
    "duration": 26,
    "start_time": "2025-04-19T00:17:38.016Z"
   },
   {
    "duration": 1465,
    "start_time": "2025-04-19T00:17:38.044Z"
   },
   {
    "duration": 58,
    "start_time": "2025-04-19T00:17:39.511Z"
   },
   {
    "duration": 116,
    "start_time": "2025-04-19T00:17:39.571Z"
   },
   {
    "duration": 54,
    "start_time": "2025-04-19T00:17:39.689Z"
   },
   {
    "duration": 229,
    "start_time": "2025-04-19T00:17:39.745Z"
   },
   {
    "duration": 0,
    "start_time": "2025-04-19T00:17:39.976Z"
   },
   {
    "duration": 0,
    "start_time": "2025-04-19T00:17:39.977Z"
   },
   {
    "duration": 0,
    "start_time": "2025-04-19T00:17:39.978Z"
   },
   {
    "duration": 0,
    "start_time": "2025-04-19T00:17:39.979Z"
   },
   {
    "duration": 0,
    "start_time": "2025-04-19T00:17:39.980Z"
   },
   {
    "duration": 0,
    "start_time": "2025-04-19T00:17:39.981Z"
   },
   {
    "duration": 0,
    "start_time": "2025-04-19T00:17:39.983Z"
   },
   {
    "duration": 0,
    "start_time": "2025-04-19T00:17:39.984Z"
   },
   {
    "duration": 0,
    "start_time": "2025-04-19T00:17:39.985Z"
   },
   {
    "duration": 0,
    "start_time": "2025-04-19T00:17:39.986Z"
   },
   {
    "duration": 0,
    "start_time": "2025-04-19T00:17:39.987Z"
   },
   {
    "duration": 0,
    "start_time": "2025-04-19T00:17:39.988Z"
   },
   {
    "duration": 0,
    "start_time": "2025-04-19T00:17:39.989Z"
   },
   {
    "duration": 2290,
    "start_time": "2025-04-19T00:18:34.777Z"
   },
   {
    "duration": 2387,
    "start_time": "2025-04-19T00:18:37.070Z"
   },
   {
    "duration": 2298,
    "start_time": "2025-04-19T00:18:39.459Z"
   },
   {
    "duration": 1370,
    "start_time": "2025-04-19T00:18:41.759Z"
   },
   {
    "duration": 3,
    "start_time": "2025-04-19T00:18:43.131Z"
   },
   {
    "duration": 869,
    "start_time": "2025-04-19T00:18:43.135Z"
   },
   {
    "duration": 16,
    "start_time": "2025-04-19T00:18:44.006Z"
   },
   {
    "duration": 160,
    "start_time": "2025-04-19T00:18:44.023Z"
   },
   {
    "duration": 102,
    "start_time": "2025-04-19T00:18:44.184Z"
   },
   {
    "duration": 23,
    "start_time": "2025-04-19T00:18:44.288Z"
   },
   {
    "duration": 233,
    "start_time": "2025-04-19T00:18:44.313Z"
   },
   {
    "duration": 410,
    "start_time": "2025-04-19T00:18:44.548Z"
   },
   {
    "duration": 91,
    "start_time": "2025-04-19T00:18:44.960Z"
   },
   {
    "duration": 75,
    "start_time": "2025-04-19T00:18:45.054Z"
   },
   {
    "duration": 41,
    "start_time": "2025-04-19T00:18:45.130Z"
   },
   {
    "duration": 1746,
    "start_time": "2025-04-19T00:18:45.173Z"
   },
   {
    "duration": 22,
    "start_time": "2025-04-19T00:18:46.921Z"
   },
   {
    "duration": 34,
    "start_time": "2025-04-19T00:18:46.945Z"
   },
   {
    "duration": 29,
    "start_time": "2025-04-19T00:18:46.980Z"
   },
   {
    "duration": 40,
    "start_time": "2025-04-19T00:18:47.011Z"
   },
   {
    "duration": 1725,
    "start_time": "2025-04-19T00:18:47.053Z"
   },
   {
    "duration": 15,
    "start_time": "2025-04-19T00:18:48.780Z"
   },
   {
    "duration": 41,
    "start_time": "2025-04-19T00:18:48.797Z"
   },
   {
    "duration": 1486,
    "start_time": "2025-04-19T00:18:48.840Z"
   },
   {
    "duration": 24,
    "start_time": "2025-04-19T00:18:50.328Z"
   },
   {
    "duration": 1447,
    "start_time": "2025-04-19T00:18:50.354Z"
   },
   {
    "duration": 59,
    "start_time": "2025-04-19T00:18:51.803Z"
   },
   {
    "duration": 111,
    "start_time": "2025-04-19T00:18:51.863Z"
   },
   {
    "duration": 50,
    "start_time": "2025-04-19T00:18:51.975Z"
   },
   {
    "duration": 244,
    "start_time": "2025-04-19T00:18:52.027Z"
   },
   {
    "duration": 139,
    "start_time": "2025-04-19T00:18:52.273Z"
   },
   {
    "duration": 30,
    "start_time": "2025-04-19T00:18:52.413Z"
   },
   {
    "duration": 267,
    "start_time": "2025-04-19T00:18:52.444Z"
   },
   {
    "duration": 49,
    "start_time": "2025-04-19T00:18:52.713Z"
   },
   {
    "duration": 43,
    "start_time": "2025-04-19T00:18:52.764Z"
   },
   {
    "duration": 5,
    "start_time": "2025-04-19T00:18:52.809Z"
   },
   {
    "duration": 3884,
    "start_time": "2025-04-19T00:18:52.815Z"
   },
   {
    "duration": 69,
    "start_time": "2025-04-19T00:18:56.700Z"
   },
   {
    "duration": 3,
    "start_time": "2025-04-19T00:18:56.771Z"
   },
   {
    "duration": 16,
    "start_time": "2025-04-19T00:18:56.776Z"
   },
   {
    "duration": 28331,
    "start_time": "2025-04-19T00:18:56.795Z"
   },
   {
    "duration": 2286,
    "start_time": "2025-04-19T00:36:41.533Z"
   },
   {
    "duration": 2288,
    "start_time": "2025-04-19T00:36:43.822Z"
   },
   {
    "duration": 2285,
    "start_time": "2025-04-19T00:36:46.112Z"
   },
   {
    "duration": 1354,
    "start_time": "2025-04-19T00:36:48.400Z"
   },
   {
    "duration": 2,
    "start_time": "2025-04-19T00:36:49.756Z"
   },
   {
    "duration": 915,
    "start_time": "2025-04-19T00:36:49.760Z"
   },
   {
    "duration": 16,
    "start_time": "2025-04-19T00:36:50.677Z"
   },
   {
    "duration": 148,
    "start_time": "2025-04-19T00:36:50.694Z"
   },
   {
    "duration": 133,
    "start_time": "2025-04-19T00:36:50.843Z"
   },
   {
    "duration": 63,
    "start_time": "2025-04-19T00:36:50.979Z"
   },
   {
    "duration": 241,
    "start_time": "2025-04-19T00:36:51.044Z"
   },
   {
    "duration": 444,
    "start_time": "2025-04-19T00:36:51.286Z"
   },
   {
    "duration": 107,
    "start_time": "2025-04-19T00:36:51.732Z"
   },
   {
    "duration": 29,
    "start_time": "2025-04-19T00:36:51.841Z"
   },
   {
    "duration": 36,
    "start_time": "2025-04-19T00:36:51.871Z"
   },
   {
    "duration": 2314,
    "start_time": "2025-04-19T00:37:10.637Z"
   },
   {
    "duration": 2331,
    "start_time": "2025-04-19T00:37:12.953Z"
   },
   {
    "duration": 2282,
    "start_time": "2025-04-19T00:37:15.286Z"
   },
   {
    "duration": 1275,
    "start_time": "2025-04-19T00:37:17.570Z"
   },
   {
    "duration": 2,
    "start_time": "2025-04-19T00:37:18.847Z"
   },
   {
    "duration": 862,
    "start_time": "2025-04-19T00:37:18.850Z"
   },
   {
    "duration": 23,
    "start_time": "2025-04-19T00:37:19.714Z"
   },
   {
    "duration": 143,
    "start_time": "2025-04-19T00:37:19.738Z"
   },
   {
    "duration": 103,
    "start_time": "2025-04-19T00:37:19.883Z"
   },
   {
    "duration": 21,
    "start_time": "2025-04-19T00:37:19.988Z"
   },
   {
    "duration": 242,
    "start_time": "2025-04-19T00:37:20.011Z"
   },
   {
    "duration": 398,
    "start_time": "2025-04-19T00:37:20.255Z"
   },
   {
    "duration": 86,
    "start_time": "2025-04-19T00:37:20.655Z"
   },
   {
    "duration": 48,
    "start_time": "2025-04-19T00:37:20.744Z"
   },
   {
    "duration": 33,
    "start_time": "2025-04-19T00:37:20.794Z"
   },
   {
    "duration": 1746,
    "start_time": "2025-04-19T00:37:20.829Z"
   },
   {
    "duration": 13,
    "start_time": "2025-04-19T00:37:22.577Z"
   },
   {
    "duration": 50,
    "start_time": "2025-04-19T00:37:22.592Z"
   },
   {
    "duration": 29,
    "start_time": "2025-04-19T00:37:22.643Z"
   },
   {
    "duration": 70,
    "start_time": "2025-04-19T00:37:22.673Z"
   },
   {
    "duration": 1680,
    "start_time": "2025-04-19T00:37:22.744Z"
   },
   {
    "duration": 18,
    "start_time": "2025-04-19T00:37:24.425Z"
   },
   {
    "duration": 20,
    "start_time": "2025-04-19T00:37:24.445Z"
   },
   {
    "duration": 1534,
    "start_time": "2025-04-19T00:37:24.467Z"
   },
   {
    "duration": 22,
    "start_time": "2025-04-19T00:37:26.002Z"
   },
   {
    "duration": 1552,
    "start_time": "2025-04-19T00:37:26.025Z"
   },
   {
    "duration": 58,
    "start_time": "2025-04-19T00:37:27.579Z"
   },
   {
    "duration": 108,
    "start_time": "2025-04-19T00:37:27.638Z"
   },
   {
    "duration": 47,
    "start_time": "2025-04-19T00:37:27.747Z"
   },
   {
    "duration": 265,
    "start_time": "2025-04-19T00:37:27.796Z"
   },
   {
    "duration": 145,
    "start_time": "2025-04-19T00:37:28.063Z"
   },
   {
    "duration": 28,
    "start_time": "2025-04-19T00:37:28.210Z"
   },
   {
    "duration": 254,
    "start_time": "2025-04-19T00:37:28.240Z"
   },
   {
    "duration": 48,
    "start_time": "2025-04-19T00:37:28.496Z"
   },
   {
    "duration": 41,
    "start_time": "2025-04-19T00:37:28.545Z"
   },
   {
    "duration": 7,
    "start_time": "2025-04-19T00:37:28.588Z"
   },
   {
    "duration": 3878,
    "start_time": "2025-04-19T00:37:28.596Z"
   },
   {
    "duration": 77,
    "start_time": "2025-04-19T00:37:32.476Z"
   },
   {
    "duration": 4,
    "start_time": "2025-04-19T00:37:32.554Z"
   },
   {
    "duration": 17,
    "start_time": "2025-04-19T00:37:32.560Z"
   },
   {
    "duration": 28363,
    "start_time": "2025-04-19T00:37:32.581Z"
   },
   {
    "duration": 2461,
    "start_time": "2025-04-19T00:48:49.171Z"
   },
   {
    "duration": 2427,
    "start_time": "2025-04-19T00:48:51.634Z"
   },
   {
    "duration": 2411,
    "start_time": "2025-04-19T00:48:54.063Z"
   },
   {
    "duration": 1432,
    "start_time": "2025-04-19T00:48:56.476Z"
   },
   {
    "duration": 2,
    "start_time": "2025-04-19T00:48:57.910Z"
   },
   {
    "duration": 983,
    "start_time": "2025-04-19T00:48:57.914Z"
   },
   {
    "duration": 16,
    "start_time": "2025-04-19T00:48:58.899Z"
   },
   {
    "duration": 192,
    "start_time": "2025-04-19T00:48:58.917Z"
   },
   {
    "duration": 104,
    "start_time": "2025-04-19T00:48:59.111Z"
   },
   {
    "duration": 33,
    "start_time": "2025-04-19T00:48:59.216Z"
   },
   {
    "duration": 236,
    "start_time": "2025-04-19T00:48:59.251Z"
   },
   {
    "duration": 433,
    "start_time": "2025-04-19T00:48:59.489Z"
   },
   {
    "duration": 91,
    "start_time": "2025-04-19T00:48:59.924Z"
   },
   {
    "duration": 39,
    "start_time": "2025-04-19T00:49:00.018Z"
   },
   {
    "duration": 42,
    "start_time": "2025-04-19T00:49:00.059Z"
   },
   {
    "duration": 1899,
    "start_time": "2025-04-19T00:49:00.103Z"
   },
   {
    "duration": 15,
    "start_time": "2025-04-19T00:49:02.004Z"
   },
   {
    "duration": 63,
    "start_time": "2025-04-19T00:49:02.020Z"
   },
   {
    "duration": 38,
    "start_time": "2025-04-19T00:49:02.085Z"
   },
   {
    "duration": 20,
    "start_time": "2025-04-19T00:49:02.125Z"
   },
   {
    "duration": 1792,
    "start_time": "2025-04-19T00:49:02.148Z"
   },
   {
    "duration": 14,
    "start_time": "2025-04-19T00:49:03.942Z"
   },
   {
    "duration": 20,
    "start_time": "2025-04-19T00:49:03.958Z"
   },
   {
    "duration": 1733,
    "start_time": "2025-04-19T00:49:03.980Z"
   },
   {
    "duration": 27,
    "start_time": "2025-04-19T00:49:05.715Z"
   },
   {
    "duration": 1605,
    "start_time": "2025-04-19T00:49:05.744Z"
   },
   {
    "duration": 62,
    "start_time": "2025-04-19T00:49:07.350Z"
   },
   {
    "duration": 107,
    "start_time": "2025-04-19T00:49:07.415Z"
   },
   {
    "duration": 55,
    "start_time": "2025-04-19T00:49:07.523Z"
   },
   {
    "duration": 280,
    "start_time": "2025-04-19T00:49:07.580Z"
   },
   {
    "duration": 168,
    "start_time": "2025-04-19T00:49:07.862Z"
   },
   {
    "duration": 27,
    "start_time": "2025-04-19T00:49:08.035Z"
   },
   {
    "duration": 289,
    "start_time": "2025-04-19T00:49:08.064Z"
   },
   {
    "duration": 44,
    "start_time": "2025-04-19T00:49:08.355Z"
   },
   {
    "duration": 57,
    "start_time": "2025-04-19T00:49:08.401Z"
   },
   {
    "duration": 5,
    "start_time": "2025-04-19T00:49:08.460Z"
   },
   {
    "duration": 4253,
    "start_time": "2025-04-19T00:49:08.466Z"
   },
   {
    "duration": 72,
    "start_time": "2025-04-19T00:49:12.721Z"
   },
   {
    "duration": 25,
    "start_time": "2025-04-19T00:49:12.794Z"
   },
   {
    "duration": 7,
    "start_time": "2025-04-19T00:49:12.820Z"
   },
   {
    "duration": 30082,
    "start_time": "2025-04-19T00:49:12.831Z"
   },
   {
    "duration": 187,
    "start_time": "2025-04-19T00:49:42.914Z"
   },
   {
    "duration": 78,
    "start_time": "2025-04-19T00:49:43.102Z"
   },
   {
    "duration": 2551,
    "start_time": "2025-04-19T01:04:56.918Z"
   },
   {
    "duration": 2572,
    "start_time": "2025-04-19T01:04:59.471Z"
   },
   {
    "duration": 2593,
    "start_time": "2025-04-19T01:05:02.046Z"
   },
   {
    "duration": 2477,
    "start_time": "2025-04-19T01:05:04.641Z"
   },
   {
    "duration": 1482,
    "start_time": "2025-04-19T01:05:07.120Z"
   },
   {
    "duration": 0,
    "start_time": "2025-04-19T01:05:08.605Z"
   },
   {
    "duration": 0,
    "start_time": "2025-04-19T01:05:08.606Z"
   },
   {
    "duration": 0,
    "start_time": "2025-04-19T01:05:08.608Z"
   },
   {
    "duration": 0,
    "start_time": "2025-04-19T01:05:08.609Z"
   },
   {
    "duration": 0,
    "start_time": "2025-04-19T01:05:08.610Z"
   },
   {
    "duration": 0,
    "start_time": "2025-04-19T01:05:08.611Z"
   },
   {
    "duration": 0,
    "start_time": "2025-04-19T01:05:08.612Z"
   },
   {
    "duration": 1,
    "start_time": "2025-04-19T01:05:08.613Z"
   },
   {
    "duration": 0,
    "start_time": "2025-04-19T01:05:08.615Z"
   },
   {
    "duration": 0,
    "start_time": "2025-04-19T01:05:08.636Z"
   },
   {
    "duration": 0,
    "start_time": "2025-04-19T01:05:08.638Z"
   },
   {
    "duration": 0,
    "start_time": "2025-04-19T01:05:08.639Z"
   },
   {
    "duration": 0,
    "start_time": "2025-04-19T01:05:08.641Z"
   },
   {
    "duration": 0,
    "start_time": "2025-04-19T01:05:08.642Z"
   },
   {
    "duration": 0,
    "start_time": "2025-04-19T01:05:08.643Z"
   },
   {
    "duration": 0,
    "start_time": "2025-04-19T01:05:08.644Z"
   },
   {
    "duration": 0,
    "start_time": "2025-04-19T01:05:08.645Z"
   },
   {
    "duration": 0,
    "start_time": "2025-04-19T01:05:08.647Z"
   },
   {
    "duration": 0,
    "start_time": "2025-04-19T01:05:08.649Z"
   },
   {
    "duration": 0,
    "start_time": "2025-04-19T01:05:08.651Z"
   },
   {
    "duration": 0,
    "start_time": "2025-04-19T01:05:08.652Z"
   },
   {
    "duration": 0,
    "start_time": "2025-04-19T01:05:08.653Z"
   },
   {
    "duration": 0,
    "start_time": "2025-04-19T01:05:08.654Z"
   },
   {
    "duration": 0,
    "start_time": "2025-04-19T01:05:08.656Z"
   },
   {
    "duration": 0,
    "start_time": "2025-04-19T01:05:08.657Z"
   },
   {
    "duration": 0,
    "start_time": "2025-04-19T01:05:08.658Z"
   },
   {
    "duration": 0,
    "start_time": "2025-04-19T01:05:08.659Z"
   },
   {
    "duration": 0,
    "start_time": "2025-04-19T01:05:08.660Z"
   },
   {
    "duration": 0,
    "start_time": "2025-04-19T01:05:08.661Z"
   },
   {
    "duration": 0,
    "start_time": "2025-04-19T01:05:08.663Z"
   },
   {
    "duration": 0,
    "start_time": "2025-04-19T01:05:08.664Z"
   },
   {
    "duration": 0,
    "start_time": "2025-04-19T01:05:08.665Z"
   },
   {
    "duration": 0,
    "start_time": "2025-04-19T01:05:08.666Z"
   },
   {
    "duration": 0,
    "start_time": "2025-04-19T01:05:08.667Z"
   },
   {
    "duration": 0,
    "start_time": "2025-04-19T01:05:08.668Z"
   },
   {
    "duration": 0,
    "start_time": "2025-04-19T01:05:08.669Z"
   },
   {
    "duration": 0,
    "start_time": "2025-04-19T01:05:08.670Z"
   },
   {
    "duration": 0,
    "start_time": "2025-04-19T01:05:08.671Z"
   },
   {
    "duration": 0,
    "start_time": "2025-04-19T01:05:08.736Z"
   },
   {
    "duration": 0,
    "start_time": "2025-04-19T01:05:08.738Z"
   },
   {
    "duration": 15,
    "start_time": "2025-04-19T01:05:43.626Z"
   },
   {
    "duration": 130,
    "start_time": "2025-04-19T01:06:05.654Z"
   },
   {
    "duration": 2484,
    "start_time": "2025-04-19T01:06:12.511Z"
   },
   {
    "duration": 2480,
    "start_time": "2025-04-19T01:06:14.998Z"
   },
   {
    "duration": 2508,
    "start_time": "2025-04-19T01:06:17.481Z"
   },
   {
    "duration": 2505,
    "start_time": "2025-04-19T01:06:19.993Z"
   },
   {
    "duration": 1390,
    "start_time": "2025-04-19T01:06:22.501Z"
   },
   {
    "duration": 3,
    "start_time": "2025-04-19T01:06:23.894Z"
   },
   {
    "duration": 946,
    "start_time": "2025-04-19T01:06:23.898Z"
   },
   {
    "duration": 17,
    "start_time": "2025-04-19T01:06:24.846Z"
   },
   {
    "duration": 187,
    "start_time": "2025-04-19T01:06:24.865Z"
   },
   {
    "duration": 112,
    "start_time": "2025-04-19T01:06:25.055Z"
   },
   {
    "duration": 26,
    "start_time": "2025-04-19T01:06:25.169Z"
   },
   {
    "duration": 234,
    "start_time": "2025-04-19T01:06:25.196Z"
   },
   {
    "duration": 448,
    "start_time": "2025-04-19T01:06:25.431Z"
   },
   {
    "duration": 96,
    "start_time": "2025-04-19T01:06:25.880Z"
   },
   {
    "duration": 31,
    "start_time": "2025-04-19T01:06:25.977Z"
   },
   {
    "duration": 52,
    "start_time": "2025-04-19T01:06:26.010Z"
   },
   {
    "duration": 1937,
    "start_time": "2025-04-19T01:06:26.063Z"
   },
   {
    "duration": 15,
    "start_time": "2025-04-19T01:06:28.001Z"
   },
   {
    "duration": 132,
    "start_time": "2025-04-19T01:06:28.017Z"
   },
   {
    "duration": 31,
    "start_time": "2025-04-19T01:06:28.150Z"
   },
   {
    "duration": 68,
    "start_time": "2025-04-19T01:06:28.182Z"
   },
   {
    "duration": 1764,
    "start_time": "2025-04-19T01:06:28.252Z"
   },
   {
    "duration": 23,
    "start_time": "2025-04-19T01:06:30.018Z"
   },
   {
    "duration": 187,
    "start_time": "2025-04-19T01:06:30.042Z"
   },
   {
    "duration": 1609,
    "start_time": "2025-04-19T01:06:30.231Z"
   },
   {
    "duration": 22,
    "start_time": "2025-04-19T01:06:31.841Z"
   },
   {
    "duration": 1620,
    "start_time": "2025-04-19T01:06:31.865Z"
   },
   {
    "duration": 62,
    "start_time": "2025-04-19T01:06:33.489Z"
   },
   {
    "duration": 129,
    "start_time": "2025-04-19T01:06:33.553Z"
   },
   {
    "duration": 55,
    "start_time": "2025-04-19T01:06:33.684Z"
   },
   {
    "duration": 259,
    "start_time": "2025-04-19T01:06:33.740Z"
   },
   {
    "duration": 162,
    "start_time": "2025-04-19T01:06:34.001Z"
   },
   {
    "duration": 84,
    "start_time": "2025-04-19T01:06:34.165Z"
   },
   {
    "duration": 287,
    "start_time": "2025-04-19T01:06:34.251Z"
   },
   {
    "duration": 44,
    "start_time": "2025-04-19T01:06:34.539Z"
   },
   {
    "duration": 58,
    "start_time": "2025-04-19T01:06:34.585Z"
   },
   {
    "duration": 3,
    "start_time": "2025-04-19T01:06:34.645Z"
   },
   {
    "duration": 4077,
    "start_time": "2025-04-19T01:06:34.650Z"
   },
   {
    "duration": 58,
    "start_time": "2025-04-19T01:06:38.737Z"
   },
   {
    "duration": 4,
    "start_time": "2025-04-19T01:06:38.797Z"
   },
   {
    "duration": 130,
    "start_time": "2025-04-19T01:06:38.802Z"
   },
   {
    "duration": 4004,
    "start_time": "2025-04-19T01:06:38.934Z"
   },
   {
    "duration": 30815,
    "start_time": "2025-04-19T01:06:42.940Z"
   },
   {
    "duration": 173,
    "start_time": "2025-04-19T01:07:13.757Z"
   },
   {
    "duration": 2494,
    "start_time": "2025-04-19T01:08:12.858Z"
   },
   {
    "duration": 2416,
    "start_time": "2025-04-19T01:08:15.355Z"
   },
   {
    "duration": 2449,
    "start_time": "2025-04-19T01:08:17.773Z"
   },
   {
    "duration": 2415,
    "start_time": "2025-04-19T01:08:20.224Z"
   },
   {
    "duration": 1441,
    "start_time": "2025-04-19T01:08:22.642Z"
   },
   {
    "duration": 3,
    "start_time": "2025-04-19T01:08:24.085Z"
   },
   {
    "duration": 953,
    "start_time": "2025-04-19T01:08:24.090Z"
   },
   {
    "duration": 18,
    "start_time": "2025-04-19T01:08:25.045Z"
   },
   {
    "duration": 177,
    "start_time": "2025-04-19T01:08:25.065Z"
   },
   {
    "duration": 113,
    "start_time": "2025-04-19T01:08:25.245Z"
   },
   {
    "duration": 27,
    "start_time": "2025-04-19T01:08:25.360Z"
   },
   {
    "duration": 242,
    "start_time": "2025-04-19T01:08:25.389Z"
   },
   {
    "duration": 431,
    "start_time": "2025-04-19T01:08:25.636Z"
   },
   {
    "duration": 100,
    "start_time": "2025-04-19T01:08:26.069Z"
   },
   {
    "duration": 33,
    "start_time": "2025-04-19T01:08:26.171Z"
   },
   {
    "duration": 53,
    "start_time": "2025-04-19T01:08:26.206Z"
   },
   {
    "duration": 1851,
    "start_time": "2025-04-19T01:08:26.261Z"
   },
   {
    "duration": 29,
    "start_time": "2025-04-19T01:08:28.114Z"
   },
   {
    "duration": 127,
    "start_time": "2025-04-19T01:08:28.146Z"
   },
   {
    "duration": 30,
    "start_time": "2025-04-19T01:08:28.275Z"
   },
   {
    "duration": 41,
    "start_time": "2025-04-19T01:08:28.307Z"
   },
   {
    "duration": 1781,
    "start_time": "2025-04-19T01:08:28.350Z"
   },
   {
    "duration": 15,
    "start_time": "2025-04-19T01:08:30.133Z"
   },
   {
    "duration": 108,
    "start_time": "2025-04-19T01:08:30.150Z"
   },
   {
    "duration": 1625,
    "start_time": "2025-04-19T01:08:30.260Z"
   },
   {
    "duration": 20,
    "start_time": "2025-04-19T01:08:31.887Z"
   },
   {
    "duration": 1604,
    "start_time": "2025-04-19T01:08:31.909Z"
   },
   {
    "duration": 62,
    "start_time": "2025-04-19T01:08:33.517Z"
   },
   {
    "duration": 130,
    "start_time": "2025-04-19T01:08:33.581Z"
   },
   {
    "duration": 50,
    "start_time": "2025-04-19T01:08:33.713Z"
   },
   {
    "duration": 264,
    "start_time": "2025-04-19T01:08:33.765Z"
   },
   {
    "duration": 161,
    "start_time": "2025-04-19T01:08:34.035Z"
   },
   {
    "duration": 86,
    "start_time": "2025-04-19T01:08:34.198Z"
   },
   {
    "duration": 281,
    "start_time": "2025-04-19T01:08:34.285Z"
   },
   {
    "duration": 43,
    "start_time": "2025-04-19T01:08:34.567Z"
   },
   {
    "duration": 57,
    "start_time": "2025-04-19T01:08:34.612Z"
   },
   {
    "duration": 5,
    "start_time": "2025-04-19T01:08:34.671Z"
   },
   {
    "duration": 4028,
    "start_time": "2025-04-19T01:08:34.678Z"
   },
   {
    "duration": 65,
    "start_time": "2025-04-19T01:08:38.708Z"
   },
   {
    "duration": 3,
    "start_time": "2025-04-19T01:08:38.774Z"
   },
   {
    "duration": 9,
    "start_time": "2025-04-19T01:08:38.779Z"
   },
   {
    "duration": 4049,
    "start_time": "2025-04-19T01:08:38.789Z"
   },
   {
    "duration": 30684,
    "start_time": "2025-04-19T01:08:42.840Z"
   },
   {
    "duration": 72814,
    "start_time": "2025-04-19T01:09:13.526Z"
   },
   {
    "duration": 2436,
    "start_time": "2025-04-19T01:13:20.588Z"
   },
   {
    "duration": 2497,
    "start_time": "2025-04-19T01:13:23.027Z"
   },
   {
    "duration": 2497,
    "start_time": "2025-04-19T01:13:25.526Z"
   },
   {
    "duration": 2494,
    "start_time": "2025-04-19T01:13:28.026Z"
   },
   {
    "duration": 1537,
    "start_time": "2025-04-19T01:13:30.522Z"
   },
   {
    "duration": 2,
    "start_time": "2025-04-19T01:13:32.061Z"
   },
   {
    "duration": 983,
    "start_time": "2025-04-19T01:13:32.065Z"
   },
   {
    "duration": 18,
    "start_time": "2025-04-19T01:13:33.049Z"
   },
   {
    "duration": 187,
    "start_time": "2025-04-19T01:13:33.068Z"
   },
   {
    "duration": 106,
    "start_time": "2025-04-19T01:13:33.258Z"
   },
   {
    "duration": 24,
    "start_time": "2025-04-19T01:13:33.365Z"
   },
   {
    "duration": 236,
    "start_time": "2025-04-19T01:13:33.391Z"
   },
   {
    "duration": 451,
    "start_time": "2025-04-19T01:13:33.629Z"
   },
   {
    "duration": 98,
    "start_time": "2025-04-19T01:13:34.081Z"
   },
   {
    "duration": 32,
    "start_time": "2025-04-19T01:13:34.181Z"
   },
   {
    "duration": 47,
    "start_time": "2025-04-19T01:13:34.215Z"
   },
   {
    "duration": 1835,
    "start_time": "2025-04-19T01:13:34.264Z"
   },
   {
    "duration": 14,
    "start_time": "2025-04-19T01:13:36.101Z"
   },
   {
    "duration": 175,
    "start_time": "2025-04-19T01:13:36.116Z"
   },
   {
    "duration": 30,
    "start_time": "2025-04-19T01:13:36.293Z"
   },
   {
    "duration": 36,
    "start_time": "2025-04-19T01:13:36.336Z"
   },
   {
    "duration": 1727,
    "start_time": "2025-04-19T01:13:36.374Z"
   },
   {
    "duration": 15,
    "start_time": "2025-04-19T01:13:38.102Z"
   },
   {
    "duration": 54,
    "start_time": "2025-04-19T01:13:38.118Z"
   },
   {
    "duration": 1656,
    "start_time": "2025-04-19T01:13:38.173Z"
   },
   {
    "duration": 23,
    "start_time": "2025-04-19T01:13:39.831Z"
   },
   {
    "duration": 1581,
    "start_time": "2025-04-19T01:13:39.856Z"
   },
   {
    "duration": 63,
    "start_time": "2025-04-19T01:13:41.441Z"
   },
   {
    "duration": 123,
    "start_time": "2025-04-19T01:13:41.506Z"
   },
   {
    "duration": 57,
    "start_time": "2025-04-19T01:13:41.630Z"
   },
   {
    "duration": 279,
    "start_time": "2025-04-19T01:13:41.689Z"
   },
   {
    "duration": 173,
    "start_time": "2025-04-19T01:13:41.970Z"
   },
   {
    "duration": 27,
    "start_time": "2025-04-19T01:13:42.144Z"
   },
   {
    "duration": 319,
    "start_time": "2025-04-19T01:13:42.173Z"
   },
   {
    "duration": 54,
    "start_time": "2025-04-19T01:13:42.494Z"
   },
   {
    "duration": 47,
    "start_time": "2025-04-19T01:13:42.550Z"
   },
   {
    "duration": 4,
    "start_time": "2025-04-19T01:13:42.599Z"
   },
   {
    "duration": 4218,
    "start_time": "2025-04-19T01:13:42.605Z"
   },
   {
    "duration": 69,
    "start_time": "2025-04-19T01:13:46.825Z"
   },
   {
    "duration": 58,
    "start_time": "2025-04-19T01:13:46.896Z"
   },
   {
    "duration": 7,
    "start_time": "2025-04-19T01:13:46.956Z"
   },
   {
    "duration": 4075,
    "start_time": "2025-04-19T01:13:46.964Z"
   },
   {
    "duration": 30757,
    "start_time": "2025-04-19T01:13:51.041Z"
   },
   {
    "duration": 275411,
    "start_time": "2025-04-19T01:14:21.799Z"
   },
   {
    "duration": 180237,
    "start_time": "2025-04-19T01:18:57.211Z"
   },
   {
    "duration": 3,
    "start_time": "2025-04-19T01:30:39.295Z"
   },
   {
    "duration": 114,
    "start_time": "2025-04-19T01:32:23.426Z"
   },
   {
    "duration": 92,
    "start_time": "2025-04-19T01:33:19.809Z"
   },
   {
    "duration": 318,
    "start_time": "2025-04-19T01:34:04.933Z"
   },
   {
    "duration": 779,
    "start_time": "2025-04-19T01:34:55.460Z"
   },
   {
    "duration": 2479,
    "start_time": "2025-04-19T01:36:37.944Z"
   },
   {
    "duration": 2445,
    "start_time": "2025-04-19T01:36:40.425Z"
   },
   {
    "duration": 2445,
    "start_time": "2025-04-19T01:36:42.872Z"
   },
   {
    "duration": 2454,
    "start_time": "2025-04-19T01:36:45.319Z"
   },
   {
    "duration": 1410,
    "start_time": "2025-04-19T01:36:47.775Z"
   },
   {
    "duration": 3,
    "start_time": "2025-04-19T01:36:49.187Z"
   },
   {
    "duration": 915,
    "start_time": "2025-04-19T01:36:49.191Z"
   },
   {
    "duration": 17,
    "start_time": "2025-04-19T01:36:50.107Z"
   },
   {
    "duration": 208,
    "start_time": "2025-04-19T01:36:50.126Z"
   },
   {
    "duration": 105,
    "start_time": "2025-04-19T01:36:50.336Z"
   },
   {
    "duration": 23,
    "start_time": "2025-04-19T01:36:50.443Z"
   },
   {
    "duration": 225,
    "start_time": "2025-04-19T01:36:50.468Z"
   },
   {
    "duration": 441,
    "start_time": "2025-04-19T01:36:50.695Z"
   },
   {
    "duration": 96,
    "start_time": "2025-04-19T01:36:51.140Z"
   },
   {
    "duration": 32,
    "start_time": "2025-04-19T01:36:51.238Z"
   },
   {
    "duration": 35,
    "start_time": "2025-04-19T01:36:51.272Z"
   },
   {
    "duration": 1885,
    "start_time": "2025-04-19T01:36:51.308Z"
   },
   {
    "duration": 15,
    "start_time": "2025-04-19T01:36:53.195Z"
   },
   {
    "duration": 134,
    "start_time": "2025-04-19T01:36:53.212Z"
   },
   {
    "duration": 31,
    "start_time": "2025-04-19T01:36:53.348Z"
   },
   {
    "duration": 23,
    "start_time": "2025-04-19T01:36:53.380Z"
   },
   {
    "duration": 1735,
    "start_time": "2025-04-19T01:36:53.405Z"
   },
   {
    "duration": 16,
    "start_time": "2025-04-19T01:36:55.141Z"
   },
   {
    "duration": 26,
    "start_time": "2025-04-19T01:36:55.158Z"
   },
   {
    "duration": 1609,
    "start_time": "2025-04-19T01:36:55.186Z"
   },
   {
    "duration": 20,
    "start_time": "2025-04-19T01:36:56.797Z"
   },
   {
    "duration": 1506,
    "start_time": "2025-04-19T01:36:56.819Z"
   },
   {
    "duration": 62,
    "start_time": "2025-04-19T01:36:58.327Z"
   },
   {
    "duration": 126,
    "start_time": "2025-04-19T01:36:58.390Z"
   },
   {
    "duration": 51,
    "start_time": "2025-04-19T01:36:58.517Z"
   },
   {
    "duration": 257,
    "start_time": "2025-04-19T01:36:58.570Z"
   },
   {
    "duration": 151,
    "start_time": "2025-04-19T01:36:58.829Z"
   },
   {
    "duration": 56,
    "start_time": "2025-04-19T01:36:58.982Z"
   },
   {
    "duration": 256,
    "start_time": "2025-04-19T01:36:59.040Z"
   },
   {
    "duration": 50,
    "start_time": "2025-04-19T01:36:59.298Z"
   },
   {
    "duration": 45,
    "start_time": "2025-04-19T01:36:59.350Z"
   },
   {
    "duration": 4,
    "start_time": "2025-04-19T01:36:59.396Z"
   },
   {
    "duration": 4129,
    "start_time": "2025-04-19T01:36:59.401Z"
   },
   {
    "duration": 63,
    "start_time": "2025-04-19T01:37:03.532Z"
   },
   {
    "duration": 3,
    "start_time": "2025-04-19T01:37:03.597Z"
   },
   {
    "duration": 6,
    "start_time": "2025-04-19T01:37:03.605Z"
   },
   {
    "duration": 4038,
    "start_time": "2025-04-19T01:37:03.612Z"
   },
   {
    "duration": 29667,
    "start_time": "2025-04-19T01:37:07.737Z"
   },
   {
    "duration": 275890,
    "start_time": "2025-04-19T01:37:37.406Z"
   },
   {
    "duration": 181945,
    "start_time": "2025-04-19T01:42:13.297Z"
   },
   {
    "duration": 3,
    "start_time": "2025-04-19T01:45:15.244Z"
   },
   {
    "duration": 190,
    "start_time": "2025-04-19T01:45:15.249Z"
   },
   {
    "duration": 176,
    "start_time": "2025-04-19T01:45:15.441Z"
   },
   {
    "duration": 324,
    "start_time": "2025-04-19T01:45:15.619Z"
   },
   {
    "duration": 793,
    "start_time": "2025-04-19T01:45:15.945Z"
   },
   {
    "duration": 84,
    "start_time": "2025-04-19T01:46:05.794Z"
   },
   {
    "duration": 93,
    "start_time": "2025-04-19T01:46:09.248Z"
   },
   {
    "duration": 318,
    "start_time": "2025-04-19T01:46:30.142Z"
   },
   {
    "duration": 748,
    "start_time": "2025-04-19T01:46:31.703Z"
   },
   {
    "duration": 2441,
    "start_time": "2025-04-19T02:00:55.137Z"
   },
   {
    "duration": 2521,
    "start_time": "2025-04-19T02:00:57.581Z"
   },
   {
    "duration": 2407,
    "start_time": "2025-04-19T02:01:00.104Z"
   },
   {
    "duration": 2413,
    "start_time": "2025-04-19T02:01:02.514Z"
   },
   {
    "duration": 1442,
    "start_time": "2025-04-19T02:01:04.929Z"
   },
   {
    "duration": 3,
    "start_time": "2025-04-19T02:01:06.372Z"
   },
   {
    "duration": 933,
    "start_time": "2025-04-19T02:01:06.377Z"
   },
   {
    "duration": 26,
    "start_time": "2025-04-19T02:01:07.311Z"
   },
   {
    "duration": 152,
    "start_time": "2025-04-19T02:01:07.339Z"
   },
   {
    "duration": 160,
    "start_time": "2025-04-19T02:01:07.494Z"
   },
   {
    "duration": 19,
    "start_time": "2025-04-19T02:01:07.656Z"
   },
   {
    "duration": 227,
    "start_time": "2025-04-19T02:01:07.677Z"
   },
   {
    "duration": 447,
    "start_time": "2025-04-19T02:01:07.906Z"
   },
   {
    "duration": 99,
    "start_time": "2025-04-19T02:01:08.355Z"
   },
   {
    "duration": 32,
    "start_time": "2025-04-19T02:01:08.456Z"
   },
   {
    "duration": 64,
    "start_time": "2025-04-19T02:01:08.489Z"
   },
   {
    "duration": 1868,
    "start_time": "2025-04-19T02:01:08.554Z"
   },
   {
    "duration": 20,
    "start_time": "2025-04-19T02:01:10.424Z"
   },
   {
    "duration": 192,
    "start_time": "2025-04-19T02:01:10.445Z"
   },
   {
    "duration": 31,
    "start_time": "2025-04-19T02:01:10.639Z"
   },
   {
    "duration": 31,
    "start_time": "2025-04-19T02:01:10.672Z"
   },
   {
    "duration": 1722,
    "start_time": "2025-04-19T02:01:10.705Z"
   },
   {
    "duration": 20,
    "start_time": "2025-04-19T02:01:12.429Z"
   },
   {
    "duration": 88,
    "start_time": "2025-04-19T02:01:12.451Z"
   },
   {
    "duration": 1539,
    "start_time": "2025-04-19T02:01:12.541Z"
   },
   {
    "duration": 24,
    "start_time": "2025-04-19T02:01:14.082Z"
   },
   {
    "duration": 1653,
    "start_time": "2025-04-19T02:01:14.108Z"
   },
   {
    "duration": 62,
    "start_time": "2025-04-19T02:01:15.765Z"
   },
   {
    "duration": 123,
    "start_time": "2025-04-19T02:01:15.828Z"
   },
   {
    "duration": 52,
    "start_time": "2025-04-19T02:01:15.953Z"
   },
   {
    "duration": 273,
    "start_time": "2025-04-19T02:01:16.007Z"
   },
   {
    "duration": 171,
    "start_time": "2025-04-19T02:01:16.282Z"
   },
   {
    "duration": 27,
    "start_time": "2025-04-19T02:01:16.455Z"
   },
   {
    "duration": 284,
    "start_time": "2025-04-19T02:01:16.484Z"
   },
   {
    "duration": 46,
    "start_time": "2025-04-19T02:01:16.770Z"
   },
   {
    "duration": 52,
    "start_time": "2025-04-19T02:01:16.818Z"
   },
   {
    "duration": 3,
    "start_time": "2025-04-19T02:01:16.872Z"
   },
   {
    "duration": 4255,
    "start_time": "2025-04-19T02:01:16.877Z"
   },
   {
    "duration": 66,
    "start_time": "2025-04-19T02:01:21.133Z"
   },
   {
    "duration": 3,
    "start_time": "2025-04-19T02:01:21.201Z"
   },
   {
    "duration": 28,
    "start_time": "2025-04-19T02:01:21.205Z"
   },
   {
    "duration": 4002,
    "start_time": "2025-04-19T02:01:21.236Z"
   },
   {
    "duration": 29403,
    "start_time": "2025-04-19T02:01:25.240Z"
   },
   {
    "duration": 279695,
    "start_time": "2025-04-19T02:01:54.645Z"
   },
   {
    "duration": 177704,
    "start_time": "2025-04-19T02:06:34.342Z"
   },
   {
    "duration": 2,
    "start_time": "2025-04-19T02:09:32.048Z"
   },
   {
    "duration": 185,
    "start_time": "2025-04-19T02:09:32.052Z"
   },
   {
    "duration": 182,
    "start_time": "2025-04-19T02:09:32.240Z"
   },
   {
    "duration": 313,
    "start_time": "2025-04-19T02:09:32.437Z"
   },
   {
    "duration": 790,
    "start_time": "2025-04-19T02:09:32.752Z"
   },
   {
    "duration": 2868,
    "start_time": "2025-04-19T22:40:19.694Z"
   },
   {
    "duration": 2542,
    "start_time": "2025-04-19T22:40:22.565Z"
   },
   {
    "duration": 3196,
    "start_time": "2025-04-19T22:40:25.109Z"
   },
   {
    "duration": 6996,
    "start_time": "2025-04-19T22:40:28.308Z"
   },
   {
    "duration": 1717,
    "start_time": "2025-04-19T22:40:35.307Z"
   },
   {
    "duration": 2,
    "start_time": "2025-04-19T22:40:37.026Z"
   },
   {
    "duration": 1012,
    "start_time": "2025-04-19T22:40:37.030Z"
   },
   {
    "duration": 18,
    "start_time": "2025-04-19T22:40:38.044Z"
   },
   {
    "duration": 198,
    "start_time": "2025-04-19T22:40:38.064Z"
   },
   {
    "duration": 112,
    "start_time": "2025-04-19T22:40:38.268Z"
   },
   {
    "duration": 33,
    "start_time": "2025-04-19T22:40:38.381Z"
   },
   {
    "duration": 236,
    "start_time": "2025-04-19T22:40:38.416Z"
   },
   {
    "duration": 457,
    "start_time": "2025-04-19T22:40:38.654Z"
   },
   {
    "duration": 102,
    "start_time": "2025-04-19T22:40:39.113Z"
   },
   {
    "duration": 31,
    "start_time": "2025-04-19T22:40:39.216Z"
   },
   {
    "duration": 36,
    "start_time": "2025-04-19T22:40:39.248Z"
   },
   {
    "duration": 1914,
    "start_time": "2025-04-19T22:40:39.286Z"
   },
   {
    "duration": 18,
    "start_time": "2025-04-19T22:40:41.202Z"
   },
   {
    "duration": 147,
    "start_time": "2025-04-19T22:40:41.222Z"
   },
   {
    "duration": 39,
    "start_time": "2025-04-19T22:40:41.371Z"
   },
   {
    "duration": 24,
    "start_time": "2025-04-19T22:40:41.412Z"
   },
   {
    "duration": 1766,
    "start_time": "2025-04-19T22:40:41.438Z"
   },
   {
    "duration": 14,
    "start_time": "2025-04-19T22:40:43.206Z"
   },
   {
    "duration": 21,
    "start_time": "2025-04-19T22:40:43.222Z"
   },
   {
    "duration": 1652,
    "start_time": "2025-04-19T22:40:43.245Z"
   },
   {
    "duration": 21,
    "start_time": "2025-04-19T22:40:44.899Z"
   },
   {
    "duration": 1651,
    "start_time": "2025-04-19T22:40:44.922Z"
   },
   {
    "duration": 63,
    "start_time": "2025-04-19T22:40:46.576Z"
   },
   {
    "duration": 119,
    "start_time": "2025-04-19T22:40:46.641Z"
   },
   {
    "duration": 54,
    "start_time": "2025-04-19T22:40:46.761Z"
   },
   {
    "duration": 269,
    "start_time": "2025-04-19T22:40:46.817Z"
   },
   {
    "duration": 174,
    "start_time": "2025-04-19T22:40:47.087Z"
   },
   {
    "duration": 27,
    "start_time": "2025-04-19T22:40:47.263Z"
   },
   {
    "duration": 285,
    "start_time": "2025-04-19T22:40:47.293Z"
   },
   {
    "duration": 52,
    "start_time": "2025-04-19T22:40:47.580Z"
   },
   {
    "duration": 71,
    "start_time": "2025-04-19T22:40:47.634Z"
   },
   {
    "duration": 113,
    "start_time": "2025-04-19T22:40:47.707Z"
   },
   {
    "duration": 4321,
    "start_time": "2025-04-19T22:40:47.822Z"
   },
   {
    "duration": 75,
    "start_time": "2025-04-19T22:40:52.145Z"
   },
   {
    "duration": 18,
    "start_time": "2025-04-19T22:40:52.222Z"
   },
   {
    "duration": 5,
    "start_time": "2025-04-19T22:40:52.242Z"
   },
   {
    "duration": 3975,
    "start_time": "2025-04-19T22:40:52.250Z"
   },
   {
    "duration": 44,
    "start_time": "2025-04-19T22:42:55.466Z"
   },
   {
    "duration": 4948,
    "start_time": "2025-04-19T22:43:00.956Z"
   },
   {
    "duration": 77,
    "start_time": "2025-04-19T22:43:26.122Z"
   },
   {
    "duration": 63,
    "start_time": "2025-04-19T22:43:43.632Z"
   },
   {
    "duration": 5,
    "start_time": "2025-04-19T22:45:09.110Z"
   },
   {
    "duration": 6,
    "start_time": "2025-04-19T22:45:23.867Z"
   },
   {
    "duration": 4566,
    "start_time": "2025-04-19T22:46:24.759Z"
   },
   {
    "duration": 33298,
    "start_time": "2025-04-19T22:48:53.450Z"
   },
   {
    "duration": 18193,
    "start_time": "2025-04-19T22:51:30.802Z"
   },
   {
    "duration": 3,
    "start_time": "2025-04-19T22:56:45.876Z"
   },
   {
    "duration": 5,
    "start_time": "2025-04-19T22:56:49.036Z"
   },
   {
    "duration": 2523,
    "start_time": "2025-04-19T22:58:00.403Z"
   },
   {
    "duration": 2618,
    "start_time": "2025-04-19T22:58:02.928Z"
   },
   {
    "duration": 2583,
    "start_time": "2025-04-19T22:58:05.549Z"
   },
   {
    "duration": 2501,
    "start_time": "2025-04-19T22:58:08.136Z"
   },
   {
    "duration": 1425,
    "start_time": "2025-04-19T22:58:10.640Z"
   },
   {
    "duration": 2,
    "start_time": "2025-04-19T22:58:12.067Z"
   },
   {
    "duration": 940,
    "start_time": "2025-04-19T22:58:12.071Z"
   },
   {
    "duration": 17,
    "start_time": "2025-04-19T22:58:13.013Z"
   },
   {
    "duration": 176,
    "start_time": "2025-04-19T22:58:13.032Z"
   },
   {
    "duration": 115,
    "start_time": "2025-04-19T22:58:13.211Z"
   },
   {
    "duration": 26,
    "start_time": "2025-04-19T22:58:13.328Z"
   },
   {
    "duration": 240,
    "start_time": "2025-04-19T22:58:13.355Z"
   },
   {
    "duration": 445,
    "start_time": "2025-04-19T22:58:13.597Z"
   },
   {
    "duration": 95,
    "start_time": "2025-04-19T22:58:14.044Z"
   },
   {
    "duration": 30,
    "start_time": "2025-04-19T22:58:14.141Z"
   },
   {
    "duration": 48,
    "start_time": "2025-04-19T22:58:14.172Z"
   },
   {
    "duration": 1978,
    "start_time": "2025-04-19T22:58:14.221Z"
   },
   {
    "duration": 15,
    "start_time": "2025-04-19T22:58:16.203Z"
   },
   {
    "duration": 132,
    "start_time": "2025-04-19T22:58:16.220Z"
   },
   {
    "duration": 31,
    "start_time": "2025-04-19T22:58:16.354Z"
   },
   {
    "duration": 37,
    "start_time": "2025-04-19T22:58:16.387Z"
   },
   {
    "duration": 2604,
    "start_time": "2025-04-19T22:58:32.505Z"
   },
   {
    "duration": 2553,
    "start_time": "2025-04-19T22:58:35.112Z"
   },
   {
    "duration": 2525,
    "start_time": "2025-04-19T22:58:37.667Z"
   },
   {
    "duration": 2513,
    "start_time": "2025-04-19T22:58:40.195Z"
   },
   {
    "duration": 1493,
    "start_time": "2025-04-19T22:58:42.712Z"
   },
   {
    "duration": 2,
    "start_time": "2025-04-19T22:58:44.207Z"
   },
   {
    "duration": 1069,
    "start_time": "2025-04-19T22:58:44.211Z"
   },
   {
    "duration": 27,
    "start_time": "2025-04-19T22:58:45.282Z"
   },
   {
    "duration": 174,
    "start_time": "2025-04-19T22:58:45.310Z"
   },
   {
    "duration": 125,
    "start_time": "2025-04-19T22:58:45.486Z"
   },
   {
    "duration": 27,
    "start_time": "2025-04-19T22:58:45.614Z"
   },
   {
    "duration": 253,
    "start_time": "2025-04-19T22:58:45.643Z"
   },
   {
    "duration": 455,
    "start_time": "2025-04-19T22:58:45.903Z"
   },
   {
    "duration": 95,
    "start_time": "2025-04-19T22:58:46.361Z"
   },
   {
    "duration": 50,
    "start_time": "2025-04-19T22:58:46.458Z"
   },
   {
    "duration": 37,
    "start_time": "2025-04-19T22:58:46.510Z"
   },
   {
    "duration": 2026,
    "start_time": "2025-04-19T22:58:46.549Z"
   },
   {
    "duration": 15,
    "start_time": "2025-04-19T22:58:48.576Z"
   },
   {
    "duration": 158,
    "start_time": "2025-04-19T22:58:48.604Z"
   },
   {
    "duration": 42,
    "start_time": "2025-04-19T22:58:48.764Z"
   },
   {
    "duration": 31,
    "start_time": "2025-04-19T22:58:48.808Z"
   },
   {
    "duration": 1770,
    "start_time": "2025-04-19T22:58:48.841Z"
   },
   {
    "duration": 16,
    "start_time": "2025-04-19T22:58:50.613Z"
   },
   {
    "duration": 41,
    "start_time": "2025-04-19T22:58:50.631Z"
   },
   {
    "duration": 1635,
    "start_time": "2025-04-19T22:58:50.674Z"
   },
   {
    "duration": 22,
    "start_time": "2025-04-19T22:58:52.311Z"
   },
   {
    "duration": 1674,
    "start_time": "2025-04-19T22:58:52.335Z"
   },
   {
    "duration": 65,
    "start_time": "2025-04-19T22:58:54.010Z"
   },
   {
    "duration": 132,
    "start_time": "2025-04-19T22:58:54.077Z"
   },
   {
    "duration": 52,
    "start_time": "2025-04-19T22:58:54.211Z"
   },
   {
    "duration": 327,
    "start_time": "2025-04-19T22:58:54.265Z"
   },
   {
    "duration": 156,
    "start_time": "2025-04-19T22:58:54.595Z"
   },
   {
    "duration": 28,
    "start_time": "2025-04-19T22:58:54.753Z"
   },
   {
    "duration": 263,
    "start_time": "2025-04-19T22:58:54.782Z"
   },
   {
    "duration": 42,
    "start_time": "2025-04-19T22:58:55.047Z"
   },
   {
    "duration": 53,
    "start_time": "2025-04-19T22:58:55.091Z"
   },
   {
    "duration": 4,
    "start_time": "2025-04-19T22:58:55.146Z"
   },
   {
    "duration": 4383,
    "start_time": "2025-04-19T22:58:55.151Z"
   },
   {
    "duration": 78,
    "start_time": "2025-04-19T22:58:59.536Z"
   },
   {
    "duration": 3,
    "start_time": "2025-04-19T22:58:59.616Z"
   },
   {
    "duration": 5,
    "start_time": "2025-04-19T22:58:59.622Z"
   },
   {
    "duration": 4489,
    "start_time": "2025-04-19T22:59:08.516Z"
   },
   {
    "duration": 33141,
    "start_time": "2025-04-19T22:59:16.979Z"
   },
   {
    "duration": 124,
    "start_time": "2025-04-19T23:00:10.407Z"
   },
   {
    "duration": 45,
    "start_time": "2025-04-19T23:00:33.585Z"
   },
   {
    "duration": 18,
    "start_time": "2025-04-19T23:00:38.386Z"
   },
   {
    "duration": 991975,
    "start_time": "2025-04-19T23:00:51.837Z"
   },
   {
    "duration": 196045,
    "start_time": "2025-04-19T23:27:38.663Z"
   },
   {
    "duration": 4514,
    "start_time": "2025-04-20T00:25:36.311Z"
   },
   {
    "duration": 2496,
    "start_time": "2025-04-20T00:26:27.360Z"
   },
   {
    "duration": 2475,
    "start_time": "2025-04-20T00:26:29.859Z"
   },
   {
    "duration": 2542,
    "start_time": "2025-04-20T00:26:32.337Z"
   },
   {
    "duration": 2487,
    "start_time": "2025-04-20T00:26:34.882Z"
   },
   {
    "duration": 1498,
    "start_time": "2025-04-20T00:26:37.372Z"
   },
   {
    "duration": 3,
    "start_time": "2025-04-20T00:26:38.871Z"
   },
   {
    "duration": 957,
    "start_time": "2025-04-20T00:26:38.875Z"
   },
   {
    "duration": 18,
    "start_time": "2025-04-20T00:26:39.834Z"
   },
   {
    "duration": 176,
    "start_time": "2025-04-20T00:26:39.853Z"
   },
   {
    "duration": 120,
    "start_time": "2025-04-20T00:26:40.032Z"
   },
   {
    "duration": 25,
    "start_time": "2025-04-20T00:26:40.154Z"
   },
   {
    "duration": 253,
    "start_time": "2025-04-20T00:26:40.181Z"
   },
   {
    "duration": 448,
    "start_time": "2025-04-20T00:26:40.436Z"
   },
   {
    "duration": 93,
    "start_time": "2025-04-20T00:26:40.886Z"
   },
   {
    "duration": 43,
    "start_time": "2025-04-20T00:26:40.981Z"
   },
   {
    "duration": 38,
    "start_time": "2025-04-20T00:26:41.026Z"
   },
   {
    "duration": 1922,
    "start_time": "2025-04-20T00:26:41.066Z"
   },
   {
    "duration": 22,
    "start_time": "2025-04-20T00:26:42.990Z"
   },
   {
    "duration": 124,
    "start_time": "2025-04-20T00:26:43.014Z"
   },
   {
    "duration": 32,
    "start_time": "2025-04-20T00:26:43.140Z"
   },
   {
    "duration": 42,
    "start_time": "2025-04-20T00:26:43.174Z"
   },
   {
    "duration": 1801,
    "start_time": "2025-04-20T00:26:43.218Z"
   },
   {
    "duration": 16,
    "start_time": "2025-04-20T00:26:45.021Z"
   },
   {
    "duration": 61,
    "start_time": "2025-04-20T00:26:45.038Z"
   },
   {
    "duration": 1718,
    "start_time": "2025-04-20T00:26:45.100Z"
   },
   {
    "duration": 20,
    "start_time": "2025-04-20T00:26:46.820Z"
   },
   {
    "duration": 1707,
    "start_time": "2025-04-20T00:26:46.842Z"
   },
   {
    "duration": 66,
    "start_time": "2025-04-20T00:26:48.552Z"
   },
   {
    "duration": 266,
    "start_time": "2025-04-20T00:26:48.619Z"
   },
   {
    "duration": 57,
    "start_time": "2025-04-20T00:26:48.887Z"
   },
   {
    "duration": 279,
    "start_time": "2025-04-20T00:26:48.946Z"
   },
   {
    "duration": 183,
    "start_time": "2025-04-20T00:26:49.226Z"
   },
   {
    "duration": 28,
    "start_time": "2025-04-20T00:26:49.411Z"
   },
   {
    "duration": 274,
    "start_time": "2025-04-20T00:26:49.441Z"
   },
   {
    "duration": 46,
    "start_time": "2025-04-20T00:26:49.717Z"
   },
   {
    "duration": 58,
    "start_time": "2025-04-20T00:26:49.765Z"
   },
   {
    "duration": 9,
    "start_time": "2025-04-20T00:26:49.825Z"
   },
   {
    "duration": 4294,
    "start_time": "2025-04-20T00:26:49.835Z"
   },
   {
    "duration": 78,
    "start_time": "2025-04-20T00:26:54.131Z"
   },
   {
    "duration": 4,
    "start_time": "2025-04-20T00:26:54.211Z"
   },
   {
    "duration": 5,
    "start_time": "2025-04-20T00:26:54.217Z"
   },
   {
    "duration": 4684,
    "start_time": "2025-04-20T00:26:54.224Z"
   },
   {
    "duration": 33687,
    "start_time": "2025-04-20T00:26:58.911Z"
   },
   {
    "duration": 988124,
    "start_time": "2025-04-20T00:27:32.604Z"
   },
   {
    "duration": 203776,
    "start_time": "2025-04-20T00:44:00.730Z"
   },
   {
    "duration": 69,
    "start_time": "2025-04-20T00:47:24.509Z"
   },
   {
    "duration": 4664,
    "start_time": "2025-04-20T00:48:14.253Z"
   },
   {
    "duration": 4322,
    "start_time": "2025-04-20T00:48:24.788Z"
   },
   {
    "duration": 4323,
    "start_time": "2025-04-20T00:48:39.389Z"
   },
   {
    "duration": 3,
    "start_time": "2025-04-20T00:59:37.469Z"
   },
   {
    "duration": 2,
    "start_time": "2025-04-20T00:59:54.971Z"
   },
   {
    "duration": 96,
    "start_time": "2025-04-20T01:00:49.932Z"
   },
   {
    "duration": 2555,
    "start_time": "2025-04-20T01:04:22.290Z"
   },
   {
    "duration": 2546,
    "start_time": "2025-04-20T01:04:24.847Z"
   },
   {
    "duration": 2552,
    "start_time": "2025-04-20T01:04:27.395Z"
   },
   {
    "duration": 2531,
    "start_time": "2025-04-20T01:04:29.950Z"
   },
   {
    "duration": 1512,
    "start_time": "2025-04-20T01:04:32.484Z"
   },
   {
    "duration": 2,
    "start_time": "2025-04-20T01:04:33.998Z"
   },
   {
    "duration": 989,
    "start_time": "2025-04-20T01:04:34.002Z"
   },
   {
    "duration": 25,
    "start_time": "2025-04-20T01:04:34.993Z"
   },
   {
    "duration": 154,
    "start_time": "2025-04-20T01:04:35.020Z"
   },
   {
    "duration": 160,
    "start_time": "2025-04-20T01:04:35.177Z"
   },
   {
    "duration": 21,
    "start_time": "2025-04-20T01:04:35.339Z"
   },
   {
    "duration": 246,
    "start_time": "2025-04-20T01:04:35.362Z"
   },
   {
    "duration": 473,
    "start_time": "2025-04-20T01:04:35.610Z"
   },
   {
    "duration": 94,
    "start_time": "2025-04-20T01:04:36.084Z"
   },
   {
    "duration": 41,
    "start_time": "2025-04-20T01:04:36.179Z"
   },
   {
    "duration": 164,
    "start_time": "2025-04-20T01:04:36.222Z"
   },
   {
    "duration": 2000,
    "start_time": "2025-04-20T01:04:36.388Z"
   },
   {
    "duration": 18,
    "start_time": "2025-04-20T01:04:38.390Z"
   },
   {
    "duration": 130,
    "start_time": "2025-04-20T01:04:38.410Z"
   },
   {
    "duration": 30,
    "start_time": "2025-04-20T01:04:38.542Z"
   },
   {
    "duration": 41,
    "start_time": "2025-04-20T01:04:38.574Z"
   },
   {
    "duration": 1762,
    "start_time": "2025-04-20T01:04:38.617Z"
   },
   {
    "duration": 24,
    "start_time": "2025-04-20T01:04:40.381Z"
   },
   {
    "duration": 27,
    "start_time": "2025-04-20T01:04:40.406Z"
   },
   {
    "duration": 1667,
    "start_time": "2025-04-20T01:04:40.434Z"
   },
   {
    "duration": 25,
    "start_time": "2025-04-20T01:04:42.104Z"
   },
   {
    "duration": 1633,
    "start_time": "2025-04-20T01:04:42.131Z"
   },
   {
    "duration": 63,
    "start_time": "2025-04-20T01:04:43.767Z"
   },
   {
    "duration": 120,
    "start_time": "2025-04-20T01:04:43.832Z"
   },
   {
    "duration": 59,
    "start_time": "2025-04-20T01:04:43.954Z"
   },
   {
    "duration": 275,
    "start_time": "2025-04-20T01:04:44.015Z"
   },
   {
    "duration": 176,
    "start_time": "2025-04-20T01:04:44.292Z"
   },
   {
    "duration": 35,
    "start_time": "2025-04-20T01:04:44.470Z"
   },
   {
    "duration": 262,
    "start_time": "2025-04-20T01:04:44.506Z"
   },
   {
    "duration": 54,
    "start_time": "2025-04-20T01:04:44.769Z"
   },
   {
    "duration": 45,
    "start_time": "2025-04-20T01:04:44.824Z"
   },
   {
    "duration": 73,
    "start_time": "2025-04-20T01:04:44.871Z"
   },
   {
    "duration": 4349,
    "start_time": "2025-04-20T01:04:44.946Z"
   },
   {
    "duration": 68,
    "start_time": "2025-04-20T01:04:49.296Z"
   },
   {
    "duration": 3,
    "start_time": "2025-04-20T01:04:49.365Z"
   },
   {
    "duration": 18,
    "start_time": "2025-04-20T01:04:49.370Z"
   },
   {
    "duration": 4522,
    "start_time": "2025-04-20T01:04:49.389Z"
   },
   {
    "duration": 33787,
    "start_time": "2025-04-20T01:04:54.009Z"
   },
   {
    "duration": 981548,
    "start_time": "2025-04-20T01:05:27.803Z"
   },
   {
    "duration": 200667,
    "start_time": "2025-04-20T01:21:49.352Z"
   },
   {
    "duration": 3,
    "start_time": "2025-04-20T01:25:10.022Z"
   },
   {
    "duration": 147,
    "start_time": "2025-04-20T01:25:10.027Z"
   }
  ],
  "kernelspec": {
   "display_name": "Python 3 (ipykernel)",
   "language": "python",
   "name": "python3"
  },
  "language_info": {
   "codemirror_mode": {
    "name": "ipython",
    "version": 3
   },
   "file_extension": ".py",
   "mimetype": "text/x-python",
   "name": "python",
   "nbconvert_exporter": "python",
   "pygments_lexer": "ipython3",
   "version": "3.9.5"
  },
  "toc": {
   "base_numbering": 1,
   "nav_menu": {},
   "number_sections": true,
   "sideBar": true,
   "skip_h1_title": true,
   "title_cell": "Table of Contents",
   "title_sidebar": "Contents",
   "toc_cell": false,
   "toc_position": {
    "height": "calc(100% - 180px)",
    "left": "10px",
    "top": "150px",
    "width": "349.5px"
   },
   "toc_section_display": true,
   "toc_window_display": true
  }
 },
 "nbformat": 4,
 "nbformat_minor": 2
}
